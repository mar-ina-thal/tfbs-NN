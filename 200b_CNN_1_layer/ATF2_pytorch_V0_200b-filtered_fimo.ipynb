{
 "cells": [
  {
   "cell_type": "markdown",
   "id": "520fbfff",
   "metadata": {},
   "source": [
    "# Imports and functions"
   ]
  },
  {
   "cell_type": "code",
   "execution_count": 1,
   "id": "05d85633",
   "metadata": {},
   "outputs": [
    {
     "name": "stderr",
     "output_type": "stream",
     "text": [
      "2024-01-19 14:52:34.477345: I tensorflow/core/util/port.cc:113] oneDNN custom operations are on. You may see slightly different numerical results due to floating-point round-off errors from different computation orders. To turn them off, set the environment variable `TF_ENABLE_ONEDNN_OPTS=0`.\n",
      "2024-01-19 14:52:34.552078: E external/local_xla/xla/stream_executor/cuda/cuda_dnn.cc:9261] Unable to register cuDNN factory: Attempting to register factory for plugin cuDNN when one has already been registered\n",
      "2024-01-19 14:52:34.552114: E external/local_xla/xla/stream_executor/cuda/cuda_fft.cc:607] Unable to register cuFFT factory: Attempting to register factory for plugin cuFFT when one has already been registered\n",
      "2024-01-19 14:52:34.553922: E external/local_xla/xla/stream_executor/cuda/cuda_blas.cc:1515] Unable to register cuBLAS factory: Attempting to register factory for plugin cuBLAS when one has already been registered\n",
      "2024-01-19 14:52:34.564431: I tensorflow/core/platform/cpu_feature_guard.cc:182] This TensorFlow binary is optimized to use available CPU instructions in performance-critical operations.\n",
      "To enable the following instructions: AVX2 AVX512F AVX512_VNNI FMA, in other operations, rebuild TensorFlow with the appropriate compiler flags.\n",
      "2024-01-19 14:52:36.606508: W tensorflow/compiler/tf2tensorrt/utils/py_utils.cc:38] TF-TRT Warning: Could not find TensorRT\n"
     ]
    }
   ],
   "source": [
    "import pandas as pd\n",
    "import numpy as np\n",
    "import os\n",
    "from sklearn.preprocessing import OneHotEncoder\n",
    "from keras.utils import to_categorical\n",
    "from sklearn.metrics import balanced_accuracy_score"
   ]
  },
  {
   "cell_type": "code",
   "execution_count": 2,
   "id": "1389113b",
   "metadata": {},
   "outputs": [],
   "source": [
    "import torchvision\n",
    "import engine\n",
    "import helper_functions"
   ]
  },
  {
   "cell_type": "code",
   "execution_count": 3,
   "id": "3a2e0857",
   "metadata": {},
   "outputs": [],
   "source": [
    "from tqdm.auto import tqdm\n",
    "from typing import Dict, List, Tuple\n",
    "from sklearn.metrics import balanced_accuracy_score, matthews_corrcoef, f1_score\n",
    "from collections import deque  # Import deque for early stopping\n",
    "import warnings\n",
    "\n",
    "# Suppress the specific UserWarning related to y_pred and y_true class mismatch\n",
    "warnings.filterwarnings(\"ignore\", category=UserWarning, message=\"y_pred contains classes not in y_true\")"
   ]
  },
  {
   "cell_type": "code",
   "execution_count": 4,
   "id": "faeaeafc",
   "metadata": {},
   "outputs": [],
   "source": [
    "from sklearn.metrics import balanced_accuracy_score\n",
    "\n",
    "# Function to calculate balanced accuracy using sklearn\n",
    "def balanced_accuracy(y_true, y_pred):\n",
    "    return balanced_accuracy_score(y_true, y_pred) * 100"
   ]
  },
  {
   "cell_type": "code",
   "execution_count": 5,
   "id": "6c000451",
   "metadata": {},
   "outputs": [],
   "source": [
    "# Function to perform one-hot encoding for DNA sequences\n",
    "def one_hot_encode(sequence):\n",
    "    encoding = {'A': [1, 0, 0, 0], 'T': [0, 1, 0, 0], 'G': [0, 0, 1, 0], 'C': [0, 0, 0, 1]}\n",
    "    one_hot_sequence = [encoding.get(base, [0, 0, 0, 0]) for base in sequence]\n",
    "    return np.array(one_hot_sequence)"
   ]
  },
  {
   "cell_type": "markdown",
   "id": "69190e84",
   "metadata": {},
   "source": [
    "# Set up device agnostic code"
   ]
  },
  {
   "cell_type": "code",
   "execution_count": 6,
   "id": "12cee86f",
   "metadata": {},
   "outputs": [
    {
     "data": {
      "text/plain": [
       "'cpu'"
      ]
     },
     "execution_count": 6,
     "metadata": {},
     "output_type": "execute_result"
    }
   ],
   "source": [
    "import torch\n",
    "from torch import nn\n",
    "# Make device agnostic code\n",
    "device = \"cuda\" if torch.cuda.is_available() else \"cpu\"\n",
    "device"
   ]
  },
  {
   "cell_type": "code",
   "execution_count": 7,
   "id": "c9939f1e",
   "metadata": {},
   "outputs": [
    {
     "data": {
      "text/html": [
       "<div>\n",
       "<style scoped>\n",
       "    .dataframe tbody tr th:only-of-type {\n",
       "        vertical-align: middle;\n",
       "    }\n",
       "\n",
       "    .dataframe tbody tr th {\n",
       "        vertical-align: top;\n",
       "    }\n",
       "\n",
       "    .dataframe thead th {\n",
       "        text-align: right;\n",
       "    }\n",
       "</style>\n",
       "<table border=\"1\" class=\"dataframe\">\n",
       "  <thead>\n",
       "    <tr style=\"text-align: right;\">\n",
       "      <th></th>\n",
       "      <th>data</th>\n",
       "      <th>class</th>\n",
       "    </tr>\n",
       "  </thead>\n",
       "  <tbody>\n",
       "    <tr>\n",
       "      <th>0</th>\n",
       "      <td>AGCCTGGAGTGCAGTGGTGCTTTTGTAGCTCACTGGGGCCTCATAC...</td>\n",
       "      <td>0</td>\n",
       "    </tr>\n",
       "    <tr>\n",
       "      <th>1</th>\n",
       "      <td>CTGCACCCAGCCCGTCCACTGTTCTTAGGAAGTTTTCTTCTTTGTG...</td>\n",
       "      <td>0</td>\n",
       "    </tr>\n",
       "    <tr>\n",
       "      <th>2</th>\n",
       "      <td>CTGGCATTGGTCCTTTCTCTGCCTGATGCAGGGGGCCAGGCATGGT...</td>\n",
       "      <td>0</td>\n",
       "    </tr>\n",
       "    <tr>\n",
       "      <th>3</th>\n",
       "      <td>CACAGAGTACCTGTCTGATTCTGATGTTCTATGAAATCCTTTATCT...</td>\n",
       "      <td>0</td>\n",
       "    </tr>\n",
       "    <tr>\n",
       "      <th>4</th>\n",
       "      <td>GTCCAGGGGAAGTGCCTTGGCAGCGTGGAGCAACCCACCTTCCCAT...</td>\n",
       "      <td>0</td>\n",
       "    </tr>\n",
       "    <tr>\n",
       "      <th>...</th>\n",
       "      <td>...</td>\n",
       "      <td>...</td>\n",
       "    </tr>\n",
       "    <tr>\n",
       "      <th>69595</th>\n",
       "      <td>GGAGAGTCACAAGCAAGAGCAAGCTTTTTTAAGAGCCATCATTTAA...</td>\n",
       "      <td>1</td>\n",
       "    </tr>\n",
       "    <tr>\n",
       "      <th>69596</th>\n",
       "      <td>GGAGGAAGGATCCCGCTAGGCTGGTCCCGACTGGAGAAGCTGCTCT...</td>\n",
       "      <td>1</td>\n",
       "    </tr>\n",
       "    <tr>\n",
       "      <th>69597</th>\n",
       "      <td>CCAAGTAGTTAGTCCGCCTGCTCTGTAATGGTTTATCATAGTCATA...</td>\n",
       "      <td>1</td>\n",
       "    </tr>\n",
       "    <tr>\n",
       "      <th>69598</th>\n",
       "      <td>CATTTTACAAGGAAACATGCTGATAAAGTTGGCAGAGATACGTCAT...</td>\n",
       "      <td>1</td>\n",
       "    </tr>\n",
       "    <tr>\n",
       "      <th>69599</th>\n",
       "      <td>ACCTTGCTCATCCCTTCCAGGCTGTGGGCCTGTTTTCCCTGTGCAA...</td>\n",
       "      <td>1</td>\n",
       "    </tr>\n",
       "  </tbody>\n",
       "</table>\n",
       "<p>69600 rows × 2 columns</p>\n",
       "</div>"
      ],
      "text/plain": [
       "                                                    data  class\n",
       "0      AGCCTGGAGTGCAGTGGTGCTTTTGTAGCTCACTGGGGCCTCATAC...      0\n",
       "1      CTGCACCCAGCCCGTCCACTGTTCTTAGGAAGTTTTCTTCTTTGTG...      0\n",
       "2      CTGGCATTGGTCCTTTCTCTGCCTGATGCAGGGGGCCAGGCATGGT...      0\n",
       "3      CACAGAGTACCTGTCTGATTCTGATGTTCTATGAAATCCTTTATCT...      0\n",
       "4      GTCCAGGGGAAGTGCCTTGGCAGCGTGGAGCAACCCACCTTCCCAT...      0\n",
       "...                                                  ...    ...\n",
       "69595  GGAGAGTCACAAGCAAGAGCAAGCTTTTTTAAGAGCCATCATTTAA...      1\n",
       "69596  GGAGGAAGGATCCCGCTAGGCTGGTCCCGACTGGAGAAGCTGCTCT...      1\n",
       "69597  CCAAGTAGTTAGTCCGCCTGCTCTGTAATGGTTTATCATAGTCATA...      1\n",
       "69598  CATTTTACAAGGAAACATGCTGATAAAGTTGGCAGAGATACGTCAT...      1\n",
       "69599  ACCTTGCTCATCCCTTCCAGGCTGTGGGCCTGTTTTCCCTGTGCAA...      1\n",
       "\n",
       "[69600 rows x 2 columns]"
      ]
     },
     "execution_count": 7,
     "metadata": {},
     "output_type": "execute_result"
    }
   ],
   "source": [
    "# Replace 'file_path.csv' with the path to the TF data.csv file\n",
    "tf=\"ATF2\"\n",
    "file_path = f'/mnt/raid1/thalassini/home/filtered_fimo/{tf.upper()}/datasets/data.csv'\n",
    "df = pd.read_csv(file_path)\n",
    "df"
   ]
  },
  {
   "cell_type": "markdown",
   "id": "d22b4a0d",
   "metadata": {},
   "source": [
    "# Sequence length inspection and normalization"
   ]
  },
  {
   "cell_type": "code",
   "execution_count": 8,
   "id": "d33c9269",
   "metadata": {},
   "outputs": [
    {
     "name": "stdout",
     "output_type": "stream",
     "text": [
      "Max length:2000, Min length: 200\n"
     ]
    },
    {
     "data": {
      "image/png": "[encoded data removed]",
      "text/plain": [
       "<Figure size 640x480 with 1 Axes>"
      ]
     },
     "metadata": {},
     "output_type": "display_data"
    }
   ],
   "source": [
    "lengths= [len(item) for item in df['data']] \n",
    "print(f'Max length:{max(lengths)}, Min length: {min(lengths)}')\n",
    "import matplotlib.pyplot as plt\n",
    "# Plotting the histogram\n",
    "plt.hist(lengths, bins=10, color='blue', edgecolor='black')\n",
    "plt.title('Histogram of Lengths')\n",
    "plt.xlabel('Length')\n",
    "plt.ylabel('Frequency')\n",
    "plt.show()"
   ]
  },
  {
   "cell_type": "code",
   "execution_count": 9,
   "id": "292502f4",
   "metadata": {},
   "outputs": [],
   "source": [
    "# Find the maximum length of sequences\n",
    "#min_length = min(len(seq) for seq in df['data'])\n",
    "limit=200\n",
    "\n",
    "\n",
    "# Pad or cut sequences to ensure they all have the same length\n",
    "cut_sequences = [seq[:limit] for seq in df['data']]\n",
    "\n",
    "# Update the DataFrame with the cut sequences\n",
    "#df['data'] = cut_sequences"
   ]
  },
  {
   "cell_type": "code",
   "execution_count": 10,
   "id": "84f394a8",
   "metadata": {},
   "outputs": [
    {
     "name": "stdout",
     "output_type": "stream",
     "text": [
      "Max length:200, Min length: 200\n"
     ]
    }
   ],
   "source": [
    "lengths= [len(item) for item in cut_sequences]\n",
    "print(f'Max length:{max(lengths)}, Min length: {min(lengths)}')"
   ]
  },
  {
   "cell_type": "markdown",
   "id": "9b65d644",
   "metadata": {},
   "source": [
    "# Define X,y variables"
   ]
  },
  {
   "cell_type": "code",
   "execution_count": 11,
   "id": "f9e96a80",
   "metadata": {},
   "outputs": [],
   "source": [
    "X=[one_hot_encode(sequence) for sequence in cut_sequences]"
   ]
  },
  {
   "cell_type": "code",
   "execution_count": 12,
   "id": "2ab32859",
   "metadata": {},
   "outputs": [],
   "source": [
    "X = torch.from_numpy(np.array(X)).type(torch.float)\n"
   ]
  },
  {
   "cell_type": "code",
   "execution_count": 13,
   "id": "0bf2a817",
   "metadata": {},
   "outputs": [
    {
     "data": {
      "text/plain": [
       "torch.Size([69600, 200, 4])"
      ]
     },
     "execution_count": 13,
     "metadata": {},
     "output_type": "execute_result"
    }
   ],
   "source": [
    "X.shape"
   ]
  },
  {
   "cell_type": "code",
   "execution_count": 14,
   "id": "9aec20e4",
   "metadata": {},
   "outputs": [
    {
     "data": {
      "text/plain": [
       "array([0, 0, 0])"
      ]
     },
     "execution_count": 14,
     "metadata": {},
     "output_type": "execute_result"
    }
   ],
   "source": [
    "y=np.array(df['class'])\n",
    "y[:3]"
   ]
  },
  {
   "cell_type": "code",
   "execution_count": 15,
   "id": "7f1057ee",
   "metadata": {},
   "outputs": [],
   "source": [
    "y = torch.from_numpy(y).type(torch.float)"
   ]
  },
  {
   "cell_type": "markdown",
   "id": "c4515e0b",
   "metadata": {},
   "source": [
    "# Split the data in train, val and test set"
   ]
  },
  {
   "cell_type": "code",
   "execution_count": 16,
   "id": "f4a1304f",
   "metadata": {},
   "outputs": [
    {
     "name": "stdout",
     "output_type": "stream",
     "text": [
      "44544 44544 11136 11136\n",
      "13920 13920\n"
     ]
    }
   ],
   "source": [
    "from sklearn.model_selection import train_test_split\n",
    "from sklearn.model_selection import StratifiedShuffleSplit\n",
    "\n",
    "\n",
    "\n",
    "# Split the data into a stratified hold-out validation set and the rest\n",
    "stratified_splitter = StratifiedShuffleSplit(n_splits=1, test_size=0.2, random_state=42)\n",
    "\n",
    "for train_val_index, test_index in stratified_splitter.split(X, y):\n",
    "    X_train_val, X_test = X[train_val_index], X[test_index]\n",
    "    y_train_val, y_test = y[train_val_index], y[test_index]\n",
    "\n",
    "# Split the remaining data into training and validation sets\n",
    "X_train, X_val, y_train, y_val = train_test_split(X_train_val, y_train_val, test_size=0.2, stratify=y_train_val, random_state=42)\n",
    "\n",
    "print(len(X_train), len(y_train), len(X_val), len(y_val))\n",
    "print(len(X_test), len(y_test))\n",
    "\n",
    "\n",
    "# (X_train, X_val, y_train, y_val) for training, validation\n",
    "# X_test, y_test for the final hold-out validation.\n",
    "\n",
    "#X_train, X_val, X_test = torch.from_numpy(X_train).type(torch.float),torch.from_numpy(X_val).type(torch.float), torch.from_numpy(X_test).type(torch.float)\n",
    "\n"
   ]
  },
  {
   "cell_type": "markdown",
   "id": "d6716d37",
   "metadata": {},
   "source": [
    "# Create datasets and Dataloaders"
   ]
  },
  {
   "cell_type": "code",
   "execution_count": 17,
   "id": "cc8becaa",
   "metadata": {},
   "outputs": [
    {
     "name": "stdout",
     "output_type": "stream",
     "text": [
      "44544 44544 44544\n"
     ]
    }
   ],
   "source": [
    "from torch.utils.data import DataLoader, TensorDataset\n",
    "torch.manual_seed(42)\n",
    "\n",
    "# Expand the dimensions of y to make it 2-dimensional\n",
    "y_train = y_train.view(-1, 1)\n",
    "y_test = y_test.view(-1,1)\n",
    "y_val = y_val.view(-1,1)\n",
    "# Concatenate the complement of y to create a 2-dimensional tensor\n",
    "y_train_one_hot = torch.cat([1 - y_train, y_train], dim=1).float()\n",
    "y_test_one_hot = torch.cat([1 - y_test, y_test], dim=1).float()\n",
    "y_val_one_hot = torch.cat([1 - y_val, y_val], dim=1).float()\n",
    "\n",
    "\n",
    "# Move tensors to the same device\n",
    "X_train, y_train_one_hot, y_train = X_train.to(device), y_train_one_hot.to(device), y_train.to(device)\n",
    "X_val, y_val_one_hot, y_val = X_val.to(device), y_val_one_hot.to(device), y_val.to(device)\n",
    "X_test, y_test_one_hot, y_test = X_test.to(device), y_test_one_hot.to(device), y_test.to(device)\n",
    "\n",
    "\n",
    "print(X_train.size(0), y_train_one_hot.size(0), y_train.size(0))\n",
    "\n",
    "# Create datasets\n",
    "train_dataset = TensorDataset(X_train, y_train_one_hot, y_train)\n",
    "val_dataset = TensorDataset(X_val, y_val_one_hot, y_val)\n",
    "test_dataset = TensorDataset(X_test, y_test_one_hot, y_test)\n",
    "\n"
   ]
  },
  {
   "cell_type": "code",
   "execution_count": 18,
   "id": "107677e4",
   "metadata": {},
   "outputs": [],
   "source": [
    "\n",
    "batch_size=64\n",
    "torch.manual_seed(42)\n",
    "\n",
    "# Convert to PyTorch DataLoader\n",
    "train_loader = DataLoader(train_dataset, batch_size=batch_size, shuffle=True)\n",
    "val_loader = DataLoader(val_dataset, batch_size=batch_size, shuffle=True)\n",
    "test_loader = DataLoader(test_dataset, batch_size=batch_size, shuffle=True)"
   ]
  },
  {
   "cell_type": "markdown",
   "id": "d20e4bb7",
   "metadata": {},
   "source": [
    "# Construct a 1 layer CNN with Maxpooling and Dropout"
   ]
  },
  {
   "cell_type": "code",
   "execution_count": 19,
   "id": "9c0dfed6",
   "metadata": {},
   "outputs": [],
   "source": [
    "class Conv_v0(torch.nn.Module):\n",
    "\n",
    "    def __init__(self):\n",
    "        super(Conv_v0, self).__init__()\n",
    "\n",
    "        self.conv1 = torch.nn.Conv1d(in_channels=4, out_channels=3, kernel_size=17)\n",
    "        self.activation = torch.nn.ReLU()\n",
    "        self.maxpool = torch.nn.MaxPool1d(kernel_size=5)\n",
    "        \n",
    "        self.dropout = torch.nn.Dropout(p=0.5) \n",
    "        self.fc = torch.nn.Linear(in_features=108, out_features=2)\n",
    "        #elf.sigmoid = torch.nn.Sigmoid()\n",
    "\n",
    "    def forward(self, x):\n",
    "        x= x.permute(0, 2, 1)\n",
    "        x = self.conv1(x)\n",
    "        x = self.activation(x)\n",
    "        x = self.maxpool(x)\n",
    "        \n",
    "        # Reshape the output of the max pooling layer before passing it to the fully connected layer\n",
    "        x = x.view(x.size(0), -1)\n",
    "        \n",
    "        #print(\"Size after reshaping:\", x.size())\n",
    "        x=self.dropout(x)\n",
    "        x = self.fc(x)\n",
    "       #x = self.sigmoid(x)\n",
    "        return x\n"
   ]
  },
  {
   "cell_type": "markdown",
   "id": "e7f2d523",
   "metadata": {},
   "source": [
    "# Computing class weights"
   ]
  },
  {
   "cell_type": "code",
   "execution_count": 20,
   "id": "0f86ea45",
   "metadata": {},
   "outputs": [
    {
     "name": "stdout",
     "output_type": "stream",
     "text": [
      "Class Weights List: [1.4955680902497985, 3.017886178861789]\n"
     ]
    }
   ],
   "source": [
    "from torch.utils.data import DataLoader, TensorDataset\n",
    "from sklearn.utils.class_weight import compute_class_weight\n",
    "\n",
    "# Assuming we have defined dataset\n",
    "# train_dataset = TensorDataset(X_train, y_train_one_hot, y_train)\n",
    "\n",
    "# Extract the labels from the dataset\n",
    "_, _, y_train = zip(*train_dataset)\n",
    "\n",
    "# Count occurrences of each class\n",
    "class_0_count = sum(1 for label in y_train if label == 0)\n",
    "class_1_count = sum(1 for label in y_train if label == 1)\n",
    "\n",
    "# Total length of y_train\n",
    "total_samples = len(y_train)\n",
    "\n",
    "# Calculate class weights\n",
    "weights = [total_samples / class_0_count, total_samples / class_1_count]\n",
    "\n",
    "# Print the list of class weights\n",
    "print(\"Class Weights List:\", weights)\n",
    "\n",
    "\n"
   ]
  },
  {
   "cell_type": "markdown",
   "id": "40b134d4",
   "metadata": {},
   "source": [
    "# Set up loss function and optimizer"
   ]
  },
  {
   "cell_type": "code",
   "execution_count": 21,
   "id": "948d9087",
   "metadata": {},
   "outputs": [],
   "source": [
    "from torch.optim import lr_scheduler\n",
    "weights = torch.tensor(weights).to(device)\n",
    "#print(weights)"
   ]
  },
  {
   "cell_type": "code",
   "execution_count": 29,
   "id": "79a9b84f",
   "metadata": {},
   "outputs": [],
   "source": [
    "from helper_functions import set_seeds"
   ]
  },
  {
   "cell_type": "code",
   "execution_count": 30,
   "id": "65dbe876",
   "metadata": {},
   "outputs": [],
   "source": [
    "set_seeds()\n",
    "\n",
    "# Initialize model instance\n",
    "model = Conv_v0()\n",
    "\n",
    "# define the CrossEntropyLoss with weights\n",
    "loss_fn = nn.BCEWithLogitsLoss(weight=weights)\n",
    "\n",
    "# Define oprimizer\n",
    "optimizer = torch.optim.Adam(model.parameters(), lr=0.0001)\n",
    "\n",
    "# Define exponetntial lr with lr_scheduler\n",
    "exp_lr_scheduler = lr_scheduler.ExponentialLR(optimizer, gamma=0.01)"
   ]
  },
  {
   "cell_type": "code",
   "execution_count": 31,
   "id": "e1d337c9",
   "metadata": {},
   "outputs": [
    {
     "data": {
      "text/plain": [
       "tensor([[-0.1859, -0.4078],\n",
       "        [-0.4483, -0.7308],\n",
       "        [-0.0515, -0.1639],\n",
       "        [ 0.0262, -0.2506],\n",
       "        [ 0.2107, -0.5013]], grad_fn=<SliceBackward0>)"
      ]
     },
     "execution_count": 31,
     "metadata": {},
     "output_type": "execute_result"
    }
   ],
   "source": [
    "# View the frist 5 outputs of the forward pass on the test data\n",
    "y_logits = model(X_test.to(device))[:5]\n",
    "y_logits"
   ]
  },
  {
   "cell_type": "code",
   "execution_count": 33,
   "id": "d2669895",
   "metadata": {},
   "outputs": [
    {
     "data": {
      "application/vnd.jupyter.widget-view+json": {
       "model_id": "c404ee72476e403e8bf4829be1960ee3",
       "version_major": 2,
       "version_minor": 0
      },
      "text/plain": [
       "  0%|          | 0/150 [00:00<?, ?it/s]"
      ]
     },
     "metadata": {},
     "output_type": "display_data"
    },
    {
     "name": "stdout",
     "output_type": "stream",
     "text": [
      "Epoch: 1 | train_loss: 0.7194 | train_bal_acc: 0.8212 | train_mcc: 0.6966 | valid_loss: 0.3528 | valid_bal_acc: 0.9625 | valid_mcc: 0.9319\n",
      "Epoch: 2 | train_loss: 0.7276 | train_bal_acc: 0.8198 | train_mcc: 0.6947 | valid_loss: 0.3566 | valid_bal_acc: 0.9640 | valid_mcc: 0.9337\n",
      "Epoch: 3 | train_loss: 0.7245 | train_bal_acc: 0.8208 | train_mcc: 0.6959 | valid_loss: 0.3528 | valid_bal_acc: 0.9632 | valid_mcc: 0.9326\n",
      "Epoch: 4 | train_loss: 0.7214 | train_bal_acc: 0.8223 | train_mcc: 0.6974 | valid_loss: 0.3449 | valid_bal_acc: 0.9629 | valid_mcc: 0.9328\n",
      "Epoch: 5 | train_loss: 0.7127 | train_bal_acc: 0.8258 | train_mcc: 0.7044 | valid_loss: 0.3457 | valid_bal_acc: 0.9646 | valid_mcc: 0.9346\n",
      "Epoch: 6 | train_loss: 0.7227 | train_bal_acc: 0.8212 | train_mcc: 0.6976 | valid_loss: 0.3423 | valid_bal_acc: 0.9629 | valid_mcc: 0.9334\n",
      "Epoch: 7 | train_loss: 0.7074 | train_bal_acc: 0.8255 | train_mcc: 0.7054 | valid_loss: 0.3438 | valid_bal_acc: 0.9671 | valid_mcc: 0.9381\n",
      "Epoch: 8 | train_loss: 0.7046 | train_bal_acc: 0.8281 | train_mcc: 0.7097 | valid_loss: 0.3408 | valid_bal_acc: 0.9655 | valid_mcc: 0.9372\n",
      "Epoch: 9 | train_loss: 0.7161 | train_bal_acc: 0.8244 | train_mcc: 0.7029 | valid_loss: 0.3385 | valid_bal_acc: 0.9647 | valid_mcc: 0.9355\n",
      "Epoch: 10 | train_loss: 0.7041 | train_bal_acc: 0.8267 | train_mcc: 0.7068 | valid_loss: 0.3413 | valid_bal_acc: 0.9652 | valid_mcc: 0.9357\n",
      "Epoch: 11 | train_loss: 0.7078 | train_bal_acc: 0.8262 | train_mcc: 0.7065 | valid_loss: 0.3353 | valid_bal_acc: 0.9652 | valid_mcc: 0.9360\n",
      "Epoch: 12 | train_loss: 0.7080 | train_bal_acc: 0.8265 | train_mcc: 0.7093 | valid_loss: 0.3317 | valid_bal_acc: 0.9641 | valid_mcc: 0.9357\n",
      "Epoch: 13 | train_loss: 0.7119 | train_bal_acc: 0.8252 | train_mcc: 0.7043 | valid_loss: 0.3334 | valid_bal_acc: 0.9647 | valid_mcc: 0.9360\n",
      "Epoch: 14 | train_loss: 0.7075 | train_bal_acc: 0.8276 | train_mcc: 0.7066 | valid_loss: 0.3335 | valid_bal_acc: 0.9652 | valid_mcc: 0.9361\n",
      "Epoch: 15 | train_loss: 0.7068 | train_bal_acc: 0.8281 | train_mcc: 0.7082 | valid_loss: 0.3280 | valid_bal_acc: 0.9631 | valid_mcc: 0.9342\n",
      "Epoch: 16 | train_loss: 0.7069 | train_bal_acc: 0.8262 | train_mcc: 0.7063 | valid_loss: 0.3271 | valid_bal_acc: 0.9652 | valid_mcc: 0.9368\n",
      "Epoch: 17 | train_loss: 0.7062 | train_bal_acc: 0.8261 | train_mcc: 0.7061 | valid_loss: 0.3224 | valid_bal_acc: 0.9653 | valid_mcc: 0.9375\n",
      "Epoch: 18 | train_loss: 0.7087 | train_bal_acc: 0.8264 | train_mcc: 0.7067 | valid_loss: 0.3317 | valid_bal_acc: 0.9667 | valid_mcc: 0.9379\n",
      "Epoch: 19 | train_loss: 0.6954 | train_bal_acc: 0.8314 | train_mcc: 0.7145 | valid_loss: 0.3261 | valid_bal_acc: 0.9669 | valid_mcc: 0.9387\n",
      "Epoch: 20 | train_loss: 0.6989 | train_bal_acc: 0.8318 | train_mcc: 0.7159 | valid_loss: 0.3234 | valid_bal_acc: 0.9657 | valid_mcc: 0.9376\n",
      "Epoch: 21 | train_loss: 0.7139 | train_bal_acc: 0.8236 | train_mcc: 0.7026 | valid_loss: 0.3212 | valid_bal_acc: 0.9656 | valid_mcc: 0.9358\n",
      "Epoch: 22 | train_loss: 0.6953 | train_bal_acc: 0.8293 | train_mcc: 0.7117 | valid_loss: 0.3213 | valid_bal_acc: 0.9662 | valid_mcc: 0.9378\n",
      "Epoch: 23 | train_loss: 0.6928 | train_bal_acc: 0.8311 | train_mcc: 0.7160 | valid_loss: 0.3153 | valid_bal_acc: 0.9665 | valid_mcc: 0.9376\n",
      "Epoch: 24 | train_loss: 0.7033 | train_bal_acc: 0.8274 | train_mcc: 0.7081 | valid_loss: 0.3150 | valid_bal_acc: 0.9644 | valid_mcc: 0.9358\n",
      "Epoch: 25 | train_loss: 0.6898 | train_bal_acc: 0.8308 | train_mcc: 0.7146 | valid_loss: 0.3172 | valid_bal_acc: 0.9679 | valid_mcc: 0.9393\n",
      "Epoch: 26 | train_loss: 0.6856 | train_bal_acc: 0.8365 | train_mcc: 0.7234 | valid_loss: 0.3153 | valid_bal_acc: 0.9663 | valid_mcc: 0.9376\n",
      "Epoch: 27 | train_loss: 0.6910 | train_bal_acc: 0.8322 | train_mcc: 0.7160 | valid_loss: 0.3205 | valid_bal_acc: 0.9674 | valid_mcc: 0.9397\n",
      "Epoch: 28 | train_loss: 0.7101 | train_bal_acc: 0.8275 | train_mcc: 0.7079 | valid_loss: 0.3196 | valid_bal_acc: 0.9659 | valid_mcc: 0.9373\n",
      "Epoch: 29 | train_loss: 0.6990 | train_bal_acc: 0.8293 | train_mcc: 0.7135 | valid_loss: 0.3160 | valid_bal_acc: 0.9658 | valid_mcc: 0.9367\n",
      "Epoch: 30 | train_loss: 0.6869 | train_bal_acc: 0.8318 | train_mcc: 0.7183 | valid_loss: 0.3096 | valid_bal_acc: 0.9672 | valid_mcc: 0.9390\n",
      "Epoch: 31 | train_loss: 0.6836 | train_bal_acc: 0.8353 | train_mcc: 0.7222 | valid_loss: 0.3123 | valid_bal_acc: 0.9659 | valid_mcc: 0.9373\n",
      "Epoch: 32 | train_loss: 0.6949 | train_bal_acc: 0.8330 | train_mcc: 0.7186 | valid_loss: 0.3131 | valid_bal_acc: 0.9658 | valid_mcc: 0.9376\n",
      "Epoch: 33 | train_loss: 0.6911 | train_bal_acc: 0.8320 | train_mcc: 0.7166 | valid_loss: 0.3133 | valid_bal_acc: 0.9663 | valid_mcc: 0.9383\n",
      "Epoch: 34 | train_loss: 0.6870 | train_bal_acc: 0.8355 | train_mcc: 0.7238 | valid_loss: 0.3106 | valid_bal_acc: 0.9656 | valid_mcc: 0.9380\n",
      "Epoch: 35 | train_loss: 0.6838 | train_bal_acc: 0.8377 | train_mcc: 0.7271 | valid_loss: 0.3123 | valid_bal_acc: 0.9653 | valid_mcc: 0.9378\n",
      "Epoch: 36 | train_loss: 0.6917 | train_bal_acc: 0.8327 | train_mcc: 0.7196 | valid_loss: 0.3144 | valid_bal_acc: 0.9677 | valid_mcc: 0.9392\n",
      "Epoch: 37 | train_loss: 0.6943 | train_bal_acc: 0.8327 | train_mcc: 0.7182 | valid_loss: 0.3103 | valid_bal_acc: 0.9667 | valid_mcc: 0.9379\n",
      "Epoch: 38 | train_loss: 0.6808 | train_bal_acc: 0.8380 | train_mcc: 0.7270 | valid_loss: 0.3025 | valid_bal_acc: 0.9665 | valid_mcc: 0.9387\n",
      "Epoch: 39 | train_loss: 0.6803 | train_bal_acc: 0.8365 | train_mcc: 0.7246 | valid_loss: 0.3072 | valid_bal_acc: 0.9671 | valid_mcc: 0.9385\n",
      "Epoch: 40 | train_loss: 0.6847 | train_bal_acc: 0.8367 | train_mcc: 0.7249 | valid_loss: 0.3055 | valid_bal_acc: 0.9657 | valid_mcc: 0.9380\n",
      "Epoch: 41 | train_loss: 0.6859 | train_bal_acc: 0.8351 | train_mcc: 0.7228 | valid_loss: 0.3049 | valid_bal_acc: 0.9654 | valid_mcc: 0.9381\n",
      "Epoch: 42 | train_loss: 0.6885 | train_bal_acc: 0.8349 | train_mcc: 0.7234 | valid_loss: 0.3128 | valid_bal_acc: 0.9661 | valid_mcc: 0.9369\n",
      "Epoch: 43 | train_loss: 0.6764 | train_bal_acc: 0.8394 | train_mcc: 0.7307 | valid_loss: 0.3028 | valid_bal_acc: 0.9679 | valid_mcc: 0.9402\n",
      "Epoch: 44 | train_loss: 0.6773 | train_bal_acc: 0.8373 | train_mcc: 0.7286 | valid_loss: 0.3036 | valid_bal_acc: 0.9650 | valid_mcc: 0.9374\n",
      "Epoch: 45 | train_loss: 0.6771 | train_bal_acc: 0.8383 | train_mcc: 0.7304 | valid_loss: 0.3086 | valid_bal_acc: 0.9684 | valid_mcc: 0.9402\n",
      "Epoch: 46 | train_loss: 0.6715 | train_bal_acc: 0.8396 | train_mcc: 0.7314 | valid_loss: 0.2937 | valid_bal_acc: 0.9635 | valid_mcc: 0.9354\n",
      "Epoch: 47 | train_loss: 0.6754 | train_bal_acc: 0.8380 | train_mcc: 0.7299 | valid_loss: 0.3026 | valid_bal_acc: 0.9664 | valid_mcc: 0.9386\n",
      "Epoch: 48 | train_loss: 0.6839 | train_bal_acc: 0.8353 | train_mcc: 0.7255 | valid_loss: 0.3038 | valid_bal_acc: 0.9668 | valid_mcc: 0.9389\n",
      "Epoch: 49 | train_loss: 0.6804 | train_bal_acc: 0.8385 | train_mcc: 0.7304 | valid_loss: 0.3049 | valid_bal_acc: 0.9645 | valid_mcc: 0.9358\n",
      "Epoch: 50 | train_loss: 0.6771 | train_bal_acc: 0.8408 | train_mcc: 0.7341 | valid_loss: 0.3053 | valid_bal_acc: 0.9669 | valid_mcc: 0.9385\n",
      "Epoch: 51 | train_loss: 0.6773 | train_bal_acc: 0.8390 | train_mcc: 0.7316 | valid_loss: 0.2983 | valid_bal_acc: 0.9664 | valid_mcc: 0.9388\n",
      "Epoch: 52 | train_loss: 0.6758 | train_bal_acc: 0.8389 | train_mcc: 0.7301 | valid_loss: 0.3058 | valid_bal_acc: 0.9646 | valid_mcc: 0.9359\n",
      "Epoch: 53 | train_loss: 0.6747 | train_bal_acc: 0.8392 | train_mcc: 0.7314 | valid_loss: 0.3035 | valid_bal_acc: 0.9652 | valid_mcc: 0.9369\n",
      "Epoch: 54 | train_loss: 0.6718 | train_bal_acc: 0.8424 | train_mcc: 0.7370 | valid_loss: 0.3011 | valid_bal_acc: 0.9677 | valid_mcc: 0.9395\n",
      "Epoch: 55 | train_loss: 0.6722 | train_bal_acc: 0.8414 | train_mcc: 0.7349 | valid_loss: 0.2978 | valid_bal_acc: 0.9634 | valid_mcc: 0.9348\n",
      "Epoch: 56 | train_loss: 0.6930 | train_bal_acc: 0.8351 | train_mcc: 0.7250 | valid_loss: 0.3041 | valid_bal_acc: 0.9652 | valid_mcc: 0.9370\n",
      "Early stopping after 56 epochs without improvement.\n"
     ]
    }
   ],
   "source": [
    "results, _ = engine.train_with_early_stopping(model=model,\n",
    "                                                  train_dataloader=train_loader,\n",
    "                                                  valid_dataloader=val_loader,\n",
    "                                                  optimizer=optimizer,\n",
    "                                                  loss_fn=loss_fn,\n",
    "                                                  epochs=150,\n",
    "                                                  device=device)\n"
   ]
  },
  {
   "cell_type": "code",
   "execution_count": 25,
   "id": "8e394a60",
   "metadata": {},
   "outputs": [
    {
     "data": {
      "text/plain": [
       "Text(0.5, 1.0, 'Loss Curves ATF2_CNN1_ADAM_BCEWithLogits_seq=200b.png')"
      ]
     },
     "execution_count": 25,
     "metadata": {},
     "output_type": "execute_result"
    },
    {
     "data": {
      "image/png": "[encoded data removed]",
      "text/plain": [
       "<Figure size 1500x700 with 2 Axes>"
      ]
     },
     "metadata": {},
     "output_type": "display_data"
    }
   ],
   "source": [
    "helper_functions.plot_loss_curves(results)\n",
    "save_dir = 'images'\n",
    "os.makedirs(save_dir, exist_ok=True)\n",
    "plt.savefig(os.path.join(save_dir, f'{tf}_CNN1_ADAM_BCEWithLogits_seq=200b.png'));\n",
    "\n",
    "plt.title(f\"Loss Curves {tf}_CNN1_ADAM_BCEWithLogits_seq=200b.png\")"
   ]
  },
  {
   "cell_type": "code",
   "execution_count": 26,
   "id": "228c82d1",
   "metadata": {},
   "outputs": [
    {
     "name": "stdout",
     "output_type": "stream",
     "text": [
      "Perfomance on held out test set\n",
      "Test loss: 0.35541437197169035 | Test bal acc 0.96009341038472 | Test mcc 0.9269906039178214 | Test_f_score 0.9678393026447101\n",
      "\n"
     ]
    }
   ],
   "source": [
    "from sklearn.metrics import balanced_accuracy_score, matthews_corrcoef, f1_score\n",
    "import torch.nn.functional as F\n",
    "\n",
    "\n",
    "model.eval()\n",
    "\n",
    "\n",
    "with torch.inference_mode():\n",
    "    all_predictions = []\n",
    "    all_true_labels = []\n",
    "    all_test_pred_prob=[]\n",
    "    \n",
    "    test_loss, test_bal_acc, test_mcc, test_f_score = 0, 0, 0, 0\n",
    "    for batch, (X, y_one_hot, y) in enumerate(test_loader):\n",
    "        # Send data to target device\n",
    "        X, y_one_hot, y = X.to(device),y_one_hot.to(device), y.to(device)\n",
    "\n",
    "        # 1. Forward pass\n",
    "        test_pred_logits = model(X)\n",
    "\n",
    "        # 2. Calculate and accumulate loss\n",
    "        loss = loss_fn(test_pred_logits, y_one_hot)\n",
    "        test_loss += loss.item()\n",
    "\n",
    "        # Calculate and accumulate scores\n",
    "        test_pred_labels = test_pred_logits.argmax(dim=1)\n",
    "        test_pred_prob = torch.softmax(test_pred_logits.squeeze(), dim=0) # note: perform softmax on the \"logits\" dimension, not \"batch\" dimension (in this case we have a batch size of 1, so can perform on dim=0)\n",
    "        test_bal_acc += balanced_accuracy_score(y.cpu().numpy(), test_pred_labels.cpu().numpy())\n",
    "        test_mcc += matthews_corrcoef(y.cpu().numpy(), test_pred_labels.cpu().numpy())\n",
    "        test_f_score += f1_score(y.cpu().numpy(), test_pred_labels.cpu().numpy(), average='weighted')\n",
    "        \n",
    "        all_predictions.extend(test_pred_labels.cpu().numpy())\n",
    "        all_true_labels.extend(y.cpu().numpy())\n",
    "        all_test_pred_prob.extend(test_pred_prob.cpu().numpy())\n",
    "\n",
    "    # Adjust metrics to get average loss and accuracy per batch\n",
    "    test_loss = test_loss / len(test_loader)\n",
    "    test_bal_acc = test_bal_acc / len(test_loader)\n",
    "    test_mcc = test_mcc / len(test_loader)\n",
    "    test_f_score = test_f_score / len(test_loader)\n",
    "    print(\"Perfomance on held out test set\")\n",
    "    print(f'Test loss: {test_loss} | Test bal acc {test_bal_acc} | Test mcc {test_mcc} | Test_f_score {test_f_score}\\n')   \n",
    "    "
   ]
  },
  {
   "cell_type": "markdown",
   "id": "e8c518d8",
   "metadata": {},
   "source": [
    "We can observe that the model is not overfiting since the perfomance on the held out test set is high"
   ]
  },
  {
   "cell_type": "code",
   "execution_count": null,
   "id": "51cd093a",
   "metadata": {},
   "outputs": [],
   "source": []
  }
 ],
 "metadata": {
  "kernelspec": {
   "display_name": "Python 3 (ipykernel)",
   "language": "python",
   "name": "python3"
  },
  "language_info": {
   "codemirror_mode": {
    "name": "ipython",
    "version": 3
   },
   "file_extension": ".py",
   "mimetype": "text/x-python",
   "name": "python",
   "nbconvert_exporter": "python",
   "pygments_lexer": "ipython3",
   "version": "3.11.5"
  }
 },
 "nbformat": 4,
 "nbformat_minor": 5
}
