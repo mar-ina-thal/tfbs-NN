{
 "cells": [
  {
   "cell_type": "code",
   "execution_count": 121,
   "id": "05d85633",
   "metadata": {},
   "outputs": [],
   "source": [
    "import pandas as pd\n",
    "import numpy as np\n",
    "from sklearn.preprocessing import OneHotEncoder\n",
    "from keras.utils import to_categorical\n",
    "from sklearn.metrics import balanced_accuracy_score"
   ]
  },
  {
   "cell_type": "code",
   "execution_count": 297,
   "id": "72835fb0",
   "metadata": {},
   "outputs": [],
   "source": [
    "from tqdm.auto import tqdm\n",
    "from typing import Dict, List, Tuple\n",
    "from sklearn.metrics import balanced_accuracy_score, matthews_corrcoef, f1_score\n",
    "from collections import deque  # Import deque for early stopping\n",
    "import warnings\n",
    "\n",
    "# Suppress the specific UserWarning related to y_pred and y_true class mismatch\n",
    "warnings.filterwarnings(\"ignore\", category=UserWarning, message=\"y_pred contains classes not in y_true\")"
   ]
  },
  {
   "cell_type": "code",
   "execution_count": 242,
   "id": "faeaeafc",
   "metadata": {},
   "outputs": [],
   "source": [
    "from sklearn.metrics import balanced_accuracy_score\n",
    "\n",
    "# Function to calculate balanced accuracy\n",
    "def balanced_accuracy(y_true, y_pred):\n",
    "    return balanced_accuracy_score(y_true, y_pred) * 100"
   ]
  },
  {
   "cell_type": "code",
   "execution_count": 122,
   "id": "6c000451",
   "metadata": {},
   "outputs": [],
   "source": [
    "# Function to perform one-hot encoding for DNA sequences\n",
    "def one_hot_encode(sequence):\n",
    "    encoding = {'A': [1, 0, 0, 0], 'T': [0, 1, 0, 0], 'G': [0, 0, 1, 0], 'C': [0, 0, 0, 1]}\n",
    "    one_hot_sequence = [encoding.get(base, [0, 0, 0, 0]) for base in sequence]\n",
    "    return np.array(one_hot_sequence)"
   ]
  },
  {
   "cell_type": "code",
   "execution_count": 195,
   "id": "12cee86f",
   "metadata": {},
   "outputs": [
    {
     "data": {
      "text/plain": [
       "'cpu'"
      ]
     },
     "execution_count": 195,
     "metadata": {},
     "output_type": "execute_result"
    }
   ],
   "source": [
    "import torch\n",
    "from torch import nn\n",
    "# Make device agnostic code\n",
    "device = \"cuda\" if torch.cuda.is_available() else \"cpu\"\n",
    "device"
   ]
  },
  {
   "cell_type": "code",
   "execution_count": 333,
   "id": "c9939f1e",
   "metadata": {},
   "outputs": [
    {
     "data": {
      "text/html": [
       "<div>\n",
       "<style scoped>\n",
       "    .dataframe tbody tr th:only-of-type {\n",
       "        vertical-align: middle;\n",
       "    }\n",
       "\n",
       "    .dataframe tbody tr th {\n",
       "        vertical-align: top;\n",
       "    }\n",
       "\n",
       "    .dataframe thead th {\n",
       "        text-align: right;\n",
       "    }\n",
       "</style>\n",
       "<table border=\"1\" class=\"dataframe\">\n",
       "  <thead>\n",
       "    <tr style=\"text-align: right;\">\n",
       "      <th></th>\n",
       "      <th>data</th>\n",
       "      <th>class</th>\n",
       "    </tr>\n",
       "  </thead>\n",
       "  <tbody>\n",
       "    <tr>\n",
       "      <th>0</th>\n",
       "      <td>CAAAAACACTGACAGGAAAAGGGATGGACATGATTCCCAGAATCCT...</td>\n",
       "      <td>0</td>\n",
       "    </tr>\n",
       "    <tr>\n",
       "      <th>1</th>\n",
       "      <td>CTAACCTGACATGAATTAGGGCAGGTTTTTGAATTCGTGTTGAAAA...</td>\n",
       "      <td>0</td>\n",
       "    </tr>\n",
       "    <tr>\n",
       "      <th>2</th>\n",
       "      <td>TCCTCTGTAGCACAGGTTAACACTTCTGCTAGTTCCAGGACTGAGG...</td>\n",
       "      <td>0</td>\n",
       "    </tr>\n",
       "    <tr>\n",
       "      <th>3</th>\n",
       "      <td>GAACACATTAAACAGCAGGTTGCTTATTCCTTCTCAAACCGCACTA...</td>\n",
       "      <td>0</td>\n",
       "    </tr>\n",
       "    <tr>\n",
       "      <th>4</th>\n",
       "      <td>ATTTCTCGGAACAGGCAGAAAGGAAGCGGCAGGGAGGTGGGTACTC...</td>\n",
       "      <td>0</td>\n",
       "    </tr>\n",
       "    <tr>\n",
       "      <th>...</th>\n",
       "      <td>...</td>\n",
       "      <td>...</td>\n",
       "    </tr>\n",
       "    <tr>\n",
       "      <th>96489</th>\n",
       "      <td>CCACCCTCCACTCCTCACCCCTCATCCCTCACCACCTGCCTTTCAA...</td>\n",
       "      <td>1</td>\n",
       "    </tr>\n",
       "    <tr>\n",
       "      <th>96490</th>\n",
       "      <td>GGCGGTGACGCACGGCGCGGTGACGCAGCGCGACGGCGGCGGCGGC...</td>\n",
       "      <td>1</td>\n",
       "    </tr>\n",
       "    <tr>\n",
       "      <th>96491</th>\n",
       "      <td>GGCGGTGACGCACGGCGCGGTGACGCAGCGCGACGGCGGCGGCGGC...</td>\n",
       "      <td>1</td>\n",
       "    </tr>\n",
       "    <tr>\n",
       "      <th>96492</th>\n",
       "      <td>CTCCCTCTCTGATGCCTGGTCACACCAGGATGGCGGTACCATGTGC...</td>\n",
       "      <td>1</td>\n",
       "    </tr>\n",
       "    <tr>\n",
       "      <th>96493</th>\n",
       "      <td>CTCCCTCTCTGATGCCTGGTCACACCAGGATGGCGGTACCATGTGC...</td>\n",
       "      <td>1</td>\n",
       "    </tr>\n",
       "  </tbody>\n",
       "</table>\n",
       "<p>96494 rows × 2 columns</p>\n",
       "</div>"
      ],
      "text/plain": [
       "                                                    data  class\n",
       "0      CAAAAACACTGACAGGAAAAGGGATGGACATGATTCCCAGAATCCT...      0\n",
       "1      CTAACCTGACATGAATTAGGGCAGGTTTTTGAATTCGTGTTGAAAA...      0\n",
       "2      TCCTCTGTAGCACAGGTTAACACTTCTGCTAGTTCCAGGACTGAGG...      0\n",
       "3      GAACACATTAAACAGCAGGTTGCTTATTCCTTCTCAAACCGCACTA...      0\n",
       "4      ATTTCTCGGAACAGGCAGAAAGGAAGCGGCAGGGAGGTGGGTACTC...      0\n",
       "...                                                  ...    ...\n",
       "96489  CCACCCTCCACTCCTCACCCCTCATCCCTCACCACCTGCCTTTCAA...      1\n",
       "96490  GGCGGTGACGCACGGCGCGGTGACGCAGCGCGACGGCGGCGGCGGC...      1\n",
       "96491  GGCGGTGACGCACGGCGCGGTGACGCAGCGCGACGGCGGCGGCGGC...      1\n",
       "96492  CTCCCTCTCTGATGCCTGGTCACACCAGGATGGCGGTACCATGTGC...      1\n",
       "96493  CTCCCTCTCTGATGCCTGGTCACACCAGGATGGCGGTACCATGTGC...      1\n",
       "\n",
       "[96494 rows x 2 columns]"
      ]
     },
     "execution_count": 333,
     "metadata": {},
     "output_type": "execute_result"
    }
   ],
   "source": [
    "# Replace 'file_path.csv' with the path to your CSV file\n",
    "file_path = '/mnt/raid1/thalassini/home/filtered_fimo/CTCF/datasets/data.csv'\n",
    "df = pd.read_csv(file_path)\n",
    "df"
   ]
  },
  {
   "cell_type": "code",
   "execution_count": 334,
   "id": "d33c9269",
   "metadata": {},
   "outputs": [
    {
     "name": "stdout",
     "output_type": "stream",
     "text": [
      "Max length:218, Min length: 200\n"
     ]
    },
    {
     "data": {
      "image/png": "[encoded data removed]",
      "text/plain": [
       "<Figure size 640x480 with 1 Axes>"
      ]
     },
     "metadata": {},
     "output_type": "display_data"
    }
   ],
   "source": [
    "lengths= [len(item) for item in df['data']] \n",
    "print(f'Max length:{max(lengths)}, Min length: {min(lengths)}')\n",
    "import matplotlib.pyplot as plt\n",
    "# Plotting the histogram\n",
    "plt.hist(lengths, bins=10, color='blue', edgecolor='black')\n",
    "plt.title('Histogram of Lengths')\n",
    "plt.xlabel('Length')\n",
    "plt.ylabel('Frequency')\n",
    "plt.show()"
   ]
  },
  {
   "cell_type": "code",
   "execution_count": 335,
   "id": "292502f4",
   "metadata": {},
   "outputs": [],
   "source": [
    "# Find the maximum length of sequences\n",
    "#min_length = min(len(seq) for seq in df['data'])\n",
    "limit=200\n",
    "\n",
    "\n",
    "# Pad or cut sequences to ensure they all have the same length\n",
    "cut_sequences = [seq[:limit] for seq in df['data']]\n",
    "\n",
    "# Update the DataFrame with the cut sequences\n",
    "#df['data'] = cut_sequences"
   ]
  },
  {
   "cell_type": "code",
   "execution_count": 336,
   "id": "84f394a8",
   "metadata": {},
   "outputs": [
    {
     "name": "stdout",
     "output_type": "stream",
     "text": [
      "Max length:200, Min length: 200\n"
     ]
    }
   ],
   "source": [
    "lengths= [len(item) for item in cut_sequences]\n",
    "print(f'Max length:{max(lengths)}, Min length: {min(lengths)}')"
   ]
  },
  {
   "cell_type": "markdown",
   "id": "9b65d644",
   "metadata": {},
   "source": [
    "# Define X,y variables"
   ]
  },
  {
   "cell_type": "code",
   "execution_count": 337,
   "id": "f9e96a80",
   "metadata": {},
   "outputs": [],
   "source": [
    "X=[one_hot_encode(sequence) for sequence in cut_sequences]"
   ]
  },
  {
   "cell_type": "code",
   "execution_count": 339,
   "id": "2ab32859",
   "metadata": {},
   "outputs": [],
   "source": [
    "X = torch.from_numpy(np.array(X)).type(torch.float)\n"
   ]
  },
  {
   "cell_type": "code",
   "execution_count": 341,
   "id": "0bf2a817",
   "metadata": {},
   "outputs": [
    {
     "data": {
      "text/plain": [
       "(96494, 200, 4)"
      ]
     },
     "execution_count": 341,
     "metadata": {},
     "output_type": "execute_result"
    }
   ],
   "source": [
    "X.shape"
   ]
  },
  {
   "cell_type": "code",
   "execution_count": 342,
   "id": "9aec20e4",
   "metadata": {},
   "outputs": [
    {
     "data": {
      "text/plain": [
       "array([0, 0, 0])"
      ]
     },
     "execution_count": 342,
     "metadata": {},
     "output_type": "execute_result"
    }
   ],
   "source": [
    "y=np.array(df['class'])\n",
    "y[:3]"
   ]
  },
  {
   "cell_type": "code",
   "execution_count": 343,
   "id": "937c8e5b",
   "metadata": {},
   "outputs": [],
   "source": [
    "y = torch.from_numpy(y).type(torch.float)"
   ]
  },
  {
   "cell_type": "code",
   "execution_count": 348,
   "id": "f4a1304f",
   "metadata": {},
   "outputs": [
    {
     "name": "stdout",
     "output_type": "stream",
     "text": [
      "61756 61756 15439 15439\n",
      "19299 19299\n"
     ]
    }
   ],
   "source": [
    "from sklearn.model_selection import train_test_split\n",
    "from sklearn.model_selection import StratifiedShuffleSplit\n",
    "\n",
    "\n",
    "\n",
    "# Split the data into a stratified hold-out validation set and the rest\n",
    "stratified_splitter = StratifiedShuffleSplit(n_splits=1, test_size=0.2, random_state=42)\n",
    "\n",
    "for train_val_index, test_index in stratified_splitter.split(X, y):\n",
    "    X_train_val, X_test = X[train_val_index], X[test_index]\n",
    "    y_train_val, y_test = y[train_val_index], y[test_index]\n",
    "\n",
    "# Split the remaining data into training and validation sets\n",
    "X_train, X_val, y_train, y_val = train_test_split(X_train_val, y_train_val, test_size=0.2, stratify=y_train_val, random_state=42)\n",
    "\n",
    "print(len(X_train), len(y_train), len(X_val), len(y_val))\n",
    "print(len(X_test), len(y_test))\n",
    "\n",
    "\n",
    "# (X_train, X_val, y_train, y_val) for training, validation\n",
    "# X_test, y_test for the final hold-out validation.\n",
    "\n",
    "X_train, X_val, X_test = torch.from_numpy(X_train).type(torch.float),torch.from_numpy(X_val).type(torch.float), torch.from_numpy(X_test).type(torch.float)\n",
    "\n"
   ]
  },
  {
   "cell_type": "code",
   "execution_count": 350,
   "id": "488b3efb",
   "metadata": {},
   "outputs": [
    {
     "name": "stdout",
     "output_type": "stream",
     "text": [
      "61756 61756 61756\n"
     ]
    }
   ],
   "source": [
    "torch.manual_seed(42)\n",
    "# Expand the dimensions of y_train to make it 2-dimensional\n",
    "y_train = y_train.view(-1, 1)\n",
    "y_test = y_test.view(-1,1)\n",
    "y_val = y_val.view(-1,1)\n",
    "# Concatenate the complement of y_train to create a 2-dimensional tensor\n",
    "y_train_one_hot = torch.cat([1 - y_train, y_train], dim=1).float()\n",
    "y_test_one_hot = torch.cat([1 - y_test, y_test], dim=1).float()\n",
    "y_val_one_hot = torch.cat([1 - y_val, y_val], dim=1).float()\n",
    "\n",
    "\n",
    "# Move tensors to the same device\n",
    "X_train, y_train_one_hot, y_train = X_train.to(device), y_train_one_hot.to(device), y_train.to(device)\n",
    "X_val, y_val_one_hot, y_val = X_val.to(device), y_val_one_hot.to(device), y_val.to(device)\n",
    "X_test, y_test_one_hot, y_test = X_test.to(device), y_test_one_hot.to(device), y_test.to(device)\n",
    "\n",
    "\n",
    "print(X_train.size(0), y_train_one_hot.size(0), y_train.size(0))\n",
    "# Create datasets\n",
    "train_dataset = TensorDataset(X_train, y_train_one_hot, y_train)\n",
    "val_dataset = TensorDataset(X_val, y_val_one_hot, y_val)\n",
    "test_dataset = TensorDataset(X_test, y_test_one_hot, y_test)\n",
    "\n"
   ]
  },
  {
   "cell_type": "code",
   "execution_count": 352,
   "id": "ad841a6f",
   "metadata": {},
   "outputs": [],
   "source": [
    "from torch.utils.data import DataLoader, TensorDataset\n",
    "batch_size=64\n",
    "torch.manual_seed(42)\n",
    "# Convert to PyTorch DataLoader\n",
    "\n",
    "train_loader = DataLoader(train_dataset, batch_size=batch_size, shuffle=True)\n",
    "val_loader = DataLoader(val_dataset, batch_size=batch_size, shuffle=True)\n",
    "test_loader = DataLoader(test_dataset, batch_size=batch_size, shuffle=True)"
   ]
  },
  {
   "cell_type": "markdown",
   "id": "d20e4bb7",
   "metadata": {},
   "source": [
    "# 1 layer CNN"
   ]
  },
  {
   "cell_type": "code",
   "execution_count": 320,
   "id": "9c0dfed6",
   "metadata": {},
   "outputs": [],
   "source": [
    "class Conv_v0(torch.nn.Module):\n",
    "\n",
    "    def __init__(self):\n",
    "        super(Conv_v0, self).__init__()\n",
    "\n",
    "        self.conv1 = torch.nn.Conv1d(in_channels=4, out_channels=3, kernel_size=17)\n",
    "        self.activation = torch.nn.ReLU()\n",
    "        self.maxpool = torch.nn.MaxPool1d(kernel_size=5)\n",
    "        \n",
    "        self.dropout = torch.nn.Dropout(p=0.5) \n",
    "        self.fc = torch.nn.Linear(in_features=108, out_features=2)\n",
    "        #elf.sigmoid = torch.nn.Sigmoid()\n",
    "\n",
    "    def forward(self, x):\n",
    "        x= x.permute(0, 2, 1)\n",
    "        x = self.conv1(x)\n",
    "        x = self.activation(x)\n",
    "        x = self.maxpool(x)\n",
    "        \n",
    "        # Reshape the output of the max pooling layer before passing it to the fully connected layer\n",
    "        x = x.view(x.size(0), -1)\n",
    "        #print(\"Size after reshaping:\", x.size())\n",
    "        x=self.dropout(x)\n",
    "  \n",
    "    \n",
    "        \n",
    "        x = self.fc(x)\n",
    "       #x = self.sigmoid(x)\n",
    "        return x\n"
   ]
  },
  {
   "cell_type": "code",
   "execution_count": 321,
   "id": "e5de418e",
   "metadata": {},
   "outputs": [
    {
     "name": "stdout",
     "output_type": "stream",
     "text": [
      "tensor([[-0.0455, -0.0595],\n",
      "        [-0.1923, -0.6890],\n",
      "        [-0.4030, -0.2121],\n",
      "        ...,\n",
      "        [-0.4391, -0.2598],\n",
      "        [-0.2159, -0.1918],\n",
      "        [-0.3173, -0.4356]], grad_fn=<AddmmBackward0>)\n"
     ]
    }
   ],
   "source": [
    "# Create an instance of the Conv_v0 model\n",
    "torch.manual_seed(42)\n",
    "model = Conv_v0()\n",
    "\n",
    "# Generate random input data\n",
    "random_data = torch.rand((61756, 200, 4))\n",
    "\n",
    "# Pass the random data through the model\n",
    "result = model(random_data)\n",
    "\n",
    "print(result)\n"
   ]
  },
  {
   "cell_type": "code",
   "execution_count": 322,
   "id": "e1d337c9",
   "metadata": {},
   "outputs": [
    {
     "data": {
      "text/plain": [
       "tensor([[-0.5399, -0.4358],\n",
       "        [-0.1775, -0.1294],\n",
       "        [-0.1751,  0.2937],\n",
       "        [-0.0316,  0.0428],\n",
       "        [-0.0760, -0.4730]], grad_fn=<SliceBackward0>)"
      ]
     },
     "execution_count": 322,
     "metadata": {},
     "output_type": "execute_result"
    }
   ],
   "source": [
    "# View the frist 5 outputs of the forward pass on the test data\n",
    "y_logits = model(X_test.to(device))[:5]\n",
    "y_logits"
   ]
  },
  {
   "cell_type": "markdown",
   "id": "e2d90331",
   "metadata": {},
   "source": [
    "# Computing class weights"
   ]
  },
  {
   "cell_type": "code",
   "execution_count": 373,
   "id": "a96be4ec",
   "metadata": {},
   "outputs": [
    {
     "name": "stdout",
     "output_type": "stream",
     "text": [
      "Class Weights List: [2.6129045906494603, 1.6199994753547913]\n"
     ]
    }
   ],
   "source": [
    "from torch.utils.data import DataLoader, TensorDataset\n",
    "from sklearn.utils.class_weight import compute_class_weight\n",
    "\n",
    "# Assuming you have defined your dataset\n",
    "# train_dataset = TensorDataset(X_train, y_train_one_hot, y_train)\n",
    "\n",
    "# Extract the labels from the dataset\n",
    "_, _, y_train = zip(*train_dataset)\n",
    "\n",
    "# Count occurrences of each class\n",
    "class_0_count = sum(1 for label in y_train if label == 0)\n",
    "class_1_count = sum(1 for label in y_train if label == 1)\n",
    "\n",
    "# Total length of y_train\n",
    "total_samples = len(y_train)\n",
    "\n",
    "# Calculate class weights\n",
    "weights = [total_samples / class_0_count, total_samples / class_1_count]\n",
    "\n",
    "# Print the list of class weights\n",
    "print(\"Class Weights List:\", weights)\n",
    "\n",
    "\n"
   ]
  },
  {
   "cell_type": "markdown",
   "id": "40b134d4",
   "metadata": {},
   "source": [
    "# Set up loss function and optimizer"
   ]
  },
  {
   "cell_type": "code",
   "execution_count": 385,
   "id": "948d9087",
   "metadata": {},
   "outputs": [],
   "source": [
    "torch.manual_seed(42)\n",
    "# Create an instance of the Conv_v0 model\n",
    "model = Conv_v0()"
   ]
  },
  {
   "cell_type": "code",
   "execution_count": 384,
   "id": "7cdaa04d",
   "metadata": {},
   "outputs": [],
   "source": [
    "# Create a loss function\n",
    "# loss_fn = nn.BCELoss() # BCELoss = no sigmoid built-in\n",
    "loss_fn = nn.BCEWithLogitsLoss() # BCEWithLogitsLoss = sigmoid built-in\n",
    "\n",
    "# Create an optimizer\n",
    "optimizer = torch.optim.SGD(params=model.parameters(), \n",
    "                            lr=0.001)"
   ]
  },
  {
   "cell_type": "code",
   "execution_count": 386,
   "id": "55bab1e6",
   "metadata": {},
   "outputs": [
    {
     "name": "stdout",
     "output_type": "stream",
     "text": [
      "tensor([2.6129, 1.6200])\n"
     ]
    },
    {
     "name": "stderr",
     "output_type": "stream",
     "text": [
      "/tmp/ipykernel_2880998/579181073.py:2: UserWarning: To copy construct from a tensor, it is recommended to use sourceTensor.clone().detach() or sourceTensor.clone().detach().requires_grad_(True), rather than torch.tensor(sourceTensor).\n",
      "  weights = torch.tensor(weights).to(device)\n"
     ]
    }
   ],
   "source": [
    "from torch.optim import lr_scheduler\n",
    "weights = torch.tensor(weights).to(device)\n",
    "print(weights)\n",
    "\n",
    "\n",
    "# define the CrossEntropyLoss with weights\n",
    "loss_fn = nn.CrossEntropyLoss(weight=weights)\n",
    "optimizer = torch.optim.SGD(model.parameters(), lr=0.0001)\n",
    "exp_lr_scheduler = lr_scheduler.ExponentialLR(optimizer, gamma=0.01)"
   ]
  },
  {
   "cell_type": "code",
   "execution_count": 387,
   "id": "0b486b35",
   "metadata": {
    "scrolled": true
   },
   "outputs": [
    {
     "name": "stdout",
     "output_type": "stream",
     "text": [
      "Epoch: 1 | Train Loss: 1.45834, Train Acc: 44.86% | Val Loss: 1.49406, Val Acc: 50.00%\n",
      "Epoch: 2 | Train Loss: 1.49370, Train Acc: 48.99% | Val Loss: 1.17994, Val Acc: 50.00%\n",
      "Epoch: 3 | Train Loss: 1.47694, Train Acc: 54.71% | Val Loss: 1.39712, Val Acc: 50.00%\n",
      "Epoch: 4 | Train Loss: 1.27093, Train Acc: 55.95% | Val Loss: 1.36225, Val Acc: 50.00%\n",
      "Epoch: 5 | Train Loss: 1.35490, Train Acc: 42.34% | Val Loss: 1.29154, Val Acc: 50.00%\n",
      "Epoch: 6 | Train Loss: 1.41643, Train Acc: 43.90% | Val Loss: 1.47488, Val Acc: 50.00%\n",
      "Epoch: 7 | Train Loss: 1.32678, Train Acc: 50.40% | Val Loss: 1.31426, Val Acc: 55.00%\n",
      "Epoch: 8 | Train Loss: 1.36151, Train Acc: 48.20% | Val Loss: 1.37517, Val Acc: 50.00%\n",
      "Epoch: 9 | Train Loss: 1.39123, Train Acc: 52.99% | Val Loss: 1.27329, Val Acc: 50.00%\n",
      "Epoch: 10 | Train Loss: 1.25620, Train Acc: 55.68% | Val Loss: 1.31147, Val Acc: 55.00%\n"
     ]
    }
   ],
   "source": [
    "torch.manual_seed(42)\n",
    "# Training and evaluation loop\n",
    "epochs = 10  # You can adjust the number of epochs\n",
    "for epoch in range(epochs):\n",
    "    ### Training\n",
    "    model.train()\n",
    "\n",
    "    for X_train, y_train_one_hot, y_train in train_loader:\n",
    "        # Move data to the device if needed\n",
    "        X_train, y_train = X_train.to(device), y_train.to(device)\n",
    "\n",
    "        # 1. Forward pass (model outputs raw logits)\n",
    "        y_logits = model(X_train)#.squeeze()\n",
    "        y_pred = torch.round(torch.sigmoid(y_logits))\n",
    "        y_pred_class = torch.argmax(torch.softmax(y_pred, dim=1), dim=1)\n",
    "        #print(y_logits.shape,y_pred_class.shape,y_train.shape)\n",
    "        \n",
    "\n",
    "\n",
    "        # 2. Calculate loss/accuracy\n",
    "        loss = loss_fn(y_logits, y_train_one_hot)\n",
    "        acc = balanced_accuracy(y_true=y_train.detach().numpy(), \n",
    "                                y_pred=y_pred_class.detach().numpy())\n",
    "\n",
    "        # 3. Optimizer zero grad\n",
    "        optimizer.zero_grad()\n",
    "\n",
    "        # 4. Loss backward\n",
    "        loss.backward()\n",
    "\n",
    "        # 5. Optimizer step\n",
    "        optimizer.step()\n",
    "\n",
    "    ### Validation\n",
    "    model.eval()\n",
    "    with torch.no_grad():\n",
    "        for X_val, y_val_one_hot, y_val in val_loader:\n",
    "            # Move data to the device if needed\n",
    "            X_val, y_val_one_hot, y_val = X_val.to(device), y_val_one_hot.to(device), y_val.to(device)\n",
    "\n",
    "            # 1. Forward pass\n",
    "            val_logits = model(X_val).squeeze()\n",
    "            val_pred = torch.round(torch.sigmoid(val_logits))\n",
    "            \n",
    "\n",
    "            # 2. Calculate loss/accuracy\n",
    "            val_loss = loss_fn(val_logits, y_val_one_hot)\n",
    "            val_pred_class = torch.argmax(torch.softmax(val_pred, dim=1), dim=1)\n",
    "        \n",
    "            val_acc = balanced_accuracy(y_true=y_val.cpu().numpy(),\n",
    "                                        y_pred=val_pred_class.cpu().numpy())\n",
    "\n",
    "    # Print out what's happening every epoch\n",
    "    print(f\"Epoch: {epoch + 1} | Train Loss: {loss:.5f}, Train Acc: {acc:.2f}% | Val Loss: {val_loss:.5f}, Val Acc: {val_acc:.2f}%\")"
   ]
  },
  {
   "cell_type": "markdown",
   "id": "7dd92b8f",
   "metadata": {},
   "source": [
    "# Define functions for training and testing"
   ]
  },
  {
   "cell_type": "code",
   "execution_count": 363,
   "id": "8e47b9f4",
   "metadata": {},
   "outputs": [],
   "source": [
    "def train_step(model: torch.nn.Module,\n",
    "               dataloader: torch.utils.data.DataLoader,\n",
    "               loss_fn: torch.nn.Module,\n",
    "               optimizer: torch.optim.Optimizer,\n",
    "               device: torch.device) -> Tuple[float, float]:\n",
    "    \"\"\"Trains a PyTorch model for a single epoch.\n",
    "\n",
    "    Turns a target PyTorch model to training mode and then\n",
    "    runs through all of the required training steps (forward\n",
    "    pass, loss calculation, optimizer step).\n",
    "\n",
    "    Args:\n",
    "    model: A PyTorch model to be trained.\n",
    "    dataloader: A DataLoader instance for the model to be trained on.\n",
    "    loss_fn: A PyTorch loss function to minimize.\n",
    "    optimizer: A PyTorch optimizer to help minimize the loss function.\n",
    "    device: A target device to compute on (e.g. \"cuda\" or \"cpu\").\n",
    "\n",
    "    Returns:\n",
    "    A tuple of training loss and training accuracy metrics.\n",
    "    In the form (train_loss, train_accuracy). For example:\n",
    "\n",
    "    (0.1112, 0.8743)\n",
    "    \"\"\"\n",
    "    # Put model in train mode\n",
    "    model.train()\n",
    "\n",
    "    # Setup train loss and train accuracy values\n",
    "    train_loss, train_bal_acc, train_mcc, train_f_score = 0, 0, 0, 0\n",
    "\n",
    "    # Loop through data loader data batches\n",
    "    for batch, (X, y_one_hot, y) in enumerate(dataloader):\n",
    "        # Move data to the device if needed\n",
    "        X, y_one_hot, y = X.to(device), y_one_hot.to(device), y.to(device)\n",
    "\n",
    "        # 1. Forward pass (model outputs raw logits)\n",
    "        y_logits = model(X)#.squeeze()\n",
    "        y_pred = torch.round(torch.sigmoid(y_logits))\n",
    "        y_pred_class = torch.argmax(torch.softmax(y_pred, dim=1), dim=1)\n",
    "        \n",
    "        # 2. Calculate loss/accuracy\n",
    "        loss = loss_fn(y_logits, y_one_hot)\n",
    "        train_loss += loss.item()\n",
    "        \n",
    "        # 3. Optimizer zero grad\n",
    "        optimizer.zero_grad()\n",
    "\n",
    "        # 4. Loss backward\n",
    "        loss.backward()\n",
    "\n",
    "        \n",
    "        # 5. Optimizer step\n",
    "        optimizer.step()\n",
    "\n",
    "        # Calculate and accumulate accuracy metric across all batches\n",
    "        y_pred_class = torch.argmax(torch.softmax(y_pred, dim=1), dim=1)\n",
    "       #train_acc += (y_pred_class == y).sum().item() / len(y_pred)\n",
    "        # get the balanced accuracy\n",
    "        train_bal_acc += balanced_accuracy_score(y.cpu().numpy(), y_pred_class.cpu().numpy())\n",
    "        train_mcc += matthews_corrcoef(y.cpu().numpy(), y_pred_class.cpu().numpy())\n",
    "        train_f_score += f1_score(y.cpu().numpy(), y_pred_class.cpu().numpy(), average='weighted')\n",
    "\n",
    "    # Adjust metrics to get average loss and accuracy per batch\n",
    "    train_loss = train_loss / len(dataloader)\n",
    "    #train_acc = train_acc / len(dataloader)\n",
    "    train_bal_acc = train_bal_acc / len(dataloader)\n",
    "    train_mcc = train_mcc / len(dataloader)\n",
    "    train_f_score = train_f_score / len(dataloader)\n",
    "    \n",
    "    return train_loss, train_bal_acc, train_mcc, train_f_score\n"
   ]
  },
  {
   "cell_type": "code",
   "execution_count": 364,
   "id": "2629ef9d",
   "metadata": {},
   "outputs": [
    {
     "data": {
      "text/plain": [
       "(0.6875466336240422,\n",
       " 0.5024333407024787,\n",
       " 0.004515592386138611,\n",
       " 0.4838491501063373)"
      ]
     },
     "execution_count": 364,
     "metadata": {},
     "output_type": "execute_result"
    }
   ],
   "source": [
    "train_step(model = model,\n",
    "               dataloader = train_loader,\n",
    "               loss_fn = loss_fn,\n",
    "               optimizer = optimizer,\n",
    "               device = device)"
   ]
  },
  {
   "cell_type": "code",
   "execution_count": 365,
   "id": "72129ce5",
   "metadata": {},
   "outputs": [],
   "source": [
    "def test_step(model: torch.nn.Module,\n",
    "              dataloader: torch.utils.data.DataLoader,\n",
    "              loss_fn: torch.nn.Module,\n",
    "              device: torch.device) -> Tuple[float, float]:\n",
    "    \"\"\"Tests a PyTorch model for a single epoch.\n",
    "\n",
    "    Turns a target PyTorch model to \"eval\" mode and then performs\n",
    "    a forward pass on a testing dataset.\n",
    "\n",
    "    Args:\n",
    "    model: A PyTorch model to be tested.\n",
    "    dataloader: A DataLoader instance for the model to be tested on.\n",
    "    loss_fn: A PyTorch loss function to calculate loss on the test data.\n",
    "    device: A target device to compute on (e.g. \"cuda\" or \"cpu\").\n",
    "\n",
    "    Returns:\n",
    "    A tuple of testing loss and testing accuracy metrics.\n",
    "    In the form (test_loss, test_accuracy). For example:\n",
    "\n",
    "    (0.0223, 0.8985)\n",
    "    \"\"\"\n",
    "    # Put model in eval mode\n",
    "    model.eval()\n",
    "\n",
    "    # Setup test loss and test accuracy values\n",
    "    test_loss, test_bal_acc, test_mcc, test_f_score = 0, 0, 0, 0\n",
    "\n",
    "    # Turn on inference context manager\n",
    "    with torch.inference_mode():\n",
    "        # Loop through DataLoader batches\n",
    "        for batch, (X, y_one_hot,y) in enumerate(dataloader):\n",
    "            # Send data to target device\n",
    "            X, y_one_hot, y = X.to(device), y_one_hot.to(device), y.to(device)\n",
    "\n",
    "            # 1. Forward pass\n",
    "            test_pred_logits = model(X)\n",
    "\n",
    "            # 2. Calculate and accumulate loss\n",
    "            loss = loss_fn(test_pred_logits, y_one_hot)\n",
    "            test_loss += loss.item()\n",
    "\n",
    "            # Calculate and accumulate accuracy\n",
    "            test_pred_labels = test_pred_logits.argmax(dim=1)\n",
    "#             test_acc += ((test_pred_labels == y).sum().item() / len(test_pred_labels))\n",
    "            # get the balanced accuracy\n",
    "            test_bal_acc += balanced_accuracy_score(y.cpu().numpy(), test_pred_labels.cpu().numpy())\n",
    "            test_mcc += matthews_corrcoef(y.cpu().numpy(), test_pred_labels.cpu().numpy())\n",
    "            test_f_score += f1_score(y.cpu().numpy(), test_pred_labels.cpu().numpy(), average='weighted')\n",
    "\n",
    "    # Adjust metrics to get average loss and accuracy per batch\n",
    "    test_loss = test_loss / len(dataloader)\n",
    "#     test_acc = test_acc / len(dataloader)\n",
    "    test_bal_acc = test_bal_acc / torch.manual_seed(42)len(dataloader)\n",
    "    test_mcc = test_mcc / len(dataloader)\n",
    "    test_f_score = test_f_score / len(dataloader)\n",
    "    return test_loss, test_bal_acc, test_mcc, test_f_score"
   ]
  },
  {
   "cell_type": "code",
   "execution_count": 366,
   "id": "57d3445f",
   "metadata": {},
   "outputs": [
    {
     "data": {
      "text/plain": [
       "(0.6711328465703855, 0.5, 0.0, 0.47295885278523897)"
      ]
     },
     "execution_count": 366,
     "metadata": {},
     "output_type": "execute_result"
    }
   ],
   "source": [
    "test_step(model = model,\n",
    "               dataloader = train_loader,\n",
    "               loss_fn = loss_fn,\n",
    "               device = device)"
   ]
  },
  {
   "cell_type": "code",
   "execution_count": 392,
   "id": "1e1564a3",
   "metadata": {},
   "outputs": [
    {
     "name": "stdout",
     "output_type": "stream",
     "text": [
      "Collecting torchvision\n",
      "  Obtaining dependency information for torchvision from https://files.pythonhosted.org/packages/6e/c8/cf445dcf86daf1aed298061ad14b8d335fa594596aeaa6b951231328ffd1/torchvision-0.16.2-cp311-cp311-manylinux1_x86_64.whl.metadata\n",
      "  Downloading torchvision-0.16.2-cp311-cp311-manylinux1_x86_64.whl.metadata (6.6 kB)\n",
      "Requirement already satisfied: numpy in /mnt/raid1/thalassini/home/anaconda3/lib/python3.11/site-packages (from torchvision) (1.24.3)\n",
      "Requirement already satisfied: requests in /mnt/raid1/thalassini/home/anaconda3/lib/python3.11/site-packages (from torchvision) (2.31.0)\n",
      "Requirement already satisfied: torch==2.1.2 in /mnt/raid1/thalassini/home/anaconda3/lib/python3.11/site-packages (from torchvision) (2.1.2)\n",
      "Requirement already satisfied: pillow!=8.3.*,>=5.3.0 in /mnt/raid1/thalassini/home/anaconda3/lib/python3.11/site-packages (from torchvision) (9.4.0)\n",
      "Requirement already satisfied: filelock in /mnt/raid1/thalassini/home/anaconda3/lib/python3.11/site-packages (from torch==2.1.2->torchvision) (3.9.0)\n",
      "Requirement already satisfied: typing-extensions in /mnt/raid1/thalassini/home/anaconda3/lib/python3.11/site-packages (from torch==2.1.2->torchvision) (4.7.1)\n",
      "Requirement already satisfied: sympy in /mnt/raid1/thalassini/home/anaconda3/lib/python3.11/site-packages (from torch==2.1.2->torchvision) (1.11.1)\n",
      "Requirement already satisfied: networkx in /mnt/raid1/thalassini/home/anaconda3/lib/python3.11/site-packages (from torch==2.1.2->torchvision) (3.1)\n",
      "Requirement already satisfied: jinja2 in /mnt/raid1/thalassini/home/anaconda3/lib/python3.11/site-packages (from torch==2.1.2->torchvision) (3.1.2)\n",
      "Requirement already satisfied: fsspec in /mnt/raid1/thalassini/home/anaconda3/lib/python3.11/site-packages (from torch==2.1.2->torchvision) (2023.4.0)\n",
      "Requirement already satisfied: nvidia-cuda-nvrtc-cu12==12.1.105 in /mnt/raid1/thalassini/home/anaconda3/lib/python3.11/site-packages (from torch==2.1.2->torchvision) (12.1.105)\n",
      "Requirement already satisfied: nvidia-cuda-runtime-cu12==12.1.105 in /mnt/raid1/thalassini/home/anaconda3/lib/python3.11/site-packages (from torch==2.1.2->torchvision) (12.1.105)\n",
      "Requirement already satisfied: nvidia-cuda-cupti-cu12==12.1.105 in /mnt/raid1/thalassini/home/anaconda3/lib/python3.11/site-packages (from torch==2.1.2->torchvision) (12.1.105)\n",
      "Requirement already satisfied: nvidia-cudnn-cu12==8.9.2.26 in /mnt/raid1/thalassini/home/anaconda3/lib/python3.11/site-packages (from torch==2.1.2->torchvision) (8.9.2.26)\n",
      "Requirement already satisfied: nvidia-cublas-cu12==12.1.3.1 in /mnt/raid1/thalassini/home/anaconda3/lib/python3.11/site-packages (from torch==2.1.2->torchvision) (12.1.3.1)\n",
      "Requirement already satisfied: nvidia-cufft-cu12==11.0.2.54 in /mnt/raid1/thalassini/home/anaconda3/lib/python3.11/site-packages (from torch==2.1.2->torchvision) (11.0.2.54)\n",
      "Requirement already satisfied: nvidia-curand-cu12==10.3.2.106 in /mnt/raid1/thalassini/home/anaconda3/lib/python3.11/site-packages (from torch==2.1.2->torchvision) (10.3.2.106)\n",
      "Requirement already satisfied: nvidia-cusolver-cu12==11.4.5.107 in /mnt/raid1/thalassini/home/anaconda3/lib/python3.11/site-packages (from torch==2.1.2->torchvision) (11.4.5.107)\n",
      "Requirement already satisfied: nvidia-cusparse-cu12==12.1.0.106 in /mnt/raid1/thalassini/home/anaconda3/lib/python3.11/site-packages (from torch==2.1.2->torchvision) (12.1.0.106)\n",
      "Requirement already satisfied: nvidia-nccl-cu12==2.18.1 in /mnt/raid1/thalassini/home/anaconda3/lib/python3.11/site-packages (from torch==2.1.2->torchvision) (2.18.1)\n",
      "Requirement already satisfied: nvidia-nvtx-cu12==12.1.105 in /mnt/raid1/thalassini/home/anaconda3/lib/python3.11/site-packages (from torch==2.1.2->torchvision) (12.1.105)\n",
      "Requirement already satisfied: triton==2.1.0 in /mnt/raid1/thalassini/home/anaconda3/lib/python3.11/site-packages (from torch==2.1.2->torchvision) (2.1.0)\n",
      "Requirement already satisfied: nvidia-nvjitlink-cu12 in /mnt/raid1/thalassini/home/anaconda3/lib/python3.11/site-packages (from nvidia-cusolver-cu12==11.4.5.107->torch==2.1.2->torchvision) (12.3.101)\n",
      "Requirement already satisfied: charset-normalizer<4,>=2 in /mnt/raid1/thalassini/home/anaconda3/lib/python3.11/site-packages (from requests->torchvision) (2.0.4)\n",
      "Requirement already satisfied: idna<4,>=2.5 in /mnt/raid1/thalassini/home/anaconda3/lib/python3.11/site-packages (from requests->torchvision) (3.4)\n",
      "Requirement already satisfied: urllib3<3,>=1.21.1 in /mnt/raid1/thalassini/home/anaconda3/lib/python3.11/site-packages (from requests->torchvision) (1.26.16)\n",
      "Requirement already satisfied: certifi>=2017.4.17 in /mnt/raid1/thalassini/home/anaconda3/lib/python3.11/site-packages (from requests->torchvision) (2023.7.22)\n",
      "Requirement already satisfied: MarkupSafe>=2.0 in /mnt/raid1/thalassini/home/anaconda3/lib/python3.11/site-packages (from jinja2->torch==2.1.2->torchvision) (2.1.1)\n",
      "Requirement already satisfied: mpmath>=0.19 in /mnt/raid1/thalassini/home/anaconda3/lib/python3.11/site-packages (from sympy->torch==2.1.2->torchvision) (1.3.0)\n",
      "Downloading torchvision-0.16.2-cp311-cp311-manylinux1_x86_64.whl (6.8 MB)\n",
      "\u001b[2K   \u001b[38;2;114;156;31m━━━━━━━━━━━━━━━━━━━━━━━━━━━━━━━━━━━━━━━━\u001b[0m \u001b[32m6.8/6.8 MB\u001b[0m \u001b[31m26.4 MB/s\u001b[0m eta \u001b[36m0:00:00\u001b[0mm eta \u001b[36m0:00:01\u001b[0m[36m0:00:01\u001b[0m\n",
      "\u001b[?25hInstalling collected packages: torchvision\n",
      "Successfully installed torchvision-0.16.2\n",
      "Note: you may need to restart the kernel to use updated packages.\n"
     ]
    }
   ],
   "source": [
    "pip install torchvision\n"
   ]
  },
  {
   "cell_type": "code",
   "execution_count": 393,
   "id": "c04a63b2",
   "metadata": {},
   "outputs": [],
   "source": [
    "import torchvision\n",
    "import engine\n",
    "\n",
    "import helper_functions"
   ]
  },
  {
   "cell_type": "code",
   "execution_count": 399,
   "id": "3c99c72f",
   "metadata": {},
   "outputs": [
    {
     "data": {
      "application/vnd.jupyter.widget-view+json": {
       "model_id": "808ceb05dc994cdfb2a4e407c1542a94",
       "version_major": 2,
       "version_minor": 0
      },
      "text/plain": [
       "  0%|          | 0/100 [00:00<?, ?it/s]"
      ]
     },
     "metadata": {},
     "output_type": "display_data"
    },
    {
     "name": "stdout",
     "output_type": "stream",
     "text": [
      "Epoch: 1 | train_loss: 0.9727 | train_bal_acc: 0.7327 | train_mcc: 0.4589 | valid_loss: 0.8450 | valid_bal_acc: 0.9199 | valid_mcc: 0.8326\n",
      "Epoch: 2 | train_loss: 0.9540 | train_bal_acc: 0.7393 | train_mcc: 0.4717 | valid_loss: 0.8191 | valid_bal_acc: 0.9255 | valid_mcc: 0.8441\n",
      "Epoch: 3 | train_loss: 0.9353 | train_bal_acc: 0.7457 | train_mcc: 0.4830 | valid_loss: 0.7949 | valid_bal_acc: 0.9311 | valid_mcc: 0.8553\n",
      "Epoch: 4 | train_loss: 0.9213 | train_bal_acc: 0.7507 | train_mcc: 0.4924 | valid_loss: 0.7705 | valid_bal_acc: 0.9360 | valid_mcc: 0.8662\n",
      "Epoch: 5 | train_loss: 0.9052 | train_bal_acc: 0.7579 | train_mcc: 0.5050 | valid_loss: 0.7480 | valid_bal_acc: 0.9414 | valid_mcc: 0.8777\n",
      "Epoch: 6 | train_loss: 0.8984 | train_bal_acc: 0.7564 | train_mcc: 0.5023 | valid_loss: 0.7294 | valid_bal_acc: 0.9450 | valid_mcc: 0.8844\n",
      "Epoch: 7 | train_loss: 0.8820 | train_bal_acc: 0.7643 | train_mcc: 0.5166 | valid_loss: 0.7092 | valid_bal_acc: 0.9494 | valid_mcc: 0.8946\n",
      "Epoch: 8 | train_loss: 0.8709 | train_bal_acc: 0.7681 | train_mcc: 0.5239 | valid_loss: 0.6897 | valid_bal_acc: 0.9536 | valid_mcc: 0.9031\n",
      "Epoch: 9 | train_loss: 0.8559 | train_bal_acc: 0.7725 | train_mcc: 0.5323 | valid_loss: 0.6728 | valid_bal_acc: 0.9558 | valid_mcc: 0.9089\n",
      "Epoch: 10 | train_loss: 0.8538 | train_bal_acc: 0.7714 | train_mcc: 0.5301 | valid_loss: 0.6574 | valid_bal_acc: 0.9582 | valid_mcc: 0.9141\n",
      "Epoch: 11 | train_loss: 0.8395 | train_bal_acc: 0.7783 | train_mcc: 0.5425 | valid_loss: 0.6411 | valid_bal_acc: 0.9607 | valid_mcc: 0.9178\n",
      "Epoch: 12 | train_loss: 0.8294 | train_bal_acc: 0.7806 | train_mcc: 0.5473 | valid_loss: 0.6255 | valid_bal_acc: 0.9618 | valid_mcc: 0.9210\n",
      "Epoch: 13 | train_loss: 0.8238 | train_bal_acc: 0.7830 | train_mcc: 0.5514 | valid_loss: 0.6139 | valid_bal_acc: 0.9627 | valid_mcc: 0.9231\n",
      "Epoch: 14 | train_loss: 0.8073 | train_bal_acc: 0.7891 | train_mcc: 0.5631 | valid_loss: 0.5979 | valid_bal_acc: 0.9657 | valid_mcc: 0.9287\n",
      "Epoch: 15 | train_loss: 0.8049 | train_bal_acc: 0.7868 | train_mcc: 0.5590 | valid_loss: 0.5853 | valid_bal_acc: 0.9661 | valid_mcc: 0.9310\n",
      "Epoch: 16 | train_loss: 0.7994 | train_bal_acc: 0.7912 | train_mcc: 0.5667 | valid_loss: 0.5740 | valid_bal_acc: 0.9684 | valid_mcc: 0.9349\n",
      "Epoch: 17 | train_loss: 0.7871 | train_bal_acc: 0.7978 | train_mcc: 0.5791 | valid_loss: 0.5628 | valid_bal_acc: 0.9699 | valid_mcc: 0.9379\n",
      "Epoch: 18 | train_loss: 0.7820 | train_bal_acc: 0.7971 | train_mcc: 0.5782 | valid_loss: 0.5514 | valid_bal_acc: 0.9714 | valid_mcc: 0.9403\n",
      "Epoch: 19 | train_loss: 0.7762 | train_bal_acc: 0.7983 | train_mcc: 0.5804 | valid_loss: 0.5411 | valid_bal_acc: 0.9726 | valid_mcc: 0.9426\n",
      "Epoch: 20 | train_loss: 0.7673 | train_bal_acc: 0.8007 | train_mcc: 0.5849 | valid_loss: 0.5301 | valid_bal_acc: 0.9737 | valid_mcc: 0.9451\n",
      "Epoch: 21 | train_loss: 0.7596 | train_bal_acc: 0.8038 | train_mcc: 0.5910 | valid_loss: 0.5199 | valid_bal_acc: 0.9747 | valid_mcc: 0.9473\n",
      "Epoch: 22 | train_loss: 0.7513 | train_bal_acc: 0.8063 | train_mcc: 0.5951 | valid_loss: 0.5108 | valid_bal_acc: 0.9754 | valid_mcc: 0.9494\n",
      "Epoch: 23 | train_loss: 0.7473 | train_bal_acc: 0.8080 | train_mcc: 0.5987 | valid_loss: 0.5005 | valid_bal_acc: 0.9764 | valid_mcc: 0.9511\n",
      "Epoch: 24 | train_loss: 0.7402 | train_bal_acc: 0.8091 | train_mcc: 0.6008 | valid_loss: 0.4930 | valid_bal_acc: 0.9764 | valid_mcc: 0.9511\n",
      "Epoch: 25 | train_loss: 0.7378 | train_bal_acc: 0.8111 | train_mcc: 0.6048 | valid_loss: 0.4832 | valid_bal_acc: 0.9773 | valid_mcc: 0.9530\n",
      "Epoch: 26 | train_loss: 0.7322 | train_bal_acc: 0.8134 | train_mcc: 0.6095 | valid_loss: 0.4750 | valid_bal_acc: 0.9774 | valid_mcc: 0.9533\n",
      "Epoch: 27 | train_loss: 0.7250 | train_bal_acc: 0.8157 | train_mcc: 0.6135 | valid_loss: 0.4682 | valid_bal_acc: 0.9777 | valid_mcc: 0.9542\n",
      "Epoch: 28 | train_loss: 0.7251 | train_bal_acc: 0.8164 | train_mcc: 0.6146 | valid_loss: 0.4616 | valid_bal_acc: 0.9784 | valid_mcc: 0.9558\n",
      "Epoch: 29 | train_loss: 0.7134 | train_bal_acc: 0.8198 | train_mcc: 0.6211 | valid_loss: 0.4523 | valid_bal_acc: 0.9787 | valid_mcc: 0.9562\n",
      "Epoch: 30 | train_loss: 0.7084 | train_bal_acc: 0.8213 | train_mcc: 0.6240 | valid_loss: 0.4450 | valid_bal_acc: 0.9795 | valid_mcc: 0.9583\n",
      "Epoch: 31 | train_loss: 0.7062 | train_bal_acc: 0.8222 | train_mcc: 0.6260 | valid_loss: 0.4393 | valid_bal_acc: 0.9801 | valid_mcc: 0.9592\n",
      "Epoch: 32 | train_loss: 0.6991 | train_bal_acc: 0.8254 | train_mcc: 0.6323 | valid_loss: 0.4328 | valid_bal_acc: 0.9802 | valid_mcc: 0.9588\n",
      "Epoch: 33 | train_loss: 0.6934 | train_bal_acc: 0.8273 | train_mcc: 0.6360 | valid_loss: 0.4257 | valid_bal_acc: 0.9805 | valid_mcc: 0.9598\n",
      "Epoch: 34 | train_loss: 0.6934 | train_bal_acc: 0.8255 | train_mcc: 0.6329 | valid_loss: 0.4197 | valid_bal_acc: 0.9811 | valid_mcc: 0.9609\n",
      "Epoch: 35 | train_loss: 0.6875 | train_bal_acc: 0.8282 | train_mcc: 0.6380 | valid_loss: 0.4133 | valid_bal_acc: 0.9816 | valid_mcc: 0.9616\n",
      "Epoch: 36 | train_loss: 0.6816 | train_bal_acc: 0.8315 | train_mcc: 0.6445 | valid_loss: 0.4072 | valid_bal_acc: 0.9815 | valid_mcc: 0.9618\n",
      "Epoch: 37 | train_loss: 0.6789 | train_bal_acc: 0.8311 | train_mcc: 0.6432 | valid_loss: 0.4022 | valid_bal_acc: 0.9810 | valid_mcc: 0.9620\n",
      "Epoch: 38 | train_loss: 0.6700 | train_bal_acc: 0.8353 | train_mcc: 0.6522 | valid_loss: 0.3959 | valid_bal_acc: 0.9818 | valid_mcc: 0.9626\n",
      "Epoch: 39 | train_loss: 0.6738 | train_bal_acc: 0.8341 | train_mcc: 0.6494 | valid_loss: 0.3908 | valid_bal_acc: 0.9821 | valid_mcc: 0.9634\n",
      "Epoch: 40 | train_loss: 0.6742 | train_bal_acc: 0.8348 | train_mcc: 0.6508 | valid_loss: 0.3865 | valid_bal_acc: 0.9825 | valid_mcc: 0.9635\n",
      "Epoch: 41 | train_loss: 0.6592 | train_bal_acc: 0.8370 | train_mcc: 0.6551 | valid_loss: 0.3800 | valid_bal_acc: 0.9820 | valid_mcc: 0.9635\n",
      "Epoch: 42 | train_loss: 0.6611 | train_bal_acc: 0.8383 | train_mcc: 0.6576 | valid_loss: 0.3757 | valid_bal_acc: 0.9828 | valid_mcc: 0.9643\n",
      "Epoch: 43 | train_loss: 0.6525 | train_bal_acc: 0.8396 | train_mcc: 0.6602 | valid_loss: 0.3693 | valid_bal_acc: 0.9828 | valid_mcc: 0.9641\n",
      "Epoch: 44 | train_loss: 0.6516 | train_bal_acc: 0.8412 | train_mcc: 0.6634 | valid_loss: 0.3650 | valid_bal_acc: 0.9824 | valid_mcc: 0.9641\n",
      "Epoch: 45 | train_loss: 0.6495 | train_bal_acc: 0.8405 | train_mcc: 0.6623 | valid_loss: 0.3615 | valid_bal_acc: 0.9825 | valid_mcc: 0.9637\n",
      "Epoch: 46 | train_loss: 0.6406 | train_bal_acc: 0.8426 | train_mcc: 0.6659 | valid_loss: 0.3568 | valid_bal_acc: 0.9828 | valid_mcc: 0.9645\n",
      "Epoch: 47 | train_loss: 0.6330 | train_bal_acc: 0.8470 | train_mcc: 0.6745 | valid_loss: 0.3510 | valid_bal_acc: 0.9830 | valid_mcc: 0.9653\n",
      "Epoch: 48 | train_loss: 0.6320 | train_bal_acc: 0.8476 | train_mcc: 0.6763 | valid_loss: 0.3472 | valid_bal_acc: 0.9833 | valid_mcc: 0.9656\n",
      "Epoch: 49 | train_loss: 0.6332 | train_bal_acc: 0.8467 | train_mcc: 0.6740 | valid_loss: 0.3437 | valid_bal_acc: 0.9834 | valid_mcc: 0.9656\n",
      "Epoch: 50 | train_loss: 0.6277 | train_bal_acc: 0.8484 | train_mcc: 0.6779 | valid_loss: 0.3388 | valid_bal_acc: 0.9832 | valid_mcc: 0.9657\n",
      "Epoch: 51 | train_loss: 0.6272 | train_bal_acc: 0.8497 | train_mcc: 0.6798 | valid_loss: 0.3357 | valid_bal_acc: 0.9835 | valid_mcc: 0.9659\n",
      "Epoch: 52 | train_loss: 0.6243 | train_bal_acc: 0.8507 | train_mcc: 0.6815 | valid_loss: 0.3324 | valid_bal_acc: 0.9835 | valid_mcc: 0.9659\n",
      "Epoch: 53 | train_loss: 0.6217 | train_bal_acc: 0.8492 | train_mcc: 0.6789 | valid_loss: 0.3287 | valid_bal_acc: 0.9843 | valid_mcc: 0.9669\n",
      "Epoch: 54 | train_loss: 0.6172 | train_bal_acc: 0.8521 | train_mcc: 0.6850 | valid_loss: 0.3252 | valid_bal_acc: 0.9840 | valid_mcc: 0.9668\n",
      "Epoch: 55 | train_loss: 0.6129 | train_bal_acc: 0.8538 | train_mcc: 0.6887 | valid_loss: 0.3211 | valid_bal_acc: 0.9841 | valid_mcc: 0.9672\n",
      "Epoch: 56 | train_loss: 0.6121 | train_bal_acc: 0.8538 | train_mcc: 0.6885 | valid_loss: 0.3177 | valid_bal_acc: 0.9835 | valid_mcc: 0.9667\n",
      "Epoch: 57 | train_loss: 0.6050 | train_bal_acc: 0.8552 | train_mcc: 0.6912 | valid_loss: 0.3141 | valid_bal_acc: 0.9838 | valid_mcc: 0.9666\n",
      "Epoch: 58 | train_loss: 0.6084 | train_bal_acc: 0.8541 | train_mcc: 0.6896 | valid_loss: 0.3105 | valid_bal_acc: 0.9838 | valid_mcc: 0.9668\n",
      "Epoch: 59 | train_loss: 0.5932 | train_bal_acc: 0.8584 | train_mcc: 0.6974 | valid_loss: 0.3059 | valid_bal_acc: 0.9840 | valid_mcc: 0.9672\n"
     ]
    },
    {
     "name": "stdout",
     "output_type": "stream",
     "text": [
      "Epoch: 60 | train_loss: 0.6015 | train_bal_acc: 0.8575 | train_mcc: 0.6959 | valid_loss: 0.3038 | valid_bal_acc: 0.9837 | valid_mcc: 0.9669\n",
      "Epoch: 61 | train_loss: 0.5996 | train_bal_acc: 0.8572 | train_mcc: 0.6952 | valid_loss: 0.3018 | valid_bal_acc: 0.9844 | valid_mcc: 0.9676\n",
      "Epoch: 62 | train_loss: 0.5949 | train_bal_acc: 0.8584 | train_mcc: 0.6975 | valid_loss: 0.2981 | valid_bal_acc: 0.9844 | valid_mcc: 0.9681\n",
      "Epoch: 63 | train_loss: 0.5919 | train_bal_acc: 0.8585 | train_mcc: 0.6979 | valid_loss: 0.2955 | valid_bal_acc: 0.9848 | valid_mcc: 0.9687\n",
      "Epoch: 64 | train_loss: 0.5894 | train_bal_acc: 0.8600 | train_mcc: 0.7012 | valid_loss: 0.2929 | valid_bal_acc: 0.9844 | valid_mcc: 0.9684\n",
      "Epoch: 65 | train_loss: 0.5853 | train_bal_acc: 0.8626 | train_mcc: 0.7059 | valid_loss: 0.2894 | valid_bal_acc: 0.9848 | valid_mcc: 0.9691\n",
      "Epoch: 66 | train_loss: 0.5799 | train_bal_acc: 0.8623 | train_mcc: 0.7052 | valid_loss: 0.2863 | valid_bal_acc: 0.9850 | valid_mcc: 0.9691\n",
      "Epoch: 67 | train_loss: 0.5848 | train_bal_acc: 0.8604 | train_mcc: 0.7011 | valid_loss: 0.2846 | valid_bal_acc: 0.9853 | valid_mcc: 0.9695\n",
      "Epoch: 68 | train_loss: 0.5772 | train_bal_acc: 0.8645 | train_mcc: 0.7099 | valid_loss: 0.2821 | valid_bal_acc: 0.9856 | valid_mcc: 0.9703\n",
      "Epoch: 69 | train_loss: 0.5777 | train_bal_acc: 0.8650 | train_mcc: 0.7111 | valid_loss: 0.2802 | valid_bal_acc: 0.9858 | valid_mcc: 0.9703\n",
      "Epoch: 70 | train_loss: 0.5749 | train_bal_acc: 0.8647 | train_mcc: 0.7103 | valid_loss: 0.2775 | valid_bal_acc: 0.9850 | valid_mcc: 0.9703\n",
      "Epoch: 71 | train_loss: 0.5737 | train_bal_acc: 0.8659 | train_mcc: 0.7125 | valid_loss: 0.2753 | valid_bal_acc: 0.9855 | valid_mcc: 0.9702\n",
      "Epoch: 72 | train_loss: 0.5686 | train_bal_acc: 0.8676 | train_mcc: 0.7158 | valid_loss: 0.2724 | valid_bal_acc: 0.9852 | valid_mcc: 0.9700\n",
      "Epoch: 73 | train_loss: 0.5629 | train_bal_acc: 0.8665 | train_mcc: 0.7145 | valid_loss: 0.2697 | valid_bal_acc: 0.9856 | valid_mcc: 0.9706\n",
      "Epoch: 74 | train_loss: 0.5645 | train_bal_acc: 0.8694 | train_mcc: 0.7199 | valid_loss: 0.2687 | valid_bal_acc: 0.9858 | valid_mcc: 0.9706\n",
      "Epoch: 75 | train_loss: 0.5577 | train_bal_acc: 0.8694 | train_mcc: 0.7193 | valid_loss: 0.2661 | valid_bal_acc: 0.9861 | valid_mcc: 0.9706\n",
      "Epoch: 76 | train_loss: 0.5574 | train_bal_acc: 0.8709 | train_mcc: 0.7230 | valid_loss: 0.2635 | valid_bal_acc: 0.9856 | valid_mcc: 0.9705\n",
      "Epoch: 77 | train_loss: 0.5556 | train_bal_acc: 0.8716 | train_mcc: 0.7239 | valid_loss: 0.2608 | valid_bal_acc: 0.9861 | valid_mcc: 0.9713\n",
      "Epoch: 78 | train_loss: 0.5580 | train_bal_acc: 0.8691 | train_mcc: 0.7191 | valid_loss: 0.2589 | valid_bal_acc: 0.9861 | valid_mcc: 0.9714\n",
      "Epoch: 79 | train_loss: 0.5533 | train_bal_acc: 0.8713 | train_mcc: 0.7232 | valid_loss: 0.2577 | valid_bal_acc: 0.9861 | valid_mcc: 0.9714\n",
      "Epoch: 80 | train_loss: 0.5551 | train_bal_acc: 0.8711 | train_mcc: 0.7230 | valid_loss: 0.2564 | valid_bal_acc: 0.9863 | valid_mcc: 0.9711\n",
      "Epoch: 81 | train_loss: 0.5516 | train_bal_acc: 0.8715 | train_mcc: 0.7244 | valid_loss: 0.2550 | valid_bal_acc: 0.9862 | valid_mcc: 0.9711\n",
      "Epoch: 82 | train_loss: 0.5476 | train_bal_acc: 0.8722 | train_mcc: 0.7256 | valid_loss: 0.2527 | valid_bal_acc: 0.9862 | valid_mcc: 0.9714\n",
      "Epoch: 83 | train_loss: 0.5458 | train_bal_acc: 0.8729 | train_mcc: 0.7271 | valid_loss: 0.2508 | valid_bal_acc: 0.9862 | valid_mcc: 0.9709\n",
      "Epoch: 84 | train_loss: 0.5444 | train_bal_acc: 0.8749 | train_mcc: 0.7304 | valid_loss: 0.2486 | valid_bal_acc: 0.9861 | valid_mcc: 0.9710\n",
      "Epoch: 85 | train_loss: 0.5378 | train_bal_acc: 0.8744 | train_mcc: 0.7293 | valid_loss: 0.2461 | valid_bal_acc: 0.9864 | valid_mcc: 0.9719\n",
      "Epoch: 86 | train_loss: 0.5381 | train_bal_acc: 0.8750 | train_mcc: 0.7312 | valid_loss: 0.2447 | valid_bal_acc: 0.9863 | valid_mcc: 0.9715\n",
      "Epoch: 87 | train_loss: 0.5415 | train_bal_acc: 0.8752 | train_mcc: 0.7313 | valid_loss: 0.2424 | valid_bal_acc: 0.9864 | valid_mcc: 0.9718\n",
      "Epoch: 88 | train_loss: 0.5364 | train_bal_acc: 0.8753 | train_mcc: 0.7314 | valid_loss: 0.2418 | valid_bal_acc: 0.9861 | valid_mcc: 0.9714\n",
      "Epoch: 89 | train_loss: 0.5315 | train_bal_acc: 0.8779 | train_mcc: 0.7368 | valid_loss: 0.2398 | valid_bal_acc: 0.9865 | valid_mcc: 0.9717\n",
      "Epoch: 90 | train_loss: 0.5325 | train_bal_acc: 0.8782 | train_mcc: 0.7372 | valid_loss: 0.2380 | valid_bal_acc: 0.9859 | valid_mcc: 0.9709\n",
      "Epoch: 91 | train_loss: 0.5395 | train_bal_acc: 0.8759 | train_mcc: 0.7330 | valid_loss: 0.2372 | valid_bal_acc: 0.9864 | valid_mcc: 0.9715\n",
      "Epoch: 92 | train_loss: 0.5304 | train_bal_acc: 0.8762 | train_mcc: 0.7342 | valid_loss: 0.2353 | valid_bal_acc: 0.9864 | valid_mcc: 0.9717\n",
      "Epoch: 93 | train_loss: 0.5290 | train_bal_acc: 0.8775 | train_mcc: 0.7364 | valid_loss: 0.2347 | valid_bal_acc: 0.9864 | valid_mcc: 0.9713\n",
      "Epoch: 94 | train_loss: 0.5268 | train_bal_acc: 0.8772 | train_mcc: 0.7350 | valid_loss: 0.2332 | valid_bal_acc: 0.9863 | valid_mcc: 0.9711\n",
      "Epoch: 95 | train_loss: 0.5287 | train_bal_acc: 0.8776 | train_mcc: 0.7356 | valid_loss: 0.2320 | valid_bal_acc: 0.9866 | valid_mcc: 0.9714\n",
      "Epoch: 96 | train_loss: 0.5244 | train_bal_acc: 0.8800 | train_mcc: 0.7407 | valid_loss: 0.2310 | valid_bal_acc: 0.9866 | valid_mcc: 0.9709\n",
      "Epoch: 97 | train_loss: 0.5156 | train_bal_acc: 0.8807 | train_mcc: 0.7428 | valid_loss: 0.2288 | valid_bal_acc: 0.9861 | valid_mcc: 0.9710\n",
      "Epoch: 98 | train_loss: 0.5253 | train_bal_acc: 0.8789 | train_mcc: 0.7388 | valid_loss: 0.2284 | valid_bal_acc: 0.9867 | valid_mcc: 0.9717\n",
      "Epoch: 99 | train_loss: 0.5178 | train_bal_acc: 0.8811 | train_mcc: 0.7429 | valid_loss: 0.2257 | valid_bal_acc: 0.9870 | valid_mcc: 0.9725\n",
      "Epoch: 100 | train_loss: 0.5226 | train_bal_acc: 0.8795 | train_mcc: 0.7401 | valid_loss: 0.2256 | valid_bal_acc: 0.9864 | valid_mcc: 0.9719\n"
     ]
    }
   ],
   "source": [
    "results, _ = engine.train_with_early_stopping(model=model,\n",
    "                                                  train_dataloader=train_loader,\n",
    "                                                  valid_dataloader=val_loader,\n",
    "                                                  optimizer=optimizer,\n",
    "                                                  loss_fn=loss_fn,\n",
    "                                                  epochs=100,\n",
    "                                                  device=device)\n"
   ]
  },
  {
   "cell_type": "code",
   "execution_count": 398,
   "id": "70f551b6",
   "metadata": {},
   "outputs": [
    {
     "data": {
      "image/png": "[encoded data removed]",
      "text/plain": [
       "<Figure size 1500x700 with 2 Axes>"
      ]
     },
     "metadata": {},
     "output_type": "display_data"
    }
   ],
   "source": [
    "helper_functions.plot_loss_curves(results)"
   ]
  },
  {
   "cell_type": "code",
   "execution_count": null,
   "id": "08dd8154",
   "metadata": {},
   "outputs": [],
   "source": []
  }
 ],
 "metadata": {
  "kernelspec": {
   "display_name": "Python 3 (ipykernel)",
   "language": "python",
   "name": "python3"
  },
  "language_info": {
   "codemirror_mode": {
    "name": "ipython",
    "version": 3
   },
   "file_extension": ".py",
   "mimetype": "text/x-python",
   "name": "python",
   "nbconvert_exporter": "python",
   "pygments_lexer": "ipython3",
   "version": "3.11.5"
  }
 },
 "nbformat": 4,
 "nbformat_minor": 5
}
