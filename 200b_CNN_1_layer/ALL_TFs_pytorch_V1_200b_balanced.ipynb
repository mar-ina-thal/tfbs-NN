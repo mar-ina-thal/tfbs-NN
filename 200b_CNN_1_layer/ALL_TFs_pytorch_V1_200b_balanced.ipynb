{
 "cells": [
  {
   "cell_type": "markdown",
   "id": "e7eb3167",
   "metadata": {},
   "source": [
    "# Imports and functions"
   ]
  },
  {
   "cell_type": "code",
   "execution_count": 41,
   "id": "05d85633",
   "metadata": {},
   "outputs": [],
   "source": [
    "import pandas as pd\n",
    "import numpy as np\n",
    "from sklearn.preprocessing import OneHotEncoder\n",
    "from keras.utils import to_categorical\n",
    "from sklearn.metrics import balanced_accuracy_score\n",
    "\n"
   ]
  },
  {
   "cell_type": "code",
   "execution_count": 42,
   "id": "43a5887d",
   "metadata": {},
   "outputs": [],
   "source": [
    "import torchvision\n",
    "import engine\n",
    "import engine_boosted\n",
    "import engine_boosted_multi\n",
    "import helper_functions"
   ]
  },
  {
   "cell_type": "code",
   "execution_count": 43,
   "id": "59bde44a",
   "metadata": {},
   "outputs": [],
   "source": [
    "from tqdm.auto import tqdm\n",
    "from typing import Dict, List, Tuple\n",
    "from sklearn.metrics import balanced_accuracy_score, matthews_corrcoef, f1_score\n",
    "from collections import deque  # Import deque for early stopping\n",
    "import warnings\n",
    "\n",
    "# Suppress the specific UserWarning related to y_pred and y_true class mismatch\n",
    "warnings.filterwarnings(\"ignore\", category=UserWarning, message=\"y_pred contains classes not in y_true\")"
   ]
  },
  {
   "cell_type": "code",
   "execution_count": 44,
   "id": "faeaeafc",
   "metadata": {},
   "outputs": [],
   "source": [
    "from sklearn.metrics import balanced_accuracy_score\n",
    "\n",
    "# Function to calculate balanced accuracy using sklearn\n",
    "def balanced_accuracy(y_true, y_pred):\n",
    "    return balanced_accuracy_score(y_true, y_pred) * 100"
   ]
  },
  {
   "cell_type": "code",
   "execution_count": 45,
   "id": "6c000451",
   "metadata": {},
   "outputs": [],
   "source": [
    "# Function to perform one-hot encoding for DNA sequences\n",
    "def one_hot_encode(sequence):\n",
    "    encoding = {'A': [1, 0, 0, 0], 'T': [0, 1, 0, 0], 'G': [0, 0, 1, 0], 'C': [0, 0, 0, 1]}\n",
    "    one_hot_sequence = [encoding.get(base, [0, 0, 0, 0]) for base in sequence]\n",
    "    return np.array(one_hot_sequence)"
   ]
  },
  {
   "cell_type": "code",
   "execution_count": 46,
   "id": "d981b1bf",
   "metadata": {},
   "outputs": [],
   "source": [
    "kernel = {\n",
    "    'ATF2': [10] ,\n",
    "    'ATF3' : [10] ,\n",
    "    'CEBPB' : [10] ,\n",
    "    'CREB1' : [8] ,\n",
    "    'CTCF' : [15] ,\n",
    "    'E2F4' : [13] ,\n",
    "    'EGR1' : [10] ,\n",
    "    'EFL1' : [9] ,\n",
    "    'ELK1' : [9] ,\n",
    "    'FOS' : [8] ,\n",
    "    'FOXA1' : [8] ,\n",
    "    'GABPA' : [10] ,\n",
    "    'JUN' : [14] ,\n",
    "    'JUND' : [11] ,\n",
    "    'MAFK' : [10] ,\n",
    "    'MAX' : [6] ,\n",
    "    'MAZ' : [8] ,\n",
    "    'MXI1' : [6] ,\n",
    "    'MYC' : [8] ,\n",
    "    'NRF1' : [11] ,\n",
    "    'RELA' : [10] ,\n",
    "    'REST' : [20] ,\n",
    "    'RFX5' : [14] ,\n",
    "    'SP1' : [9] ,\n",
    "    'SRF' : [16] ,\n",
    "    'TCF7L2' : [9] ,\n",
    "    'TCF12' : [7] ,\n",
    "    'TEAD4' : [8] ,\n",
    "    'USF1' : [10] ,\n",
    "    'USF2' : [10] ,\n",
    "    'YY1' : [12] ,\n",
    "    'ZBTB33' : [10] ,\n",
    "    'ZNF274' : [12]\n",
    "}"
   ]
  },
  {
   "cell_type": "code",
   "execution_count": 47,
   "id": "11b36fc7",
   "metadata": {},
   "outputs": [],
   "source": [
    "tf_class = {\n",
    "    'ATF2': 0,\n",
    "    'ATF3': 1,\n",
    "    'CEBPB': 2,\n",
    "    'CREB1': 3,\n",
    "    'CTCF': 4,\n",
    "    'E2F4': 5,\n",
    "    'EGR1': 6,\n",
    "    'EFL1': 7,\n",
    "    'ELK1': 8,\n",
    "    'FOS': 9,\n",
    "    'FOXA1': 10,\n",
    "    'GABPA': 11,\n",
    "    'JUN': 12,\n",
    "    'JUND': 13,\n",
    "    'MAFK': 14,\n",
    "    'MAX': 15,\n",
    "    'MAZ': 16,\n",
    "    'MXI1': 17,\n",
    "    'MYC': 18,\n",
    "    'NRF1': 19,\n",
    "    'RELA': 20,\n",
    "    'REST': 21,\n",
    "    'RFX5': 22,\n",
    "    'SP1': 23,\n",
    "    'SRF': 24,\n",
    "    'TCF7L2': 25,\n",
    "    'TCF12': 26,\n",
    "    'TEAD4': 27,\n",
    "    'USF1': 28,\n",
    "    'USF2': 29,\n",
    "    'YY1': 30,\n",
    "    'ZBTB33': 31,\n",
    "    'ZNF274': 32\n",
    "}"
   ]
  },
  {
   "cell_type": "markdown",
   "id": "4f102ecb",
   "metadata": {},
   "source": [
    "# Set up device agnostic code"
   ]
  },
  {
   "cell_type": "code",
   "execution_count": 48,
   "id": "12cee86f",
   "metadata": {},
   "outputs": [
    {
     "data": {
      "text/plain": [
       "'cpu'"
      ]
     },
     "execution_count": 48,
     "metadata": {},
     "output_type": "execute_result"
    }
   ],
   "source": [
    "import torch\n",
    "from torch import nn\n",
    "# Make device agnostic code\n",
    "device = \"cuda\" if torch.cuda.is_available() else \"cpu\"\n",
    "device"
   ]
  },
  {
   "cell_type": "code",
   "execution_count": 49,
   "id": "c9939f1e",
   "metadata": {},
   "outputs": [
    {
     "name": "stdout",
     "output_type": "stream",
     "text": [
      "File not found for TF: RCOR1\n",
      "Combined data saved to /mnt/raid1/thalassini/home/tf_data/combined_6_data.csv\n"
     ]
    }
   ],
   "source": [
    "import pandas as pd\n",
    "\n",
    "# Read the list of TFs from the file\n",
    "tf_list_path = '/mnt/raid1/thalassini/home/Downloads/target_names_6.txt'\n",
    "with open(tf_list_path, 'r') as file:\n",
    "    tf_list = file.read().splitlines()\n",
    "\n",
    "# Define the directory where the CSV files for each TF are located\n",
    "base_directory = '/mnt/raid1/thalassini/home/filtered_fimo_chrom_200/'\n",
    "\n",
    "# Combine data for each TF and write to a single CSV file\n",
    "for tf in tf_list:\n",
    "    file_path = f'{base_directory}{tf.upper()}/datasets/data.csv'\n",
    "    \n",
    "    try:\n",
    "        df = pd.read_csv(file_path)\n",
    "        \n",
    "        # Add a column to identify the TF\n",
    "        df['TF'] = tf\n",
    "        \n",
    "        # Append data to the master DataFrame or create it if it doesn't exist\n",
    "        if 'master_df' in locals():\n",
    "            master_df = pd.concat([master_df, df], ignore_index=True)\n",
    "        else:\n",
    "            master_df = df\n",
    "    except FileNotFoundError:\n",
    "        print(f\"File not found for TF: {tf}\")\n",
    "\n",
    "# Save the combined DataFrame to a new CSV file\n",
    "output_csv_path = '/mnt/raid1/thalassini/home/tf_data/combined_6_data.csv'\n",
    "master_df.to_csv(output_csv_path, index=False)\n",
    "\n",
    "print(f\"Combined data saved to {output_csv_path}\")\n"
   ]
  },
  {
   "cell_type": "code",
   "execution_count": 50,
   "id": "38ec5b8a",
   "metadata": {},
   "outputs": [
    {
     "data": {
      "text/html": [
       "<div>\n",
       "<style scoped>\n",
       "    .dataframe tbody tr th:only-of-type {\n",
       "        vertical-align: middle;\n",
       "    }\n",
       "\n",
       "    .dataframe tbody tr th {\n",
       "        vertical-align: top;\n",
       "    }\n",
       "\n",
       "    .dataframe thead th {\n",
       "        text-align: right;\n",
       "    }\n",
       "</style>\n",
       "<table border=\"1\" class=\"dataframe\">\n",
       "  <thead>\n",
       "    <tr style=\"text-align: right;\">\n",
       "      <th></th>\n",
       "      <th>chrom</th>\n",
       "      <th>data</th>\n",
       "      <th>class</th>\n",
       "      <th>TF</th>\n",
       "    </tr>\n",
       "  </thead>\n",
       "  <tbody>\n",
       "    <tr>\n",
       "      <th>0</th>\n",
       "      <td>chr1</td>\n",
       "      <td>CTCCTTTTTCCCCCTCTGCCACAACCTCTAAATACTGAGGGCCCCA...</td>\n",
       "      <td>1</td>\n",
       "      <td>0</td>\n",
       "    </tr>\n",
       "    <tr>\n",
       "      <th>1</th>\n",
       "      <td>chr1</td>\n",
       "      <td>TATAGCAATCTGAATCCTTGTGCTAAACTTAATTGTCGTTGTCGTC...</td>\n",
       "      <td>1</td>\n",
       "      <td>0</td>\n",
       "    </tr>\n",
       "    <tr>\n",
       "      <th>2</th>\n",
       "      <td>chr6</td>\n",
       "      <td>AAAACCAAAACAAGAAGTCGGTCTCCTCTTTTTATATAATAGTTTA...</td>\n",
       "      <td>1</td>\n",
       "      <td>0</td>\n",
       "    </tr>\n",
       "    <tr>\n",
       "      <th>3</th>\n",
       "      <td>chr4</td>\n",
       "      <td>TTAGGTCATGCACACTGAACTGAAACTGAGATGAATGACATCATCA...</td>\n",
       "      <td>1</td>\n",
       "      <td>0</td>\n",
       "    </tr>\n",
       "    <tr>\n",
       "      <th>4</th>\n",
       "      <td>chr11</td>\n",
       "      <td>GAACAGAGGCTCAGGCAGCTGAAGTAACGTGCCTAAGGTCACATGG...</td>\n",
       "      <td>1</td>\n",
       "      <td>0</td>\n",
       "    </tr>\n",
       "    <tr>\n",
       "      <th>...</th>\n",
       "      <td>...</td>\n",
       "      <td>...</td>\n",
       "      <td>...</td>\n",
       "      <td>...</td>\n",
       "    </tr>\n",
       "    <tr>\n",
       "      <th>2391227</th>\n",
       "      <td>chr5</td>\n",
       "      <td>TCATACAGGTGAGAAACCCTACAAATGTAATGAGTGTGAAAAAACC...</td>\n",
       "      <td>0</td>\n",
       "      <td>ZNF274</td>\n",
       "    </tr>\n",
       "    <tr>\n",
       "      <th>2391228</th>\n",
       "      <td>chr19</td>\n",
       "      <td>ATTACACTTTCAAGGTTTCTCTCCACTATGAAGTCTATGATGGTAT...</td>\n",
       "      <td>0</td>\n",
       "      <td>ZNF274</td>\n",
       "    </tr>\n",
       "    <tr>\n",
       "      <th>2391229</th>\n",
       "      <td>chr19</td>\n",
       "      <td>TTACATTTGTAAGGCTTCTCTCCAGTATGGATGACCTGATGGGTAG...</td>\n",
       "      <td>0</td>\n",
       "      <td>ZNF274</td>\n",
       "    </tr>\n",
       "    <tr>\n",
       "      <th>2391230</th>\n",
       "      <td>chr1</td>\n",
       "      <td>TTCATACTGGAGAGAAACCCTACAAATGCAAAGAATGTTGCAAAGC...</td>\n",
       "      <td>0</td>\n",
       "      <td>ZNF274</td>\n",
       "    </tr>\n",
       "    <tr>\n",
       "      <th>2391231</th>\n",
       "      <td>chr19</td>\n",
       "      <td>ATTACATTTATAAGCTTTTTCTCCAGTATGAATTCTCCAATGATAT...</td>\n",
       "      <td>0</td>\n",
       "      <td>ZNF274</td>\n",
       "    </tr>\n",
       "  </tbody>\n",
       "</table>\n",
       "<p>2391232 rows × 4 columns</p>\n",
       "</div>"
      ],
      "text/plain": [
       "         chrom                                               data  class  \\\n",
       "0         chr1  CTCCTTTTTCCCCCTCTGCCACAACCTCTAAATACTGAGGGCCCCA...      1   \n",
       "1         chr1  TATAGCAATCTGAATCCTTGTGCTAAACTTAATTGTCGTTGTCGTC...      1   \n",
       "2         chr6  AAAACCAAAACAAGAAGTCGGTCTCCTCTTTTTATATAATAGTTTA...      1   \n",
       "3         chr4  TTAGGTCATGCACACTGAACTGAAACTGAGATGAATGACATCATCA...      1   \n",
       "4        chr11  GAACAGAGGCTCAGGCAGCTGAAGTAACGTGCCTAAGGTCACATGG...      1   \n",
       "...        ...                                                ...    ...   \n",
       "2391227   chr5  TCATACAGGTGAGAAACCCTACAAATGTAATGAGTGTGAAAAAACC...      0   \n",
       "2391228  chr19  ATTACACTTTCAAGGTTTCTCTCCACTATGAAGTCTATGATGGTAT...      0   \n",
       "2391229  chr19  TTACATTTGTAAGGCTTCTCTCCAGTATGGATGACCTGATGGGTAG...      0   \n",
       "2391230   chr1  TTCATACTGGAGAGAAACCCTACAAATGCAAAGAATGTTGCAAAGC...      0   \n",
       "2391231  chr19  ATTACATTTATAAGCTTTTTCTCCAGTATGAATTCTCCAATGATAT...      0   \n",
       "\n",
       "             TF  \n",
       "0             0  \n",
       "1             0  \n",
       "2             0  \n",
       "3             0  \n",
       "4             0  \n",
       "...         ...  \n",
       "2391227  ZNF274  \n",
       "2391228  ZNF274  \n",
       "2391229  ZNF274  \n",
       "2391230  ZNF274  \n",
       "2391231  ZNF274  \n",
       "\n",
       "[2391232 rows x 4 columns]"
      ]
     },
     "execution_count": 50,
     "metadata": {},
     "output_type": "execute_result"
    }
   ],
   "source": [
    "master_df"
   ]
  },
  {
   "cell_type": "code",
   "execution_count": 51,
   "id": "cee66340",
   "metadata": {},
   "outputs": [
    {
     "name": "stdout",
     "output_type": "stream",
     "text": [
      "Unique values in 'TF' column before mapping: [0 1 2 3 4 5 6 8 9 10 11 12 13 14 15 16 17 18 19 20 21 22 23 24 26 25 27\n",
      " 28 29 30 31 32 'ATF2' 'ATF3' 'CEBPB' 'CREB1' 'CTCF' 'E2F4' 'EGR1' 'ELF1'\n",
      " 'ELK1' 'FOS' 'FOXA1' 'GABPA' 'JUN' 'JUND' 'MAFK' 'MAX' 'MAZ' 'MXI1' 'MYC'\n",
      " 'NRF1' 'RELA' 'REST' 'RFX5' 'SP1' 'SRF' 'TCF12' 'TCF7L2' 'TEAD4' 'USF1'\n",
      " 'USF2' 'YY1' 'ZBTB33' 'ZNF274']\n"
     ]
    }
   ],
   "source": [
    "print(\"Unique values in 'TF' column before mapping:\", master_df['TF'].unique())\n"
   ]
  },
  {
   "cell_type": "code",
   "execution_count": 52,
   "id": "939edc98",
   "metadata": {},
   "outputs": [
    {
     "name": "stderr",
     "output_type": "stream",
     "text": [
      "/tmp/ipykernel_923796/3393081513.py:8: SettingWithCopyWarning: \n",
      "A value is trying to be set on a copy of a slice from a DataFrame.\n",
      "Try using .loc[row_indexer,col_indexer] = value instead\n",
      "\n",
      "See the caveats in the documentation: https://pandas.pydata.org/pandas-docs/stable/user_guide/indexing.html#returning-a-view-versus-a-copy\n",
      "  master_df['TF'] = master_df['TF'].astype(int)\n"
     ]
    },
    {
     "data": {
      "text/html": [
       "<div>\n",
       "<style scoped>\n",
       "    .dataframe tbody tr th:only-of-type {\n",
       "        vertical-align: middle;\n",
       "    }\n",
       "\n",
       "    .dataframe tbody tr th {\n",
       "        vertical-align: top;\n",
       "    }\n",
       "\n",
       "    .dataframe thead th {\n",
       "        text-align: right;\n",
       "    }\n",
       "</style>\n",
       "<table border=\"1\" class=\"dataframe\">\n",
       "  <thead>\n",
       "    <tr style=\"text-align: right;\">\n",
       "      <th></th>\n",
       "      <th>chrom</th>\n",
       "      <th>data</th>\n",
       "      <th>class</th>\n",
       "      <th>TF</th>\n",
       "    </tr>\n",
       "  </thead>\n",
       "  <tbody>\n",
       "    <tr>\n",
       "      <th>1187016</th>\n",
       "      <td>chr1</td>\n",
       "      <td>CTCCTTTTTCCCCCTCTGCCACAACCTCTAAATACTGAGGGCCCCA...</td>\n",
       "      <td>1</td>\n",
       "      <td>0</td>\n",
       "    </tr>\n",
       "    <tr>\n",
       "      <th>1187017</th>\n",
       "      <td>chr1</td>\n",
       "      <td>TATAGCAATCTGAATCCTTGTGCTAAACTTAATTGTCGTTGTCGTC...</td>\n",
       "      <td>1</td>\n",
       "      <td>0</td>\n",
       "    </tr>\n",
       "    <tr>\n",
       "      <th>1187018</th>\n",
       "      <td>chr6</td>\n",
       "      <td>AAAACCAAAACAAGAAGTCGGTCTCCTCTTTTTATATAATAGTTTA...</td>\n",
       "      <td>1</td>\n",
       "      <td>0</td>\n",
       "    </tr>\n",
       "    <tr>\n",
       "      <th>1187019</th>\n",
       "      <td>chr4</td>\n",
       "      <td>TTAGGTCATGCACACTGAACTGAAACTGAGATGAATGACATCATCA...</td>\n",
       "      <td>1</td>\n",
       "      <td>0</td>\n",
       "    </tr>\n",
       "    <tr>\n",
       "      <th>1187020</th>\n",
       "      <td>chr11</td>\n",
       "      <td>GAACAGAGGCTCAGGCAGCTGAAGTAACGTGCCTAAGGTCACATGG...</td>\n",
       "      <td>1</td>\n",
       "      <td>0</td>\n",
       "    </tr>\n",
       "    <tr>\n",
       "      <th>...</th>\n",
       "      <td>...</td>\n",
       "      <td>...</td>\n",
       "      <td>...</td>\n",
       "      <td>...</td>\n",
       "    </tr>\n",
       "    <tr>\n",
       "      <th>2391227</th>\n",
       "      <td>chr5</td>\n",
       "      <td>TCATACAGGTGAGAAACCCTACAAATGTAATGAGTGTGAAAAAACC...</td>\n",
       "      <td>0</td>\n",
       "      <td>32</td>\n",
       "    </tr>\n",
       "    <tr>\n",
       "      <th>2391228</th>\n",
       "      <td>chr19</td>\n",
       "      <td>ATTACACTTTCAAGGTTTCTCTCCACTATGAAGTCTATGATGGTAT...</td>\n",
       "      <td>0</td>\n",
       "      <td>32</td>\n",
       "    </tr>\n",
       "    <tr>\n",
       "      <th>2391229</th>\n",
       "      <td>chr19</td>\n",
       "      <td>TTACATTTGTAAGGCTTCTCTCCAGTATGGATGACCTGATGGGTAG...</td>\n",
       "      <td>0</td>\n",
       "      <td>32</td>\n",
       "    </tr>\n",
       "    <tr>\n",
       "      <th>2391230</th>\n",
       "      <td>chr1</td>\n",
       "      <td>TTCATACTGGAGAGAAACCCTACAAATGCAAAGAATGTTGCAAAGC...</td>\n",
       "      <td>0</td>\n",
       "      <td>32</td>\n",
       "    </tr>\n",
       "    <tr>\n",
       "      <th>2391231</th>\n",
       "      <td>chr19</td>\n",
       "      <td>ATTACATTTATAAGCTTTTTCTCCAGTATGAATTCTCCAATGATAT...</td>\n",
       "      <td>0</td>\n",
       "      <td>32</td>\n",
       "    </tr>\n",
       "  </tbody>\n",
       "</table>\n",
       "<p>1187016 rows × 4 columns</p>\n",
       "</div>"
      ],
      "text/plain": [
       "         chrom                                               data  class  TF\n",
       "1187016   chr1  CTCCTTTTTCCCCCTCTGCCACAACCTCTAAATACTGAGGGCCCCA...      1   0\n",
       "1187017   chr1  TATAGCAATCTGAATCCTTGTGCTAAACTTAATTGTCGTTGTCGTC...      1   0\n",
       "1187018   chr6  AAAACCAAAACAAGAAGTCGGTCTCCTCTTTTTATATAATAGTTTA...      1   0\n",
       "1187019   chr4  TTAGGTCATGCACACTGAACTGAAACTGAGATGAATGACATCATCA...      1   0\n",
       "1187020  chr11  GAACAGAGGCTCAGGCAGCTGAAGTAACGTGCCTAAGGTCACATGG...      1   0\n",
       "...        ...                                                ...    ...  ..\n",
       "2391227   chr5  TCATACAGGTGAGAAACCCTACAAATGTAATGAGTGTGAAAAAACC...      0  32\n",
       "2391228  chr19  ATTACACTTTCAAGGTTTCTCTCCACTATGAAGTCTATGATGGTAT...      0  32\n",
       "2391229  chr19  TTACATTTGTAAGGCTTCTCTCCAGTATGGATGACCTGATGGGTAG...      0  32\n",
       "2391230   chr1  TTCATACTGGAGAGAAACCCTACAAATGCAAAGAATGTTGCAAAGC...      0  32\n",
       "2391231  chr19  ATTACATTTATAAGCTTTTTCTCCAGTATGAATTCTCCAATGATAT...      0  32\n",
       "\n",
       "[1187016 rows x 4 columns]"
      ]
     },
     "execution_count": 52,
     "metadata": {},
     "output_type": "execute_result"
    }
   ],
   "source": [
    "\n",
    "# Apply the mapping to the 'TF' column\n",
    "master_df['TF'] = master_df['TF'].map(tf_class)\n",
    "\n",
    "# Drop rows with NaN values in the 'TF' column\n",
    "master_df = master_df.dropna(subset=['TF'])\n",
    "\n",
    "# Convert the 'TF' column to integers\n",
    "master_df['TF'] = master_df['TF'].astype(int)\n",
    "master_df"
   ]
  },
  {
   "cell_type": "markdown",
   "id": "fd9c1045",
   "metadata": {},
   "source": [
    "# Sequence length inspection and normalization"
   ]
  },
  {
   "cell_type": "code",
   "execution_count": 53,
   "id": "d33c9269",
   "metadata": {},
   "outputs": [
    {
     "name": "stdout",
     "output_type": "stream",
     "text": [
      "Max length:200, Min length: 200\n"
     ]
    },
    {
     "data": {
      "image/png": "[encoded data removed]",
      "text/plain": [
       "<Figure size 640x480 with 1 Axes>"
      ]
     },
     "metadata": {},
     "output_type": "display_data"
    }
   ],
   "source": [
    "lengths= [len(item) for item in df['data']] \n",
    "print(f'Max length:{max(lengths)}, Min length: {min(lengths)}')\n",
    "import matplotlib.pyplot as plt\n",
    "# Plotting the histogram\n",
    "plt.hist(lengths, bins=10, color='blue', edgecolor='black')\n",
    "plt.title('Histogram of Lengths')\n",
    "plt.xlabel('Length')\n",
    "plt.ylabel('Frequency')\n",
    "plt.show()"
   ]
  },
  {
   "cell_type": "code",
   "execution_count": 54,
   "id": "292502f4",
   "metadata": {},
   "outputs": [],
   "source": [
    "# Find the maximum length of sequences\n",
    "#min_length = min(len(seq) for seq in df['data'])\n",
    "limit=200\n",
    "\n",
    "\n",
    "# Pad or cut sequences to ensure they all have the same length\n",
    "cut_sequences = [seq[:limit] for seq in df['data']]\n",
    "\n",
    "# Update the DataFrame with the cut sequences\n",
    "#df['data'] = cut_sequences"
   ]
  },
  {
   "cell_type": "code",
   "execution_count": 55,
   "id": "84f394a8",
   "metadata": {},
   "outputs": [
    {
     "name": "stdout",
     "output_type": "stream",
     "text": [
      "Max length:200, Min length: 200\n"
     ]
    }
   ],
   "source": [
    "lengths= [len(item) for item in cut_sequences]\n",
    "print(f'Max length:{max(lengths)}, Min length: {min(lengths)}')"
   ]
  },
  {
   "cell_type": "markdown",
   "id": "9b65d644",
   "metadata": {},
   "source": [
    "# Define X,y variables"
   ]
  },
  {
   "cell_type": "code",
   "execution_count": 56,
   "id": "f9e96a80",
   "metadata": {},
   "outputs": [],
   "source": [
    "X=[one_hot_encode(sequence) for sequence in cut_sequences]"
   ]
  },
  {
   "cell_type": "code",
   "execution_count": 57,
   "id": "2ab32859",
   "metadata": {},
   "outputs": [],
   "source": [
    "X = torch.from_numpy(np.array(X)).type(torch.float)\n"
   ]
  },
  {
   "cell_type": "code",
   "execution_count": 58,
   "id": "0bf2a817",
   "metadata": {},
   "outputs": [
    {
     "data": {
      "text/plain": [
       "torch.Size([6450, 200, 4])"
      ]
     },
     "execution_count": 58,
     "metadata": {},
     "output_type": "execute_result"
    }
   ],
   "source": [
    "X.shape"
   ]
  },
  {
   "cell_type": "code",
   "execution_count": 59,
   "id": "9aec20e4",
   "metadata": {},
   "outputs": [
    {
     "data": {
      "text/plain": [
       "array([1, 1, 1])"
      ]
     },
     "execution_count": 59,
     "metadata": {},
     "output_type": "execute_result"
    }
   ],
   "source": [
    "#y=np.array(df['TF'])\n",
    "y=np.array(df['class'])\n",
    "\n",
    "y[:3]"
   ]
  },
  {
   "cell_type": "code",
   "execution_count": 60,
   "id": "b9399dc8",
   "metadata": {},
   "outputs": [],
   "source": [
    "y = torch.from_numpy(y).type(torch.float)"
   ]
  },
  {
   "cell_type": "markdown",
   "id": "cd869133",
   "metadata": {},
   "source": [
    "# Split the data in train, val and test set"
   ]
  },
  {
   "cell_type": "code",
   "execution_count": 61,
   "id": "032ecb47",
   "metadata": {},
   "outputs": [],
   "source": [
    "train_loader, val_loader, test_loader = helper_functions.make_loaders(X,y)"
   ]
  },
  {
   "cell_type": "markdown",
   "id": "002ed2cf",
   "metadata": {},
   "source": [
    "# Create datasets and Dataloaders"
   ]
  },
  {
   "cell_type": "code",
   "execution_count": 62,
   "id": "44fc5e58",
   "metadata": {},
   "outputs": [],
   "source": [
    "\n",
    "batch_size=64\n",
    "torch.manual_seed(42)\n",
    "\n",
    "# Convert to PyTorch DataLoader\n",
    "train_loader = DataLoader(train_dataset, batch_size=batch_size, shuffle=True)\n",
    "val_loader = DataLoader(val_dataset, batch_size=batch_size, shuffle=True)\n",
    "test_loader = DataLoader(test_dataset, batch_size=batch_size, shuffle=True)"
   ]
  },
  {
   "cell_type": "markdown",
   "id": "d20e4bb7",
   "metadata": {},
   "source": [
    "# Construct a 1 layer CNN with Maxpooling and Dropout"
   ]
  },
  {
   "cell_type": "code",
   "execution_count": 63,
   "id": "9c0dfed6",
   "metadata": {},
   "outputs": [],
   "source": [
    "class Conv_v1(torch.nn.Module):\n",
    "\n",
    "    def __init__(self):\n",
    "        super(Conv_v1, self).__init__()\n",
    "\n",
    "        self.conv1 = torch.nn.Conv1d(in_channels=4, out_channels= 30, kernel_size= 10)\n",
    "        self.conv2 = torch.nn.Conv1d(in_channels= 30, out_channels= 60, kernel_size= 10)\n",
    "        self.conv3 = torch.nn.Conv1d(in_channels= 60, out_channels= 360, kernel_size= 5)\n",
    "        self.activation = torch.nn.ReLU()\n",
    "        self.maxpool = torch.nn.MaxPool1d(kernel_size= 2)\n",
    "        \n",
    "        self.dropout = torch.nn.Dropout(p=0.25) \n",
    "        #in_features = 108 for 200kb, 588 for 1kb, 1188 for 2kb\n",
    "        self.fc =  torch.nn.LazyLinear(out_features=2)\n",
    "        #self.sigmoid = torch.nn.Sigmoid() will not be used since its intergraded in BCEWithLogitsLoss()\n",
    "        #self.softmax = nn.Softmax(dim=1)\n",
    "\n",
    "    def forward(self, x):\n",
    "        x= x.permute(0, 2, 1)\n",
    "        x = self.conv1(x)\n",
    "        x = self.activation(x)\n",
    "        x = self.maxpool(x)\n",
    "        \n",
    "        x = self.conv2(x)\n",
    "        x = self.activation(x)\n",
    "        x = self.maxpool(x)\n",
    "        \n",
    "        x = self.conv3(x)\n",
    "        x = self.activation(x)\n",
    "        x = self.maxpool(x)\n",
    "        \n",
    "        # Reshape the output of the max pooling layer before passing it to the fully connected layer\n",
    "        x = x.view(x.size(0), -1)\n",
    "        \n",
    "        #print(\"Size after reshaping:\", x.size())\n",
    "        x=self.dropout(x)\n",
    "        x = self.fc(x)\n",
    "        #x = self.softmax(x)\n",
    "        #x = self.sigmoid(x)\n",
    "        return x\n"
   ]
  },
  {
   "cell_type": "markdown",
   "id": "40b134d4",
   "metadata": {},
   "source": [
    "# Set up loss function and optimizer"
   ]
  },
  {
   "cell_type": "code",
   "execution_count": 64,
   "id": "948d9087",
   "metadata": {},
   "outputs": [],
   "source": [
    "from torch.optim import lr_scheduler\n",
    "#weights = torch.tensor(weights).to(device)\n",
    "#print(weights)"
   ]
  },
  {
   "cell_type": "code",
   "execution_count": 65,
   "id": "30cf0daa",
   "metadata": {},
   "outputs": [
    {
     "name": "stderr",
     "output_type": "stream",
     "text": [
      "/mnt/raid1/thalassini/home/anaconda3/lib/python3.11/site-packages/torch/nn/modules/lazy.py:180: UserWarning: Lazy modules are a new feature under heavy development so changes to the API or functionality can happen at any moment.\n",
      "  warnings.warn('Lazy modules are a new feature under heavy development '\n"
     ]
    }
   ],
   "source": [
    "torch.manual_seed(42)\n",
    "\n",
    "# Initialize model instance\n",
    "model = Conv_v1()\n",
    "\n",
    "#loss_fn = nn.BCEWithLogitsLoss(weight=weights)\n",
    "loss_fn = nn.BCEWithLogitsLoss()\n",
    "\n",
    "# Define oprimizer\n",
    "optimizer = torch.optim.Adam(model.parameters(), lr=0.0001)\n",
    "\n",
    "# Define exponetntial lr with lr_scheduler\n",
    "exp_lr_scheduler = lr_scheduler.ExponentialLR(optimizer, gamma=0.01)"
   ]
  },
  {
   "cell_type": "code",
   "execution_count": 66,
   "id": "e1d337c9",
   "metadata": {},
   "outputs": [
    {
     "data": {
      "text/plain": [
       "tensor([[-0.0311, -0.0296],\n",
       "        [-0.0290, -0.0291],\n",
       "        [-0.0058, -0.0026],\n",
       "        [ 0.0042, -0.0088],\n",
       "        [-0.0322,  0.0036]], grad_fn=<SliceBackward0>)"
      ]
     },
     "execution_count": 66,
     "metadata": {},
     "output_type": "execute_result"
    }
   ],
   "source": [
    "# View the frist 5 outputs of the forward pass on the test data\n",
    "y_logits = model(X_test.to(device))[:5]\n",
    "y_logits"
   ]
  },
  {
   "cell_type": "code",
   "execution_count": 67,
   "id": "4cfca526",
   "metadata": {},
   "outputs": [],
   "source": [
    "# Check number of classes in the model\n",
    "num_classes_model = model.fc.out_features  # Adjust accordingly\n"
   ]
  },
  {
   "cell_type": "code",
   "execution_count": 68,
   "id": "e4f7a029",
   "metadata": {},
   "outputs": [
    {
     "data": {
      "text/plain": [
       "2"
      ]
     },
     "execution_count": 68,
     "metadata": {},
     "output_type": "execute_result"
    }
   ],
   "source": [
    "num_classes_model"
   ]
  },
  {
   "cell_type": "code",
   "execution_count": 69,
   "id": "fdfb5e26",
   "metadata": {
    "scrolled": true
   },
   "outputs": [
    {
     "data": {
      "application/vnd.jupyter.widget-view+json": {
       "model_id": "44374f3e08154bd389507e40b6ce53ec",
       "version_major": 2,
       "version_minor": 0
      },
      "text/plain": [
       "  0%|          | 0/800 [00:00<?, ?it/s]"
      ]
     },
     "metadata": {},
     "output_type": "display_data"
    },
    {
     "name": "stdout",
     "output_type": "stream",
     "text": [
      "Epoch: 1 | train_loss: 0.6831 | train_bal_acc: 0.6169 | train_mcc: 0.2686 | train_auroc: 0.7186  |  valid_loss: 0.6602 | valid_bal_acc: 0.7671 | valid_mcc: 0.5488  |  valid_auroc: 0.8509\n",
      "Epoch: 2 | train_loss: 0.6181 | train_bal_acc: 0.7506 | train_mcc: 0.5084 | train_auroc: 0.8272  |  valid_loss: 0.5394 | valid_bal_acc: 0.7876 | valid_mcc: 0.5638  |  valid_auroc: 0.8568\n",
      "Epoch: 3 | train_loss: 0.5273 | train_bal_acc: 0.7550 | train_mcc: 0.5119 | train_auroc: 0.8321  |  valid_loss: 0.4800 | valid_bal_acc: 0.7867 | valid_mcc: 0.5772  |  valid_auroc: 0.8689\n",
      "Epoch: 4 | train_loss: 0.4903 | train_bal_acc: 0.7715 | train_mcc: 0.5467 | train_auroc: 0.8501  |  valid_loss: 0.4457 | valid_bal_acc: 0.8018 | valid_mcc: 0.6089  |  valid_auroc: 0.8854\n",
      "Epoch: 5 | train_loss: 0.4638 | train_bal_acc: 0.7880 | train_mcc: 0.5789 | train_auroc: 0.8691  |  valid_loss: 0.4325 | valid_bal_acc: 0.8011 | valid_mcc: 0.6085  |  valid_auroc: 0.8814\n",
      "Epoch: 6 | train_loss: 0.4306 | train_bal_acc: 0.8097 | train_mcc: 0.6207 | train_auroc: 0.8870  |  valid_loss: 0.3985 | valid_bal_acc: 0.8212 | valid_mcc: 0.6415  |  valid_auroc: 0.9072\n",
      "Epoch: 7 | train_loss: 0.4100 | train_bal_acc: 0.8213 | train_mcc: 0.6422 | train_auroc: 0.8997  |  valid_loss: 0.3705 | valid_bal_acc: 0.8342 | valid_mcc: 0.6701  |  valid_auroc: 0.9168\n",
      "Epoch: 8 | train_loss: 0.3902 | train_bal_acc: 0.8268 | train_mcc: 0.6537 | train_auroc: 0.9086  |  valid_loss: 0.3583 | valid_bal_acc: 0.8458 | valid_mcc: 0.6931  |  valid_auroc: 0.9209\n",
      "Epoch: 9 | train_loss: 0.3689 | train_bal_acc: 0.8357 | train_mcc: 0.6729 | train_auroc: 0.9161  |  valid_loss: 0.3523 | valid_bal_acc: 0.8444 | valid_mcc: 0.6956  |  valid_auroc: 0.9301\n",
      "Epoch: 10 | train_loss: 0.3542 | train_bal_acc: 0.8419 | train_mcc: 0.6874 | train_auroc: 0.9272  |  valid_loss: 0.3608 | valid_bal_acc: 0.8354 | valid_mcc: 0.6682  |  valid_auroc: 0.9330\n",
      "Epoch: 11 | train_loss: 0.3419 | train_bal_acc: 0.8462 | train_mcc: 0.6938 | train_auroc: 0.9320  |  valid_loss: 0.3245 | valid_bal_acc: 0.8689 | valid_mcc: 0.7371  |  valid_auroc: 0.9359\n",
      "Epoch: 12 | train_loss: 0.3337 | train_bal_acc: 0.8604 | train_mcc: 0.7241 | train_auroc: 0.9396  |  valid_loss: 0.3155 | valid_bal_acc: 0.8706 | valid_mcc: 0.7427  |  valid_auroc: 0.9407\n",
      "Epoch: 13 | train_loss: 0.3080 | train_bal_acc: 0.8679 | train_mcc: 0.7369 | train_auroc: 0.9443  |  valid_loss: 0.3156 | valid_bal_acc: 0.8577 | valid_mcc: 0.7213  |  valid_auroc: 0.9418\n",
      "Epoch: 14 | train_loss: 0.2969 | train_bal_acc: 0.8751 | train_mcc: 0.7526 | train_auroc: 0.9511  |  valid_loss: 0.3112 | valid_bal_acc: 0.8590 | valid_mcc: 0.7240  |  valid_auroc: 0.9451\n",
      "Epoch: 15 | train_loss: 0.2892 | train_bal_acc: 0.8760 | train_mcc: 0.7546 | train_auroc: 0.9549  |  valid_loss: 0.2913 | valid_bal_acc: 0.8816 | valid_mcc: 0.7642  |  valid_auroc: 0.9503\n",
      "Epoch: 16 | train_loss: 0.2776 | train_bal_acc: 0.8861 | train_mcc: 0.7721 | train_auroc: 0.9568  |  valid_loss: 0.2841 | valid_bal_acc: 0.8811 | valid_mcc: 0.7674  |  valid_auroc: 0.9528\n",
      "Epoch: 17 | train_loss: 0.2629 | train_bal_acc: 0.8940 | train_mcc: 0.7892 | train_auroc: 0.9624  |  valid_loss: 0.2909 | valid_bal_acc: 0.8869 | valid_mcc: 0.7724  |  valid_auroc: 0.9522\n",
      "Epoch: 18 | train_loss: 0.2528 | train_bal_acc: 0.8983 | train_mcc: 0.7969 | train_auroc: 0.9666  |  valid_loss: 0.2930 | valid_bal_acc: 0.8698 | valid_mcc: 0.7519  |  valid_auroc: 0.9576\n",
      "Epoch: 19 | train_loss: 0.2422 | train_bal_acc: 0.9032 | train_mcc: 0.8056 | train_auroc: 0.9681  |  valid_loss: 0.2584 | valid_bal_acc: 0.9019 | valid_mcc: 0.8030  |  valid_auroc: 0.9571\n",
      "Epoch: 20 | train_loss: 0.2345 | train_bal_acc: 0.9070 | train_mcc: 0.8179 | train_auroc: 0.9711  |  valid_loss: 0.2497 | valid_bal_acc: 0.8979 | valid_mcc: 0.7957  |  valid_auroc: 0.9601\n",
      "Epoch: 21 | train_loss: 0.2214 | train_bal_acc: 0.9143 | train_mcc: 0.8302 | train_auroc: 0.9746  |  valid_loss: 0.2618 | valid_bal_acc: 0.8933 | valid_mcc: 0.7815  |  valid_auroc: 0.9606\n",
      "Epoch: 22 | train_loss: 0.2124 | train_bal_acc: 0.9215 | train_mcc: 0.8427 | train_auroc: 0.9765  |  valid_loss: 0.2408 | valid_bal_acc: 0.9041 | valid_mcc: 0.8078  |  valid_auroc: 0.9626\n",
      "Epoch: 23 | train_loss: 0.2023 | train_bal_acc: 0.9219 | train_mcc: 0.8457 | train_auroc: 0.9775  |  valid_loss: 0.2646 | valid_bal_acc: 0.8986 | valid_mcc: 0.8019  |  valid_auroc: 0.9623\n",
      "Epoch: 24 | train_loss: 0.1965 | train_bal_acc: 0.9263 | train_mcc: 0.8540 | train_auroc: 0.9801  |  valid_loss: 0.2288 | valid_bal_acc: 0.9027 | valid_mcc: 0.8055  |  valid_auroc: 0.9651\n",
      "Epoch: 25 | train_loss: 0.1961 | train_bal_acc: 0.9230 | train_mcc: 0.8485 | train_auroc: 0.9812  |  valid_loss: 0.2456 | valid_bal_acc: 0.9019 | valid_mcc: 0.8044  |  valid_auroc: 0.9595\n",
      "Epoch: 26 | train_loss: 0.1871 | train_bal_acc: 0.9271 | train_mcc: 0.8558 | train_auroc: 0.9824  |  valid_loss: 0.2255 | valid_bal_acc: 0.9023 | valid_mcc: 0.8046  |  valid_auroc: 0.9651\n",
      "Epoch: 27 | train_loss: 0.1776 | train_bal_acc: 0.9363 | train_mcc: 0.8730 | train_auroc: 0.9840  |  valid_loss: 0.2510 | valid_bal_acc: 0.9025 | valid_mcc: 0.8111  |  valid_auroc: 0.9700\n",
      "Epoch: 28 | train_loss: 0.1749 | train_bal_acc: 0.9357 | train_mcc: 0.8721 | train_auroc: 0.9857  |  valid_loss: 0.2265 | valid_bal_acc: 0.9080 | valid_mcc: 0.8133  |  valid_auroc: 0.9677\n",
      "Epoch: 29 | train_loss: 0.1650 | train_bal_acc: 0.9409 | train_mcc: 0.8832 | train_auroc: 0.9863  |  valid_loss: 0.2203 | valid_bal_acc: 0.9169 | valid_mcc: 0.8366  |  valid_auroc: 0.9723\n",
      "Epoch: 30 | train_loss: 0.1633 | train_bal_acc: 0.9384 | train_mcc: 0.8787 | train_auroc: 0.9877  |  valid_loss: 0.2159 | valid_bal_acc: 0.9194 | valid_mcc: 0.8381  |  valid_auroc: 0.9715\n",
      "Epoch: 31 | train_loss: 0.1517 | train_bal_acc: 0.9464 | train_mcc: 0.8937 | train_auroc: 0.9886  |  valid_loss: 0.2177 | valid_bal_acc: 0.9088 | valid_mcc: 0.8196  |  valid_auroc: 0.9723\n",
      "Epoch: 32 | train_loss: 0.1469 | train_bal_acc: 0.9498 | train_mcc: 0.9010 | train_auroc: 0.9891  |  valid_loss: 0.2048 | valid_bal_acc: 0.9196 | valid_mcc: 0.8404  |  valid_auroc: 0.9749\n",
      "Epoch: 33 | train_loss: 0.1488 | train_bal_acc: 0.9462 | train_mcc: 0.8941 | train_auroc: 0.9900  |  valid_loss: 0.2098 | valid_bal_acc: 0.9169 | valid_mcc: 0.8375  |  valid_auroc: 0.9748\n",
      "Epoch: 34 | train_loss: 0.1365 | train_bal_acc: 0.9592 | train_mcc: 0.9192 | train_auroc: 0.9910  |  valid_loss: 0.2044 | valid_bal_acc: 0.9270 | valid_mcc: 0.8568  |  valid_auroc: 0.9752\n",
      "Epoch: 35 | train_loss: 0.1343 | train_bal_acc: 0.9536 | train_mcc: 0.9089 | train_auroc: 0.9919  |  valid_loss: 0.1988 | valid_bal_acc: 0.9180 | valid_mcc: 0.8347  |  valid_auroc: 0.9749\n",
      "Epoch: 36 | train_loss: 0.1292 | train_bal_acc: 0.9592 | train_mcc: 0.9189 | train_auroc: 0.9918  |  valid_loss: 0.2264 | valid_bal_acc: 0.9248 | valid_mcc: 0.8403  |  valid_auroc: 0.9765\n",
      "Epoch: 37 | train_loss: 0.1260 | train_bal_acc: 0.9605 | train_mcc: 0.9215 | train_auroc: 0.9926  |  valid_loss: 0.2129 | valid_bal_acc: 0.9254 | valid_mcc: 0.8540  |  valid_auroc: 0.9721\n",
      "Epoch: 38 | train_loss: 0.1174 | train_bal_acc: 0.9651 | train_mcc: 0.9294 | train_auroc: 0.9935  |  valid_loss: 0.1848 | valid_bal_acc: 0.9258 | valid_mcc: 0.8515  |  valid_auroc: 0.9767\n",
      "Epoch: 39 | train_loss: 0.1139 | train_bal_acc: 0.9657 | train_mcc: 0.9313 | train_auroc: 0.9946  |  valid_loss: 0.1830 | valid_bal_acc: 0.9270 | valid_mcc: 0.8538  |  valid_auroc: 0.9783\n",
      "Epoch: 40 | train_loss: 0.1079 | train_bal_acc: 0.9685 | train_mcc: 0.9363 | train_auroc: 0.9952  |  valid_loss: 0.1829 | valid_bal_acc: 0.9274 | valid_mcc: 0.8561  |  valid_auroc: 0.9794\n",
      "Epoch: 41 | train_loss: 0.1074 | train_bal_acc: 0.9660 | train_mcc: 0.9312 | train_auroc: 0.9947  |  valid_loss: 0.1817 | valid_bal_acc: 0.9311 | valid_mcc: 0.8604  |  valid_auroc: 0.9786\n",
      "Epoch: 42 | train_loss: 0.1012 | train_bal_acc: 0.9715 | train_mcc: 0.9441 | train_auroc: 0.9957  |  valid_loss: 0.1815 | valid_bal_acc: 0.9363 | valid_mcc: 0.8759  |  valid_auroc: 0.9790\n",
      "Epoch: 43 | train_loss: 0.0988 | train_bal_acc: 0.9720 | train_mcc: 0.9445 | train_auroc: 0.9963  |  valid_loss: 0.1733 | valid_bal_acc: 0.9321 | valid_mcc: 0.8596  |  valid_auroc: 0.9809\n",
      "Epoch: 44 | train_loss: 0.0965 | train_bal_acc: 0.9726 | train_mcc: 0.9444 | train_auroc: 0.9965  |  valid_loss: 0.1739 | valid_bal_acc: 0.9288 | valid_mcc: 0.8603  |  valid_auroc: 0.9790\n"
     ]
    },
    {
     "name": "stdout",
     "output_type": "stream",
     "text": [
      "Epoch: 45 | train_loss: 0.0938 | train_bal_acc: 0.9742 | train_mcc: 0.9478 | train_auroc: 0.9967  |  valid_loss: 0.2021 | valid_bal_acc: 0.9285 | valid_mcc: 0.8607  |  valid_auroc: 0.9810\n",
      "Epoch: 46 | train_loss: 0.0905 | train_bal_acc: 0.9762 | train_mcc: 0.9526 | train_auroc: 0.9972  |  valid_loss: 0.1739 | valid_bal_acc: 0.9372 | valid_mcc: 0.8748  |  valid_auroc: 0.9793\n",
      "Epoch: 47 | train_loss: 0.0861 | train_bal_acc: 0.9752 | train_mcc: 0.9507 | train_auroc: 0.9975  |  valid_loss: 0.1788 | valid_bal_acc: 0.9286 | valid_mcc: 0.8624  |  valid_auroc: 0.9810\n",
      "Epoch: 48 | train_loss: 0.0800 | train_bal_acc: 0.9780 | train_mcc: 0.9560 | train_auroc: 0.9976  |  valid_loss: 0.1784 | valid_bal_acc: 0.9273 | valid_mcc: 0.8547  |  valid_auroc: 0.9816\n",
      "Epoch: 49 | train_loss: 0.0766 | train_bal_acc: 0.9784 | train_mcc: 0.9574 | train_auroc: 0.9981  |  valid_loss: 0.1743 | valid_bal_acc: 0.9326 | valid_mcc: 0.8647  |  valid_auroc: 0.9825\n",
      "Epoch: 50 | train_loss: 0.0787 | train_bal_acc: 0.9802 | train_mcc: 0.9602 | train_auroc: 0.9982  |  valid_loss: 0.1651 | valid_bal_acc: 0.9394 | valid_mcc: 0.8782  |  valid_auroc: 0.9821\n",
      "Epoch: 51 | train_loss: 0.0718 | train_bal_acc: 0.9833 | train_mcc: 0.9667 | train_auroc: 0.9979  |  valid_loss: 0.1677 | valid_bal_acc: 0.9357 | valid_mcc: 0.8714  |  valid_auroc: 0.9831\n",
      "Epoch: 52 | train_loss: 0.0682 | train_bal_acc: 0.9828 | train_mcc: 0.9661 | train_auroc: 0.9984  |  valid_loss: 0.1697 | valid_bal_acc: 0.9411 | valid_mcc: 0.8826  |  valid_auroc: 0.9827\n",
      "Epoch: 53 | train_loss: 0.0687 | train_bal_acc: 0.9818 | train_mcc: 0.9643 | train_auroc: 0.9984  |  valid_loss: 0.1809 | valid_bal_acc: 0.9367 | valid_mcc: 0.8763  |  valid_auroc: 0.9826\n",
      "Epoch: 54 | train_loss: 0.0617 | train_bal_acc: 0.9859 | train_mcc: 0.9725 | train_auroc: 0.9988  |  valid_loss: 0.1900 | valid_bal_acc: 0.9339 | valid_mcc: 0.8696  |  valid_auroc: 0.9833\n",
      "Epoch: 55 | train_loss: 0.0621 | train_bal_acc: 0.9855 | train_mcc: 0.9714 | train_auroc: 0.9988  |  valid_loss: 0.1608 | valid_bal_acc: 0.9438 | valid_mcc: 0.8879  |  valid_auroc: 0.9831\n",
      "Epoch: 56 | train_loss: 0.0599 | train_bal_acc: 0.9867 | train_mcc: 0.9733 | train_auroc: 0.9991  |  valid_loss: 0.1537 | valid_bal_acc: 0.9466 | valid_mcc: 0.8940  |  valid_auroc: 0.9832\n",
      "Epoch: 57 | train_loss: 0.0545 | train_bal_acc: 0.9882 | train_mcc: 0.9764 | train_auroc: 0.9991  |  valid_loss: 0.1537 | valid_bal_acc: 0.9428 | valid_mcc: 0.8872  |  valid_auroc: 0.9834\n",
      "Epoch: 58 | train_loss: 0.0520 | train_bal_acc: 0.9887 | train_mcc: 0.9780 | train_auroc: 0.9993  |  valid_loss: 0.1732 | valid_bal_acc: 0.9358 | valid_mcc: 0.8771  |  valid_auroc: 0.9807\n",
      "Epoch: 59 | train_loss: 0.0533 | train_bal_acc: 0.9873 | train_mcc: 0.9751 | train_auroc: 0.9990  |  valid_loss: 0.1578 | valid_bal_acc: 0.9411 | valid_mcc: 0.8836  |  valid_auroc: 0.9822\n",
      "Epoch: 60 | train_loss: 0.0480 | train_bal_acc: 0.9910 | train_mcc: 0.9823 | train_auroc: 0.9993  |  valid_loss: 0.1910 | valid_bal_acc: 0.9321 | valid_mcc: 0.8651  |  valid_auroc: 0.9725\n",
      "Epoch: 61 | train_loss: 0.0469 | train_bal_acc: 0.9924 | train_mcc: 0.9846 | train_auroc: 0.9995  |  valid_loss: 0.1590 | valid_bal_acc: 0.9506 | valid_mcc: 0.8976  |  valid_auroc: 0.9847\n",
      "Epoch: 62 | train_loss: 0.0464 | train_bal_acc: 0.9911 | train_mcc: 0.9822 | train_auroc: 0.9995  |  valid_loss: 0.1494 | valid_bal_acc: 0.9486 | valid_mcc: 0.8942  |  valid_auroc: 0.9850\n",
      "Epoch: 63 | train_loss: 0.0419 | train_bal_acc: 0.9920 | train_mcc: 0.9846 | train_auroc: 0.9995  |  valid_loss: 0.1478 | valid_bal_acc: 0.9470 | valid_mcc: 0.8950  |  valid_auroc: 0.9844\n",
      "Epoch: 64 | train_loss: 0.0418 | train_bal_acc: 0.9930 | train_mcc: 0.9862 | train_auroc: 0.9996  |  valid_loss: 0.1494 | valid_bal_acc: 0.9507 | valid_mcc: 0.8999  |  valid_auroc: 0.9843\n",
      "Epoch: 65 | train_loss: 0.0372 | train_bal_acc: 0.9943 | train_mcc: 0.9890 | train_auroc: 0.9998  |  valid_loss: 0.1980 | valid_bal_acc: 0.9442 | valid_mcc: 0.8869  |  valid_auroc: 0.9825\n",
      "Epoch: 66 | train_loss: 0.0381 | train_bal_acc: 0.9933 | train_mcc: 0.9864 | train_auroc: 0.9997  |  valid_loss: 0.1531 | valid_bal_acc: 0.9524 | valid_mcc: 0.9051  |  valid_auroc: 0.9847\n",
      "Epoch: 67 | train_loss: 0.0351 | train_bal_acc: 0.9941 | train_mcc: 0.9884 | train_auroc: 0.9997  |  valid_loss: 0.1541 | valid_bal_acc: 0.9527 | valid_mcc: 0.9063  |  valid_auroc: 0.9858\n",
      "Epoch: 68 | train_loss: 0.0344 | train_bal_acc: 0.9945 | train_mcc: 0.9889 | train_auroc: 0.9999  |  valid_loss: 0.1517 | valid_bal_acc: 0.9446 | valid_mcc: 0.8444  |  valid_auroc: 0.9562\n",
      "Epoch: 69 | train_loss: 0.0324 | train_bal_acc: 0.9963 | train_mcc: 0.9928 | train_auroc: 0.9999  |  valid_loss: 0.1544 | valid_bal_acc: 0.9462 | valid_mcc: 0.8931  |  valid_auroc: 0.9862\n",
      "Epoch: 70 | train_loss: 0.0315 | train_bal_acc: 0.9949 | train_mcc: 0.9904 | train_auroc: 1.0000  |  valid_loss: 0.1702 | valid_bal_acc: 0.9442 | valid_mcc: 0.8919  |  valid_auroc: 0.9852\n",
      "Epoch: 71 | train_loss: 0.0315 | train_bal_acc: 0.9965 | train_mcc: 0.9928 | train_auroc: 0.9998  |  valid_loss: 0.1515 | valid_bal_acc: 0.9544 | valid_mcc: 0.9088  |  valid_auroc: 0.9865\n",
      "Epoch: 72 | train_loss: 0.0293 | train_bal_acc: 0.9967 | train_mcc: 0.9937 | train_auroc: 1.0000  |  valid_loss: 0.1459 | valid_bal_acc: 0.9527 | valid_mcc: 0.9049  |  valid_auroc: 0.9858\n",
      "Epoch: 73 | train_loss: 0.0262 | train_bal_acc: 0.9965 | train_mcc: 0.9933 | train_auroc: 0.9999  |  valid_loss: 0.1441 | valid_bal_acc: 0.9527 | valid_mcc: 0.9061  |  valid_auroc: 0.9858\n",
      "Epoch: 74 | train_loss: 0.0245 | train_bal_acc: 0.9968 | train_mcc: 0.9937 | train_auroc: 1.0000  |  valid_loss: 0.1955 | valid_bal_acc: 0.9439 | valid_mcc: 0.8916  |  valid_auroc: 0.9796\n",
      "Epoch: 75 | train_loss: 0.0250 | train_bal_acc: 0.9966 | train_mcc: 0.9933 | train_auroc: 1.0000  |  valid_loss: 0.1517 | valid_bal_acc: 0.9510 | valid_mcc: 0.9029  |  valid_auroc: 0.9855\n",
      "Epoch: 76 | train_loss: 0.0253 | train_bal_acc: 0.9959 | train_mcc: 0.9918 | train_auroc: 1.0000  |  valid_loss: 0.1809 | valid_bal_acc: 0.9408 | valid_mcc: 0.8855  |  valid_auroc: 0.9858\n",
      "Epoch: 77 | train_loss: 0.0217 | train_bal_acc: 0.9985 | train_mcc: 0.9971 | train_auroc: 0.9999  |  valid_loss: 0.1438 | valid_bal_acc: 0.9545 | valid_mcc: 0.9116  |  valid_auroc: 0.9855\n",
      "Epoch: 78 | train_loss: 0.0216 | train_bal_acc: 0.9969 | train_mcc: 0.9938 | train_auroc: 1.0000  |  valid_loss: 0.1612 | valid_bal_acc: 0.9512 | valid_mcc: 0.9036  |  valid_auroc: 0.9878\n",
      "Epoch: 79 | train_loss: 0.0202 | train_bal_acc: 0.9987 | train_mcc: 0.9971 | train_auroc: 1.0000  |  valid_loss: 0.1490 | valid_bal_acc: 0.9511 | valid_mcc: 0.9059  |  valid_auroc: 0.9863\n",
      "Epoch: 80 | train_loss: 0.0199 | train_bal_acc: 0.9983 | train_mcc: 0.9961 | train_auroc: 1.0000  |  valid_loss: 0.2018 | valid_bal_acc: 0.9411 | valid_mcc: 0.8905  |  valid_auroc: 0.9780\n",
      "Epoch: 81 | train_loss: 0.0177 | train_bal_acc: 0.9991 | train_mcc: 0.9981 | train_auroc: 1.0000  |  valid_loss: 0.1790 | valid_bal_acc: 0.9473 | valid_mcc: 0.8999  |  valid_auroc: 0.9859\n",
      "Epoch: 82 | train_loss: 0.0187 | train_bal_acc: 0.9980 | train_mcc: 0.9961 | train_auroc: 1.0000  |  valid_loss: 0.1561 | valid_bal_acc: 0.9527 | valid_mcc: 0.9063  |  valid_auroc: 0.9868\n",
      "Epoch: 83 | train_loss: 0.0158 | train_bal_acc: 0.9993 | train_mcc: 0.9985 | train_auroc: 1.0000  |  valid_loss: 0.1476 | valid_bal_acc: 0.9576 | valid_mcc: 0.9169  |  valid_auroc: 0.9876\n",
      "Epoch: 84 | train_loss: 0.0161 | train_bal_acc: 0.9984 | train_mcc: 0.9966 | train_auroc: 1.0000  |  valid_loss: 0.1836 | valid_bal_acc: 0.9487 | valid_mcc: 0.8992  |  valid_auroc: 0.9848\n",
      "Epoch: 85 | train_loss: 0.0167 | train_bal_acc: 0.9997 | train_mcc: 0.9995 | train_auroc: 1.0000  |  valid_loss: 0.1572 | valid_bal_acc: 0.9551 | valid_mcc: 0.9108  |  valid_auroc: 0.9864\n",
      "Epoch: 86 | train_loss: 0.0136 | train_bal_acc: 0.9998 | train_mcc: 0.9995 | train_auroc: 1.0000  |  valid_loss: 0.1426 | valid_bal_acc: 0.9560 | valid_mcc: 0.9134  |  valid_auroc: 0.9864\n",
      "Epoch: 87 | train_loss: 0.0137 | train_bal_acc: 0.9990 | train_mcc: 0.9981 | train_auroc: 1.0000  |  valid_loss: 0.1668 | valid_bal_acc: 0.9481 | valid_mcc: 0.8977  |  valid_auroc: 0.9859\n",
      "Epoch: 88 | train_loss: 0.0139 | train_bal_acc: 0.9993 | train_mcc: 0.9985 | train_auroc: 1.0000  |  valid_loss: 0.1977 | valid_bal_acc: 0.9420 | valid_mcc: 0.8948  |  valid_auroc: 0.9775\n"
     ]
    },
    {
     "name": "stdout",
     "output_type": "stream",
     "text": [
      "Epoch: 89 | train_loss: 0.0122 | train_bal_acc: 0.9995 | train_mcc: 0.9990 | train_auroc: 1.0000  |  valid_loss: 0.1695 | valid_bal_acc: 0.9513 | valid_mcc: 0.9051  |  valid_auroc: 0.9798\n",
      "Epoch: 90 | train_loss: 0.0118 | train_bal_acc: 0.9995 | train_mcc: 0.9990 | train_auroc: 1.0000  |  valid_loss: 0.1799 | valid_bal_acc: 0.9503 | valid_mcc: 0.8978  |  valid_auroc: 0.9863\n",
      "Epoch: 91 | train_loss: 0.0116 | train_bal_acc: 0.9998 | train_mcc: 0.9995 | train_auroc: 1.0000  |  valid_loss: 0.1560 | valid_bal_acc: 0.9550 | valid_mcc: 0.9108  |  valid_auroc: 0.9878\n",
      "Epoch: 92 | train_loss: 0.0117 | train_bal_acc: 1.0000 | train_mcc: 1.0000 | train_auroc: 1.0000  |  valid_loss: 0.1447 | valid_bal_acc: 0.9559 | valid_mcc: 0.9138  |  valid_auroc: 0.9871\n",
      "Epoch: 93 | train_loss: 0.0105 | train_bal_acc: 0.9998 | train_mcc: 0.9995 | train_auroc: 1.0000  |  valid_loss: 0.1539 | valid_bal_acc: 0.9568 | valid_mcc: 0.9140  |  valid_auroc: 0.9887\n",
      "Epoch: 94 | train_loss: 0.0100 | train_bal_acc: 0.9998 | train_mcc: 0.9995 | train_auroc: 1.0000  |  valid_loss: 0.1994 | valid_bal_acc: 0.9469 | valid_mcc: 0.8976  |  valid_auroc: 0.9842\n",
      "Epoch: 95 | train_loss: 0.0101 | train_bal_acc: 0.9997 | train_mcc: 0.9995 | train_auroc: 1.0000  |  valid_loss: 0.1906 | valid_bal_acc: 0.9528 | valid_mcc: 0.8997  |  valid_auroc: 0.9897\n",
      "Epoch: 96 | train_loss: 0.0118 | train_bal_acc: 0.9984 | train_mcc: 0.9966 | train_auroc: 1.0000  |  valid_loss: 0.1509 | valid_bal_acc: 0.9586 | valid_mcc: 0.9172  |  valid_auroc: 0.9859\n",
      "Epoch: 97 | train_loss: 0.0086 | train_bal_acc: 1.0000 | train_mcc: 1.0000 | train_auroc: 1.0000  |  valid_loss: 0.1503 | valid_bal_acc: 0.9615 | valid_mcc: 0.9212  |  valid_auroc: 0.9890\n",
      "Epoch: 98 | train_loss: 0.0081 | train_bal_acc: 1.0000 | train_mcc: 1.0000 | train_auroc: 1.0000  |  valid_loss: 0.1733 | valid_bal_acc: 0.9503 | valid_mcc: 0.9035  |  valid_auroc: 0.9885\n",
      "Epoch: 99 | train_loss: 0.0088 | train_bal_acc: 0.9995 | train_mcc: 0.9991 | train_auroc: 1.0000  |  valid_loss: 0.1513 | valid_bal_acc: 0.9497 | valid_mcc: 0.9031  |  valid_auroc: 0.9885\n",
      "Epoch: 100 | train_loss: 0.0076 | train_bal_acc: 0.9998 | train_mcc: 0.9995 | train_auroc: 1.0000  |  valid_loss: 0.1503 | valid_bal_acc: 0.9584 | valid_mcc: 0.9178  |  valid_auroc: 0.9867\n",
      "Epoch: 101 | train_loss: 0.0077 | train_bal_acc: 1.0000 | train_mcc: 1.0000 | train_auroc: 1.0000  |  valid_loss: 0.1652 | valid_bal_acc: 0.9557 | valid_mcc: 0.9130  |  valid_auroc: 0.9872\n",
      "Epoch: 102 | train_loss: 0.0069 | train_bal_acc: 0.9998 | train_mcc: 0.9995 | train_auroc: 1.0000  |  valid_loss: 0.1687 | valid_bal_acc: 0.9573 | valid_mcc: 0.9134  |  valid_auroc: 0.9873\n",
      "Epoch: 103 | train_loss: 0.0079 | train_bal_acc: 1.0000 | train_mcc: 1.0000 | train_auroc: 1.0000  |  valid_loss: 0.1978 | valid_bal_acc: 0.9511 | valid_mcc: 0.9009  |  valid_auroc: 0.9807\n",
      "Epoch: 104 | train_loss: 0.0070 | train_bal_acc: 0.9998 | train_mcc: 0.9995 | train_auroc: 1.0000  |  valid_loss: 0.1497 | valid_bal_acc: 0.9592 | valid_mcc: 0.9194  |  valid_auroc: 0.9877\n",
      "Epoch: 105 | train_loss: 0.0061 | train_bal_acc: 1.0000 | train_mcc: 1.0000 | train_auroc: 1.0000  |  valid_loss: 0.1742 | valid_bal_acc: 0.9533 | valid_mcc: 0.9084  |  valid_auroc: 0.9875\n",
      "Epoch: 106 | train_loss: 0.0071 | train_bal_acc: 1.0000 | train_mcc: 1.0000 | train_auroc: 1.0000  |  valid_loss: 0.1806 | valid_bal_acc: 0.9501 | valid_mcc: 0.9004  |  valid_auroc: 0.9876\n",
      "Epoch: 107 | train_loss: 0.0058 | train_bal_acc: 1.0000 | train_mcc: 1.0000 | train_auroc: 1.0000  |  valid_loss: 0.2166 | valid_bal_acc: 0.9518 | valid_mcc: 0.8991  |  valid_auroc: 0.9831\n",
      "Epoch: 108 | train_loss: 0.0056 | train_bal_acc: 0.9997 | train_mcc: 0.9995 | train_auroc: 1.0000  |  valid_loss: 0.1801 | valid_bal_acc: 0.9559 | valid_mcc: 0.9065  |  valid_auroc: 0.9877\n",
      "Epoch: 109 | train_loss: 0.0055 | train_bal_acc: 1.0000 | train_mcc: 1.0000 | train_auroc: 1.0000  |  valid_loss: 0.1534 | valid_bal_acc: 0.9594 | valid_mcc: 0.9188  |  valid_auroc: 0.9877\n",
      "Epoch: 110 | train_loss: 0.0060 | train_bal_acc: 1.0000 | train_mcc: 1.0000 | train_auroc: 1.0000  |  valid_loss: 0.1674 | valid_bal_acc: 0.9552 | valid_mcc: 0.9122  |  valid_auroc: 0.9881\n",
      "Epoch: 111 | train_loss: 0.0049 | train_bal_acc: 1.0000 | train_mcc: 1.0000 | train_auroc: 1.0000  |  valid_loss: 0.2045 | valid_bal_acc: 0.9491 | valid_mcc: 0.8987  |  valid_auroc: 0.9853\n",
      "Epoch: 112 | train_loss: 0.0055 | train_bal_acc: 0.9998 | train_mcc: 0.9995 | train_auroc: 1.0000  |  valid_loss: 0.1933 | valid_bal_acc: 0.9441 | valid_mcc: 0.8954  |  valid_auroc: 0.9876\n",
      "Epoch: 113 | train_loss: 0.0051 | train_bal_acc: 1.0000 | train_mcc: 1.0000 | train_auroc: 1.0000  |  valid_loss: 0.1932 | valid_bal_acc: 0.9484 | valid_mcc: 0.8956  |  valid_auroc: 0.9881\n",
      "Epoch: 114 | train_loss: 0.0041 | train_bal_acc: 0.9998 | train_mcc: 0.9995 | train_auroc: 1.0000  |  valid_loss: 0.1602 | valid_bal_acc: 0.9568 | valid_mcc: 0.9163  |  valid_auroc: 0.9874\n",
      "Epoch: 115 | train_loss: 0.0040 | train_bal_acc: 1.0000 | train_mcc: 1.0000 | train_auroc: 1.0000  |  valid_loss: 0.1778 | valid_bal_acc: 0.9554 | valid_mcc: 0.9108  |  valid_auroc: 0.9881\n",
      "Epoch: 116 | train_loss: 0.0044 | train_bal_acc: 0.9997 | train_mcc: 0.9995 | train_auroc: 1.0000  |  valid_loss: 0.2247 | valid_bal_acc: 0.9439 | valid_mcc: 0.8939  |  valid_auroc: 0.9841\n",
      "Epoch: 117 | train_loss: 0.0036 | train_bal_acc: 1.0000 | train_mcc: 1.0000 | train_auroc: 1.0000  |  valid_loss: 0.1739 | valid_bal_acc: 0.9556 | valid_mcc: 0.9129  |  valid_auroc: 0.9880\n",
      "Epoch: 118 | train_loss: 0.0035 | train_bal_acc: 1.0000 | train_mcc: 1.0000 | train_auroc: 1.0000  |  valid_loss: 0.2104 | valid_bal_acc: 0.9503 | valid_mcc: 0.9026  |  valid_auroc: 0.9767\n",
      "Epoch: 119 | train_loss: 0.0033 | train_bal_acc: 1.0000 | train_mcc: 1.0000 | train_auroc: 1.0000  |  valid_loss: 0.1835 | valid_bal_acc: 0.9534 | valid_mcc: 0.9104  |  valid_auroc: 0.9857\n",
      "Epoch: 120 | train_loss: 0.0039 | train_bal_acc: 0.9998 | train_mcc: 0.9995 | train_auroc: 1.0000  |  valid_loss: 0.1680 | valid_bal_acc: 0.9578 | valid_mcc: 0.9165  |  valid_auroc: 0.9873\n",
      "Epoch: 121 | train_loss: 0.0036 | train_bal_acc: 1.0000 | train_mcc: 1.0000 | train_auroc: 1.0000  |  valid_loss: 0.1643 | valid_bal_acc: 0.9592 | valid_mcc: 0.9177  |  valid_auroc: 0.9882\n",
      "Epoch: 122 | train_loss: 0.0031 | train_bal_acc: 1.0000 | train_mcc: 1.0000 | train_auroc: 1.0000  |  valid_loss: 0.1749 | valid_bal_acc: 0.9550 | valid_mcc: 0.9123  |  valid_auroc: 0.9881\n",
      "Epoch: 123 | train_loss: 0.0031 | train_bal_acc: 0.9995 | train_mcc: 0.9990 | train_auroc: 1.0000  |  valid_loss: 0.2096 | valid_bal_acc: 0.9520 | valid_mcc: 0.9057  |  valid_auroc: 0.9867\n",
      "Epoch: 124 | train_loss: 0.0033 | train_bal_acc: 1.0000 | train_mcc: 1.0000 | train_auroc: 1.0000  |  valid_loss: 0.1786 | valid_bal_acc: 0.9561 | valid_mcc: 0.9119  |  valid_auroc: 0.9882\n",
      "Epoch: 125 | train_loss: 0.0028 | train_bal_acc: 1.0000 | train_mcc: 1.0000 | train_auroc: 1.0000  |  valid_loss: 0.1793 | valid_bal_acc: 0.9554 | valid_mcc: 0.9120  |  valid_auroc: 0.9886\n",
      "Epoch: 126 | train_loss: 0.0026 | train_bal_acc: 1.0000 | train_mcc: 1.0000 | train_auroc: 1.0000  |  valid_loss: 0.1709 | valid_bal_acc: 0.9571 | valid_mcc: 0.9146  |  valid_auroc: 0.9892\n",
      "Epoch: 127 | train_loss: 0.0029 | train_bal_acc: 1.0000 | train_mcc: 1.0000 | train_auroc: 1.0000  |  valid_loss: 0.1674 | valid_bal_acc: 0.9584 | valid_mcc: 0.9174  |  valid_auroc: 0.9889\n",
      "Epoch: 128 | train_loss: 0.0024 | train_bal_acc: 1.0000 | train_mcc: 1.0000 | train_auroc: 1.0000  |  valid_loss: 0.1868 | valid_bal_acc: 0.9548 | valid_mcc: 0.9118  |  valid_auroc: 0.9881\n",
      "Epoch: 129 | train_loss: 0.0022 | train_bal_acc: 1.0000 | train_mcc: 1.0000 | train_auroc: 1.0000  |  valid_loss: 0.1868 | valid_bal_acc: 0.9574 | valid_mcc: 0.9145  |  valid_auroc: 0.9871\n",
      "Epoch: 130 | train_loss: 0.0036 | train_bal_acc: 1.0000 | train_mcc: 1.0000 | train_auroc: 1.0000  |  valid_loss: 0.1743 | valid_bal_acc: 0.9573 | valid_mcc: 0.9158  |  valid_auroc: 0.9886\n",
      "Epoch: 131 | train_loss: 0.0023 | train_bal_acc: 1.0000 | train_mcc: 1.0000 | train_auroc: 1.0000  |  valid_loss: 0.1701 | valid_bal_acc: 0.9605 | valid_mcc: 0.9216  |  valid_auroc: 0.9881\n",
      "Epoch: 132 | train_loss: 0.0027 | train_bal_acc: 1.0000 | train_mcc: 1.0000 | train_auroc: 1.0000  |  valid_loss: 0.1783 | valid_bal_acc: 0.9577 | valid_mcc: 0.9155  |  valid_auroc: 0.9896\n"
     ]
    },
    {
     "name": "stdout",
     "output_type": "stream",
     "text": [
      "Epoch: 133 | train_loss: 0.0020 | train_bal_acc: 1.0000 | train_mcc: 1.0000 | train_auroc: 1.0000  |  valid_loss: 0.2045 | valid_bal_acc: 0.9516 | valid_mcc: 0.9038  |  valid_auroc: 0.9881\n",
      "Epoch: 134 | train_loss: 0.0020 | train_bal_acc: 1.0000 | train_mcc: 1.0000 | train_auroc: 1.0000  |  valid_loss: 0.1862 | valid_bal_acc: 0.9577 | valid_mcc: 0.9151  |  valid_auroc: 0.9886\n",
      "Epoch: 135 | train_loss: 0.0018 | train_bal_acc: 1.0000 | train_mcc: 1.0000 | train_auroc: 1.0000  |  valid_loss: 0.1867 | valid_bal_acc: 0.9548 | valid_mcc: 0.9034  |  valid_auroc: 0.9890\n",
      "Epoch: 136 | train_loss: 0.0017 | train_bal_acc: 1.0000 | train_mcc: 1.0000 | train_auroc: 1.0000  |  valid_loss: 0.1970 | valid_bal_acc: 0.9552 | valid_mcc: 0.9105  |  valid_auroc: 0.9888\n",
      "Early stopping after 136 epochs\n"
     ]
    }
   ],
   "source": [
    "results, _ = engine_boosted.train_with_early_stopping(model=model,\n",
    "                                                  train_dataloader=train_loader,\n",
    "                                                  valid_dataloader=val_loader,\n",
    "                                                  optimizer=optimizer,\n",
    "                                                  loss_fn=loss_fn,\n",
    "                                                  epochs=800,\n",
    "                                                  device=device)\n"
   ]
  },
  {
   "cell_type": "code",
   "execution_count": 70,
   "id": "377b935b",
   "metadata": {},
   "outputs": [
    {
     "data": {
      "text/plain": [
       "range(0, 136)"
      ]
     },
     "execution_count": 70,
     "metadata": {},
     "output_type": "execute_result"
    }
   ],
   "source": [
    "range(len(results[\"train_loss\"]))"
   ]
  },
  {
   "cell_type": "code",
   "execution_count": 71,
   "id": "879ac77f",
   "metadata": {},
   "outputs": [
    {
     "data": {
      "image/png": "[encoded data removed]",
      "text/plain": [
       "<Figure size 1500x700 with 2 Axes>"
      ]
     },
     "metadata": {},
     "output_type": "display_data"
    }
   ],
   "source": [
    "helper_functions.plot_loss_curves(results)\n",
    "plt.savefig(f'All_TFs_CNN1_ADAM_BCEWithLogits_KERNEL=10_seq=200b.png')"
   ]
  },
  {
   "cell_type": "code",
   "execution_count": 72,
   "id": "c995dcf3",
   "metadata": {},
   "outputs": [
    {
     "data": {
      "image/png": "[encoded data removed]",
      "text/plain": [
       "<Figure size 640x480 with 1 Axes>"
      ]
     },
     "metadata": {},
     "output_type": "display_data"
    }
   ],
   "source": [
    "helper_functions.plot_auroc(results)"
   ]
  },
  {
   "cell_type": "code",
   "execution_count": 73,
   "id": "a84d4ad9",
   "metadata": {},
   "outputs": [
    {
     "data": {
      "image/png": "[encoded data removed]",
      "text/plain": [
       "<Figure size 640x480 with 1 Axes>"
      ]
     },
     "metadata": {},
     "output_type": "display_data"
    }
   ],
   "source": [
    "helper_functions.plot_f_score(results)"
   ]
  },
  {
   "cell_type": "code",
   "execution_count": 74,
   "id": "fbff03bf",
   "metadata": {},
   "outputs": [],
   "source": [
    "test_results = engine_boosted.test_step(model = model,\n",
    "                                        dataloader = test_loader,\n",
    "                                        loss_fn = loss_fn,\n",
    "                                        device =device)"
   ]
  },
  {
   "cell_type": "code",
   "execution_count": 75,
   "id": "35eeed82",
   "metadata": {},
   "outputs": [
    {
     "name": "stdout",
     "output_type": "stream",
     "text": [
      "Perfomance on held out test set\n",
      "Test loss: 0.17220042929762885  | Test bal acc 0.9479610918061341 |Test mcc 0.8966781811003173 | Test_f_score 0.9478841136007992 | Test auroc 0.990617036819458\n"
     ]
    }
   ],
   "source": [
    "# Unpack the values\n",
    "test_loss, test_bal_acc, test_mcc, test_f_score, test_auroc = test_results\n",
    "\n",
    "print(\"Perfomance on held out test set\")\n",
    "print(f'Test loss: {float(test_loss)}  | Test bal acc {float(test_bal_acc)} |\\\n",
    "Test mcc {float(test_mcc)} | Test_f_score {float(test_f_score)} | Test auroc {float(test_auroc)}')   \n",
    "    "
   ]
  },
  {
   "cell_type": "code",
   "execution_count": null,
   "id": "922d6554",
   "metadata": {},
   "outputs": [],
   "source": []
  }
 ],
 "metadata": {
  "kernelspec": {
   "display_name": "Python 3 (ipykernel)",
   "language": "python",
   "name": "python3"
  },
  "language_info": {
   "codemirror_mode": {
    "name": "ipython",
    "version": 3
   },
   "file_extension": ".py",
   "mimetype": "text/x-python",
   "name": "python",
   "nbconvert_exporter": "python",
   "pygments_lexer": "ipython3",
   "version": "3.11.5"
  }
 },
 "nbformat": 4,
 "nbformat_minor": 5
}
