{
 "cells": [
  {
   "cell_type": "markdown",
   "id": "553e205d",
   "metadata": {},
   "source": [
    "# Imports and functions"
   ]
  },
  {
   "cell_type": "code",
   "execution_count": 477,
   "id": "05d85633",
   "metadata": {},
   "outputs": [],
   "source": [
    "import pandas as pd\n",
    "import numpy as np\n",
    "from sklearn.preprocessing import OneHotEncoder\n",
    "from keras.utils import to_categorical\n",
    "from sklearn.metrics import balanced_accuracy_score"
   ]
  },
  {
   "cell_type": "code",
   "execution_count": 478,
   "id": "be0b021b",
   "metadata": {},
   "outputs": [],
   "source": [
    "import torchvision\n",
    "import engine\n",
    "import helper_functions"
   ]
  },
  {
   "cell_type": "code",
   "execution_count": 479,
   "id": "8ab851ad",
   "metadata": {},
   "outputs": [],
   "source": [
    "from tqdm.auto import tqdm\n",
    "from typing import Dict, List, Tuple\n",
    "from sklearn.metrics import balanced_accuracy_score, matthews_corrcoef, f1_score\n",
    "from collections import deque  # Import deque for early stopping\n",
    "import warnings\n",
    "\n",
    "# Suppress the specific UserWarning related to y_pred and y_true class mismatch\n",
    "warnings.filterwarnings(\"ignore\", category=UserWarning, message=\"y_pred contains classes not in y_true\")"
   ]
  },
  {
   "cell_type": "code",
   "execution_count": 480,
   "id": "faeaeafc",
   "metadata": {},
   "outputs": [],
   "source": [
    "from sklearn.metrics import balanced_accuracy_score\n",
    "\n",
    "# Function to calculate balanced accuracy using sklearn\n",
    "def balanced_accuracy(y_true, y_pred):\n",
    "    return balanced_accuracy_score(y_true, y_pred) * 100"
   ]
  },
  {
   "cell_type": "code",
   "execution_count": 481,
   "id": "6c000451",
   "metadata": {},
   "outputs": [],
   "source": [
    "# Function to perform one-hot encoding for DNA sequences\n",
    "def one_hot_encode(sequence):\n",
    "    encoding = {'A': [1, 0, 0, 0], 'T': [0, 1, 0, 0], 'G': [0, 0, 1, 0], 'C': [0, 0, 0, 1]}\n",
    "    one_hot_sequence = [encoding.get(base, [0, 0, 0, 0]) for base in sequence]\n",
    "    return np.array(one_hot_sequence)"
   ]
  },
  {
   "cell_type": "markdown",
   "id": "c17478ea",
   "metadata": {},
   "source": [
    "# Set up device agnostic code"
   ]
  },
  {
   "cell_type": "code",
   "execution_count": 482,
   "id": "12cee86f",
   "metadata": {},
   "outputs": [
    {
     "data": {
      "text/plain": [
       "'cpu'"
      ]
     },
     "execution_count": 482,
     "metadata": {},
     "output_type": "execute_result"
    }
   ],
   "source": [
    "import torch\n",
    "from torch import nn\n",
    "# Make device agnostic code\n",
    "device = \"cuda\" if torch.cuda.is_available() else \"cpu\"\n",
    "device"
   ]
  },
  {
   "cell_type": "code",
   "execution_count": 483,
   "id": "c9939f1e",
   "metadata": {},
   "outputs": [
    {
     "data": {
      "text/html": [
       "<div>\n",
       "<style scoped>\n",
       "    .dataframe tbody tr th:only-of-type {\n",
       "        vertical-align: middle;\n",
       "    }\n",
       "\n",
       "    .dataframe tbody tr th {\n",
       "        vertical-align: top;\n",
       "    }\n",
       "\n",
       "    .dataframe thead th {\n",
       "        text-align: right;\n",
       "    }\n",
       "</style>\n",
       "<table border=\"1\" class=\"dataframe\">\n",
       "  <thead>\n",
       "    <tr style=\"text-align: right;\">\n",
       "      <th></th>\n",
       "      <th>data</th>\n",
       "      <th>class</th>\n",
       "    </tr>\n",
       "  </thead>\n",
       "  <tbody>\n",
       "    <tr>\n",
       "      <th>0</th>\n",
       "      <td>AGCAACTATTGTCAGCCCATCTCAAGCCAGAGTGTCTCCCCAGAAC...</td>\n",
       "      <td>0</td>\n",
       "    </tr>\n",
       "    <tr>\n",
       "      <th>1</th>\n",
       "      <td>GATGAGTGTGTCTGTGTGTCTGTCTCTCTCCGCATGTGCACACGGG...</td>\n",
       "      <td>0</td>\n",
       "    </tr>\n",
       "    <tr>\n",
       "      <th>2</th>\n",
       "      <td>TCATCCCCACCAAGAGCTTACTGTGACTGAGAGTTACGCAGCCCGA...</td>\n",
       "      <td>0</td>\n",
       "    </tr>\n",
       "    <tr>\n",
       "      <th>3</th>\n",
       "      <td>GGAAATTCAAGATGTTTCATAAATCATCCACTTCAGTAATTGATCT...</td>\n",
       "      <td>0</td>\n",
       "    </tr>\n",
       "    <tr>\n",
       "      <th>4</th>\n",
       "      <td>AGCTTCTCACCCTCTGATCTTTGCCATTGAGTCCCCTGTGTCCTCT...</td>\n",
       "      <td>0</td>\n",
       "    </tr>\n",
       "    <tr>\n",
       "      <th>...</th>\n",
       "      <td>...</td>\n",
       "      <td>...</td>\n",
       "    </tr>\n",
       "    <tr>\n",
       "      <th>56082</th>\n",
       "      <td>ACTCCCCTTCCCCAACTTACACACACTCACACACACACATACACAC...</td>\n",
       "      <td>1</td>\n",
       "    </tr>\n",
       "    <tr>\n",
       "      <th>56083</th>\n",
       "      <td>AATTTCCCCTTTCTTCTTTGTTTCGGTGTCAATTTTTTTTTTAGTT...</td>\n",
       "      <td>1</td>\n",
       "    </tr>\n",
       "    <tr>\n",
       "      <th>56084</th>\n",
       "      <td>CTTATTATTATTTAGAGAGCTGGGAACTGGTTAAACTTTAAAAAAT...</td>\n",
       "      <td>1</td>\n",
       "    </tr>\n",
       "    <tr>\n",
       "      <th>56085</th>\n",
       "      <td>AAATGAATGAACTGCAAATTTGAATAGGGTGAACTTTATGATACAT...</td>\n",
       "      <td>1</td>\n",
       "    </tr>\n",
       "    <tr>\n",
       "      <th>56086</th>\n",
       "      <td>CCAAGGCAGGGGCGAGTCCTTTTGTATGAATTACTCTCAGCTCCGG...</td>\n",
       "      <td>1</td>\n",
       "    </tr>\n",
       "  </tbody>\n",
       "</table>\n",
       "<p>56087 rows × 2 columns</p>\n",
       "</div>"
      ],
      "text/plain": [
       "                                                    data  class\n",
       "0      AGCAACTATTGTCAGCCCATCTCAAGCCAGAGTGTCTCCCCAGAAC...      0\n",
       "1      GATGAGTGTGTCTGTGTGTCTGTCTCTCTCCGCATGTGCACACGGG...      0\n",
       "2      TCATCCCCACCAAGAGCTTACTGTGACTGAGAGTTACGCAGCCCGA...      0\n",
       "3      GGAAATTCAAGATGTTTCATAAATCATCCACTTCAGTAATTGATCT...      0\n",
       "4      AGCTTCTCACCCTCTGATCTTTGCCATTGAGTCCCCTGTGTCCTCT...      0\n",
       "...                                                  ...    ...\n",
       "56082  ACTCCCCTTCCCCAACTTACACACACTCACACACACACATACACAC...      1\n",
       "56083  AATTTCCCCTTTCTTCTTTGTTTCGGTGTCAATTTTTTTTTTAGTT...      1\n",
       "56084  CTTATTATTATTTAGAGAGCTGGGAACTGGTTAAACTTTAAAAAAT...      1\n",
       "56085  AAATGAATGAACTGCAAATTTGAATAGGGTGAACTTTATGATACAT...      1\n",
       "56086  CCAAGGCAGGGGCGAGTCCTTTTGTATGAATTACTCTCAGCTCCGG...      1\n",
       "\n",
       "[56087 rows x 2 columns]"
      ]
     },
     "execution_count": 483,
     "metadata": {},
     "output_type": "execute_result"
    }
   ],
   "source": [
    "# Define Name of TF \n",
    "tf=\"RELA\"\n",
    "file_path = f'/mnt/raid1/thalassini/home/filtered_fimo(>3)/{tf.upper()}/datasets/data.csv'\n",
    "df = pd.read_csv(file_path)\n",
    "df"
   ]
  },
  {
   "cell_type": "markdown",
   "id": "071c33a0",
   "metadata": {},
   "source": [
    "# Sequence length inspection and normalization"
   ]
  },
  {
   "cell_type": "code",
   "execution_count": 484,
   "id": "d33c9269",
   "metadata": {},
   "outputs": [
    {
     "name": "stdout",
     "output_type": "stream",
     "text": [
      "Max length:209, Min length: 201\n"
     ]
    },
    {
     "data": {
      "image/png": "[encoded data removed]",
      "text/plain": [
       "<Figure size 640x480 with 1 Axes>"
      ]
     },
     "metadata": {},
     "output_type": "display_data"
    }
   ],
   "source": [
    "lengths= [len(item) for item in df['data']] \n",
    "print(f'Max length:{max(lengths)}, Min length: {min(lengths)}')\n",
    "import matplotlib.pyplot as plt\n",
    "# Plotting the histogram\n",
    "plt.hist(lengths, bins=10, color='blue', edgecolor='black')\n",
    "plt.title('Histogram of Lengths')\n",
    "plt.xlabel('Length')\n",
    "plt.ylabel('Frequency')\n",
    "plt.show()"
   ]
  },
  {
   "cell_type": "code",
   "execution_count": 485,
   "id": "292502f4",
   "metadata": {},
   "outputs": [],
   "source": [
    "# Find the maximum length of sequences\n",
    "#min_length = min(len(seq) for seq in df['data'])\n",
    "limit=200\n",
    "\n",
    "\n",
    "# Pad or cut sequences to ensure they all have the same length\n",
    "cut_sequences = [seq[:limit] for seq in df['data']]\n",
    "\n",
    "# Update the DataFrame with the cut sequences\n",
    "#df['data'] = cut_sequences"
   ]
  },
  {
   "cell_type": "code",
   "execution_count": 486,
   "id": "84f394a8",
   "metadata": {},
   "outputs": [
    {
     "name": "stdout",
     "output_type": "stream",
     "text": [
      "Max length:200, Min length: 200\n"
     ]
    }
   ],
   "source": [
    "lengths= [len(item) for item in cut_sequences]\n",
    "print(f'Max length:{max(lengths)}, Min length: {min(lengths)}')"
   ]
  },
  {
   "cell_type": "markdown",
   "id": "9b65d644",
   "metadata": {},
   "source": [
    "# Define X,y variables"
   ]
  },
  {
   "cell_type": "code",
   "execution_count": 487,
   "id": "f9e96a80",
   "metadata": {},
   "outputs": [],
   "source": [
    "X=[one_hot_encode(sequence) for sequence in cut_sequences]"
   ]
  },
  {
   "cell_type": "code",
   "execution_count": 488,
   "id": "2ab32859",
   "metadata": {},
   "outputs": [],
   "source": [
    "X = torch.from_numpy(np.array(X)).type(torch.float)\n"
   ]
  },
  {
   "cell_type": "code",
   "execution_count": 489,
   "id": "0bf2a817",
   "metadata": {},
   "outputs": [
    {
     "data": {
      "text/plain": [
       "torch.Size([56087, 200, 4])"
      ]
     },
     "execution_count": 489,
     "metadata": {},
     "output_type": "execute_result"
    }
   ],
   "source": [
    "X.shape"
   ]
  },
  {
   "cell_type": "code",
   "execution_count": 490,
   "id": "9aec20e4",
   "metadata": {},
   "outputs": [
    {
     "data": {
      "text/plain": [
       "array([0, 0, 0])"
      ]
     },
     "execution_count": 490,
     "metadata": {},
     "output_type": "execute_result"
    }
   ],
   "source": [
    "y=np.array(df['class'])\n",
    "y[:3]"
   ]
  },
  {
   "cell_type": "code",
   "execution_count": 491,
   "id": "a2ce782b",
   "metadata": {},
   "outputs": [],
   "source": [
    "y = torch.from_numpy(y).type(torch.float)"
   ]
  },
  {
   "cell_type": "markdown",
   "id": "d38f4c6b",
   "metadata": {},
   "source": [
    "# Split the data in train, val and test set"
   ]
  },
  {
   "cell_type": "code",
   "execution_count": 492,
   "id": "f4a1304f",
   "metadata": {},
   "outputs": [
    {
     "name": "stdout",
     "output_type": "stream",
     "text": [
      "35895 35895 8974 8974\n",
      "11218 11218\n"
     ]
    }
   ],
   "source": [
    "from sklearn.model_selection import train_test_split\n",
    "from sklearn.model_selection import StratifiedShuffleSplit\n",
    "\n",
    "\n",
    "\n",
    "# Split the data into a stratified hold-out validation set and the rest\n",
    "stratified_splitter = StratifiedShuffleSplit(n_splits=1, test_size=0.2, random_state=42)\n",
    "\n",
    "for train_val_index, test_index in stratified_splitter.split(X, y):\n",
    "    X_train_val, X_test = X[train_val_index], X[test_index]\n",
    "    y_train_val, y_test = y[train_val_index], y[test_index]\n",
    "\n",
    "# Split the remaining data into training and validation sets\n",
    "X_train, X_val, y_train, y_val = train_test_split(X_train_val, y_train_val, test_size=0.2, stratify=y_train_val, random_state=42)\n",
    "\n",
    "print(len(X_train), len(y_train), len(X_val), len(y_val))\n",
    "print(len(X_test), len(y_test))\n",
    "\n",
    "\n",
    "# (X_train, X_val, y_train, y_val) for training, validation\n",
    "# X_test, y_test for the final hold-out validation.\n",
    "\n",
    "#X_train, X_val, X_test = torch.from_numpy(X_train).type(torch.float),torch.from_numpy(X_val).type(torch.float), torch.from_numpy(X_test).type(torch.float)\n",
    "\n"
   ]
  },
  {
   "cell_type": "markdown",
   "id": "bf5d6fa5",
   "metadata": {},
   "source": [
    "# Create datasets and Dataloaders"
   ]
  },
  {
   "cell_type": "code",
   "execution_count": 493,
   "id": "7b6ac252",
   "metadata": {},
   "outputs": [
    {
     "name": "stdout",
     "output_type": "stream",
     "text": [
      "35895 35895 35895\n"
     ]
    }
   ],
   "source": [
    "from torch.utils.data import DataLoader, TensorDataset\n",
    "torch.manual_seed(42)\n",
    "\n",
    "\n",
    "# Expand the dimensions of y to make it 2-dimensional\n",
    "y_train = y_train.view(-1, 1)\n",
    "y_test = y_test.view(-1,1)\n",
    "y_val = y_val.view(-1,1)\n",
    "# Concatenate the complement of y to create a 2-dimensional tensor\n",
    "y_train_one_hot = torch.cat([1 - y_train, y_train], dim=1).float()\n",
    "y_test_one_hot = torch.cat([1 - y_test, y_test], dim=1).float()\n",
    "y_val_one_hot = torch.cat([1 - y_val, y_val], dim=1).float()\n",
    "\n",
    "\n",
    "# Move tensors to the same device\n",
    "X_train, y_train_one_hot, y_train = X_train.to(device), y_train_one_hot.to(device), y_train.to(device)\n",
    "X_val, y_val_one_hot, y_val = X_val.to(device), y_val_one_hot.to(device), y_val.to(device)\n",
    "X_test, y_test_one_hot, y_test = X_test.to(device), y_test_one_hot.to(device), y_test.to(device)\n",
    "\n",
    "\n",
    "print(X_train.size(0), y_train_one_hot.size(0), y_train.size(0))\n",
    "\n",
    "# Create datasets\n",
    "train_dataset = TensorDataset(X_train, y_train_one_hot, y_train)\n",
    "val_dataset = TensorDataset(X_val, y_val_one_hot, y_val)\n",
    "test_dataset = TensorDataset(X_test, y_test_one_hot, y_test)\n",
    "\n"
   ]
  },
  {
   "cell_type": "code",
   "execution_count": 494,
   "id": "51f2313c",
   "metadata": {},
   "outputs": [],
   "source": [
    "\n",
    "batch_size=64\n",
    "torch.manual_seed(42)\n",
    "\n",
    "# Convert to PyTorch DataLoader\n",
    "train_loader = DataLoader(train_dataset, batch_size=batch_size, shuffle=True)\n",
    "val_loader = DataLoader(val_dataset, batch_size=batch_size, shuffle=True)\n",
    "test_loader = DataLoader(test_dataset, batch_size=batch_size, shuffle=True)"
   ]
  },
  {
   "cell_type": "markdown",
   "id": "d20e4bb7",
   "metadata": {},
   "source": [
    "# Construct a 1 layer CNN with Maxpooling and Dropout"
   ]
  },
  {
   "cell_type": "code",
   "execution_count": 505,
   "id": "9c0dfed6",
   "metadata": {},
   "outputs": [],
   "source": [
    "class Conv_v0(torch.nn.Module):\n",
    "\n",
    "    def __init__(self):\n",
    "        super(Conv_v0, self).__init__()\n",
    "\n",
    "        self.conv1 = torch.nn.Conv1d(in_channels=4, out_channels=3, kernel_size=10)\n",
    "        self.activation = torch.nn.ReLU()\n",
    "        self.maxpool = torch.nn.MaxPool1d(kernel_size=5)\n",
    "        \n",
    "        self.dropout = torch.nn.Dropout(p=0.5) \n",
    "        self.fc = torch.nn.Linear(in_features=114, out_features=2)\n",
    "        #elf.sigmoid = torch.nn.Sigmoid()\n",
    "\n",
    "    def forward(self, x):\n",
    "        x= x.permute(0, 2, 1)\n",
    "        x = self.conv1(x)\n",
    "        x = self.activation(x)\n",
    "        x = self.maxpool(x)\n",
    "        \n",
    "        # Reshape the output of the max pooling layer before passing it to the fully connected layer\n",
    "        x = x.view(x.size(0), -1)\n",
    "        \n",
    "        #print(\"Size after reshaping:\", x.size())\n",
    "        x=self.dropout(x)\n",
    "        x = self.fc(x)\n",
    "       #x = self.sigmoid(x)\n",
    "        return x\n"
   ]
  },
  {
   "cell_type": "markdown",
   "id": "f7dd2545",
   "metadata": {},
   "source": [
    "# Computing class weights"
   ]
  },
  {
   "cell_type": "code",
   "execution_count": 506,
   "id": "64857411",
   "metadata": {},
   "outputs": [
    {
     "name": "stdout",
     "output_type": "stream",
     "text": [
      "Class Weights List: [2.412298387096774, 1.7080656673804426]\n"
     ]
    }
   ],
   "source": [
    "from torch.utils.data import DataLoader, TensorDataset\n",
    "from sklearn.utils.class_weight import compute_class_weight\n",
    "\n",
    "# Assuming we have defined dataset\n",
    "# train_dataset = TensorDataset(X_train, y_train_one_hot, y_train)\n",
    "\n",
    "# Extract the labels from the dataset\n",
    "_, _, y_train = zip(*train_dataset)\n",
    "\n",
    "# Count occurrences of each class\n",
    "class_0_count = sum(1 for label in y_train if label == 0)\n",
    "class_1_count = sum(1 for label in y_train if label == 1)\n",
    "\n",
    "# Total length of y_train\n",
    "total_samples = len(y_train)\n",
    "\n",
    "# Calculate class weights\n",
    "weights = [total_samples / class_0_count, total_samples / class_1_count]\n",
    "\n",
    "# Print the list of class weights\n",
    "print(\"Class Weights List:\", weights)\n",
    "\n",
    "\n"
   ]
  },
  {
   "cell_type": "markdown",
   "id": "40b134d4",
   "metadata": {},
   "source": [
    "# Set up loss function and optimizer"
   ]
  },
  {
   "cell_type": "code",
   "execution_count": 507,
   "id": "948d9087",
   "metadata": {},
   "outputs": [],
   "source": [
    "from torch.optim import lr_scheduler\n",
    "weights = torch.tensor(weights).to(device)\n",
    "#print(weights)"
   ]
  },
  {
   "cell_type": "code",
   "execution_count": 508,
   "id": "48ade8fa",
   "metadata": {},
   "outputs": [],
   "source": [
    "torch.manual_seed(42)\n",
    "\n",
    "# Initialize model instance\n",
    "model = Conv_v0()\n",
    "\n",
    "# define the CrossEntropyLoss with weights\n",
    "loss_fn = nn.BCEWithLogitsLoss(weight=weights)\n",
    "\n",
    "# Define oprimizer\n",
    "optimizer = torch.optim.Adam(model.parameters(), lr=0.0001)\n",
    "\n",
    "# Define exponetntial lr with lr_scheduler\n",
    "exp_lr_scheduler = lr_scheduler.ExponentialLR(optimizer, gamma=0.01)"
   ]
  },
  {
   "cell_type": "code",
   "execution_count": 509,
   "id": "e1d337c9",
   "metadata": {},
   "outputs": [
    {
     "data": {
      "text/plain": [
       "tensor([[-0.1080, -0.4991],\n",
       "        [-0.1028, -0.4214],\n",
       "        [ 0.1576, -0.2359],\n",
       "        [ 0.1838, -0.2496],\n",
       "        [-0.0382, -0.3235]], grad_fn=<SliceBackward0>)"
      ]
     },
     "execution_count": 509,
     "metadata": {},
     "output_type": "execute_result"
    }
   ],
   "source": [
    "# View the frist 5 outputs of the forward pass on the test data\n",
    "y_logits = model(X_test.to(device))[:5]\n",
    "y_logits"
   ]
  },
  {
   "cell_type": "code",
   "execution_count": 510,
   "id": "6e25b4b3",
   "metadata": {
    "scrolled": false
   },
   "outputs": [
    {
     "data": {
      "application/vnd.jupyter.widget-view+json": {
       "model_id": "d7faa1e96c564e3eb663a491ac486ce8",
       "version_major": 2,
       "version_minor": 0
      },
      "text/plain": [
       "  0%|          | 0/100 [00:00<?, ?it/s]"
      ]
     },
     "metadata": {},
     "output_type": "display_data"
    },
    {
     "name": "stdout",
     "output_type": "stream",
     "text": [
      "Epoch: 1 | train_loss: 1.4241 | train_bal_acc: 0.4966 | train_mcc: -0.0068 | valid_loss: 1.4039 | valid_bal_acc: 0.5000 | valid_mcc: 0.0000\n",
      "Epoch: 2 | train_loss: 1.4073 | train_bal_acc: 0.4994 | train_mcc: 0.0015 | valid_loss: 1.3980 | valid_bal_acc: 0.5000 | valid_mcc: 0.0000\n",
      "Epoch: 3 | train_loss: 1.4005 | train_bal_acc: 0.5002 | train_mcc: 0.0002 | valid_loss: 1.3923 | valid_bal_acc: 0.5000 | valid_mcc: 0.0000\n",
      "Epoch: 4 | train_loss: 1.3919 | train_bal_acc: 0.5003 | train_mcc: 0.0018 | valid_loss: 1.3846 | valid_bal_acc: 0.5000 | valid_mcc: 0.0000\n",
      "Epoch: 5 | train_loss: 1.3818 | train_bal_acc: 0.5007 | train_mcc: 0.0056 | valid_loss: 1.3731 | valid_bal_acc: 0.5001 | valid_mcc: 0.0006\n",
      "Epoch: 6 | train_loss: 1.3685 | train_bal_acc: 0.5127 | train_mcc: 0.0465 | valid_loss: 1.3607 | valid_bal_acc: 0.5096 | valid_mcc: 0.0412\n",
      "Epoch: 7 | train_loss: 1.3563 | train_bal_acc: 0.5367 | train_mcc: 0.0957 | valid_loss: 1.3533 | valid_bal_acc: 0.5277 | valid_mcc: 0.0754\n",
      "Epoch: 8 | train_loss: 1.3514 | train_bal_acc: 0.5463 | train_mcc: 0.1067 | valid_loss: 1.3468 | valid_bal_acc: 0.5259 | valid_mcc: 0.0700\n",
      "Epoch: 9 | train_loss: 1.3458 | train_bal_acc: 0.5501 | train_mcc: 0.1135 | valid_loss: 1.3445 | valid_bal_acc: 0.5382 | valid_mcc: 0.0951\n",
      "Epoch: 10 | train_loss: 1.3436 | train_bal_acc: 0.5509 | train_mcc: 0.1123 | valid_loss: 1.3405 | valid_bal_acc: 0.5421 | valid_mcc: 0.1002\n",
      "Epoch: 11 | train_loss: 1.3401 | train_bal_acc: 0.5518 | train_mcc: 0.1157 | valid_loss: 1.3404 | valid_bal_acc: 0.5429 | valid_mcc: 0.1047\n",
      "Epoch: 12 | train_loss: 1.3397 | train_bal_acc: 0.5494 | train_mcc: 0.1087 | valid_loss: 1.3370 | valid_bal_acc: 0.5441 | valid_mcc: 0.1050\n",
      "Epoch: 13 | train_loss: 1.3362 | train_bal_acc: 0.5534 | train_mcc: 0.1189 | valid_loss: 1.3364 | valid_bal_acc: 0.5496 | valid_mcc: 0.1147\n",
      "Epoch: 14 | train_loss: 1.3346 | train_bal_acc: 0.5503 | train_mcc: 0.1113 | valid_loss: 1.3361 | valid_bal_acc: 0.5378 | valid_mcc: 0.0945\n",
      "Epoch: 15 | train_loss: 1.3333 | train_bal_acc: 0.5525 | train_mcc: 0.1157 | valid_loss: 1.3333 | valid_bal_acc: 0.5461 | valid_mcc: 0.1079\n",
      "Epoch: 16 | train_loss: 1.3306 | train_bal_acc: 0.5512 | train_mcc: 0.1127 | valid_loss: 1.3307 | valid_bal_acc: 0.5524 | valid_mcc: 0.1177\n",
      "Epoch: 17 | train_loss: 1.3293 | train_bal_acc: 0.5525 | train_mcc: 0.1146 | valid_loss: 1.3285 | valid_bal_acc: 0.5453 | valid_mcc: 0.1066\n",
      "Epoch: 18 | train_loss: 1.3274 | train_bal_acc: 0.5511 | train_mcc: 0.1130 | valid_loss: 1.3279 | valid_bal_acc: 0.5493 | valid_mcc: 0.1111\n",
      "Epoch: 19 | train_loss: 1.3256 | train_bal_acc: 0.5538 | train_mcc: 0.1182 | valid_loss: 1.3255 | valid_bal_acc: 0.5531 | valid_mcc: 0.1183\n",
      "Epoch: 20 | train_loss: 1.3235 | train_bal_acc: 0.5526 | train_mcc: 0.1144 | valid_loss: 1.3237 | valid_bal_acc: 0.5493 | valid_mcc: 0.1138\n",
      "Epoch: 21 | train_loss: 1.3228 | train_bal_acc: 0.5527 | train_mcc: 0.1156 | valid_loss: 1.3226 | valid_bal_acc: 0.5528 | valid_mcc: 0.1199\n",
      "Epoch: 22 | train_loss: 1.3221 | train_bal_acc: 0.5563 | train_mcc: 0.1224 | valid_loss: 1.3219 | valid_bal_acc: 0.5497 | valid_mcc: 0.1140\n",
      "Epoch: 23 | train_loss: 1.3206 | train_bal_acc: 0.5526 | train_mcc: 0.1149 | valid_loss: 1.3217 | valid_bal_acc: 0.5517 | valid_mcc: 0.1153\n",
      "Epoch: 24 | train_loss: 1.3193 | train_bal_acc: 0.5561 | train_mcc: 0.1213 | valid_loss: 1.3211 | valid_bal_acc: 0.5496 | valid_mcc: 0.1123\n",
      "Epoch: 25 | train_loss: 1.3168 | train_bal_acc: 0.5551 | train_mcc: 0.1201 | valid_loss: 1.3182 | valid_bal_acc: 0.5510 | valid_mcc: 0.1153\n",
      "Epoch: 26 | train_loss: 1.3158 | train_bal_acc: 0.5564 | train_mcc: 0.1220 | valid_loss: 1.3176 | valid_bal_acc: 0.5554 | valid_mcc: 0.1210\n",
      "Epoch: 27 | train_loss: 1.3149 | train_bal_acc: 0.5571 | train_mcc: 0.1231 | valid_loss: 1.3172 | valid_bal_acc: 0.5518 | valid_mcc: 0.1156\n",
      "Epoch: 28 | train_loss: 1.3137 | train_bal_acc: 0.5567 | train_mcc: 0.1210 | valid_loss: 1.3136 | valid_bal_acc: 0.5527 | valid_mcc: 0.1175\n",
      "Epoch: 29 | train_loss: 1.3126 | train_bal_acc: 0.5545 | train_mcc: 0.1181 | valid_loss: 1.3138 | valid_bal_acc: 0.5575 | valid_mcc: 0.1252\n",
      "Epoch: 30 | train_loss: 1.3108 | train_bal_acc: 0.5586 | train_mcc: 0.1249 | valid_loss: 1.3117 | valid_bal_acc: 0.5553 | valid_mcc: 0.1192\n",
      "Epoch: 31 | train_loss: 1.3100 | train_bal_acc: 0.5601 | train_mcc: 0.1266 | valid_loss: 1.3117 | valid_bal_acc: 0.5560 | valid_mcc: 0.1243\n",
      "Epoch: 32 | train_loss: 1.3095 | train_bal_acc: 0.5590 | train_mcc: 0.1253 | valid_loss: 1.3116 | valid_bal_acc: 0.5430 | valid_mcc: 0.1007\n",
      "Epoch: 33 | train_loss: 1.3096 | train_bal_acc: 0.5613 | train_mcc: 0.1300 | valid_loss: 1.3116 | valid_bal_acc: 0.5519 | valid_mcc: 0.1156\n",
      "Epoch: 34 | train_loss: 1.3080 | train_bal_acc: 0.5553 | train_mcc: 0.1183 | valid_loss: 1.3094 | valid_bal_acc: 0.5516 | valid_mcc: 0.1147\n",
      "Epoch: 35 | train_loss: 1.3064 | train_bal_acc: 0.5622 | train_mcc: 0.1320 | valid_loss: 1.3088 | valid_bal_acc: 0.5475 | valid_mcc: 0.1092\n",
      "Epoch: 36 | train_loss: 1.3052 | train_bal_acc: 0.5588 | train_mcc: 0.1250 | valid_loss: 1.3077 | valid_bal_acc: 0.5506 | valid_mcc: 0.1148\n",
      "Epoch: 37 | train_loss: 1.3061 | train_bal_acc: 0.5584 | train_mcc: 0.1242 | valid_loss: 1.3072 | valid_bal_acc: 0.5508 | valid_mcc: 0.1137\n",
      "Epoch: 38 | train_loss: 1.3043 | train_bal_acc: 0.5626 | train_mcc: 0.1327 | valid_loss: 1.3050 | valid_bal_acc: 0.5569 | valid_mcc: 0.1239\n",
      "Epoch: 39 | train_loss: 1.3023 | train_bal_acc: 0.5628 | train_mcc: 0.1317 | valid_loss: 1.3040 | valid_bal_acc: 0.5480 | valid_mcc: 0.1102\n",
      "Epoch: 40 | train_loss: 1.3011 | train_bal_acc: 0.5657 | train_mcc: 0.1387 | valid_loss: 1.3039 | valid_bal_acc: 0.5499 | valid_mcc: 0.1107\n",
      "Epoch: 41 | train_loss: 1.3025 | train_bal_acc: 0.5600 | train_mcc: 0.1266 | valid_loss: 1.3021 | valid_bal_acc: 0.5606 | valid_mcc: 0.1272\n",
      "Epoch: 42 | train_loss: 1.3014 | train_bal_acc: 0.5662 | train_mcc: 0.1379 | valid_loss: 1.3032 | valid_bal_acc: 0.5465 | valid_mcc: 0.1093\n",
      "Epoch: 43 | train_loss: 1.3017 | train_bal_acc: 0.5638 | train_mcc: 0.1346 | valid_loss: 1.3023 | valid_bal_acc: 0.5583 | valid_mcc: 0.1241\n",
      "Epoch: 44 | train_loss: 1.2988 | train_bal_acc: 0.5643 | train_mcc: 0.1352 | valid_loss: 1.3026 | valid_bal_acc: 0.5610 | valid_mcc: 0.1277\n",
      "Epoch: 45 | train_loss: 1.3007 | train_bal_acc: 0.5647 | train_mcc: 0.1341 | valid_loss: 1.2996 | valid_bal_acc: 0.5564 | valid_mcc: 0.1237\n",
      "Epoch: 46 | train_loss: 1.3000 | train_bal_acc: 0.5630 | train_mcc: 0.1321 | valid_loss: 1.3023 | valid_bal_acc: 0.5613 | valid_mcc: 0.1315\n",
      "Epoch: 47 | train_loss: 1.3003 | train_bal_acc: 0.5645 | train_mcc: 0.1347 | valid_loss: 1.2999 | valid_bal_acc: 0.5579 | valid_mcc: 0.1281\n",
      "Epoch: 48 | train_loss: 1.2989 | train_bal_acc: 0.5642 | train_mcc: 0.1340 | valid_loss: 1.2994 | valid_bal_acc: 0.5597 | valid_mcc: 0.1288\n",
      "Epoch: 49 | train_loss: 1.2983 | train_bal_acc: 0.5676 | train_mcc: 0.1411 | valid_loss: 1.3002 | valid_bal_acc: 0.5613 | valid_mcc: 0.1325\n",
      "Epoch: 50 | train_loss: 1.2979 | train_bal_acc: 0.5674 | train_mcc: 0.1404 | valid_loss: 1.2984 | valid_bal_acc: 0.5636 | valid_mcc: 0.1369\n",
      "Epoch: 51 | train_loss: 1.2975 | train_bal_acc: 0.5664 | train_mcc: 0.1374 | valid_loss: 1.2992 | valid_bal_acc: 0.5617 | valid_mcc: 0.1334\n",
      "Epoch: 52 | train_loss: 1.2999 | train_bal_acc: 0.5679 | train_mcc: 0.1410 | valid_loss: 1.2981 | valid_bal_acc: 0.5607 | valid_mcc: 0.1342\n",
      "Epoch: 53 | train_loss: 1.2966 | train_bal_acc: 0.5708 | train_mcc: 0.1468 | valid_loss: 1.2986 | valid_bal_acc: 0.5609 | valid_mcc: 0.1339\n",
      "Epoch: 54 | train_loss: 1.2980 | train_bal_acc: 0.5664 | train_mcc: 0.1381 | valid_loss: 1.2974 | valid_bal_acc: 0.5701 | valid_mcc: 0.1478\n",
      "Epoch: 55 | train_loss: 1.2971 | train_bal_acc: 0.5687 | train_mcc: 0.1420 | valid_loss: 1.2990 | valid_bal_acc: 0.5574 | valid_mcc: 0.1274\n",
      "Epoch: 56 | train_loss: 1.2979 | train_bal_acc: 0.5699 | train_mcc: 0.1452 | valid_loss: 1.2974 | valid_bal_acc: 0.5677 | valid_mcc: 0.1422\n",
      "Epoch: 57 | train_loss: 1.2965 | train_bal_acc: 0.5672 | train_mcc: 0.1401 | valid_loss: 1.2959 | valid_bal_acc: 0.5720 | valid_mcc: 0.1501\n",
      "Epoch: 58 | train_loss: 1.2954 | train_bal_acc: 0.5670 | train_mcc: 0.1386 | valid_loss: 1.2956 | valid_bal_acc: 0.5631 | valid_mcc: 0.1392\n",
      "Epoch: 59 | train_loss: 1.2961 | train_bal_acc: 0.5680 | train_mcc: 0.1397 | valid_loss: 1.2962 | valid_bal_acc: 0.5687 | valid_mcc: 0.1478\n"
     ]
    },
    {
     "name": "stdout",
     "output_type": "stream",
     "text": [
      "Epoch: 60 | train_loss: 1.2960 | train_bal_acc: 0.5658 | train_mcc: 0.1373 | valid_loss: 1.2960 | valid_bal_acc: 0.5676 | valid_mcc: 0.1458\n",
      "Epoch: 61 | train_loss: 1.2982 | train_bal_acc: 0.5701 | train_mcc: 0.1448 | valid_loss: 1.2961 | valid_bal_acc: 0.5659 | valid_mcc: 0.1407\n",
      "Epoch: 62 | train_loss: 1.2955 | train_bal_acc: 0.5684 | train_mcc: 0.1415 | valid_loss: 1.2970 | valid_bal_acc: 0.5668 | valid_mcc: 0.1420\n",
      "Epoch: 63 | train_loss: 1.2957 | train_bal_acc: 0.5663 | train_mcc: 0.1377 | valid_loss: 1.2955 | valid_bal_acc: 0.5715 | valid_mcc: 0.1496\n",
      "Epoch: 64 | train_loss: 1.2958 | train_bal_acc: 0.5691 | train_mcc: 0.1431 | valid_loss: 1.2951 | valid_bal_acc: 0.5622 | valid_mcc: 0.1373\n",
      "Epoch: 65 | train_loss: 1.2959 | train_bal_acc: 0.5668 | train_mcc: 0.1382 | valid_loss: 1.2954 | valid_bal_acc: 0.5609 | valid_mcc: 0.1353\n",
      "Epoch: 66 | train_loss: 1.2951 | train_bal_acc: 0.5677 | train_mcc: 0.1412 | valid_loss: 1.2957 | valid_bal_acc: 0.5705 | valid_mcc: 0.1488\n",
      "Epoch: 67 | train_loss: 1.2955 | train_bal_acc: 0.5681 | train_mcc: 0.1404 | valid_loss: 1.2952 | valid_bal_acc: 0.5617 | valid_mcc: 0.1346\n",
      "Epoch: 68 | train_loss: 1.2958 | train_bal_acc: 0.5665 | train_mcc: 0.1380 | valid_loss: 1.2950 | valid_bal_acc: 0.5637 | valid_mcc: 0.1394\n",
      "Epoch: 69 | train_loss: 1.2942 | train_bal_acc: 0.5661 | train_mcc: 0.1370 | valid_loss: 1.2945 | valid_bal_acc: 0.5710 | valid_mcc: 0.1481\n",
      "Epoch: 70 | train_loss: 1.2939 | train_bal_acc: 0.5725 | train_mcc: 0.1503 | valid_loss: 1.2941 | valid_bal_acc: 0.5671 | valid_mcc: 0.1420\n",
      "Epoch: 71 | train_loss: 1.2954 | train_bal_acc: 0.5717 | train_mcc: 0.1487 | valid_loss: 1.2947 | valid_bal_acc: 0.5673 | valid_mcc: 0.1441\n",
      "Epoch: 72 | train_loss: 1.2937 | train_bal_acc: 0.5715 | train_mcc: 0.1476 | valid_loss: 1.2935 | valid_bal_acc: 0.5643 | valid_mcc: 0.1404\n",
      "Epoch: 73 | train_loss: 1.2934 | train_bal_acc: 0.5732 | train_mcc: 0.1512 | valid_loss: 1.2940 | valid_bal_acc: 0.5607 | valid_mcc: 0.1352\n",
      "Epoch: 74 | train_loss: 1.2935 | train_bal_acc: 0.5710 | train_mcc: 0.1472 | valid_loss: 1.2936 | valid_bal_acc: 0.5657 | valid_mcc: 0.1404\n",
      "Epoch: 75 | train_loss: 1.2937 | train_bal_acc: 0.5722 | train_mcc: 0.1501 | valid_loss: 1.2944 | valid_bal_acc: 0.5624 | valid_mcc: 0.1337\n",
      "Epoch: 76 | train_loss: 1.2949 | train_bal_acc: 0.5674 | train_mcc: 0.1393 | valid_loss: 1.2933 | valid_bal_acc: 0.5743 | valid_mcc: 0.1544\n",
      "Epoch: 77 | train_loss: 1.2948 | train_bal_acc: 0.5701 | train_mcc: 0.1445 | valid_loss: 1.2960 | valid_bal_acc: 0.5736 | valid_mcc: 0.1523\n",
      "Epoch: 78 | train_loss: 1.2936 | train_bal_acc: 0.5708 | train_mcc: 0.1458 | valid_loss: 1.2941 | valid_bal_acc: 0.5660 | valid_mcc: 0.1412\n",
      "Epoch: 79 | train_loss: 1.2947 | train_bal_acc: 0.5687 | train_mcc: 0.1426 | valid_loss: 1.2920 | valid_bal_acc: 0.5638 | valid_mcc: 0.1369\n",
      "Epoch: 80 | train_loss: 1.2957 | train_bal_acc: 0.5699 | train_mcc: 0.1450 | valid_loss: 1.2936 | valid_bal_acc: 0.5770 | valid_mcc: 0.1589\n",
      "Epoch: 81 | train_loss: 1.2934 | train_bal_acc: 0.5715 | train_mcc: 0.1485 | valid_loss: 1.2936 | valid_bal_acc: 0.5667 | valid_mcc: 0.1422\n",
      "Epoch: 82 | train_loss: 1.2933 | train_bal_acc: 0.5686 | train_mcc: 0.1429 | valid_loss: 1.2924 | valid_bal_acc: 0.5710 | valid_mcc: 0.1475\n",
      "Epoch: 83 | train_loss: 1.2925 | train_bal_acc: 0.5748 | train_mcc: 0.1547 | valid_loss: 1.2928 | valid_bal_acc: 0.5664 | valid_mcc: 0.1416\n",
      "Epoch: 84 | train_loss: 1.2930 | train_bal_acc: 0.5693 | train_mcc: 0.1436 | valid_loss: 1.2915 | valid_bal_acc: 0.5667 | valid_mcc: 0.1420\n",
      "Epoch: 85 | train_loss: 1.2961 | train_bal_acc: 0.5677 | train_mcc: 0.1413 | valid_loss: 1.2921 | valid_bal_acc: 0.5743 | valid_mcc: 0.1533\n",
      "Epoch: 86 | train_loss: 1.2936 | train_bal_acc: 0.5718 | train_mcc: 0.1481 | valid_loss: 1.2932 | valid_bal_acc: 0.5590 | valid_mcc: 0.1289\n",
      "Epoch: 87 | train_loss: 1.2930 | train_bal_acc: 0.5701 | train_mcc: 0.1460 | valid_loss: 1.2936 | valid_bal_acc: 0.5690 | valid_mcc: 0.1467\n",
      "Epoch: 88 | train_loss: 1.2961 | train_bal_acc: 0.5697 | train_mcc: 0.1436 | valid_loss: 1.2920 | valid_bal_acc: 0.5681 | valid_mcc: 0.1456\n",
      "Epoch: 89 | train_loss: 1.2944 | train_bal_acc: 0.5690 | train_mcc: 0.1428 | valid_loss: 1.2926 | valid_bal_acc: 0.5738 | valid_mcc: 0.1537\n",
      "Early stopping after 89 epochs without improvement.\n"
     ]
    }
   ],
   "source": [
    "results, _ = engine.train_with_early_stopping(model=model,\n",
    "                                                  train_dataloader=train_loader,\n",
    "                                                  valid_dataloader=val_loader,\n",
    "                                                  optimizer=optimizer,\n",
    "                                                  loss_fn=loss_fn,\n",
    "                                                  epochs=100,\n",
    "                                                  device=device)\n"
   ]
  },
  {
   "cell_type": "code",
   "execution_count": 513,
   "id": "7754dda2",
   "metadata": {},
   "outputs": [
    {
     "data": {
      "image/png": "[encoded data removed]",
      "text/plain": [
       "<Figure size 1500x700 with 2 Axes>"
      ]
     },
     "metadata": {},
     "output_type": "display_data"
    }
   ],
   "source": [
    "helper_functions.plot_loss_curves(results)\n",
    "plt.savefig(f'{tf}_CNN1_ADAM_BCEWithLogits_KERNEL=10.png')"
   ]
  },
  {
   "cell_type": "code",
   "execution_count": 502,
   "id": "7b74bc9d",
   "metadata": {},
   "outputs": [
    {
     "name": "stdout",
     "output_type": "stream",
     "text": [
      "Perfomance on held out test set\n",
      "Test loss: 1.2990714223547415 | Test bal acc 0.5467266463967236 | Test mcc 0.10536644029570005 | Test_f_score 0.5632016967110546\n",
      "\n"
     ]
    }
   ],
   "source": [
    "from sklearn.metrics import balanced_accuracy_score, matthews_corrcoef, f1_score\n",
    "import torch.nn.functional as F\n",
    "\n",
    "\n",
    "model.eval()\n",
    "\n",
    "\n",
    "with torch.inference_mode():\n",
    "    all_predictions = []\n",
    "    all_true_labels = []\n",
    "    all_test_pred_prob=[]\n",
    "    \n",
    "    test_loss, test_bal_acc, test_mcc, test_f_score = 0, 0, 0, 0\n",
    "    for batch, (X, y_one_hot, y) in enumerate(test_loader):\n",
    "        # Send data to target device\n",
    "        X, y_one_hot, y = X.to(device),y_one_hot.to(device), y.to(device)\n",
    "\n",
    "        # 1. Forward pass\n",
    "        test_pred_logits = model(X)\n",
    "\n",
    "        # 2. Calculate and accumulate loss\n",
    "        loss = loss_fn(test_pred_logits, y_one_hot)\n",
    "        test_loss += loss.item()\n",
    "\n",
    "        # Calculate and accumulate scores\n",
    "        test_pred_labels = test_pred_logits.argmax(dim=1)\n",
    "        test_pred_prob = torch.softmax(test_pred_logits.squeeze(), dim=0) # note: perform softmax on the \"logits\" dimension, not \"batch\" dimension (in this case we have a batch size of 1, so can perform on dim=0)\n",
    "        test_bal_acc += balanced_accuracy_score(y.cpu().numpy(), test_pred_labels.cpu().numpy())\n",
    "        test_mcc += matthews_corrcoef(y.cpu().numpy(), test_pred_labels.cpu().numpy())\n",
    "        test_f_score += f1_score(y.cpu().numpy(), test_pred_labels.cpu().numpy(), average='weighted')\n",
    "        \n",
    "        all_predictions.extend(test_pred_labels.cpu().numpy())\n",
    "        all_true_labels.extend(y.cpu().numpy())\n",
    "        all_test_pred_prob.extend(test_pred_prob.cpu().numpy())\n",
    "\n",
    "    # Adjust metrics to get average loss and accuracy per batch\n",
    "    test_loss = test_loss / len(test_loader)\n",
    "    test_bal_acc = test_bal_acc / len(test_loader)\n",
    "    test_mcc = test_mcc / len(test_loader)\n",
    "    test_f_score = test_f_score / len(test_loader)\n",
    "    print(\"Perfomance on held out test set\")\n",
    "    print(f'Test loss: {test_loss} | Test bal acc {test_bal_acc} | Test mcc {test_mcc} | Test_f_score {test_f_score}\\n')   \n",
    "    "
   ]
  },
  {
   "cell_type": "code",
   "execution_count": 503,
   "id": "11648f1e",
   "metadata": {},
   "outputs": [],
   "source": [
    "from torch.utils.tensorboard import SummaryWriter\n",
    "# Create a writer with all default settings\n",
    "writer = SummaryWriter()"
   ]
  },
  {
   "cell_type": "code",
   "execution_count": null,
   "id": "ea18e2b7",
   "metadata": {},
   "outputs": [],
   "source": []
  }
 ],
 "metadata": {
  "kernelspec": {
   "display_name": "Python 3 (ipykernel)",
   "language": "python",
   "name": "python3"
  },
  "language_info": {
   "codemirror_mode": {
    "name": "ipython",
    "version": 3
   },
   "file_extension": ".py",
   "mimetype": "text/x-python",
   "name": "python",
   "nbconvert_exporter": "python",
   "pygments_lexer": "ipython3",
   "version": "3.11.5"
  }
 },
 "nbformat": 4,
 "nbformat_minor": 5
}
