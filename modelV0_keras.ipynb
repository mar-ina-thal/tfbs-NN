{
 "cells": [
  {
   "cell_type": "code",
   "execution_count": 1,
   "id": "1a3fdee0",
   "metadata": {},
   "outputs": [
    {
     "name": "stderr",
     "output_type": "stream",
     "text": [
      "2024-01-13 10:06:00.384087: I tensorflow/core/util/port.cc:113] oneDNN custom operations are on. You may see slightly different numerical results due to floating-point round-off errors from different computation orders. To turn them off, set the environment variable `TF_ENABLE_ONEDNN_OPTS=0`.\n",
      "2024-01-13 10:06:00.556907: E external/local_xla/xla/stream_executor/cuda/cuda_dnn.cc:9261] Unable to register cuDNN factory: Attempting to register factory for plugin cuDNN when one has already been registered\n",
      "2024-01-13 10:06:00.556958: E external/local_xla/xla/stream_executor/cuda/cuda_fft.cc:607] Unable to register cuFFT factory: Attempting to register factory for plugin cuFFT when one has already been registered\n",
      "2024-01-13 10:06:00.640755: E external/local_xla/xla/stream_executor/cuda/cuda_blas.cc:1515] Unable to register cuBLAS factory: Attempting to register factory for plugin cuBLAS when one has already been registered\n",
      "2024-01-13 10:06:00.734370: I tensorflow/core/platform/cpu_feature_guard.cc:182] This TensorFlow binary is optimized to use available CPU instructions in performance-critical operations.\n",
      "To enable the following instructions: AVX2 AVX512F AVX512_VNNI FMA, in other operations, rebuild TensorFlow with the appropriate compiler flags.\n",
      "2024-01-13 10:06:03.270771: W tensorflow/compiler/tf2tensorrt/utils/py_utils.cc:38] TF-TRT Warning: Could not find TensorRT\n"
     ]
    }
   ],
   "source": [
    "import pandas as pd\n",
    "import numpy as np\n",
    "from sklearn.preprocessing import OneHotEncoder\n",
    "from keras.utils import to_categorical"
   ]
  },
  {
   "cell_type": "code",
   "execution_count": 47,
   "id": "370e2715",
   "metadata": {},
   "outputs": [],
   "source": [
    "# Replace 'file_path.csv' with the path to your CSV file\n",
    "file_path = '/mnt/raid1/thalassini/home/filtered_fimo/CTCF/datasets/data.csv'\n",
    "\n",
    "# Read the CSV file into a DataFrame\n",
    "df = pd.read_csv(file_path)"
   ]
  },
  {
   "cell_type": "code",
   "execution_count": 48,
   "id": "c6ea2273",
   "metadata": {},
   "outputs": [
    {
     "data": {
      "text/html": [
       "<div>\n",
       "<style scoped>\n",
       "    .dataframe tbody tr th:only-of-type {\n",
       "        vertical-align: middle;\n",
       "    }\n",
       "\n",
       "    .dataframe tbody tr th {\n",
       "        vertical-align: top;\n",
       "    }\n",
       "\n",
       "    .dataframe thead th {\n",
       "        text-align: right;\n",
       "    }\n",
       "</style>\n",
       "<table border=\"1\" class=\"dataframe\">\n",
       "  <thead>\n",
       "    <tr style=\"text-align: right;\">\n",
       "      <th></th>\n",
       "      <th>data</th>\n",
       "      <th>class</th>\n",
       "    </tr>\n",
       "  </thead>\n",
       "  <tbody>\n",
       "    <tr>\n",
       "      <th>0</th>\n",
       "      <td>CAAAAACACTGACAGGAAAAGGGATGGACATGATTCCCAGAATCCT...</td>\n",
       "      <td>0</td>\n",
       "    </tr>\n",
       "    <tr>\n",
       "      <th>1</th>\n",
       "      <td>CTAACCTGACATGAATTAGGGCAGGTTTTTGAATTCGTGTTGAAAA...</td>\n",
       "      <td>0</td>\n",
       "    </tr>\n",
       "    <tr>\n",
       "      <th>2</th>\n",
       "      <td>TCCTCTGTAGCACAGGTTAACACTTCTGCTAGTTCCAGGACTGAGG...</td>\n",
       "      <td>0</td>\n",
       "    </tr>\n",
       "    <tr>\n",
       "      <th>3</th>\n",
       "      <td>GAACACATTAAACAGCAGGTTGCTTATTCCTTCTCAAACCGCACTA...</td>\n",
       "      <td>0</td>\n",
       "    </tr>\n",
       "    <tr>\n",
       "      <th>4</th>\n",
       "      <td>ATTTCTCGGAACAGGCAGAAAGGAAGCGGCAGGGAGGTGGGTACTC...</td>\n",
       "      <td>0</td>\n",
       "    </tr>\n",
       "    <tr>\n",
       "      <th>...</th>\n",
       "      <td>...</td>\n",
       "      <td>...</td>\n",
       "    </tr>\n",
       "    <tr>\n",
       "      <th>96489</th>\n",
       "      <td>CCACCCTCCACTCCTCACCCCTCATCCCTCACCACCTGCCTTTCAA...</td>\n",
       "      <td>1</td>\n",
       "    </tr>\n",
       "    <tr>\n",
       "      <th>96490</th>\n",
       "      <td>GGCGGTGACGCACGGCGCGGTGACGCAGCGCGACGGCGGCGGCGGC...</td>\n",
       "      <td>1</td>\n",
       "    </tr>\n",
       "    <tr>\n",
       "      <th>96491</th>\n",
       "      <td>GGCGGTGACGCACGGCGCGGTGACGCAGCGCGACGGCGGCGGCGGC...</td>\n",
       "      <td>1</td>\n",
       "    </tr>\n",
       "    <tr>\n",
       "      <th>96492</th>\n",
       "      <td>CTCCCTCTCTGATGCCTGGTCACACCAGGATGGCGGTACCATGTGC...</td>\n",
       "      <td>1</td>\n",
       "    </tr>\n",
       "    <tr>\n",
       "      <th>96493</th>\n",
       "      <td>CTCCCTCTCTGATGCCTGGTCACACCAGGATGGCGGTACCATGTGC...</td>\n",
       "      <td>1</td>\n",
       "    </tr>\n",
       "  </tbody>\n",
       "</table>\n",
       "<p>96494 rows × 2 columns</p>\n",
       "</div>"
      ],
      "text/plain": [
       "                                                    data  class\n",
       "0      CAAAAACACTGACAGGAAAAGGGATGGACATGATTCCCAGAATCCT...      0\n",
       "1      CTAACCTGACATGAATTAGGGCAGGTTTTTGAATTCGTGTTGAAAA...      0\n",
       "2      TCCTCTGTAGCACAGGTTAACACTTCTGCTAGTTCCAGGACTGAGG...      0\n",
       "3      GAACACATTAAACAGCAGGTTGCTTATTCCTTCTCAAACCGCACTA...      0\n",
       "4      ATTTCTCGGAACAGGCAGAAAGGAAGCGGCAGGGAGGTGGGTACTC...      0\n",
       "...                                                  ...    ...\n",
       "96489  CCACCCTCCACTCCTCACCCCTCATCCCTCACCACCTGCCTTTCAA...      1\n",
       "96490  GGCGGTGACGCACGGCGCGGTGACGCAGCGCGACGGCGGCGGCGGC...      1\n",
       "96491  GGCGGTGACGCACGGCGCGGTGACGCAGCGCGACGGCGGCGGCGGC...      1\n",
       "96492  CTCCCTCTCTGATGCCTGGTCACACCAGGATGGCGGTACCATGTGC...      1\n",
       "96493  CTCCCTCTCTGATGCCTGGTCACACCAGGATGGCGGTACCATGTGC...      1\n",
       "\n",
       "[96494 rows x 2 columns]"
      ]
     },
     "execution_count": 48,
     "metadata": {},
     "output_type": "execute_result"
    }
   ],
   "source": [
    "df"
   ]
  },
  {
   "cell_type": "code",
   "execution_count": 49,
   "id": "c156bcb6",
   "metadata": {},
   "outputs": [],
   "source": [
    "# Function to perform one-hot encoding for DNA sequences\n",
    "def one_hot_encode(sequence):\n",
    "    encoding = {'A': [1, 0, 0, 0], 'T': [0, 1, 0, 0], 'G': [0, 0, 1, 0], 'C': [0, 0, 0, 1]}\n",
    "    one_hot_sequence = [encoding.get(base, [0, 0, 0, 0]) for base in sequence]\n",
    "    return np.array(one_hot_sequence)"
   ]
  },
  {
   "cell_type": "markdown",
   "id": "cfd2c4ea",
   "metadata": {},
   "source": [
    "# Padding"
   ]
  },
  {
   "cell_type": "code",
   "execution_count": 50,
   "id": "0da7cc2b",
   "metadata": {},
   "outputs": [
    {
     "name": "stdout",
     "output_type": "stream",
     "text": [
      "Max length:218, Min length: 200\n"
     ]
    }
   ],
   "source": [
    "lengths= [len(item) for item in df['data']] \n",
    "print(f'Max length:{max(lengths)}, Min length: {min(lengths)}')"
   ]
  },
  {
   "cell_type": "code",
   "execution_count": 51,
   "id": "0a1ea3d2",
   "metadata": {},
   "outputs": [
    {
     "data": {
      "image/png": "[encoded data removed]",
      "text/plain": [
       "<Figure size 640x480 with 1 Axes>"
      ]
     },
     "metadata": {},
     "output_type": "display_data"
    }
   ],
   "source": [
    "import matplotlib.pyplot as plt\n",
    "# Plotting the histogram\n",
    "plt.hist(lengths, bins=10, color='blue', edgecolor='black')\n",
    "plt.title('Histogram of Lengths')\n",
    "plt.xlabel('Length')\n",
    "plt.ylabel('Frequency')\n",
    "plt.show()"
   ]
  },
  {
   "cell_type": "code",
   "execution_count": 52,
   "id": "4aaa06f3",
   "metadata": {},
   "outputs": [],
   "source": [
    "# Find the maximum length of sequences\n",
    "#min_length = min(len(seq) for seq in df['data'])\n",
    "limit=200\n",
    "\n",
    "\n",
    "# Pad or cut sequences to ensure they all have the same length\n",
    "cut_sequences = [seq[:limit] for seq in df['data']]\n",
    "\n",
    "# Update the DataFrame with the cut sequences\n",
    "df['data'] = cut_sequences"
   ]
  },
  {
   "cell_type": "code",
   "execution_count": 53,
   "id": "0e8aa95a",
   "metadata": {},
   "outputs": [
    {
     "name": "stdout",
     "output_type": "stream",
     "text": [
      "Max length:200, Min length: 200\n"
     ]
    }
   ],
   "source": [
    "lengths= [len(item) for item in df['data']]\n",
    "print(f'Max length:{max(lengths)}, Min length: {min(lengths)}')"
   ]
  },
  {
   "cell_type": "code",
   "execution_count": null,
   "id": "fd232132",
   "metadata": {},
   "outputs": [],
   "source": []
  },
  {
   "cell_type": "code",
   "execution_count": 54,
   "id": "a80d7ab0",
   "metadata": {},
   "outputs": [
    {
     "data": {
      "text/plain": [
       "['CAAAAACACTGACAGGAAAAGGGATGGACATGATTCCCAGAATCCTTCAGGCTAGCTCCTCCGCGCATCCACGTTCAACCGAGGCTGGTGATGTTGGAGCGGCCACCAGGGGGCGCCACGATGCGGTGGCCGGTGCGCCTGGGATTGTTGTCATCTATCTGGGCACCTGAAAGAGAGCGCCAATCGCTGCTGGATGGGAT',\n",
       " 'CTAACCTGACATGAATTAGGGCAGGTTTTTGAATTCGTGTTGAAAAGAGCTTCCAACTGTGGCTCCGGAGTGGCCAGTTTCAAGCCATTCCTGTGTGACTGGCGCCCCCTGGTGGCCGAAAACCCAGGGACAGGCAAATGTATCGACTGAAGATTCCTGCTTGTTATATGGTGGTAGGGGAAATATTTTAAAGATCTTTT',\n",
       " 'TCCTCTGTAGCACAGGTTAACACTTCTGCTAGTTCCAGGACTGAGGCCATCCAGATAGCGGCCAGCTGGGCCCAGCCACGTGCAAAATTGGAGGTCATTTGGCGCCCCCTGCTGGCCAATGAGGTTTCTGCATGTCACCGGCTTTTCAATTTCTCATTTCCCTGGAGGAAGCCCATAAAGTGAGAAAGAGCTAATAAAAG',\n",
       " 'GAACACATTAAACAGCAGGTTGCTTATTCCTTCTCAAACCGCACTAAAAAATTCCTCTCTCGCATGTGTAGGTCCCAGAGCCAGACAGTTATGAGATGATGGTGCCCCCTGGTGGCCAATGTGGGGAGCCACCCGGCCAGGCGTGCTTCCTGGCTTTGTGCCAGCCATGCCTTTATTCTTTGGTTGGTTGGTTGGTTGGT',\n",
       " 'ATTTCTCGGAACAGGCAGAAAGGAAGCGGCAGGGAGGTGGGTACTCCGGAGAGCGAGCTGAGCGCTCTGCTGCCCGGCGCCTGCCAGGCTGGGGAGCCATGGCGCCACCTGGTGGCCAGTCTTAGCAGCGGCGGGCGACAGTGGGTGAACGCAGGGGAGACCCGCGCAGGCTGCTTTTTGAGCACAGTGTGTGTCAGGCG']"
      ]
     },
     "execution_count": 54,
     "metadata": {},
     "output_type": "execute_result"
    }
   ],
   "source": [
    "cut_sequences[:5]"
   ]
  },
  {
   "cell_type": "code",
   "execution_count": 55,
   "id": "0483e238",
   "metadata": {},
   "outputs": [],
   "source": [
    "X=[one_hot_encode(sequence) for sequence in cut_sequences]"
   ]
  },
  {
   "cell_type": "code",
   "execution_count": 56,
   "id": "2a0fc5a8",
   "metadata": {},
   "outputs": [
    {
     "data": {
      "text/plain": [
       "(96494, 200, 4)"
      ]
     },
     "execution_count": 56,
     "metadata": {},
     "output_type": "execute_result"
    }
   ],
   "source": [
    "X=np.array(X)\n",
    "X.shape"
   ]
  },
  {
   "cell_type": "code",
   "execution_count": 57,
   "id": "719e4f78",
   "metadata": {},
   "outputs": [
    {
     "data": {
      "text/plain": [
       "array([0, 0, 0])"
      ]
     },
     "execution_count": 57,
     "metadata": {},
     "output_type": "execute_result"
    }
   ],
   "source": [
    "y=np.array(df['class'])\n",
    "y[:3]"
   ]
  },
  {
   "cell_type": "code",
   "execution_count": 58,
   "id": "eb46aacd",
   "metadata": {},
   "outputs": [
    {
     "data": {
      "text/plain": [
       "(96494, 96494)"
      ]
     },
     "execution_count": 58,
     "metadata": {},
     "output_type": "execute_result"
    }
   ],
   "source": [
    "len(y),len(X)"
   ]
  },
  {
   "cell_type": "markdown",
   "id": "9b6299e1",
   "metadata": {},
   "source": [
    "import torch\n",
    "X = torch.from_numpy(X).type(torch.float)\n",
    "y = torch.from_numpy(y).type(torch.float)\n",
    "\n",
    "# View the first five samples\n",
    "X[:5], y[:5]"
   ]
  },
  {
   "cell_type": "markdown",
   "id": "c714a0b3",
   "metadata": {},
   "source": [
    "# Split train and test with stratification "
   ]
  },
  {
   "cell_type": "code",
   "execution_count": 59,
   "id": "4154eb6b",
   "metadata": {},
   "outputs": [
    {
     "data": {
      "text/plain": [
       "(77195, 19299, 77195, 19299)"
      ]
     },
     "execution_count": 59,
     "metadata": {},
     "output_type": "execute_result"
    }
   ],
   "source": [
    "from sklearn.model_selection import train_test_split\n",
    "\n",
    "\n",
    "\n",
    "\n",
    "# Perform a stratified split of the train\n",
    "X_train, X_val, y_train, y_val = train_test_split(X, \n",
    "                                                y, \n",
    "                                                test_size=0.2,  # 20% test, 80% train\n",
    "                                                random_state=42,  # Set seed for reproducibility\n",
    "                                                stratify=y)  # Perform stratified split based on y\n",
    "\n",
    "# Check the lengths of the train and test sets\n",
    "len(X_train), len(X_val), len(y_train), len(y_val)\n",
    "\n"
   ]
  },
  {
   "cell_type": "code",
   "execution_count": 63,
   "id": "8a01b734",
   "metadata": {},
   "outputs": [
    {
     "name": "stdout",
     "output_type": "stream",
     "text": [
      "Counts of 0s and 1s in y_train: [29544 47651], the ratio is 0.6200079746490105\n",
      "The weights of the dataset are: [2.61288248 1.62000797]\n"
     ]
    }
   ],
   "source": [
    "# Count occurrences of each unique value in y_train using np.bincount\n",
    "counts = np.bincount(y_train)\n",
    "weights=len(y_train)/counts\n",
    "\n",
    "# Display the counts\n",
    "print(f\"Counts of 0s and 1s in y_train: {counts}, the ratio is {counts[0]/counts[1]}\")\n",
    "print(f'The weights of the dataset are: {weights}')"
   ]
  },
  {
   "cell_type": "code",
   "execution_count": 64,
   "id": "b1fc264d",
   "metadata": {},
   "outputs": [
    {
     "name": "stdout",
     "output_type": "stream",
     "text": [
      "Counts of 0s and 1s in y_train: [ 7386 11913], the ratio is 0.6199949634852682\n"
     ]
    }
   ],
   "source": [
    "# Count occurrences of each unique value in y_test using np.bincount\n",
    "counts = np.bincount(y_val)\n",
    "\n",
    "# Display the counts\n",
    "print(f\"Counts of 0s and 1s in y_train: {counts}, the ratio is {counts[0]/counts[1]}\")\n"
   ]
  },
  {
   "cell_type": "code",
   "execution_count": 65,
   "id": "2d0de826",
   "metadata": {},
   "outputs": [
    {
     "data": {
      "text/plain": [
       "(19299,)"
      ]
     },
     "execution_count": 65,
     "metadata": {},
     "output_type": "execute_result"
    }
   ],
   "source": [
    "y_val.shape"
   ]
  },
  {
   "cell_type": "code",
   "execution_count": 77,
   "id": "a4d8afdf",
   "metadata": {},
   "outputs": [],
   "source": [
    "# Define a custom callback to calculate balanced accuracy and loss\n",
    "from tensorflow.keras.callbacks import Callback\n",
    "class BalancedAccuracyLossCallback(Callback):\n",
    "    def __init__(self, validation_data):\n",
    "        self.validation_data = validation_data\n",
    "        self.balanced_accuracies = []\n",
    "        self.losses = []\n",
    "\n",
    "    def on_epoch_end(self, epoch, weights=weights):\n",
    "        x_val, y_val = self.validation_data\n",
    "        y_pred = self.model.predict(x_val)\n",
    "        y_pred_binary = np.round(y_pred)\n",
    "        balanced_acc = balanced_accuracy_score(y_val, y_pred_binary)\n",
    "        print(np.squeeze(y_val).shape)\n",
    "        print(np.squeeze(y_pred).shape)\n",
    "        loss = log_loss(y_val, np.squeeze(y_pred), #sample_weight=weights\n",
    "                       )\n",
    "            \n",
    "        self.balanced_accuracies.append(balanced_acc)\n",
    "        self.losses.append(loss)\n",
    "\n",
    "        print(f'Epoch {epoch + 1}/{self.params[\"epochs\"]} - '\n",
    "              f'Balanced Accuracy: {balanced_acc:.4f} - Loss: {loss:.4f}')\n"
   ]
  },
  {
   "cell_type": "code",
   "execution_count": 78,
   "id": "92f0a8bc",
   "metadata": {},
   "outputs": [],
   "source": [
    "# Function to train the model with the custom callback and plot the results\n",
    "def train_and_plot(model, X_train, y_train, X_val, y_val, epochs=100, batch_size=32):\n",
    "    # Create an instance of the custom callback\n",
    "    balanced_accuracy_loss_callback = BalancedAccuracyLossCallback(validation_data=(X_val, y_val))\n",
    "\n",
    "    # Train the model with the custom callback\n",
    "    history = model.fit(X_train, y_train, epochs=epochs, batch_size=batch_size,\n",
    "                        validation_data=(X_val, y_val), callbacks=[balanced_accuracy_loss_callback])\n",
    "\n",
    "    # Plotting the results\n",
    "    epochs = range(1, epochs + 1)\n",
    "    plt.figure(figsize=(12, 6))\n",
    "    plt.subplot(1, 2, 1)\n",
    "    plt.plot(epochs, balanced_accuracy_loss_callback.balanced_accuracies, label='Balanced Accuracy')\n",
    "    plt.title('Balanced Accuracy over Epochs')\n",
    "    plt.xlabel('Epochs')\n",
    "    plt.ylabel('Balanced Accuracy')\n",
    "    plt.legend()\n",
    "\n",
    "    plt.subplot(1, 2, 2)\n",
    "    plt.plot(epochs, balanced_accuracy_loss_callback.losses, label='Loss', color='orange')\n",
    "    plt.title('Loss over Epochs')\n",
    "    plt.xlabel('Epochs')\n",
    "    plt.ylabel('Loss')\n",
    "    plt.legend()\n",
    "\n",
    "    plt.tight_layout()\n",
    "    plt.show()\n",
    "\n",
    "\n"
   ]
  },
  {
   "cell_type": "markdown",
   "id": "a6e89af0",
   "metadata": {},
   "source": [
    "# Construct a 1layer CNN model using Keras"
   ]
  },
  {
   "cell_type": "code",
   "execution_count": 85,
   "id": "f8d99dc5",
   "metadata": {},
   "outputs": [],
   "source": [
    "import tensorflow as tf\n",
    "from tensorflow.keras.models import Sequential\n",
    "from tensorflow.keras.layers import Dense, LSTM, Flatten, Conv1D, Dropout\n",
    "from tensorflow.keras.optimizers import Adam  \n",
    "from tensorflow.keras.models import Sequential\n",
    "from sklearn.metrics import log_loss"
   ]
  },
  {
   "cell_type": "code",
   "execution_count": 79,
   "id": "e7a1c814",
   "metadata": {},
   "outputs": [
    {
     "name": "stdout",
     "output_type": "stream",
     "text": [
      "Model: \"sequential_1\"\n",
      "_________________________________________________________________\n",
      " Layer (type)                Output Shape              Param #   \n",
      "=================================================================\n",
      " lstm_1 (LSTM)               (None, 1)                 24        \n",
      "                                                                 \n",
      " flatten_1 (Flatten)         (None, 1)                 0         \n",
      "                                                                 \n",
      " dense_1 (Dense)             (None, 1)                 2         \n",
      "                                                                 \n",
      "=================================================================\n",
      "Total params: 26 (104.00 Byte)\n",
      "Trainable params: 26 (104.00 Byte)\n",
      "Non-trainable params: 0 (0.00 Byte)\n",
      "_________________________________________________________________\n"
     ]
    }
   ],
   "source": [
    "# Define the model\n",
    "model = Sequential()\n",
    "\n",
    "# Add an LSTM layer with input shape (200, 4)\n",
    "model.add(LSTM(1, input_shape=(200, 4)))\n",
    "model.add(Flatten())\n",
    "model.add(Dense(1, activation='sigmoid'))\n",
    "optimizer = Adam(learning_rate=0.0001) \n",
    "model.compile(optimizer=optimizer, loss='binary_crossentropy', metrics=['accuracy'])\n",
    "model.summary()\n"
   ]
  },
  {
   "cell_type": "code",
   "execution_count": 75,
   "id": "b99a9a2c",
   "metadata": {},
   "outputs": [
    {
     "data": {
      "text/plain": [
       "((77195, 200, 4), (77195,), (19299, 200, 4), (19299,))"
      ]
     },
     "execution_count": 75,
     "metadata": {},
     "output_type": "execute_result"
    }
   ],
   "source": [
    " X_train.shape, y_train.shape, X_val.shape, y_val.shape"
   ]
  },
  {
   "cell_type": "code",
   "execution_count": 76,
   "id": "f7de8f75",
   "metadata": {},
   "outputs": [
    {
     "ename": "NameError",
     "evalue": "name 'BalancedAccuracyLossCallback' is not defined",
     "output_type": "error",
     "traceback": [
      "\u001b[0;31m---------------------------------------------------------------------------\u001b[0m",
      "\u001b[0;31mNameError\u001b[0m                                 Traceback (most recent call last)",
      "Cell \u001b[0;32mIn[76], line 1\u001b[0m\n\u001b[0;32m----> 1\u001b[0m train_and_plot(model, X_train, y_train, X_val, y_val, epochs\u001b[38;5;241m=\u001b[39m\u001b[38;5;241m100\u001b[39m, batch_size\u001b[38;5;241m=\u001b[39m\u001b[38;5;241m32\u001b[39m)\n",
      "Cell \u001b[0;32mIn[67], line 4\u001b[0m, in \u001b[0;36mtrain_and_plot\u001b[0;34m(model, X_train, y_train, X_val, y_val, epochs, batch_size)\u001b[0m\n\u001b[1;32m      2\u001b[0m \u001b[38;5;28;01mdef\u001b[39;00m \u001b[38;5;21mtrain_and_plot\u001b[39m(model, X_train, y_train, X_val, y_val, epochs\u001b[38;5;241m=\u001b[39m\u001b[38;5;241m100\u001b[39m, batch_size\u001b[38;5;241m=\u001b[39m\u001b[38;5;241m32\u001b[39m):\n\u001b[1;32m      3\u001b[0m     \u001b[38;5;66;03m# Create an instance of the custom callback\u001b[39;00m\n\u001b[0;32m----> 4\u001b[0m     balanced_accuracy_loss_callback \u001b[38;5;241m=\u001b[39m BalancedAccuracyLossCallback(validation_data\u001b[38;5;241m=\u001b[39m(X_val, y_val))\n\u001b[1;32m      6\u001b[0m     \u001b[38;5;66;03m# Train the model with the custom callback\u001b[39;00m\n\u001b[1;32m      7\u001b[0m     history \u001b[38;5;241m=\u001b[39m model\u001b[38;5;241m.\u001b[39mfit(X_train, y_train, epochs\u001b[38;5;241m=\u001b[39mepochs, batch_size\u001b[38;5;241m=\u001b[39mbatch_size,\n\u001b[1;32m      8\u001b[0m                         validation_data\u001b[38;5;241m=\u001b[39m(X_val, y_val), callbacks\u001b[38;5;241m=\u001b[39m[balanced_accuracy_loss_callback])\n",
      "\u001b[0;31mNameError\u001b[0m: name 'BalancedAccuracyLossCallback' is not defined"
     ]
    }
   ],
   "source": [
    "train_and_plot(model, X_train, y_train, X_val, y_val, epochs=100, batch_size=32)"
   ]
  },
  {
   "cell_type": "markdown",
   "id": "09af8f41",
   "metadata": {},
   "source": [
    "# Simple conv"
   ]
  },
  {
   "cell_type": "code",
   "execution_count": 80,
   "id": "ae175e4b",
   "metadata": {},
   "outputs": [
    {
     "name": "stdout",
     "output_type": "stream",
     "text": [
      "Model: \"sequential_2\"\n",
      "_________________________________________________________________\n",
      " Layer (type)                Output Shape              Param #   \n",
      "=================================================================\n",
      " conv1d (Conv1D)             (None, 186, 2)            122       \n",
      "                                                                 \n",
      " flatten_2 (Flatten)         (None, 372)               0         \n",
      "                                                                 \n",
      " dense_2 (Dense)             (None, 128)               47744     \n",
      "                                                                 \n",
      " dense_3 (Dense)             (None, 1)                 129       \n",
      "                                                                 \n",
      "=================================================================\n",
      "Total params: 47995 (187.48 KB)\n",
      "Trainable params: 47995 (187.48 KB)\n",
      "Non-trainable params: 0 (0.00 Byte)\n",
      "_________________________________________________________________\n"
     ]
    }
   ],
   "source": [
    "# Create a Sequential model\n",
    "model = Sequential()\n",
    "\n",
    "# Add a Conv1D layer with 2 filters and kernel size 15\n",
    "model.add(Conv1D(2, kernel_size=15, activation='relu', input_shape=(200, 4)))\n",
    "model.add(Flatten())\n",
    "model.add(Dense(128, activation='relu'))\n",
    "model.add(Dense(1, activation='sigmoid'))\n",
    "optimizer = Adam(learning_rate=0.0001)\n",
    "model.compile(optimizer=optimizer, loss='binary_crossentropy', metrics=['accuracy'])\n",
    "model.summary()\n"
   ]
  },
  {
   "cell_type": "code",
   "execution_count": null,
   "id": "40fb02ee",
   "metadata": {},
   "outputs": [],
   "source": [
    "train_and_plot(model, X_train, y_train, X_val, y_val, epochs=100, batch_size=32)"
   ]
  },
  {
   "cell_type": "markdown",
   "id": "0eb97831",
   "metadata": {},
   "source": [
    "# 2 Layer CNN"
   ]
  },
  {
   "cell_type": "code",
   "execution_count": 63,
   "id": "922279cb",
   "metadata": {},
   "outputs": [
    {
     "name": "stdout",
     "output_type": "stream",
     "text": [
      "Model: \"sequential_13\"\n",
      "_________________________________________________________________\n",
      " Layer (type)                Output Shape              Param #   \n",
      "=================================================================\n",
      " conv1d_5 (Conv1D)           (None, 186, 2)            122       \n",
      "                                                                 \n",
      " conv1d_6 (Conv1D)           (None, 182, 2)            22        \n",
      "                                                                 \n",
      " flatten_12 (Flatten)        (None, 364)               0         \n",
      "                                                                 \n",
      " dense_17 (Dense)            (None, 128)               46720     \n",
      "                                                                 \n",
      " dense_18 (Dense)            (None, 1)                 129       \n",
      "                                                                 \n",
      "=================================================================\n",
      "Total params: 46993 (183.57 KB)\n",
      "Trainable params: 46993 (183.57 KB)\n",
      "Non-trainable params: 0 (0.00 Byte)\n",
      "_________________________________________________________________\n"
     ]
    }
   ],
   "source": [
    "model = Sequential()\n",
    "\n",
    "# Add a Conv1D layer with 2 filters and kernel size 15\n",
    "model.add(Conv1D(2, kernel_size=15, activation='relu', input_shape=(200, 4)))\n",
    "model.add(Conv1D(2, kernel_size=5, activation='relu'))\n",
    "model.add(Conv1D(2, kernel_size=5, activation='relu'))\n",
    "model.add(Flatten())\n",
    "model.add(Dense(128, activation='relu'))\n",
    "model.add(Dense(1, activation='sigmoid'))\n",
    "optimizer = Adam(learning_rate=0.0001)\n",
    "model.compile(optimizer=optimizer, loss='binary_crossentropy', metrics=['accuracy'])\n",
    "\n",
    "model.summary()\n"
   ]
  },
  {
   "cell_type": "code",
   "execution_count": 64,
   "id": "ef158083",
   "metadata": {},
   "outputs": [
    {
     "name": "stdout",
     "output_type": "stream",
     "text": [
      "Epoch 1/100\n",
      "604/604 [==============================] - 2s 3ms/step\n",
      "Epoch 1/100 - Balanced Accuracy: 0.5792 - Loss: 0.6117\n",
      "2413/2413 [==============================] - 16s 6ms/step - loss: 0.6213 - accuracy: 0.6347 - val_loss: 0.6117 - val_accuracy: 0.6428\n",
      "Epoch 2/100\n",
      "604/604 [==============================] - 2s 3ms/step\n",
      "Epoch 2/100 - Balanced Accuracy: 0.5954 - Loss: 0.6100\n",
      "2413/2413 [==============================] - 15s 6ms/step - loss: 0.6121 - accuracy: 0.6450 - val_loss: 0.6100 - val_accuracy: 0.6439\n",
      "Epoch 3/100\n",
      "604/604 [==============================] - 2s 3ms/step\n",
      "Epoch 3/100 - Balanced Accuracy: 0.5881 - Loss: 0.6094\n",
      "2413/2413 [==============================] - 15s 6ms/step - loss: 0.6097 - accuracy: 0.6477 - val_loss: 0.6094 - val_accuracy: 0.6434\n",
      "Epoch 4/100\n",
      "604/604 [==============================] - 2s 3ms/step\n",
      "Epoch 4/100 - Balanced Accuracy: 0.5834 - Loss: 0.6095\n",
      "2413/2413 [==============================] - 15s 6ms/step - loss: 0.6078 - accuracy: 0.6507 - val_loss: 0.6095 - val_accuracy: 0.6426\n",
      "Epoch 5/100\n",
      "604/604 [==============================] - 2s 3ms/step\n",
      "Epoch 5/100 - Balanced Accuracy: 0.5983 - Loss: 0.6087\n",
      "2413/2413 [==============================] - 15s 6ms/step - loss: 0.6058 - accuracy: 0.6532 - val_loss: 0.6087 - val_accuracy: 0.6447\n",
      "Epoch 6/100\n",
      "604/604 [==============================] - 2s 3ms/step\n",
      "Epoch 6/100 - Balanced Accuracy: 0.5919 - Loss: 0.6082\n",
      "2413/2413 [==============================] - 15s 6ms/step - loss: 0.6034 - accuracy: 0.6567 - val_loss: 0.6082 - val_accuracy: 0.6452\n",
      "Epoch 7/100\n",
      "604/604 [==============================] - 2s 3ms/step\n",
      "Epoch 7/100 - Balanced Accuracy: 0.5951 - Loss: 0.6081\n",
      "2413/2413 [==============================] - 15s 6ms/step - loss: 0.6008 - accuracy: 0.6596 - val_loss: 0.6081 - val_accuracy: 0.6439\n",
      "Epoch 8/100\n",
      "604/604 [==============================] - 1s 2ms/step\n",
      "Epoch 8/100 - Balanced Accuracy: 0.5905 - Loss: 0.6088\n",
      "2413/2413 [==============================] - 15s 6ms/step - loss: 0.5975 - accuracy: 0.6639 - val_loss: 0.6088 - val_accuracy: 0.6463\n",
      "Epoch 9/100\n",
      "604/604 [==============================] - 2s 3ms/step\n",
      "Epoch 9/100 - Balanced Accuracy: 0.5886 - Loss: 0.6083\n",
      "2413/2413 [==============================] - 15s 6ms/step - loss: 0.5936 - accuracy: 0.6693 - val_loss: 0.6083 - val_accuracy: 0.6473\n",
      "Epoch 10/100\n",
      "604/604 [==============================] - 1s 2ms/step\n",
      "Epoch 10/100 - Balanced Accuracy: 0.5986 - Loss: 0.6081\n",
      "2413/2413 [==============================] - 15s 6ms/step - loss: 0.5891 - accuracy: 0.6748 - val_loss: 0.6081 - val_accuracy: 0.6475\n",
      "Epoch 11/100\n",
      "604/604 [==============================] - 2s 3ms/step\n",
      "Epoch 11/100 - Balanced Accuracy: 0.6198 - Loss: 0.6087\n",
      "2413/2413 [==============================] - 14s 6ms/step - loss: 0.5840 - accuracy: 0.6806 - val_loss: 0.6087 - val_accuracy: 0.6495\n",
      "Epoch 12/100\n",
      "604/604 [==============================] - 2s 3ms/step\n",
      "Epoch 12/100 - Balanced Accuracy: 0.6078 - Loss: 0.6081\n",
      "2413/2413 [==============================] - 15s 6ms/step - loss: 0.5781 - accuracy: 0.6882 - val_loss: 0.6081 - val_accuracy: 0.6517\n",
      "Epoch 13/100\n",
      "604/604 [==============================] - 2s 3ms/step\n",
      "Epoch 13/100 - Balanced Accuracy: 0.5907 - Loss: 0.6117\n",
      "2413/2413 [==============================] - 15s 6ms/step - loss: 0.5711 - accuracy: 0.6946 - val_loss: 0.6117 - val_accuracy: 0.6501\n",
      "Epoch 14/100\n",
      "604/604 [==============================] - 2s 3ms/step\n",
      "Epoch 14/100 - Balanced Accuracy: 0.6199 - Loss: 0.6100\n",
      "2413/2413 [==============================] - 15s 6ms/step - loss: 0.5639 - accuracy: 0.7038 - val_loss: 0.6100 - val_accuracy: 0.6518\n",
      "Epoch 15/100\n",
      "604/604 [==============================] - 2s 3ms/step\n",
      "Epoch 15/100 - Balanced Accuracy: 0.6092 - Loss: 0.6097\n",
      "2413/2413 [==============================] - 15s 6ms/step - loss: 0.5563 - accuracy: 0.7103 - val_loss: 0.6097 - val_accuracy: 0.6513\n",
      "Epoch 16/100\n",
      "604/604 [==============================] - 2s 3ms/step\n",
      "Epoch 16/100 - Balanced Accuracy: 0.6125 - Loss: 0.6117\n",
      "2413/2413 [==============================] - 15s 6ms/step - loss: 0.5479 - accuracy: 0.7195 - val_loss: 0.6117 - val_accuracy: 0.6542\n",
      "Epoch 17/100\n",
      "604/604 [==============================] - 2s 3ms/step\n",
      "Epoch 17/100 - Balanced Accuracy: 0.6217 - Loss: 0.6136\n",
      "2413/2413 [==============================] - 15s 6ms/step - loss: 0.5392 - accuracy: 0.7266 - val_loss: 0.6136 - val_accuracy: 0.6536\n",
      "Epoch 18/100\n",
      "604/604 [==============================] - 2s 3ms/step\n",
      "Epoch 18/100 - Balanced Accuracy: 0.6308 - Loss: 0.6232\n",
      "2413/2413 [==============================] - 15s 6ms/step - loss: 0.5301 - accuracy: 0.7351 - val_loss: 0.6232 - val_accuracy: 0.6460\n",
      "Epoch 19/100\n",
      "604/604 [==============================] - 2s 3ms/step\n",
      "Epoch 19/100 - Balanced Accuracy: 0.6141 - Loss: 0.6209\n",
      "2413/2413 [==============================] - 15s 6ms/step - loss: 0.5215 - accuracy: 0.7416 - val_loss: 0.6209 - val_accuracy: 0.6575\n",
      "Epoch 20/100\n",
      "604/604 [==============================] - 2s 3ms/step\n",
      "Epoch 20/100 - Balanced Accuracy: 0.6142 - Loss: 0.6250\n",
      "2413/2413 [==============================] - 15s 6ms/step - loss: 0.5123 - accuracy: 0.7486 - val_loss: 0.6250 - val_accuracy: 0.6603\n",
      "Epoch 21/100\n",
      "604/604 [==============================] - 2s 2ms/step\n",
      "Epoch 21/100 - Balanced Accuracy: 0.6299 - Loss: 0.6291\n",
      "2413/2413 [==============================] - 15s 6ms/step - loss: 0.5038 - accuracy: 0.7536 - val_loss: 0.6291 - val_accuracy: 0.6538\n",
      "Epoch 22/100\n",
      "604/604 [==============================] - 2s 3ms/step\n",
      "Epoch 22/100 - Balanced Accuracy: 0.6200 - Loss: 0.6291\n",
      "2413/2413 [==============================] - 15s 6ms/step - loss: 0.4951 - accuracy: 0.7610 - val_loss: 0.6291 - val_accuracy: 0.6590\n",
      "Epoch 23/100\n",
      "604/604 [==============================] - 2s 3ms/step\n",
      "Epoch 23/100 - Balanced Accuracy: 0.6312 - Loss: 0.6397\n",
      "2413/2413 [==============================] - 15s 6ms/step - loss: 0.4867 - accuracy: 0.7670 - val_loss: 0.6397 - val_accuracy: 0.6482\n",
      "Epoch 24/100\n",
      "604/604 [==============================] - 2s 3ms/step\n",
      "Epoch 24/100 - Balanced Accuracy: 0.6090 - Loss: 0.6514\n",
      "2413/2413 [==============================] - 15s 6ms/step - loss: 0.4777 - accuracy: 0.7733 - val_loss: 0.6514 - val_accuracy: 0.6636\n",
      "Epoch 25/100\n",
      "604/604 [==============================] - 2s 3ms/step\n",
      "Epoch 25/100 - Balanced Accuracy: 0.6329 - Loss: 0.6492\n",
      "2413/2413 [==============================] - 15s 6ms/step - loss: 0.4695 - accuracy: 0.7776 - val_loss: 0.6492 - val_accuracy: 0.6498\n",
      "Epoch 26/100\n",
      "604/604 [==============================] - 2s 3ms/step\n",
      "Epoch 26/100 - Balanced Accuracy: 0.6270 - Loss: 0.6491\n",
      "2413/2413 [==============================] - 15s 6ms/step - loss: 0.4614 - accuracy: 0.7821 - val_loss: 0.6491 - val_accuracy: 0.6580\n",
      "Epoch 27/100\n",
      "604/604 [==============================] - 2s 3ms/step\n",
      "Epoch 27/100 - Balanced Accuracy: 0.6365 - Loss: 0.6543\n",
      "2413/2413 [==============================] - 15s 6ms/step - loss: 0.4534 - accuracy: 0.7879 - val_loss: 0.6543 - val_accuracy: 0.6624\n",
      "Epoch 28/100\n",
      "604/604 [==============================] - 2s 2ms/step\n",
      "Epoch 28/100 - Balanced Accuracy: 0.6312 - Loss: 0.6606\n",
      "2413/2413 [==============================] - 15s 6ms/step - loss: 0.4458 - accuracy: 0.7930 - val_loss: 0.6606 - val_accuracy: 0.6589\n",
      "Epoch 29/100\n",
      "604/604 [==============================] - 1s 2ms/step\n",
      "Epoch 29/100 - Balanced Accuracy: 0.6305 - Loss: 0.6633\n",
      "2413/2413 [==============================] - 14s 6ms/step - loss: 0.4377 - accuracy: 0.7979 - val_loss: 0.6633 - val_accuracy: 0.6586\n",
      "Epoch 30/100\n",
      "604/604 [==============================] - 2s 2ms/step\n",
      "Epoch 30/100 - Balanced Accuracy: 0.6303 - Loss: 0.6732\n",
      "2413/2413 [==============================] - 14s 6ms/step - loss: 0.4313 - accuracy: 0.8024 - val_loss: 0.6732 - val_accuracy: 0.6571\n",
      "Epoch 31/100\n",
      "604/604 [==============================] - 1s 2ms/step\n",
      "Epoch 31/100 - Balanced Accuracy: 0.6268 - Loss: 0.6816\n",
      "2413/2413 [==============================] - 15s 6ms/step - loss: 0.4227 - accuracy: 0.8072 - val_loss: 0.6816 - val_accuracy: 0.6665\n",
      "Epoch 32/100\n",
      "604/604 [==============================] - 1s 2ms/step\n",
      "Epoch 32/100 - Balanced Accuracy: 0.6327 - Loss: 0.6807\n",
      "2413/2413 [==============================] - 14s 6ms/step - loss: 0.4158 - accuracy: 0.8111 - val_loss: 0.6807 - val_accuracy: 0.6628\n"
     ]
    },
    {
     "name": "stdout",
     "output_type": "stream",
     "text": [
      "Epoch 33/100\n",
      "604/604 [==============================] - 2s 2ms/step\n",
      "Epoch 33/100 - Balanced Accuracy: 0.6333 - Loss: 0.6889\n",
      "2413/2413 [==============================] - 15s 6ms/step - loss: 0.4089 - accuracy: 0.8157 - val_loss: 0.6889 - val_accuracy: 0.6591\n",
      "Epoch 34/100\n",
      "604/604 [==============================] - 2s 3ms/step\n",
      "Epoch 34/100 - Balanced Accuracy: 0.6375 - Loss: 0.6976\n",
      "2413/2413 [==============================] - 15s 6ms/step - loss: 0.4015 - accuracy: 0.8199 - val_loss: 0.6976 - val_accuracy: 0.6577\n",
      "Epoch 35/100\n",
      "604/604 [==============================] - 2s 3ms/step\n",
      "Epoch 35/100 - Balanced Accuracy: 0.6230 - Loss: 0.7146\n",
      "2413/2413 [==============================] - 15s 6ms/step - loss: 0.3952 - accuracy: 0.8227 - val_loss: 0.7146 - val_accuracy: 0.6708\n",
      "Epoch 36/100\n",
      "604/604 [==============================] - 2s 2ms/step\n",
      "Epoch 36/100 - Balanced Accuracy: 0.6307 - Loss: 0.7127\n",
      "2413/2413 [==============================] - 15s 6ms/step - loss: 0.3890 - accuracy: 0.8281 - val_loss: 0.7127 - val_accuracy: 0.6683\n",
      "Epoch 37/100\n",
      "604/604 [==============================] - 2s 3ms/step\n",
      "Epoch 37/100 - Balanced Accuracy: 0.6385 - Loss: 0.7148\n",
      "2413/2413 [==============================] - 15s 6ms/step - loss: 0.3816 - accuracy: 0.8318 - val_loss: 0.7148 - val_accuracy: 0.6595\n",
      "Epoch 38/100\n",
      "604/604 [==============================] - 2s 3ms/step\n",
      "Epoch 38/100 - Balanced Accuracy: 0.6378 - Loss: 0.7214\n",
      "2413/2413 [==============================] - 15s 6ms/step - loss: 0.3761 - accuracy: 0.8351 - val_loss: 0.7214 - val_accuracy: 0.6681\n",
      "Epoch 39/100\n",
      "604/604 [==============================] - 2s 3ms/step\n",
      "Epoch 39/100 - Balanced Accuracy: 0.6348 - Loss: 0.7349\n",
      "2413/2413 [==============================] - 15s 6ms/step - loss: 0.3690 - accuracy: 0.8394 - val_loss: 0.7349 - val_accuracy: 0.6753\n",
      "Epoch 40/100\n",
      "604/604 [==============================] - 2s 3ms/step\n",
      "Epoch 40/100 - Balanced Accuracy: 0.6420 - Loss: 0.7338\n",
      "2413/2413 [==============================] - 15s 6ms/step - loss: 0.3626 - accuracy: 0.8425 - val_loss: 0.7338 - val_accuracy: 0.6613\n",
      "Epoch 41/100\n",
      "604/604 [==============================] - 2s 3ms/step\n",
      "Epoch 41/100 - Balanced Accuracy: 0.6390 - Loss: 0.7398\n",
      "2413/2413 [==============================] - 15s 6ms/step - loss: 0.3564 - accuracy: 0.8464 - val_loss: 0.7398 - val_accuracy: 0.6610\n",
      "Epoch 42/100\n",
      "604/604 [==============================] - 2s 3ms/step\n",
      "Epoch 42/100 - Balanced Accuracy: 0.6390 - Loss: 0.7473\n",
      "2413/2413 [==============================] - 15s 6ms/step - loss: 0.3506 - accuracy: 0.8503 - val_loss: 0.7473 - val_accuracy: 0.6692\n",
      "Epoch 43/100\n",
      "604/604 [==============================] - 2s 3ms/step\n",
      "Epoch 43/100 - Balanced Accuracy: 0.6328 - Loss: 0.7643\n",
      "2413/2413 [==============================] - 15s 6ms/step - loss: 0.3440 - accuracy: 0.8537 - val_loss: 0.7643 - val_accuracy: 0.6753\n",
      "Epoch 44/100\n",
      "604/604 [==============================] - 2s 3ms/step\n",
      "Epoch 44/100 - Balanced Accuracy: 0.6372 - Loss: 0.7739\n",
      "2413/2413 [==============================] - 15s 6ms/step - loss: 0.3384 - accuracy: 0.8562 - val_loss: 0.7739 - val_accuracy: 0.6773\n",
      "Epoch 45/100\n",
      "604/604 [==============================] - 2s 3ms/step\n",
      "Epoch 45/100 - Balanced Accuracy: 0.6458 - Loss: 0.7696\n",
      "2413/2413 [==============================] - 15s 6ms/step - loss: 0.3328 - accuracy: 0.8594 - val_loss: 0.7696 - val_accuracy: 0.6748\n",
      "Epoch 46/100\n",
      "604/604 [==============================] - 2s 3ms/step\n",
      "Epoch 46/100 - Balanced Accuracy: 0.6401 - Loss: 0.7816\n",
      "2413/2413 [==============================] - 15s 6ms/step - loss: 0.3254 - accuracy: 0.8638 - val_loss: 0.7816 - val_accuracy: 0.6644\n",
      "Epoch 47/100\n",
      "604/604 [==============================] - 1s 2ms/step\n",
      "Epoch 47/100 - Balanced Accuracy: 0.6430 - Loss: 0.7825\n",
      "2413/2413 [==============================] - 15s 6ms/step - loss: 0.3205 - accuracy: 0.8667 - val_loss: 0.7825 - val_accuracy: 0.6750\n",
      "Epoch 48/100\n",
      "604/604 [==============================] - 2s 3ms/step\n",
      "Epoch 48/100 - Balanced Accuracy: 0.6454 - Loss: 0.7933\n",
      "2413/2413 [==============================] - 15s 6ms/step - loss: 0.3154 - accuracy: 0.8688 - val_loss: 0.7933 - val_accuracy: 0.6746\n",
      "Epoch 49/100\n",
      "604/604 [==============================] - 2s 3ms/step\n",
      "Epoch 49/100 - Balanced Accuracy: 0.6479 - Loss: 0.8041\n",
      "2413/2413 [==============================] - 15s 6ms/step - loss: 0.3090 - accuracy: 0.8728 - val_loss: 0.8041 - val_accuracy: 0.6789\n",
      "Epoch 50/100\n",
      "604/604 [==============================] - 2s 3ms/step\n",
      "Epoch 50/100 - Balanced Accuracy: 0.6481 - Loss: 0.8118\n",
      "2413/2413 [==============================] - 15s 6ms/step - loss: 0.3046 - accuracy: 0.8747 - val_loss: 0.8118 - val_accuracy: 0.6749\n",
      "Epoch 51/100\n",
      "604/604 [==============================] - 2s 3ms/step\n",
      "Epoch 51/100 - Balanced Accuracy: 0.6489 - Loss: 0.8224\n",
      "2413/2413 [==============================] - 15s 6ms/step - loss: 0.2995 - accuracy: 0.8765 - val_loss: 0.8224 - val_accuracy: 0.6830\n",
      "Epoch 52/100\n",
      "604/604 [==============================] - 2s 3ms/step\n",
      "Epoch 52/100 - Balanced Accuracy: 0.6502 - Loss: 0.8316\n",
      "2413/2413 [==============================] - 15s 6ms/step - loss: 0.2947 - accuracy: 0.8792 - val_loss: 0.8316 - val_accuracy: 0.6844\n",
      "Epoch 53/100\n",
      "604/604 [==============================] - 2s 3ms/step\n",
      "Epoch 53/100 - Balanced Accuracy: 0.6503 - Loss: 0.8502\n",
      "2413/2413 [==============================] - 15s 6ms/step - loss: 0.2888 - accuracy: 0.8824 - val_loss: 0.8502 - val_accuracy: 0.6881\n",
      "Epoch 54/100\n",
      "604/604 [==============================] - 2s 3ms/step\n",
      "Epoch 54/100 - Balanced Accuracy: 0.6529 - Loss: 0.8379\n",
      "2413/2413 [==============================] - 15s 6ms/step - loss: 0.2838 - accuracy: 0.8860 - val_loss: 0.8379 - val_accuracy: 0.6820\n",
      "Epoch 55/100\n",
      "604/604 [==============================] - 2s 3ms/step\n",
      "Epoch 55/100 - Balanced Accuracy: 0.6542 - Loss: 0.8592\n",
      "2413/2413 [==============================] - 15s 6ms/step - loss: 0.2775 - accuracy: 0.8885 - val_loss: 0.8592 - val_accuracy: 0.6664\n",
      "Epoch 56/100\n",
      "604/604 [==============================] - 2s 3ms/step\n",
      "Epoch 56/100 - Balanced Accuracy: 0.6526 - Loss: 0.8774\n",
      "2413/2413 [==============================] - 15s 6ms/step - loss: 0.2735 - accuracy: 0.8911 - val_loss: 0.8774 - val_accuracy: 0.6937\n",
      "Epoch 57/100\n",
      "604/604 [==============================] - 2s 3ms/step\n",
      "Epoch 57/100 - Balanced Accuracy: 0.6547 - Loss: 0.8692\n",
      "2413/2413 [==============================] - 15s 6ms/step - loss: 0.2688 - accuracy: 0.8932 - val_loss: 0.8692 - val_accuracy: 0.6844\n",
      "Epoch 58/100\n",
      "604/604 [==============================] - 2s 3ms/step\n",
      "Epoch 58/100 - Balanced Accuracy: 0.6586 - Loss: 0.8791\n",
      "2413/2413 [==============================] - 15s 6ms/step - loss: 0.2639 - accuracy: 0.8951 - val_loss: 0.8791 - val_accuracy: 0.6896\n",
      "Epoch 59/100\n",
      "604/604 [==============================] - 2s 3ms/step\n",
      "Epoch 59/100 - Balanced Accuracy: 0.6562 - Loss: 0.8930\n",
      "2413/2413 [==============================] - 15s 6ms/step - loss: 0.2586 - accuracy: 0.8978 - val_loss: 0.8930 - val_accuracy: 0.6914\n",
      "Epoch 60/100\n",
      "604/604 [==============================] - 2s 3ms/step\n",
      "Epoch 60/100 - Balanced Accuracy: 0.6542 - Loss: 0.9100\n",
      "2413/2413 [==============================] - 15s 6ms/step - loss: 0.2536 - accuracy: 0.9002 - val_loss: 0.9100 - val_accuracy: 0.6909\n",
      "Epoch 61/100\n",
      "604/604 [==============================] - 2s 3ms/step\n",
      "Epoch 61/100 - Balanced Accuracy: 0.6593 - Loss: 0.9092\n",
      "2413/2413 [==============================] - 15s 6ms/step - loss: 0.2503 - accuracy: 0.9012 - val_loss: 0.9092 - val_accuracy: 0.6919\n",
      "Epoch 62/100\n",
      "604/604 [==============================] - 2s 3ms/step\n",
      "Epoch 62/100 - Balanced Accuracy: 0.6637 - Loss: 0.9142\n",
      "2413/2413 [==============================] - 15s 6ms/step - loss: 0.2447 - accuracy: 0.9048 - val_loss: 0.9142 - val_accuracy: 0.6914\n",
      "Epoch 63/100\n",
      "604/604 [==============================] - 2s 3ms/step\n",
      "Epoch 63/100 - Balanced Accuracy: 0.6628 - Loss: 0.9251\n",
      "2413/2413 [==============================] - 15s 6ms/step - loss: 0.2399 - accuracy: 0.9078 - val_loss: 0.9251 - val_accuracy: 0.6948\n",
      "Epoch 64/100\n",
      "604/604 [==============================] - 2s 3ms/step\n",
      "Epoch 64/100 - Balanced Accuracy: 0.6590 - Loss: 0.9801\n",
      "2413/2413 [==============================] - 16s 6ms/step - loss: 0.2349 - accuracy: 0.9098 - val_loss: 0.9801 - val_accuracy: 0.7042\n"
     ]
    },
    {
     "name": "stdout",
     "output_type": "stream",
     "text": [
      "Epoch 65/100\n",
      "604/604 [==============================] - 2s 3ms/step\n",
      "Epoch 65/100 - Balanced Accuracy: 0.6659 - Loss: 0.9486\n",
      "2413/2413 [==============================] - 15s 6ms/step - loss: 0.2300 - accuracy: 0.9122 - val_loss: 0.9486 - val_accuracy: 0.6965\n",
      "Epoch 66/100\n",
      "604/604 [==============================] - 2s 3ms/step\n",
      "Epoch 66/100 - Balanced Accuracy: 0.6648 - Loss: 0.9615\n",
      "2413/2413 [==============================] - 15s 6ms/step - loss: 0.2258 - accuracy: 0.9142 - val_loss: 0.9615 - val_accuracy: 0.6997\n",
      "Epoch 67/100\n",
      "604/604 [==============================] - 2s 2ms/step\n",
      "Epoch 67/100 - Balanced Accuracy: 0.6653 - Loss: 0.9761\n",
      "2413/2413 [==============================] - 15s 6ms/step - loss: 0.2218 - accuracy: 0.9161 - val_loss: 0.9761 - val_accuracy: 0.7010\n",
      "Epoch 68/100\n",
      "604/604 [==============================] - 2s 3ms/step\n",
      "Epoch 68/100 - Balanced Accuracy: 0.6647 - Loss: 0.9784\n",
      "2413/2413 [==============================] - 15s 6ms/step - loss: 0.2170 - accuracy: 0.9178 - val_loss: 0.9784 - val_accuracy: 0.6921\n",
      "Epoch 69/100\n",
      "604/604 [==============================] - 2s 3ms/step\n",
      "Epoch 69/100 - Balanced Accuracy: 0.6677 - Loss: 0.9885\n",
      "2413/2413 [==============================] - 15s 6ms/step - loss: 0.2135 - accuracy: 0.9198 - val_loss: 0.9885 - val_accuracy: 0.6972\n",
      "Epoch 70/100\n",
      "604/604 [==============================] - 2s 3ms/step\n",
      "Epoch 70/100 - Balanced Accuracy: 0.6676 - Loss: 1.0233\n",
      "2413/2413 [==============================] - 15s 6ms/step - loss: 0.2079 - accuracy: 0.9212 - val_loss: 1.0233 - val_accuracy: 0.7053\n",
      "Epoch 71/100\n",
      "604/604 [==============================] - 2s 3ms/step\n",
      "Epoch 71/100 - Balanced Accuracy: 0.6715 - Loss: 1.0262\n",
      "2413/2413 [==============================] - 15s 6ms/step - loss: 0.2044 - accuracy: 0.9232 - val_loss: 1.0262 - val_accuracy: 0.7075\n",
      "Epoch 72/100\n",
      "604/604 [==============================] - 2s 3ms/step\n",
      "Epoch 72/100 - Balanced Accuracy: 0.6685 - Loss: 1.0242\n",
      "2413/2413 [==============================] - 15s 6ms/step - loss: 0.1999 - accuracy: 0.9257 - val_loss: 1.0242 - val_accuracy: 0.6967\n",
      "Epoch 73/100\n",
      "604/604 [==============================] - 2s 3ms/step\n",
      "Epoch 73/100 - Balanced Accuracy: 0.6716 - Loss: 1.0628\n",
      "2413/2413 [==============================] - 15s 6ms/step - loss: 0.1961 - accuracy: 0.9269 - val_loss: 1.0628 - val_accuracy: 0.7123\n",
      "Epoch 74/100\n",
      "604/604 [==============================] - 2s 3ms/step\n",
      "Epoch 74/100 - Balanced Accuracy: 0.6678 - Loss: 1.0457\n",
      "2413/2413 [==============================] - 15s 6ms/step - loss: 0.1918 - accuracy: 0.9289 - val_loss: 1.0457 - val_accuracy: 0.6880\n",
      "Epoch 75/100\n",
      "604/604 [==============================] - 2s 3ms/step\n",
      "Epoch 75/100 - Balanced Accuracy: 0.6584 - Loss: 1.1658\n",
      "2413/2413 [==============================] - 15s 6ms/step - loss: 0.1874 - accuracy: 0.9307 - val_loss: 1.1658 - val_accuracy: 0.7105\n",
      "Epoch 76/100\n",
      "604/604 [==============================] - 2s 3ms/step\n",
      "Epoch 76/100 - Balanced Accuracy: 0.6745 - Loss: 1.0827\n",
      "2413/2413 [==============================] - 15s 6ms/step - loss: 0.1843 - accuracy: 0.9324 - val_loss: 1.0827 - val_accuracy: 0.7100\n",
      "Epoch 77/100\n",
      "604/604 [==============================] - 2s 3ms/step\n",
      "Epoch 77/100 - Balanced Accuracy: 0.6733 - Loss: 1.1184\n",
      "2413/2413 [==============================] - 15s 6ms/step - loss: 0.1800 - accuracy: 0.9342 - val_loss: 1.1184 - val_accuracy: 0.7143\n",
      "Epoch 78/100\n",
      "604/604 [==============================] - 2s 3ms/step\n",
      "Epoch 78/100 - Balanced Accuracy: 0.6786 - Loss: 1.1169\n",
      "2413/2413 [==============================] - 15s 6ms/step - loss: 0.1754 - accuracy: 0.9362 - val_loss: 1.1169 - val_accuracy: 0.7153\n",
      "Epoch 79/100\n",
      "604/604 [==============================] - 2s 3ms/step\n",
      "Epoch 79/100 - Balanced Accuracy: 0.6761 - Loss: 1.1379\n",
      "2413/2413 [==============================] - 16s 6ms/step - loss: 0.1718 - accuracy: 0.9375 - val_loss: 1.1379 - val_accuracy: 0.7125\n",
      "Epoch 80/100\n",
      "604/604 [==============================] - 2s 3ms/step\n",
      "Epoch 80/100 - Balanced Accuracy: 0.6745 - Loss: 1.1393\n",
      "2413/2413 [==============================] - 16s 6ms/step - loss: 0.1676 - accuracy: 0.9399 - val_loss: 1.1393 - val_accuracy: 0.7056\n",
      "Epoch 81/100\n",
      "604/604 [==============================] - 2s 3ms/step\n",
      "Epoch 81/100 - Balanced Accuracy: 0.6790 - Loss: 1.1655\n",
      "2413/2413 [==============================] - 15s 6ms/step - loss: 0.1639 - accuracy: 0.9411 - val_loss: 1.1655 - val_accuracy: 0.7169\n",
      "Epoch 82/100\n",
      "604/604 [==============================] - 2s 3ms/step\n",
      "Epoch 82/100 - Balanced Accuracy: 0.6797 - Loss: 1.1609\n",
      "2413/2413 [==============================] - 15s 6ms/step - loss: 0.1610 - accuracy: 0.9431 - val_loss: 1.1609 - val_accuracy: 0.7152\n",
      "Epoch 83/100\n",
      "604/604 [==============================] - 2s 3ms/step\n",
      "Epoch 83/100 - Balanced Accuracy: 0.6776 - Loss: 1.1752\n",
      "2413/2413 [==============================] - 15s 6ms/step - loss: 0.1573 - accuracy: 0.9445 - val_loss: 1.1752 - val_accuracy: 0.7055\n",
      "Epoch 84/100\n",
      "604/604 [==============================] - 2s 3ms/step\n",
      "Epoch 84/100 - Balanced Accuracy: 0.6815 - Loss: 1.2081\n",
      "2413/2413 [==============================] - 15s 6ms/step - loss: 0.1545 - accuracy: 0.9455 - val_loss: 1.2081 - val_accuracy: 0.7186\n",
      "Epoch 85/100\n",
      "604/604 [==============================] - 2s 3ms/step\n",
      "Epoch 85/100 - Balanced Accuracy: 0.6812 - Loss: 1.2228\n",
      "2413/2413 [==============================] - 16s 6ms/step - loss: 0.1509 - accuracy: 0.9475 - val_loss: 1.2228 - val_accuracy: 0.7192\n",
      "Epoch 86/100\n",
      "604/604 [==============================] - 2s 3ms/step\n",
      "Epoch 86/100 - Balanced Accuracy: 0.6817 - Loss: 1.2216\n",
      "2413/2413 [==============================] - 16s 6ms/step - loss: 0.1466 - accuracy: 0.9497 - val_loss: 1.2216 - val_accuracy: 0.7121\n",
      "Epoch 87/100\n",
      "604/604 [==============================] - 2s 3ms/step\n",
      "Epoch 87/100 - Balanced Accuracy: 0.6819 - Loss: 1.2731\n",
      "2413/2413 [==============================] - 15s 6ms/step - loss: 0.1431 - accuracy: 0.9509 - val_loss: 1.2731 - val_accuracy: 0.7227\n",
      "Epoch 88/100\n",
      "604/604 [==============================] - 2s 3ms/step\n",
      "Epoch 88/100 - Balanced Accuracy: 0.6843 - Loss: 1.2656\n",
      "2413/2413 [==============================] - 15s 6ms/step - loss: 0.1402 - accuracy: 0.9521 - val_loss: 1.2656 - val_accuracy: 0.7211\n",
      "Epoch 89/100\n",
      "604/604 [==============================] - 2s 3ms/step\n",
      "Epoch 89/100 - Balanced Accuracy: 0.6832 - Loss: 1.2717\n",
      "2413/2413 [==============================] - 15s 6ms/step - loss: 0.1357 - accuracy: 0.9540 - val_loss: 1.2717 - val_accuracy: 0.7183\n",
      "Epoch 90/100\n",
      "604/604 [==============================] - 2s 3ms/step\n",
      "Epoch 90/100 - Balanced Accuracy: 0.6791 - Loss: 1.3454\n",
      "2413/2413 [==============================] - 15s 6ms/step - loss: 0.1325 - accuracy: 0.9556 - val_loss: 1.3454 - val_accuracy: 0.7239\n",
      "Epoch 91/100\n",
      "604/604 [==============================] - 2s 3ms/step\n",
      "Epoch 91/100 - Balanced Accuracy: 0.6875 - Loss: 1.3217\n",
      "2413/2413 [==============================] - 15s 6ms/step - loss: 0.1302 - accuracy: 0.9562 - val_loss: 1.3217 - val_accuracy: 0.7236\n",
      "Epoch 92/100\n",
      "604/604 [==============================] - 2s 3ms/step\n",
      "Epoch 92/100 - Balanced Accuracy: 0.6841 - Loss: 1.3716\n",
      "2413/2413 [==============================] - 15s 6ms/step - loss: 0.1272 - accuracy: 0.9575 - val_loss: 1.3716 - val_accuracy: 0.7251\n",
      "Epoch 93/100\n",
      "604/604 [==============================] - 2s 3ms/step\n",
      "Epoch 93/100 - Balanced Accuracy: 0.6847 - Loss: 1.3865\n",
      "2413/2413 [==============================] - 15s 6ms/step - loss: 0.1232 - accuracy: 0.9586 - val_loss: 1.3865 - val_accuracy: 0.7264\n",
      "Epoch 94/100\n",
      "604/604 [==============================] - 2s 3ms/step\n",
      "Epoch 94/100 - Balanced Accuracy: 0.6897 - Loss: 1.3556\n",
      "2413/2413 [==============================] - 15s 6ms/step - loss: 0.1203 - accuracy: 0.9604 - val_loss: 1.3556 - val_accuracy: 0.7189\n",
      "Epoch 95/100\n",
      "604/604 [==============================] - 2s 3ms/step\n",
      "Epoch 95/100 - Balanced Accuracy: 0.6888 - Loss: 1.4072\n",
      "2413/2413 [==============================] - 15s 6ms/step - loss: 0.1175 - accuracy: 0.9618 - val_loss: 1.4072 - val_accuracy: 0.7274\n",
      "Epoch 96/100\n",
      "604/604 [==============================] - 2s 3ms/step\n",
      "Epoch 96/100 - Balanced Accuracy: 0.6910 - Loss: 1.4086\n",
      "2413/2413 [==============================] - 15s 6ms/step - loss: 0.1144 - accuracy: 0.9620 - val_loss: 1.4086 - val_accuracy: 0.7284\n"
     ]
    },
    {
     "name": "stdout",
     "output_type": "stream",
     "text": [
      "Epoch 97/100\n",
      "604/604 [==============================] - 2s 3ms/step\n",
      "Epoch 97/100 - Balanced Accuracy: 0.6836 - Loss: 1.3890\n",
      "2413/2413 [==============================] - 15s 6ms/step - loss: 0.1124 - accuracy: 0.9631 - val_loss: 1.3890 - val_accuracy: 0.7043\n",
      "Epoch 98/100\n",
      "604/604 [==============================] - 2s 3ms/step\n",
      "Epoch 98/100 - Balanced Accuracy: 0.6802 - Loss: 1.5191\n",
      "2413/2413 [==============================] - 15s 6ms/step - loss: 0.1089 - accuracy: 0.9640 - val_loss: 1.5191 - val_accuracy: 0.7258\n",
      "Epoch 99/100\n",
      "604/604 [==============================] - 2s 3ms/step\n",
      "Epoch 99/100 - Balanced Accuracy: 0.6909 - Loss: 1.4597\n",
      "2413/2413 [==============================] - 15s 6ms/step - loss: 0.1067 - accuracy: 0.9662 - val_loss: 1.4597 - val_accuracy: 0.7263\n",
      "Epoch 100/100\n",
      "604/604 [==============================] - 2s 3ms/step\n",
      "Epoch 100/100 - Balanced Accuracy: 0.6916 - Loss: 1.4598\n",
      "2413/2413 [==============================] - 15s 6ms/step - loss: 0.1039 - accuracy: 0.9672 - val_loss: 1.4598 - val_accuracy: 0.7233\n"
     ]
    },
    {
     "data": {
      "image/png": "[encoded data removed]",
      "text/plain": [
       "<Figure size 1200x600 with 2 Axes>"
      ]
     },
     "metadata": {},
     "output_type": "display_data"
    }
   ],
   "source": [
    "train_and_plot(model, X_train, y_train, X_val, y_val, epochs=100, batch_size=32)"
   ]
  },
  {
   "cell_type": "code",
   "execution_count": null,
   "id": "fc691872",
   "metadata": {},
   "outputs": [],
   "source": [
    "train_and_plot(model, X_train, y_train, X_val, y_val, epochs=10, batch_size=32)\n"
   ]
  },
  {
   "cell_type": "markdown",
   "id": "ba35c548",
   "metadata": {},
   "source": [
    "# Optimise 3 layer CNN with optuna"
   ]
  },
  {
   "cell_type": "code",
   "execution_count": 82,
   "id": "95a43604",
   "metadata": {},
   "outputs": [
    {
     "name": "stdout",
     "output_type": "stream",
     "text": [
      "Collecting optuna\n",
      "  Obtaining dependency information for optuna from https://files.pythonhosted.org/packages/4c/6a/219a431aaf81b3eb3070fd2d58116baa366d3072f43bbcc87dc3495b7546/optuna-3.5.0-py3-none-any.whl.metadata\n",
      "  Downloading optuna-3.5.0-py3-none-any.whl.metadata (17 kB)\n",
      "Collecting alembic>=1.5.0 (from optuna)\n",
      "  Obtaining dependency information for alembic>=1.5.0 from https://files.pythonhosted.org/packages/7f/50/9fb3a5c80df6eb6516693270621676980acd6d5a9a7efdbfa273f8d616c7/alembic-1.13.1-py3-none-any.whl.metadata\n",
      "  Downloading alembic-1.13.1-py3-none-any.whl.metadata (7.4 kB)\n",
      "Collecting colorlog (from optuna)\n",
      "  Obtaining dependency information for colorlog from https://files.pythonhosted.org/packages/95/df/520663eb7f7a329f7c585834b754bcc3cbcc03957d85fcbba4a2a723ad9d/colorlog-6.8.0-py3-none-any.whl.metadata\n",
      "  Downloading colorlog-6.8.0-py3-none-any.whl.metadata (10 kB)\n",
      "Requirement already satisfied: numpy in /mnt/raid1/thalassini/home/anaconda3/lib/python3.11/site-packages (from optuna) (1.24.3)\n",
      "Requirement already satisfied: packaging>=20.0 in /mnt/raid1/thalassini/home/anaconda3/lib/python3.11/site-packages (from optuna) (23.1)\n",
      "Requirement already satisfied: sqlalchemy>=1.3.0 in /mnt/raid1/thalassini/home/anaconda3/lib/python3.11/site-packages (from optuna) (1.4.39)\n",
      "Requirement already satisfied: tqdm in /mnt/raid1/thalassini/home/anaconda3/lib/python3.11/site-packages (from optuna) (4.65.0)\n",
      "Requirement already satisfied: PyYAML in /mnt/raid1/thalassini/home/anaconda3/lib/python3.11/site-packages (from optuna) (6.0)\n",
      "Collecting Mako (from alembic>=1.5.0->optuna)\n",
      "  Obtaining dependency information for Mako from https://files.pythonhosted.org/packages/24/3b/11fe92d68c6a42468ddab0cf03f454419b0788fff4e91ba46b8bebafeffd/Mako-1.3.0-py3-none-any.whl.metadata\n",
      "  Downloading Mako-1.3.0-py3-none-any.whl.metadata (2.9 kB)\n",
      "Requirement already satisfied: typing-extensions>=4 in /mnt/raid1/thalassini/home/anaconda3/lib/python3.11/site-packages (from alembic>=1.5.0->optuna) (4.7.1)\n",
      "Requirement already satisfied: greenlet!=0.4.17 in /mnt/raid1/thalassini/home/anaconda3/lib/python3.11/site-packages (from sqlalchemy>=1.3.0->optuna) (2.0.1)\n",
      "Requirement already satisfied: MarkupSafe>=0.9.2 in /mnt/raid1/thalassini/home/anaconda3/lib/python3.11/site-packages (from Mako->alembic>=1.5.0->optuna) (2.1.1)\n",
      "Downloading optuna-3.5.0-py3-none-any.whl (413 kB)\n",
      "\u001b[2K   \u001b[38;2;114;156;31m━━━━━━━━━━━━━━━━━━━━━━━━━━━━━━━━━━━━━━━━\u001b[0m \u001b[32m413.4/413.4 kB\u001b[0m \u001b[31m4.8 MB/s\u001b[0m eta \u001b[36m0:00:00\u001b[0m[31m4.3 MB/s\u001b[0m eta \u001b[36m0:00:01\u001b[0m\n",
      "\u001b[?25hDownloading alembic-1.13.1-py3-none-any.whl (233 kB)\n",
      "\u001b[2K   \u001b[38;2;114;156;31m━━━━━━━━━━━━━━━━━━━━━━━━━━━━━━━━━━━━━━━━\u001b[0m \u001b[32m233.4/233.4 kB\u001b[0m \u001b[31m40.5 MB/s\u001b[0m eta \u001b[36m0:00:00\u001b[0m\n",
      "\u001b[?25hDownloading colorlog-6.8.0-py3-none-any.whl (11 kB)\n",
      "Downloading Mako-1.3.0-py3-none-any.whl (78 kB)\n",
      "\u001b[2K   \u001b[38;2;114;156;31m━━━━━━━━━━━━━━━━━━━━━━━━━━━━━━━━━━━━━━━━\u001b[0m \u001b[32m78.6/78.6 kB\u001b[0m \u001b[31m25.9 MB/s\u001b[0m eta \u001b[36m0:00:00\u001b[0m\n",
      "\u001b[?25hInstalling collected packages: Mako, colorlog, alembic, optuna\n",
      "Successfully installed Mako-1.3.0 alembic-1.13.1 colorlog-6.8.0 optuna-3.5.0\n",
      "Note: you may need to restart the kernel to use updated packages.\n"
     ]
    }
   ],
   "source": [
    "pip install optuna"
   ]
  },
  {
   "cell_type": "code",
   "execution_count": 86,
   "id": "f23a8f36",
   "metadata": {},
   "outputs": [],
   "source": [
    "import optuna\n",
    "from sklearn.metrics import matthews_corrcoef\n",
    "\n",
    "\n",
    "\n",
    "\n",
    "def objective(trial):\n",
    "    # Define hyperparameters to be optimized\n",
    "    lstm_units = trial.suggest_int('lstm_units', 32, 256, log=True)\n",
    "    conv1_filters = trial.suggest_int('conv1_filters', 8, 64, log=True)\n",
    "    conv1_kernel_size = trial.suggest_int('conv1_kernel_size', 3, 15)\n",
    "    conv2_filters = trial.suggest_int('conv2_filters', 8, 64, log=True)\n",
    "    conv2_kernel_size = trial.suggest_int('conv2_kernel_size', 3, 15)\n",
    "    conv3_filters = trial.suggest_int('conv3_filters', 8, 64, log=True)\n",
    "    conv3_kernel_size = trial.suggest_int('conv3_kernel_size', 3, 15)\n",
    "    dense_units = trial.suggest_int('dense_units', 32, 256, log=True)\n",
    "    dropout_rate = trial.suggest_float('dropout_rate', 0.0, 0.5)\n",
    "    learning_rate = trial.suggest_float('learning_rate', 1e-5, 1e-1, log=True)\n",
    "\n",
    "    # Build the model\n",
    "    model = Sequential()\n",
    "    model.add(Conv1D(filters=conv1_filters, kernel_size=conv1_kernel_size, activation='relu', input_shape=(200, 4)))\n",
    "    model.add(Conv1D(filters=conv2_filters, kernel_size=conv2_kernel_size, activation='relu'))\n",
    "    model.add(Conv1D(filters=conv3_filters, kernel_size=conv3_kernel_size, activation='relu'))\n",
    "    model.add(Flatten())\n",
    "    model.add(Dense(units=dense_units, activation='relu'))\n",
    "    model.add(Dropout(dropout_rate))\n",
    "    model.add(Dense(1, activation='sigmoid'))\n",
    "\n",
    "    # Compile the model\n",
    "    optimizer = Adam(learning_rate=learning_rate)\n",
    "    model.compile(optimizer=optimizer, loss='binary_crossentropy', metrics=['accuracy'])\n",
    "\n",
    "    # Train the model\n",
    "    model.fit(X_train, y_train, epochs=10, batch_size=32, validation_data=(X_val, y_val), verbose=0)\n",
    "\n",
    "    # Evaluate the model on validation data using MCC\n",
    "    y_pred = model.predict(X_val)\n",
    "    mcc = matthews_corrcoef(y_val, (y_pred > 0.5).astype(int))\n",
    "\n",
    "    return mcc\n",
    "\n",
    "\n"
   ]
  },
  {
   "cell_type": "code",
   "execution_count": 87,
   "id": "cd28327b",
   "metadata": {},
   "outputs": [
    {
     "name": "stderr",
     "output_type": "stream",
     "text": [
      "[I 2024-01-13 10:35:48,669] A new study created in memory with name: no-name-35354ba2-0b1f-47d7-82be-0e429c65f42f\n",
      "[W 2024-01-13 10:38:40,490] Trial 0 failed with parameters: {'lstm_units': 150, 'conv1_filters': 9, 'conv1_kernel_size': 5, 'conv2_filters': 18, 'conv2_kernel_size': 7, 'conv3_filters': 39, 'conv3_kernel_size': 12, 'dense_units': 63, 'dropout_rate': 0.13128650951952986, 'learning_rate': 0.0452551805555059} because of the following error: KeyboardInterrupt().\n",
      "Traceback (most recent call last):\n",
      "  File \"/mnt/raid1/thalassini/home/anaconda3/lib/python3.11/site-packages/optuna/study/_optimize.py\", line 200, in _run_trial\n",
      "    value_or_values = func(trial)\n",
      "                      ^^^^^^^^^^^\n",
      "  File \"/tmp/ipykernel_1928099/2050369522.py\", line 35, in objective\n",
      "    model.fit(X_train, y_train, epochs=10, batch_size=32, validation_data=(X_val, y_val), verbose=0)\n",
      "  File \"/mnt/raid1/thalassini/home/anaconda3/lib/python3.11/site-packages/keras/src/utils/traceback_utils.py\", line 65, in error_handler\n",
      "    return fn(*args, **kwargs)\n",
      "           ^^^^^^^^^^^^^^^^^^^\n",
      "  File \"/mnt/raid1/thalassini/home/anaconda3/lib/python3.11/site-packages/keras/src/engine/training.py\", line 1807, in fit\n",
      "    tmp_logs = self.train_function(iterator)\n",
      "               ^^^^^^^^^^^^^^^^^^^^^^^^^^^^^\n",
      "  File \"/mnt/raid1/thalassini/home/anaconda3/lib/python3.11/site-packages/tensorflow/python/util/traceback_utils.py\", line 150, in error_handler\n",
      "    return fn(*args, **kwargs)\n",
      "           ^^^^^^^^^^^^^^^^^^^\n",
      "  File \"/mnt/raid1/thalassini/home/anaconda3/lib/python3.11/site-packages/tensorflow/python/eager/polymorphic_function/polymorphic_function.py\", line 832, in __call__\n",
      "    result = self._call(*args, **kwds)\n",
      "             ^^^^^^^^^^^^^^^^^^^^^^^^^\n",
      "  File \"/mnt/raid1/thalassini/home/anaconda3/lib/python3.11/site-packages/tensorflow/python/eager/polymorphic_function/polymorphic_function.py\", line 868, in _call\n",
      "    return tracing_compilation.call_function(\n",
      "           ^^^^^^^^^^^^^^^^^^^^^^^^^^^^^^^^^^\n",
      "  File \"/mnt/raid1/thalassini/home/anaconda3/lib/python3.11/site-packages/tensorflow/python/eager/polymorphic_function/tracing_compilation.py\", line 139, in call_function\n",
      "    return function._call_flat(  # pylint: disable=protected-access\n",
      "           ^^^^^^^^^^^^^^^^^^^^^^^^^^^^^^^^^^^^^^^^^^^^^^^^^^^^^^^^\n",
      "  File \"/mnt/raid1/thalassini/home/anaconda3/lib/python3.11/site-packages/tensorflow/python/eager/polymorphic_function/concrete_function.py\", line 1323, in _call_flat\n",
      "    return self._inference_function.call_preflattened(args)\n",
      "           ^^^^^^^^^^^^^^^^^^^^^^^^^^^^^^^^^^^^^^^^^^^^^^^^\n",
      "  File \"/mnt/raid1/thalassini/home/anaconda3/lib/python3.11/site-packages/tensorflow/python/eager/polymorphic_function/atomic_function.py\", line 216, in call_preflattened\n",
      "    flat_outputs = self.call_flat(*args)\n",
      "                   ^^^^^^^^^^^^^^^^^^^^^\n",
      "  File \"/mnt/raid1/thalassini/home/anaconda3/lib/python3.11/site-packages/tensorflow/python/eager/polymorphic_function/atomic_function.py\", line 251, in call_flat\n",
      "    outputs = self._bound_context.call_function(\n",
      "              ^^^^^^^^^^^^^^^^^^^^^^^^^^^^^^^^^^\n",
      "  File \"/mnt/raid1/thalassini/home/anaconda3/lib/python3.11/site-packages/tensorflow/python/eager/context.py\", line 1486, in call_function\n",
      "    outputs = execute.execute(\n",
      "              ^^^^^^^^^^^^^^^^\n",
      "  File \"/mnt/raid1/thalassini/home/anaconda3/lib/python3.11/site-packages/tensorflow/python/eager/execute.py\", line 53, in quick_execute\n",
      "    tensors = pywrap_tfe.TFE_Py_Execute(ctx._handle, device_name, op_name,\n",
      "              ^^^^^^^^^^^^^^^^^^^^^^^^^^^^^^^^^^^^^^^^^^^^^^^^^^^^^^^^^^^^\n",
      "KeyboardInterrupt\n",
      "[W 2024-01-13 10:38:40,496] Trial 0 failed with value None.\n"
     ]
    },
    {
     "ename": "KeyboardInterrupt",
     "evalue": "",
     "output_type": "error",
     "traceback": [
      "\u001b[0;31m---------------------------------------------------------------------------\u001b[0m",
      "\u001b[0;31mKeyboardInterrupt\u001b[0m                         Traceback (most recent call last)",
      "Cell \u001b[0;32mIn[87], line 3\u001b[0m\n\u001b[1;32m      1\u001b[0m \u001b[38;5;66;03m# Create Optuna study and optimize the objective function\u001b[39;00m\n\u001b[1;32m      2\u001b[0m study \u001b[38;5;241m=\u001b[39m optuna\u001b[38;5;241m.\u001b[39mcreate_study(direction\u001b[38;5;241m=\u001b[39m\u001b[38;5;124m'\u001b[39m\u001b[38;5;124mmaximize\u001b[39m\u001b[38;5;124m'\u001b[39m)\n\u001b[0;32m----> 3\u001b[0m study\u001b[38;5;241m.\u001b[39moptimize(objective, n_trials\u001b[38;5;241m=\u001b[39m\u001b[38;5;241m50\u001b[39m)\n\u001b[1;32m      5\u001b[0m \u001b[38;5;66;03m# Get the best hyperparameters\u001b[39;00m\n\u001b[1;32m      6\u001b[0m best_params \u001b[38;5;241m=\u001b[39m study\u001b[38;5;241m.\u001b[39mbest_params\n",
      "File \u001b[0;32m~/anaconda3/lib/python3.11/site-packages/optuna/study/study.py:451\u001b[0m, in \u001b[0;36mStudy.optimize\u001b[0;34m(self, func, n_trials, timeout, n_jobs, catch, callbacks, gc_after_trial, show_progress_bar)\u001b[0m\n\u001b[1;32m    348\u001b[0m \u001b[38;5;28;01mdef\u001b[39;00m \u001b[38;5;21moptimize\u001b[39m(\n\u001b[1;32m    349\u001b[0m     \u001b[38;5;28mself\u001b[39m,\n\u001b[1;32m    350\u001b[0m     func: ObjectiveFuncType,\n\u001b[0;32m   (...)\u001b[0m\n\u001b[1;32m    357\u001b[0m     show_progress_bar: \u001b[38;5;28mbool\u001b[39m \u001b[38;5;241m=\u001b[39m \u001b[38;5;28;01mFalse\u001b[39;00m,\n\u001b[1;32m    358\u001b[0m ) \u001b[38;5;241m-\u001b[39m\u001b[38;5;241m>\u001b[39m \u001b[38;5;28;01mNone\u001b[39;00m:\n\u001b[1;32m    359\u001b[0m \u001b[38;5;250m    \u001b[39m\u001b[38;5;124;03m\"\"\"Optimize an objective function.\u001b[39;00m\n\u001b[1;32m    360\u001b[0m \n\u001b[1;32m    361\u001b[0m \u001b[38;5;124;03m    Optimization is done by choosing a suitable set of hyperparameter values from a given\u001b[39;00m\n\u001b[0;32m   (...)\u001b[0m\n\u001b[1;32m    449\u001b[0m \u001b[38;5;124;03m            If nested invocation of this method occurs.\u001b[39;00m\n\u001b[1;32m    450\u001b[0m \u001b[38;5;124;03m    \"\"\"\u001b[39;00m\n\u001b[0;32m--> 451\u001b[0m     _optimize(\n\u001b[1;32m    452\u001b[0m         study\u001b[38;5;241m=\u001b[39m\u001b[38;5;28mself\u001b[39m,\n\u001b[1;32m    453\u001b[0m         func\u001b[38;5;241m=\u001b[39mfunc,\n\u001b[1;32m    454\u001b[0m         n_trials\u001b[38;5;241m=\u001b[39mn_trials,\n\u001b[1;32m    455\u001b[0m         timeout\u001b[38;5;241m=\u001b[39mtimeout,\n\u001b[1;32m    456\u001b[0m         n_jobs\u001b[38;5;241m=\u001b[39mn_jobs,\n\u001b[1;32m    457\u001b[0m         catch\u001b[38;5;241m=\u001b[39m\u001b[38;5;28mtuple\u001b[39m(catch) \u001b[38;5;28;01mif\u001b[39;00m \u001b[38;5;28misinstance\u001b[39m(catch, Iterable) \u001b[38;5;28;01melse\u001b[39;00m (catch,),\n\u001b[1;32m    458\u001b[0m         callbacks\u001b[38;5;241m=\u001b[39mcallbacks,\n\u001b[1;32m    459\u001b[0m         gc_after_trial\u001b[38;5;241m=\u001b[39mgc_after_trial,\n\u001b[1;32m    460\u001b[0m         show_progress_bar\u001b[38;5;241m=\u001b[39mshow_progress_bar,\n\u001b[1;32m    461\u001b[0m     )\n",
      "File \u001b[0;32m~/anaconda3/lib/python3.11/site-packages/optuna/study/_optimize.py:66\u001b[0m, in \u001b[0;36m_optimize\u001b[0;34m(study, func, n_trials, timeout, n_jobs, catch, callbacks, gc_after_trial, show_progress_bar)\u001b[0m\n\u001b[1;32m     64\u001b[0m \u001b[38;5;28;01mtry\u001b[39;00m:\n\u001b[1;32m     65\u001b[0m     \u001b[38;5;28;01mif\u001b[39;00m n_jobs \u001b[38;5;241m==\u001b[39m \u001b[38;5;241m1\u001b[39m:\n\u001b[0;32m---> 66\u001b[0m         _optimize_sequential(\n\u001b[1;32m     67\u001b[0m             study,\n\u001b[1;32m     68\u001b[0m             func,\n\u001b[1;32m     69\u001b[0m             n_trials,\n\u001b[1;32m     70\u001b[0m             timeout,\n\u001b[1;32m     71\u001b[0m             catch,\n\u001b[1;32m     72\u001b[0m             callbacks,\n\u001b[1;32m     73\u001b[0m             gc_after_trial,\n\u001b[1;32m     74\u001b[0m             reseed_sampler_rng\u001b[38;5;241m=\u001b[39m\u001b[38;5;28;01mFalse\u001b[39;00m,\n\u001b[1;32m     75\u001b[0m             time_start\u001b[38;5;241m=\u001b[39m\u001b[38;5;28;01mNone\u001b[39;00m,\n\u001b[1;32m     76\u001b[0m             progress_bar\u001b[38;5;241m=\u001b[39mprogress_bar,\n\u001b[1;32m     77\u001b[0m         )\n\u001b[1;32m     78\u001b[0m     \u001b[38;5;28;01melse\u001b[39;00m:\n\u001b[1;32m     79\u001b[0m         \u001b[38;5;28;01mif\u001b[39;00m n_jobs \u001b[38;5;241m==\u001b[39m \u001b[38;5;241m-\u001b[39m\u001b[38;5;241m1\u001b[39m:\n",
      "File \u001b[0;32m~/anaconda3/lib/python3.11/site-packages/optuna/study/_optimize.py:163\u001b[0m, in \u001b[0;36m_optimize_sequential\u001b[0;34m(study, func, n_trials, timeout, catch, callbacks, gc_after_trial, reseed_sampler_rng, time_start, progress_bar)\u001b[0m\n\u001b[1;32m    160\u001b[0m         \u001b[38;5;28;01mbreak\u001b[39;00m\n\u001b[1;32m    162\u001b[0m \u001b[38;5;28;01mtry\u001b[39;00m:\n\u001b[0;32m--> 163\u001b[0m     frozen_trial \u001b[38;5;241m=\u001b[39m _run_trial(study, func, catch)\n\u001b[1;32m    164\u001b[0m \u001b[38;5;28;01mfinally\u001b[39;00m:\n\u001b[1;32m    165\u001b[0m     \u001b[38;5;66;03m# The following line mitigates memory problems that can be occurred in some\u001b[39;00m\n\u001b[1;32m    166\u001b[0m     \u001b[38;5;66;03m# environments (e.g., services that use computing containers such as GitHub Actions).\u001b[39;00m\n\u001b[1;32m    167\u001b[0m     \u001b[38;5;66;03m# Please refer to the following PR for further details:\u001b[39;00m\n\u001b[1;32m    168\u001b[0m     \u001b[38;5;66;03m# https://github.com/optuna/optuna/pull/325.\u001b[39;00m\n\u001b[1;32m    169\u001b[0m     \u001b[38;5;28;01mif\u001b[39;00m gc_after_trial:\n",
      "File \u001b[0;32m~/anaconda3/lib/python3.11/site-packages/optuna/study/_optimize.py:251\u001b[0m, in \u001b[0;36m_run_trial\u001b[0;34m(study, func, catch)\u001b[0m\n\u001b[1;32m    244\u001b[0m         \u001b[38;5;28;01massert\u001b[39;00m \u001b[38;5;28;01mFalse\u001b[39;00m, \u001b[38;5;124m\"\u001b[39m\u001b[38;5;124mShould not reach.\u001b[39m\u001b[38;5;124m\"\u001b[39m\n\u001b[1;32m    246\u001b[0m \u001b[38;5;28;01mif\u001b[39;00m (\n\u001b[1;32m    247\u001b[0m     frozen_trial\u001b[38;5;241m.\u001b[39mstate \u001b[38;5;241m==\u001b[39m TrialState\u001b[38;5;241m.\u001b[39mFAIL\n\u001b[1;32m    248\u001b[0m     \u001b[38;5;129;01mand\u001b[39;00m func_err \u001b[38;5;129;01mis\u001b[39;00m \u001b[38;5;129;01mnot\u001b[39;00m \u001b[38;5;28;01mNone\u001b[39;00m\n\u001b[1;32m    249\u001b[0m     \u001b[38;5;129;01mand\u001b[39;00m \u001b[38;5;129;01mnot\u001b[39;00m \u001b[38;5;28misinstance\u001b[39m(func_err, catch)\n\u001b[1;32m    250\u001b[0m ):\n\u001b[0;32m--> 251\u001b[0m     \u001b[38;5;28;01mraise\u001b[39;00m func_err\n\u001b[1;32m    252\u001b[0m \u001b[38;5;28;01mreturn\u001b[39;00m frozen_trial\n",
      "File \u001b[0;32m~/anaconda3/lib/python3.11/site-packages/optuna/study/_optimize.py:200\u001b[0m, in \u001b[0;36m_run_trial\u001b[0;34m(study, func, catch)\u001b[0m\n\u001b[1;32m    198\u001b[0m \u001b[38;5;28;01mwith\u001b[39;00m get_heartbeat_thread(trial\u001b[38;5;241m.\u001b[39m_trial_id, study\u001b[38;5;241m.\u001b[39m_storage):\n\u001b[1;32m    199\u001b[0m     \u001b[38;5;28;01mtry\u001b[39;00m:\n\u001b[0;32m--> 200\u001b[0m         value_or_values \u001b[38;5;241m=\u001b[39m func(trial)\n\u001b[1;32m    201\u001b[0m     \u001b[38;5;28;01mexcept\u001b[39;00m exceptions\u001b[38;5;241m.\u001b[39mTrialPruned \u001b[38;5;28;01mas\u001b[39;00m e:\n\u001b[1;32m    202\u001b[0m         \u001b[38;5;66;03m# TODO(mamu): Handle multi-objective cases.\u001b[39;00m\n\u001b[1;32m    203\u001b[0m         state \u001b[38;5;241m=\u001b[39m TrialState\u001b[38;5;241m.\u001b[39mPRUNED\n",
      "Cell \u001b[0;32mIn[86], line 35\u001b[0m, in \u001b[0;36mobjective\u001b[0;34m(trial)\u001b[0m\n\u001b[1;32m     32\u001b[0m model\u001b[38;5;241m.\u001b[39mcompile(optimizer\u001b[38;5;241m=\u001b[39moptimizer, loss\u001b[38;5;241m=\u001b[39m\u001b[38;5;124m'\u001b[39m\u001b[38;5;124mbinary_crossentropy\u001b[39m\u001b[38;5;124m'\u001b[39m, metrics\u001b[38;5;241m=\u001b[39m[\u001b[38;5;124m'\u001b[39m\u001b[38;5;124maccuracy\u001b[39m\u001b[38;5;124m'\u001b[39m])\n\u001b[1;32m     34\u001b[0m \u001b[38;5;66;03m# Train the model\u001b[39;00m\n\u001b[0;32m---> 35\u001b[0m model\u001b[38;5;241m.\u001b[39mfit(X_train, y_train, epochs\u001b[38;5;241m=\u001b[39m\u001b[38;5;241m10\u001b[39m, batch_size\u001b[38;5;241m=\u001b[39m\u001b[38;5;241m32\u001b[39m, validation_data\u001b[38;5;241m=\u001b[39m(X_val, y_val), verbose\u001b[38;5;241m=\u001b[39m\u001b[38;5;241m0\u001b[39m)\n\u001b[1;32m     37\u001b[0m \u001b[38;5;66;03m# Evaluate the model on validation data using MCC\u001b[39;00m\n\u001b[1;32m     38\u001b[0m y_pred \u001b[38;5;241m=\u001b[39m model\u001b[38;5;241m.\u001b[39mpredict(X_val)\n",
      "File \u001b[0;32m~/anaconda3/lib/python3.11/site-packages/keras/src/utils/traceback_utils.py:65\u001b[0m, in \u001b[0;36mfilter_traceback.<locals>.error_handler\u001b[0;34m(*args, **kwargs)\u001b[0m\n\u001b[1;32m     63\u001b[0m filtered_tb \u001b[38;5;241m=\u001b[39m \u001b[38;5;28;01mNone\u001b[39;00m\n\u001b[1;32m     64\u001b[0m \u001b[38;5;28;01mtry\u001b[39;00m:\n\u001b[0;32m---> 65\u001b[0m     \u001b[38;5;28;01mreturn\u001b[39;00m fn(\u001b[38;5;241m*\u001b[39margs, \u001b[38;5;241m*\u001b[39m\u001b[38;5;241m*\u001b[39mkwargs)\n\u001b[1;32m     66\u001b[0m \u001b[38;5;28;01mexcept\u001b[39;00m \u001b[38;5;167;01mException\u001b[39;00m \u001b[38;5;28;01mas\u001b[39;00m e:\n\u001b[1;32m     67\u001b[0m     filtered_tb \u001b[38;5;241m=\u001b[39m _process_traceback_frames(e\u001b[38;5;241m.\u001b[39m__traceback__)\n",
      "File \u001b[0;32m~/anaconda3/lib/python3.11/site-packages/keras/src/engine/training.py:1807\u001b[0m, in \u001b[0;36mModel.fit\u001b[0;34m(self, x, y, batch_size, epochs, verbose, callbacks, validation_split, validation_data, shuffle, class_weight, sample_weight, initial_epoch, steps_per_epoch, validation_steps, validation_batch_size, validation_freq, max_queue_size, workers, use_multiprocessing)\u001b[0m\n\u001b[1;32m   1799\u001b[0m \u001b[38;5;28;01mwith\u001b[39;00m tf\u001b[38;5;241m.\u001b[39mprofiler\u001b[38;5;241m.\u001b[39mexperimental\u001b[38;5;241m.\u001b[39mTrace(\n\u001b[1;32m   1800\u001b[0m     \u001b[38;5;124m\"\u001b[39m\u001b[38;5;124mtrain\u001b[39m\u001b[38;5;124m\"\u001b[39m,\n\u001b[1;32m   1801\u001b[0m     epoch_num\u001b[38;5;241m=\u001b[39mepoch,\n\u001b[0;32m   (...)\u001b[0m\n\u001b[1;32m   1804\u001b[0m     _r\u001b[38;5;241m=\u001b[39m\u001b[38;5;241m1\u001b[39m,\n\u001b[1;32m   1805\u001b[0m ):\n\u001b[1;32m   1806\u001b[0m     callbacks\u001b[38;5;241m.\u001b[39mon_train_batch_begin(step)\n\u001b[0;32m-> 1807\u001b[0m     tmp_logs \u001b[38;5;241m=\u001b[39m \u001b[38;5;28mself\u001b[39m\u001b[38;5;241m.\u001b[39mtrain_function(iterator)\n\u001b[1;32m   1808\u001b[0m     \u001b[38;5;28;01mif\u001b[39;00m data_handler\u001b[38;5;241m.\u001b[39mshould_sync:\n\u001b[1;32m   1809\u001b[0m         context\u001b[38;5;241m.\u001b[39masync_wait()\n",
      "File \u001b[0;32m~/anaconda3/lib/python3.11/site-packages/tensorflow/python/util/traceback_utils.py:150\u001b[0m, in \u001b[0;36mfilter_traceback.<locals>.error_handler\u001b[0;34m(*args, **kwargs)\u001b[0m\n\u001b[1;32m    148\u001b[0m filtered_tb \u001b[38;5;241m=\u001b[39m \u001b[38;5;28;01mNone\u001b[39;00m\n\u001b[1;32m    149\u001b[0m \u001b[38;5;28;01mtry\u001b[39;00m:\n\u001b[0;32m--> 150\u001b[0m   \u001b[38;5;28;01mreturn\u001b[39;00m fn(\u001b[38;5;241m*\u001b[39margs, \u001b[38;5;241m*\u001b[39m\u001b[38;5;241m*\u001b[39mkwargs)\n\u001b[1;32m    151\u001b[0m \u001b[38;5;28;01mexcept\u001b[39;00m \u001b[38;5;167;01mException\u001b[39;00m \u001b[38;5;28;01mas\u001b[39;00m e:\n\u001b[1;32m    152\u001b[0m   filtered_tb \u001b[38;5;241m=\u001b[39m _process_traceback_frames(e\u001b[38;5;241m.\u001b[39m__traceback__)\n",
      "File \u001b[0;32m~/anaconda3/lib/python3.11/site-packages/tensorflow/python/eager/polymorphic_function/polymorphic_function.py:832\u001b[0m, in \u001b[0;36mFunction.__call__\u001b[0;34m(self, *args, **kwds)\u001b[0m\n\u001b[1;32m    829\u001b[0m compiler \u001b[38;5;241m=\u001b[39m \u001b[38;5;124m\"\u001b[39m\u001b[38;5;124mxla\u001b[39m\u001b[38;5;124m\"\u001b[39m \u001b[38;5;28;01mif\u001b[39;00m \u001b[38;5;28mself\u001b[39m\u001b[38;5;241m.\u001b[39m_jit_compile \u001b[38;5;28;01melse\u001b[39;00m \u001b[38;5;124m\"\u001b[39m\u001b[38;5;124mnonXla\u001b[39m\u001b[38;5;124m\"\u001b[39m\n\u001b[1;32m    831\u001b[0m \u001b[38;5;28;01mwith\u001b[39;00m OptionalXlaContext(\u001b[38;5;28mself\u001b[39m\u001b[38;5;241m.\u001b[39m_jit_compile):\n\u001b[0;32m--> 832\u001b[0m   result \u001b[38;5;241m=\u001b[39m \u001b[38;5;28mself\u001b[39m\u001b[38;5;241m.\u001b[39m_call(\u001b[38;5;241m*\u001b[39margs, \u001b[38;5;241m*\u001b[39m\u001b[38;5;241m*\u001b[39mkwds)\n\u001b[1;32m    834\u001b[0m new_tracing_count \u001b[38;5;241m=\u001b[39m \u001b[38;5;28mself\u001b[39m\u001b[38;5;241m.\u001b[39mexperimental_get_tracing_count()\n\u001b[1;32m    835\u001b[0m without_tracing \u001b[38;5;241m=\u001b[39m (tracing_count \u001b[38;5;241m==\u001b[39m new_tracing_count)\n",
      "File \u001b[0;32m~/anaconda3/lib/python3.11/site-packages/tensorflow/python/eager/polymorphic_function/polymorphic_function.py:868\u001b[0m, in \u001b[0;36mFunction._call\u001b[0;34m(self, *args, **kwds)\u001b[0m\n\u001b[1;32m    865\u001b[0m   \u001b[38;5;28mself\u001b[39m\u001b[38;5;241m.\u001b[39m_lock\u001b[38;5;241m.\u001b[39mrelease()\n\u001b[1;32m    866\u001b[0m   \u001b[38;5;66;03m# In this case we have created variables on the first call, so we run the\u001b[39;00m\n\u001b[1;32m    867\u001b[0m   \u001b[38;5;66;03m# defunned version which is guaranteed to never create variables.\u001b[39;00m\n\u001b[0;32m--> 868\u001b[0m   \u001b[38;5;28;01mreturn\u001b[39;00m tracing_compilation\u001b[38;5;241m.\u001b[39mcall_function(\n\u001b[1;32m    869\u001b[0m       args, kwds, \u001b[38;5;28mself\u001b[39m\u001b[38;5;241m.\u001b[39m_no_variable_creation_config\n\u001b[1;32m    870\u001b[0m   )\n\u001b[1;32m    871\u001b[0m \u001b[38;5;28;01melif\u001b[39;00m \u001b[38;5;28mself\u001b[39m\u001b[38;5;241m.\u001b[39m_variable_creation_config \u001b[38;5;129;01mis\u001b[39;00m \u001b[38;5;129;01mnot\u001b[39;00m \u001b[38;5;28;01mNone\u001b[39;00m:\n\u001b[1;32m    872\u001b[0m   \u001b[38;5;66;03m# Release the lock early so that multiple threads can perform the call\u001b[39;00m\n\u001b[1;32m    873\u001b[0m   \u001b[38;5;66;03m# in parallel.\u001b[39;00m\n\u001b[1;32m    874\u001b[0m   \u001b[38;5;28mself\u001b[39m\u001b[38;5;241m.\u001b[39m_lock\u001b[38;5;241m.\u001b[39mrelease()\n",
      "File \u001b[0;32m~/anaconda3/lib/python3.11/site-packages/tensorflow/python/eager/polymorphic_function/tracing_compilation.py:139\u001b[0m, in \u001b[0;36mcall_function\u001b[0;34m(args, kwargs, tracing_options)\u001b[0m\n\u001b[1;32m    137\u001b[0m bound_args \u001b[38;5;241m=\u001b[39m function\u001b[38;5;241m.\u001b[39mfunction_type\u001b[38;5;241m.\u001b[39mbind(\u001b[38;5;241m*\u001b[39margs, \u001b[38;5;241m*\u001b[39m\u001b[38;5;241m*\u001b[39mkwargs)\n\u001b[1;32m    138\u001b[0m flat_inputs \u001b[38;5;241m=\u001b[39m function\u001b[38;5;241m.\u001b[39mfunction_type\u001b[38;5;241m.\u001b[39munpack_inputs(bound_args)\n\u001b[0;32m--> 139\u001b[0m \u001b[38;5;28;01mreturn\u001b[39;00m function\u001b[38;5;241m.\u001b[39m_call_flat(  \u001b[38;5;66;03m# pylint: disable=protected-access\u001b[39;00m\n\u001b[1;32m    140\u001b[0m     flat_inputs, captured_inputs\u001b[38;5;241m=\u001b[39mfunction\u001b[38;5;241m.\u001b[39mcaptured_inputs\n\u001b[1;32m    141\u001b[0m )\n",
      "File \u001b[0;32m~/anaconda3/lib/python3.11/site-packages/tensorflow/python/eager/polymorphic_function/concrete_function.py:1323\u001b[0m, in \u001b[0;36mConcreteFunction._call_flat\u001b[0;34m(self, tensor_inputs, captured_inputs)\u001b[0m\n\u001b[1;32m   1319\u001b[0m possible_gradient_type \u001b[38;5;241m=\u001b[39m gradients_util\u001b[38;5;241m.\u001b[39mPossibleTapeGradientTypes(args)\n\u001b[1;32m   1320\u001b[0m \u001b[38;5;28;01mif\u001b[39;00m (possible_gradient_type \u001b[38;5;241m==\u001b[39m gradients_util\u001b[38;5;241m.\u001b[39mPOSSIBLE_GRADIENT_TYPES_NONE\n\u001b[1;32m   1321\u001b[0m     \u001b[38;5;129;01mand\u001b[39;00m executing_eagerly):\n\u001b[1;32m   1322\u001b[0m   \u001b[38;5;66;03m# No tape is watching; skip to running the function.\u001b[39;00m\n\u001b[0;32m-> 1323\u001b[0m   \u001b[38;5;28;01mreturn\u001b[39;00m \u001b[38;5;28mself\u001b[39m\u001b[38;5;241m.\u001b[39m_inference_function\u001b[38;5;241m.\u001b[39mcall_preflattened(args)\n\u001b[1;32m   1324\u001b[0m forward_backward \u001b[38;5;241m=\u001b[39m \u001b[38;5;28mself\u001b[39m\u001b[38;5;241m.\u001b[39m_select_forward_and_backward_functions(\n\u001b[1;32m   1325\u001b[0m     args,\n\u001b[1;32m   1326\u001b[0m     possible_gradient_type,\n\u001b[1;32m   1327\u001b[0m     executing_eagerly)\n\u001b[1;32m   1328\u001b[0m forward_function, args_with_tangents \u001b[38;5;241m=\u001b[39m forward_backward\u001b[38;5;241m.\u001b[39mforward()\n",
      "File \u001b[0;32m~/anaconda3/lib/python3.11/site-packages/tensorflow/python/eager/polymorphic_function/atomic_function.py:216\u001b[0m, in \u001b[0;36mAtomicFunction.call_preflattened\u001b[0;34m(self, args)\u001b[0m\n\u001b[1;32m    214\u001b[0m \u001b[38;5;28;01mdef\u001b[39;00m \u001b[38;5;21mcall_preflattened\u001b[39m(\u001b[38;5;28mself\u001b[39m, args: Sequence[core\u001b[38;5;241m.\u001b[39mTensor]) \u001b[38;5;241m-\u001b[39m\u001b[38;5;241m>\u001b[39m Any:\n\u001b[1;32m    215\u001b[0m \u001b[38;5;250m  \u001b[39m\u001b[38;5;124;03m\"\"\"Calls with flattened tensor inputs and returns the structured output.\"\"\"\u001b[39;00m\n\u001b[0;32m--> 216\u001b[0m   flat_outputs \u001b[38;5;241m=\u001b[39m \u001b[38;5;28mself\u001b[39m\u001b[38;5;241m.\u001b[39mcall_flat(\u001b[38;5;241m*\u001b[39margs)\n\u001b[1;32m    217\u001b[0m   \u001b[38;5;28;01mreturn\u001b[39;00m \u001b[38;5;28mself\u001b[39m\u001b[38;5;241m.\u001b[39mfunction_type\u001b[38;5;241m.\u001b[39mpack_output(flat_outputs)\n",
      "File \u001b[0;32m~/anaconda3/lib/python3.11/site-packages/tensorflow/python/eager/polymorphic_function/atomic_function.py:251\u001b[0m, in \u001b[0;36mAtomicFunction.call_flat\u001b[0;34m(self, *args)\u001b[0m\n\u001b[1;32m    249\u001b[0m \u001b[38;5;28;01mwith\u001b[39;00m record\u001b[38;5;241m.\u001b[39mstop_recording():\n\u001b[1;32m    250\u001b[0m   \u001b[38;5;28;01mif\u001b[39;00m \u001b[38;5;28mself\u001b[39m\u001b[38;5;241m.\u001b[39m_bound_context\u001b[38;5;241m.\u001b[39mexecuting_eagerly():\n\u001b[0;32m--> 251\u001b[0m     outputs \u001b[38;5;241m=\u001b[39m \u001b[38;5;28mself\u001b[39m\u001b[38;5;241m.\u001b[39m_bound_context\u001b[38;5;241m.\u001b[39mcall_function(\n\u001b[1;32m    252\u001b[0m         \u001b[38;5;28mself\u001b[39m\u001b[38;5;241m.\u001b[39mname,\n\u001b[1;32m    253\u001b[0m         \u001b[38;5;28mlist\u001b[39m(args),\n\u001b[1;32m    254\u001b[0m         \u001b[38;5;28mlen\u001b[39m(\u001b[38;5;28mself\u001b[39m\u001b[38;5;241m.\u001b[39mfunction_type\u001b[38;5;241m.\u001b[39mflat_outputs),\n\u001b[1;32m    255\u001b[0m     )\n\u001b[1;32m    256\u001b[0m   \u001b[38;5;28;01melse\u001b[39;00m:\n\u001b[1;32m    257\u001b[0m     outputs \u001b[38;5;241m=\u001b[39m make_call_op_in_graph(\n\u001b[1;32m    258\u001b[0m         \u001b[38;5;28mself\u001b[39m,\n\u001b[1;32m    259\u001b[0m         \u001b[38;5;28mlist\u001b[39m(args),\n\u001b[1;32m    260\u001b[0m         \u001b[38;5;28mself\u001b[39m\u001b[38;5;241m.\u001b[39m_bound_context\u001b[38;5;241m.\u001b[39mfunction_call_options\u001b[38;5;241m.\u001b[39mas_attrs(),\n\u001b[1;32m    261\u001b[0m     )\n",
      "File \u001b[0;32m~/anaconda3/lib/python3.11/site-packages/tensorflow/python/eager/context.py:1486\u001b[0m, in \u001b[0;36mContext.call_function\u001b[0;34m(self, name, tensor_inputs, num_outputs)\u001b[0m\n\u001b[1;32m   1484\u001b[0m cancellation_context \u001b[38;5;241m=\u001b[39m cancellation\u001b[38;5;241m.\u001b[39mcontext()\n\u001b[1;32m   1485\u001b[0m \u001b[38;5;28;01mif\u001b[39;00m cancellation_context \u001b[38;5;129;01mis\u001b[39;00m \u001b[38;5;28;01mNone\u001b[39;00m:\n\u001b[0;32m-> 1486\u001b[0m   outputs \u001b[38;5;241m=\u001b[39m execute\u001b[38;5;241m.\u001b[39mexecute(\n\u001b[1;32m   1487\u001b[0m       name\u001b[38;5;241m.\u001b[39mdecode(\u001b[38;5;124m\"\u001b[39m\u001b[38;5;124mutf-8\u001b[39m\u001b[38;5;124m\"\u001b[39m),\n\u001b[1;32m   1488\u001b[0m       num_outputs\u001b[38;5;241m=\u001b[39mnum_outputs,\n\u001b[1;32m   1489\u001b[0m       inputs\u001b[38;5;241m=\u001b[39mtensor_inputs,\n\u001b[1;32m   1490\u001b[0m       attrs\u001b[38;5;241m=\u001b[39mattrs,\n\u001b[1;32m   1491\u001b[0m       ctx\u001b[38;5;241m=\u001b[39m\u001b[38;5;28mself\u001b[39m,\n\u001b[1;32m   1492\u001b[0m   )\n\u001b[1;32m   1493\u001b[0m \u001b[38;5;28;01melse\u001b[39;00m:\n\u001b[1;32m   1494\u001b[0m   outputs \u001b[38;5;241m=\u001b[39m execute\u001b[38;5;241m.\u001b[39mexecute_with_cancellation(\n\u001b[1;32m   1495\u001b[0m       name\u001b[38;5;241m.\u001b[39mdecode(\u001b[38;5;124m\"\u001b[39m\u001b[38;5;124mutf-8\u001b[39m\u001b[38;5;124m\"\u001b[39m),\n\u001b[1;32m   1496\u001b[0m       num_outputs\u001b[38;5;241m=\u001b[39mnum_outputs,\n\u001b[0;32m   (...)\u001b[0m\n\u001b[1;32m   1500\u001b[0m       cancellation_manager\u001b[38;5;241m=\u001b[39mcancellation_context,\n\u001b[1;32m   1501\u001b[0m   )\n",
      "File \u001b[0;32m~/anaconda3/lib/python3.11/site-packages/tensorflow/python/eager/execute.py:53\u001b[0m, in \u001b[0;36mquick_execute\u001b[0;34m(op_name, num_outputs, inputs, attrs, ctx, name)\u001b[0m\n\u001b[1;32m     51\u001b[0m \u001b[38;5;28;01mtry\u001b[39;00m:\n\u001b[1;32m     52\u001b[0m   ctx\u001b[38;5;241m.\u001b[39mensure_initialized()\n\u001b[0;32m---> 53\u001b[0m   tensors \u001b[38;5;241m=\u001b[39m pywrap_tfe\u001b[38;5;241m.\u001b[39mTFE_Py_Execute(ctx\u001b[38;5;241m.\u001b[39m_handle, device_name, op_name,\n\u001b[1;32m     54\u001b[0m                                       inputs, attrs, num_outputs)\n\u001b[1;32m     55\u001b[0m \u001b[38;5;28;01mexcept\u001b[39;00m core\u001b[38;5;241m.\u001b[39m_NotOkStatusException \u001b[38;5;28;01mas\u001b[39;00m e:\n\u001b[1;32m     56\u001b[0m   \u001b[38;5;28;01mif\u001b[39;00m name \u001b[38;5;129;01mis\u001b[39;00m \u001b[38;5;129;01mnot\u001b[39;00m \u001b[38;5;28;01mNone\u001b[39;00m:\n",
      "\u001b[0;31mKeyboardInterrupt\u001b[0m: "
     ]
    }
   ],
   "source": [
    "# Create Optuna study and optimize the objective function\n",
    "study = optuna.create_study(direction='maximize')\n",
    "study.optimize(objective, n_trials=50)\n",
    "\n",
    "# Get the best hyperparameters\n",
    "best_params = study.best_params\n",
    "print(f\"Best Hyperparameters: {best_params}\")\n",
    "\n",
    "# Build the final model with the best hyperparameters\n",
    "best_model = Sequential()\n",
    "best_model.add(Conv1D(filters=best_params['conv1_filters'], kernel_size=best_params['conv1_kernel_size'], activation='relu', input_shape=(200, 4)))\n",
    "best_model.add(Conv1D(filters=best_params['conv2_filters'], kernel_size=best_params['conv2_kernel_size'], activation='relu'))\n",
    "best_model.add(Conv1D(filters=best_params['conv3_filters'], kernel_size=best_params['conv3_kernel_size'], activation='relu'))\n",
    "best_model.add(Flatten())\n",
    "best_model.add(Dense(units=best_params['dense_units'], activation='relu'))\n",
    "best_model.add(Dropout(best_params['dropout_rate']))\n",
    "best_model.add(Dense(1, activation='sigmoid'))\n",
    "\n",
    "best_model.summary()\n",
    "\n"
   ]
  },
  {
   "cell_type": "code",
   "execution_count": null,
   "id": "47746332",
   "metadata": {},
   "outputs": [],
   "source": [
    "# Compile the final model\n",
    "best_optimizer = Adam(learning_rate=best_params['learning_rate'])\n",
    "best_model.compile(optimizer=best_optimizer, loss='binary_crossentropy', metrics=['accuracy'])\n",
    "\n",
    "# Train the final model on the entire dataset\n",
    "best_model.fit(X, y, epochs=10, batch_size=32)"
   ]
  }
 ],
 "metadata": {
  "kernelspec": {
   "display_name": "Python 3 (ipykernel)",
   "language": "python",
   "name": "python3"
  },
  "language_info": {
   "codemirror_mode": {
    "name": "ipython",
    "version": 3
   },
   "file_extension": ".py",
   "mimetype": "text/x-python",
   "name": "python",
   "nbconvert_exporter": "python",
   "pygments_lexer": "ipython3",
   "version": "3.11.5"
  }
 },
 "nbformat": 4,
 "nbformat_minor": 5
}
