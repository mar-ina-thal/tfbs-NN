{
 "cells": [
  {
   "cell_type": "markdown",
   "id": "520fbfff",
   "metadata": {},
   "source": [
    "# Imports and functions"
   ]
  },
  {
   "cell_type": "code",
   "execution_count": 1,
   "id": "05d85633",
   "metadata": {},
   "outputs": [
    {
     "name": "stderr",
     "output_type": "stream",
     "text": [
      "2024-01-18 11:45:07.244157: I tensorflow/core/util/port.cc:113] oneDNN custom operations are on. You may see slightly different numerical results due to floating-point round-off errors from different computation orders. To turn them off, set the environment variable `TF_ENABLE_ONEDNN_OPTS=0`.\n",
      "2024-01-18 11:45:07.321139: E external/local_xla/xla/stream_executor/cuda/cuda_dnn.cc:9261] Unable to register cuDNN factory: Attempting to register factory for plugin cuDNN when one has already been registered\n",
      "2024-01-18 11:45:07.321172: E external/local_xla/xla/stream_executor/cuda/cuda_fft.cc:607] Unable to register cuFFT factory: Attempting to register factory for plugin cuFFT when one has already been registered\n",
      "2024-01-18 11:45:07.323235: E external/local_xla/xla/stream_executor/cuda/cuda_blas.cc:1515] Unable to register cuBLAS factory: Attempting to register factory for plugin cuBLAS when one has already been registered\n",
      "2024-01-18 11:45:07.334216: I tensorflow/core/platform/cpu_feature_guard.cc:182] This TensorFlow binary is optimized to use available CPU instructions in performance-critical operations.\n",
      "To enable the following instructions: AVX2 AVX512F AVX512_VNNI FMA, in other operations, rebuild TensorFlow with the appropriate compiler flags.\n",
      "2024-01-18 11:45:08.576974: W tensorflow/compiler/tf2tensorrt/utils/py_utils.cc:38] TF-TRT Warning: Could not find TensorRT\n"
     ]
    }
   ],
   "source": [
    "import pandas as pd\n",
    "import numpy as np\n",
    "from sklearn.preprocessing import OneHotEncoder\n",
    "from keras.utils import to_categorical\n",
    "from sklearn.metrics import balanced_accuracy_score"
   ]
  },
  {
   "cell_type": "code",
   "execution_count": 2,
   "id": "1389113b",
   "metadata": {},
   "outputs": [],
   "source": [
    "import torchvision\n",
    "import engine\n",
    "import helper_functions"
   ]
  },
  {
   "cell_type": "code",
   "execution_count": 3,
   "id": "3a2e0857",
   "metadata": {},
   "outputs": [],
   "source": [
    "from tqdm.auto import tqdm\n",
    "from typing import Dict, List, Tuple\n",
    "from sklearn.metrics import balanced_accuracy_score, matthews_corrcoef, f1_score\n",
    "from collections import deque  # Import deque for early stopping\n",
    "import warnings\n",
    "\n",
    "# Suppress the specific UserWarning related to y_pred and y_true class mismatch\n",
    "warnings.filterwarnings(\"ignore\", category=UserWarning, message=\"y_pred contains classes not in y_true\")"
   ]
  },
  {
   "cell_type": "code",
   "execution_count": 4,
   "id": "faeaeafc",
   "metadata": {},
   "outputs": [],
   "source": [
    "from sklearn.metrics import balanced_accuracy_score\n",
    "\n",
    "# Function to calculate balanced accuracy using sklearn\n",
    "def balanced_accuracy(y_true, y_pred):\n",
    "    return balanced_accuracy_score(y_true, y_pred) * 100"
   ]
  },
  {
   "cell_type": "code",
   "execution_count": 5,
   "id": "6c000451",
   "metadata": {},
   "outputs": [],
   "source": [
    "# Function to perform one-hot encoding for DNA sequences\n",
    "def one_hot_encode(sequence):\n",
    "    encoding = {'A': [1, 0, 0, 0], 'T': [0, 1, 0, 0], 'G': [0, 0, 1, 0], 'C': [0, 0, 0, 1]}\n",
    "    one_hot_sequence = [encoding.get(base, [0, 0, 0, 0]) for base in sequence]\n",
    "    return np.array(one_hot_sequence)"
   ]
  },
  {
   "cell_type": "markdown",
   "id": "69190e84",
   "metadata": {},
   "source": [
    "# Set up device agnostic code"
   ]
  },
  {
   "cell_type": "code",
   "execution_count": 6,
   "id": "12cee86f",
   "metadata": {},
   "outputs": [
    {
     "data": {
      "text/plain": [
       "'cpu'"
      ]
     },
     "execution_count": 6,
     "metadata": {},
     "output_type": "execute_result"
    }
   ],
   "source": [
    "import torch\n",
    "from torch import nn\n",
    "# Make device agnostic code\n",
    "device = \"cuda\" if torch.cuda.is_available() else \"cpu\"\n",
    "device"
   ]
  },
  {
   "cell_type": "code",
   "execution_count": 7,
   "id": "c9939f1e",
   "metadata": {},
   "outputs": [
    {
     "data": {
      "text/html": [
       "<div>\n",
       "<style scoped>\n",
       "    .dataframe tbody tr th:only-of-type {\n",
       "        vertical-align: middle;\n",
       "    }\n",
       "\n",
       "    .dataframe tbody tr th {\n",
       "        vertical-align: top;\n",
       "    }\n",
       "\n",
       "    .dataframe thead th {\n",
       "        text-align: right;\n",
       "    }\n",
       "</style>\n",
       "<table border=\"1\" class=\"dataframe\">\n",
       "  <thead>\n",
       "    <tr style=\"text-align: right;\">\n",
       "      <th></th>\n",
       "      <th>data</th>\n",
       "      <th>class</th>\n",
       "    </tr>\n",
       "  </thead>\n",
       "  <tbody>\n",
       "    <tr>\n",
       "      <th>0</th>\n",
       "      <td>TAGGAACCCCCAGTTCCCAGGGAGTGGAGCTTGTGACACAGGCTTA...</td>\n",
       "      <td>0</td>\n",
       "    </tr>\n",
       "    <tr>\n",
       "      <th>1</th>\n",
       "      <td>AGGAGGCTGGAGTCTTCAGGAGATCACCAAGCATTTTAAGTTGGAA...</td>\n",
       "      <td>0</td>\n",
       "    </tr>\n",
       "    <tr>\n",
       "      <th>2</th>\n",
       "      <td>AGGCCGGACAGAGCAGCCCAGGGAAAAGAGCCTTCCTGTGTGACGC...</td>\n",
       "      <td>0</td>\n",
       "    </tr>\n",
       "    <tr>\n",
       "      <th>3</th>\n",
       "      <td>CTGACGCACACTGCCAGTGGGCTGACTTCTCAGGGCTGCAGTCTTC...</td>\n",
       "      <td>0</td>\n",
       "    </tr>\n",
       "    <tr>\n",
       "      <th>4</th>\n",
       "      <td>ATGCTCCCACTCCAGTCTCCAGGGGTGCAGACCTGACATAGGCCTC...</td>\n",
       "      <td>0</td>\n",
       "    </tr>\n",
       "    <tr>\n",
       "      <th>...</th>\n",
       "      <td>...</td>\n",
       "      <td>...</td>\n",
       "    </tr>\n",
       "    <tr>\n",
       "      <th>64200</th>\n",
       "      <td>TGGCGGAGCACTTTATGTTATTAAGTAGCCTAACCCAGGTGGGTCG...</td>\n",
       "      <td>1</td>\n",
       "    </tr>\n",
       "    <tr>\n",
       "      <th>64201</th>\n",
       "      <td>GAGCCTTTATTCATCTGTTCAATGAGAAGCTTCTACCAGAAGATCT...</td>\n",
       "      <td>1</td>\n",
       "    </tr>\n",
       "    <tr>\n",
       "      <th>64202</th>\n",
       "      <td>AGGGAACACTTTTGCACTGTTGGTGGGAGTATTAGTTCAACCCTTG...</td>\n",
       "      <td>1</td>\n",
       "    </tr>\n",
       "    <tr>\n",
       "      <th>64203</th>\n",
       "      <td>ACAAACAAATCAGCACAAGGTTTCTTAGGATAACTCTTGGCAATTT...</td>\n",
       "      <td>1</td>\n",
       "    </tr>\n",
       "    <tr>\n",
       "      <th>64204</th>\n",
       "      <td>CCTACCAAAGCACACCTGTAGGTTTACTAGAATCCTCTTCCTCCAA...</td>\n",
       "      <td>1</td>\n",
       "    </tr>\n",
       "  </tbody>\n",
       "</table>\n",
       "<p>64205 rows × 2 columns</p>\n",
       "</div>"
      ],
      "text/plain": [
       "                                                    data  class\n",
       "0      TAGGAACCCCCAGTTCCCAGGGAGTGGAGCTTGTGACACAGGCTTA...      0\n",
       "1      AGGAGGCTGGAGTCTTCAGGAGATCACCAAGCATTTTAAGTTGGAA...      0\n",
       "2      AGGCCGGACAGAGCAGCCCAGGGAAAAGAGCCTTCCTGTGTGACGC...      0\n",
       "3      CTGACGCACACTGCCAGTGGGCTGACTTCTCAGGGCTGCAGTCTTC...      0\n",
       "4      ATGCTCCCACTCCAGTCTCCAGGGGTGCAGACCTGACATAGGCCTC...      0\n",
       "...                                                  ...    ...\n",
       "64200  TGGCGGAGCACTTTATGTTATTAAGTAGCCTAACCCAGGTGGGTCG...      1\n",
       "64201  GAGCCTTTATTCATCTGTTCAATGAGAAGCTTCTACCAGAAGATCT...      1\n",
       "64202  AGGGAACACTTTTGCACTGTTGGTGGGAGTATTAGTTCAACCCTTG...      1\n",
       "64203  ACAAACAAATCAGCACAAGGTTTCTTAGGATAACTCTTGGCAATTT...      1\n",
       "64204  CCTACCAAAGCACACCTGTAGGTTTACTAGAATCCTCTTCCTCCAA...      1\n",
       "\n",
       "[64205 rows x 2 columns]"
      ]
     },
     "execution_count": 7,
     "metadata": {},
     "output_type": "execute_result"
    }
   ],
   "source": [
    "# Replace 'file_path.csv' with the path to the TF data.csv file\n",
    "tf=\"USF1\"\n",
    "file_path = f'/mnt/raid1/thalassini/home/filtered_fimo/{tf.upper()}/datasets/data.csv'\n",
    "df = pd.read_csv(file_path)\n",
    "df"
   ]
  },
  {
   "cell_type": "markdown",
   "id": "d22b4a0d",
   "metadata": {},
   "source": [
    "# Sequence length inspection and normalization"
   ]
  },
  {
   "cell_type": "code",
   "execution_count": 8,
   "id": "d33c9269",
   "metadata": {},
   "outputs": [
    {
     "name": "stdout",
     "output_type": "stream",
     "text": [
      "Max length:2000, Min length: 200\n"
     ]
    },
    {
     "data": {
      "image/png": "[encoded data removed]",
      "text/plain": [
       "<Figure size 640x480 with 1 Axes>"
      ]
     },
     "metadata": {},
     "output_type": "display_data"
    }
   ],
   "source": [
    "lengths= [len(item) for item in df['data']] \n",
    "print(f'Max length:{max(lengths)}, Min length: {min(lengths)}')\n",
    "import matplotlib.pyplot as plt\n",
    "# Plotting the histogram\n",
    "plt.hist(lengths, bins=10, color='blue', edgecolor='black')\n",
    "plt.title('Histogram of Lengths')\n",
    "plt.xlabel('Length')\n",
    "plt.ylabel('Frequency')\n",
    "plt.show()"
   ]
  },
  {
   "cell_type": "code",
   "execution_count": 9,
   "id": "292502f4",
   "metadata": {},
   "outputs": [],
   "source": [
    "# Find the maximum length of sequences\n",
    "#min_length = min(len(seq) for seq in df['data'])\n",
    "limit=200\n",
    "\n",
    "\n",
    "# Pad or cut sequences to ensure they all have the same length\n",
    "cut_sequences = [seq[:limit] for seq in df['data']]\n",
    "\n",
    "# Update the DataFrame with the cut sequences\n",
    "#df['data'] = cut_sequences"
   ]
  },
  {
   "cell_type": "code",
   "execution_count": 10,
   "id": "84f394a8",
   "metadata": {},
   "outputs": [
    {
     "name": "stdout",
     "output_type": "stream",
     "text": [
      "Max length:200, Min length: 200\n"
     ]
    }
   ],
   "source": [
    "lengths= [len(item) for item in cut_sequences]\n",
    "print(f'Max length:{max(lengths)}, Min length: {min(lengths)}')"
   ]
  },
  {
   "cell_type": "markdown",
   "id": "9b65d644",
   "metadata": {},
   "source": [
    "# Define X,y variables"
   ]
  },
  {
   "cell_type": "code",
   "execution_count": 11,
   "id": "f9e96a80",
   "metadata": {},
   "outputs": [],
   "source": [
    "X=[one_hot_encode(sequence) for sequence in cut_sequences]"
   ]
  },
  {
   "cell_type": "code",
   "execution_count": 12,
   "id": "2ab32859",
   "metadata": {},
   "outputs": [],
   "source": [
    "X = torch.from_numpy(np.array(X)).type(torch.float)\n"
   ]
  },
  {
   "cell_type": "code",
   "execution_count": 13,
   "id": "0bf2a817",
   "metadata": {},
   "outputs": [
    {
     "data": {
      "text/plain": [
       "torch.Size([64205, 200, 4])"
      ]
     },
     "execution_count": 13,
     "metadata": {},
     "output_type": "execute_result"
    }
   ],
   "source": [
    "X.shape"
   ]
  },
  {
   "cell_type": "code",
   "execution_count": 14,
   "id": "9aec20e4",
   "metadata": {},
   "outputs": [
    {
     "data": {
      "text/plain": [
       "array([0, 0, 0])"
      ]
     },
     "execution_count": 14,
     "metadata": {},
     "output_type": "execute_result"
    }
   ],
   "source": [
    "y=np.array(df['class'])\n",
    "y[:3]"
   ]
  },
  {
   "cell_type": "code",
   "execution_count": 15,
   "id": "7f1057ee",
   "metadata": {},
   "outputs": [],
   "source": [
    "y = torch.from_numpy(y).type(torch.float)"
   ]
  },
  {
   "cell_type": "markdown",
   "id": "c4515e0b",
   "metadata": {},
   "source": [
    "# Split the data in train, val and test set"
   ]
  },
  {
   "cell_type": "code",
   "execution_count": 16,
   "id": "f4a1304f",
   "metadata": {},
   "outputs": [
    {
     "name": "stdout",
     "output_type": "stream",
     "text": [
      "41091 41091 10273 10273\n",
      "12841 12841\n"
     ]
    }
   ],
   "source": [
    "from sklearn.model_selection import train_test_split\n",
    "from sklearn.model_selection import StratifiedShuffleSplit\n",
    "\n",
    "\n",
    "\n",
    "# Split the data into a stratified hold-out validation set and the rest\n",
    "stratified_splitter = StratifiedShuffleSplit(n_splits=1, test_size=0.2, random_state=42)\n",
    "\n",
    "for train_val_index, test_index in stratified_splitter.split(X, y):\n",
    "    X_train_val, X_test = X[train_val_index], X[test_index]\n",
    "    y_train_val, y_test = y[train_val_index], y[test_index]\n",
    "\n",
    "# Split the remaining data into training and validation sets\n",
    "X_train, X_val, y_train, y_val = train_test_split(X_train_val, y_train_val, test_size=0.2, stratify=y_train_val, random_state=42)\n",
    "\n",
    "print(len(X_train), len(y_train), len(X_val), len(y_val))\n",
    "print(len(X_test), len(y_test))\n",
    "\n",
    "\n",
    "# (X_train, X_val, y_train, y_val) for training, validation\n",
    "# X_test, y_test for the final hold-out validation.\n",
    "\n",
    "#X_train, X_val, X_test = torch.from_numpy(X_train).type(torch.float),torch.from_numpy(X_val).type(torch.float), torch.from_numpy(X_test).type(torch.float)\n",
    "\n"
   ]
  },
  {
   "cell_type": "markdown",
   "id": "d6716d37",
   "metadata": {},
   "source": [
    "# Create datasets and Dataloaders"
   ]
  },
  {
   "cell_type": "code",
   "execution_count": 17,
   "id": "cc8becaa",
   "metadata": {},
   "outputs": [
    {
     "name": "stdout",
     "output_type": "stream",
     "text": [
      "41091 41091 41091\n"
     ]
    }
   ],
   "source": [
    "from torch.utils.data import DataLoader, TensorDataset\n",
    "torch.manual_seed(42)\n",
    "\n",
    "# Expand the dimensions of y to make it 2-dimensional\n",
    "y_train = y_train.view(-1, 1)\n",
    "y_test = y_test.view(-1,1)\n",
    "y_val = y_val.view(-1,1)\n",
    "# Concatenate the complement of y to create a 2-dimensional tensor\n",
    "y_train_one_hot = torch.cat([1 - y_train, y_train], dim=1).float()\n",
    "y_test_one_hot = torch.cat([1 - y_test, y_test], dim=1).float()\n",
    "y_val_one_hot = torch.cat([1 - y_val, y_val], dim=1).float()\n",
    "\n",
    "\n",
    "# Move tensors to the same device\n",
    "X_train, y_train_one_hot, y_train = X_train.to(device), y_train_one_hot.to(device), y_train.to(device)\n",
    "X_val, y_val_one_hot, y_val = X_val.to(device), y_val_one_hot.to(device), y_val.to(device)\n",
    "X_test, y_test_one_hot, y_test = X_test.to(device), y_test_one_hot.to(device), y_test.to(device)\n",
    "\n",
    "\n",
    "print(X_train.size(0), y_train_one_hot.size(0), y_train.size(0))\n",
    "\n",
    "# Create datasets\n",
    "train_dataset = TensorDataset(X_train, y_train_one_hot, y_train)\n",
    "val_dataset = TensorDataset(X_val, y_val_one_hot, y_val)\n",
    "test_dataset = TensorDataset(X_test, y_test_one_hot, y_test)\n",
    "\n"
   ]
  },
  {
   "cell_type": "code",
   "execution_count": 18,
   "id": "107677e4",
   "metadata": {},
   "outputs": [],
   "source": [
    "\n",
    "batch_size=64\n",
    "torch.manual_seed(42)\n",
    "\n",
    "# Convert to PyTorch DataLoader\n",
    "train_loader = DataLoader(train_dataset, batch_size=batch_size, shuffle=True)\n",
    "val_loader = DataLoader(val_dataset, batch_size=batch_size, shuffle=True)\n",
    "test_loader = DataLoader(test_dataset, batch_size=batch_size, shuffle=True)"
   ]
  },
  {
   "cell_type": "markdown",
   "id": "d20e4bb7",
   "metadata": {},
   "source": [
    "# Construct a 1 layer CNN with Maxpooling and Dropout"
   ]
  },
  {
   "cell_type": "code",
   "execution_count": 19,
   "id": "9c0dfed6",
   "metadata": {},
   "outputs": [],
   "source": [
    "class Conv_v0(torch.nn.Module):\n",
    "\n",
    "    def __init__(self):\n",
    "        super(Conv_v0, self).__init__()\n",
    "\n",
    "        self.conv1 = torch.nn.Conv1d(in_channels=4, out_channels=3, kernel_size=17)\n",
    "        self.activation = torch.nn.ReLU()\n",
    "        self.maxpool = torch.nn.MaxPool1d(kernel_size=5)\n",
    "        \n",
    "        self.dropout = torch.nn.Dropout(p=0.5) \n",
    "        self.fc = torch.nn.Linear(in_features=108, out_features=2)\n",
    "        #elf.sigmoid = torch.nn.Sigmoid()\n",
    "\n",
    "    def forward(self, x):\n",
    "        x= x.permute(0, 2, 1)\n",
    "        x = self.conv1(x)\n",
    "        x = self.activation(x)\n",
    "        x = self.maxpool(x)\n",
    "        \n",
    "        # Reshape the output of the max pooling layer before passing it to the fully connected layer\n",
    "        x = x.view(x.size(0), -1)\n",
    "        \n",
    "        #print(\"Size after reshaping:\", x.size())\n",
    "        x=self.dropout(x)\n",
    "        x = self.fc(x)\n",
    "       #x = self.sigmoid(x)\n",
    "        return x\n"
   ]
  },
  {
   "cell_type": "markdown",
   "id": "e7f2d523",
   "metadata": {},
   "source": [
    "# Computing class weights"
   ]
  },
  {
   "cell_type": "code",
   "execution_count": 20,
   "id": "0f86ea45",
   "metadata": {},
   "outputs": [
    {
     "name": "stdout",
     "output_type": "stream",
     "text": [
      "Class Weights List: [2.0573273919791717, 1.9457808504593237]\n"
     ]
    }
   ],
   "source": [
    "from torch.utils.data import DataLoader, TensorDataset\n",
    "from sklearn.utils.class_weight import compute_class_weight\n",
    "\n",
    "# Assuming we have defined dataset\n",
    "# train_dataset = TensorDataset(X_train, y_train_one_hot, y_train)\n",
    "\n",
    "# Extract the labels from the dataset\n",
    "_, _, y_train = zip(*train_dataset)\n",
    "\n",
    "# Count occurrences of each class\n",
    "class_0_count = sum(1 for label in y_train if label == 0)\n",
    "class_1_count = sum(1 for label in y_train if label == 1)\n",
    "\n",
    "# Total length of y_train\n",
    "total_samples = len(y_train)\n",
    "\n",
    "# Calculate class weights\n",
    "weights = [total_samples / class_0_count, total_samples / class_1_count]\n",
    "\n",
    "# Print the list of class weights\n",
    "print(\"Class Weights List:\", weights)\n",
    "\n",
    "\n"
   ]
  },
  {
   "cell_type": "markdown",
   "id": "40b134d4",
   "metadata": {},
   "source": [
    "# Set up loss function and optimizer"
   ]
  },
  {
   "cell_type": "code",
   "execution_count": 21,
   "id": "948d9087",
   "metadata": {},
   "outputs": [],
   "source": [
    "from torch.optim import lr_scheduler\n",
    "weights = torch.tensor(weights).to(device)\n",
    "#print(weights)"
   ]
  },
  {
   "cell_type": "code",
   "execution_count": 22,
   "id": "65dbe876",
   "metadata": {},
   "outputs": [],
   "source": [
    "torch.manual_seed(42)\n",
    "\n",
    "# Initialize model instance\n",
    "model = Conv_v0()\n",
    "\n",
    "# define the CrossEntropyLoss with weights\n",
    "loss_fn = nn.BCEWithLogitsLoss(weight=weights)\n",
    "\n",
    "# Define oprimizer\n",
    "optimizer = torch.optim.Adam(model.parameters(), lr=0.0001)\n",
    "\n",
    "# Define exponetntial lr with lr_scheduler\n",
    "exp_lr_scheduler = lr_scheduler.ExponentialLR(optimizer, gamma=0.01)"
   ]
  },
  {
   "cell_type": "code",
   "execution_count": 23,
   "id": "e1d337c9",
   "metadata": {},
   "outputs": [
    {
     "data": {
      "text/plain": [
       "tensor([[-0.1968, -0.2870],\n",
       "        [-0.1012, -0.4836],\n",
       "        [ 0.0925, -0.2407],\n",
       "        [ 0.0290, -0.2891],\n",
       "        [ 0.1298, -0.5042]], grad_fn=<SliceBackward0>)"
      ]
     },
     "execution_count": 23,
     "metadata": {},
     "output_type": "execute_result"
    }
   ],
   "source": [
    "# View the frist 5 outputs of the forward pass on the test data\n",
    "y_logits = model(X_test.to(device))[:5]\n",
    "y_logits"
   ]
  },
  {
   "cell_type": "code",
   "execution_count": 24,
   "id": "d2669895",
   "metadata": {},
   "outputs": [
    {
     "data": {
      "application/vnd.jupyter.widget-view+json": {
       "model_id": "76e085310466492f8bd15e6c42daf708",
       "version_major": 2,
       "version_minor": 0
      },
      "text/plain": [
       "  0%|          | 0/100 [00:00<?, ?it/s]"
      ]
     },
     "metadata": {},
     "output_type": "display_data"
    },
    {
     "name": "stdout",
     "output_type": "stream",
     "text": [
      "Epoch: 1 | train_loss: 1.3916 | train_bal_acc: 0.5102 | train_mcc: 0.0232 | valid_loss: 1.3829 | valid_bal_acc: 0.5354 | valid_mcc: 0.0760\n",
      "Epoch: 2 | train_loss: 1.3763 | train_bal_acc: 0.5502 | train_mcc: 0.1010 | valid_loss: 1.3598 | valid_bal_acc: 0.5965 | valid_mcc: 0.2205\n",
      "Epoch: 3 | train_loss: 1.3368 | train_bal_acc: 0.6134 | train_mcc: 0.2290 | valid_loss: 1.3038 | valid_bal_acc: 0.6882 | valid_mcc: 0.3880\n",
      "Epoch: 4 | train_loss: 1.2772 | train_bal_acc: 0.6489 | train_mcc: 0.3060 | valid_loss: 1.2352 | valid_bal_acc: 0.7147 | valid_mcc: 0.4355\n",
      "Epoch: 5 | train_loss: 1.2136 | train_bal_acc: 0.6757 | train_mcc: 0.3619 | valid_loss: 1.1688 | valid_bal_acc: 0.7419 | valid_mcc: 0.4881\n",
      "Epoch: 6 | train_loss: 1.1625 | train_bal_acc: 0.6898 | train_mcc: 0.3893 | valid_loss: 1.1071 | valid_bal_acc: 0.7645 | valid_mcc: 0.5340\n",
      "Epoch: 7 | train_loss: 1.1137 | train_bal_acc: 0.7110 | train_mcc: 0.4281 | valid_loss: 1.0505 | valid_bal_acc: 0.7831 | valid_mcc: 0.5777\n",
      "Epoch: 8 | train_loss: 1.0742 | train_bal_acc: 0.7265 | train_mcc: 0.4594 | valid_loss: 1.0007 | valid_bal_acc: 0.8056 | valid_mcc: 0.6207\n",
      "Epoch: 9 | train_loss: 1.0416 | train_bal_acc: 0.7393 | train_mcc: 0.4827 | valid_loss: 0.9578 | valid_bal_acc: 0.8258 | valid_mcc: 0.6560\n",
      "Epoch: 10 | train_loss: 1.0141 | train_bal_acc: 0.7536 | train_mcc: 0.5102 | valid_loss: 0.9180 | valid_bal_acc: 0.8462 | valid_mcc: 0.6956\n",
      "Epoch: 11 | train_loss: 0.9869 | train_bal_acc: 0.7713 | train_mcc: 0.5424 | valid_loss: 0.8832 | valid_bal_acc: 0.8550 | valid_mcc: 0.7140\n",
      "Epoch: 12 | train_loss: 0.9690 | train_bal_acc: 0.7791 | train_mcc: 0.5574 | valid_loss: 0.8528 | valid_bal_acc: 0.8674 | valid_mcc: 0.7391\n",
      "Epoch: 13 | train_loss: 0.9458 | train_bal_acc: 0.7912 | train_mcc: 0.5819 | valid_loss: 0.8262 | valid_bal_acc: 0.8759 | valid_mcc: 0.7548\n",
      "Epoch: 14 | train_loss: 0.9357 | train_bal_acc: 0.7973 | train_mcc: 0.5944 | valid_loss: 0.8035 | valid_bal_acc: 0.8871 | valid_mcc: 0.7760\n",
      "Epoch: 15 | train_loss: 0.9215 | train_bal_acc: 0.8030 | train_mcc: 0.6064 | valid_loss: 0.7805 | valid_bal_acc: 0.8924 | valid_mcc: 0.7869\n",
      "Epoch: 16 | train_loss: 0.9061 | train_bal_acc: 0.8067 | train_mcc: 0.6137 | valid_loss: 0.7590 | valid_bal_acc: 0.8980 | valid_mcc: 0.7987\n",
      "Epoch: 17 | train_loss: 0.8915 | train_bal_acc: 0.8132 | train_mcc: 0.6275 | valid_loss: 0.7406 | valid_bal_acc: 0.9041 | valid_mcc: 0.8089\n",
      "Epoch: 18 | train_loss: 0.8768 | train_bal_acc: 0.8200 | train_mcc: 0.6420 | valid_loss: 0.7241 | valid_bal_acc: 0.9084 | valid_mcc: 0.8173\n",
      "Epoch: 19 | train_loss: 0.8739 | train_bal_acc: 0.8209 | train_mcc: 0.6442 | valid_loss: 0.7099 | valid_bal_acc: 0.9126 | valid_mcc: 0.8254\n",
      "Epoch: 20 | train_loss: 0.8692 | train_bal_acc: 0.8215 | train_mcc: 0.6460 | valid_loss: 0.6980 | valid_bal_acc: 0.9141 | valid_mcc: 0.8289\n",
      "Epoch: 21 | train_loss: 0.8637 | train_bal_acc: 0.8245 | train_mcc: 0.6527 | valid_loss: 0.6898 | valid_bal_acc: 0.9175 | valid_mcc: 0.8356\n",
      "Epoch: 22 | train_loss: 0.8524 | train_bal_acc: 0.8261 | train_mcc: 0.6557 | valid_loss: 0.6782 | valid_bal_acc: 0.9199 | valid_mcc: 0.8403\n",
      "Epoch: 23 | train_loss: 0.8465 | train_bal_acc: 0.8276 | train_mcc: 0.6595 | valid_loss: 0.6687 | valid_bal_acc: 0.9208 | valid_mcc: 0.8420\n",
      "Epoch: 24 | train_loss: 0.8290 | train_bal_acc: 0.8335 | train_mcc: 0.6704 | valid_loss: 0.6558 | valid_bal_acc: 0.9213 | valid_mcc: 0.8432\n",
      "Epoch: 25 | train_loss: 0.8265 | train_bal_acc: 0.8315 | train_mcc: 0.6681 | valid_loss: 0.6486 | valid_bal_acc: 0.9232 | valid_mcc: 0.8470\n",
      "Epoch: 26 | train_loss: 0.8273 | train_bal_acc: 0.8339 | train_mcc: 0.6715 | valid_loss: 0.6413 | valid_bal_acc: 0.9253 | valid_mcc: 0.8506\n",
      "Epoch: 27 | train_loss: 0.8242 | train_bal_acc: 0.8342 | train_mcc: 0.6723 | valid_loss: 0.6329 | valid_bal_acc: 0.9261 | valid_mcc: 0.8524\n",
      "Epoch: 28 | train_loss: 0.8239 | train_bal_acc: 0.8343 | train_mcc: 0.6739 | valid_loss: 0.6273 | valid_bal_acc: 0.9274 | valid_mcc: 0.8541\n",
      "Epoch: 29 | train_loss: 0.8160 | train_bal_acc: 0.8351 | train_mcc: 0.6766 | valid_loss: 0.6205 | valid_bal_acc: 0.9274 | valid_mcc: 0.8548\n",
      "Epoch: 30 | train_loss: 0.8063 | train_bal_acc: 0.8396 | train_mcc: 0.6855 | valid_loss: 0.6145 | valid_bal_acc: 0.9298 | valid_mcc: 0.8591\n",
      "Epoch: 31 | train_loss: 0.8078 | train_bal_acc: 0.8370 | train_mcc: 0.6805 | valid_loss: 0.6111 | valid_bal_acc: 0.9304 | valid_mcc: 0.8608\n",
      "Epoch: 32 | train_loss: 0.8159 | train_bal_acc: 0.8370 | train_mcc: 0.6792 | valid_loss: 0.6111 | valid_bal_acc: 0.9306 | valid_mcc: 0.8618\n",
      "Epoch: 33 | train_loss: 0.8025 | train_bal_acc: 0.8402 | train_mcc: 0.6876 | valid_loss: 0.6051 | valid_bal_acc: 0.9317 | valid_mcc: 0.8634\n",
      "Epoch: 34 | train_loss: 0.7976 | train_bal_acc: 0.8416 | train_mcc: 0.6902 | valid_loss: 0.5990 | valid_bal_acc: 0.9313 | valid_mcc: 0.8629\n",
      "Epoch: 35 | train_loss: 0.7990 | train_bal_acc: 0.8396 | train_mcc: 0.6875 | valid_loss: 0.5933 | valid_bal_acc: 0.9320 | valid_mcc: 0.8635\n",
      "Epoch: 36 | train_loss: 0.7967 | train_bal_acc: 0.8405 | train_mcc: 0.6884 | valid_loss: 0.5889 | valid_bal_acc: 0.9320 | valid_mcc: 0.8641\n",
      "Epoch: 37 | train_loss: 0.7953 | train_bal_acc: 0.8409 | train_mcc: 0.6901 | valid_loss: 0.5868 | valid_bal_acc: 0.9323 | valid_mcc: 0.8645\n",
      "Epoch: 38 | train_loss: 0.8013 | train_bal_acc: 0.8403 | train_mcc: 0.6870 | valid_loss: 0.5871 | valid_bal_acc: 0.9333 | valid_mcc: 0.8661\n",
      "Epoch: 39 | train_loss: 0.7963 | train_bal_acc: 0.8409 | train_mcc: 0.6894 | valid_loss: 0.5810 | valid_bal_acc: 0.9331 | valid_mcc: 0.8659\n",
      "Epoch: 40 | train_loss: 0.7978 | train_bal_acc: 0.8389 | train_mcc: 0.6865 | valid_loss: 0.5796 | valid_bal_acc: 0.9324 | valid_mcc: 0.8654\n",
      "Epoch: 41 | train_loss: 0.7870 | train_bal_acc: 0.8441 | train_mcc: 0.6949 | valid_loss: 0.5772 | valid_bal_acc: 0.9332 | valid_mcc: 0.8659\n",
      "Epoch: 42 | train_loss: 0.7892 | train_bal_acc: 0.8414 | train_mcc: 0.6906 | valid_loss: 0.5755 | valid_bal_acc: 0.9343 | valid_mcc: 0.8681\n",
      "Epoch: 43 | train_loss: 0.7903 | train_bal_acc: 0.8403 | train_mcc: 0.6888 | valid_loss: 0.5743 | valid_bal_acc: 0.9337 | valid_mcc: 0.8674\n",
      "Epoch: 44 | train_loss: 0.7904 | train_bal_acc: 0.8400 | train_mcc: 0.6882 | valid_loss: 0.5711 | valid_bal_acc: 0.9341 | valid_mcc: 0.8671\n",
      "Epoch: 45 | train_loss: 0.7907 | train_bal_acc: 0.8421 | train_mcc: 0.6924 | valid_loss: 0.5682 | valid_bal_acc: 0.9337 | valid_mcc: 0.8668\n",
      "Epoch: 46 | train_loss: 0.7801 | train_bal_acc: 0.8445 | train_mcc: 0.6967 | valid_loss: 0.5651 | valid_bal_acc: 0.9326 | valid_mcc: 0.8653\n",
      "Epoch: 47 | train_loss: 0.7845 | train_bal_acc: 0.8435 | train_mcc: 0.6934 | valid_loss: 0.5631 | valid_bal_acc: 0.9337 | valid_mcc: 0.8681\n",
      "Epoch: 48 | train_loss: 0.7771 | train_bal_acc: 0.8458 | train_mcc: 0.6990 | valid_loss: 0.5601 | valid_bal_acc: 0.9332 | valid_mcc: 0.8662\n",
      "Epoch: 49 | train_loss: 0.7871 | train_bal_acc: 0.8409 | train_mcc: 0.6905 | valid_loss: 0.5595 | valid_bal_acc: 0.9329 | valid_mcc: 0.8656\n",
      "Epoch: 50 | train_loss: 0.7848 | train_bal_acc: 0.8440 | train_mcc: 0.6966 | valid_loss: 0.5622 | valid_bal_acc: 0.9346 | valid_mcc: 0.8682\n",
      "Epoch: 51 | train_loss: 0.7728 | train_bal_acc: 0.8449 | train_mcc: 0.6968 | valid_loss: 0.5578 | valid_bal_acc: 0.9344 | valid_mcc: 0.8682\n",
      "Epoch: 52 | train_loss: 0.7800 | train_bal_acc: 0.8428 | train_mcc: 0.6943 | valid_loss: 0.5562 | valid_bal_acc: 0.9345 | valid_mcc: 0.8689\n",
      "Epoch: 53 | train_loss: 0.7787 | train_bal_acc: 0.8446 | train_mcc: 0.6969 | valid_loss: 0.5525 | valid_bal_acc: 0.9341 | valid_mcc: 0.8667\n",
      "Epoch: 54 | train_loss: 0.7751 | train_bal_acc: 0.8438 | train_mcc: 0.6958 | valid_loss: 0.5544 | valid_bal_acc: 0.9343 | valid_mcc: 0.8697\n",
      "Epoch: 55 | train_loss: 0.7801 | train_bal_acc: 0.8449 | train_mcc: 0.6977 | valid_loss: 0.5516 | valid_bal_acc: 0.9347 | valid_mcc: 0.8681\n",
      "Epoch: 56 | train_loss: 0.7762 | train_bal_acc: 0.8469 | train_mcc: 0.7020 | valid_loss: 0.5512 | valid_bal_acc: 0.9347 | valid_mcc: 0.8694\n",
      "Epoch: 57 | train_loss: 0.7801 | train_bal_acc: 0.8443 | train_mcc: 0.6964 | valid_loss: 0.5507 | valid_bal_acc: 0.9345 | valid_mcc: 0.8686\n",
      "Epoch: 58 | train_loss: 0.7701 | train_bal_acc: 0.8466 | train_mcc: 0.7015 | valid_loss: 0.5500 | valid_bal_acc: 0.9347 | valid_mcc: 0.8701\n",
      "Epoch: 59 | train_loss: 0.7867 | train_bal_acc: 0.8410 | train_mcc: 0.6907 | valid_loss: 0.5498 | valid_bal_acc: 0.9346 | valid_mcc: 0.8686\n"
     ]
    },
    {
     "name": "stdout",
     "output_type": "stream",
     "text": [
      "Epoch: 60 | train_loss: 0.7793 | train_bal_acc: 0.8438 | train_mcc: 0.6962 | valid_loss: 0.5497 | valid_bal_acc: 0.9345 | valid_mcc: 0.8683\n",
      "Epoch: 61 | train_loss: 0.7836 | train_bal_acc: 0.8443 | train_mcc: 0.6972 | valid_loss: 0.5513 | valid_bal_acc: 0.9349 | valid_mcc: 0.8697\n",
      "Epoch: 62 | train_loss: 0.7732 | train_bal_acc: 0.8469 | train_mcc: 0.7024 | valid_loss: 0.5478 | valid_bal_acc: 0.9354 | valid_mcc: 0.8696\n",
      "Epoch: 63 | train_loss: 0.7722 | train_bal_acc: 0.8459 | train_mcc: 0.6993 | valid_loss: 0.5455 | valid_bal_acc: 0.9332 | valid_mcc: 0.8669\n",
      "Epoch: 64 | train_loss: 0.7782 | train_bal_acc: 0.8449 | train_mcc: 0.6986 | valid_loss: 0.5453 | valid_bal_acc: 0.9344 | valid_mcc: 0.8688\n",
      "Epoch: 65 | train_loss: 0.7713 | train_bal_acc: 0.8454 | train_mcc: 0.6994 | valid_loss: 0.5434 | valid_bal_acc: 0.9350 | valid_mcc: 0.8695\n",
      "Epoch: 66 | train_loss: 0.7817 | train_bal_acc: 0.8414 | train_mcc: 0.6919 | valid_loss: 0.5434 | valid_bal_acc: 0.9334 | valid_mcc: 0.8670\n",
      "Epoch: 67 | train_loss: 0.7780 | train_bal_acc: 0.8451 | train_mcc: 0.6989 | valid_loss: 0.5429 | valid_bal_acc: 0.9348 | valid_mcc: 0.8696\n",
      "Epoch: 68 | train_loss: 0.7767 | train_bal_acc: 0.8453 | train_mcc: 0.6988 | valid_loss: 0.5402 | valid_bal_acc: 0.9338 | valid_mcc: 0.8679\n",
      "Epoch: 69 | train_loss: 0.7757 | train_bal_acc: 0.8434 | train_mcc: 0.6949 | valid_loss: 0.5433 | valid_bal_acc: 0.9332 | valid_mcc: 0.8667\n",
      "Epoch: 70 | train_loss: 0.7743 | train_bal_acc: 0.8448 | train_mcc: 0.6959 | valid_loss: 0.5415 | valid_bal_acc: 0.9347 | valid_mcc: 0.8689\n",
      "Epoch: 71 | train_loss: 0.7786 | train_bal_acc: 0.8433 | train_mcc: 0.6935 | valid_loss: 0.5408 | valid_bal_acc: 0.9338 | valid_mcc: 0.8676\n",
      "Epoch: 72 | train_loss: 0.7698 | train_bal_acc: 0.8454 | train_mcc: 0.6990 | valid_loss: 0.5381 | valid_bal_acc: 0.9331 | valid_mcc: 0.8659\n",
      "Epoch: 73 | train_loss: 0.7692 | train_bal_acc: 0.8473 | train_mcc: 0.7019 | valid_loss: 0.5393 | valid_bal_acc: 0.9351 | valid_mcc: 0.8696\n",
      "Epoch: 74 | train_loss: 0.7734 | train_bal_acc: 0.8438 | train_mcc: 0.6960 | valid_loss: 0.5380 | valid_bal_acc: 0.9342 | valid_mcc: 0.8693\n",
      "Epoch: 75 | train_loss: 0.7767 | train_bal_acc: 0.8439 | train_mcc: 0.6949 | valid_loss: 0.5367 | valid_bal_acc: 0.9336 | valid_mcc: 0.8669\n",
      "Epoch: 76 | train_loss: 0.7731 | train_bal_acc: 0.8452 | train_mcc: 0.6989 | valid_loss: 0.5355 | valid_bal_acc: 0.9330 | valid_mcc: 0.8657\n",
      "Epoch: 77 | train_loss: 0.7750 | train_bal_acc: 0.8446 | train_mcc: 0.6985 | valid_loss: 0.5363 | valid_bal_acc: 0.9346 | valid_mcc: 0.8687\n",
      "Epoch: 78 | train_loss: 0.7663 | train_bal_acc: 0.8468 | train_mcc: 0.7004 | valid_loss: 0.5351 | valid_bal_acc: 0.9341 | valid_mcc: 0.8677\n",
      "Epoch: 79 | train_loss: 0.7634 | train_bal_acc: 0.8469 | train_mcc: 0.7017 | valid_loss: 0.5356 | valid_bal_acc: 0.9350 | valid_mcc: 0.8698\n",
      "Epoch: 80 | train_loss: 0.7641 | train_bal_acc: 0.8470 | train_mcc: 0.7016 | valid_loss: 0.5332 | valid_bal_acc: 0.9351 | valid_mcc: 0.8689\n",
      "Epoch: 81 | train_loss: 0.7707 | train_bal_acc: 0.8451 | train_mcc: 0.6993 | valid_loss: 0.5372 | valid_bal_acc: 0.9357 | valid_mcc: 0.8724\n",
      "Epoch: 82 | train_loss: 0.7719 | train_bal_acc: 0.8444 | train_mcc: 0.6974 | valid_loss: 0.5353 | valid_bal_acc: 0.9342 | valid_mcc: 0.8677\n",
      "Epoch: 83 | train_loss: 0.7796 | train_bal_acc: 0.8426 | train_mcc: 0.6941 | valid_loss: 0.5339 | valid_bal_acc: 0.9347 | valid_mcc: 0.8690\n",
      "Epoch: 84 | train_loss: 0.7712 | train_bal_acc: 0.8455 | train_mcc: 0.6996 | valid_loss: 0.5354 | valid_bal_acc: 0.9345 | valid_mcc: 0.8682\n",
      "Epoch: 85 | train_loss: 0.7743 | train_bal_acc: 0.8447 | train_mcc: 0.6977 | valid_loss: 0.5325 | valid_bal_acc: 0.9329 | valid_mcc: 0.8661\n",
      "Epoch: 86 | train_loss: 0.7798 | train_bal_acc: 0.8418 | train_mcc: 0.6931 | valid_loss: 0.5327 | valid_bal_acc: 0.9335 | valid_mcc: 0.8664\n",
      "Epoch: 87 | train_loss: 0.7757 | train_bal_acc: 0.8435 | train_mcc: 0.6958 | valid_loss: 0.5327 | valid_bal_acc: 0.9330 | valid_mcc: 0.8655\n",
      "Epoch: 88 | train_loss: 0.7784 | train_bal_acc: 0.8424 | train_mcc: 0.6913 | valid_loss: 0.5343 | valid_bal_acc: 0.9328 | valid_mcc: 0.8653\n",
      "Epoch: 89 | train_loss: 0.7715 | train_bal_acc: 0.8444 | train_mcc: 0.6962 | valid_loss: 0.5315 | valid_bal_acc: 0.9336 | valid_mcc: 0.8675\n",
      "Epoch: 90 | train_loss: 0.7702 | train_bal_acc: 0.8444 | train_mcc: 0.6972 | valid_loss: 0.5313 | valid_bal_acc: 0.9345 | valid_mcc: 0.8689\n",
      "Epoch: 91 | train_loss: 0.7774 | train_bal_acc: 0.8440 | train_mcc: 0.6964 | valid_loss: 0.5316 | valid_bal_acc: 0.9342 | valid_mcc: 0.8686\n",
      "Epoch: 92 | train_loss: 0.7687 | train_bal_acc: 0.8441 | train_mcc: 0.6954 | valid_loss: 0.5302 | valid_bal_acc: 0.9340 | valid_mcc: 0.8676\n",
      "Epoch: 93 | train_loss: 0.7728 | train_bal_acc: 0.8418 | train_mcc: 0.6930 | valid_loss: 0.5311 | valid_bal_acc: 0.9347 | valid_mcc: 0.8689\n",
      "Epoch: 94 | train_loss: 0.7747 | train_bal_acc: 0.8443 | train_mcc: 0.6971 | valid_loss: 0.5325 | valid_bal_acc: 0.9336 | valid_mcc: 0.8675\n",
      "Epoch: 95 | train_loss: 0.7677 | train_bal_acc: 0.8451 | train_mcc: 0.6981 | valid_loss: 0.5296 | valid_bal_acc: 0.9341 | valid_mcc: 0.8684\n",
      "Epoch: 96 | train_loss: 0.7513 | train_bal_acc: 0.8509 | train_mcc: 0.7099 | valid_loss: 0.5292 | valid_bal_acc: 0.9349 | valid_mcc: 0.8688\n",
      "Epoch: 97 | train_loss: 0.7676 | train_bal_acc: 0.8473 | train_mcc: 0.7023 | valid_loss: 0.5286 | valid_bal_acc: 0.9348 | valid_mcc: 0.8691\n",
      "Epoch: 98 | train_loss: 0.7748 | train_bal_acc: 0.8429 | train_mcc: 0.6936 | valid_loss: 0.5289 | valid_bal_acc: 0.9330 | valid_mcc: 0.8665\n",
      "Epoch: 99 | train_loss: 0.7685 | train_bal_acc: 0.8451 | train_mcc: 0.6987 | valid_loss: 0.5297 | valid_bal_acc: 0.9351 | valid_mcc: 0.8696\n",
      "Epoch: 100 | train_loss: 0.7671 | train_bal_acc: 0.8458 | train_mcc: 0.6993 | valid_loss: 0.5296 | valid_bal_acc: 0.9350 | valid_mcc: 0.8694\n"
     ]
    }
   ],
   "source": [
    "results, _ = engine.train_with_early_stopping(model=model,\n",
    "                                                  train_dataloader=train_loader,\n",
    "                                                  valid_dataloader=val_loader,\n",
    "                                                  optimizer=optimizer,\n",
    "                                                  loss_fn=loss_fn,\n",
    "                                                  epochs=100,\n",
    "                                                  device=device)\n"
   ]
  },
  {
   "cell_type": "code",
   "execution_count": 25,
   "id": "8e394a60",
   "metadata": {},
   "outputs": [
    {
     "data": {
      "text/plain": [
       "Text(0.5, 1.0, 'Loss Curves for 1 layer CNN with input 200b seqs')"
      ]
     },
     "execution_count": 25,
     "metadata": {},
     "output_type": "execute_result"
    },
    {
     "data": {
      "image/png": "[encoded data removed]",
      "text/plain": [
       "<Figure size 1500x700 with 2 Axes>"
      ]
     },
     "metadata": {},
     "output_type": "display_data"
    }
   ],
   "source": [
    "helper_functions.plot_loss_curves(results)\n",
    "plt.savefig(f'{tf}_CNN1_ADAM_BCEWithLogits_seq=200b.png'); plt.title(\"Loss Curves for 1 layer CNN with input 200b seqs\")"
   ]
  },
  {
   "cell_type": "code",
   "execution_count": 27,
   "id": "228c82d1",
   "metadata": {},
   "outputs": [
    {
     "name": "stdout",
     "output_type": "stream",
     "text": [
      "Perfomance on held out test set\n",
      "Test loss: 0.5264774996842911 | Test bal acc 0.9369240305727441 | Test mcc 0.8739732790548456 | Test_f_score 0.9365919642401996\n",
      "\n"
     ]
    }
   ],
   "source": [
    "from sklearn.metrics import balanced_accuracy_score, matthews_corrcoef, f1_score\n",
    "import torch.nn.functional as F\n",
    "\n",
    "\n",
    "model.eval()\n",
    "\n",
    "\n",
    "with torch.inference_mode():\n",
    "    all_predictions = []\n",
    "    all_true_labels = []\n",
    "    all_test_pred_prob=[]\n",
    "    \n",
    "    test_loss, test_bal_acc, test_mcc, test_f_score = 0, 0, 0, 0\n",
    "    for batch, (X, y_one_hot, y) in enumerate(test_loader):\n",
    "        # Send data to target device\n",
    "        X, y_one_hot, y = X.to(device),y_one_hot.to(device), y.to(device)\n",
    "\n",
    "        # 1. Forward pass\n",
    "        test_pred_logits = model(X)\n",
    "\n",
    "        # 2. Calculate and accumulate loss\n",
    "        loss = loss_fn(test_pred_logits, y_one_hot)\n",
    "        test_loss += loss.item()\n",
    "\n",
    "        # Calculate and accumulate scores\n",
    "        test_pred_labels = test_pred_logits.argmax(dim=1)\n",
    "        test_pred_prob = torch.softmax(test_pred_logits.squeeze(), dim=0) # note: perform softmax on the \"logits\" dimension, not \"batch\" dimension (in this case we have a batch size of 1, so can perform on dim=0)\n",
    "        test_bal_acc += balanced_accuracy_score(y.cpu().numpy(), test_pred_labels.cpu().numpy())\n",
    "        test_mcc += matthews_corrcoef(y.cpu().numpy(), test_pred_labels.cpu().numpy())\n",
    "        test_f_score += f1_score(y.cpu().numpy(), test_pred_labels.cpu().numpy(), average='weighted')\n",
    "        \n",
    "        all_predictions.extend(test_pred_labels.cpu().numpy())\n",
    "        all_true_labels.extend(y.cpu().numpy())\n",
    "        all_test_pred_prob.extend(test_pred_prob.cpu().numpy())\n",
    "\n",
    "    # Adjust metrics to get average loss and accuracy per batch\n",
    "    test_loss = test_loss / len(test_loader)\n",
    "    test_bal_acc = test_bal_acc / len(test_loader)\n",
    "    test_mcc = test_mcc / len(test_loader)\n",
    "    test_f_score = test_f_score / len(test_loader)\n",
    "    print(\"Perfomance on held out test set\")\n",
    "    print(f'Test loss: {test_loss} | Test bal acc {test_bal_acc} | Test mcc {test_mcc} | Test_f_score {test_f_score}\\n')   \n",
    "    "
   ]
  },
  {
   "cell_type": "markdown",
   "id": "e8c518d8",
   "metadata": {},
   "source": [
    "We can observe that the model is not overfiting since the perfomance on the held out test set is high"
   ]
  },
  {
   "cell_type": "code",
   "execution_count": null,
   "id": "51cd093a",
   "metadata": {},
   "outputs": [],
   "source": []
  }
 ],
 "metadata": {
  "kernelspec": {
   "display_name": "Python 3 (ipykernel)",
   "language": "python",
   "name": "python3"
  },
  "language_info": {
   "codemirror_mode": {
    "name": "ipython",
    "version": 3
   },
   "file_extension": ".py",
   "mimetype": "text/x-python",
   "name": "python",
   "nbconvert_exporter": "python",
   "pygments_lexer": "ipython3",
   "version": "3.11.5"
  }
 },
 "nbformat": 4,
 "nbformat_minor": 5
}
