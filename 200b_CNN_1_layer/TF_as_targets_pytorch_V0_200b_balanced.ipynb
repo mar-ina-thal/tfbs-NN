{
 "cells": [
  {
   "cell_type": "markdown",
   "id": "e7eb3167",
   "metadata": {},
   "source": [
    "# Imports and functions"
   ]
  },
  {
   "cell_type": "code",
   "execution_count": 1,
   "id": "05d85633",
   "metadata": {},
   "outputs": [
    {
     "name": "stderr",
     "output_type": "stream",
     "text": [
      "2024-01-27 20:15:33.248406: I tensorflow/core/util/port.cc:113] oneDNN custom operations are on. You may see slightly different numerical results due to floating-point round-off errors from different computation orders. To turn them off, set the environment variable `TF_ENABLE_ONEDNN_OPTS=0`.\n",
      "2024-01-27 20:15:33.293045: E external/local_xla/xla/stream_executor/cuda/cuda_dnn.cc:9261] Unable to register cuDNN factory: Attempting to register factory for plugin cuDNN when one has already been registered\n",
      "2024-01-27 20:15:33.293084: E external/local_xla/xla/stream_executor/cuda/cuda_fft.cc:607] Unable to register cuFFT factory: Attempting to register factory for plugin cuFFT when one has already been registered\n",
      "2024-01-27 20:15:33.294348: E external/local_xla/xla/stream_executor/cuda/cuda_blas.cc:1515] Unable to register cuBLAS factory: Attempting to register factory for plugin cuBLAS when one has already been registered\n",
      "2024-01-27 20:15:33.301517: I tensorflow/core/platform/cpu_feature_guard.cc:182] This TensorFlow binary is optimized to use available CPU instructions in performance-critical operations.\n",
      "To enable the following instructions: AVX2 AVX512F AVX512_VNNI FMA, in other operations, rebuild TensorFlow with the appropriate compiler flags.\n",
      "2024-01-27 20:15:34.105473: W tensorflow/compiler/tf2tensorrt/utils/py_utils.cc:38] TF-TRT Warning: Could not find TensorRT\n"
     ]
    }
   ],
   "source": [
    "import pandas as pd\n",
    "import numpy as np\n",
    "from sklearn.preprocessing import OneHotEncoder\n",
    "from keras.utils import to_categorical\n",
    "from sklearn.metrics import balanced_accuracy_score\n"
   ]
  },
  {
   "cell_type": "code",
   "execution_count": 2,
   "id": "43a5887d",
   "metadata": {},
   "outputs": [],
   "source": [
    "import torchvision\n",
    "import engine\n",
    "import engine_boosted\n",
    "import engine_boosted_multi\n",
    "import helper_functions"
   ]
  },
  {
   "cell_type": "code",
   "execution_count": 3,
   "id": "59bde44a",
   "metadata": {},
   "outputs": [],
   "source": [
    "from tqdm.auto import tqdm\n",
    "from typing import Dict, List, Tuple\n",
    "from sklearn.metrics import balanced_accuracy_score, matthews_corrcoef, f1_score\n",
    "from collections import deque  # Import deque for early stopping\n",
    "import warnings\n",
    "\n",
    "# Suppress the specific UserWarning related to y_pred and y_true class mismatch\n",
    "warnings.filterwarnings(\"ignore\", category=UserWarning, message=\"y_pred contains classes not in y_true\")"
   ]
  },
  {
   "cell_type": "code",
   "execution_count": 4,
   "id": "faeaeafc",
   "metadata": {},
   "outputs": [],
   "source": [
    "from sklearn.metrics import balanced_accuracy_score\n",
    "\n",
    "# Function to calculate balanced accuracy using sklearn\n",
    "def balanced_accuracy(y_true, y_pred):\n",
    "    return balanced_accuracy_score(y_true, y_pred) * 100"
   ]
  },
  {
   "cell_type": "code",
   "execution_count": 5,
   "id": "6c000451",
   "metadata": {},
   "outputs": [],
   "source": [
    "# Function to perform one-hot encoding for DNA sequences\n",
    "def one_hot_encode(sequence):\n",
    "    encoding = {'A': [1, 0, 0, 0], 'T': [0, 1, 0, 0], 'G': [0, 0, 1, 0], 'C': [0, 0, 0, 1]}\n",
    "    one_hot_sequence = [encoding.get(base, [0, 0, 0, 0]) for base in sequence]\n",
    "    return np.array(one_hot_sequence)"
   ]
  },
  {
   "cell_type": "code",
   "execution_count": 6,
   "id": "d981b1bf",
   "metadata": {},
   "outputs": [],
   "source": [
    "kernel = {\n",
    "    'ATF2': [10] ,\n",
    "    'ATF3' : [10] ,\n",
    "    'CEBPB' : [10] ,\n",
    "    'CREB1' : [8] ,\n",
    "    'CTCF' : [15] ,\n",
    "    'E2F4' : [13] ,\n",
    "    'EGR1' : [10] ,\n",
    "    'EFL1' : [9] ,\n",
    "    'ELK1' : [9] ,\n",
    "    'FOS' : [8] ,\n",
    "    'FOXA1' : [8] ,\n",
    "    'GABPA' : [10] ,\n",
    "    'JUN' : [14] ,\n",
    "    'JUND' : [11] ,\n",
    "    'MAFK' : [10] ,\n",
    "    'MAX' : [6] ,\n",
    "    'MAZ' : [8] ,\n",
    "    'MXI1' : [6] ,\n",
    "    'MYC' : [8] ,\n",
    "    'NRF1' : [11] ,\n",
    "    'RELA' : [10] ,\n",
    "    'REST' : [20] ,\n",
    "    'RFX5' : [14] ,\n",
    "    'SP1' : [9] ,\n",
    "    'SRF' : [16] ,\n",
    "    'TCF7L2' : [9] ,\n",
    "    'TCF12' : [7] ,\n",
    "    'TEAD4' : [8] ,\n",
    "    'USF1' : [10] ,\n",
    "    'USF2' : [10] ,\n",
    "    'YY1' : [12] ,\n",
    "    'ZBTB33' : [10] ,\n",
    "    'ZNF274' : [12]\n",
    "}"
   ]
  },
  {
   "cell_type": "code",
   "execution_count": 7,
   "id": "11b36fc7",
   "metadata": {},
   "outputs": [],
   "source": [
    "tf_class = {\n",
    "    'ATF2': [0] ,\n",
    "    'ATF3' : [1] ,\n",
    "    'CEBPB' : [2] ,\n",
    "    'CREB1' : [3] ,\n",
    "    'CTCF' : [4] ,\n",
    "    'E2F4' : [5] ,\n",
    "    'EGR1' : [6] ,\n",
    "    'EFL1' : [7],\n",
    "    'ELK1' : [8],\n",
    "    'FOS' : [9] ,\n",
    "    'FOXA1' : [10] ,\n",
    "    'GABPA' : [11] ,\n",
    "    'JUN' : [12] ,\n",
    "    'JUND' : [13] ,\n",
    "    'MAFK' : [14] ,\n",
    "    'MAX' : [15] ,\n",
    "    'MAZ' : [16] ,\n",
    "    'MXI1' : [17] ,\n",
    "    'MYC' : [18] ,\n",
    "    'NRF1' : [19] ,\n",
    "    'RELA' : [20] ,\n",
    "    'REST' : [21] ,\n",
    "    'RFX5' : [22] ,\n",
    "    'SP1' : [23] ,\n",
    "    'SRF' : [24] ,\n",
    "    'TCF7L2' : [25] ,\n",
    "    'TCF12' : [26] ,\n",
    "    'TEAD4' : [27] ,\n",
    "    'USF1' : [28] ,\n",
    "    'USF2' : [29] ,\n",
    "    'YY1' : [30] ,\n",
    "    'ZBTB33' : [31] ,\n",
    "    'ZNF274' : [32]\n",
    "}"
   ]
  },
  {
   "cell_type": "markdown",
   "id": "4f102ecb",
   "metadata": {},
   "source": [
    "# Set up device agnostic code"
   ]
  },
  {
   "cell_type": "code",
   "execution_count": 8,
   "id": "12cee86f",
   "metadata": {},
   "outputs": [
    {
     "data": {
      "text/plain": [
       "'cpu'"
      ]
     },
     "execution_count": 8,
     "metadata": {},
     "output_type": "execute_result"
    }
   ],
   "source": [
    "import torch\n",
    "from torch import nn\n",
    "# Make device agnostic code\n",
    "device = \"cuda\" if torch.cuda.is_available() else \"cpu\"\n",
    "device"
   ]
  },
  {
   "cell_type": "code",
   "execution_count": 9,
   "id": "c9939f1e",
   "metadata": {},
   "outputs": [
    {
     "name": "stdout",
     "output_type": "stream",
     "text": [
      "File not found for TF: RCOR1\n",
      "Combined data saved to /mnt/raid1/thalassini/home/tf_data/combined_6_data.csv\n"
     ]
    }
   ],
   "source": [
    "import pandas as pd\n",
    "\n",
    "# Read the list of TFs from the file\n",
    "tf_list_path = '/mnt/raid1/thalassini/home/Downloads/target_names_6.txt'\n",
    "with open(tf_list_path, 'r') as file:\n",
    "    tf_list = file.read().splitlines()\n",
    "\n",
    "# Define the directory where the CSV files for each TF are located\n",
    "base_directory = '/mnt/raid1/thalassini/home/filtered_fimo_200b_balanced/'\n",
    "\n",
    "# Combine data for each TF and write to a single CSV file\n",
    "for tf in tf_list:\n",
    "    file_path = f'{base_directory}{tf.upper()}/datasets/data.csv'\n",
    "    \n",
    "    try:\n",
    "        df = pd.read_csv(file_path)\n",
    "        \n",
    "        # Add a column to identify the TF\n",
    "        df['TF'] = tf\n",
    "        \n",
    "        # Append data to the master DataFrame or create it if it doesn't exist\n",
    "        if 'master_df' in locals():\n",
    "            master_df = pd.concat([master_df, df], ignore_index=True)\n",
    "        else:\n",
    "            master_df = df\n",
    "    except FileNotFoundError:\n",
    "        print(f\"File not found for TF: {tf}\")\n",
    "\n",
    "# Save the combined DataFrame to a new CSV file\n",
    "output_csv_path = '/mnt/raid1/thalassini/home/tf_data/combined_6_data.csv'\n",
    "master_df.to_csv(output_csv_path, index=False)\n",
    "\n",
    "print(f\"Combined data saved to {output_csv_path}\")\n"
   ]
  },
  {
   "cell_type": "code",
   "execution_count": 10,
   "id": "38ec5b8a",
   "metadata": {},
   "outputs": [
    {
     "data": {
      "text/html": [
       "<div>\n",
       "<style scoped>\n",
       "    .dataframe tbody tr th:only-of-type {\n",
       "        vertical-align: middle;\n",
       "    }\n",
       "\n",
       "    .dataframe tbody tr th {\n",
       "        vertical-align: top;\n",
       "    }\n",
       "\n",
       "    .dataframe thead th {\n",
       "        text-align: right;\n",
       "    }\n",
       "</style>\n",
       "<table border=\"1\" class=\"dataframe\">\n",
       "  <thead>\n",
       "    <tr style=\"text-align: right;\">\n",
       "      <th></th>\n",
       "      <th>data</th>\n",
       "      <th>class</th>\n",
       "      <th>TF</th>\n",
       "    </tr>\n",
       "  </thead>\n",
       "  <tbody>\n",
       "    <tr>\n",
       "      <th>0</th>\n",
       "      <td>CTCCTTTTTCCCCCTCTGCCACAACCTCTAAATACTGAGGGCCCCA...</td>\n",
       "      <td>1</td>\n",
       "      <td>ATF2</td>\n",
       "    </tr>\n",
       "    <tr>\n",
       "      <th>1</th>\n",
       "      <td>TATAGCAATCTGAATCCTTGTGCTAAACTTAATTGTCGTTGTCGTC...</td>\n",
       "      <td>1</td>\n",
       "      <td>ATF2</td>\n",
       "    </tr>\n",
       "    <tr>\n",
       "      <th>2</th>\n",
       "      <td>AAAACCAAAACAAGAAGTCGGTCTCCTCTTTTTATATAATAGTTTA...</td>\n",
       "      <td>1</td>\n",
       "      <td>ATF2</td>\n",
       "    </tr>\n",
       "    <tr>\n",
       "      <th>3</th>\n",
       "      <td>TTAGGTCATGCACACTGAACTGAAACTGAGATGAATGACATCATCA...</td>\n",
       "      <td>1</td>\n",
       "      <td>ATF2</td>\n",
       "    </tr>\n",
       "    <tr>\n",
       "      <th>4</th>\n",
       "      <td>GAACAGAGGCTCAGGCAGCTGAAGTAACGTGCCTAAGGTCACATGG...</td>\n",
       "      <td>1</td>\n",
       "      <td>ATF2</td>\n",
       "    </tr>\n",
       "    <tr>\n",
       "      <th>...</th>\n",
       "      <td>...</td>\n",
       "      <td>...</td>\n",
       "      <td>...</td>\n",
       "    </tr>\n",
       "    <tr>\n",
       "      <th>1270042</th>\n",
       "      <td>TCATACAGGTGAGAAACCCTACAAATGTAATGAGTGTGAAAAAACC...</td>\n",
       "      <td>0</td>\n",
       "      <td>ZNF274</td>\n",
       "    </tr>\n",
       "    <tr>\n",
       "      <th>1270043</th>\n",
       "      <td>ATTACACTTTCAAGGTTTCTCTCCACTATGAAGTCTATGATGGTAT...</td>\n",
       "      <td>0</td>\n",
       "      <td>ZNF274</td>\n",
       "    </tr>\n",
       "    <tr>\n",
       "      <th>1270044</th>\n",
       "      <td>TTACATTTGTAAGGCTTCTCTCCAGTATGGATGACCTGATGGGTAG...</td>\n",
       "      <td>0</td>\n",
       "      <td>ZNF274</td>\n",
       "    </tr>\n",
       "    <tr>\n",
       "      <th>1270045</th>\n",
       "      <td>TTCATACTGGAGAGAAACCCTACAAATGCAAAGAATGTTGCAAAGC...</td>\n",
       "      <td>0</td>\n",
       "      <td>ZNF274</td>\n",
       "    </tr>\n",
       "    <tr>\n",
       "      <th>1270046</th>\n",
       "      <td>ATTACATTTATAAGCTTTTTCTCCAGTATGAATTCTCCAATGATAT...</td>\n",
       "      <td>0</td>\n",
       "      <td>ZNF274</td>\n",
       "    </tr>\n",
       "  </tbody>\n",
       "</table>\n",
       "<p>1270047 rows × 3 columns</p>\n",
       "</div>"
      ],
      "text/plain": [
       "                                                      data  class      TF\n",
       "0        CTCCTTTTTCCCCCTCTGCCACAACCTCTAAATACTGAGGGCCCCA...      1    ATF2\n",
       "1        TATAGCAATCTGAATCCTTGTGCTAAACTTAATTGTCGTTGTCGTC...      1    ATF2\n",
       "2        AAAACCAAAACAAGAAGTCGGTCTCCTCTTTTTATATAATAGTTTA...      1    ATF2\n",
       "3        TTAGGTCATGCACACTGAACTGAAACTGAGATGAATGACATCATCA...      1    ATF2\n",
       "4        GAACAGAGGCTCAGGCAGCTGAAGTAACGTGCCTAAGGTCACATGG...      1    ATF2\n",
       "...                                                    ...    ...     ...\n",
       "1270042  TCATACAGGTGAGAAACCCTACAAATGTAATGAGTGTGAAAAAACC...      0  ZNF274\n",
       "1270043  ATTACACTTTCAAGGTTTCTCTCCACTATGAAGTCTATGATGGTAT...      0  ZNF274\n",
       "1270044  TTACATTTGTAAGGCTTCTCTCCAGTATGGATGACCTGATGGGTAG...      0  ZNF274\n",
       "1270045  TTCATACTGGAGAGAAACCCTACAAATGCAAAGAATGTTGCAAAGC...      0  ZNF274\n",
       "1270046  ATTACATTTATAAGCTTTTTCTCCAGTATGAATTCTCCAATGATAT...      0  ZNF274\n",
       "\n",
       "[1270047 rows x 3 columns]"
      ]
     },
     "execution_count": 10,
     "metadata": {},
     "output_type": "execute_result"
    }
   ],
   "source": [
    "master_df"
   ]
  },
  {
   "cell_type": "code",
   "execution_count": 11,
   "id": "939edc98",
   "metadata": {},
   "outputs": [
    {
     "data": {
      "text/html": [
       "<div>\n",
       "<style scoped>\n",
       "    .dataframe tbody tr th:only-of-type {\n",
       "        vertical-align: middle;\n",
       "    }\n",
       "\n",
       "    .dataframe tbody tr th {\n",
       "        vertical-align: top;\n",
       "    }\n",
       "\n",
       "    .dataframe thead th {\n",
       "        text-align: right;\n",
       "    }\n",
       "</style>\n",
       "<table border=\"1\" class=\"dataframe\">\n",
       "  <thead>\n",
       "    <tr style=\"text-align: right;\">\n",
       "      <th></th>\n",
       "      <th>data</th>\n",
       "      <th>class</th>\n",
       "      <th>TF</th>\n",
       "    </tr>\n",
       "  </thead>\n",
       "  <tbody>\n",
       "    <tr>\n",
       "      <th>0</th>\n",
       "      <td>AGGGCAGTTCCCAATTACCCAAAGGGATCTTGAGGTTCAGAGACAT...</td>\n",
       "      <td>1</td>\n",
       "      <td>32</td>\n",
       "    </tr>\n",
       "    <tr>\n",
       "      <th>1</th>\n",
       "      <td>ACACTGGAGAGAAACCCTATGAGTGTAAGCAATGTGGGAAAGCCTT...</td>\n",
       "      <td>1</td>\n",
       "      <td>32</td>\n",
       "    </tr>\n",
       "    <tr>\n",
       "      <th>2</th>\n",
       "      <td>GCTGACATTTATAGGGTTTCTCTTCTGTGTGAGTTTTTTCATGAAT...</td>\n",
       "      <td>1</td>\n",
       "      <td>32</td>\n",
       "    </tr>\n",
       "    <tr>\n",
       "      <th>3</th>\n",
       "      <td>TTTTTACATTTATAGGGCTTTTCTCCAGTATGAGTTTTTTTATGCT...</td>\n",
       "      <td>1</td>\n",
       "      <td>32</td>\n",
       "    </tr>\n",
       "    <tr>\n",
       "      <th>4</th>\n",
       "      <td>TTTTTACATTTATAGGGCTTTTCTCCAGTATGAGTTTTTTTATGCT...</td>\n",
       "      <td>1</td>\n",
       "      <td>32</td>\n",
       "    </tr>\n",
       "    <tr>\n",
       "      <th>...</th>\n",
       "      <td>...</td>\n",
       "      <td>...</td>\n",
       "      <td>...</td>\n",
       "    </tr>\n",
       "    <tr>\n",
       "      <th>6445</th>\n",
       "      <td>TCATACAGGTGAGAAACCCTACAAATGTAATGAGTGTGAAAAAACC...</td>\n",
       "      <td>0</td>\n",
       "      <td>32</td>\n",
       "    </tr>\n",
       "    <tr>\n",
       "      <th>6446</th>\n",
       "      <td>ATTACACTTTCAAGGTTTCTCTCCACTATGAAGTCTATGATGGTAT...</td>\n",
       "      <td>0</td>\n",
       "      <td>32</td>\n",
       "    </tr>\n",
       "    <tr>\n",
       "      <th>6447</th>\n",
       "      <td>TTACATTTGTAAGGCTTCTCTCCAGTATGGATGACCTGATGGGTAG...</td>\n",
       "      <td>0</td>\n",
       "      <td>32</td>\n",
       "    </tr>\n",
       "    <tr>\n",
       "      <th>6448</th>\n",
       "      <td>TTCATACTGGAGAGAAACCCTACAAATGCAAAGAATGTTGCAAAGC...</td>\n",
       "      <td>0</td>\n",
       "      <td>32</td>\n",
       "    </tr>\n",
       "    <tr>\n",
       "      <th>6449</th>\n",
       "      <td>ATTACATTTATAAGCTTTTTCTCCAGTATGAATTCTCCAATGATAT...</td>\n",
       "      <td>0</td>\n",
       "      <td>32</td>\n",
       "    </tr>\n",
       "  </tbody>\n",
       "</table>\n",
       "<p>6450 rows × 3 columns</p>\n",
       "</div>"
      ],
      "text/plain": [
       "                                                   data  class  TF\n",
       "0     AGGGCAGTTCCCAATTACCCAAAGGGATCTTGAGGTTCAGAGACAT...      1  32\n",
       "1     ACACTGGAGAGAAACCCTATGAGTGTAAGCAATGTGGGAAAGCCTT...      1  32\n",
       "2     GCTGACATTTATAGGGTTTCTCTTCTGTGTGAGTTTTTTCATGAAT...      1  32\n",
       "3     TTTTTACATTTATAGGGCTTTTCTCCAGTATGAGTTTTTTTATGCT...      1  32\n",
       "4     TTTTTACATTTATAGGGCTTTTCTCCAGTATGAGTTTTTTTATGCT...      1  32\n",
       "...                                                 ...    ...  ..\n",
       "6445  TCATACAGGTGAGAAACCCTACAAATGTAATGAGTGTGAAAAAACC...      0  32\n",
       "6446  ATTACACTTTCAAGGTTTCTCTCCACTATGAAGTCTATGATGGTAT...      0  32\n",
       "6447  TTACATTTGTAAGGCTTCTCTCCAGTATGGATGACCTGATGGGTAG...      0  32\n",
       "6448  TTCATACTGGAGAGAAACCCTACAAATGCAAAGAATGTTGCAAAGC...      0  32\n",
       "6449  ATTACATTTATAAGCTTTTTCTCCAGTATGAATTCTCCAATGATAT...      0  32\n",
       "\n",
       "[6450 rows x 3 columns]"
      ]
     },
     "execution_count": 11,
     "metadata": {},
     "output_type": "execute_result"
    }
   ],
   "source": [
    "# Map tf_class to tf column\n",
    "df['TF'] = df['TF'].map(tf_class).apply(lambda x: x[0])\n",
    "\n",
    "df"
   ]
  },
  {
   "cell_type": "markdown",
   "id": "fd9c1045",
   "metadata": {},
   "source": [
    "# Sequence length inspection and normalization"
   ]
  },
  {
   "cell_type": "code",
   "execution_count": 12,
   "id": "d33c9269",
   "metadata": {},
   "outputs": [
    {
     "name": "stdout",
     "output_type": "stream",
     "text": [
      "Max length:200, Min length: 200\n"
     ]
    },
    {
     "data": {
      "image/png": "[encoded data removed]",
      "text/plain": [
       "<Figure size 640x480 with 1 Axes>"
      ]
     },
     "metadata": {},
     "output_type": "display_data"
    }
   ],
   "source": [
    "lengths= [len(item) for item in df['data']] \n",
    "print(f'Max length:{max(lengths)}, Min length: {min(lengths)}')\n",
    "import matplotlib.pyplot as plt\n",
    "# Plotting the histogram\n",
    "plt.hist(lengths, bins=10, color='blue', edgecolor='black')\n",
    "plt.title('Histogram of Lengths')\n",
    "plt.xlabel('Length')\n",
    "plt.ylabel('Frequency')\n",
    "plt.show()"
   ]
  },
  {
   "cell_type": "code",
   "execution_count": 13,
   "id": "292502f4",
   "metadata": {},
   "outputs": [],
   "source": [
    "# Find the maximum length of sequences\n",
    "#min_length = min(len(seq) for seq in df['data'])\n",
    "limit=200\n",
    "\n",
    "\n",
    "# Pad or cut sequences to ensure they all have the same length\n",
    "cut_sequences = [seq[:limit] for seq in df['data']]\n",
    "\n",
    "# Update the DataFrame with the cut sequences\n",
    "#df['data'] = cut_sequences"
   ]
  },
  {
   "cell_type": "code",
   "execution_count": 14,
   "id": "84f394a8",
   "metadata": {},
   "outputs": [
    {
     "name": "stdout",
     "output_type": "stream",
     "text": [
      "Max length:200, Min length: 200\n"
     ]
    }
   ],
   "source": [
    "lengths= [len(item) for item in cut_sequences]\n",
    "print(f'Max length:{max(lengths)}, Min length: {min(lengths)}')"
   ]
  },
  {
   "cell_type": "markdown",
   "id": "9b65d644",
   "metadata": {},
   "source": [
    "# Define X,y variables"
   ]
  },
  {
   "cell_type": "code",
   "execution_count": 15,
   "id": "f9e96a80",
   "metadata": {},
   "outputs": [],
   "source": [
    "X=[one_hot_encode(sequence) for sequence in cut_sequences]"
   ]
  },
  {
   "cell_type": "code",
   "execution_count": 16,
   "id": "2ab32859",
   "metadata": {},
   "outputs": [],
   "source": [
    "X = torch.from_numpy(np.array(X)).type(torch.float)\n"
   ]
  },
  {
   "cell_type": "code",
   "execution_count": 17,
   "id": "0bf2a817",
   "metadata": {},
   "outputs": [
    {
     "data": {
      "text/plain": [
       "torch.Size([6450, 200, 4])"
      ]
     },
     "execution_count": 17,
     "metadata": {},
     "output_type": "execute_result"
    }
   ],
   "source": [
    "X.shape"
   ]
  },
  {
   "cell_type": "code",
   "execution_count": 18,
   "id": "9aec20e4",
   "metadata": {},
   "outputs": [
    {
     "data": {
      "text/plain": [
       "array([32, 32, 32])"
      ]
     },
     "execution_count": 18,
     "metadata": {},
     "output_type": "execute_result"
    }
   ],
   "source": [
    "y=np.array(df['TF'])\n",
    "#y=np.array(df['class'])\n",
    "\n",
    "y[:3]"
   ]
  },
  {
   "cell_type": "code",
   "execution_count": 19,
   "id": "b9399dc8",
   "metadata": {},
   "outputs": [],
   "source": [
    "y = torch.from_numpy(y).type(torch.float)"
   ]
  },
  {
   "cell_type": "markdown",
   "id": "cd869133",
   "metadata": {},
   "source": [
    "# Split the data in train, val and test set"
   ]
  },
  {
   "cell_type": "code",
   "execution_count": 20,
   "id": "f4a1304f",
   "metadata": {},
   "outputs": [
    {
     "name": "stdout",
     "output_type": "stream",
     "text": [
      "4128 4128 1032 1032\n",
      "1290 1290\n"
     ]
    }
   ],
   "source": [
    "from sklearn.model_selection import train_test_split\n",
    "from sklearn.model_selection import StratifiedShuffleSplit\n",
    "\n",
    "\n",
    "\n",
    "# Split the data into a stratified hold-out validation set and the rest\n",
    "stratified_splitter = StratifiedShuffleSplit(n_splits=1, test_size=0.2, random_state=42)\n",
    "\n",
    "for train_val_index, test_index in stratified_splitter.split(X, y):\n",
    "    X_train_val, X_test = X[train_val_index], X[test_index]\n",
    "    y_train_val, y_test = y[train_val_index], y[test_index]\n",
    "\n",
    "# Split the remaining data into training and validation sets\n",
    "X_train, X_val, y_train, y_val = train_test_split(X_train_val, y_train_val, test_size=0.2, stratify=y_train_val, random_state=42)\n",
    "\n",
    "print(len(X_train), len(y_train), len(X_val), len(y_val))\n",
    "print(len(X_test), len(y_test))\n",
    "\n",
    "\n",
    "# (X_train, X_val, y_train, y_val) for training, validation\n",
    "# X_test, y_test for the final hold-out validation.\n",
    "\n",
    "#X_train, X_val, X_test = torch.from_numpy(X_train).type(torch.float),torch.from_numpy(X_val).type(torch.float), torch.from_numpy(X_test).type(torch.float)\n",
    "\n"
   ]
  },
  {
   "cell_type": "markdown",
   "id": "002ed2cf",
   "metadata": {},
   "source": [
    "# Create datasets and Dataloaders"
   ]
  },
  {
   "cell_type": "code",
   "execution_count": 21,
   "id": "18eb7a94",
   "metadata": {},
   "outputs": [
    {
     "name": "stdout",
     "output_type": "stream",
     "text": [
      "4128 4128\n"
     ]
    }
   ],
   "source": [
    "from torch.utils.data import DataLoader, TensorDataset\n",
    "torch.manual_seed(42)\n",
    "\"\"\"\n",
    "\n",
    "# Expand the dimensions of y to make it 2-dimensional\n",
    "y_train = y_train.view(-1, 1)\n",
    "y_test = y_test.view(-1,1)\n",
    "y_val = y_val.view(-1,1)\n",
    "# Concatenate the complement of y to create a 2-dimensional tensor\n",
    "\n",
    "y_train_one_hot = torch.cat([1 - y_train, y_train], dim=1).float()\n",
    "y_test_one_hot = torch.cat([1 - y_test, y_test], dim=1).float()\n",
    "y_val_one_hot = torch.cat([1 - y_val, y_val], dim=1).float()\n",
    "\"\"\"\n",
    "\n",
    "# Move tensors to the same device\n",
    "X_train, y_train = X_train.to(device), y_train.to(device)\n",
    "X_val, y_val = X_val.to(device), y_val.to(device)\n",
    "X_test, y_test = X_test.to(device), y_test.to(device)\n",
    "\n",
    "\n",
    "print(X_train.size(0),  y_train.size(0))\n",
    "\n",
    "# Create datasets\n",
    "train_dataset = TensorDataset(X_train, y_train)\n",
    "val_dataset = TensorDataset(X_val, y_val)\n",
    "test_dataset = TensorDataset(X_test, y_test)\n",
    "\n"
   ]
  },
  {
   "cell_type": "code",
   "execution_count": 22,
   "id": "44fc5e58",
   "metadata": {},
   "outputs": [],
   "source": [
    "helper_functions.set_seeds()\n",
    "batch_size=64\n",
    "\n",
    "\n",
    "# Convert to PyTorch DataLoader\n",
    "train_loader = DataLoader(train_dataset, batch_size=batch_size, shuffle=True)\n",
    "val_loader = DataLoader(val_dataset, batch_size=batch_size, shuffle=True)\n",
    "test_loader = DataLoader(test_dataset, batch_size=batch_size, shuffle=True)"
   ]
  },
  {
   "cell_type": "markdown",
   "id": "d20e4bb7",
   "metadata": {},
   "source": [
    "# Construct a 1 layer CNN with Maxpooling and Dropout"
   ]
  },
  {
   "cell_type": "code",
   "execution_count": 23,
   "id": "9c0dfed6",
   "metadata": {},
   "outputs": [],
   "source": [
    "class Conv_v0(torch.nn.Module):\n",
    "\n",
    "    def __init__(self):\n",
    "        super(Conv_v0, self).__init__()\n",
    "\n",
    "        self.conv1 = torch.nn.Conv1d(in_channels=4, out_channels=5, kernel_size=17)\n",
    "        self.activation = torch.nn.ReLU()\n",
    "        self.maxpool = torch.nn.MaxPool1d(kernel_size=2)\n",
    "        \n",
    "        self.dropout = torch.nn.Dropout(p=0.25) \n",
    "        #in_features = 108 for 200kb, 588 for 1kb, 1188 for 2kb\n",
    "        self.fc =  torch.nn.LazyLinear(out_features=33)\n",
    "        #self.sigmoid = torch.nn.Sigmoid() will not be used since its intergraded in BCEWithLogitsLoss()\n",
    "        self.softmax = nn.Softmax(dim=1)\n",
    "\n",
    "    def forward(self, x):\n",
    "        x= x.permute(0, 2, 1)\n",
    "        x = self.conv1(x)\n",
    "        x = self.activation(x)\n",
    "        x = self.maxpool(x)\n",
    "        \n",
    "        # Reshape the output of the max pooling layer before passing it to the fully connected layer\n",
    "        x = x.view(x.size(0), -1)\n",
    "        \n",
    "        #print(\"Size after reshaping:\", x.size())\n",
    "        x=self.dropout(x)\n",
    "        x = self.fc(x)\n",
    "        #print(x.size())\n",
    "        x = self.softmax(x)\n",
    "        #x = self.sigmoid(x)\n",
    "        return x\n"
   ]
  },
  {
   "cell_type": "markdown",
   "id": "2e8a6635",
   "metadata": {},
   "source": [
    "# Computing class weights"
   ]
  },
  {
   "cell_type": "code",
   "execution_count": 24,
   "id": "fe54bd0e",
   "metadata": {},
   "outputs": [
    {
     "data": {
      "text/plain": [
       "'\\nfrom torch.utils.data import DataLoader, TensorDataset\\nfrom sklearn.utils.class_weight import compute_class_weight\\n\\n# Assuming we have defined dataset\\n# train_dataset = TensorDataset(X_train, y_train_one_hot, y_train)\\n\\n# Extract the labels from the dataset\\n_, _, y_train = zip(*train_dataset)\\n\\n# Count occurrences of each class\\nclass_0_count = sum(1 for label in y_train if label == 0)\\nclass_1_count = sum(1 for label in y_train if label == 1)\\n\\n# Total length of y_train\\ntotal_samples = len(y_train)\\n\\n# Calculate class weights\\nweights = [total_samples / class_0_count, total_samples / class_1_count]\\n\\n# Print the list of class weights\\nprint(\"Class Weights List:\", weights)\\n\\n\\n'"
      ]
     },
     "execution_count": 24,
     "metadata": {},
     "output_type": "execute_result"
    }
   ],
   "source": [
    "\"\"\"\n",
    "from torch.utils.data import DataLoader, TensorDataset\n",
    "from sklearn.utils.class_weight import compute_class_weight\n",
    "\n",
    "# Assuming we have defined dataset\n",
    "# train_dataset = TensorDataset(X_train, y_train_one_hot, y_train)\n",
    "\n",
    "# Extract the labels from the dataset\n",
    "_, _, y_train = zip(*train_dataset)\n",
    "\n",
    "# Count occurrences of each class\n",
    "class_0_count = sum(1 for label in y_train if label == 0)\n",
    "class_1_count = sum(1 for label in y_train if label == 1)\n",
    "\n",
    "# Total length of y_train\n",
    "total_samples = len(y_train)\n",
    "\n",
    "# Calculate class weights\n",
    "weights = [total_samples / class_0_count, total_samples / class_1_count]\n",
    "\n",
    "# Print the list of class weights\n",
    "print(\"Class Weights List:\", weights)\n",
    "\n",
    "\n",
    "\"\"\""
   ]
  },
  {
   "cell_type": "markdown",
   "id": "40b134d4",
   "metadata": {},
   "source": [
    "# Set up loss function and optimizer"
   ]
  },
  {
   "cell_type": "code",
   "execution_count": 25,
   "id": "948d9087",
   "metadata": {},
   "outputs": [],
   "source": [
    "from torch.optim import lr_scheduler\n",
    "#weights = torch.tensor(weights).to(device)\n",
    "#print(weights)"
   ]
  },
  {
   "cell_type": "code",
   "execution_count": 26,
   "id": "30cf0daa",
   "metadata": {},
   "outputs": [
    {
     "name": "stderr",
     "output_type": "stream",
     "text": [
      "/mnt/raid1/thalassini/home/anaconda3/lib/python3.11/site-packages/torch/nn/modules/lazy.py:180: UserWarning: Lazy modules are a new feature under heavy development so changes to the API or functionality can happen at any moment.\n",
      "  warnings.warn('Lazy modules are a new feature under heavy development '\n"
     ]
    }
   ],
   "source": [
    "torch.manual_seed(42)\n",
    "\n",
    "# Initialize model instance\n",
    "model = Conv_v0()\n",
    "\n",
    "#loss_fn = nn.BCEWithLogitsLoss(weight=weights)\n",
    "loss_fn = nn.CrossEntropyLoss()\n",
    "\n",
    "# Define oprimizer\n",
    "optimizer = torch.optim.SGD(model.parameters(), lr=0.0001)\n",
    "\n",
    "# Define exponetntial lr with lr_scheduler\n",
    "#exp_lr_scheduler = lr_scheduler.ExponentialLR(optimizer, gamma=0.01)"
   ]
  },
  {
   "cell_type": "code",
   "execution_count": 27,
   "id": "e1d337c9",
   "metadata": {},
   "outputs": [
    {
     "data": {
      "text/plain": [
       "tensor([[0.0347, 0.0305, 0.0329, 0.0298, 0.0290, 0.0311, 0.0230, 0.0335, 0.0309,\n",
       "         0.0270, 0.0377, 0.0296, 0.0325, 0.0325, 0.0291, 0.0359, 0.0254, 0.0274,\n",
       "         0.0290, 0.0284, 0.0289, 0.0245, 0.0273, 0.0321, 0.0275, 0.0360, 0.0308,\n",
       "         0.0259, 0.0235, 0.0399, 0.0336, 0.0343, 0.0258],\n",
       "        [0.0307, 0.0337, 0.0297, 0.0305, 0.0270, 0.0265, 0.0243, 0.0306, 0.0339,\n",
       "         0.0283, 0.0329, 0.0280, 0.0378, 0.0315, 0.0317, 0.0304, 0.0261, 0.0317,\n",
       "         0.0313, 0.0333, 0.0255, 0.0259, 0.0278, 0.0318, 0.0296, 0.0377, 0.0280,\n",
       "         0.0271, 0.0265, 0.0344, 0.0348, 0.0322, 0.0287],\n",
       "        [0.0248, 0.0335, 0.0344, 0.0316, 0.0268, 0.0340, 0.0275, 0.0334, 0.0320,\n",
       "         0.0351, 0.0371, 0.0255, 0.0336, 0.0334, 0.0313, 0.0328, 0.0247, 0.0303,\n",
       "         0.0281, 0.0275, 0.0317, 0.0298, 0.0240, 0.0288, 0.0314, 0.0273, 0.0312,\n",
       "         0.0234, 0.0244, 0.0364, 0.0317, 0.0298, 0.0324],\n",
       "        [0.0314, 0.0339, 0.0350, 0.0292, 0.0265, 0.0268, 0.0239, 0.0335, 0.0308,\n",
       "         0.0278, 0.0420, 0.0310, 0.0326, 0.0322, 0.0273, 0.0377, 0.0219, 0.0282,\n",
       "         0.0256, 0.0324, 0.0290, 0.0242, 0.0292, 0.0325, 0.0311, 0.0361, 0.0341,\n",
       "         0.0242, 0.0220, 0.0379, 0.0304, 0.0308, 0.0289],\n",
       "        [0.0272, 0.0408, 0.0348, 0.0307, 0.0248, 0.0281, 0.0295, 0.0272, 0.0311,\n",
       "         0.0278, 0.0394, 0.0314, 0.0344, 0.0315, 0.0296, 0.0441, 0.0250, 0.0368,\n",
       "         0.0290, 0.0291, 0.0237, 0.0258, 0.0325, 0.0297, 0.0280, 0.0326, 0.0306,\n",
       "         0.0258, 0.0206, 0.0307, 0.0328, 0.0308, 0.0239]],\n",
       "       grad_fn=<SliceBackward0>)"
      ]
     },
     "execution_count": 27,
     "metadata": {},
     "output_type": "execute_result"
    }
   ],
   "source": [
    "# View the frist 5 outputs of the forward pass on the test data\n",
    "y_logits = model(X_test.to(device))[:5]\n",
    "y_logits"
   ]
  },
  {
   "cell_type": "code",
   "execution_count": 28,
   "id": "2f22305b",
   "metadata": {},
   "outputs": [],
   "source": [
    "# Check number of classes in the model\n",
    "num_classes_model = model.fc.out_features  # Adjust accordingly\n"
   ]
  },
  {
   "cell_type": "code",
   "execution_count": 29,
   "id": "d97bd825",
   "metadata": {},
   "outputs": [
    {
     "data": {
      "text/plain": [
       "33"
      ]
     },
     "execution_count": 29,
     "metadata": {},
     "output_type": "execute_result"
    }
   ],
   "source": [
    "num_classes_model"
   ]
  },
  {
   "cell_type": "code",
   "execution_count": 30,
   "id": "fdfb5e26",
   "metadata": {
    "scrolled": false
   },
   "outputs": [
    {
     "data": {
      "application/vnd.jupyter.widget-view+json": {
       "model_id": "dad83d97f6cf462c929fe1a177e1e02b",
       "version_major": 2,
       "version_minor": 0
      },
      "text/plain": [
       "  0%|          | 0/200 [00:00<?, ?it/s]"
      ]
     },
     "metadata": {},
     "output_type": "display_data"
    },
    {
     "name": "stdout",
     "output_type": "stream",
     "text": [
      "Epoch: 1 | train_loss: 3.4963 | train_bal_acc: 0.0000 | train_mcc: 0.0000 | train_auroc: 0.5000  |  valid_loss: 3.4963 | valid_bal_acc: 0.0018 | valid_mcc: 0.0000  |  valid_auroc: 0.5000\n",
      "Epoch: 2 | train_loss: 3.4962 | train_bal_acc: 0.0000 | train_mcc: 0.0000 | train_auroc: 0.5000  |  valid_loss: 3.4962 | valid_bal_acc: 0.0018 | valid_mcc: 0.0000  |  valid_auroc: 0.5000\n",
      "Epoch: 3 | train_loss: 3.4962 | train_bal_acc: 0.0000 | train_mcc: 0.0000 | train_auroc: 0.5000  |  valid_loss: 3.4962 | valid_bal_acc: 0.0028 | valid_mcc: 0.0000  |  valid_auroc: 0.5000\n",
      "Epoch: 4 | train_loss: 3.4961 | train_bal_acc: 0.0000 | train_mcc: 0.0000 | train_auroc: 0.5000  |  valid_loss: 3.4961 | valid_bal_acc: 0.0028 | valid_mcc: 0.0000  |  valid_auroc: 0.5000\n",
      "Epoch: 5 | train_loss: 3.4959 | train_bal_acc: 0.0000 | train_mcc: 0.0000 | train_auroc: 0.5000  |  valid_loss: 3.4960 | valid_bal_acc: 0.0028 | valid_mcc: 0.0000  |  valid_auroc: 0.5000\n",
      "Epoch: 6 | train_loss: 3.4957 | train_bal_acc: 0.0000 | train_mcc: 0.0000 | train_auroc: 0.5000  |  valid_loss: 3.4959 | valid_bal_acc: 0.0028 | valid_mcc: 0.0000  |  valid_auroc: 0.5000\n",
      "Epoch: 7 | train_loss: 3.4957 | train_bal_acc: 0.0000 | train_mcc: 0.0000 | train_auroc: 0.5000  |  valid_loss: 3.4957 | valid_bal_acc: 0.0028 | valid_mcc: 0.0000  |  valid_auroc: 0.5000\n",
      "Epoch: 8 | train_loss: 3.4956 | train_bal_acc: 0.0000 | train_mcc: 0.0000 | train_auroc: 0.5000  |  valid_loss: 3.4957 | valid_bal_acc: 0.0028 | valid_mcc: 0.0000  |  valid_auroc: 0.5000\n",
      "Epoch: 9 | train_loss: 3.4956 | train_bal_acc: 0.0000 | train_mcc: 0.0000 | train_auroc: 0.5000  |  valid_loss: 3.4955 | valid_bal_acc: 0.0037 | valid_mcc: 0.0000  |  valid_auroc: 0.5000\n",
      "Epoch: 10 | train_loss: 3.4955 | train_bal_acc: 0.0000 | train_mcc: 0.0000 | train_auroc: 0.5000  |  valid_loss: 3.4954 | valid_bal_acc: 0.0037 | valid_mcc: 0.0000  |  valid_auroc: 0.5000\n",
      "Epoch: 11 | train_loss: 3.4954 | train_bal_acc: 0.0000 | train_mcc: 0.0000 | train_auroc: 0.5000  |  valid_loss: 3.4953 | valid_bal_acc: 0.0037 | valid_mcc: 0.0000  |  valid_auroc: 0.5000\n",
      "Epoch: 12 | train_loss: 3.4952 | train_bal_acc: 0.0000 | train_mcc: 0.0000 | train_auroc: 0.5000  |  valid_loss: 3.4952 | valid_bal_acc: 0.0119 | valid_mcc: 0.0000  |  valid_auroc: 0.5000\n",
      "Epoch: 13 | train_loss: 3.4952 | train_bal_acc: 0.0000 | train_mcc: 0.0000 | train_auroc: 0.5000  |  valid_loss: 3.4952 | valid_bal_acc: 0.0055 | valid_mcc: 0.0000  |  valid_auroc: 0.5000\n",
      "Epoch: 14 | train_loss: 3.4951 | train_bal_acc: 0.0000 | train_mcc: 0.0000 | train_auroc: 0.5000  |  valid_loss: 3.4950 | valid_bal_acc: 0.0064 | valid_mcc: 0.0000  |  valid_auroc: 0.5000\n",
      "Epoch: 15 | train_loss: 3.4950 | train_bal_acc: 0.0000 | train_mcc: 0.0000 | train_auroc: 0.5000  |  valid_loss: 3.4950 | valid_bal_acc: 0.0074 | valid_mcc: 0.0000  |  valid_auroc: 0.5000\n",
      "Epoch: 16 | train_loss: 3.4950 | train_bal_acc: 0.0000 | train_mcc: 0.0000 | train_auroc: 0.5000  |  valid_loss: 3.4949 | valid_bal_acc: 0.0083 | valid_mcc: 0.0000  |  valid_auroc: 0.5000\n",
      "Epoch: 17 | train_loss: 3.4947 | train_bal_acc: 0.0000 | train_mcc: 0.0000 | train_auroc: 0.5000  |  valid_loss: 3.4948 | valid_bal_acc: 0.0092 | valid_mcc: 0.0000  |  valid_auroc: 0.5000\n",
      "Epoch: 18 | train_loss: 3.4947 | train_bal_acc: 0.0000 | train_mcc: 0.0000 | train_auroc: 0.5000  |  valid_loss: 3.4948 | valid_bal_acc: 0.0101 | valid_mcc: 0.0000  |  valid_auroc: 0.5000\n",
      "Epoch: 19 | train_loss: 3.4945 | train_bal_acc: 0.0000 | train_mcc: 0.0000 | train_auroc: 0.5000  |  valid_loss: 3.4946 | valid_bal_acc: 0.0110 | valid_mcc: 0.0000  |  valid_auroc: 0.5000\n",
      "Epoch: 20 | train_loss: 3.4944 | train_bal_acc: 0.0000 | train_mcc: 0.0000 | train_auroc: 0.5000  |  valid_loss: 3.4945 | valid_bal_acc: 0.0119 | valid_mcc: 0.0000  |  valid_auroc: 0.5000\n",
      "Epoch: 21 | train_loss: 3.4944 | train_bal_acc: 0.0000 | train_mcc: 0.0000 | train_auroc: 0.5000  |  valid_loss: 3.4944 | valid_bal_acc: 0.0138 | valid_mcc: 0.0000  |  valid_auroc: 0.5000\n",
      "Epoch: 22 | train_loss: 3.4942 | train_bal_acc: 0.0000 | train_mcc: 0.0000 | train_auroc: 0.5000  |  valid_loss: 3.4944 | valid_bal_acc: 0.0165 | valid_mcc: 0.0000  |  valid_auroc: 0.5000\n",
      "Epoch: 23 | train_loss: 3.4942 | train_bal_acc: 0.0000 | train_mcc: 0.0000 | train_auroc: 0.5000  |  valid_loss: 3.4943 | valid_bal_acc: 0.0184 | valid_mcc: 0.0000  |  valid_auroc: 0.5000\n",
      "Epoch: 24 | train_loss: 3.4940 | train_bal_acc: 0.0000 | train_mcc: 0.0000 | train_auroc: 0.5000  |  valid_loss: 3.4941 | valid_bal_acc: 0.0221 | valid_mcc: 0.0000  |  valid_auroc: 0.5000\n",
      "Epoch: 25 | train_loss: 3.4940 | train_bal_acc: 0.0000 | train_mcc: 0.0000 | train_auroc: 0.5000  |  valid_loss: 3.4939 | valid_bal_acc: 0.0230 | valid_mcc: 0.0000  |  valid_auroc: 0.5000\n",
      "Epoch: 26 | train_loss: 3.4938 | train_bal_acc: 0.0000 | train_mcc: 0.0000 | train_auroc: 0.5000  |  valid_loss: 3.4939 | valid_bal_acc: 0.0257 | valid_mcc: 0.0000  |  valid_auroc: 0.5000\n",
      "Epoch: 27 | train_loss: 3.4938 | train_bal_acc: 0.0000 | train_mcc: 0.0000 | train_auroc: 0.5000  |  valid_loss: 3.4938 | valid_bal_acc: 0.0285 | valid_mcc: 0.0000  |  valid_auroc: 0.5000\n",
      "Epoch: 28 | train_loss: 3.4937 | train_bal_acc: 0.0000 | train_mcc: 0.0000 | train_auroc: 0.5000  |  valid_loss: 3.4937 | valid_bal_acc: 0.0404 | valid_mcc: 0.0000  |  valid_auroc: 0.5000\n",
      "Epoch: 29 | train_loss: 3.4935 | train_bal_acc: 0.0000 | train_mcc: 0.0000 | train_auroc: 0.5000  |  valid_loss: 3.4936 | valid_bal_acc: 0.0358 | valid_mcc: 0.0000  |  valid_auroc: 0.5000\n",
      "Epoch: 30 | train_loss: 3.4934 | train_bal_acc: 0.0000 | train_mcc: 0.0000 | train_auroc: 0.5000  |  valid_loss: 3.4934 | valid_bal_acc: 0.0450 | valid_mcc: 0.0000  |  valid_auroc: 0.5000\n",
      "Epoch: 31 | train_loss: 3.4933 | train_bal_acc: 0.0000 | train_mcc: 0.0000 | train_auroc: 0.5000  |  valid_loss: 3.4934 | valid_bal_acc: 0.0423 | valid_mcc: 0.0000  |  valid_auroc: 0.5000\n",
      "Epoch: 32 | train_loss: 3.4933 | train_bal_acc: 0.0000 | train_mcc: 0.0000 | train_auroc: 0.5000  |  valid_loss: 3.4934 | valid_bal_acc: 0.0478 | valid_mcc: 0.0000  |  valid_auroc: 0.5000\n",
      "Epoch: 33 | train_loss: 3.4931 | train_bal_acc: 0.0000 | train_mcc: 0.0000 | train_auroc: 0.5000  |  valid_loss: 3.4931 | valid_bal_acc: 0.0625 | valid_mcc: 0.0000  |  valid_auroc: 0.5000\n",
      "Epoch: 34 | train_loss: 3.4931 | train_bal_acc: 0.0000 | train_mcc: 0.0000 | train_auroc: 0.5000  |  valid_loss: 3.4930 | valid_bal_acc: 0.0643 | valid_mcc: 0.0000  |  valid_auroc: 0.5000\n",
      "Epoch: 35 | train_loss: 3.4929 | train_bal_acc: 0.0000 | train_mcc: 0.0000 | train_auroc: 0.5000  |  valid_loss: 3.4929 | valid_bal_acc: 0.0643 | valid_mcc: 0.0000  |  valid_auroc: 0.5000\n",
      "Epoch: 36 | train_loss: 3.4927 | train_bal_acc: 0.0000 | train_mcc: 0.0000 | train_auroc: 0.5000  |  valid_loss: 3.4928 | valid_bal_acc: 0.0790 | valid_mcc: 0.0000  |  valid_auroc: 0.5000\n",
      "Epoch: 37 | train_loss: 3.4927 | train_bal_acc: 0.0000 | train_mcc: 0.0000 | train_auroc: 0.5000  |  valid_loss: 3.4928 | valid_bal_acc: 0.0910 | valid_mcc: 0.0000  |  valid_auroc: 0.5000\n",
      "Epoch: 38 | train_loss: 3.4925 | train_bal_acc: 0.0000 | train_mcc: 0.0000 | train_auroc: 0.5000  |  valid_loss: 3.4926 | valid_bal_acc: 0.0892 | valid_mcc: 0.0000  |  valid_auroc: 0.5000\n",
      "Epoch: 39 | train_loss: 3.4925 | train_bal_acc: 0.0000 | train_mcc: 0.0000 | train_auroc: 0.5000  |  valid_loss: 3.4925 | valid_bal_acc: 0.0892 | valid_mcc: 0.0000  |  valid_auroc: 0.5000\n",
      "Epoch: 40 | train_loss: 3.4924 | train_bal_acc: 0.0000 | train_mcc: 0.0000 | train_auroc: 0.5000  |  valid_loss: 3.4924 | valid_bal_acc: 0.0947 | valid_mcc: 0.0000  |  valid_auroc: 0.5000\n",
      "Epoch: 41 | train_loss: 3.4922 | train_bal_acc: 0.0000 | train_mcc: 0.0000 | train_auroc: 0.5000  |  valid_loss: 3.4922 | valid_bal_acc: 0.1085 | valid_mcc: 0.0000  |  valid_auroc: 0.5000\n",
      "Epoch: 42 | train_loss: 3.4921 | train_bal_acc: 0.0000 | train_mcc: 0.0000 | train_auroc: 0.5000  |  valid_loss: 3.4922 | valid_bal_acc: 0.1158 | valid_mcc: 0.0000  |  valid_auroc: 0.5000\n",
      "Epoch: 43 | train_loss: 3.4920 | train_bal_acc: 0.0000 | train_mcc: 0.0000 | train_auroc: 0.5000  |  valid_loss: 3.4920 | valid_bal_acc: 0.1149 | valid_mcc: 0.0000  |  valid_auroc: 0.5000\n",
      "Epoch: 44 | train_loss: 3.4919 | train_bal_acc: 0.0000 | train_mcc: 0.0000 | train_auroc: 0.5000  |  valid_loss: 3.4919 | valid_bal_acc: 0.1204 | valid_mcc: 0.0000  |  valid_auroc: 0.5000\n"
     ]
    },
    {
     "name": "stdout",
     "output_type": "stream",
     "text": [
      "Epoch: 45 | train_loss: 3.4917 | train_bal_acc: 0.0000 | train_mcc: 0.0000 | train_auroc: 0.5000  |  valid_loss: 3.4917 | valid_bal_acc: 0.1351 | valid_mcc: 0.0000  |  valid_auroc: 0.5000\n",
      "Epoch: 46 | train_loss: 3.4916 | train_bal_acc: 0.0000 | train_mcc: 0.0000 | train_auroc: 0.5000  |  valid_loss: 3.4918 | valid_bal_acc: 0.1342 | valid_mcc: 0.0000  |  valid_auroc: 0.5000\n",
      "Epoch: 47 | train_loss: 3.4915 | train_bal_acc: 0.0000 | train_mcc: 0.0000 | train_auroc: 0.5000  |  valid_loss: 3.4916 | valid_bal_acc: 0.1480 | valid_mcc: 0.0000  |  valid_auroc: 0.5000\n",
      "Epoch: 48 | train_loss: 3.4914 | train_bal_acc: 0.0000 | train_mcc: 0.0000 | train_auroc: 0.5000  |  valid_loss: 3.4914 | valid_bal_acc: 0.1562 | valid_mcc: 0.0000  |  valid_auroc: 0.5000\n",
      "Epoch: 49 | train_loss: 3.4913 | train_bal_acc: 0.0000 | train_mcc: 0.0000 | train_auroc: 0.5000  |  valid_loss: 3.4913 | valid_bal_acc: 0.1691 | valid_mcc: 0.0000  |  valid_auroc: 0.5000\n",
      "Epoch: 50 | train_loss: 3.4911 | train_bal_acc: 0.0000 | train_mcc: 0.0000 | train_auroc: 0.5000  |  valid_loss: 3.4912 | valid_bal_acc: 0.1765 | valid_mcc: 0.0000  |  valid_auroc: 0.5000\n",
      "Epoch: 51 | train_loss: 3.4910 | train_bal_acc: 0.0000 | train_mcc: 0.0000 | train_auroc: 0.5000  |  valid_loss: 3.4911 | valid_bal_acc: 0.1903 | valid_mcc: 0.0000  |  valid_auroc: 0.5000\n",
      "Epoch: 52 | train_loss: 3.4909 | train_bal_acc: 0.0000 | train_mcc: 0.0000 | train_auroc: 0.5000  |  valid_loss: 3.4909 | valid_bal_acc: 0.2086 | valid_mcc: 0.0000  |  valid_auroc: 0.5000\n",
      "Epoch: 53 | train_loss: 3.4908 | train_bal_acc: 0.0000 | train_mcc: 0.0000 | train_auroc: 0.5000  |  valid_loss: 3.4908 | valid_bal_acc: 0.2132 | valid_mcc: 0.0000  |  valid_auroc: 0.5000\n",
      "Epoch: 54 | train_loss: 3.4906 | train_bal_acc: 0.0000 | train_mcc: 0.0000 | train_auroc: 0.5000  |  valid_loss: 3.4906 | valid_bal_acc: 0.2215 | valid_mcc: 0.0000  |  valid_auroc: 0.5000\n",
      "Epoch: 55 | train_loss: 3.4905 | train_bal_acc: 0.0000 | train_mcc: 0.0000 | train_auroc: 0.5000  |  valid_loss: 3.4906 | valid_bal_acc: 0.2279 | valid_mcc: 0.0000  |  valid_auroc: 0.5000\n",
      "Epoch: 56 | train_loss: 3.4904 | train_bal_acc: 0.0000 | train_mcc: 0.0000 | train_auroc: 0.5000  |  valid_loss: 3.4904 | valid_bal_acc: 0.2454 | valid_mcc: 0.0000  |  valid_auroc: 0.5000\n",
      "Epoch: 57 | train_loss: 3.4902 | train_bal_acc: 0.0000 | train_mcc: 0.0000 | train_auroc: 0.5000  |  valid_loss: 3.4902 | valid_bal_acc: 0.2739 | valid_mcc: 0.0000  |  valid_auroc: 0.5000\n",
      "Epoch: 58 | train_loss: 3.4901 | train_bal_acc: 0.0000 | train_mcc: 0.0000 | train_auroc: 0.5000  |  valid_loss: 3.4900 | valid_bal_acc: 0.2693 | valid_mcc: 0.0000  |  valid_auroc: 0.5000\n",
      "Epoch: 59 | train_loss: 3.4900 | train_bal_acc: 0.0000 | train_mcc: 0.0000 | train_auroc: 0.5000  |  valid_loss: 3.4900 | valid_bal_acc: 0.2794 | valid_mcc: 0.0000  |  valid_auroc: 0.5000\n",
      "Epoch: 60 | train_loss: 3.4897 | train_bal_acc: 0.0000 | train_mcc: 0.0000 | train_auroc: 0.5000  |  valid_loss: 3.4898 | valid_bal_acc: 0.2996 | valid_mcc: 0.0000  |  valid_auroc: 0.5000\n",
      "Epoch: 61 | train_loss: 3.4896 | train_bal_acc: 0.0000 | train_mcc: 0.0000 | train_auroc: 0.5000  |  valid_loss: 3.4897 | valid_bal_acc: 0.3171 | valid_mcc: 0.0000  |  valid_auroc: 0.5000\n",
      "Epoch: 62 | train_loss: 3.4895 | train_bal_acc: 0.0000 | train_mcc: 0.0000 | train_auroc: 0.5000  |  valid_loss: 3.4896 | valid_bal_acc: 0.3254 | valid_mcc: 0.0000  |  valid_auroc: 0.5000\n",
      "Epoch: 63 | train_loss: 3.4894 | train_bal_acc: 0.0000 | train_mcc: 0.0000 | train_auroc: 0.5000  |  valid_loss: 3.4893 | valid_bal_acc: 0.3364 | valid_mcc: 0.0000  |  valid_auroc: 0.5000\n",
      "Epoch: 64 | train_loss: 3.4892 | train_bal_acc: 0.0000 | train_mcc: 0.0000 | train_auroc: 0.5000  |  valid_loss: 3.4891 | valid_bal_acc: 0.3732 | valid_mcc: 0.0000  |  valid_auroc: 0.5000\n",
      "Epoch: 65 | train_loss: 3.4891 | train_bal_acc: 0.0000 | train_mcc: 0.0000 | train_auroc: 0.5000  |  valid_loss: 3.4890 | valid_bal_acc: 0.3658 | valid_mcc: 0.0000  |  valid_auroc: 0.5000\n",
      "Epoch: 66 | train_loss: 3.4889 | train_bal_acc: 0.0000 | train_mcc: 0.0000 | train_auroc: 0.5000  |  valid_loss: 3.4889 | valid_bal_acc: 0.3888 | valid_mcc: 0.0000  |  valid_auroc: 0.5000\n",
      "Epoch: 67 | train_loss: 3.4887 | train_bal_acc: 0.0000 | train_mcc: 0.0000 | train_auroc: 0.5000  |  valid_loss: 3.4888 | valid_bal_acc: 0.4062 | valid_mcc: 0.0000  |  valid_auroc: 0.5000\n",
      "Epoch: 68 | train_loss: 3.4886 | train_bal_acc: 0.0000 | train_mcc: 0.0000 | train_auroc: 0.5000  |  valid_loss: 3.4885 | valid_bal_acc: 0.4357 | valid_mcc: 0.0000  |  valid_auroc: 0.5000\n",
      "Epoch: 69 | train_loss: 3.4884 | train_bal_acc: 0.0000 | train_mcc: 0.0000 | train_auroc: 0.5000  |  valid_loss: 3.4885 | valid_bal_acc: 0.4256 | valid_mcc: 0.0000  |  valid_auroc: 0.5000\n",
      "Epoch: 70 | train_loss: 3.4882 | train_bal_acc: 0.0000 | train_mcc: 0.0000 | train_auroc: 0.5000  |  valid_loss: 3.4883 | valid_bal_acc: 0.4651 | valid_mcc: 0.0000  |  valid_auroc: 0.5000\n",
      "Epoch: 71 | train_loss: 3.4880 | train_bal_acc: 0.0000 | train_mcc: 0.0000 | train_auroc: 0.5000  |  valid_loss: 3.4883 | valid_bal_acc: 0.4761 | valid_mcc: 0.0000  |  valid_auroc: 0.5000\n",
      "Epoch: 72 | train_loss: 3.4879 | train_bal_acc: 0.0000 | train_mcc: 0.0000 | train_auroc: 0.5000  |  valid_loss: 3.4879 | valid_bal_acc: 0.4945 | valid_mcc: 0.0000  |  valid_auroc: 0.5000\n",
      "Epoch: 73 | train_loss: 3.4877 | train_bal_acc: 0.0000 | train_mcc: 0.0000 | train_auroc: 0.5000  |  valid_loss: 3.4878 | valid_bal_acc: 0.5028 | valid_mcc: 0.0000  |  valid_auroc: 0.5000\n",
      "Epoch: 74 | train_loss: 3.4876 | train_bal_acc: 0.0000 | train_mcc: 0.0000 | train_auroc: 0.5000  |  valid_loss: 3.4875 | valid_bal_acc: 0.5340 | valid_mcc: 0.0000  |  valid_auroc: 0.5000\n",
      "Epoch: 75 | train_loss: 3.4874 | train_bal_acc: 0.0000 | train_mcc: 0.0000 | train_auroc: 0.5000  |  valid_loss: 3.4874 | valid_bal_acc: 0.5597 | valid_mcc: 0.0000  |  valid_auroc: 0.5000\n",
      "Epoch: 76 | train_loss: 3.4872 | train_bal_acc: 0.0000 | train_mcc: 0.0000 | train_auroc: 0.5000  |  valid_loss: 3.4873 | valid_bal_acc: 0.5726 | valid_mcc: 0.0000  |  valid_auroc: 0.5000\n",
      "Epoch: 77 | train_loss: 3.4870 | train_bal_acc: 0.0000 | train_mcc: 0.0000 | train_auroc: 0.5000  |  valid_loss: 3.4870 | valid_bal_acc: 0.5938 | valid_mcc: 0.0000  |  valid_auroc: 0.5000\n",
      "Epoch: 78 | train_loss: 3.4869 | train_bal_acc: 0.0000 | train_mcc: 0.0000 | train_auroc: 0.5000  |  valid_loss: 3.4869 | valid_bal_acc: 0.6020 | valid_mcc: 0.0000  |  valid_auroc: 0.5000\n",
      "Epoch: 79 | train_loss: 3.4867 | train_bal_acc: 0.0000 | train_mcc: 0.0000 | train_auroc: 0.5000  |  valid_loss: 3.4867 | valid_bal_acc: 0.6075 | valid_mcc: 0.0000  |  valid_auroc: 0.5000\n",
      "Epoch: 80 | train_loss: 3.4865 | train_bal_acc: 0.0000 | train_mcc: 0.0000 | train_auroc: 0.5000  |  valid_loss: 3.4865 | valid_bal_acc: 0.6333 | valid_mcc: 0.0000  |  valid_auroc: 0.5000\n",
      "Epoch: 81 | train_loss: 3.4863 | train_bal_acc: 0.0000 | train_mcc: 0.0000 | train_auroc: 0.5000  |  valid_loss: 3.4864 | valid_bal_acc: 0.6526 | valid_mcc: 0.0000  |  valid_auroc: 0.5000\n",
      "Epoch: 82 | train_loss: 3.4861 | train_bal_acc: 0.0000 | train_mcc: 0.0000 | train_auroc: 0.5000  |  valid_loss: 3.4861 | valid_bal_acc: 0.6636 | valid_mcc: 0.0000  |  valid_auroc: 0.5000\n",
      "Epoch: 83 | train_loss: 3.4859 | train_bal_acc: 0.0000 | train_mcc: 0.0000 | train_auroc: 0.5000  |  valid_loss: 3.4859 | valid_bal_acc: 0.6949 | valid_mcc: 0.0000  |  valid_auroc: 0.5000\n",
      "Epoch: 84 | train_loss: 3.4857 | train_bal_acc: 0.0000 | train_mcc: 0.0000 | train_auroc: 0.5000  |  valid_loss: 3.4857 | valid_bal_acc: 0.7086 | valid_mcc: 0.0000  |  valid_auroc: 0.5000\n",
      "Epoch: 85 | train_loss: 3.4856 | train_bal_acc: 0.0000 | train_mcc: 0.0000 | train_auroc: 0.5000  |  valid_loss: 3.4855 | valid_bal_acc: 0.7040 | valid_mcc: 0.0000  |  valid_auroc: 0.5000\n",
      "Epoch: 86 | train_loss: 3.4853 | train_bal_acc: 0.0000 | train_mcc: 0.0000 | train_auroc: 0.5000  |  valid_loss: 3.4853 | valid_bal_acc: 0.7399 | valid_mcc: 0.0000  |  valid_auroc: 0.5000\n",
      "Epoch: 87 | train_loss: 3.4851 | train_bal_acc: 0.0000 | train_mcc: 0.0000 | train_auroc: 0.5000  |  valid_loss: 3.4852 | valid_bal_acc: 0.7417 | valid_mcc: 0.0000  |  valid_auroc: 0.5000\n",
      "Epoch: 88 | train_loss: 3.4849 | train_bal_acc: 0.0000 | train_mcc: 0.0000 | train_auroc: 0.5000  |  valid_loss: 3.4848 | valid_bal_acc: 0.7675 | valid_mcc: 0.0000  |  valid_auroc: 0.5000\n"
     ]
    },
    {
     "name": "stdout",
     "output_type": "stream",
     "text": [
      "Epoch: 89 | train_loss: 3.4847 | train_bal_acc: 0.0000 | train_mcc: 0.0000 | train_auroc: 0.5000  |  valid_loss: 3.4847 | valid_bal_acc: 0.7647 | valid_mcc: 0.0000  |  valid_auroc: 0.5000\n",
      "Epoch: 90 | train_loss: 3.4845 | train_bal_acc: 0.0000 | train_mcc: 0.0000 | train_auroc: 0.5000  |  valid_loss: 3.4844 | valid_bal_acc: 0.7748 | valid_mcc: 0.0000  |  valid_auroc: 0.5000\n",
      "Epoch: 91 | train_loss: 3.4842 | train_bal_acc: 0.0000 | train_mcc: 0.0000 | train_auroc: 0.5000  |  valid_loss: 3.4842 | valid_bal_acc: 0.8033 | valid_mcc: 0.0000  |  valid_auroc: 0.5000\n",
      "Epoch: 92 | train_loss: 3.4840 | train_bal_acc: 0.0000 | train_mcc: 0.0000 | train_auroc: 0.5000  |  valid_loss: 3.4840 | valid_bal_acc: 0.8070 | valid_mcc: 0.0000  |  valid_auroc: 0.5000\n",
      "Epoch: 93 | train_loss: 3.4838 | train_bal_acc: 0.0000 | train_mcc: 0.0000 | train_auroc: 0.5000  |  valid_loss: 3.4838 | valid_bal_acc: 0.8217 | valid_mcc: 0.0000  |  valid_auroc: 0.5000\n",
      "Epoch: 94 | train_loss: 3.4836 | train_bal_acc: 0.0000 | train_mcc: 0.0000 | train_auroc: 0.5000  |  valid_loss: 3.4836 | valid_bal_acc: 0.8557 | valid_mcc: 0.0000  |  valid_auroc: 0.5000\n",
      "Epoch: 95 | train_loss: 3.4833 | train_bal_acc: 0.0000 | train_mcc: 0.0000 | train_auroc: 0.5000  |  valid_loss: 3.4833 | valid_bal_acc: 0.8520 | valid_mcc: 0.0000  |  valid_auroc: 0.5000\n",
      "Epoch: 96 | train_loss: 3.4831 | train_bal_acc: 0.0000 | train_mcc: 0.0000 | train_auroc: 0.5000  |  valid_loss: 3.4830 | valid_bal_acc: 0.8814 | valid_mcc: 0.0000  |  valid_auroc: 0.5000\n",
      "Epoch: 97 | train_loss: 3.4828 | train_bal_acc: 0.0000 | train_mcc: 0.0000 | train_auroc: 0.5000  |  valid_loss: 3.4829 | valid_bal_acc: 0.8814 | valid_mcc: 0.0000  |  valid_auroc: 0.5000\n",
      "Epoch: 98 | train_loss: 3.4825 | train_bal_acc: 0.0000 | train_mcc: 0.0000 | train_auroc: 0.5000  |  valid_loss: 3.4825 | valid_bal_acc: 0.8915 | valid_mcc: 0.0000  |  valid_auroc: 0.5000\n",
      "Epoch: 99 | train_loss: 3.4824 | train_bal_acc: 0.0000 | train_mcc: 0.0000 | train_auroc: 0.5000  |  valid_loss: 3.4823 | valid_bal_acc: 0.9210 | valid_mcc: 0.0000  |  valid_auroc: 0.5000\n",
      "Epoch: 100 | train_loss: 3.4821 | train_bal_acc: 0.0000 | train_mcc: 0.0000 | train_auroc: 0.5000  |  valid_loss: 3.4821 | valid_bal_acc: 0.9320 | valid_mcc: 0.0000  |  valid_auroc: 0.5000\n",
      "Epoch: 101 | train_loss: 3.4818 | train_bal_acc: 0.0000 | train_mcc: 0.0000 | train_auroc: 0.5000  |  valid_loss: 3.4819 | valid_bal_acc: 0.9283 | valid_mcc: 0.0000  |  valid_auroc: 0.5000\n",
      "Epoch: 102 | train_loss: 3.4816 | train_bal_acc: 0.0000 | train_mcc: 0.0000 | train_auroc: 0.5000  |  valid_loss: 3.4815 | valid_bal_acc: 0.9357 | valid_mcc: 0.0000  |  valid_auroc: 0.5000\n",
      "Epoch: 103 | train_loss: 3.4813 | train_bal_acc: 0.0000 | train_mcc: 0.0000 | train_auroc: 0.5000  |  valid_loss: 3.4813 | valid_bal_acc: 0.9329 | valid_mcc: 0.0000  |  valid_auroc: 0.5000\n",
      "Epoch: 104 | train_loss: 3.4809 | train_bal_acc: 0.0000 | train_mcc: 0.0000 | train_auroc: 0.5000  |  valid_loss: 3.4811 | valid_bal_acc: 0.9403 | valid_mcc: 0.0000  |  valid_auroc: 0.5000\n",
      "Epoch: 105 | train_loss: 3.4808 | train_bal_acc: 0.0000 | train_mcc: 0.0000 | train_auroc: 0.5000  |  valid_loss: 3.4807 | valid_bal_acc: 0.9559 | valid_mcc: 0.0000  |  valid_auroc: 0.5000\n",
      "Epoch: 106 | train_loss: 3.4804 | train_bal_acc: 0.0000 | train_mcc: 0.0000 | train_auroc: 0.5000  |  valid_loss: 3.4805 | valid_bal_acc: 0.9632 | valid_mcc: 0.0000  |  valid_auroc: 0.5000\n",
      "Epoch: 107 | train_loss: 3.4801 | train_bal_acc: 0.0000 | train_mcc: 0.0000 | train_auroc: 0.5000  |  valid_loss: 3.4801 | valid_bal_acc: 0.9697 | valid_mcc: 0.0000  |  valid_auroc: 0.5000\n",
      "Epoch: 108 | train_loss: 3.4798 | train_bal_acc: 0.0000 | train_mcc: 0.0000 | train_auroc: 0.5000  |  valid_loss: 3.4798 | valid_bal_acc: 0.9706 | valid_mcc: 0.0000  |  valid_auroc: 0.5000\n",
      "Epoch: 109 | train_loss: 3.4795 | train_bal_acc: 0.0000 | train_mcc: 0.0000 | train_auroc: 0.5000  |  valid_loss: 3.4795 | valid_bal_acc: 0.9743 | valid_mcc: 0.0000  |  valid_auroc: 0.5000\n",
      "Epoch: 110 | train_loss: 3.4792 | train_bal_acc: 0.0000 | train_mcc: 0.0000 | train_auroc: 0.5000  |  valid_loss: 3.4791 | valid_bal_acc: 0.9724 | valid_mcc: 0.0000  |  valid_auroc: 0.5000\n",
      "Epoch: 111 | train_loss: 3.4789 | train_bal_acc: 0.0000 | train_mcc: 0.0000 | train_auroc: 0.5000  |  valid_loss: 3.4786 | valid_bal_acc: 0.9825 | valid_mcc: 0.0000  |  valid_auroc: 0.5000\n",
      "Epoch: 112 | train_loss: 3.4785 | train_bal_acc: 0.0000 | train_mcc: 0.0000 | train_auroc: 0.5000  |  valid_loss: 3.4784 | valid_bal_acc: 0.9853 | valid_mcc: 0.0000  |  valid_auroc: 0.5000\n",
      "Epoch: 113 | train_loss: 3.4781 | train_bal_acc: 0.0000 | train_mcc: 0.0000 | train_auroc: 0.5000  |  valid_loss: 3.4780 | valid_bal_acc: 0.9881 | valid_mcc: 0.0000  |  valid_auroc: 0.5000\n",
      "Epoch: 114 | train_loss: 3.4778 | train_bal_acc: 0.0000 | train_mcc: 0.0000 | train_auroc: 0.5000  |  valid_loss: 3.4779 | valid_bal_acc: 0.9917 | valid_mcc: 0.0000  |  valid_auroc: 0.5000\n",
      "Epoch: 115 | train_loss: 3.4775 | train_bal_acc: 0.0000 | train_mcc: 0.0000 | train_auroc: 0.5000  |  valid_loss: 3.4775 | valid_bal_acc: 0.9936 | valid_mcc: 0.0000  |  valid_auroc: 0.5000\n",
      "Epoch: 116 | train_loss: 3.4770 | train_bal_acc: 0.0000 | train_mcc: 0.0000 | train_auroc: 0.5000  |  valid_loss: 3.4770 | valid_bal_acc: 0.9936 | valid_mcc: 0.0000  |  valid_auroc: 0.5000\n",
      "Epoch: 117 | train_loss: 3.4766 | train_bal_acc: 0.0000 | train_mcc: 0.0000 | train_auroc: 0.5000  |  valid_loss: 3.4766 | valid_bal_acc: 0.9963 | valid_mcc: 0.0000  |  valid_auroc: 0.5000\n",
      "Epoch: 118 | train_loss: 3.4763 | train_bal_acc: 0.0000 | train_mcc: 0.0000 | train_auroc: 0.5000  |  valid_loss: 3.4761 | valid_bal_acc: 0.9972 | valid_mcc: 0.0000  |  valid_auroc: 0.5000\n",
      "Epoch: 119 | train_loss: 3.4759 | train_bal_acc: 0.0000 | train_mcc: 0.0000 | train_auroc: 0.5000  |  valid_loss: 3.4759 | valid_bal_acc: 0.9982 | valid_mcc: 0.0000  |  valid_auroc: 0.5000\n",
      "Epoch: 120 | train_loss: 3.4755 | train_bal_acc: 0.0000 | train_mcc: 0.0000 | train_auroc: 0.5000  |  valid_loss: 3.4755 | valid_bal_acc: 0.9991 | valid_mcc: 0.0000  |  valid_auroc: 0.5000\n",
      "Epoch: 121 | train_loss: 3.4750 | train_bal_acc: 0.0000 | train_mcc: 0.0000 | train_auroc: 0.5000  |  valid_loss: 3.4752 | valid_bal_acc: 0.9991 | valid_mcc: 0.0000  |  valid_auroc: 0.5000\n",
      "Epoch: 122 | train_loss: 3.4745 | train_bal_acc: 0.0000 | train_mcc: 0.0000 | train_auroc: 0.5000  |  valid_loss: 3.4745 | valid_bal_acc: 0.9991 | valid_mcc: 0.0000  |  valid_auroc: 0.5000\n",
      "Epoch: 123 | train_loss: 3.4743 | train_bal_acc: 0.0000 | train_mcc: 0.0000 | train_auroc: 0.5000  |  valid_loss: 3.4739 | valid_bal_acc: 1.0000 | valid_mcc: 0.0000  |  valid_auroc: 0.5000\n",
      "Epoch: 124 | train_loss: 3.4736 | train_bal_acc: 0.0000 | train_mcc: 0.0000 | train_auroc: 0.5000  |  valid_loss: 3.4736 | valid_bal_acc: 1.0000 | valid_mcc: 0.0000  |  valid_auroc: 0.5000\n",
      "Epoch: 125 | train_loss: 3.4732 | train_bal_acc: 0.0000 | train_mcc: 0.0000 | train_auroc: 0.5000  |  valid_loss: 3.4733 | valid_bal_acc: 1.0000 | valid_mcc: 0.0000  |  valid_auroc: 0.5000\n",
      "Epoch: 126 | train_loss: 3.4727 | train_bal_acc: 0.0000 | train_mcc: 0.0000 | train_auroc: 0.5000  |  valid_loss: 3.4727 | valid_bal_acc: 1.0000 | valid_mcc: 0.0000  |  valid_auroc: 0.5000\n",
      "Epoch: 127 | train_loss: 3.4722 | train_bal_acc: 0.0000 | train_mcc: 0.0000 | train_auroc: 0.5000  |  valid_loss: 3.4722 | valid_bal_acc: 1.0000 | valid_mcc: 0.0000  |  valid_auroc: 0.5000\n",
      "Epoch: 128 | train_loss: 3.4718 | train_bal_acc: 0.0000 | train_mcc: 0.0000 | train_auroc: 0.5000  |  valid_loss: 3.4717 | valid_bal_acc: 1.0000 | valid_mcc: 0.0000  |  valid_auroc: 0.5000\n",
      "Epoch: 129 | train_loss: 3.4712 | train_bal_acc: 0.0000 | train_mcc: 0.0000 | train_auroc: 0.5000  |  valid_loss: 3.4712 | valid_bal_acc: 1.0000 | valid_mcc: 0.0000  |  valid_auroc: 0.5000\n",
      "Epoch: 130 | train_loss: 3.4707 | train_bal_acc: 0.0000 | train_mcc: 0.0000 | train_auroc: 0.5000  |  valid_loss: 3.4706 | valid_bal_acc: 1.0000 | valid_mcc: 0.0000  |  valid_auroc: 0.5000\n",
      "Epoch: 131 | train_loss: 3.4700 | train_bal_acc: 0.0000 | train_mcc: 0.0000 | train_auroc: 0.5000  |  valid_loss: 3.4699 | valid_bal_acc: 1.0000 | valid_mcc: 0.0000  |  valid_auroc: 0.5000\n",
      "Epoch: 132 | train_loss: 3.4694 | train_bal_acc: 0.0000 | train_mcc: 0.0000 | train_auroc: 0.5000  |  valid_loss: 3.4693 | valid_bal_acc: 1.0000 | valid_mcc: 0.0000  |  valid_auroc: 0.5000\n"
     ]
    },
    {
     "name": "stdout",
     "output_type": "stream",
     "text": [
      "Epoch: 133 | train_loss: 3.4689 | train_bal_acc: 0.0000 | train_mcc: 0.0000 | train_auroc: 0.5000  |  valid_loss: 3.4688 | valid_bal_acc: 1.0000 | valid_mcc: 0.0000  |  valid_auroc: 0.5000\n",
      "Epoch: 134 | train_loss: 3.4683 | train_bal_acc: 0.0000 | train_mcc: 0.0000 | train_auroc: 0.5000  |  valid_loss: 3.4681 | valid_bal_acc: 1.0000 | valid_mcc: 0.0000  |  valid_auroc: 0.5000\n",
      "Epoch: 135 | train_loss: 3.4676 | train_bal_acc: 0.0000 | train_mcc: 0.0000 | train_auroc: 0.5000  |  valid_loss: 3.4674 | valid_bal_acc: 1.0000 | valid_mcc: 0.0000  |  valid_auroc: 0.5000\n",
      "Epoch: 136 | train_loss: 3.4671 | train_bal_acc: 0.0000 | train_mcc: 0.0000 | train_auroc: 0.5000  |  valid_loss: 3.4668 | valid_bal_acc: 1.0000 | valid_mcc: 0.0000  |  valid_auroc: 0.5000\n",
      "Epoch: 137 | train_loss: 3.4663 | train_bal_acc: 0.0000 | train_mcc: 0.0000 | train_auroc: 0.5000  |  valid_loss: 3.4660 | valid_bal_acc: 1.0000 | valid_mcc: 0.0000  |  valid_auroc: 0.5000\n",
      "Epoch: 138 | train_loss: 3.4655 | train_bal_acc: 0.0000 | train_mcc: 0.0000 | train_auroc: 0.5000  |  valid_loss: 3.4654 | valid_bal_acc: 1.0000 | valid_mcc: 0.0000  |  valid_auroc: 0.5000\n",
      "Epoch: 139 | train_loss: 3.4647 | train_bal_acc: 0.0000 | train_mcc: 0.0000 | train_auroc: 0.5000  |  valid_loss: 3.4647 | valid_bal_acc: 1.0000 | valid_mcc: 0.0000  |  valid_auroc: 0.5000\n",
      "Epoch: 140 | train_loss: 3.4640 | train_bal_acc: 0.0000 | train_mcc: 0.0000 | train_auroc: 0.5000  |  valid_loss: 3.4640 | valid_bal_acc: 1.0000 | valid_mcc: 0.0000  |  valid_auroc: 0.5000\n",
      "Epoch: 141 | train_loss: 3.4631 | train_bal_acc: 0.0000 | train_mcc: 0.0000 | train_auroc: 0.5000  |  valid_loss: 3.4630 | valid_bal_acc: 1.0000 | valid_mcc: 0.0000  |  valid_auroc: 0.5000\n",
      "Epoch: 142 | train_loss: 3.4625 | train_bal_acc: 0.0000 | train_mcc: 0.0000 | train_auroc: 0.5000  |  valid_loss: 3.4620 | valid_bal_acc: 1.0000 | valid_mcc: 0.0000  |  valid_auroc: 0.5000\n",
      "Epoch: 143 | train_loss: 3.4615 | train_bal_acc: 0.0000 | train_mcc: 0.0000 | train_auroc: 0.5000  |  valid_loss: 3.4612 | valid_bal_acc: 1.0000 | valid_mcc: 0.0000  |  valid_auroc: 0.5000\n",
      "Epoch: 144 | train_loss: 3.4606 | train_bal_acc: 0.0000 | train_mcc: 0.0000 | train_auroc: 0.5000  |  valid_loss: 3.4603 | valid_bal_acc: 1.0000 | valid_mcc: 0.0000  |  valid_auroc: 0.5000\n",
      "Epoch: 145 | train_loss: 3.4594 | train_bal_acc: 0.0000 | train_mcc: 0.0000 | train_auroc: 0.5000  |  valid_loss: 3.4594 | valid_bal_acc: 1.0000 | valid_mcc: 0.0000  |  valid_auroc: 0.5000\n",
      "Epoch: 146 | train_loss: 3.4587 | train_bal_acc: 0.0000 | train_mcc: 0.0000 | train_auroc: 0.5000  |  valid_loss: 3.4583 | valid_bal_acc: 1.0000 | valid_mcc: 0.0000  |  valid_auroc: 0.5000\n",
      "Epoch: 147 | train_loss: 3.4576 | train_bal_acc: 0.0000 | train_mcc: 0.0000 | train_auroc: 0.5000  |  valid_loss: 3.4572 | valid_bal_acc: 1.0000 | valid_mcc: 0.0000  |  valid_auroc: 0.5000\n",
      "Epoch: 148 | train_loss: 3.4565 | train_bal_acc: 0.0000 | train_mcc: 0.0000 | train_auroc: 0.5000  |  valid_loss: 3.4562 | valid_bal_acc: 1.0000 | valid_mcc: 0.0000  |  valid_auroc: 0.5000\n",
      "Epoch: 149 | train_loss: 3.4554 | train_bal_acc: 0.0000 | train_mcc: 0.0000 | train_auroc: 0.5000  |  valid_loss: 3.4548 | valid_bal_acc: 1.0000 | valid_mcc: 0.0000  |  valid_auroc: 0.5000\n",
      "Epoch: 150 | train_loss: 3.4539 | train_bal_acc: 0.0000 | train_mcc: 0.0000 | train_auroc: 0.5000  |  valid_loss: 3.4538 | valid_bal_acc: 1.0000 | valid_mcc: 0.0000  |  valid_auroc: 0.5000\n",
      "Epoch: 151 | train_loss: 3.4528 | train_bal_acc: 0.0000 | train_mcc: 0.0000 | train_auroc: 0.5000  |  valid_loss: 3.4523 | valid_bal_acc: 1.0000 | valid_mcc: 0.0000  |  valid_auroc: 0.5000\n",
      "Epoch: 152 | train_loss: 3.4516 | train_bal_acc: 0.0000 | train_mcc: 0.0000 | train_auroc: 0.5000  |  valid_loss: 3.4513 | valid_bal_acc: 1.0000 | valid_mcc: 0.0000  |  valid_auroc: 0.5000\n",
      "Epoch: 153 | train_loss: 3.4501 | train_bal_acc: 0.0000 | train_mcc: 0.0000 | train_auroc: 0.5000  |  valid_loss: 3.4500 | valid_bal_acc: 1.0000 | valid_mcc: 0.0000  |  valid_auroc: 0.5000\n",
      "Epoch: 154 | train_loss: 3.4486 | train_bal_acc: 0.0000 | train_mcc: 0.0000 | train_auroc: 0.5000  |  valid_loss: 3.4484 | valid_bal_acc: 1.0000 | valid_mcc: 0.0000  |  valid_auroc: 0.5000\n",
      "Epoch: 155 | train_loss: 3.4472 | train_bal_acc: 0.0000 | train_mcc: 0.0000 | train_auroc: 0.5000  |  valid_loss: 3.4465 | valid_bal_acc: 1.0000 | valid_mcc: 0.0000  |  valid_auroc: 0.5000\n",
      "Epoch: 156 | train_loss: 3.4456 | train_bal_acc: 0.0000 | train_mcc: 0.0000 | train_auroc: 0.5000  |  valid_loss: 3.4450 | valid_bal_acc: 1.0000 | valid_mcc: 0.0000  |  valid_auroc: 0.5000\n",
      "Epoch: 157 | train_loss: 3.4436 | train_bal_acc: 0.0000 | train_mcc: 0.0000 | train_auroc: 0.5000  |  valid_loss: 3.4432 | valid_bal_acc: 1.0000 | valid_mcc: 0.0000  |  valid_auroc: 0.5000\n",
      "Epoch: 158 | train_loss: 3.4419 | train_bal_acc: 0.0000 | train_mcc: 0.0000 | train_auroc: 0.5000  |  valid_loss: 3.4414 | valid_bal_acc: 1.0000 | valid_mcc: 0.0000  |  valid_auroc: 0.5000\n",
      "Epoch: 159 | train_loss: 3.4400 | train_bal_acc: 0.0000 | train_mcc: 0.0000 | train_auroc: 0.5000  |  valid_loss: 3.4392 | valid_bal_acc: 1.0000 | valid_mcc: 0.0000  |  valid_auroc: 0.5000\n",
      "Epoch: 160 | train_loss: 3.4379 | train_bal_acc: 0.0000 | train_mcc: 0.0000 | train_auroc: 0.5000  |  valid_loss: 3.4372 | valid_bal_acc: 1.0000 | valid_mcc: 0.0000  |  valid_auroc: 0.5000\n",
      "Epoch: 161 | train_loss: 3.4356 | train_bal_acc: 0.0000 | train_mcc: 0.0000 | train_auroc: 0.5000  |  valid_loss: 3.4352 | valid_bal_acc: 1.0000 | valid_mcc: 0.0000  |  valid_auroc: 0.5000\n",
      "Epoch: 162 | train_loss: 3.4332 | train_bal_acc: 0.0000 | train_mcc: 0.0000 | train_auroc: 0.5000  |  valid_loss: 3.4322 | valid_bal_acc: 1.0000 | valid_mcc: 0.0000  |  valid_auroc: 0.5000\n",
      "Epoch: 163 | train_loss: 3.4309 | train_bal_acc: 0.0000 | train_mcc: 0.0000 | train_auroc: 0.5000  |  valid_loss: 3.4297 | valid_bal_acc: 1.0000 | valid_mcc: 0.0000  |  valid_auroc: 0.5000\n",
      "Epoch: 164 | train_loss: 3.4281 | train_bal_acc: 0.0000 | train_mcc: 0.0000 | train_auroc: 0.5000  |  valid_loss: 3.4270 | valid_bal_acc: 1.0000 | valid_mcc: 0.0000  |  valid_auroc: 0.5000\n",
      "Epoch: 165 | train_loss: 3.4250 | train_bal_acc: 0.0000 | train_mcc: 0.0000 | train_auroc: 0.5000  |  valid_loss: 3.4241 | valid_bal_acc: 1.0000 | valid_mcc: 0.0000  |  valid_auroc: 0.5000\n",
      "Epoch: 166 | train_loss: 3.4215 | train_bal_acc: 0.0000 | train_mcc: 0.0000 | train_auroc: 0.5000  |  valid_loss: 3.4204 | valid_bal_acc: 1.0000 | valid_mcc: 0.0000  |  valid_auroc: 0.5000\n",
      "Epoch: 167 | train_loss: 3.4181 | train_bal_acc: 0.0000 | train_mcc: 0.0000 | train_auroc: 0.5000  |  valid_loss: 3.4173 | valid_bal_acc: 1.0000 | valid_mcc: 0.0000  |  valid_auroc: 0.5000\n",
      "Epoch: 168 | train_loss: 3.4141 | train_bal_acc: 0.0000 | train_mcc: 0.0000 | train_auroc: 0.5000  |  valid_loss: 3.4130 | valid_bal_acc: 1.0000 | valid_mcc: 0.0000  |  valid_auroc: 0.5000\n",
      "Epoch: 169 | train_loss: 3.4100 | train_bal_acc: 0.0000 | train_mcc: 0.0000 | train_auroc: 0.5000  |  valid_loss: 3.4084 | valid_bal_acc: 1.0000 | valid_mcc: 0.0000  |  valid_auroc: 0.5000\n",
      "Epoch: 170 | train_loss: 3.4053 | train_bal_acc: 0.0000 | train_mcc: 0.0000 | train_auroc: 0.5000  |  valid_loss: 3.4035 | valid_bal_acc: 1.0000 | valid_mcc: 0.0000  |  valid_auroc: 0.5000\n",
      "Epoch: 171 | train_loss: 3.4005 | train_bal_acc: 0.0000 | train_mcc: 0.0000 | train_auroc: 0.5000  |  valid_loss: 3.3983 | valid_bal_acc: 1.0000 | valid_mcc: 0.0000  |  valid_auroc: 0.5000\n",
      "Epoch: 172 | train_loss: 3.3946 | train_bal_acc: 0.0000 | train_mcc: 0.0000 | train_auroc: 0.5000  |  valid_loss: 3.3925 | valid_bal_acc: 1.0000 | valid_mcc: 0.0000  |  valid_auroc: 0.5000\n",
      "Epoch: 173 | train_loss: 3.3890 | train_bal_acc: 0.0000 | train_mcc: 0.0000 | train_auroc: 0.5000  |  valid_loss: 3.3855 | valid_bal_acc: 1.0000 | valid_mcc: 0.0000  |  valid_auroc: 0.5000\n",
      "Epoch: 174 | train_loss: 3.3809 | train_bal_acc: 0.0000 | train_mcc: 0.0000 | train_auroc: 0.5000  |  valid_loss: 3.3782 | valid_bal_acc: 1.0000 | valid_mcc: 0.0000  |  valid_auroc: 0.5000\n",
      "Epoch: 175 | train_loss: 3.3730 | train_bal_acc: 0.0000 | train_mcc: 0.0000 | train_auroc: 0.5000  |  valid_loss: 3.3704 | valid_bal_acc: 1.0000 | valid_mcc: 0.0000  |  valid_auroc: 0.5000\n",
      "Epoch: 176 | train_loss: 3.3639 | train_bal_acc: 0.0000 | train_mcc: 0.0000 | train_auroc: 0.5000  |  valid_loss: 3.3604 | valid_bal_acc: 1.0000 | valid_mcc: 0.0000  |  valid_auroc: 0.5000\n"
     ]
    },
    {
     "name": "stdout",
     "output_type": "stream",
     "text": [
      "Epoch: 177 | train_loss: 3.3538 | train_bal_acc: 0.0000 | train_mcc: 0.0000 | train_auroc: 0.5000  |  valid_loss: 3.3503 | valid_bal_acc: 1.0000 | valid_mcc: 0.0000  |  valid_auroc: 0.5000\n",
      "Epoch: 178 | train_loss: 3.3425 | train_bal_acc: 0.0000 | train_mcc: 0.0000 | train_auroc: 0.5000  |  valid_loss: 3.3363 | valid_bal_acc: 1.0000 | valid_mcc: 0.0000  |  valid_auroc: 0.5000\n",
      "Epoch: 179 | train_loss: 3.3292 | train_bal_acc: 0.0000 | train_mcc: 0.0000 | train_auroc: 0.5000  |  valid_loss: 3.3224 | valid_bal_acc: 1.0000 | valid_mcc: 0.0000  |  valid_auroc: 0.5000\n",
      "Epoch: 180 | train_loss: 3.3129 | train_bal_acc: 0.0000 | train_mcc: 0.0000 | train_auroc: 0.5000  |  valid_loss: 3.3047 | valid_bal_acc: 1.0000 | valid_mcc: 0.0000  |  valid_auroc: 0.5000\n",
      "Epoch: 181 | train_loss: 3.2946 | train_bal_acc: 0.0000 | train_mcc: 0.0000 | train_auroc: 0.5000  |  valid_loss: 3.2848 | valid_bal_acc: 1.0000 | valid_mcc: 0.0000  |  valid_auroc: 0.5000\n",
      "Epoch: 182 | train_loss: 3.2724 | train_bal_acc: 0.0000 | train_mcc: 0.0000 | train_auroc: 0.5000  |  valid_loss: 3.2592 | valid_bal_acc: 1.0000 | valid_mcc: 0.0000  |  valid_auroc: 0.5000\n",
      "Epoch: 183 | train_loss: 3.2466 | train_bal_acc: 0.0000 | train_mcc: 0.0000 | train_auroc: 0.5000  |  valid_loss: 3.2327 | valid_bal_acc: 1.0000 | valid_mcc: 0.0000  |  valid_auroc: 0.5000\n",
      "Epoch: 184 | train_loss: 3.2150 | train_bal_acc: 0.0000 | train_mcc: 0.0000 | train_auroc: 0.5000  |  valid_loss: 3.1972 | valid_bal_acc: 1.0000 | valid_mcc: 0.0000  |  valid_auroc: 0.5000\n",
      "Epoch: 185 | train_loss: 3.1770 | train_bal_acc: 0.0000 | train_mcc: 0.0000 | train_auroc: 0.5000  |  valid_loss: 3.1555 | valid_bal_acc: 1.0000 | valid_mcc: 0.0000  |  valid_auroc: 0.5000\n",
      "Epoch: 186 | train_loss: 3.1336 | train_bal_acc: 0.0000 | train_mcc: 0.0000 | train_auroc: 0.5000  |  valid_loss: 3.1084 | valid_bal_acc: 1.0000 | valid_mcc: 0.0000  |  valid_auroc: 0.5000\n",
      "Epoch: 187 | train_loss: 3.0834 | train_bal_acc: 0.0000 | train_mcc: 0.0000 | train_auroc: 0.5000  |  valid_loss: 3.0537 | valid_bal_acc: 1.0000 | valid_mcc: 0.0000  |  valid_auroc: 0.5000\n",
      "Epoch: 188 | train_loss: 3.0281 | train_bal_acc: 0.0000 | train_mcc: 0.0000 | train_auroc: 0.5000  |  valid_loss: 2.9981 | valid_bal_acc: 1.0000 | valid_mcc: 0.0000  |  valid_auroc: 0.5000\n",
      "Epoch: 189 | train_loss: 2.9686 | train_bal_acc: 0.0000 | train_mcc: 0.0000 | train_auroc: 0.5000  |  valid_loss: 2.9376 | valid_bal_acc: 1.0000 | valid_mcc: 0.0000  |  valid_auroc: 0.5000\n",
      "Epoch: 190 | train_loss: 2.9116 | train_bal_acc: 0.0000 | train_mcc: 0.0000 | train_auroc: 0.5000  |  valid_loss: 2.8793 | valid_bal_acc: 1.0000 | valid_mcc: 0.0000  |  valid_auroc: 0.5000\n",
      "Epoch: 191 | train_loss: 2.8554 | train_bal_acc: 0.0000 | train_mcc: 0.0000 | train_auroc: 0.5000  |  valid_loss: 2.8274 | valid_bal_acc: 1.0000 | valid_mcc: 0.0000  |  valid_auroc: 0.5000\n",
      "Epoch: 192 | train_loss: 2.8100 | train_bal_acc: 0.0000 | train_mcc: 0.0000 | train_auroc: 0.5000  |  valid_loss: 2.7811 | valid_bal_acc: 1.0000 | valid_mcc: 0.0000  |  valid_auroc: 0.5000\n",
      "Epoch: 193 | train_loss: 2.7684 | train_bal_acc: 0.0000 | train_mcc: 0.0000 | train_auroc: 0.5000  |  valid_loss: 2.7462 | valid_bal_acc: 1.0000 | valid_mcc: 0.0000  |  valid_auroc: 0.5000\n",
      "Epoch: 194 | train_loss: 2.7352 | train_bal_acc: 0.0000 | train_mcc: 0.0000 | train_auroc: 0.5000  |  valid_loss: 2.7145 | valid_bal_acc: 1.0000 | valid_mcc: 0.0000  |  valid_auroc: 0.5000\n",
      "Epoch: 195 | train_loss: 2.7076 | train_bal_acc: 0.0000 | train_mcc: 0.0000 | train_auroc: 0.5000  |  valid_loss: 2.6904 | valid_bal_acc: 1.0000 | valid_mcc: 0.0000  |  valid_auroc: 0.5000\n",
      "Epoch: 196 | train_loss: 2.6844 | train_bal_acc: 0.0000 | train_mcc: 0.0000 | train_auroc: 0.5000  |  valid_loss: 2.6697 | valid_bal_acc: 1.0000 | valid_mcc: 0.0000  |  valid_auroc: 0.5000\n",
      "Epoch: 197 | train_loss: 2.6658 | train_bal_acc: 0.0000 | train_mcc: 0.0000 | train_auroc: 0.5000  |  valid_loss: 2.6541 | valid_bal_acc: 1.0000 | valid_mcc: 0.0000  |  valid_auroc: 0.5000\n",
      "Epoch: 198 | train_loss: 2.6525 | train_bal_acc: 0.0000 | train_mcc: 0.0000 | train_auroc: 0.5000  |  valid_loss: 2.6401 | valid_bal_acc: 1.0000 | valid_mcc: 0.0000  |  valid_auroc: 0.5000\n",
      "Epoch: 199 | train_loss: 2.6402 | train_bal_acc: 0.0000 | train_mcc: 0.0000 | train_auroc: 0.5000  |  valid_loss: 2.6299 | valid_bal_acc: 1.0000 | valid_mcc: 0.0000  |  valid_auroc: 0.5000\n",
      "Epoch: 200 | train_loss: 2.6302 | train_bal_acc: 0.0000 | train_mcc: 0.0000 | train_auroc: 0.5000  |  valid_loss: 2.6211 | valid_bal_acc: 1.0000 | valid_mcc: 0.0000  |  valid_auroc: 0.5000\n"
     ]
    }
   ],
   "source": [
    "results, _ = engine_boosted_multi.train_with_early_stopping(model=model,\n",
    "                                                  train_dataloader=train_loader,\n",
    "                                                  valid_dataloader=val_loader,\n",
    "                                                  optimizer=optimizer,\n",
    "                                                  loss_fn=loss_fn,\n",
    "                                                  epochs=200,\n",
    "                                                  device=device)\n"
   ]
  },
  {
   "cell_type": "code",
   "execution_count": 35,
   "id": "879ac77f",
   "metadata": {},
   "outputs": [
    {
     "data": {
      "image/png": "[encoded data removed]",
      "text/plain": [
       "<Figure size 1500x700 with 2 Axes>"
      ]
     },
     "metadata": {},
     "output_type": "display_data"
    }
   ],
   "source": [
    "helper_functions.plot_loss_curves(results)\n",
    "plt.savefig(f'All_TFs_CNN1_ADAM_BCEWithLogits_KERNEL=10_seq=200b.png')"
   ]
  },
  {
   "cell_type": "code",
   "execution_count": 32,
   "id": "f86c14a0",
   "metadata": {},
   "outputs": [
    {
     "data": {
      "image/png": "[encoded data removed]",
      "text/plain": [
       "<Figure size 640x480 with 1 Axes>"
      ]
     },
     "metadata": {},
     "output_type": "display_data"
    }
   ],
   "source": [
    "helper_functions.plot_auroc(results)"
   ]
  },
  {
   "cell_type": "code",
   "execution_count": 33,
   "id": "1f795018",
   "metadata": {},
   "outputs": [
    {
     "data": {
      "image/png": "[encoded data removed]",
      "text/plain": [
       "<Figure size 640x480 with 1 Axes>"
      ]
     },
     "metadata": {},
     "output_type": "display_data"
    }
   ],
   "source": [
    "helper_functions.plot_f_score(results)"
   ]
  },
  {
   "cell_type": "code",
   "execution_count": 34,
   "id": "7d75d6fb",
   "metadata": {},
   "outputs": [
    {
     "ename": "ValueError",
     "evalue": "not enough values to unpack (expected 3, got 2)",
     "output_type": "error",
     "traceback": [
      "\u001b[0;31m---------------------------------------------------------------------------\u001b[0m",
      "\u001b[0;31mValueError\u001b[0m                                Traceback (most recent call last)",
      "Cell \u001b[0;32mIn[34], line 14\u001b[0m\n\u001b[1;32m     11\u001b[0m all_test_pred_prob\u001b[38;5;241m=\u001b[39m[]\n\u001b[1;32m     13\u001b[0m test_loss, test_bal_acc, test_mcc, test_f_score \u001b[38;5;241m=\u001b[39m \u001b[38;5;241m0\u001b[39m, \u001b[38;5;241m0\u001b[39m, \u001b[38;5;241m0\u001b[39m, \u001b[38;5;241m0\u001b[39m\n\u001b[0;32m---> 14\u001b[0m \u001b[38;5;28;01mfor\u001b[39;00m batch, (X, y_one_hot, y) \u001b[38;5;129;01min\u001b[39;00m \u001b[38;5;28menumerate\u001b[39m(test_loader):\n\u001b[1;32m     15\u001b[0m     \u001b[38;5;66;03m# Send data to target device\u001b[39;00m\n\u001b[1;32m     16\u001b[0m     X, y_one_hot, y \u001b[38;5;241m=\u001b[39m X\u001b[38;5;241m.\u001b[39mto(device),y_one_hot\u001b[38;5;241m.\u001b[39mto(device), y\u001b[38;5;241m.\u001b[39mto(device)\n\u001b[1;32m     18\u001b[0m     \u001b[38;5;66;03m# 1. Forward pass\u001b[39;00m\n",
      "\u001b[0;31mValueError\u001b[0m: not enough values to unpack (expected 3, got 2)"
     ]
    }
   ],
   "source": [
    "from sklearn.metrics import balanced_accuracy_score, matthews_corrcoef, f1_score\n",
    "import torch.nn.functional as F\n",
    "\n",
    "\n",
    "model.eval()\n",
    "\n",
    "\n",
    "with torch.inference_mode():\n",
    "    all_predictions = []\n",
    "    all_true_labels = []\n",
    "    all_test_pred_prob=[]\n",
    "    \n",
    "    test_loss, test_bal_acc, test_mcc, test_f_score = 0, 0, 0, 0\n",
    "    for batch, (X, y_one_hot, y) in enumerate(test_loader):\n",
    "        # Send data to target device\n",
    "        X, y_one_hot, y = X.to(device),y_one_hot.to(device), y.to(device)\n",
    "\n",
    "        # 1. Forward pass\n",
    "        test_pred_logits = model(X)\n",
    "\n",
    "        # 2. Calculate and accumulate loss\n",
    "        loss = loss_fn(test_pred_logits, y_one_hot)\n",
    "        test_loss += loss.item()\n",
    "\n",
    "        # Calculate and accumulate scores\n",
    "        test_pred_labels = test_pred_logits.argmax(dim=1)\n",
    "        test_pred_prob = torch.softmax(test_pred_logits.squeeze(), dim=0) # note: perform softmax on the \"logits\" dimension, not \"batch\" dimension (in this case we have a batch size of 1, so can perform on dim=0)\n",
    "        test_bal_acc += balanced_accuracy_score(y.cpu().numpy(), test_pred_labels.cpu().numpy())\n",
    "        test_mcc += matthews_corrcoef(y.cpu().numpy(), test_pred_labels.cpu().numpy())\n",
    "        test_f_score += f1_score(y.cpu().numpy(), test_pred_labels.cpu().numpy(), average='weighted')\n",
    "        \n",
    "        all_predictions.extend(test_pred_labels.cpu().numpy())\n",
    "        all_true_labels.extend(y.cpu().numpy())\n",
    "        all_test_pred_prob.extend(test_pred_prob.cpu().numpy())\n",
    "\n",
    "    # Adjust metrics to get average loss and accuracy per batch\n",
    "    test_loss = test_loss / len(test_loader)\n",
    "    test_bal_acc = test_bal_acc / len(test_loader)\n",
    "    test_mcc = test_mcc / len(test_loader)\n",
    "    test_f_score = test_f_score / len(test_loader)\n",
    "    print(\"Perfomance on held out test set\")\n",
    "    print(f'Test loss: {test_loss} | Test bal acc {test_bal_acc} | Test mcc {test_mcc} | Test_f_score {test_f_score}\\n')   \n",
    "    "
   ]
  },
  {
   "cell_type": "code",
   "execution_count": null,
   "id": "fbff03bf",
   "metadata": {},
   "outputs": [],
   "source": []
  },
  {
   "cell_type": "code",
   "execution_count": null,
   "id": "b7faac65",
   "metadata": {},
   "outputs": [],
   "source": []
  }
 ],
 "metadata": {
  "kernelspec": {
   "display_name": "Python 3 (ipykernel)",
   "language": "python",
   "name": "python3"
  },
  "language_info": {
   "codemirror_mode": {
    "name": "ipython",
    "version": 3
   },
   "file_extension": ".py",
   "mimetype": "text/x-python",
   "name": "python",
   "nbconvert_exporter": "python",
   "pygments_lexer": "ipython3",
   "version": "3.11.5"
  }
 },
 "nbformat": 4,
 "nbformat_minor": 5
}
