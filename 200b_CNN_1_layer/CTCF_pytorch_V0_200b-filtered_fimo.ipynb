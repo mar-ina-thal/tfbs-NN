{
 "cells": [
  {
   "cell_type": "markdown",
   "id": "520fbfff",
   "metadata": {},
   "source": [
    "# Imports and functions"
   ]
  },
  {
   "cell_type": "code",
   "execution_count": 1,
   "id": "05d85633",
   "metadata": {},
   "outputs": [
    {
     "name": "stderr",
     "output_type": "stream",
     "text": [
      "2024-01-18 11:38:34.439507: I tensorflow/core/util/port.cc:113] oneDNN custom operations are on. You may see slightly different numerical results due to floating-point round-off errors from different computation orders. To turn them off, set the environment variable `TF_ENABLE_ONEDNN_OPTS=0`.\n",
      "2024-01-18 11:38:34.488436: E external/local_xla/xla/stream_executor/cuda/cuda_dnn.cc:9261] Unable to register cuDNN factory: Attempting to register factory for plugin cuDNN when one has already been registered\n",
      "2024-01-18 11:38:34.488466: E external/local_xla/xla/stream_executor/cuda/cuda_fft.cc:607] Unable to register cuFFT factory: Attempting to register factory for plugin cuFFT when one has already been registered\n",
      "2024-01-18 11:38:34.489893: E external/local_xla/xla/stream_executor/cuda/cuda_blas.cc:1515] Unable to register cuBLAS factory: Attempting to register factory for plugin cuBLAS when one has already been registered\n",
      "2024-01-18 11:38:34.497957: I tensorflow/core/platform/cpu_feature_guard.cc:182] This TensorFlow binary is optimized to use available CPU instructions in performance-critical operations.\n",
      "To enable the following instructions: AVX2 AVX512F AVX512_VNNI FMA, in other operations, rebuild TensorFlow with the appropriate compiler flags.\n",
      "2024-01-18 11:38:35.473457: W tensorflow/compiler/tf2tensorrt/utils/py_utils.cc:38] TF-TRT Warning: Could not find TensorRT\n"
     ]
    }
   ],
   "source": [
    "import pandas as pd\n",
    "import numpy as np\n",
    "from sklearn.preprocessing import OneHotEncoder\n",
    "from keras.utils import to_categorical\n",
    "from sklearn.metrics import balanced_accuracy_score"
   ]
  },
  {
   "cell_type": "code",
   "execution_count": 2,
   "id": "1389113b",
   "metadata": {},
   "outputs": [],
   "source": [
    "import torchvision\n",
    "import engine\n",
    "import helper_functions"
   ]
  },
  {
   "cell_type": "code",
   "execution_count": 3,
   "id": "3a2e0857",
   "metadata": {},
   "outputs": [],
   "source": [
    "from tqdm.auto import tqdm\n",
    "from typing import Dict, List, Tuple\n",
    "from sklearn.metrics import balanced_accuracy_score, matthews_corrcoef, f1_score\n",
    "from collections import deque  # Import deque for early stopping\n",
    "import warnings\n",
    "\n",
    "# Suppress the specific UserWarning related to y_pred and y_true class mismatch\n",
    "warnings.filterwarnings(\"ignore\", category=UserWarning, message=\"y_pred contains classes not in y_true\")"
   ]
  },
  {
   "cell_type": "code",
   "execution_count": 4,
   "id": "faeaeafc",
   "metadata": {},
   "outputs": [],
   "source": [
    "from sklearn.metrics import balanced_accuracy_score\n",
    "\n",
    "# Function to calculate balanced accuracy using sklearn\n",
    "def balanced_accuracy(y_true, y_pred):\n",
    "    return balanced_accuracy_score(y_true, y_pred) * 100"
   ]
  },
  {
   "cell_type": "code",
   "execution_count": 5,
   "id": "6c000451",
   "metadata": {},
   "outputs": [],
   "source": [
    "# Function to perform one-hot encoding for DNA sequences\n",
    "def one_hot_encode(sequence):\n",
    "    encoding = {'A': [1, 0, 0, 0], 'T': [0, 1, 0, 0], 'G': [0, 0, 1, 0], 'C': [0, 0, 0, 1]}\n",
    "    one_hot_sequence = [encoding.get(base, [0, 0, 0, 0]) for base in sequence]\n",
    "    return np.array(one_hot_sequence)"
   ]
  },
  {
   "cell_type": "markdown",
   "id": "69190e84",
   "metadata": {},
   "source": [
    "# Set up device agnostic code"
   ]
  },
  {
   "cell_type": "code",
   "execution_count": 6,
   "id": "12cee86f",
   "metadata": {},
   "outputs": [
    {
     "data": {
      "text/plain": [
       "'cpu'"
      ]
     },
     "execution_count": 6,
     "metadata": {},
     "output_type": "execute_result"
    }
   ],
   "source": [
    "import torch\n",
    "from torch import nn\n",
    "# Make device agnostic code\n",
    "device = \"cuda\" if torch.cuda.is_available() else \"cpu\"\n",
    "device"
   ]
  },
  {
   "cell_type": "code",
   "execution_count": 7,
   "id": "c9939f1e",
   "metadata": {},
   "outputs": [
    {
     "data": {
      "text/html": [
       "<div>\n",
       "<style scoped>\n",
       "    .dataframe tbody tr th:only-of-type {\n",
       "        vertical-align: middle;\n",
       "    }\n",
       "\n",
       "    .dataframe tbody tr th {\n",
       "        vertical-align: top;\n",
       "    }\n",
       "\n",
       "    .dataframe thead th {\n",
       "        text-align: right;\n",
       "    }\n",
       "</style>\n",
       "<table border=\"1\" class=\"dataframe\">\n",
       "  <thead>\n",
       "    <tr style=\"text-align: right;\">\n",
       "      <th></th>\n",
       "      <th>data</th>\n",
       "      <th>class</th>\n",
       "    </tr>\n",
       "  </thead>\n",
       "  <tbody>\n",
       "    <tr>\n",
       "      <th>0</th>\n",
       "      <td>TGACAGGAAAAGGGATGGACATGATTCCCAGAATCCTTCAGGCTAG...</td>\n",
       "      <td>0</td>\n",
       "    </tr>\n",
       "    <tr>\n",
       "      <th>1</th>\n",
       "      <td>CATGAATTAGGGCAGGTTTTTGAATTCGTGTTGAAAAGAGCTTCCA...</td>\n",
       "      <td>0</td>\n",
       "    </tr>\n",
       "    <tr>\n",
       "      <th>2</th>\n",
       "      <td>GCACAGGTTAACACTTCTGCTAGTTCCAGGACTGAGGCCATCCAGA...</td>\n",
       "      <td>0</td>\n",
       "    </tr>\n",
       "    <tr>\n",
       "      <th>3</th>\n",
       "      <td>AAACAGCAGGTTGCTTATTCCTTCTCAAACCGCACTAAAAAATTCC...</td>\n",
       "      <td>0</td>\n",
       "    </tr>\n",
       "    <tr>\n",
       "      <th>4</th>\n",
       "      <td>AACAGGCAGAAAGGAAGCGGCAGGGAGGTGGGTACTCCGGAGAGCG...</td>\n",
       "      <td>0</td>\n",
       "    </tr>\n",
       "    <tr>\n",
       "      <th>...</th>\n",
       "      <td>...</td>\n",
       "      <td>...</td>\n",
       "    </tr>\n",
       "    <tr>\n",
       "      <th>96489</th>\n",
       "      <td>AAGGTGGTGGCCGCGCCTGTGCGACAATCAGACCTGGTTCATTCCA...</td>\n",
       "      <td>1</td>\n",
       "    </tr>\n",
       "    <tr>\n",
       "      <th>96490</th>\n",
       "      <td>CCATGATCCTCCCCGGCTTGAAGCCCTTCACGGCTCCCTAGTGCCC...</td>\n",
       "      <td>1</td>\n",
       "    </tr>\n",
       "    <tr>\n",
       "      <th>96491</th>\n",
       "      <td>CCATGATCCTCCCCGGCTTGAAGCCCTTCACGGCTCCCTAGTGCCC...</td>\n",
       "      <td>1</td>\n",
       "    </tr>\n",
       "    <tr>\n",
       "      <th>96492</th>\n",
       "      <td>CCCCACTCCTTGCCTTTTTTGGCTAGGAGGTAGCTGGCATCCCCAC...</td>\n",
       "      <td>1</td>\n",
       "    </tr>\n",
       "    <tr>\n",
       "      <th>96493</th>\n",
       "      <td>CCCCACTCCTTGCCTTTTTTGGCTAGGAGGTAGCTGGCATCCCCAC...</td>\n",
       "      <td>1</td>\n",
       "    </tr>\n",
       "  </tbody>\n",
       "</table>\n",
       "<p>96494 rows × 2 columns</p>\n",
       "</div>"
      ],
      "text/plain": [
       "                                                    data  class\n",
       "0      TGACAGGAAAAGGGATGGACATGATTCCCAGAATCCTTCAGGCTAG...      0\n",
       "1      CATGAATTAGGGCAGGTTTTTGAATTCGTGTTGAAAAGAGCTTCCA...      0\n",
       "2      GCACAGGTTAACACTTCTGCTAGTTCCAGGACTGAGGCCATCCAGA...      0\n",
       "3      AAACAGCAGGTTGCTTATTCCTTCTCAAACCGCACTAAAAAATTCC...      0\n",
       "4      AACAGGCAGAAAGGAAGCGGCAGGGAGGTGGGTACTCCGGAGAGCG...      0\n",
       "...                                                  ...    ...\n",
       "96489  AAGGTGGTGGCCGCGCCTGTGCGACAATCAGACCTGGTTCATTCCA...      1\n",
       "96490  CCATGATCCTCCCCGGCTTGAAGCCCTTCACGGCTCCCTAGTGCCC...      1\n",
       "96491  CCATGATCCTCCCCGGCTTGAAGCCCTTCACGGCTCCCTAGTGCCC...      1\n",
       "96492  CCCCACTCCTTGCCTTTTTTGGCTAGGAGGTAGCTGGCATCCCCAC...      1\n",
       "96493  CCCCACTCCTTGCCTTTTTTGGCTAGGAGGTAGCTGGCATCCCCAC...      1\n",
       "\n",
       "[96494 rows x 2 columns]"
      ]
     },
     "execution_count": 7,
     "metadata": {},
     "output_type": "execute_result"
    }
   ],
   "source": [
    "# Replace 'file_path.csv' with the path to the TF data.csv file\n",
    "tf=\"CTCF\"\n",
    "file_path = f'/mnt/raid1/thalassini/home/filtered_fimo/{tf.upper()}/datasets/data.csv'\n",
    "df = pd.read_csv(file_path)\n",
    "df"
   ]
  },
  {
   "cell_type": "markdown",
   "id": "d22b4a0d",
   "metadata": {},
   "source": [
    "# Sequence length inspection and normalization"
   ]
  },
  {
   "cell_type": "code",
   "execution_count": 8,
   "id": "d33c9269",
   "metadata": {},
   "outputs": [
    {
     "name": "stdout",
     "output_type": "stream",
     "text": [
      "Max length:2000, Min length: 200\n"
     ]
    },
    {
     "data": {
      "image/png": "[encoded data removed]",
      "text/plain": [
       "<Figure size 640x480 with 1 Axes>"
      ]
     },
     "metadata": {},
     "output_type": "display_data"
    }
   ],
   "source": [
    "lengths= [len(item) for item in df['data']] \n",
    "print(f'Max length:{max(lengths)}, Min length: {min(lengths)}')\n",
    "import matplotlib.pyplot as plt\n",
    "# Plotting the histogram\n",
    "plt.hist(lengths, bins=10, color='blue', edgecolor='black')\n",
    "plt.title('Histogram of Lengths')\n",
    "plt.xlabel('Length')\n",
    "plt.ylabel('Frequency')\n",
    "plt.show()"
   ]
  },
  {
   "cell_type": "code",
   "execution_count": 9,
   "id": "292502f4",
   "metadata": {},
   "outputs": [],
   "source": [
    "# Find the maximum length of sequences\n",
    "#min_length = min(len(seq) for seq in df['data'])\n",
    "limit=200\n",
    "\n",
    "\n",
    "# Pad or cut sequences to ensure they all have the same length\n",
    "cut_sequences = [seq[:limit] for seq in df['data']]\n",
    "\n",
    "# Update the DataFrame with the cut sequences\n",
    "#df['data'] = cut_sequences"
   ]
  },
  {
   "cell_type": "code",
   "execution_count": 10,
   "id": "84f394a8",
   "metadata": {},
   "outputs": [
    {
     "name": "stdout",
     "output_type": "stream",
     "text": [
      "Max length:200, Min length: 200\n"
     ]
    }
   ],
   "source": [
    "lengths= [len(item) for item in cut_sequences]\n",
    "print(f'Max length:{max(lengths)}, Min length: {min(lengths)}')"
   ]
  },
  {
   "cell_type": "markdown",
   "id": "9b65d644",
   "metadata": {},
   "source": [
    "# Define X,y variables"
   ]
  },
  {
   "cell_type": "code",
   "execution_count": 11,
   "id": "f9e96a80",
   "metadata": {},
   "outputs": [],
   "source": [
    "X=[one_hot_encode(sequence) for sequence in cut_sequences]"
   ]
  },
  {
   "cell_type": "code",
   "execution_count": 12,
   "id": "2ab32859",
   "metadata": {},
   "outputs": [],
   "source": [
    "X = torch.from_numpy(np.array(X)).type(torch.float)\n"
   ]
  },
  {
   "cell_type": "code",
   "execution_count": 13,
   "id": "0bf2a817",
   "metadata": {},
   "outputs": [
    {
     "data": {
      "text/plain": [
       "torch.Size([96494, 200, 4])"
      ]
     },
     "execution_count": 13,
     "metadata": {},
     "output_type": "execute_result"
    }
   ],
   "source": [
    "X.shape"
   ]
  },
  {
   "cell_type": "code",
   "execution_count": 14,
   "id": "9aec20e4",
   "metadata": {},
   "outputs": [
    {
     "data": {
      "text/plain": [
       "array([0, 0, 0])"
      ]
     },
     "execution_count": 14,
     "metadata": {},
     "output_type": "execute_result"
    }
   ],
   "source": [
    "y=np.array(df['class'])\n",
    "y[:3]"
   ]
  },
  {
   "cell_type": "code",
   "execution_count": 15,
   "id": "7f1057ee",
   "metadata": {},
   "outputs": [],
   "source": [
    "y = torch.from_numpy(y).type(torch.float)"
   ]
  },
  {
   "cell_type": "markdown",
   "id": "c4515e0b",
   "metadata": {},
   "source": [
    "# Split the data in train, val and test set"
   ]
  },
  {
   "cell_type": "code",
   "execution_count": 16,
   "id": "f4a1304f",
   "metadata": {},
   "outputs": [
    {
     "name": "stdout",
     "output_type": "stream",
     "text": [
      "61756 61756 15439 15439\n",
      "19299 19299\n"
     ]
    }
   ],
   "source": [
    "from sklearn.model_selection import train_test_split\n",
    "from sklearn.model_selection import StratifiedShuffleSplit\n",
    "\n",
    "\n",
    "\n",
    "# Split the data into a stratified hold-out validation set and the rest\n",
    "stratified_splitter = StratifiedShuffleSplit(n_splits=1, test_size=0.2, random_state=42)\n",
    "\n",
    "for train_val_index, test_index in stratified_splitter.split(X, y):\n",
    "    X_train_val, X_test = X[train_val_index], X[test_index]\n",
    "    y_train_val, y_test = y[train_val_index], y[test_index]\n",
    "\n",
    "# Split the remaining data into training and validation sets\n",
    "X_train, X_val, y_train, y_val = train_test_split(X_train_val, y_train_val, test_size=0.2, stratify=y_train_val, random_state=42)\n",
    "\n",
    "print(len(X_train), len(y_train), len(X_val), len(y_val))\n",
    "print(len(X_test), len(y_test))\n",
    "\n",
    "\n",
    "# (X_train, X_val, y_train, y_val) for training, validation\n",
    "# X_test, y_test for the final hold-out validation.\n",
    "\n",
    "#X_train, X_val, X_test = torch.from_numpy(X_train).type(torch.float),torch.from_numpy(X_val).type(torch.float), torch.from_numpy(X_test).type(torch.float)\n",
    "\n"
   ]
  },
  {
   "cell_type": "markdown",
   "id": "d6716d37",
   "metadata": {},
   "source": [
    "# Create datasets and Dataloaders"
   ]
  },
  {
   "cell_type": "code",
   "execution_count": 17,
   "id": "cc8becaa",
   "metadata": {},
   "outputs": [
    {
     "name": "stdout",
     "output_type": "stream",
     "text": [
      "61756 61756 61756\n"
     ]
    }
   ],
   "source": [
    "from torch.utils.data import DataLoader, TensorDataset\n",
    "torch.manual_seed(42)\n",
    "\n",
    "# Expand the dimensions of y to make it 2-dimensional\n",
    "y_train = y_train.view(-1, 1)\n",
    "y_test = y_test.view(-1,1)\n",
    "y_val = y_val.view(-1,1)\n",
    "# Concatenate the complement of y to create a 2-dimensional tensor\n",
    "y_train_one_hot = torch.cat([1 - y_train, y_train], dim=1).float()\n",
    "y_test_one_hot = torch.cat([1 - y_test, y_test], dim=1).float()\n",
    "y_val_one_hot = torch.cat([1 - y_val, y_val], dim=1).float()\n",
    "\n",
    "\n",
    "# Move tensors to the same device\n",
    "X_train, y_train_one_hot, y_train = X_train.to(device), y_train_one_hot.to(device), y_train.to(device)\n",
    "X_val, y_val_one_hot, y_val = X_val.to(device), y_val_one_hot.to(device), y_val.to(device)\n",
    "X_test, y_test_one_hot, y_test = X_test.to(device), y_test_one_hot.to(device), y_test.to(device)\n",
    "\n",
    "\n",
    "print(X_train.size(0), y_train_one_hot.size(0), y_train.size(0))\n",
    "\n",
    "# Create datasets\n",
    "train_dataset = TensorDataset(X_train, y_train_one_hot, y_train)\n",
    "val_dataset = TensorDataset(X_val, y_val_one_hot, y_val)\n",
    "test_dataset = TensorDataset(X_test, y_test_one_hot, y_test)\n",
    "\n"
   ]
  },
  {
   "cell_type": "code",
   "execution_count": 18,
   "id": "107677e4",
   "metadata": {},
   "outputs": [],
   "source": [
    "\n",
    "batch_size=64\n",
    "torch.manual_seed(42)\n",
    "\n",
    "# Convert to PyTorch DataLoader\n",
    "train_loader = DataLoader(train_dataset, batch_size=batch_size, shuffle=True)\n",
    "val_loader = DataLoader(val_dataset, batch_size=batch_size, shuffle=True)\n",
    "test_loader = DataLoader(test_dataset, batch_size=batch_size, shuffle=True)"
   ]
  },
  {
   "cell_type": "markdown",
   "id": "d20e4bb7",
   "metadata": {},
   "source": [
    "# Construct a 1 layer CNN with Maxpooling and Dropout"
   ]
  },
  {
   "cell_type": "code",
   "execution_count": 19,
   "id": "9c0dfed6",
   "metadata": {},
   "outputs": [],
   "source": [
    "class Conv_v0(torch.nn.Module):\n",
    "\n",
    "    def __init__(self):\n",
    "        super(Conv_v0, self).__init__()\n",
    "\n",
    "        self.conv1 = torch.nn.Conv1d(in_channels=4, out_channels=3, kernel_size=17)\n",
    "        self.activation = torch.nn.ReLU()\n",
    "        self.maxpool = torch.nn.MaxPool1d(kernel_size=5)\n",
    "        \n",
    "        self.dropout = torch.nn.Dropout(p=0.5) \n",
    "        self.fc = torch.nn.Linear(in_features=108, out_features=2)\n",
    "        #elf.sigmoid = torch.nn.Sigmoid()\n",
    "\n",
    "    def forward(self, x):\n",
    "        x= x.permute(0, 2, 1)\n",
    "        x = self.conv1(x)\n",
    "        x = self.activation(x)\n",
    "        x = self.maxpool(x)\n",
    "        \n",
    "        # Reshape the output of the max pooling layer before passing it to the fully connected layer\n",
    "        x = x.view(x.size(0), -1)\n",
    "        \n",
    "        #print(\"Size after reshaping:\", x.size())\n",
    "        x=self.dropout(x)\n",
    "        x = self.fc(x)\n",
    "       #x = self.sigmoid(x)\n",
    "        return x\n"
   ]
  },
  {
   "cell_type": "markdown",
   "id": "e7f2d523",
   "metadata": {},
   "source": [
    "# Computing class weights"
   ]
  },
  {
   "cell_type": "code",
   "execution_count": 20,
   "id": "0f86ea45",
   "metadata": {},
   "outputs": [
    {
     "name": "stdout",
     "output_type": "stream",
     "text": [
      "Class Weights List: [2.6129045906494603, 1.6199994753547913]\n"
     ]
    }
   ],
   "source": [
    "from torch.utils.data import DataLoader, TensorDataset\n",
    "from sklearn.utils.class_weight import compute_class_weight\n",
    "\n",
    "# Assuming we have defined dataset\n",
    "# train_dataset = TensorDataset(X_train, y_train_one_hot, y_train)\n",
    "\n",
    "# Extract the labels from the dataset\n",
    "_, _, y_train = zip(*train_dataset)\n",
    "\n",
    "# Count occurrences of each class\n",
    "class_0_count = sum(1 for label in y_train if label == 0)\n",
    "class_1_count = sum(1 for label in y_train if label == 1)\n",
    "\n",
    "# Total length of y_train\n",
    "total_samples = len(y_train)\n",
    "\n",
    "# Calculate class weights\n",
    "weights = [total_samples / class_0_count, total_samples / class_1_count]\n",
    "\n",
    "# Print the list of class weights\n",
    "print(\"Class Weights List:\", weights)\n",
    "\n",
    "\n"
   ]
  },
  {
   "cell_type": "markdown",
   "id": "40b134d4",
   "metadata": {},
   "source": [
    "# Set up loss function and optimizer"
   ]
  },
  {
   "cell_type": "code",
   "execution_count": 21,
   "id": "948d9087",
   "metadata": {},
   "outputs": [],
   "source": [
    "from torch.optim import lr_scheduler\n",
    "weights = torch.tensor(weights).to(device)\n",
    "#print(weights)"
   ]
  },
  {
   "cell_type": "code",
   "execution_count": 22,
   "id": "65dbe876",
   "metadata": {},
   "outputs": [],
   "source": [
    "torch.manual_seed(42)\n",
    "\n",
    "# Initialize model instance\n",
    "model = Conv_v0()\n",
    "\n",
    "# define the CrossEntropyLoss with weights\n",
    "loss_fn = nn.BCEWithLogitsLoss(weight=weights)\n",
    "\n",
    "# Define oprimizer\n",
    "optimizer = torch.optim.Adam(model.parameters(), lr=0.0001)\n",
    "\n",
    "# Define exponetntial lr with lr_scheduler\n",
    "exp_lr_scheduler = lr_scheduler.ExponentialLR(optimizer, gamma=0.01)"
   ]
  },
  {
   "cell_type": "code",
   "execution_count": 23,
   "id": "e1d337c9",
   "metadata": {},
   "outputs": [
    {
     "data": {
      "text/plain": [
       "tensor([[-0.1761, -0.4056],\n",
       "        [-0.4687, -0.6150],\n",
       "        [-0.0792,  0.0007],\n",
       "        [ 0.0216, -0.0450],\n",
       "        [ 0.1556, -0.4204]], grad_fn=<SliceBackward0>)"
      ]
     },
     "execution_count": 23,
     "metadata": {},
     "output_type": "execute_result"
    }
   ],
   "source": [
    "# View the frist 5 outputs of the forward pass on the test data\n",
    "y_logits = model(X_test.to(device))[:5]\n",
    "y_logits"
   ]
  },
  {
   "cell_type": "code",
   "execution_count": 24,
   "id": "d2669895",
   "metadata": {},
   "outputs": [
    {
     "data": {
      "application/vnd.jupyter.widget-view+json": {
       "model_id": "3b4a953576334497acfc2c6fd93cb291",
       "version_major": 2,
       "version_minor": 0
      },
      "text/plain": [
       "  0%|          | 0/100 [00:00<?, ?it/s]"
      ]
     },
     "metadata": {},
     "output_type": "display_data"
    },
    {
     "name": "stdout",
     "output_type": "stream",
     "text": [
      "Epoch: 1 | train_loss: 1.4054 | train_bal_acc: 0.5073 | train_mcc: 0.0325 | valid_loss: 1.3606 | valid_bal_acc: 0.5000 | valid_mcc: 0.0000\n",
      "Epoch: 2 | train_loss: 1.3276 | train_bal_acc: 0.5608 | train_mcc: 0.1981 | valid_loss: 1.2562 | valid_bal_acc: 0.5187 | valid_mcc: 0.1169\n",
      "Epoch: 3 | train_loss: 1.2190 | train_bal_acc: 0.6695 | train_mcc: 0.3906 | valid_loss: 1.1024 | valid_bal_acc: 0.6706 | valid_mcc: 0.4747\n",
      "Epoch: 4 | train_loss: 1.0874 | train_bal_acc: 0.7298 | train_mcc: 0.4907 | valid_loss: 0.9377 | valid_bal_acc: 0.8384 | valid_mcc: 0.7285\n",
      "Epoch: 5 | train_loss: 0.9876 | train_bal_acc: 0.7562 | train_mcc: 0.5377 | valid_loss: 0.8085 | valid_bal_acc: 0.8977 | valid_mcc: 0.8159\n",
      "Epoch: 6 | train_loss: 0.9095 | train_bal_acc: 0.7797 | train_mcc: 0.5809 | valid_loss: 0.7136 | valid_bal_acc: 0.9198 | valid_mcc: 0.8508\n",
      "Epoch: 7 | train_loss: 0.8590 | train_bal_acc: 0.7938 | train_mcc: 0.6076 | valid_loss: 0.6444 | valid_bal_acc: 0.9323 | valid_mcc: 0.8673\n",
      "Epoch: 8 | train_loss: 0.8169 | train_bal_acc: 0.8067 | train_mcc: 0.6315 | valid_loss: 0.5901 | valid_bal_acc: 0.9362 | valid_mcc: 0.8753\n",
      "Epoch: 9 | train_loss: 0.7832 | train_bal_acc: 0.8164 | train_mcc: 0.6516 | valid_loss: 0.5462 | valid_bal_acc: 0.9412 | valid_mcc: 0.8833\n",
      "Epoch: 10 | train_loss: 0.7557 | train_bal_acc: 0.8211 | train_mcc: 0.6608 | valid_loss: 0.5129 | valid_bal_acc: 0.9456 | valid_mcc: 0.8901\n",
      "Epoch: 11 | train_loss: 0.7393 | train_bal_acc: 0.8256 | train_mcc: 0.6691 | valid_loss: 0.4849 | valid_bal_acc: 0.9495 | valid_mcc: 0.8969\n",
      "Epoch: 12 | train_loss: 0.7164 | train_bal_acc: 0.8348 | train_mcc: 0.6864 | valid_loss: 0.4603 | valid_bal_acc: 0.9511 | valid_mcc: 0.8996\n",
      "Epoch: 13 | train_loss: 0.7102 | train_bal_acc: 0.8346 | train_mcc: 0.6880 | valid_loss: 0.4456 | valid_bal_acc: 0.9549 | valid_mcc: 0.9053\n",
      "Epoch: 14 | train_loss: 0.6982 | train_bal_acc: 0.8399 | train_mcc: 0.6981 | valid_loss: 0.4248 | valid_bal_acc: 0.9553 | valid_mcc: 0.9075\n",
      "Epoch: 15 | train_loss: 0.6880 | train_bal_acc: 0.8399 | train_mcc: 0.6992 | valid_loss: 0.4114 | valid_bal_acc: 0.9569 | valid_mcc: 0.9096\n",
      "Epoch: 16 | train_loss: 0.6742 | train_bal_acc: 0.8438 | train_mcc: 0.7061 | valid_loss: 0.3986 | valid_bal_acc: 0.9567 | valid_mcc: 0.9102\n",
      "Epoch: 17 | train_loss: 0.6704 | train_bal_acc: 0.8449 | train_mcc: 0.7087 | valid_loss: 0.3881 | valid_bal_acc: 0.9574 | valid_mcc: 0.9114\n",
      "Epoch: 18 | train_loss: 0.6632 | train_bal_acc: 0.8465 | train_mcc: 0.7123 | valid_loss: 0.3767 | valid_bal_acc: 0.9591 | valid_mcc: 0.9138\n",
      "Epoch: 19 | train_loss: 0.6545 | train_bal_acc: 0.8489 | train_mcc: 0.7167 | valid_loss: 0.3679 | valid_bal_acc: 0.9602 | valid_mcc: 0.9157\n",
      "Epoch: 20 | train_loss: 0.6493 | train_bal_acc: 0.8496 | train_mcc: 0.7171 | valid_loss: 0.3562 | valid_bal_acc: 0.9595 | valid_mcc: 0.9167\n",
      "Epoch: 21 | train_loss: 0.6510 | train_bal_acc: 0.8474 | train_mcc: 0.7139 | valid_loss: 0.3567 | valid_bal_acc: 0.9605 | valid_mcc: 0.9178\n",
      "Epoch: 22 | train_loss: 0.6388 | train_bal_acc: 0.8541 | train_mcc: 0.7268 | valid_loss: 0.3491 | valid_bal_acc: 0.9631 | valid_mcc: 0.9216\n",
      "Epoch: 23 | train_loss: 0.6445 | train_bal_acc: 0.8509 | train_mcc: 0.7211 | valid_loss: 0.3416 | valid_bal_acc: 0.9632 | valid_mcc: 0.9220\n",
      "Epoch: 24 | train_loss: 0.6351 | train_bal_acc: 0.8515 | train_mcc: 0.7216 | valid_loss: 0.3349 | valid_bal_acc: 0.9627 | valid_mcc: 0.9223\n",
      "Epoch: 25 | train_loss: 0.6396 | train_bal_acc: 0.8515 | train_mcc: 0.7232 | valid_loss: 0.3364 | valid_bal_acc: 0.9637 | valid_mcc: 0.9219\n",
      "Epoch: 26 | train_loss: 0.6316 | train_bal_acc: 0.8549 | train_mcc: 0.7293 | valid_loss: 0.3300 | valid_bal_acc: 0.9638 | valid_mcc: 0.9241\n",
      "Epoch: 27 | train_loss: 0.6317 | train_bal_acc: 0.8531 | train_mcc: 0.7259 | valid_loss: 0.3238 | valid_bal_acc: 0.9641 | valid_mcc: 0.9249\n",
      "Epoch: 28 | train_loss: 0.6291 | train_bal_acc: 0.8548 | train_mcc: 0.7294 | valid_loss: 0.3212 | valid_bal_acc: 0.9645 | valid_mcc: 0.9245\n",
      "Epoch: 29 | train_loss: 0.6226 | train_bal_acc: 0.8561 | train_mcc: 0.7317 | valid_loss: 0.3167 | valid_bal_acc: 0.9650 | valid_mcc: 0.9257\n",
      "Epoch: 30 | train_loss: 0.6292 | train_bal_acc: 0.8552 | train_mcc: 0.7313 | valid_loss: 0.3158 | valid_bal_acc: 0.9654 | valid_mcc: 0.9265\n",
      "Epoch: 31 | train_loss: 0.6191 | train_bal_acc: 0.8576 | train_mcc: 0.7353 | valid_loss: 0.3076 | valid_bal_acc: 0.9655 | valid_mcc: 0.9272\n",
      "Epoch: 32 | train_loss: 0.6190 | train_bal_acc: 0.8567 | train_mcc: 0.7332 | valid_loss: 0.3068 | valid_bal_acc: 0.9667 | valid_mcc: 0.9282\n",
      "Epoch: 33 | train_loss: 0.6198 | train_bal_acc: 0.8597 | train_mcc: 0.7391 | valid_loss: 0.3017 | valid_bal_acc: 0.9671 | valid_mcc: 0.9301\n",
      "Epoch: 34 | train_loss: 0.6138 | train_bal_acc: 0.8609 | train_mcc: 0.7414 | valid_loss: 0.2984 | valid_bal_acc: 0.9660 | valid_mcc: 0.9288\n",
      "Epoch: 35 | train_loss: 0.6019 | train_bal_acc: 0.8641 | train_mcc: 0.7468 | valid_loss: 0.2921 | valid_bal_acc: 0.9681 | valid_mcc: 0.9326\n",
      "Epoch: 36 | train_loss: 0.5901 | train_bal_acc: 0.8690 | train_mcc: 0.7552 | valid_loss: 0.2840 | valid_bal_acc: 0.9683 | valid_mcc: 0.9329\n",
      "Epoch: 37 | train_loss: 0.6010 | train_bal_acc: 0.8646 | train_mcc: 0.7474 | valid_loss: 0.2828 | valid_bal_acc: 0.9680 | valid_mcc: 0.9330\n",
      "Epoch: 38 | train_loss: 0.5965 | train_bal_acc: 0.8668 | train_mcc: 0.7516 | valid_loss: 0.2790 | valid_bal_acc: 0.9691 | valid_mcc: 0.9350\n",
      "Epoch: 39 | train_loss: 0.5899 | train_bal_acc: 0.8671 | train_mcc: 0.7525 | valid_loss: 0.2804 | valid_bal_acc: 0.9700 | valid_mcc: 0.9361\n",
      "Epoch: 40 | train_loss: 0.5896 | train_bal_acc: 0.8685 | train_mcc: 0.7553 | valid_loss: 0.2754 | valid_bal_acc: 0.9704 | valid_mcc: 0.9371\n",
      "Epoch: 41 | train_loss: 0.5801 | train_bal_acc: 0.8707 | train_mcc: 0.7602 | valid_loss: 0.2710 | valid_bal_acc: 0.9710 | valid_mcc: 0.9383\n",
      "Epoch: 42 | train_loss: 0.5799 | train_bal_acc: 0.8703 | train_mcc: 0.7595 | valid_loss: 0.2688 | valid_bal_acc: 0.9712 | valid_mcc: 0.9390\n",
      "Epoch: 43 | train_loss: 0.5710 | train_bal_acc: 0.8739 | train_mcc: 0.7665 | valid_loss: 0.2660 | valid_bal_acc: 0.9719 | valid_mcc: 0.9394\n",
      "Epoch: 44 | train_loss: 0.5719 | train_bal_acc: 0.8747 | train_mcc: 0.7682 | valid_loss: 0.2634 | valid_bal_acc: 0.9713 | valid_mcc: 0.9401\n",
      "Epoch: 45 | train_loss: 0.5647 | train_bal_acc: 0.8752 | train_mcc: 0.7689 | valid_loss: 0.2612 | valid_bal_acc: 0.9717 | valid_mcc: 0.9401\n",
      "Epoch: 46 | train_loss: 0.5663 | train_bal_acc: 0.8764 | train_mcc: 0.7713 | valid_loss: 0.2590 | valid_bal_acc: 0.9733 | valid_mcc: 0.9432\n",
      "Epoch: 47 | train_loss: 0.5660 | train_bal_acc: 0.8754 | train_mcc: 0.7707 | valid_loss: 0.2580 | valid_bal_acc: 0.9737 | valid_mcc: 0.9434\n",
      "Epoch: 48 | train_loss: 0.5561 | train_bal_acc: 0.8776 | train_mcc: 0.7741 | valid_loss: 0.2525 | valid_bal_acc: 0.9736 | valid_mcc: 0.9436\n",
      "Epoch: 49 | train_loss: 0.5592 | train_bal_acc: 0.8778 | train_mcc: 0.7743 | valid_loss: 0.2543 | valid_bal_acc: 0.9740 | valid_mcc: 0.9444\n",
      "Epoch: 50 | train_loss: 0.5612 | train_bal_acc: 0.8765 | train_mcc: 0.7728 | valid_loss: 0.2486 | valid_bal_acc: 0.9736 | valid_mcc: 0.9439\n",
      "Epoch: 51 | train_loss: 0.5504 | train_bal_acc: 0.8808 | train_mcc: 0.7806 | valid_loss: 0.2494 | valid_bal_acc: 0.9753 | valid_mcc: 0.9466\n",
      "Epoch: 52 | train_loss: 0.5559 | train_bal_acc: 0.8767 | train_mcc: 0.7732 | valid_loss: 0.2472 | valid_bal_acc: 0.9748 | valid_mcc: 0.9458\n",
      "Epoch: 53 | train_loss: 0.5538 | train_bal_acc: 0.8795 | train_mcc: 0.7799 | valid_loss: 0.2465 | valid_bal_acc: 0.9760 | valid_mcc: 0.9478\n",
      "Epoch: 54 | train_loss: 0.5499 | train_bal_acc: 0.8808 | train_mcc: 0.7819 | valid_loss: 0.2439 | valid_bal_acc: 0.9759 | valid_mcc: 0.9474\n",
      "Epoch: 55 | train_loss: 0.5504 | train_bal_acc: 0.8793 | train_mcc: 0.7790 | valid_loss: 0.2443 | valid_bal_acc: 0.9756 | valid_mcc: 0.9476\n",
      "Epoch: 56 | train_loss: 0.5496 | train_bal_acc: 0.8806 | train_mcc: 0.7819 | valid_loss: 0.2453 | valid_bal_acc: 0.9756 | valid_mcc: 0.9471\n",
      "Epoch: 57 | train_loss: 0.5491 | train_bal_acc: 0.8797 | train_mcc: 0.7796 | valid_loss: 0.2414 | valid_bal_acc: 0.9758 | valid_mcc: 0.9475\n",
      "Epoch: 58 | train_loss: 0.5494 | train_bal_acc: 0.8799 | train_mcc: 0.7805 | valid_loss: 0.2413 | valid_bal_acc: 0.9766 | valid_mcc: 0.9485\n",
      "Epoch: 59 | train_loss: 0.5387 | train_bal_acc: 0.8817 | train_mcc: 0.7836 | valid_loss: 0.2410 | valid_bal_acc: 0.9765 | valid_mcc: 0.9487\n"
     ]
    },
    {
     "name": "stdout",
     "output_type": "stream",
     "text": [
      "Epoch: 60 | train_loss: 0.5432 | train_bal_acc: 0.8820 | train_mcc: 0.7853 | valid_loss: 0.2417 | valid_bal_acc: 0.9767 | valid_mcc: 0.9488\n",
      "Epoch: 61 | train_loss: 0.5399 | train_bal_acc: 0.8841 | train_mcc: 0.7881 | valid_loss: 0.2399 | valid_bal_acc: 0.9770 | valid_mcc: 0.9492\n",
      "Epoch: 62 | train_loss: 0.5467 | train_bal_acc: 0.8801 | train_mcc: 0.7805 | valid_loss: 0.2373 | valid_bal_acc: 0.9763 | valid_mcc: 0.9489\n",
      "Epoch: 63 | train_loss: 0.5415 | train_bal_acc: 0.8836 | train_mcc: 0.7880 | valid_loss: 0.2378 | valid_bal_acc: 0.9763 | valid_mcc: 0.9489\n",
      "Epoch: 64 | train_loss: 0.5393 | train_bal_acc: 0.8824 | train_mcc: 0.7851 | valid_loss: 0.2366 | valid_bal_acc: 0.9759 | valid_mcc: 0.9482\n",
      "Epoch: 65 | train_loss: 0.5331 | train_bal_acc: 0.8851 | train_mcc: 0.7904 | valid_loss: 0.2366 | valid_bal_acc: 0.9766 | valid_mcc: 0.9491\n",
      "Epoch: 66 | train_loss: 0.5353 | train_bal_acc: 0.8838 | train_mcc: 0.7881 | valid_loss: 0.2328 | valid_bal_acc: 0.9764 | valid_mcc: 0.9495\n",
      "Epoch: 67 | train_loss: 0.5372 | train_bal_acc: 0.8841 | train_mcc: 0.7890 | valid_loss: 0.2340 | valid_bal_acc: 0.9760 | valid_mcc: 0.9490\n",
      "Epoch: 68 | train_loss: 0.5335 | train_bal_acc: 0.8844 | train_mcc: 0.7896 | valid_loss: 0.2324 | valid_bal_acc: 0.9763 | valid_mcc: 0.9490\n",
      "Epoch: 69 | train_loss: 0.5295 | train_bal_acc: 0.8875 | train_mcc: 0.7955 | valid_loss: 0.2325 | valid_bal_acc: 0.9767 | valid_mcc: 0.9497\n",
      "Epoch: 70 | train_loss: 0.5370 | train_bal_acc: 0.8852 | train_mcc: 0.7915 | valid_loss: 0.2324 | valid_bal_acc: 0.9765 | valid_mcc: 0.9500\n",
      "Epoch: 71 | train_loss: 0.5347 | train_bal_acc: 0.8843 | train_mcc: 0.7889 | valid_loss: 0.2326 | valid_bal_acc: 0.9765 | valid_mcc: 0.9500\n",
      "Epoch: 72 | train_loss: 0.5322 | train_bal_acc: 0.8847 | train_mcc: 0.7906 | valid_loss: 0.2300 | valid_bal_acc: 0.9768 | valid_mcc: 0.9507\n",
      "Epoch: 73 | train_loss: 0.5334 | train_bal_acc: 0.8846 | train_mcc: 0.7903 | valid_loss: 0.2303 | valid_bal_acc: 0.9767 | valid_mcc: 0.9506\n",
      "Epoch: 74 | train_loss: 0.5307 | train_bal_acc: 0.8854 | train_mcc: 0.7925 | valid_loss: 0.2304 | valid_bal_acc: 0.9766 | valid_mcc: 0.9503\n",
      "Epoch: 75 | train_loss: 0.5382 | train_bal_acc: 0.8842 | train_mcc: 0.7897 | valid_loss: 0.2366 | valid_bal_acc: 0.9768 | valid_mcc: 0.9500\n",
      "Epoch: 76 | train_loss: 0.5247 | train_bal_acc: 0.8867 | train_mcc: 0.7951 | valid_loss: 0.2270 | valid_bal_acc: 0.9764 | valid_mcc: 0.9499\n",
      "Epoch: 77 | train_loss: 0.5302 | train_bal_acc: 0.8841 | train_mcc: 0.7895 | valid_loss: 0.2274 | valid_bal_acc: 0.9767 | valid_mcc: 0.9500\n",
      "Epoch: 78 | train_loss: 0.5192 | train_bal_acc: 0.8887 | train_mcc: 0.7973 | valid_loss: 0.2245 | valid_bal_acc: 0.9765 | valid_mcc: 0.9495\n",
      "Epoch: 79 | train_loss: 0.5288 | train_bal_acc: 0.8862 | train_mcc: 0.7934 | valid_loss: 0.2282 | valid_bal_acc: 0.9770 | valid_mcc: 0.9502\n",
      "Epoch: 80 | train_loss: 0.5282 | train_bal_acc: 0.8854 | train_mcc: 0.7917 | valid_loss: 0.2275 | valid_bal_acc: 0.9766 | valid_mcc: 0.9502\n",
      "Epoch: 81 | train_loss: 0.5247 | train_bal_acc: 0.8870 | train_mcc: 0.7948 | valid_loss: 0.2240 | valid_bal_acc: 0.9761 | valid_mcc: 0.9498\n",
      "Epoch: 82 | train_loss: 0.5254 | train_bal_acc: 0.8863 | train_mcc: 0.7934 | valid_loss: 0.2275 | valid_bal_acc: 0.9775 | valid_mcc: 0.9510\n",
      "Epoch: 83 | train_loss: 0.5260 | train_bal_acc: 0.8877 | train_mcc: 0.7957 | valid_loss: 0.2243 | valid_bal_acc: 0.9772 | valid_mcc: 0.9513\n",
      "Epoch: 84 | train_loss: 0.5266 | train_bal_acc: 0.8854 | train_mcc: 0.7929 | valid_loss: 0.2238 | valid_bal_acc: 0.9776 | valid_mcc: 0.9520\n",
      "Epoch: 85 | train_loss: 0.5169 | train_bal_acc: 0.8886 | train_mcc: 0.7973 | valid_loss: 0.2222 | valid_bal_acc: 0.9773 | valid_mcc: 0.9514\n",
      "Epoch: 86 | train_loss: 0.5199 | train_bal_acc: 0.8884 | train_mcc: 0.7982 | valid_loss: 0.2231 | valid_bal_acc: 0.9771 | valid_mcc: 0.9511\n",
      "Epoch: 87 | train_loss: 0.5220 | train_bal_acc: 0.8885 | train_mcc: 0.7983 | valid_loss: 0.2231 | valid_bal_acc: 0.9766 | valid_mcc: 0.9500\n",
      "Epoch: 88 | train_loss: 0.5290 | train_bal_acc: 0.8861 | train_mcc: 0.7943 | valid_loss: 0.2246 | valid_bal_acc: 0.9761 | valid_mcc: 0.9499\n",
      "Epoch: 89 | train_loss: 0.5216 | train_bal_acc: 0.8866 | train_mcc: 0.7952 | valid_loss: 0.2205 | valid_bal_acc: 0.9771 | valid_mcc: 0.9510\n",
      "Epoch: 90 | train_loss: 0.5311 | train_bal_acc: 0.8852 | train_mcc: 0.7926 | valid_loss: 0.2252 | valid_bal_acc: 0.9763 | valid_mcc: 0.9500\n",
      "Epoch: 91 | train_loss: 0.5267 | train_bal_acc: 0.8847 | train_mcc: 0.7913 | valid_loss: 0.2236 | valid_bal_acc: 0.9771 | valid_mcc: 0.9517\n",
      "Epoch: 92 | train_loss: 0.5204 | train_bal_acc: 0.8870 | train_mcc: 0.7958 | valid_loss: 0.2225 | valid_bal_acc: 0.9775 | valid_mcc: 0.9515\n",
      "Epoch: 93 | train_loss: 0.5276 | train_bal_acc: 0.8864 | train_mcc: 0.7944 | valid_loss: 0.2236 | valid_bal_acc: 0.9768 | valid_mcc: 0.9500\n",
      "Epoch: 94 | train_loss: 0.5209 | train_bal_acc: 0.8874 | train_mcc: 0.7966 | valid_loss: 0.2232 | valid_bal_acc: 0.9769 | valid_mcc: 0.9504\n",
      "Epoch: 95 | train_loss: 0.5219 | train_bal_acc: 0.8868 | train_mcc: 0.7956 | valid_loss: 0.2203 | valid_bal_acc: 0.9767 | valid_mcc: 0.9505\n",
      "Epoch: 96 | train_loss: 0.5223 | train_bal_acc: 0.8870 | train_mcc: 0.7961 | valid_loss: 0.2226 | valid_bal_acc: 0.9760 | valid_mcc: 0.9493\n",
      "Epoch: 97 | train_loss: 0.5192 | train_bal_acc: 0.8868 | train_mcc: 0.7959 | valid_loss: 0.2196 | valid_bal_acc: 0.9764 | valid_mcc: 0.9505\n",
      "Epoch: 98 | train_loss: 0.5183 | train_bal_acc: 0.8874 | train_mcc: 0.7967 | valid_loss: 0.2202 | valid_bal_acc: 0.9777 | valid_mcc: 0.9514\n",
      "Epoch: 99 | train_loss: 0.5253 | train_bal_acc: 0.8857 | train_mcc: 0.7930 | valid_loss: 0.2214 | valid_bal_acc: 0.9772 | valid_mcc: 0.9504\n",
      "Epoch: 100 | train_loss: 0.5179 | train_bal_acc: 0.8875 | train_mcc: 0.7972 | valid_loss: 0.2228 | valid_bal_acc: 0.9771 | valid_mcc: 0.9513\n"
     ]
    }
   ],
   "source": [
    "results, _ = engine.train_with_early_stopping(model=model,\n",
    "                                                  train_dataloader=train_loader,\n",
    "                                                  valid_dataloader=val_loader,\n",
    "                                                  optimizer=optimizer,\n",
    "                                                  loss_fn=loss_fn,\n",
    "                                                  epochs=100,\n",
    "                                                  device=device)\n"
   ]
  },
  {
   "cell_type": "code",
   "execution_count": 27,
   "id": "8e394a60",
   "metadata": {},
   "outputs": [
    {
     "data": {
      "text/plain": [
       "Text(0.5, 1.0, 'Loss Curves for 1 layer CNN with input 200b seqs')"
      ]
     },
     "execution_count": 27,
     "metadata": {},
     "output_type": "execute_result"
    },
    {
     "data": {
      "image/png": "[encoded data removed]",
      "text/plain": [
       "<Figure size 1500x700 with 2 Axes>"
      ]
     },
     "metadata": {},
     "output_type": "display_data"
    }
   ],
   "source": [
    "helper_functions.plot_loss_curves(results)\n",
    "plt.savefig(f'{tf}_CNN1_ADAM_BCEWithLogits_seq=200b.png'); plt.title(\"Loss Curves for 1 layer CNN with input 200b seqs\")"
   ]
  },
  {
   "cell_type": "code",
   "execution_count": 26,
   "id": "228c82d1",
   "metadata": {},
   "outputs": [
    {
     "name": "stdout",
     "output_type": "stream",
     "text": [
      "Perfomance on held out test set\n",
      "Test loss: 0.21764304942839982 | Test bal acc 0.9781174306046829 | Test mcc 0.9537587433439813 | Test_f_score 0.9779755727576176\n",
      "\n"
     ]
    }
   ],
   "source": [
    "from sklearn.metrics import balanced_accuracy_score, matthews_corrcoef, f1_score\n",
    "import torch.nn.functional as F\n",
    "\n",
    "\n",
    "model.eval()\n",
    "\n",
    "\n",
    "with torch.inference_mode():\n",
    "    all_predictions = []\n",
    "    all_true_labels = []\n",
    "    all_test_pred_prob=[]\n",
    "    \n",
    "    test_loss, test_bal_acc, test_mcc, test_f_score = 0, 0, 0, 0\n",
    "    for batch, (X, y_one_hot, y) in enumerate(test_loader):\n",
    "        # Send data to target device\n",
    "        X, y_one_hot, y = X.to(device),y_one_hot.to(device), y.to(device)\n",
    "\n",
    "        # 1. Forward pass\n",
    "        test_pred_logits = model(X)\n",
    "\n",
    "        # 2. Calculate and accumulate loss\n",
    "        loss = loss_fn(test_pred_logits, y_one_hot)\n",
    "        test_loss += loss.item()\n",
    "\n",
    "        # Calculate and accumulate scores\n",
    "        test_pred_labels = test_pred_logits.argmax(dim=1)\n",
    "        test_pred_prob = torch.softmax(test_pred_logits.squeeze(), dim=0) # note: perform softmax on the \"logits\" dimension, not \"batch\" dimension (in this case we have a batch size of 1, so can perform on dim=0)\n",
    "        test_bal_acc += balanced_accuracy_score(y.cpu().numpy(), test_pred_labels.cpu().numpy())\n",
    "        test_mcc += matthews_corrcoef(y.cpu().numpy(), test_pred_labels.cpu().numpy())\n",
    "        test_f_score += f1_score(y.cpu().numpy(), test_pred_labels.cpu().numpy(), average='weighted')\n",
    "        \n",
    "        all_predictions.extend(test_pred_labels.cpu().numpy())\n",
    "        all_true_labels.extend(y.cpu().numpy())\n",
    "        all_test_pred_prob.extend(test_pred_prob.cpu().numpy())\n",
    "\n",
    "    # Adjust metrics to get average loss and accuracy per batch\n",
    "    test_loss = test_loss / len(test_loader)\n",
    "    test_bal_acc = test_bal_acc / len(test_loader)\n",
    "    test_mcc = test_mcc / len(test_loader)\n",
    "    test_f_score = test_f_score / len(test_loader)\n",
    "    print(\"Perfomance on held out test set\")\n",
    "    print(f'Test loss: {test_loss} | Test bal acc {test_bal_acc} | Test mcc {test_mcc} | Test_f_score {test_f_score}\\n')   \n",
    "    "
   ]
  },
  {
   "cell_type": "markdown",
   "id": "e8c518d8",
   "metadata": {},
   "source": [
    "We can observe that the model is not overfiting since the perfomance on the held out test set is high"
   ]
  },
  {
   "cell_type": "code",
   "execution_count": null,
   "id": "51cd093a",
   "metadata": {},
   "outputs": [],
   "source": []
  }
 ],
 "metadata": {
  "kernelspec": {
   "display_name": "Python 3 (ipykernel)",
   "language": "python",
   "name": "python3"
  },
  "language_info": {
   "codemirror_mode": {
    "name": "ipython",
    "version": 3
   },
   "file_extension": ".py",
   "mimetype": "text/x-python",
   "name": "python",
   "nbconvert_exporter": "python",
   "pygments_lexer": "ipython3",
   "version": "3.11.5"
  }
 },
 "nbformat": 4,
 "nbformat_minor": 5
}
