{
 "cells": [
  {
   "cell_type": "markdown",
   "id": "520fbfff",
   "metadata": {},
   "source": [
    "# Imports and functions"
   ]
  },
  {
   "cell_type": "code",
   "execution_count": 8,
   "id": "05d85633",
   "metadata": {},
   "outputs": [],
   "source": [
    "import pandas as pd\n",
    "import numpy as np\n",
    "from sklearn.preprocessing import OneHotEncoder\n",
    "from keras.utils import to_categorical\n",
    "from sklearn.metrics import balanced_accuracy_score"
   ]
  },
  {
   "cell_type": "code",
   "execution_count": 9,
   "id": "1389113b",
   "metadata": {},
   "outputs": [],
   "source": [
    "import torchvision\n",
    "import engine\n",
    "import helper_functions"
   ]
  },
  {
   "cell_type": "code",
   "execution_count": 10,
   "id": "3a2e0857",
   "metadata": {},
   "outputs": [],
   "source": [
    "from tqdm.auto import tqdm\n",
    "from typing import Dict, List, Tuple\n",
    "from sklearn.metrics import balanced_accuracy_score, matthews_corrcoef, f1_score\n",
    "from collections import deque  # Import deque for early stopping\n",
    "import warnings\n",
    "\n",
    "# Suppress the specific UserWarning related to y_pred and y_true class mismatch\n",
    "warnings.filterwarnings(\"ignore\", category=UserWarning, message=\"y_pred contains classes not in y_true\")"
   ]
  },
  {
   "cell_type": "code",
   "execution_count": 11,
   "id": "faeaeafc",
   "metadata": {},
   "outputs": [],
   "source": [
    "from sklearn.metrics import balanced_accuracy_score\n",
    "\n",
    "# Function to calculate balanced accuracy using sklearn\n",
    "def balanced_accuracy(y_true, y_pred):\n",
    "    return balanced_accuracy_score(y_true, y_pred) * 100"
   ]
  },
  {
   "cell_type": "code",
   "execution_count": 12,
   "id": "6c000451",
   "metadata": {},
   "outputs": [],
   "source": [
    "# Function to perform one-hot encoding for DNA sequences\n",
    "def one_hot_encode(sequence):\n",
    "    encoding = {'A': [1, 0, 0, 0], 'T': [0, 1, 0, 0], 'G': [0, 0, 1, 0], 'C': [0, 0, 0, 1]}\n",
    "    one_hot_sequence = [encoding.get(base, [0, 0, 0, 0]) for base in sequence]\n",
    "    return np.array(one_hot_sequence)"
   ]
  },
  {
   "cell_type": "markdown",
   "id": "69190e84",
   "metadata": {},
   "source": [
    "# Set up device agnostic code"
   ]
  },
  {
   "cell_type": "code",
   "execution_count": 13,
   "id": "12cee86f",
   "metadata": {},
   "outputs": [
    {
     "data": {
      "text/plain": [
       "'cpu'"
      ]
     },
     "execution_count": 13,
     "metadata": {},
     "output_type": "execute_result"
    }
   ],
   "source": [
    "import torch\n",
    "from torch import nn\n",
    "# Make device agnostic code\n",
    "device = \"cuda\" if torch.cuda.is_available() else \"cpu\"\n",
    "device"
   ]
  },
  {
   "cell_type": "code",
   "execution_count": 14,
   "id": "c9939f1e",
   "metadata": {},
   "outputs": [
    {
     "data": {
      "text/html": [
       "<div>\n",
       "<style scoped>\n",
       "    .dataframe tbody tr th:only-of-type {\n",
       "        vertical-align: middle;\n",
       "    }\n",
       "\n",
       "    .dataframe tbody tr th {\n",
       "        vertical-align: top;\n",
       "    }\n",
       "\n",
       "    .dataframe thead th {\n",
       "        text-align: right;\n",
       "    }\n",
       "</style>\n",
       "<table border=\"1\" class=\"dataframe\">\n",
       "  <thead>\n",
       "    <tr style=\"text-align: right;\">\n",
       "      <th></th>\n",
       "      <th>data</th>\n",
       "      <th>class</th>\n",
       "    </tr>\n",
       "  </thead>\n",
       "  <tbody>\n",
       "    <tr>\n",
       "      <th>0</th>\n",
       "      <td>TGGAAAAGCGTGTGGAGCCTCCTGCAGGGTGCCTGGCACGTGGAAT...</td>\n",
       "      <td>0</td>\n",
       "    </tr>\n",
       "    <tr>\n",
       "      <th>1</th>\n",
       "      <td>CTCACACGGTGGTCTTCCTGTGTGTGTGTCTGTCTCTGTCTAAATT...</td>\n",
       "      <td>0</td>\n",
       "    </tr>\n",
       "    <tr>\n",
       "      <th>2</th>\n",
       "      <td>TAGTAAGATTTGGGAGGACTTCAAGTACCTTGATCCTGTAATCCCC...</td>\n",
       "      <td>0</td>\n",
       "    </tr>\n",
       "    <tr>\n",
       "      <th>3</th>\n",
       "      <td>AGGCATGGTTAGGATCAGGGCATCAGGCAGAGAAAGGGCCGACGCA...</td>\n",
       "      <td>0</td>\n",
       "    </tr>\n",
       "    <tr>\n",
       "      <th>4</th>\n",
       "      <td>GCAGGGGATGGGGACTGCCAGGGAGGGAAATCAACTCAGGGAAAAA...</td>\n",
       "      <td>0</td>\n",
       "    </tr>\n",
       "    <tr>\n",
       "      <th>...</th>\n",
       "      <td>...</td>\n",
       "      <td>...</td>\n",
       "    </tr>\n",
       "    <tr>\n",
       "      <th>69765</th>\n",
       "      <td>TGGGGAAAAATCGAGGAAAAATTTCAATGTCATGTTTTTGTTAAAA...</td>\n",
       "      <td>1</td>\n",
       "    </tr>\n",
       "    <tr>\n",
       "      <th>69766</th>\n",
       "      <td>GGTTCTTTTAAACCTCAATCTAAACTTCTAGAGATAGAAGAAAATT...</td>\n",
       "      <td>1</td>\n",
       "    </tr>\n",
       "    <tr>\n",
       "      <th>69767</th>\n",
       "      <td>TCTTTCCACCAAGAAGCACCTCTGGATATGGCTCTTATCCACCTGT...</td>\n",
       "      <td>1</td>\n",
       "    </tr>\n",
       "    <tr>\n",
       "      <th>69768</th>\n",
       "      <td>TACAGAGTGTGATAAATTTCTCAAGCTTCTGAGATATTTTAGGTCA...</td>\n",
       "      <td>1</td>\n",
       "    </tr>\n",
       "    <tr>\n",
       "      <th>69769</th>\n",
       "      <td>ACGACCTTATATACGTTCTTGTCTCCAACTTTGCTCTATTATATGG...</td>\n",
       "      <td>1</td>\n",
       "    </tr>\n",
       "  </tbody>\n",
       "</table>\n",
       "<p>69770 rows × 2 columns</p>\n",
       "</div>"
      ],
      "text/plain": [
       "                                                    data  class\n",
       "0      TGGAAAAGCGTGTGGAGCCTCCTGCAGGGTGCCTGGCACGTGGAAT...      0\n",
       "1      CTCACACGGTGGTCTTCCTGTGTGTGTGTCTGTCTCTGTCTAAATT...      0\n",
       "2      TAGTAAGATTTGGGAGGACTTCAAGTACCTTGATCCTGTAATCCCC...      0\n",
       "3      AGGCATGGTTAGGATCAGGGCATCAGGCAGAGAAAGGGCCGACGCA...      0\n",
       "4      GCAGGGGATGGGGACTGCCAGGGAGGGAAATCAACTCAGGGAAAAA...      0\n",
       "...                                                  ...    ...\n",
       "69765  TGGGGAAAAATCGAGGAAAAATTTCAATGTCATGTTTTTGTTAAAA...      1\n",
       "69766  GGTTCTTTTAAACCTCAATCTAAACTTCTAGAGATAGAAGAAAATT...      1\n",
       "69767  TCTTTCCACCAAGAAGCACCTCTGGATATGGCTCTTATCCACCTGT...      1\n",
       "69768  TACAGAGTGTGATAAATTTCTCAAGCTTCTGAGATATTTTAGGTCA...      1\n",
       "69769  ACGACCTTATATACGTTCTTGTCTCCAACTTTGCTCTATTATATGG...      1\n",
       "\n",
       "[69770 rows x 2 columns]"
      ]
     },
     "execution_count": 14,
     "metadata": {},
     "output_type": "execute_result"
    }
   ],
   "source": [
    "# Replace 'file_path.csv' with the path to the TF data.csv file\n",
    "tf=\"ATF2\"\n",
    "file_path = f'/mnt/raid1/thalassini/home/filtered_fimo/{tf.upper()}/datasets/data.csv'\n",
    "df = pd.read_csv(file_path)\n",
    "df"
   ]
  },
  {
   "cell_type": "markdown",
   "id": "d22b4a0d",
   "metadata": {},
   "source": [
    "# Sequence length inspection and normalization"
   ]
  },
  {
   "cell_type": "code",
   "execution_count": 15,
   "id": "d33c9269",
   "metadata": {},
   "outputs": [
    {
     "name": "stdout",
     "output_type": "stream",
     "text": [
      "Max length:2000, Min length: 200\n"
     ]
    },
    {
     "data": {
      "image/png": "[encoded data removed]",
      "text/plain": [
       "<Figure size 640x480 with 1 Axes>"
      ]
     },
     "metadata": {},
     "output_type": "display_data"
    }
   ],
   "source": [
    "lengths= [len(item) for item in df['data']] \n",
    "print(f'Max length:{max(lengths)}, Min length: {min(lengths)}')\n",
    "import matplotlib.pyplot as plt\n",
    "# Plotting the histogram\n",
    "plt.hist(lengths, bins=10, color='blue', edgecolor='black')\n",
    "plt.title('Histogram of Lengths')\n",
    "plt.xlabel('Length')\n",
    "plt.ylabel('Frequency')\n",
    "plt.show()"
   ]
  },
  {
   "cell_type": "code",
   "execution_count": 16,
   "id": "292502f4",
   "metadata": {},
   "outputs": [],
   "source": [
    "# Find the maximum length of sequences\n",
    "#min_length = min(len(seq) for seq in df['data'])\n",
    "limit=200\n",
    "\n",
    "\n",
    "# Pad or cut sequences to ensure they all have the same length\n",
    "cut_sequences = [seq[:limit] for seq in df['data']]\n",
    "\n",
    "# Update the DataFrame with the cut sequences\n",
    "#df['data'] = cut_sequences"
   ]
  },
  {
   "cell_type": "code",
   "execution_count": 17,
   "id": "84f394a8",
   "metadata": {},
   "outputs": [
    {
     "name": "stdout",
     "output_type": "stream",
     "text": [
      "Max length:200, Min length: 200\n"
     ]
    }
   ],
   "source": [
    "lengths= [len(item) for item in cut_sequences]\n",
    "print(f'Max length:{max(lengths)}, Min length: {min(lengths)}')"
   ]
  },
  {
   "cell_type": "markdown",
   "id": "9b65d644",
   "metadata": {},
   "source": [
    "# Define X,y variables"
   ]
  },
  {
   "cell_type": "code",
   "execution_count": 18,
   "id": "f9e96a80",
   "metadata": {},
   "outputs": [],
   "source": [
    "X=[one_hot_encode(sequence) for sequence in cut_sequences]"
   ]
  },
  {
   "cell_type": "code",
   "execution_count": 19,
   "id": "2ab32859",
   "metadata": {},
   "outputs": [],
   "source": [
    "X = torch.from_numpy(np.array(X)).type(torch.float)\n"
   ]
  },
  {
   "cell_type": "code",
   "execution_count": 20,
   "id": "0bf2a817",
   "metadata": {},
   "outputs": [
    {
     "data": {
      "text/plain": [
       "torch.Size([69770, 200, 4])"
      ]
     },
     "execution_count": 20,
     "metadata": {},
     "output_type": "execute_result"
    }
   ],
   "source": [
    "X.shape"
   ]
  },
  {
   "cell_type": "code",
   "execution_count": 21,
   "id": "9aec20e4",
   "metadata": {},
   "outputs": [
    {
     "data": {
      "text/plain": [
       "array([0, 0, 0])"
      ]
     },
     "execution_count": 21,
     "metadata": {},
     "output_type": "execute_result"
    }
   ],
   "source": [
    "y=np.array(df['class'])\n",
    "y[:3]"
   ]
  },
  {
   "cell_type": "code",
   "execution_count": 22,
   "id": "7f1057ee",
   "metadata": {},
   "outputs": [],
   "source": [
    "y = torch.from_numpy(y).type(torch.float)"
   ]
  },
  {
   "cell_type": "markdown",
   "id": "c4515e0b",
   "metadata": {},
   "source": [
    "# Split the data in train, val and test set"
   ]
  },
  {
   "cell_type": "code",
   "execution_count": 23,
   "id": "f4a1304f",
   "metadata": {},
   "outputs": [
    {
     "name": "stdout",
     "output_type": "stream",
     "text": [
      "44652 44652 11164 11164\n",
      "13954 13954\n"
     ]
    }
   ],
   "source": [
    "from sklearn.model_selection import train_test_split\n",
    "from sklearn.model_selection import StratifiedShuffleSplit\n",
    "\n",
    "\n",
    "\n",
    "# Split the data into a stratified hold-out validation set and the rest\n",
    "stratified_splitter = StratifiedShuffleSplit(n_splits=1, test_size=0.2, random_state=42)\n",
    "\n",
    "for train_val_index, test_index in stratified_splitter.split(X, y):\n",
    "    X_train_val, X_test = X[train_val_index], X[test_index]\n",
    "    y_train_val, y_test = y[train_val_index], y[test_index]\n",
    "\n",
    "# Split the remaining data into training and validation sets\n",
    "X_train, X_val, y_train, y_val = train_test_split(X_train_val, y_train_val, test_size=0.2, stratify=y_train_val, random_state=42)\n",
    "\n",
    "print(len(X_train), len(y_train), len(X_val), len(y_val))\n",
    "print(len(X_test), len(y_test))\n",
    "\n",
    "\n",
    "# (X_train, X_val, y_train, y_val) for training, validation\n",
    "# X_test, y_test for the final hold-out validation.\n",
    "\n",
    "#X_train, X_val, X_test = torch.from_numpy(X_train).type(torch.float),torch.from_numpy(X_val).type(torch.float), torch.from_numpy(X_test).type(torch.float)\n",
    "\n"
   ]
  },
  {
   "cell_type": "markdown",
   "id": "d6716d37",
   "metadata": {},
   "source": [
    "# Create datasets and Dataloaders"
   ]
  },
  {
   "cell_type": "code",
   "execution_count": 24,
   "id": "cc8becaa",
   "metadata": {},
   "outputs": [
    {
     "name": "stdout",
     "output_type": "stream",
     "text": [
      "44652 44652 44652\n"
     ]
    }
   ],
   "source": [
    "from torch.utils.data import DataLoader, TensorDataset\n",
    "torch.manual_seed(42)\n",
    "\n",
    "# Expand the dimensions of y to make it 2-dimensional\n",
    "y_train = y_train.view(-1, 1)\n",
    "y_test = y_test.view(-1,1)\n",
    "y_val = y_val.view(-1,1)\n",
    "# Concatenate the complement of y to create a 2-dimensional tensor\n",
    "y_train_one_hot = torch.cat([1 - y_train, y_train], dim=1).float()\n",
    "y_test_one_hot = torch.cat([1 - y_test, y_test], dim=1).float()\n",
    "y_val_one_hot = torch.cat([1 - y_val, y_val], dim=1).float()\n",
    "\n",
    "\n",
    "# Move tensors to the same device\n",
    "X_train, y_train_one_hot, y_train = X_train.to(device), y_train_one_hot.to(device), y_train.to(device)\n",
    "X_val, y_val_one_hot, y_val = X_val.to(device), y_val_one_hot.to(device), y_val.to(device)\n",
    "X_test, y_test_one_hot, y_test = X_test.to(device), y_test_one_hot.to(device), y_test.to(device)\n",
    "\n",
    "\n",
    "print(X_train.size(0), y_train_one_hot.size(0), y_train.size(0))\n",
    "\n",
    "# Create datasets\n",
    "train_dataset = TensorDataset(X_train, y_train_one_hot, y_train)\n",
    "val_dataset = TensorDataset(X_val, y_val_one_hot, y_val)\n",
    "test_dataset = TensorDataset(X_test, y_test_one_hot, y_test)\n",
    "\n"
   ]
  },
  {
   "cell_type": "code",
   "execution_count": 25,
   "id": "107677e4",
   "metadata": {},
   "outputs": [],
   "source": [
    "\n",
    "batch_size=64\n",
    "torch.manual_seed(42)\n",
    "\n",
    "# Convert to PyTorch DataLoader\n",
    "train_loader = DataLoader(train_dataset, batch_size=batch_size, shuffle=True)\n",
    "val_loader = DataLoader(val_dataset, batch_size=batch_size, shuffle=True)\n",
    "test_loader = DataLoader(test_dataset, batch_size=batch_size, shuffle=True)"
   ]
  },
  {
   "cell_type": "markdown",
   "id": "d20e4bb7",
   "metadata": {},
   "source": [
    "# Construct a 1 layer CNN with Maxpooling and Dropout"
   ]
  },
  {
   "cell_type": "code",
   "execution_count": 26,
   "id": "9c0dfed6",
   "metadata": {},
   "outputs": [],
   "source": [
    "class Conv_v0(torch.nn.Module):\n",
    "\n",
    "    def __init__(self):\n",
    "        super(Conv_v0, self).__init__()\n",
    "\n",
    "        self.conv1 = torch.nn.Conv1d(in_channels=4, out_channels=3, kernel_size=17)\n",
    "        self.activation = torch.nn.ReLU()\n",
    "        self.maxpool = torch.nn.MaxPool1d(kernel_size=5)\n",
    "        \n",
    "        self.dropout = torch.nn.Dropout(p=0.5) \n",
    "        self.fc = torch.nn.Linear(in_features=108, out_features=2)\n",
    "        #elf.sigmoid = torch.nn.Sigmoid()\n",
    "\n",
    "    def forward(self, x):\n",
    "        x= x.permute(0, 2, 1)\n",
    "        x = self.conv1(x)\n",
    "        x = self.activation(x)\n",
    "        x = self.maxpool(x)\n",
    "        \n",
    "        # Reshape the output of the max pooling layer before passing it to the fully connected layer\n",
    "        x = x.view(x.size(0), -1)\n",
    "        \n",
    "        #print(\"Size after reshaping:\", x.size())\n",
    "        x=self.dropout(x)\n",
    "        x = self.fc(x)\n",
    "       #x = self.sigmoid(x)\n",
    "        return x\n"
   ]
  },
  {
   "cell_type": "markdown",
   "id": "e7f2d523",
   "metadata": {},
   "source": [
    "# Computing class weights"
   ]
  },
  {
   "cell_type": "code",
   "execution_count": 27,
   "id": "0f86ea45",
   "metadata": {},
   "outputs": [
    {
     "name": "stdout",
     "output_type": "stream",
     "text": [
      "Class Weights List: [1.4937775993576876, 3.0252032520325205]\n"
     ]
    }
   ],
   "source": [
    "from torch.utils.data import DataLoader, TensorDataset\n",
    "from sklearn.utils.class_weight import compute_class_weight\n",
    "\n",
    "# Assuming we have defined dataset\n",
    "# train_dataset = TensorDataset(X_train, y_train_one_hot, y_train)\n",
    "\n",
    "# Extract the labels from the dataset\n",
    "_, _, y_train = zip(*train_dataset)\n",
    "\n",
    "# Count occurrences of each class\n",
    "class_0_count = sum(1 for label in y_train if label == 0)\n",
    "class_1_count = sum(1 for label in y_train if label == 1)\n",
    "\n",
    "# Total length of y_train\n",
    "total_samples = len(y_train)\n",
    "\n",
    "# Calculate class weights\n",
    "weights = [total_samples / class_0_count, total_samples / class_1_count]\n",
    "\n",
    "# Print the list of class weights\n",
    "print(\"Class Weights List:\", weights)\n",
    "\n",
    "\n"
   ]
  },
  {
   "cell_type": "markdown",
   "id": "40b134d4",
   "metadata": {},
   "source": [
    "# Set up loss function and optimizer"
   ]
  },
  {
   "cell_type": "code",
   "execution_count": 28,
   "id": "948d9087",
   "metadata": {},
   "outputs": [],
   "source": [
    "from torch.optim import lr_scheduler\n",
    "weights = torch.tensor(weights).to(device)\n",
    "#print(weights)"
   ]
  },
  {
   "cell_type": "code",
   "execution_count": 29,
   "id": "65dbe876",
   "metadata": {},
   "outputs": [],
   "source": [
    "torch.manual_seed(42)\n",
    "\n",
    "# Initialize model instance\n",
    "model = Conv_v0()\n",
    "\n",
    "# define the CrossEntropyLoss with weights\n",
    "loss_fn = nn.BCEWithLogitsLoss(weight=weights)\n",
    "\n",
    "# Define oprimizer\n",
    "optimizer = torch.optim.Adam(model.parameters(), lr=0.0001)\n",
    "\n",
    "# Define exponetntial lr with lr_scheduler\n",
    "exp_lr_scheduler = lr_scheduler.ExponentialLR(optimizer, gamma=0.01)"
   ]
  },
  {
   "cell_type": "code",
   "execution_count": 30,
   "id": "e1d337c9",
   "metadata": {},
   "outputs": [
    {
     "data": {
      "text/plain": [
       "tensor([[-0.0311, -0.7836],\n",
       "        [-0.5037, -0.5614],\n",
       "        [-0.3085, -0.2908],\n",
       "        [-0.0482, -0.1893],\n",
       "        [ 0.0492, -0.5310]], grad_fn=<SliceBackward0>)"
      ]
     },
     "execution_count": 30,
     "metadata": {},
     "output_type": "execute_result"
    }
   ],
   "source": [
    "# View the frist 5 outputs of the forward pass on the test data\n",
    "y_logits = model(X_test.to(device))[:5]\n",
    "y_logits"
   ]
  },
  {
   "cell_type": "code",
   "execution_count": 31,
   "id": "d2669895",
   "metadata": {},
   "outputs": [
    {
     "data": {
      "application/vnd.jupyter.widget-view+json": {
       "model_id": "c078d24374d24cb8911ecdff3b8969bd",
       "version_major": 2,
       "version_minor": 0
      },
      "text/plain": [
       "  0%|          | 0/100 [00:00<?, ?it/s]"
      ]
     },
     "metadata": {},
     "output_type": "display_data"
    },
    {
     "name": "stdout",
     "output_type": "stream",
     "text": [
      "Epoch: 1 | train_loss: 1.4397 | train_bal_acc: 0.4994 | train_mcc: -0.0024 | valid_loss: 1.3730 | valid_bal_acc: 0.5000 | valid_mcc: 0.0000\n",
      "Epoch: 2 | train_loss: 1.3305 | train_bal_acc: 0.5000 | train_mcc: 0.0003 | valid_loss: 1.2569 | valid_bal_acc: 0.5005 | valid_mcc: 0.0037\n",
      "Epoch: 3 | train_loss: 1.2124 | train_bal_acc: 0.5001 | train_mcc: 0.0007 | valid_loss: 1.1263 | valid_bal_acc: 0.5072 | valid_mcc: 0.0509\n",
      "Epoch: 4 | train_loss: 1.1001 | train_bal_acc: 0.5025 | train_mcc: 0.0179 | valid_loss: 1.0058 | valid_bal_acc: 0.5231 | valid_mcc: 0.1374\n",
      "Epoch: 5 | train_loss: 1.0039 | train_bal_acc: 0.5266 | train_mcc: 0.1467 | valid_loss: 0.8972 | valid_bal_acc: 0.5890 | valid_mcc: 0.3436\n",
      "Epoch: 6 | train_loss: 0.9178 | train_bal_acc: 0.5911 | train_mcc: 0.3386 | valid_loss: 0.8019 | valid_bal_acc: 0.6943 | valid_mcc: 0.5423\n",
      "Epoch: 7 | train_loss: 0.8522 | train_bal_acc: 0.7005 | train_mcc: 0.5346 | valid_loss: 0.7245 | valid_bal_acc: 0.7950 | valid_mcc: 0.6988\n",
      "Epoch: 8 | train_loss: 0.7907 | train_bal_acc: 0.7918 | train_mcc: 0.6722 | valid_loss: 0.6603 | valid_bal_acc: 0.8607 | valid_mcc: 0.7948\n",
      "Epoch: 9 | train_loss: 0.7433 | train_bal_acc: 0.8378 | train_mcc: 0.7330 | valid_loss: 0.6083 | valid_bal_acc: 0.8836 | valid_mcc: 0.8286\n",
      "Epoch: 10 | train_loss: 0.7069 | train_bal_acc: 0.8653 | train_mcc: 0.7685 | valid_loss: 0.5650 | valid_bal_acc: 0.9079 | valid_mcc: 0.8635\n",
      "Epoch: 11 | train_loss: 0.6732 | train_bal_acc: 0.8783 | train_mcc: 0.7861 | valid_loss: 0.5292 | valid_bal_acc: 0.9202 | valid_mcc: 0.8825\n",
      "Epoch: 12 | train_loss: 0.6523 | train_bal_acc: 0.8873 | train_mcc: 0.7957 | valid_loss: 0.5020 | valid_bal_acc: 0.9291 | valid_mcc: 0.8947\n",
      "Epoch: 13 | train_loss: 0.6244 | train_bal_acc: 0.8993 | train_mcc: 0.8152 | valid_loss: 0.4760 | valid_bal_acc: 0.9367 | valid_mcc: 0.9056\n",
      "Epoch: 14 | train_loss: 0.6034 | train_bal_acc: 0.9043 | train_mcc: 0.8215 | valid_loss: 0.4524 | valid_bal_acc: 0.9435 | valid_mcc: 0.9154\n",
      "Epoch: 15 | train_loss: 0.5950 | train_bal_acc: 0.9055 | train_mcc: 0.8201 | valid_loss: 0.4348 | valid_bal_acc: 0.9461 | valid_mcc: 0.9193\n",
      "Epoch: 16 | train_loss: 0.5729 | train_bal_acc: 0.9118 | train_mcc: 0.8310 | valid_loss: 0.4156 | valid_bal_acc: 0.9507 | valid_mcc: 0.9259\n",
      "Epoch: 17 | train_loss: 0.5606 | train_bal_acc: 0.9159 | train_mcc: 0.8362 | valid_loss: 0.4006 | valid_bal_acc: 0.9547 | valid_mcc: 0.9315\n",
      "Epoch: 18 | train_loss: 0.5391 | train_bal_acc: 0.9199 | train_mcc: 0.8433 | valid_loss: 0.3845 | valid_bal_acc: 0.9554 | valid_mcc: 0.9328\n",
      "Epoch: 19 | train_loss: 0.5369 | train_bal_acc: 0.9214 | train_mcc: 0.8424 | valid_loss: 0.3722 | valid_bal_acc: 0.9587 | valid_mcc: 0.9379\n",
      "Epoch: 20 | train_loss: 0.5263 | train_bal_acc: 0.9241 | train_mcc: 0.8458 | valid_loss: 0.3624 | valid_bal_acc: 0.9594 | valid_mcc: 0.9392\n",
      "Epoch: 21 | train_loss: 0.5155 | train_bal_acc: 0.9271 | train_mcc: 0.8513 | valid_loss: 0.3528 | valid_bal_acc: 0.9620 | valid_mcc: 0.9425\n",
      "Epoch: 22 | train_loss: 0.5088 | train_bal_acc: 0.9264 | train_mcc: 0.8496 | valid_loss: 0.3422 | valid_bal_acc: 0.9656 | valid_mcc: 0.9472\n",
      "Epoch: 23 | train_loss: 0.5009 | train_bal_acc: 0.9285 | train_mcc: 0.8519 | valid_loss: 0.3340 | valid_bal_acc: 0.9650 | valid_mcc: 0.9473\n",
      "Epoch: 24 | train_loss: 0.4892 | train_bal_acc: 0.9308 | train_mcc: 0.8551 | valid_loss: 0.3257 | valid_bal_acc: 0.9651 | valid_mcc: 0.9473\n",
      "Epoch: 25 | train_loss: 0.4799 | train_bal_acc: 0.9317 | train_mcc: 0.8583 | valid_loss: 0.3168 | valid_bal_acc: 0.9675 | valid_mcc: 0.9507\n",
      "Epoch: 26 | train_loss: 0.4788 | train_bal_acc: 0.9307 | train_mcc: 0.8545 | valid_loss: 0.3084 | valid_bal_acc: 0.9703 | valid_mcc: 0.9541\n",
      "Epoch: 27 | train_loss: 0.4706 | train_bal_acc: 0.9331 | train_mcc: 0.8581 | valid_loss: 0.3020 | valid_bal_acc: 0.9698 | valid_mcc: 0.9539\n",
      "Epoch: 28 | train_loss: 0.4565 | train_bal_acc: 0.9363 | train_mcc: 0.8655 | valid_loss: 0.2944 | valid_bal_acc: 0.9699 | valid_mcc: 0.9541\n",
      "Epoch: 29 | train_loss: 0.4556 | train_bal_acc: 0.9360 | train_mcc: 0.8631 | valid_loss: 0.2883 | valid_bal_acc: 0.9718 | valid_mcc: 0.9557\n",
      "Epoch: 30 | train_loss: 0.4556 | train_bal_acc: 0.9357 | train_mcc: 0.8635 | valid_loss: 0.2837 | valid_bal_acc: 0.9710 | valid_mcc: 0.9546\n",
      "Epoch: 31 | train_loss: 0.4525 | train_bal_acc: 0.9357 | train_mcc: 0.8600 | valid_loss: 0.2788 | valid_bal_acc: 0.9717 | valid_mcc: 0.9559\n",
      "Epoch: 32 | train_loss: 0.4448 | train_bal_acc: 0.9373 | train_mcc: 0.8645 | valid_loss: 0.2746 | valid_bal_acc: 0.9715 | valid_mcc: 0.9555\n",
      "Epoch: 33 | train_loss: 0.4402 | train_bal_acc: 0.9366 | train_mcc: 0.8636 | valid_loss: 0.2689 | valid_bal_acc: 0.9723 | valid_mcc: 0.9569\n",
      "Epoch: 34 | train_loss: 0.4380 | train_bal_acc: 0.9370 | train_mcc: 0.8634 | valid_loss: 0.2631 | valid_bal_acc: 0.9733 | valid_mcc: 0.9576\n",
      "Epoch: 35 | train_loss: 0.4308 | train_bal_acc: 0.9383 | train_mcc: 0.8660 | valid_loss: 0.2587 | valid_bal_acc: 0.9735 | valid_mcc: 0.9581\n",
      "Epoch: 36 | train_loss: 0.4297 | train_bal_acc: 0.9396 | train_mcc: 0.8686 | valid_loss: 0.2550 | valid_bal_acc: 0.9736 | valid_mcc: 0.9584\n",
      "Epoch: 37 | train_loss: 0.4353 | train_bal_acc: 0.9378 | train_mcc: 0.8624 | valid_loss: 0.2540 | valid_bal_acc: 0.9737 | valid_mcc: 0.9583\n",
      "Epoch: 38 | train_loss: 0.4277 | train_bal_acc: 0.9380 | train_mcc: 0.8646 | valid_loss: 0.2472 | valid_bal_acc: 0.9754 | valid_mcc: 0.9605\n",
      "Epoch: 39 | train_loss: 0.4243 | train_bal_acc: 0.9389 | train_mcc: 0.8656 | valid_loss: 0.2450 | valid_bal_acc: 0.9748 | valid_mcc: 0.9598\n",
      "Epoch: 40 | train_loss: 0.4155 | train_bal_acc: 0.9393 | train_mcc: 0.8677 | valid_loss: 0.2420 | valid_bal_acc: 0.9745 | valid_mcc: 0.9594\n",
      "Epoch: 41 | train_loss: 0.4195 | train_bal_acc: 0.9388 | train_mcc: 0.8660 | valid_loss: 0.2377 | valid_bal_acc: 0.9746 | valid_mcc: 0.9595\n",
      "Epoch: 42 | train_loss: 0.4140 | train_bal_acc: 0.9410 | train_mcc: 0.8698 | valid_loss: 0.2361 | valid_bal_acc: 0.9751 | valid_mcc: 0.9603\n",
      "Epoch: 43 | train_loss: 0.4132 | train_bal_acc: 0.9408 | train_mcc: 0.8702 | valid_loss: 0.2352 | valid_bal_acc: 0.9744 | valid_mcc: 0.9591\n",
      "Epoch: 44 | train_loss: 0.4095 | train_bal_acc: 0.9404 | train_mcc: 0.8697 | valid_loss: 0.2303 | valid_bal_acc: 0.9756 | valid_mcc: 0.9603\n",
      "Epoch: 45 | train_loss: 0.4092 | train_bal_acc: 0.9394 | train_mcc: 0.8658 | valid_loss: 0.2304 | valid_bal_acc: 0.9747 | valid_mcc: 0.9596\n",
      "Epoch: 46 | train_loss: 0.4081 | train_bal_acc: 0.9398 | train_mcc: 0.8673 | valid_loss: 0.2278 | valid_bal_acc: 0.9749 | valid_mcc: 0.9598\n",
      "Epoch: 47 | train_loss: 0.4034 | train_bal_acc: 0.9416 | train_mcc: 0.8716 | valid_loss: 0.2224 | valid_bal_acc: 0.9763 | valid_mcc: 0.9612\n",
      "Epoch: 48 | train_loss: 0.4028 | train_bal_acc: 0.9408 | train_mcc: 0.8685 | valid_loss: 0.2248 | valid_bal_acc: 0.9756 | valid_mcc: 0.9610\n",
      "Epoch: 49 | train_loss: 0.4057 | train_bal_acc: 0.9414 | train_mcc: 0.8698 | valid_loss: 0.2205 | valid_bal_acc: 0.9751 | valid_mcc: 0.9602\n",
      "Epoch: 50 | train_loss: 0.3925 | train_bal_acc: 0.9429 | train_mcc: 0.8739 | valid_loss: 0.2186 | valid_bal_acc: 0.9752 | valid_mcc: 0.9602\n",
      "Epoch: 51 | train_loss: 0.4083 | train_bal_acc: 0.9393 | train_mcc: 0.8648 | valid_loss: 0.2169 | valid_bal_acc: 0.9757 | valid_mcc: 0.9611\n",
      "Epoch: 52 | train_loss: 0.3974 | train_bal_acc: 0.9420 | train_mcc: 0.8721 | valid_loss: 0.2181 | valid_bal_acc: 0.9751 | valid_mcc: 0.9603\n",
      "Epoch: 53 | train_loss: 0.3983 | train_bal_acc: 0.9423 | train_mcc: 0.8717 | valid_loss: 0.2116 | valid_bal_acc: 0.9778 | valid_mcc: 0.9634\n",
      "Epoch: 54 | train_loss: 0.4006 | train_bal_acc: 0.9409 | train_mcc: 0.8683 | valid_loss: 0.2110 | valid_bal_acc: 0.9773 | valid_mcc: 0.9630\n",
      "Epoch: 55 | train_loss: 0.3916 | train_bal_acc: 0.9428 | train_mcc: 0.8729 | valid_loss: 0.2128 | valid_bal_acc: 0.9756 | valid_mcc: 0.9606\n",
      "Epoch: 56 | train_loss: 0.3933 | train_bal_acc: 0.9420 | train_mcc: 0.8711 | valid_loss: 0.2092 | valid_bal_acc: 0.9769 | valid_mcc: 0.9624\n",
      "Epoch: 57 | train_loss: 0.3952 | train_bal_acc: 0.9431 | train_mcc: 0.8729 | valid_loss: 0.2080 | valid_bal_acc: 0.9763 | valid_mcc: 0.9618\n",
      "Epoch: 58 | train_loss: 0.3924 | train_bal_acc: 0.9417 | train_mcc: 0.8708 | valid_loss: 0.2058 | valid_bal_acc: 0.9767 | valid_mcc: 0.9625\n",
      "Epoch: 59 | train_loss: 0.3956 | train_bal_acc: 0.9426 | train_mcc: 0.8720 | valid_loss: 0.2091 | valid_bal_acc: 0.9760 | valid_mcc: 0.9614\n"
     ]
    },
    {
     "name": "stdout",
     "output_type": "stream",
     "text": [
      "Epoch: 60 | train_loss: 0.3893 | train_bal_acc: 0.9437 | train_mcc: 0.8744 | valid_loss: 0.2071 | valid_bal_acc: 0.9760 | valid_mcc: 0.9616\n",
      "Epoch: 61 | train_loss: 0.3985 | train_bal_acc: 0.9409 | train_mcc: 0.8689 | valid_loss: 0.2034 | valid_bal_acc: 0.9767 | valid_mcc: 0.9623\n",
      "Epoch: 62 | train_loss: 0.3871 | train_bal_acc: 0.9432 | train_mcc: 0.8740 | valid_loss: 0.2038 | valid_bal_acc: 0.9768 | valid_mcc: 0.9622\n",
      "Epoch: 63 | train_loss: 0.3940 | train_bal_acc: 0.9412 | train_mcc: 0.8685 | valid_loss: 0.2021 | valid_bal_acc: 0.9764 | valid_mcc: 0.9622\n",
      "Epoch: 64 | train_loss: 0.3866 | train_bal_acc: 0.9416 | train_mcc: 0.8707 | valid_loss: 0.2017 | valid_bal_acc: 0.9764 | valid_mcc: 0.9619\n",
      "Epoch: 65 | train_loss: 0.3859 | train_bal_acc: 0.9418 | train_mcc: 0.8718 | valid_loss: 0.2002 | valid_bal_acc: 0.9769 | valid_mcc: 0.9625\n",
      "Epoch: 66 | train_loss: 0.3883 | train_bal_acc: 0.9425 | train_mcc: 0.8719 | valid_loss: 0.1982 | valid_bal_acc: 0.9769 | valid_mcc: 0.9626\n",
      "Epoch: 67 | train_loss: 0.3892 | train_bal_acc: 0.9415 | train_mcc: 0.8693 | valid_loss: 0.1987 | valid_bal_acc: 0.9766 | valid_mcc: 0.9621\n",
      "Epoch: 68 | train_loss: 0.3893 | train_bal_acc: 0.9415 | train_mcc: 0.8697 | valid_loss: 0.2029 | valid_bal_acc: 0.9751 | valid_mcc: 0.9606\n",
      "Epoch: 69 | train_loss: 0.3884 | train_bal_acc: 0.9412 | train_mcc: 0.8691 | valid_loss: 0.2007 | valid_bal_acc: 0.9764 | valid_mcc: 0.9617\n",
      "Epoch: 70 | train_loss: 0.3823 | train_bal_acc: 0.9427 | train_mcc: 0.8736 | valid_loss: 0.1946 | valid_bal_acc: 0.9759 | valid_mcc: 0.9616\n",
      "Epoch: 71 | train_loss: 0.3931 | train_bal_acc: 0.9399 | train_mcc: 0.8669 | valid_loss: 0.1950 | valid_bal_acc: 0.9766 | valid_mcc: 0.9623\n",
      "Epoch: 72 | train_loss: 0.3957 | train_bal_acc: 0.9411 | train_mcc: 0.8683 | valid_loss: 0.1969 | valid_bal_acc: 0.9762 | valid_mcc: 0.9613\n",
      "Epoch: 73 | train_loss: 0.3889 | train_bal_acc: 0.9426 | train_mcc: 0.8722 | valid_loss: 0.1945 | valid_bal_acc: 0.9775 | valid_mcc: 0.9635\n",
      "Epoch: 74 | train_loss: 0.3878 | train_bal_acc: 0.9418 | train_mcc: 0.8707 | valid_loss: 0.1924 | valid_bal_acc: 0.9777 | valid_mcc: 0.9635\n",
      "Epoch: 75 | train_loss: 0.3847 | train_bal_acc: 0.9427 | train_mcc: 0.8716 | valid_loss: 0.1936 | valid_bal_acc: 0.9765 | valid_mcc: 0.9620\n",
      "Epoch: 76 | train_loss: 0.3845 | train_bal_acc: 0.9431 | train_mcc: 0.8731 | valid_loss: 0.1944 | valid_bal_acc: 0.9753 | valid_mcc: 0.9610\n",
      "Epoch: 77 | train_loss: 0.3859 | train_bal_acc: 0.9414 | train_mcc: 0.8697 | valid_loss: 0.1929 | valid_bal_acc: 0.9768 | valid_mcc: 0.9623\n",
      "Epoch: 78 | train_loss: 0.3863 | train_bal_acc: 0.9422 | train_mcc: 0.8707 | valid_loss: 0.1926 | valid_bal_acc: 0.9766 | valid_mcc: 0.9620\n",
      "Epoch: 79 | train_loss: 0.3907 | train_bal_acc: 0.9421 | train_mcc: 0.8698 | valid_loss: 0.1927 | valid_bal_acc: 0.9758 | valid_mcc: 0.9613\n",
      "Epoch: 80 | train_loss: 0.3870 | train_bal_acc: 0.9411 | train_mcc: 0.8684 | valid_loss: 0.1932 | valid_bal_acc: 0.9765 | valid_mcc: 0.9617\n",
      "Epoch: 81 | train_loss: 0.3915 | train_bal_acc: 0.9406 | train_mcc: 0.8663 | valid_loss: 0.1933 | valid_bal_acc: 0.9762 | valid_mcc: 0.9614\n",
      "Epoch: 82 | train_loss: 0.3864 | train_bal_acc: 0.9423 | train_mcc: 0.8712 | valid_loss: 0.1928 | valid_bal_acc: 0.9764 | valid_mcc: 0.9618\n",
      "Epoch: 83 | train_loss: 0.3799 | train_bal_acc: 0.9424 | train_mcc: 0.8727 | valid_loss: 0.1910 | valid_bal_acc: 0.9765 | valid_mcc: 0.9618\n",
      "Epoch: 84 | train_loss: 0.3821 | train_bal_acc: 0.9431 | train_mcc: 0.8723 | valid_loss: 0.1901 | valid_bal_acc: 0.9764 | valid_mcc: 0.9619\n",
      "Epoch: 85 | train_loss: 0.3896 | train_bal_acc: 0.9433 | train_mcc: 0.8732 | valid_loss: 0.1891 | valid_bal_acc: 0.9768 | valid_mcc: 0.9626\n",
      "Epoch: 86 | train_loss: 0.3836 | train_bal_acc: 0.9427 | train_mcc: 0.8716 | valid_loss: 0.1931 | valid_bal_acc: 0.9759 | valid_mcc: 0.9616\n",
      "Epoch: 87 | train_loss: 0.3917 | train_bal_acc: 0.9421 | train_mcc: 0.8697 | valid_loss: 0.1927 | valid_bal_acc: 0.9756 | valid_mcc: 0.9611\n",
      "Epoch: 88 | train_loss: 0.3849 | train_bal_acc: 0.9424 | train_mcc: 0.8724 | valid_loss: 0.1893 | valid_bal_acc: 0.9778 | valid_mcc: 0.9632\n",
      "Epoch: 89 | train_loss: 0.3778 | train_bal_acc: 0.9430 | train_mcc: 0.8722 | valid_loss: 0.1894 | valid_bal_acc: 0.9769 | valid_mcc: 0.9627\n",
      "Epoch: 90 | train_loss: 0.3808 | train_bal_acc: 0.9418 | train_mcc: 0.8700 | valid_loss: 0.1912 | valid_bal_acc: 0.9755 | valid_mcc: 0.9612\n",
      "Epoch: 91 | train_loss: 0.3884 | train_bal_acc: 0.9415 | train_mcc: 0.8704 | valid_loss: 0.1871 | valid_bal_acc: 0.9771 | valid_mcc: 0.9626\n",
      "Epoch: 92 | train_loss: 0.3834 | train_bal_acc: 0.9420 | train_mcc: 0.8700 | valid_loss: 0.1944 | valid_bal_acc: 0.9761 | valid_mcc: 0.9615\n",
      "Epoch: 93 | train_loss: 0.3919 | train_bal_acc: 0.9423 | train_mcc: 0.8710 | valid_loss: 0.1894 | valid_bal_acc: 0.9763 | valid_mcc: 0.9620\n",
      "Epoch: 94 | train_loss: 0.3856 | train_bal_acc: 0.9425 | train_mcc: 0.8713 | valid_loss: 0.1886 | valid_bal_acc: 0.9767 | valid_mcc: 0.9623\n",
      "Epoch: 95 | train_loss: 0.3868 | train_bal_acc: 0.9423 | train_mcc: 0.8711 | valid_loss: 0.1863 | valid_bal_acc: 0.9773 | valid_mcc: 0.9632\n",
      "Epoch: 96 | train_loss: 0.3746 | train_bal_acc: 0.9444 | train_mcc: 0.8760 | valid_loss: 0.1895 | valid_bal_acc: 0.9766 | valid_mcc: 0.9620\n",
      "Epoch: 97 | train_loss: 0.3871 | train_bal_acc: 0.9428 | train_mcc: 0.8720 | valid_loss: 0.1851 | valid_bal_acc: 0.9774 | valid_mcc: 0.9635\n",
      "Epoch: 98 | train_loss: 0.3771 | train_bal_acc: 0.9438 | train_mcc: 0.8748 | valid_loss: 0.1841 | valid_bal_acc: 0.9778 | valid_mcc: 0.9633\n",
      "Epoch: 99 | train_loss: 0.3819 | train_bal_acc: 0.9426 | train_mcc: 0.8714 | valid_loss: 0.1856 | valid_bal_acc: 0.9783 | valid_mcc: 0.9639\n",
      "Epoch: 100 | train_loss: 0.3805 | train_bal_acc: 0.9435 | train_mcc: 0.8745 | valid_loss: 0.1842 | valid_bal_acc: 0.9778 | valid_mcc: 0.9639\n"
     ]
    }
   ],
   "source": [
    "results, _ = engine.train_with_early_stopping(model=model,\n",
    "                                                  train_dataloader=train_loader,\n",
    "                                                  valid_dataloader=val_loader,\n",
    "                                                  optimizer=optimizer,\n",
    "                                                  loss_fn=loss_fn,\n",
    "                                                  epochs=100,\n",
    "                                                  device=device)\n"
   ]
  },
  {
   "cell_type": "code",
   "execution_count": 34,
   "id": "8e394a60",
   "metadata": {},
   "outputs": [
    {
     "data": {
      "text/plain": [
       "Text(0.5, 1.0, 'Loss Curves for 1 layer CNN with input 200b seqs')"
      ]
     },
     "execution_count": 34,
     "metadata": {},
     "output_type": "execute_result"
    },
    {
     "data": {
      "image/png": "[encoded data removed]",
      "text/plain": [
       "<Figure size 1500x700 with 2 Axes>"
      ]
     },
     "metadata": {},
     "output_type": "display_data"
    }
   ],
   "source": [
    "helper_functions.plot_loss_curves(results)\n",
    "plt.savefig(f'{tf}_CNN1_ADAM_BCEWithLogits_seq=200b.png'); plt.title(\"Loss Curves for 1 layer CNN with input 200b seqs\")"
   ]
  },
  {
   "cell_type": "code",
   "execution_count": 35,
   "id": "228c82d1",
   "metadata": {},
   "outputs": [
    {
     "name": "stdout",
     "output_type": "stream",
     "text": [
      "Perfomance on held out test set\n",
      "Test loss: 0.1885365434501269 | Test bal acc 0.9754835097479466 | Test mcc 0.9550587787352204 | Test_f_score 0.9822226867586936\n",
      "\n"
     ]
    }
   ],
   "source": [
    "from sklearn.metrics import balanced_accuracy_score, matthews_corrcoef, f1_score\n",
    "import torch.nn.functional as F\n",
    "\n",
    "\n",
    "model.eval()\n",
    "\n",
    "\n",
    "with torch.inference_mode():\n",
    "    all_predictions = []\n",
    "    all_true_labels = []\n",
    "    all_test_pred_prob=[]\n",
    "    \n",
    "    test_loss, test_bal_acc, test_mcc, test_f_score = 0, 0, 0, 0\n",
    "    for batch, (X, y_one_hot, y) in enumerate(test_loader):\n",
    "        # Send data to target device\n",
    "        X, y_one_hot, y = X.to(device),y_one_hot.to(device), y.to(device)\n",
    "\n",
    "        # 1. Forward pass\n",
    "        test_pred_logits = model(X)\n",
    "\n",
    "        # 2. Calculate and accumulate loss\n",
    "        loss = loss_fn(test_pred_logits, y_one_hot)\n",
    "        test_loss += loss.item()\n",
    "\n",
    "        # Calculate and accumulate scores\n",
    "        test_pred_labels = test_pred_logits.argmax(dim=1)\n",
    "        test_pred_prob = torch.softmax(test_pred_logits.squeeze(), dim=0) # note: perform softmax on the \"logits\" dimension, not \"batch\" dimension (in this case we have a batch size of 1, so can perform on dim=0)\n",
    "        test_bal_acc += balanced_accuracy_score(y.cpu().numpy(), test_pred_labels.cpu().numpy())\n",
    "        test_mcc += matthews_corrcoef(y.cpu().numpy(), test_pred_labels.cpu().numpy())\n",
    "        test_f_score += f1_score(y.cpu().numpy(), test_pred_labels.cpu().numpy(), average='weighted')\n",
    "        \n",
    "        all_predictions.extend(test_pred_labels.cpu().numpy())\n",
    "        all_true_labels.extend(y.cpu().numpy())\n",
    "        all_test_pred_prob.extend(test_pred_prob.cpu().numpy())\n",
    "\n",
    "    # Adjust metrics to get average loss and accuracy per batch\n",
    "    test_loss = test_loss / len(test_loader)\n",
    "    test_bal_acc = test_bal_acc / len(test_loader)\n",
    "    test_mcc = test_mcc / len(test_loader)\n",
    "    test_f_score = test_f_score / len(test_loader)\n",
    "    print(\"Perfomance on held out test set\")\n",
    "    print(f'Test loss: {test_loss} | Test bal acc {test_bal_acc} | Test mcc {test_mcc} | Test_f_score {test_f_score}\\n')   \n",
    "    "
   ]
  },
  {
   "cell_type": "markdown",
   "id": "e8c518d8",
   "metadata": {},
   "source": [
    "We can observe that the model is not overfiting since the perfomance on the held out test set is high"
   ]
  },
  {
   "cell_type": "code",
   "execution_count": null,
   "id": "51cd093a",
   "metadata": {},
   "outputs": [],
   "source": []
  }
 ],
 "metadata": {
  "kernelspec": {
   "display_name": "Python 3 (ipykernel)",
   "language": "python",
   "name": "python3"
  },
  "language_info": {
   "codemirror_mode": {
    "name": "ipython",
    "version": 3
   },
   "file_extension": ".py",
   "mimetype": "text/x-python",
   "name": "python",
   "nbconvert_exporter": "python",
   "pygments_lexer": "ipython3",
   "version": "3.11.5"
  }
 },
 "nbformat": 4,
 "nbformat_minor": 5
}
