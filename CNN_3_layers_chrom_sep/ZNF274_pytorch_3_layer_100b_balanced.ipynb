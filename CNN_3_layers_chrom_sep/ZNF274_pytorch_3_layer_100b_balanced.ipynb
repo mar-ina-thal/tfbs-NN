{
 "cells": [
  {
   "cell_type": "markdown",
   "id": "e7eb3167",
   "metadata": {},
   "source": [
    "# Imports and functions"
   ]
  },
  {
   "cell_type": "code",
   "execution_count": 116,
   "id": "05d85633",
   "metadata": {},
   "outputs": [],
   "source": [
    "import pandas as pd\n",
    "import numpy as np\n",
    "from sklearn.preprocessing import OneHotEncoder\n",
    "from keras.utils import to_categorical\n",
    "from sklearn.metrics import balanced_accuracy_score\n",
    "from torcheval.metrics.functional import multiclass_auroc\n",
    "from sklearn.metrics import balanced_accuracy_score, matthews_corrcoef, f1_score, confusion_matrix\n",
    "\n"
   ]
  },
  {
   "cell_type": "code",
   "execution_count": 117,
   "id": "43a5887d",
   "metadata": {},
   "outputs": [],
   "source": [
    "import torchvision\n",
    "import engine\n",
    "import engine_boosted\n",
    "import engine_boosted_multi\n",
    "import helper_functions"
   ]
  },
  {
   "cell_type": "code",
   "execution_count": 118,
   "id": "59bde44a",
   "metadata": {},
   "outputs": [],
   "source": [
    "from tqdm.auto import tqdm\n",
    "from typing import Dict, List, Tuple\n",
    "from sklearn.metrics import balanced_accuracy_score, matthews_corrcoef, f1_score\n",
    "from collections import deque  # Import deque for early stopping\n",
    "import warnings\n",
    "\n",
    "# Suppress the specific UserWarning related to y_pred and y_true class mismatch\n",
    "warnings.filterwarnings(\"ignore\", category=UserWarning, message=\"y_pred contains classes not in y_true\")"
   ]
  },
  {
   "cell_type": "code",
   "execution_count": 119,
   "id": "faeaeafc",
   "metadata": {},
   "outputs": [],
   "source": [
    "from sklearn.metrics import balanced_accuracy_score\n",
    "\n",
    "# Function to calculate balanced accuracy using sklearn\n",
    "def balanced_accuracy(y_true, y_pred):\n",
    "    return balanced_accuracy_score(y_true, y_pred) * 100"
   ]
  },
  {
   "cell_type": "code",
   "execution_count": 120,
   "id": "6c000451",
   "metadata": {},
   "outputs": [],
   "source": [
    "# Function to perform one-hot encoding for DNA sequences\n",
    "def one_hot_encode(sequence):\n",
    "    encoding = {'A': [1, 0, 0, 0], 'T': [0, 1, 0, 0], 'G': [0, 0, 1, 0], 'C': [0, 0, 0, 1]}\n",
    "    one_hot_sequence = [encoding.get(base, [0, 0, 0, 0]) for base in sequence]\n",
    "    return np.array(one_hot_sequence)"
   ]
  },
  {
   "cell_type": "code",
   "execution_count": 121,
   "id": "d981b1bf",
   "metadata": {},
   "outputs": [],
   "source": [
    "kernel = {\n",
    "    'ATF2': [10] ,\n",
    "    'ATF3' : [10] ,\n",
    "    'CEBPB' : [10] ,\n",
    "    'CREB1' : [8] ,\n",
    "    'CTCF' : [15] ,\n",
    "    'E2F4' : [13] ,\n",
    "    'EGR1' : [10] ,\n",
    "    'EFL1' : [9] ,\n",
    "    'ELK1' : [9] ,\n",
    "    'FOS' : [8] ,\n",
    "    'FOXA1' : [8] ,\n",
    "    'GABPA' : [10] ,\n",
    "    'JUN' : [14] ,\n",
    "    'JUND' : [11] ,\n",
    "    'MAFK' : [10] ,\n",
    "    'MAX' : [6] ,\n",
    "    'MAZ' : [8] ,\n",
    "    'MXI1' : [6] ,\n",
    "    'MYC' : [8] ,\n",
    "    'NRF1' : [11] ,\n",
    "    'RELA' : [10] ,\n",
    "    'REST' : [20] ,\n",
    "    'RFX5' : [14] ,\n",
    "    'SP1' : [9] ,\n",
    "    'SRF' : [16] ,\n",
    "    'TCF7L2' : [9] ,\n",
    "    'TCF12' : [7] ,\n",
    "    'TEAD4' : [8] ,\n",
    "    'USF1' : [10] ,\n",
    "    'USF2' : [10] ,\n",
    "    'YY1' : [12] ,\n",
    "    'ZBTB33' : [10] ,\n",
    "    'ZNF274' : [12]\n",
    "}"
   ]
  },
  {
   "cell_type": "code",
   "execution_count": 122,
   "id": "11b36fc7",
   "metadata": {},
   "outputs": [],
   "source": [
    "tf_class = {\n",
    "    'ATF2': 0,\n",
    "    'ATF3': 1,\n",
    "    'CEBPB': 2,\n",
    "    'CREB1': 3,\n",
    "    'CTCF': 4,\n",
    "    'E2F4': 5,\n",
    "    'EGR1': 6,\n",
    "    'EFL1': 7,\n",
    "    'ELK1': 8,\n",
    "    'FOS': 9,\n",
    "    'FOXA1': 10,\n",
    "    'GABPA': 11,\n",
    "    'JUN': 12,\n",
    "    'JUND': 13,\n",
    "    'MAFK': 14,\n",
    "    'MAX': 15,\n",
    "    'MAZ': 16,\n",
    "    'MXI1': 17,\n",
    "    'MYC': 18,\n",
    "    'NRF1': 19,\n",
    "    'RELA': 20,\n",
    "    'REST': 21,\n",
    "    'RFX5': 22,\n",
    "    'SP1': 23,\n",
    "    'SRF': 24,\n",
    "    'TCF7L2': 25,\n",
    "    'TCF12': 26,\n",
    "    'TEAD4': 27,\n",
    "    'USF1': 28,\n",
    "    'USF2': 29,\n",
    "    'YY1': 30,\n",
    "    'ZBTB33': 31,\n",
    "    'ZNF274': 32\n",
    "}"
   ]
  },
  {
   "cell_type": "markdown",
   "id": "4f102ecb",
   "metadata": {},
   "source": [
    "# Set up device agnostic code"
   ]
  },
  {
   "cell_type": "code",
   "execution_count": 123,
   "id": "12cee86f",
   "metadata": {},
   "outputs": [
    {
     "data": {
      "text/plain": [
       "'cpu'"
      ]
     },
     "execution_count": 123,
     "metadata": {},
     "output_type": "execute_result"
    }
   ],
   "source": [
    "import torch\n",
    "from torch import nn\n",
    "# Make device agnostic code\n",
    "device = \"cuda\" if torch.cuda.is_available() else \"cpu\"\n",
    "device"
   ]
  },
  {
   "cell_type": "code",
   "execution_count": 124,
   "id": "c9939f1e",
   "metadata": {},
   "outputs": [
    {
     "name": "stdout",
     "output_type": "stream",
     "text": [
      "File not found for TF: RCOR1\n",
      "Combined data saved to /mnt/raid1/thalassini/home/tf_data/combined_data_len_100_chrom_regs.csv\n"
     ]
    }
   ],
   "source": [
    "import pandas as pd\n",
    "\n",
    "# Read the list of TFs from the file\n",
    "tf_list_path = '/mnt/raid1/thalassini/home/Downloads/target_names_6.txt'\n",
    "with open(tf_list_path, 'r') as file:\n",
    "    tf_list = file.read().splitlines()\n",
    "\n",
    "# Define the directory where the CSV files for each TF are located\n",
    "base_directory = '/mnt/raid1/thalassini/home/filtered_fimo_regs_100/'\n",
    "\n",
    "# Combine data for each TF and write to a single CSV file\n",
    "for tf in tf_list:\n",
    "    file_path = f'{base_directory}{tf.upper()}/datasets/data.csv'\n",
    "    \n",
    "    try:\n",
    "        df = pd.read_csv(file_path)\n",
    "        \n",
    "        # Add a column to identify the TF\n",
    "        df['TF'] = tf\n",
    "        \n",
    "        # Append data to the master DataFrame or create it if it doesn't exist\n",
    "        if 'master_df' in locals():\n",
    "            master_df = pd.concat([master_df, df], ignore_index=True)\n",
    "        else:\n",
    "            master_df = df\n",
    "    except FileNotFoundError:\n",
    "        print(f\"File not found for TF: {tf}\")\n",
    "\n",
    "# Save the combined DataFrame to a new CSV file\n",
    "output_csv_path = '/mnt/raid1/thalassini/home/tf_data/combined_data_len_100_chrom_regs.csv'\n",
    "master_df.to_csv(output_csv_path, index=False)\n",
    "\n",
    "print(f\"Combined data saved to {output_csv_path}\")\n"
   ]
  },
  {
   "cell_type": "code",
   "execution_count": 125,
   "id": "38ec5b8a",
   "metadata": {},
   "outputs": [
    {
     "data": {
      "text/html": [
       "<div>\n",
       "<style scoped>\n",
       "    .dataframe tbody tr th:only-of-type {\n",
       "        vertical-align: middle;\n",
       "    }\n",
       "\n",
       "    .dataframe tbody tr th {\n",
       "        vertical-align: top;\n",
       "    }\n",
       "\n",
       "    .dataframe thead th {\n",
       "        text-align: right;\n",
       "    }\n",
       "</style>\n",
       "<table border=\"1\" class=\"dataframe\">\n",
       "  <thead>\n",
       "    <tr style=\"text-align: right;\">\n",
       "      <th></th>\n",
       "      <th>chrom</th>\n",
       "      <th>region</th>\n",
       "      <th>data</th>\n",
       "      <th>class</th>\n",
       "      <th>TF</th>\n",
       "    </tr>\n",
       "  </thead>\n",
       "  <tbody>\n",
       "    <tr>\n",
       "      <th>0</th>\n",
       "      <td>chr1</td>\n",
       "      <td>CTCF Binding Site</td>\n",
       "      <td>TAGAATCATCCTATGGAATGTCAGGGCTAGAAGGAGCTTGAATGAT...</td>\n",
       "      <td>1</td>\n",
       "      <td>0</td>\n",
       "    </tr>\n",
       "    <tr>\n",
       "      <th>1</th>\n",
       "      <td>chr12</td>\n",
       "      <td>Enhancer</td>\n",
       "      <td>ATAGCTCTCAGGTTTTGACCGCATCCCATGTGCTGGGTGCTGTGCA...</td>\n",
       "      <td>1</td>\n",
       "      <td>0</td>\n",
       "    </tr>\n",
       "    <tr>\n",
       "      <th>2</th>\n",
       "      <td>chr20</td>\n",
       "      <td>Enhancer</td>\n",
       "      <td>AGTTAATAGTAGCTATTAATATTACTGTGGTAAATAAGAAAGTAGT...</td>\n",
       "      <td>1</td>\n",
       "      <td>0</td>\n",
       "    </tr>\n",
       "    <tr>\n",
       "      <th>3</th>\n",
       "      <td>chr20</td>\n",
       "      <td>CTCF Binding Site</td>\n",
       "      <td>AGTTAATAGTAGCTATTAATATTACTGTGGTAAATAAGAAAGTAGT...</td>\n",
       "      <td>1</td>\n",
       "      <td>0</td>\n",
       "    </tr>\n",
       "    <tr>\n",
       "      <th>4</th>\n",
       "      <td>chrX</td>\n",
       "      <td>Open chromatin</td>\n",
       "      <td>CATTCTTGCCTCATTCCAGCAGCTTCAGAGATCAATCAGCAGAGAT...</td>\n",
       "      <td>1</td>\n",
       "      <td>0</td>\n",
       "    </tr>\n",
       "    <tr>\n",
       "      <th>...</th>\n",
       "      <td>...</td>\n",
       "      <td>...</td>\n",
       "      <td>...</td>\n",
       "      <td>...</td>\n",
       "      <td>...</td>\n",
       "    </tr>\n",
       "    <tr>\n",
       "      <th>2958643</th>\n",
       "      <td>chr19</td>\n",
       "      <td>not_regulatory</td>\n",
       "      <td>TGTGGGAAAGCATTCTCTGATTGCACAGGTTTTCGAAGACACATGA...</td>\n",
       "      <td>0</td>\n",
       "      <td>ZNF274</td>\n",
       "    </tr>\n",
       "    <tr>\n",
       "      <th>2958644</th>\n",
       "      <td>chr6</td>\n",
       "      <td>not_regulatory</td>\n",
       "      <td>AACTTAATAAGATACAATCAAGACAACAAACGTCTTGATTTTTATA...</td>\n",
       "      <td>0</td>\n",
       "      <td>ZNF274</td>\n",
       "    </tr>\n",
       "    <tr>\n",
       "      <th>2958645</th>\n",
       "      <td>chr19</td>\n",
       "      <td>not_regulatory</td>\n",
       "      <td>AAAGAGTTTTGACTTTCAGATTTTAATTTTTACCTGCAATGAGGTG...</td>\n",
       "      <td>0</td>\n",
       "      <td>ZNF274</td>\n",
       "    </tr>\n",
       "    <tr>\n",
       "      <th>2958646</th>\n",
       "      <td>chr19</td>\n",
       "      <td>not_regulatory</td>\n",
       "      <td>AAGAGAGAGACTCCATCTCAAAAAAAAAATTACTAACATATAATAT...</td>\n",
       "      <td>0</td>\n",
       "      <td>ZNF274</td>\n",
       "    </tr>\n",
       "    <tr>\n",
       "      <th>2958647</th>\n",
       "      <td>chr6</td>\n",
       "      <td>not_regulatory</td>\n",
       "      <td>TTTGCAATTTTCTCCCATTCTGTGTATTGTCTTTCACTTTCTTGAT...</td>\n",
       "      <td>0</td>\n",
       "      <td>ZNF274</td>\n",
       "    </tr>\n",
       "  </tbody>\n",
       "</table>\n",
       "<p>2958648 rows × 5 columns</p>\n",
       "</div>"
      ],
      "text/plain": [
       "         chrom             region  \\\n",
       "0         chr1  CTCF Binding Site   \n",
       "1        chr12           Enhancer   \n",
       "2        chr20           Enhancer   \n",
       "3        chr20  CTCF Binding Site   \n",
       "4         chrX     Open chromatin   \n",
       "...        ...                ...   \n",
       "2958643  chr19     not_regulatory   \n",
       "2958644   chr6     not_regulatory   \n",
       "2958645  chr19     not_regulatory   \n",
       "2958646  chr19     not_regulatory   \n",
       "2958647   chr6     not_regulatory   \n",
       "\n",
       "                                                      data  class      TF  \n",
       "0        TAGAATCATCCTATGGAATGTCAGGGCTAGAAGGAGCTTGAATGAT...      1       0  \n",
       "1        ATAGCTCTCAGGTTTTGACCGCATCCCATGTGCTGGGTGCTGTGCA...      1       0  \n",
       "2        AGTTAATAGTAGCTATTAATATTACTGTGGTAAATAAGAAAGTAGT...      1       0  \n",
       "3        AGTTAATAGTAGCTATTAATATTACTGTGGTAAATAAGAAAGTAGT...      1       0  \n",
       "4        CATTCTTGCCTCATTCCAGCAGCTTCAGAGATCAATCAGCAGAGAT...      1       0  \n",
       "...                                                    ...    ...     ...  \n",
       "2958643  TGTGGGAAAGCATTCTCTGATTGCACAGGTTTTCGAAGACACATGA...      0  ZNF274  \n",
       "2958644  AACTTAATAAGATACAATCAAGACAACAAACGTCTTGATTTTTATA...      0  ZNF274  \n",
       "2958645  AAAGAGTTTTGACTTTCAGATTTTAATTTTTACCTGCAATGAGGTG...      0  ZNF274  \n",
       "2958646  AAGAGAGAGACTCCATCTCAAAAAAAAAATTACTAACATATAATAT...      0  ZNF274  \n",
       "2958647  TTTGCAATTTTCTCCCATTCTGTGTATTGTCTTTCACTTTCTTGAT...      0  ZNF274  \n",
       "\n",
       "[2958648 rows x 5 columns]"
      ]
     },
     "execution_count": 125,
     "metadata": {},
     "output_type": "execute_result"
    }
   ],
   "source": [
    "master_df"
   ]
  },
  {
   "cell_type": "code",
   "execution_count": 126,
   "id": "cee66340",
   "metadata": {},
   "outputs": [
    {
     "name": "stdout",
     "output_type": "stream",
     "text": [
      "Unique values in 'TF' column before mapping: [0 1 2 3 4 5 6 8 9 10 11 12 13 14 15 16 17 18 19 20 21 22 23 24 26 25 27\n",
      " 28 29 30 31 32 'ATF2' 'ATF3' 'CEBPB' 'CREB1' 'CTCF' 'E2F4' 'EGR1' 'ELF1'\n",
      " 'ELK1' 'FOS' 'FOXA1' 'GABPA' 'JUN' 'JUND' 'MAFK' 'MAX' 'MAZ' 'MXI1' 'MYC'\n",
      " 'NRF1' 'RELA' 'REST' 'RFX5' 'SP1' 'SRF' 'TCF12' 'TCF7L2' 'TEAD4' 'USF1'\n",
      " 'USF2' 'YY1' 'ZBTB33' 'ZNF274']\n"
     ]
    }
   ],
   "source": [
    "print(\"Unique values in 'TF' column before mapping:\", master_df['TF'].unique())\n"
   ]
  },
  {
   "cell_type": "code",
   "execution_count": 127,
   "id": "939edc98",
   "metadata": {},
   "outputs": [
    {
     "name": "stderr",
     "output_type": "stream",
     "text": [
      "/tmp/ipykernel_3738262/3393081513.py:8: SettingWithCopyWarning: \n",
      "A value is trying to be set on a copy of a slice from a DataFrame.\n",
      "Try using .loc[row_indexer,col_indexer] = value instead\n",
      "\n",
      "See the caveats in the documentation: https://pandas.pydata.org/pandas-docs/stable/user_guide/indexing.html#returning-a-view-versus-a-copy\n",
      "  master_df['TF'] = master_df['TF'].astype(int)\n"
     ]
    },
    {
     "data": {
      "text/html": [
       "<div>\n",
       "<style scoped>\n",
       "    .dataframe tbody tr th:only-of-type {\n",
       "        vertical-align: middle;\n",
       "    }\n",
       "\n",
       "    .dataframe tbody tr th {\n",
       "        vertical-align: top;\n",
       "    }\n",
       "\n",
       "    .dataframe thead th {\n",
       "        text-align: right;\n",
       "    }\n",
       "</style>\n",
       "<table border=\"1\" class=\"dataframe\">\n",
       "  <thead>\n",
       "    <tr style=\"text-align: right;\">\n",
       "      <th></th>\n",
       "      <th>chrom</th>\n",
       "      <th>region</th>\n",
       "      <th>data</th>\n",
       "      <th>class</th>\n",
       "      <th>TF</th>\n",
       "    </tr>\n",
       "  </thead>\n",
       "  <tbody>\n",
       "    <tr>\n",
       "      <th>1460896</th>\n",
       "      <td>chr1</td>\n",
       "      <td>CTCF Binding Site</td>\n",
       "      <td>TAGAATCATCCTATGGAATGTCAGGGCTAGAAGGAGCTTGAATGAT...</td>\n",
       "      <td>1</td>\n",
       "      <td>0</td>\n",
       "    </tr>\n",
       "    <tr>\n",
       "      <th>1460897</th>\n",
       "      <td>chr12</td>\n",
       "      <td>Enhancer</td>\n",
       "      <td>ATAGCTCTCAGGTTTTGACCGCATCCCATGTGCTGGGTGCTGTGCA...</td>\n",
       "      <td>1</td>\n",
       "      <td>0</td>\n",
       "    </tr>\n",
       "    <tr>\n",
       "      <th>1460898</th>\n",
       "      <td>chr20</td>\n",
       "      <td>Enhancer</td>\n",
       "      <td>AGTTAATAGTAGCTATTAATATTACTGTGGTAAATAAGAAAGTAGT...</td>\n",
       "      <td>1</td>\n",
       "      <td>0</td>\n",
       "    </tr>\n",
       "    <tr>\n",
       "      <th>1460899</th>\n",
       "      <td>chr20</td>\n",
       "      <td>CTCF Binding Site</td>\n",
       "      <td>AGTTAATAGTAGCTATTAATATTACTGTGGTAAATAAGAAAGTAGT...</td>\n",
       "      <td>1</td>\n",
       "      <td>0</td>\n",
       "    </tr>\n",
       "    <tr>\n",
       "      <th>1460900</th>\n",
       "      <td>chrX</td>\n",
       "      <td>Open chromatin</td>\n",
       "      <td>CATTCTTGCCTCATTCCAGCAGCTTCAGAGATCAATCAGCAGAGAT...</td>\n",
       "      <td>1</td>\n",
       "      <td>0</td>\n",
       "    </tr>\n",
       "    <tr>\n",
       "      <th>...</th>\n",
       "      <td>...</td>\n",
       "      <td>...</td>\n",
       "      <td>...</td>\n",
       "      <td>...</td>\n",
       "      <td>...</td>\n",
       "    </tr>\n",
       "    <tr>\n",
       "      <th>2958643</th>\n",
       "      <td>chr19</td>\n",
       "      <td>not_regulatory</td>\n",
       "      <td>TGTGGGAAAGCATTCTCTGATTGCACAGGTTTTCGAAGACACATGA...</td>\n",
       "      <td>0</td>\n",
       "      <td>32</td>\n",
       "    </tr>\n",
       "    <tr>\n",
       "      <th>2958644</th>\n",
       "      <td>chr6</td>\n",
       "      <td>not_regulatory</td>\n",
       "      <td>AACTTAATAAGATACAATCAAGACAACAAACGTCTTGATTTTTATA...</td>\n",
       "      <td>0</td>\n",
       "      <td>32</td>\n",
       "    </tr>\n",
       "    <tr>\n",
       "      <th>2958645</th>\n",
       "      <td>chr19</td>\n",
       "      <td>not_regulatory</td>\n",
       "      <td>AAAGAGTTTTGACTTTCAGATTTTAATTTTTACCTGCAATGAGGTG...</td>\n",
       "      <td>0</td>\n",
       "      <td>32</td>\n",
       "    </tr>\n",
       "    <tr>\n",
       "      <th>2958646</th>\n",
       "      <td>chr19</td>\n",
       "      <td>not_regulatory</td>\n",
       "      <td>AAGAGAGAGACTCCATCTCAAAAAAAAAATTACTAACATATAATAT...</td>\n",
       "      <td>0</td>\n",
       "      <td>32</td>\n",
       "    </tr>\n",
       "    <tr>\n",
       "      <th>2958647</th>\n",
       "      <td>chr6</td>\n",
       "      <td>not_regulatory</td>\n",
       "      <td>TTTGCAATTTTCTCCCATTCTGTGTATTGTCTTTCACTTTCTTGAT...</td>\n",
       "      <td>0</td>\n",
       "      <td>32</td>\n",
       "    </tr>\n",
       "  </tbody>\n",
       "</table>\n",
       "<p>1460896 rows × 5 columns</p>\n",
       "</div>"
      ],
      "text/plain": [
       "         chrom             region  \\\n",
       "1460896   chr1  CTCF Binding Site   \n",
       "1460897  chr12           Enhancer   \n",
       "1460898  chr20           Enhancer   \n",
       "1460899  chr20  CTCF Binding Site   \n",
       "1460900   chrX     Open chromatin   \n",
       "...        ...                ...   \n",
       "2958643  chr19     not_regulatory   \n",
       "2958644   chr6     not_regulatory   \n",
       "2958645  chr19     not_regulatory   \n",
       "2958646  chr19     not_regulatory   \n",
       "2958647   chr6     not_regulatory   \n",
       "\n",
       "                                                      data  class  TF  \n",
       "1460896  TAGAATCATCCTATGGAATGTCAGGGCTAGAAGGAGCTTGAATGAT...      1   0  \n",
       "1460897  ATAGCTCTCAGGTTTTGACCGCATCCCATGTGCTGGGTGCTGTGCA...      1   0  \n",
       "1460898  AGTTAATAGTAGCTATTAATATTACTGTGGTAAATAAGAAAGTAGT...      1   0  \n",
       "1460899  AGTTAATAGTAGCTATTAATATTACTGTGGTAAATAAGAAAGTAGT...      1   0  \n",
       "1460900  CATTCTTGCCTCATTCCAGCAGCTTCAGAGATCAATCAGCAGAGAT...      1   0  \n",
       "...                                                    ...    ...  ..  \n",
       "2958643  TGTGGGAAAGCATTCTCTGATTGCACAGGTTTTCGAAGACACATGA...      0  32  \n",
       "2958644  AACTTAATAAGATACAATCAAGACAACAAACGTCTTGATTTTTATA...      0  32  \n",
       "2958645  AAAGAGTTTTGACTTTCAGATTTTAATTTTTACCTGCAATGAGGTG...      0  32  \n",
       "2958646  AAGAGAGAGACTCCATCTCAAAAAAAAAATTACTAACATATAATAT...      0  32  \n",
       "2958647  TTTGCAATTTTCTCCCATTCTGTGTATTGTCTTTCACTTTCTTGAT...      0  32  \n",
       "\n",
       "[1460896 rows x 5 columns]"
      ]
     },
     "execution_count": 127,
     "metadata": {},
     "output_type": "execute_result"
    }
   ],
   "source": [
    "\n",
    "# Apply the mapping to the 'TF' column\n",
    "master_df['TF'] = master_df['TF'].map(tf_class)\n",
    "\n",
    "# Drop rows with NaN values in the 'TF' column\n",
    "master_df = master_df.dropna(subset=['TF'])\n",
    "\n",
    "# Convert the 'TF' column to integers\n",
    "master_df['TF'] = master_df['TF'].astype(int)\n",
    "master_df"
   ]
  },
  {
   "cell_type": "markdown",
   "id": "fd9c1045",
   "metadata": {},
   "source": [
    "# Sequence length inspection and normalization"
   ]
  },
  {
   "cell_type": "code",
   "execution_count": 128,
   "id": "d33c9269",
   "metadata": {},
   "outputs": [
    {
     "name": "stdout",
     "output_type": "stream",
     "text": [
      "Max length:100, Min length: 100\n"
     ]
    },
    {
     "data": {
      "image/png": "[encoded data removed]",
      "text/plain": [
       "<Figure size 640x480 with 1 Axes>"
      ]
     },
     "metadata": {},
     "output_type": "display_data"
    }
   ],
   "source": [
    "lengths= [len(item) for item in df['data']] \n",
    "print(f'Max length:{max(lengths)}, Min length: {min(lengths)}')\n",
    "import matplotlib.pyplot as plt\n",
    "# Plotting the histogram\n",
    "plt.hist(lengths, bins=10, color='blue', edgecolor='black')\n",
    "plt.title('Histogram of Lengths')\n",
    "plt.xlabel('Length')\n",
    "plt.ylabel('Frequency')\n",
    "plt.show()"
   ]
  },
  {
   "cell_type": "code",
   "execution_count": 129,
   "id": "292502f4",
   "metadata": {},
   "outputs": [],
   "source": [
    "# Find the maximum length of sequences\n",
    "#min_length = min(len(seq) for seq in df['data'])\n",
    "limit=200\n",
    "\n",
    "\n",
    "# Pad or cut sequences to ensure they all have the same length\n",
    "cut_sequences = [seq[:limit] for seq in df['data']]\n",
    "\n",
    "# Update the DataFrame with the cut sequences\n",
    "#df['data'] = cut_sequences"
   ]
  },
  {
   "cell_type": "code",
   "execution_count": 130,
   "id": "84f394a8",
   "metadata": {},
   "outputs": [
    {
     "name": "stdout",
     "output_type": "stream",
     "text": [
      "Max length:100, Min length: 100\n"
     ]
    }
   ],
   "source": [
    "lengths= [len(item) for item in cut_sequences]\n",
    "print(f'Max length:{max(lengths)}, Min length: {min(lengths)}')"
   ]
  },
  {
   "cell_type": "markdown",
   "id": "9b65d644",
   "metadata": {},
   "source": [
    "# Define X,y variables"
   ]
  },
  {
   "cell_type": "code",
   "execution_count": 131,
   "id": "f9e96a80",
   "metadata": {},
   "outputs": [],
   "source": [
    "X=[one_hot_encode(sequence) for sequence in cut_sequences]"
   ]
  },
  {
   "cell_type": "code",
   "execution_count": 132,
   "id": "2ab32859",
   "metadata": {},
   "outputs": [],
   "source": [
    "X = torch.from_numpy(np.array(X)).type(torch.float)\n"
   ]
  },
  {
   "cell_type": "code",
   "execution_count": 133,
   "id": "0bf2a817",
   "metadata": {},
   "outputs": [
    {
     "data": {
      "text/plain": [
       "torch.Size([7266, 100, 4])"
      ]
     },
     "execution_count": 133,
     "metadata": {},
     "output_type": "execute_result"
    }
   ],
   "source": [
    "X.shape"
   ]
  },
  {
   "cell_type": "code",
   "execution_count": 134,
   "id": "9aec20e4",
   "metadata": {},
   "outputs": [
    {
     "data": {
      "text/plain": [
       "array([1, 1, 1])"
      ]
     },
     "execution_count": 134,
     "metadata": {},
     "output_type": "execute_result"
    }
   ],
   "source": [
    "#y=np.array(df['TF'])\n",
    "y=np.array(df['class'])\n",
    "\n",
    "y[:3]"
   ]
  },
  {
   "cell_type": "code",
   "execution_count": 135,
   "id": "b9399dc8",
   "metadata": {},
   "outputs": [],
   "source": [
    "y = torch.from_numpy(y).type(torch.float)"
   ]
  },
  {
   "cell_type": "markdown",
   "id": "cd869133",
   "metadata": {},
   "source": [
    "# Split the data in train, val and test set"
   ]
  },
  {
   "cell_type": "code",
   "execution_count": 136,
   "id": "81486dcf",
   "metadata": {},
   "outputs": [],
   "source": [
    "train_loader, val_loader, test_loader = helper_functions.make_loaders(X,y)"
   ]
  },
  {
   "cell_type": "markdown",
   "id": "d20e4bb7",
   "metadata": {},
   "source": [
    "# Construct a 1 layer CNN with Maxpooling and Dropout"
   ]
  },
  {
   "cell_type": "code",
   "execution_count": 137,
   "id": "9c0dfed6",
   "metadata": {},
   "outputs": [],
   "source": [
    "class Conv_v1(torch.nn.Module):\n",
    "\n",
    "    def __init__(self):\n",
    "        super(Conv_v1, self).__init__()\n",
    "\n",
    "        self.conv1 = torch.nn.Conv1d(in_channels=4, out_channels= 30, kernel_size= 5)\n",
    "        self.conv2 = torch.nn.Conv1d(in_channels= 30, out_channels= 50, kernel_size= 5)\n",
    "        self.conv3 = torch.nn.Conv1d(in_channels= 50, out_channels= 70, kernel_size= 5)\n",
    "        self.activation = torch.nn.ReLU()\n",
    "        self.maxpool = torch.nn.MaxPool1d(kernel_size= 2)\n",
    "        \n",
    "        self.dropout = torch.nn.Dropout(p=0.25) \n",
    "        #in_features = 108 for 200kb, 588 for 1kb, 1188 for 2kb\n",
    "        self.fc =  torch.nn.LazyLinear(out_features=2)\n",
    "        #self.sigmoid = torch.nn.Sigmoid() will not be used since its intergraded in BCEWithLogitsLoss()\n",
    "        #self.softmax = nn.Softmax(dim=1)\n",
    "\n",
    "    def forward(self, x):\n",
    "        x= x.permute(0, 2, 1)\n",
    "        x = self.conv1(x)\n",
    "        x = self.activation(x)\n",
    "        x = self.maxpool(x)\n",
    "        \n",
    "        x = self.conv2(x)\n",
    "        x = self.activation(x)\n",
    "        x = self.maxpool(x)\n",
    "        \n",
    "        x = self.conv3(x)\n",
    "        x = self.activation(x)\n",
    "        x = self.maxpool(x)\n",
    "        \n",
    "        # Reshape the output of the max pooling layer before passing it to the fully connected layer\n",
    "        x = x.view(x.size(0), -1)\n",
    "        \n",
    "        #print(\"Size after reshaping:\", x.size())\n",
    "        x=self.dropout(x)\n",
    "        x = self.fc(x)\n",
    "        #x = self.softmax(x)\n",
    "        #x = self.sigmoid(x)\n",
    "        return x\n"
   ]
  },
  {
   "cell_type": "markdown",
   "id": "40b134d4",
   "metadata": {},
   "source": [
    "# Set up loss function and optimizer"
   ]
  },
  {
   "cell_type": "code",
   "execution_count": 138,
   "id": "30cf0daa",
   "metadata": {},
   "outputs": [
    {
     "name": "stderr",
     "output_type": "stream",
     "text": [
      "/mnt/raid1/thalassini/home/anaconda3/lib/python3.11/site-packages/torch/nn/modules/lazy.py:180: UserWarning: Lazy modules are a new feature under heavy development so changes to the API or functionality can happen at any moment.\n",
      "  warnings.warn('Lazy modules are a new feature under heavy development '\n"
     ]
    }
   ],
   "source": [
    "torch.manual_seed(42)\n",
    "\n",
    "# Initialize model instance\n",
    "model = Conv_v1()\n",
    "\n",
    "#loss_fn = nn.BCEWithLogitsLoss(weight=weights)\n",
    "loss_fn = nn.BCEWithLogitsLoss()\n",
    "\n",
    "# Define oprimizer\n",
    "optimizer = torch.optim.Adam(model.parameters(), lr=0.00001)\n",
    "\n",
    "# Define exponetntial lr with lr_scheduler\n",
    "#exp_lr_scheduler = lr_scheduler.ExponentialLR(optimizer, gamma=0.01)"
   ]
  },
  {
   "cell_type": "code",
   "execution_count": 139,
   "id": "4cfca526",
   "metadata": {},
   "outputs": [],
   "source": [
    "# Check number of classes in the model\n",
    "num_classes_model = model.fc.out_features  # Adjust accordingly\n"
   ]
  },
  {
   "cell_type": "code",
   "execution_count": 140,
   "id": "e4f7a029",
   "metadata": {},
   "outputs": [
    {
     "data": {
      "text/plain": [
       "2"
      ]
     },
     "execution_count": 140,
     "metadata": {},
     "output_type": "execute_result"
    }
   ],
   "source": [
    "num_classes_model"
   ]
  },
  {
   "cell_type": "code",
   "execution_count": 141,
   "id": "fdfb5e26",
   "metadata": {
    "scrolled": true
   },
   "outputs": [
    {
     "data": {
      "application/vnd.jupyter.widget-view+json": {
       "model_id": "a875f16876894f9881c08fadde28573c",
       "version_major": 2,
       "version_minor": 0
      },
      "text/plain": [
       "  0%|          | 0/10000 [00:00<?, ?it/s]"
      ]
     },
     "metadata": {},
     "output_type": "display_data"
    },
    {
     "name": "stdout",
     "output_type": "stream",
     "text": [
      "Epoch: 1 | train_loss: 0.6931 | train_bal_acc: 0.5052 | train_mcc: 0.0292 | train_auroc: 0.5077  |  valid_loss: 0.6931 | valid_bal_acc: 0.5000 | valid_mcc: 0.0000  |  valid_auroc: 0.5257\n",
      "Epoch: 2 | train_loss: 0.6929 | train_bal_acc: 0.5056 | train_mcc: 0.0293 | train_auroc: 0.5193  |  valid_loss: 0.6926 | valid_bal_acc: 0.5008 | valid_mcc: 0.0087  |  valid_auroc: 0.5939\n",
      "Epoch: 3 | train_loss: 0.6925 | train_bal_acc: 0.5090 | train_mcc: 0.0358 | train_auroc: 0.5350  |  valid_loss: 0.6919 | valid_bal_acc: 0.5008 | valid_mcc: 0.0090  |  valid_auroc: 0.6273\n",
      "Epoch: 4 | train_loss: 0.6921 | train_bal_acc: 0.5177 | train_mcc: 0.0751 | train_auroc: 0.5520  |  valid_loss: 0.6922 | valid_bal_acc: 0.5048 | valid_mcc: 0.0498  |  valid_auroc: 0.6659\n",
      "Epoch: 5 | train_loss: 0.6916 | train_bal_acc: 0.5304 | train_mcc: 0.1058 | train_auroc: 0.5686  |  valid_loss: 0.6918 | valid_bal_acc: 0.5343 | valid_mcc: 0.1572  |  valid_auroc: 0.6902\n",
      "Epoch: 6 | train_loss: 0.6913 | train_bal_acc: 0.5281 | train_mcc: 0.0917 | train_auroc: 0.5818  |  valid_loss: 0.6910 | valid_bal_acc: 0.5614 | valid_mcc: 0.2105  |  valid_auroc: 0.7074\n",
      "Epoch: 7 | train_loss: 0.6907 | train_bal_acc: 0.5413 | train_mcc: 0.1252 | train_auroc: 0.5998  |  valid_loss: 0.6901 | valid_bal_acc: 0.5987 | valid_mcc: 0.2819  |  valid_auroc: 0.7516\n",
      "Epoch: 8 | train_loss: 0.6906 | train_bal_acc: 0.5455 | train_mcc: 0.1409 | train_auroc: 0.6032  |  valid_loss: 0.6903 | valid_bal_acc: 0.5917 | valid_mcc: 0.2485  |  valid_auroc: 0.7470\n",
      "Epoch: 9 | train_loss: 0.6898 | train_bal_acc: 0.5447 | train_mcc: 0.1368 | train_auroc: 0.6327  |  valid_loss: 0.6897 | valid_bal_acc: 0.6260 | valid_mcc: 0.3140  |  valid_auroc: 0.7746\n",
      "Epoch: 10 | train_loss: 0.6891 | train_bal_acc: 0.5699 | train_mcc: 0.2039 | train_auroc: 0.6522  |  valid_loss: 0.6888 | valid_bal_acc: 0.6286 | valid_mcc: 0.3010  |  valid_auroc: 0.7744\n",
      "Epoch: 11 | train_loss: 0.6887 | train_bal_acc: 0.5793 | train_mcc: 0.2071 | train_auroc: 0.6587  |  valid_loss: 0.6886 | valid_bal_acc: 0.7033 | valid_mcc: 0.4336  |  valid_auroc: 0.7964\n",
      "Epoch: 12 | train_loss: 0.6881 | train_bal_acc: 0.5981 | train_mcc: 0.2466 | train_auroc: 0.6759  |  valid_loss: 0.6882 | valid_bal_acc: 0.7350 | valid_mcc: 0.4774  |  valid_auroc: 0.7894\n",
      "Epoch: 13 | train_loss: 0.6875 | train_bal_acc: 0.6036 | train_mcc: 0.2621 | train_auroc: 0.6926  |  valid_loss: 0.6876 | valid_bal_acc: 0.7390 | valid_mcc: 0.4946  |  valid_auroc: 0.8144\n",
      "Epoch: 14 | train_loss: 0.6870 | train_bal_acc: 0.6081 | train_mcc: 0.2662 | train_auroc: 0.7048  |  valid_loss: 0.6866 | valid_bal_acc: 0.7725 | valid_mcc: 0.5500  |  valid_auroc: 0.8351\n",
      "Epoch: 15 | train_loss: 0.6864 | train_bal_acc: 0.6347 | train_mcc: 0.3133 | train_auroc: 0.7143  |  valid_loss: 0.6864 | valid_bal_acc: 0.7366 | valid_mcc: 0.4743  |  valid_auroc: 0.8086\n",
      "Epoch: 16 | train_loss: 0.6856 | train_bal_acc: 0.6512 | train_mcc: 0.3375 | train_auroc: 0.7283  |  valid_loss: 0.6849 | valid_bal_acc: 0.7935 | valid_mcc: 0.5892  |  valid_auroc: 0.8401\n",
      "Epoch: 17 | train_loss: 0.6848 | train_bal_acc: 0.6619 | train_mcc: 0.3576 | train_auroc: 0.7356  |  valid_loss: 0.6847 | valid_bal_acc: 0.7573 | valid_mcc: 0.5170  |  valid_auroc: 0.8189\n",
      "Epoch: 18 | train_loss: 0.6837 | train_bal_acc: 0.6783 | train_mcc: 0.3812 | train_auroc: 0.7510  |  valid_loss: 0.6832 | valid_bal_acc: 0.7844 | valid_mcc: 0.5602  |  valid_auroc: 0.8530\n",
      "Epoch: 19 | train_loss: 0.6826 | train_bal_acc: 0.6890 | train_mcc: 0.4003 | train_auroc: 0.7623  |  valid_loss: 0.6818 | valid_bal_acc: 0.7889 | valid_mcc: 0.5712  |  valid_auroc: 0.8502\n",
      "Epoch: 20 | train_loss: 0.6812 | train_bal_acc: 0.7073 | train_mcc: 0.4298 | train_auroc: 0.7790  |  valid_loss: 0.6811 | valid_bal_acc: 0.7707 | valid_mcc: 0.5539  |  valid_auroc: 0.8484\n",
      "Epoch: 21 | train_loss: 0.6804 | train_bal_acc: 0.7033 | train_mcc: 0.4233 | train_auroc: 0.7818  |  valid_loss: 0.6802 | valid_bal_acc: 0.7922 | valid_mcc: 0.5790  |  valid_auroc: 0.8508\n",
      "Epoch: 22 | train_loss: 0.6789 | train_bal_acc: 0.7123 | train_mcc: 0.4422 | train_auroc: 0.7966  |  valid_loss: 0.6779 | valid_bal_acc: 0.7903 | valid_mcc: 0.5852  |  valid_auroc: 0.8587\n",
      "Epoch: 23 | train_loss: 0.6776 | train_bal_acc: 0.7304 | train_mcc: 0.4674 | train_auroc: 0.7994  |  valid_loss: 0.6775 | valid_bal_acc: 0.7846 | valid_mcc: 0.5695  |  valid_auroc: 0.8448\n",
      "Epoch: 24 | train_loss: 0.6769 | train_bal_acc: 0.7303 | train_mcc: 0.4644 | train_auroc: 0.7978  |  valid_loss: 0.6757 | valid_bal_acc: 0.7952 | valid_mcc: 0.5870  |  valid_auroc: 0.8471\n",
      "Epoch: 25 | train_loss: 0.6750 | train_bal_acc: 0.7337 | train_mcc: 0.4756 | train_auroc: 0.8091  |  valid_loss: 0.6748 | valid_bal_acc: 0.7726 | valid_mcc: 0.5504  |  valid_auroc: 0.8497\n",
      "Epoch: 26 | train_loss: 0.6734 | train_bal_acc: 0.7400 | train_mcc: 0.4840 | train_auroc: 0.8137  |  valid_loss: 0.6729 | valid_bal_acc: 0.7912 | valid_mcc: 0.5706  |  valid_auroc: 0.8439\n",
      "Epoch: 27 | train_loss: 0.6717 | train_bal_acc: 0.7374 | train_mcc: 0.4807 | train_auroc: 0.8192  |  valid_loss: 0.6727 | valid_bal_acc: 0.7808 | valid_mcc: 0.5564  |  valid_auroc: 0.8374\n",
      "Epoch: 28 | train_loss: 0.6701 | train_bal_acc: 0.7564 | train_mcc: 0.5142 | train_auroc: 0.8202  |  valid_loss: 0.6680 | valid_bal_acc: 0.7942 | valid_mcc: 0.5883  |  valid_auroc: 0.8623\n",
      "Epoch: 29 | train_loss: 0.6684 | train_bal_acc: 0.7493 | train_mcc: 0.5009 | train_auroc: 0.8222  |  valid_loss: 0.6666 | valid_bal_acc: 0.7868 | valid_mcc: 0.5765  |  valid_auroc: 0.8607\n",
      "Epoch: 30 | train_loss: 0.6661 | train_bal_acc: 0.7626 | train_mcc: 0.5280 | train_auroc: 0.8298  |  valid_loss: 0.6670 | valid_bal_acc: 0.7756 | valid_mcc: 0.5442  |  valid_auroc: 0.8529\n",
      "Epoch: 31 | train_loss: 0.6639 | train_bal_acc: 0.7559 | train_mcc: 0.5126 | train_auroc: 0.8300  |  valid_loss: 0.6661 | valid_bal_acc: 0.7549 | valid_mcc: 0.5105  |  valid_auroc: 0.8237\n",
      "Epoch: 32 | train_loss: 0.6621 | train_bal_acc: 0.7531 | train_mcc: 0.5093 | train_auroc: 0.8286  |  valid_loss: 0.6615 | valid_bal_acc: 0.7764 | valid_mcc: 0.5638  |  valid_auroc: 0.8390\n",
      "Epoch: 33 | train_loss: 0.6590 | train_bal_acc: 0.7562 | train_mcc: 0.5146 | train_auroc: 0.8383  |  valid_loss: 0.6593 | valid_bal_acc: 0.7811 | valid_mcc: 0.5638  |  valid_auroc: 0.8494\n",
      "Epoch: 34 | train_loss: 0.6570 | train_bal_acc: 0.7658 | train_mcc: 0.5321 | train_auroc: 0.8324  |  valid_loss: 0.6550 | valid_bal_acc: 0.7882 | valid_mcc: 0.5835  |  valid_auroc: 0.8545\n",
      "Epoch: 35 | train_loss: 0.6545 | train_bal_acc: 0.7598 | train_mcc: 0.5218 | train_auroc: 0.8371  |  valid_loss: 0.6530 | valid_bal_acc: 0.7941 | valid_mcc: 0.5858  |  valid_auroc: 0.8623\n",
      "Epoch: 36 | train_loss: 0.6515 | train_bal_acc: 0.7643 | train_mcc: 0.5314 | train_auroc: 0.8396  |  valid_loss: 0.6515 | valid_bal_acc: 0.7796 | valid_mcc: 0.5579  |  valid_auroc: 0.8466\n",
      "Epoch: 37 | train_loss: 0.6490 | train_bal_acc: 0.7648 | train_mcc: 0.5318 | train_auroc: 0.8381  |  valid_loss: 0.6469 | valid_bal_acc: 0.7739 | valid_mcc: 0.5483  |  valid_auroc: 0.8595\n",
      "Epoch: 38 | train_loss: 0.6454 | train_bal_acc: 0.7676 | train_mcc: 0.5363 | train_auroc: 0.8438  |  valid_loss: 0.6481 | valid_bal_acc: 0.7551 | valid_mcc: 0.5092  |  valid_auroc: 0.8289\n",
      "Epoch: 39 | train_loss: 0.6431 | train_bal_acc: 0.7657 | train_mcc: 0.5329 | train_auroc: 0.8390  |  valid_loss: 0.6433 | valid_bal_acc: 0.7894 | valid_mcc: 0.5779  |  valid_auroc: 0.8556\n",
      "Epoch: 40 | train_loss: 0.6395 | train_bal_acc: 0.7694 | train_mcc: 0.5403 | train_auroc: 0.8424  |  valid_loss: 0.6374 | valid_bal_acc: 0.7816 | valid_mcc: 0.5655  |  valid_auroc: 0.8585\n",
      "Epoch: 41 | train_loss: 0.6365 | train_bal_acc: 0.7623 | train_mcc: 0.5262 | train_auroc: 0.8436  |  valid_loss: 0.6318 | valid_bal_acc: 0.7886 | valid_mcc: 0.5747  |  valid_auroc: 0.8546\n",
      "Epoch: 42 | train_loss: 0.6322 | train_bal_acc: 0.7658 | train_mcc: 0.5331 | train_auroc: 0.8436  |  valid_loss: 0.6341 | valid_bal_acc: 0.7652 | valid_mcc: 0.5314  |  valid_auroc: 0.8378\n",
      "Epoch: 43 | train_loss: 0.6285 | train_bal_acc: 0.7676 | train_mcc: 0.5357 | train_auroc: 0.8418  |  valid_loss: 0.6260 | valid_bal_acc: 0.7786 | valid_mcc: 0.5595  |  valid_auroc: 0.8595\n",
      "Epoch: 44 | train_loss: 0.6239 | train_bal_acc: 0.7719 | train_mcc: 0.5452 | train_auroc: 0.8480  |  valid_loss: 0.6232 | valid_bal_acc: 0.7826 | valid_mcc: 0.5691  |  valid_auroc: 0.8602\n"
     ]
    },
    {
     "name": "stdout",
     "output_type": "stream",
     "text": [
      "Epoch: 45 | train_loss: 0.6212 | train_bal_acc: 0.7683 | train_mcc: 0.5381 | train_auroc: 0.8424  |  valid_loss: 0.6230 | valid_bal_acc: 0.7579 | valid_mcc: 0.5174  |  valid_auroc: 0.8446\n",
      "Epoch: 46 | train_loss: 0.6161 | train_bal_acc: 0.7716 | train_mcc: 0.5456 | train_auroc: 0.8454  |  valid_loss: 0.6163 | valid_bal_acc: 0.7681 | valid_mcc: 0.5342  |  valid_auroc: 0.8460\n",
      "Epoch: 47 | train_loss: 0.6126 | train_bal_acc: 0.7724 | train_mcc: 0.5456 | train_auroc: 0.8445  |  valid_loss: 0.6138 | valid_bal_acc: 0.7782 | valid_mcc: 0.5564  |  valid_auroc: 0.8420\n",
      "Epoch: 48 | train_loss: 0.6077 | train_bal_acc: 0.7692 | train_mcc: 0.5388 | train_auroc: 0.8459  |  valid_loss: 0.6058 | valid_bal_acc: 0.7761 | valid_mcc: 0.5506  |  valid_auroc: 0.8532\n",
      "Epoch: 49 | train_loss: 0.6036 | train_bal_acc: 0.7659 | train_mcc: 0.5321 | train_auroc: 0.8455  |  valid_loss: 0.6020 | valid_bal_acc: 0.7751 | valid_mcc: 0.5507  |  valid_auroc: 0.8554\n",
      "Epoch: 50 | train_loss: 0.5987 | train_bal_acc: 0.7710 | train_mcc: 0.5430 | train_auroc: 0.8462  |  valid_loss: 0.5929 | valid_bal_acc: 0.7924 | valid_mcc: 0.5815  |  valid_auroc: 0.8627\n",
      "Epoch: 51 | train_loss: 0.5950 | train_bal_acc: 0.7703 | train_mcc: 0.5410 | train_auroc: 0.8467  |  valid_loss: 0.5936 | valid_bal_acc: 0.7718 | valid_mcc: 0.5431  |  valid_auroc: 0.8437\n",
      "Epoch: 52 | train_loss: 0.5913 | train_bal_acc: 0.7695 | train_mcc: 0.5398 | train_auroc: 0.8433  |  valid_loss: 0.5857 | valid_bal_acc: 0.7829 | valid_mcc: 0.5604  |  valid_auroc: 0.8659\n",
      "Epoch: 53 | train_loss: 0.5843 | train_bal_acc: 0.7745 | train_mcc: 0.5502 | train_auroc: 0.8496  |  valid_loss: 0.5865 | valid_bal_acc: 0.7774 | valid_mcc: 0.5610  |  valid_auroc: 0.8387\n",
      "Epoch: 54 | train_loss: 0.5807 | train_bal_acc: 0.7703 | train_mcc: 0.5409 | train_auroc: 0.8462  |  valid_loss: 0.5750 | valid_bal_acc: 0.7821 | valid_mcc: 0.5684  |  valid_auroc: 0.8590\n",
      "Epoch: 55 | train_loss: 0.5782 | train_bal_acc: 0.7718 | train_mcc: 0.5444 | train_auroc: 0.8464  |  valid_loss: 0.5749 | valid_bal_acc: 0.7823 | valid_mcc: 0.5551  |  valid_auroc: 0.8513\n",
      "Epoch: 56 | train_loss: 0.5723 | train_bal_acc: 0.7721 | train_mcc: 0.5446 | train_auroc: 0.8494  |  valid_loss: 0.5672 | valid_bal_acc: 0.7756 | valid_mcc: 0.5567  |  valid_auroc: 0.8633\n",
      "Epoch: 57 | train_loss: 0.5666 | train_bal_acc: 0.7713 | train_mcc: 0.5440 | train_auroc: 0.8499  |  valid_loss: 0.5639 | valid_bal_acc: 0.7773 | valid_mcc: 0.5539  |  valid_auroc: 0.8585\n",
      "Epoch: 58 | train_loss: 0.5631 | train_bal_acc: 0.7764 | train_mcc: 0.5538 | train_auroc: 0.8488  |  valid_loss: 0.5647 | valid_bal_acc: 0.7856 | valid_mcc: 0.5432  |  valid_auroc: 0.8507\n",
      "Epoch: 59 | train_loss: 0.5604 | train_bal_acc: 0.7714 | train_mcc: 0.5423 | train_auroc: 0.8461  |  valid_loss: 0.5531 | valid_bal_acc: 0.7850 | valid_mcc: 0.5544  |  valid_auroc: 0.8609\n",
      "Epoch: 60 | train_loss: 0.5561 | train_bal_acc: 0.7714 | train_mcc: 0.5435 | train_auroc: 0.8476  |  valid_loss: 0.5596 | valid_bal_acc: 0.7630 | valid_mcc: 0.5273  |  valid_auroc: 0.8384\n",
      "Epoch: 61 | train_loss: 0.5513 | train_bal_acc: 0.7739 | train_mcc: 0.5478 | train_auroc: 0.8500  |  valid_loss: 0.5563 | valid_bal_acc: 0.7719 | valid_mcc: 0.5425  |  valid_auroc: 0.8354\n",
      "Epoch: 62 | train_loss: 0.5484 | train_bal_acc: 0.7714 | train_mcc: 0.5435 | train_auroc: 0.8495  |  valid_loss: 0.5560 | valid_bal_acc: 0.7286 | valid_mcc: 0.4665  |  valid_auroc: 0.8227\n",
      "Epoch: 63 | train_loss: 0.5458 | train_bal_acc: 0.7681 | train_mcc: 0.5375 | train_auroc: 0.8472  |  valid_loss: 0.5528 | valid_bal_acc: 0.7633 | valid_mcc: 0.5235  |  valid_auroc: 0.8299\n",
      "Epoch: 64 | train_loss: 0.5377 | train_bal_acc: 0.7759 | train_mcc: 0.5515 | train_auroc: 0.8549  |  valid_loss: 0.5255 | valid_bal_acc: 0.7952 | valid_mcc: 0.5907  |  valid_auroc: 0.8643\n",
      "Epoch: 65 | train_loss: 0.5362 | train_bal_acc: 0.7768 | train_mcc: 0.5543 | train_auroc: 0.8499  |  valid_loss: 0.5334 | valid_bal_acc: 0.7819 | valid_mcc: 0.5665  |  valid_auroc: 0.8552\n",
      "Epoch: 66 | train_loss: 0.5332 | train_bal_acc: 0.7758 | train_mcc: 0.5519 | train_auroc: 0.8498  |  valid_loss: 0.5280 | valid_bal_acc: 0.7771 | valid_mcc: 0.5542  |  valid_auroc: 0.8530\n",
      "Epoch: 67 | train_loss: 0.5286 | train_bal_acc: 0.7761 | train_mcc: 0.5533 | train_auroc: 0.8517  |  valid_loss: 0.5155 | valid_bal_acc: 0.7862 | valid_mcc: 0.5783  |  valid_auroc: 0.8656\n",
      "Epoch: 68 | train_loss: 0.5265 | train_bal_acc: 0.7729 | train_mcc: 0.5460 | train_auroc: 0.8512  |  valid_loss: 0.5343 | valid_bal_acc: 0.7673 | valid_mcc: 0.5365  |  valid_auroc: 0.8273\n",
      "Epoch: 69 | train_loss: 0.5222 | train_bal_acc: 0.7757 | train_mcc: 0.5510 | train_auroc: 0.8530  |  valid_loss: 0.5209 | valid_bal_acc: 0.7857 | valid_mcc: 0.5701  |  valid_auroc: 0.8642\n",
      "Epoch: 70 | train_loss: 0.5192 | train_bal_acc: 0.7798 | train_mcc: 0.5612 | train_auroc: 0.8512  |  valid_loss: 0.5377 | valid_bal_acc: 0.7609 | valid_mcc: 0.5211  |  valid_auroc: 0.8273\n",
      "Epoch: 71 | train_loss: 0.5175 | train_bal_acc: 0.7753 | train_mcc: 0.5520 | train_auroc: 0.8504  |  valid_loss: 0.5132 | valid_bal_acc: 0.7900 | valid_mcc: 0.5833  |  valid_auroc: 0.8604\n",
      "Epoch: 72 | train_loss: 0.5120 | train_bal_acc: 0.7809 | train_mcc: 0.5621 | train_auroc: 0.8562  |  valid_loss: 0.5113 | valid_bal_acc: 0.7900 | valid_mcc: 0.5637  |  valid_auroc: 0.8686\n",
      "Epoch: 73 | train_loss: 0.5089 | train_bal_acc: 0.7789 | train_mcc: 0.5585 | train_auroc: 0.8556  |  valid_loss: 0.5134 | valid_bal_acc: 0.7678 | valid_mcc: 0.5363  |  valid_auroc: 0.8576\n",
      "Epoch: 74 | train_loss: 0.5085 | train_bal_acc: 0.7829 | train_mcc: 0.5652 | train_auroc: 0.8548  |  valid_loss: 0.5305 | valid_bal_acc: 0.7599 | valid_mcc: 0.5192  |  valid_auroc: 0.8226\n",
      "Epoch: 75 | train_loss: 0.5052 | train_bal_acc: 0.7775 | train_mcc: 0.5546 | train_auroc: 0.8555  |  valid_loss: 0.5087 | valid_bal_acc: 0.7812 | valid_mcc: 0.5623  |  valid_auroc: 0.8558\n",
      "Epoch: 76 | train_loss: 0.5021 | train_bal_acc: 0.7805 | train_mcc: 0.5602 | train_auroc: 0.8576  |  valid_loss: 0.4993 | valid_bal_acc: 0.7918 | valid_mcc: 0.5682  |  valid_auroc: 0.8622\n",
      "Epoch: 77 | train_loss: 0.4975 | train_bal_acc: 0.7858 | train_mcc: 0.5723 | train_auroc: 0.8599  |  valid_loss: 0.4923 | valid_bal_acc: 0.7815 | valid_mcc: 0.5613  |  valid_auroc: 0.8681\n",
      "Epoch: 78 | train_loss: 0.4955 | train_bal_acc: 0.7851 | train_mcc: 0.5704 | train_auroc: 0.8583  |  valid_loss: 0.4998 | valid_bal_acc: 0.7703 | valid_mcc: 0.5376  |  valid_auroc: 0.8621\n",
      "Epoch: 79 | train_loss: 0.4931 | train_bal_acc: 0.7825 | train_mcc: 0.5646 | train_auroc: 0.8594  |  valid_loss: 0.4938 | valid_bal_acc: 0.7882 | valid_mcc: 0.5788  |  valid_auroc: 0.8625\n",
      "Epoch: 80 | train_loss: 0.4912 | train_bal_acc: 0.7821 | train_mcc: 0.5635 | train_auroc: 0.8597  |  valid_loss: 0.4891 | valid_bal_acc: 0.7831 | valid_mcc: 0.5652  |  valid_auroc: 0.8612\n",
      "Epoch: 81 | train_loss: 0.4881 | train_bal_acc: 0.7893 | train_mcc: 0.5777 | train_auroc: 0.8616  |  valid_loss: 0.4764 | valid_bal_acc: 0.7884 | valid_mcc: 0.5794  |  valid_auroc: 0.8753\n",
      "Epoch: 82 | train_loss: 0.4895 | train_bal_acc: 0.7851 | train_mcc: 0.5700 | train_auroc: 0.8606  |  valid_loss: 0.4808 | valid_bal_acc: 0.7874 | valid_mcc: 0.5742  |  valid_auroc: 0.8634\n",
      "Epoch: 83 | train_loss: 0.4861 | train_bal_acc: 0.7861 | train_mcc: 0.5723 | train_auroc: 0.8594  |  valid_loss: 0.4886 | valid_bal_acc: 0.7810 | valid_mcc: 0.5615  |  valid_auroc: 0.8645\n",
      "Epoch: 84 | train_loss: 0.4818 | train_bal_acc: 0.7865 | train_mcc: 0.5737 | train_auroc: 0.8622  |  valid_loss: 0.4849 | valid_bal_acc: 0.7846 | valid_mcc: 0.5701  |  valid_auroc: 0.8640\n",
      "Epoch: 85 | train_loss: 0.4816 | train_bal_acc: 0.7865 | train_mcc: 0.5736 | train_auroc: 0.8648  |  valid_loss: 0.4963 | valid_bal_acc: 0.7614 | valid_mcc: 0.5257  |  valid_auroc: 0.8403\n",
      "Epoch: 86 | train_loss: 0.4762 | train_bal_acc: 0.7916 | train_mcc: 0.5833 | train_auroc: 0.8646  |  valid_loss: 0.4963 | valid_bal_acc: 0.7729 | valid_mcc: 0.5469  |  valid_auroc: 0.8407\n",
      "Epoch: 87 | train_loss: 0.4778 | train_bal_acc: 0.7856 | train_mcc: 0.5712 | train_auroc: 0.8633  |  valid_loss: 0.4886 | valid_bal_acc: 0.7761 | valid_mcc: 0.5505  |  valid_auroc: 0.8571\n",
      "Epoch: 88 | train_loss: 0.4752 | train_bal_acc: 0.7822 | train_mcc: 0.5656 | train_auroc: 0.8650  |  valid_loss: 0.4646 | valid_bal_acc: 0.7995 | valid_mcc: 0.5955  |  valid_auroc: 0.8723\n"
     ]
    },
    {
     "name": "stdout",
     "output_type": "stream",
     "text": [
      "Epoch: 89 | train_loss: 0.4766 | train_bal_acc: 0.7879 | train_mcc: 0.5754 | train_auroc: 0.8632  |  valid_loss: 0.4607 | valid_bal_acc: 0.7994 | valid_mcc: 0.5976  |  valid_auroc: 0.8767\n",
      "Epoch: 90 | train_loss: 0.4716 | train_bal_acc: 0.7951 | train_mcc: 0.5894 | train_auroc: 0.8680  |  valid_loss: 0.4666 | valid_bal_acc: 0.7974 | valid_mcc: 0.5984  |  valid_auroc: 0.8659\n",
      "Epoch: 91 | train_loss: 0.4714 | train_bal_acc: 0.7908 | train_mcc: 0.5810 | train_auroc: 0.8642  |  valid_loss: 0.4607 | valid_bal_acc: 0.7951 | valid_mcc: 0.5947  |  valid_auroc: 0.8756\n",
      "Epoch: 92 | train_loss: 0.4681 | train_bal_acc: 0.7919 | train_mcc: 0.5837 | train_auroc: 0.8674  |  valid_loss: 0.4816 | valid_bal_acc: 0.7741 | valid_mcc: 0.5513  |  valid_auroc: 0.8583\n",
      "Epoch: 93 | train_loss: 0.4684 | train_bal_acc: 0.7947 | train_mcc: 0.5884 | train_auroc: 0.8664  |  valid_loss: 0.4659 | valid_bal_acc: 0.7722 | valid_mcc: 0.5468  |  valid_auroc: 0.8694\n",
      "Epoch: 94 | train_loss: 0.4624 | train_bal_acc: 0.7958 | train_mcc: 0.5916 | train_auroc: 0.8700  |  valid_loss: 0.4576 | valid_bal_acc: 0.7956 | valid_mcc: 0.5897  |  valid_auroc: 0.8782\n",
      "Epoch: 95 | train_loss: 0.4638 | train_bal_acc: 0.7873 | train_mcc: 0.5752 | train_auroc: 0.8690  |  valid_loss: 0.4593 | valid_bal_acc: 0.7935 | valid_mcc: 0.5874  |  valid_auroc: 0.8755\n",
      "Epoch: 96 | train_loss: 0.4618 | train_bal_acc: 0.7897 | train_mcc: 0.5801 | train_auroc: 0.8700  |  valid_loss: 0.4612 | valid_bal_acc: 0.7869 | valid_mcc: 0.5733  |  valid_auroc: 0.8733\n",
      "Epoch: 97 | train_loss: 0.4615 | train_bal_acc: 0.7952 | train_mcc: 0.5912 | train_auroc: 0.8690  |  valid_loss: 0.4989 | valid_bal_acc: 0.7693 | valid_mcc: 0.5371  |  valid_auroc: 0.8399\n",
      "Epoch: 98 | train_loss: 0.4625 | train_bal_acc: 0.7949 | train_mcc: 0.5895 | train_auroc: 0.8690  |  valid_loss: 0.4649 | valid_bal_acc: 0.7853 | valid_mcc: 0.5731  |  valid_auroc: 0.8655\n",
      "Epoch: 99 | train_loss: 0.4605 | train_bal_acc: 0.7955 | train_mcc: 0.5905 | train_auroc: 0.8688  |  valid_loss: 0.4527 | valid_bal_acc: 0.7877 | valid_mcc: 0.5776  |  valid_auroc: 0.8769\n",
      "Epoch: 100 | train_loss: 0.4553 | train_bal_acc: 0.7966 | train_mcc: 0.5936 | train_auroc: 0.8727  |  valid_loss: 0.4533 | valid_bal_acc: 0.7951 | valid_mcc: 0.5913  |  valid_auroc: 0.8749\n",
      "Epoch: 101 | train_loss: 0.4562 | train_bal_acc: 0.7926 | train_mcc: 0.5862 | train_auroc: 0.8718  |  valid_loss: 0.4566 | valid_bal_acc: 0.8065 | valid_mcc: 0.6130  |  valid_auroc: 0.8713\n",
      "Epoch: 102 | train_loss: 0.4533 | train_bal_acc: 0.7991 | train_mcc: 0.5982 | train_auroc: 0.8738  |  valid_loss: 0.4523 | valid_bal_acc: 0.7969 | valid_mcc: 0.5872  |  valid_auroc: 0.8783\n",
      "Epoch: 103 | train_loss: 0.4566 | train_bal_acc: 0.7993 | train_mcc: 0.5980 | train_auroc: 0.8718  |  valid_loss: 0.4531 | valid_bal_acc: 0.7966 | valid_mcc: 0.5961  |  valid_auroc: 0.8762\n",
      "Epoch: 104 | train_loss: 0.4515 | train_bal_acc: 0.7966 | train_mcc: 0.5941 | train_auroc: 0.8760  |  valid_loss: 0.4535 | valid_bal_acc: 0.8019 | valid_mcc: 0.6014  |  valid_auroc: 0.8762\n",
      "Epoch: 105 | train_loss: 0.4547 | train_bal_acc: 0.7964 | train_mcc: 0.5928 | train_auroc: 0.8726  |  valid_loss: 0.4535 | valid_bal_acc: 0.8030 | valid_mcc: 0.6085  |  valid_auroc: 0.8735\n",
      "Epoch: 106 | train_loss: 0.4477 | train_bal_acc: 0.8019 | train_mcc: 0.6046 | train_auroc: 0.8747  |  valid_loss: 0.4352 | valid_bal_acc: 0.8105 | valid_mcc: 0.6107  |  valid_auroc: 0.8878\n",
      "Epoch: 107 | train_loss: 0.4452 | train_bal_acc: 0.8004 | train_mcc: 0.6001 | train_auroc: 0.8795  |  valid_loss: 0.4587 | valid_bal_acc: 0.7719 | valid_mcc: 0.5443  |  valid_auroc: 0.8655\n",
      "Epoch: 108 | train_loss: 0.4493 | train_bal_acc: 0.7997 | train_mcc: 0.5988 | train_auroc: 0.8746  |  valid_loss: 0.4286 | valid_bal_acc: 0.8173 | valid_mcc: 0.6352  |  valid_auroc: 0.8876\n",
      "Epoch: 109 | train_loss: 0.4461 | train_bal_acc: 0.7995 | train_mcc: 0.5989 | train_auroc: 0.8773  |  valid_loss: 0.4573 | valid_bal_acc: 0.8052 | valid_mcc: 0.6075  |  valid_auroc: 0.8751\n",
      "Epoch: 110 | train_loss: 0.4451 | train_bal_acc: 0.8018 | train_mcc: 0.6042 | train_auroc: 0.8756  |  valid_loss: 0.4290 | valid_bal_acc: 0.8128 | valid_mcc: 0.6263  |  valid_auroc: 0.8934\n",
      "Epoch: 111 | train_loss: 0.4453 | train_bal_acc: 0.8010 | train_mcc: 0.6011 | train_auroc: 0.8770  |  valid_loss: 0.4465 | valid_bal_acc: 0.7964 | valid_mcc: 0.5951  |  valid_auroc: 0.8818\n",
      "Epoch: 112 | train_loss: 0.4432 | train_bal_acc: 0.8012 | train_mcc: 0.6010 | train_auroc: 0.8797  |  valid_loss: 0.4728 | valid_bal_acc: 0.7827 | valid_mcc: 0.5635  |  valid_auroc: 0.8590\n",
      "Epoch: 113 | train_loss: 0.4417 | train_bal_acc: 0.8016 | train_mcc: 0.6036 | train_auroc: 0.8788  |  valid_loss: 0.4413 | valid_bal_acc: 0.8028 | valid_mcc: 0.6077  |  valid_auroc: 0.8839\n",
      "Epoch: 114 | train_loss: 0.4447 | train_bal_acc: 0.8013 | train_mcc: 0.6015 | train_auroc: 0.8772  |  valid_loss: 0.4244 | valid_bal_acc: 0.8112 | valid_mcc: 0.6202  |  valid_auroc: 0.8929\n",
      "Epoch: 115 | train_loss: 0.4407 | train_bal_acc: 0.7998 | train_mcc: 0.5997 | train_auroc: 0.8791  |  valid_loss: 0.4281 | valid_bal_acc: 0.8126 | valid_mcc: 0.6246  |  valid_auroc: 0.8876\n",
      "Epoch: 116 | train_loss: 0.4429 | train_bal_acc: 0.8021 | train_mcc: 0.6049 | train_auroc: 0.8766  |  valid_loss: 0.4748 | valid_bal_acc: 0.7639 | valid_mcc: 0.5278  |  valid_auroc: 0.8474\n",
      "Epoch: 117 | train_loss: 0.4352 | train_bal_acc: 0.8083 | train_mcc: 0.6165 | train_auroc: 0.8833  |  valid_loss: 0.4386 | valid_bal_acc: 0.7957 | valid_mcc: 0.5936  |  valid_auroc: 0.8831\n",
      "Epoch: 118 | train_loss: 0.4421 | train_bal_acc: 0.8054 | train_mcc: 0.6104 | train_auroc: 0.8771  |  valid_loss: 0.4349 | valid_bal_acc: 0.8061 | valid_mcc: 0.6124  |  valid_auroc: 0.8826\n",
      "Epoch: 119 | train_loss: 0.4367 | train_bal_acc: 0.8073 | train_mcc: 0.6145 | train_auroc: 0.8823  |  valid_loss: 0.4703 | valid_bal_acc: 0.7743 | valid_mcc: 0.5488  |  valid_auroc: 0.8699\n",
      "Epoch: 120 | train_loss: 0.4363 | train_bal_acc: 0.8054 | train_mcc: 0.6098 | train_auroc: 0.8827  |  valid_loss: 0.4142 | valid_bal_acc: 0.8249 | valid_mcc: 0.6515  |  valid_auroc: 0.8951\n",
      "Epoch: 121 | train_loss: 0.4322 | train_bal_acc: 0.8051 | train_mcc: 0.6096 | train_auroc: 0.8834  |  valid_loss: 0.4293 | valid_bal_acc: 0.8143 | valid_mcc: 0.6217  |  valid_auroc: 0.8886\n",
      "Epoch: 122 | train_loss: 0.4320 | train_bal_acc: 0.8081 | train_mcc: 0.6173 | train_auroc: 0.8834  |  valid_loss: 0.4163 | valid_bal_acc: 0.8171 | valid_mcc: 0.6320  |  valid_auroc: 0.8975\n",
      "Epoch: 123 | train_loss: 0.4312 | train_bal_acc: 0.8096 | train_mcc: 0.6201 | train_auroc: 0.8834  |  valid_loss: 0.4161 | valid_bal_acc: 0.8155 | valid_mcc: 0.6345  |  valid_auroc: 0.8972\n",
      "Epoch: 124 | train_loss: 0.4304 | train_bal_acc: 0.8142 | train_mcc: 0.6280 | train_auroc: 0.8844  |  valid_loss: 0.4457 | valid_bal_acc: 0.7927 | valid_mcc: 0.5861  |  valid_auroc: 0.8825\n",
      "Epoch: 125 | train_loss: 0.4280 | train_bal_acc: 0.8136 | train_mcc: 0.6276 | train_auroc: 0.8850  |  valid_loss: 0.4378 | valid_bal_acc: 0.8020 | valid_mcc: 0.6036  |  valid_auroc: 0.8899\n",
      "Epoch: 126 | train_loss: 0.4313 | train_bal_acc: 0.8056 | train_mcc: 0.6120 | train_auroc: 0.8837  |  valid_loss: 0.4267 | valid_bal_acc: 0.8111 | valid_mcc: 0.6201  |  valid_auroc: 0.8844\n",
      "Epoch: 127 | train_loss: 0.4270 | train_bal_acc: 0.8107 | train_mcc: 0.6223 | train_auroc: 0.8867  |  valid_loss: 0.4435 | valid_bal_acc: 0.7931 | valid_mcc: 0.5886  |  valid_auroc: 0.8826\n",
      "Epoch: 128 | train_loss: 0.4256 | train_bal_acc: 0.8095 | train_mcc: 0.6205 | train_auroc: 0.8879  |  valid_loss: 0.4313 | valid_bal_acc: 0.7912 | valid_mcc: 0.5892  |  valid_auroc: 0.8845\n",
      "Epoch: 129 | train_loss: 0.4277 | train_bal_acc: 0.8139 | train_mcc: 0.6274 | train_auroc: 0.8852  |  valid_loss: 0.4343 | valid_bal_acc: 0.8089 | valid_mcc: 0.6110  |  valid_auroc: 0.8820\n",
      "Epoch: 130 | train_loss: 0.4298 | train_bal_acc: 0.8106 | train_mcc: 0.6224 | train_auroc: 0.8834  |  valid_loss: 0.4227 | valid_bal_acc: 0.8048 | valid_mcc: 0.6094  |  valid_auroc: 0.8863\n",
      "Epoch: 131 | train_loss: 0.4245 | train_bal_acc: 0.8151 | train_mcc: 0.6303 | train_auroc: 0.8865  |  valid_loss: 0.4113 | valid_bal_acc: 0.8222 | valid_mcc: 0.6413  |  valid_auroc: 0.8988\n",
      "Epoch: 132 | train_loss: 0.4235 | train_bal_acc: 0.8181 | train_mcc: 0.6368 | train_auroc: 0.8886  |  valid_loss: 0.4191 | valid_bal_acc: 0.8073 | valid_mcc: 0.6165  |  valid_auroc: 0.8897\n"
     ]
    },
    {
     "name": "stdout",
     "output_type": "stream",
     "text": [
      "Epoch: 133 | train_loss: 0.4251 | train_bal_acc: 0.8088 | train_mcc: 0.6175 | train_auroc: 0.8877  |  valid_loss: 0.4186 | valid_bal_acc: 0.8001 | valid_mcc: 0.6013  |  valid_auroc: 0.8924\n",
      "Epoch: 134 | train_loss: 0.4195 | train_bal_acc: 0.8176 | train_mcc: 0.6351 | train_auroc: 0.8899  |  valid_loss: 0.4318 | valid_bal_acc: 0.7971 | valid_mcc: 0.5905  |  valid_auroc: 0.8805\n",
      "Epoch: 135 | train_loss: 0.4230 | train_bal_acc: 0.8082 | train_mcc: 0.6174 | train_auroc: 0.8873  |  valid_loss: 0.3952 | valid_bal_acc: 0.8294 | valid_mcc: 0.6608  |  valid_auroc: 0.9027\n",
      "Epoch: 136 | train_loss: 0.4221 | train_bal_acc: 0.8115 | train_mcc: 0.6230 | train_auroc: 0.8888  |  valid_loss: 0.4007 | valid_bal_acc: 0.8177 | valid_mcc: 0.6485  |  valid_auroc: 0.9053\n",
      "Epoch: 137 | train_loss: 0.4205 | train_bal_acc: 0.8150 | train_mcc: 0.6313 | train_auroc: 0.8904  |  valid_loss: 0.4302 | valid_bal_acc: 0.8052 | valid_mcc: 0.6144  |  valid_auroc: 0.8902\n",
      "Epoch: 138 | train_loss: 0.4200 | train_bal_acc: 0.8126 | train_mcc: 0.6250 | train_auroc: 0.8898  |  valid_loss: 0.4026 | valid_bal_acc: 0.8217 | valid_mcc: 0.6509  |  valid_auroc: 0.9038\n",
      "Epoch: 139 | train_loss: 0.4199 | train_bal_acc: 0.8141 | train_mcc: 0.6285 | train_auroc: 0.8910  |  valid_loss: 0.4115 | valid_bal_acc: 0.8160 | valid_mcc: 0.6330  |  valid_auroc: 0.8970\n",
      "Epoch: 140 | train_loss: 0.4170 | train_bal_acc: 0.8132 | train_mcc: 0.6264 | train_auroc: 0.8927  |  valid_loss: 0.4434 | valid_bal_acc: 0.8015 | valid_mcc: 0.6012  |  valid_auroc: 0.8928\n",
      "Epoch: 141 | train_loss: 0.4184 | train_bal_acc: 0.8160 | train_mcc: 0.6313 | train_auroc: 0.8903  |  valid_loss: 0.4062 | valid_bal_acc: 0.8279 | valid_mcc: 0.6482  |  valid_auroc: 0.9077\n",
      "Epoch: 142 | train_loss: 0.4134 | train_bal_acc: 0.8205 | train_mcc: 0.6421 | train_auroc: 0.8931  |  valid_loss: 0.4046 | valid_bal_acc: 0.8278 | valid_mcc: 0.6563  |  valid_auroc: 0.8991\n",
      "Epoch: 143 | train_loss: 0.4163 | train_bal_acc: 0.8137 | train_mcc: 0.6279 | train_auroc: 0.8907  |  valid_loss: 0.3906 | valid_bal_acc: 0.8395 | valid_mcc: 0.6779  |  valid_auroc: 0.9075\n",
      "Epoch: 144 | train_loss: 0.4166 | train_bal_acc: 0.8166 | train_mcc: 0.6337 | train_auroc: 0.8906  |  valid_loss: 0.4247 | valid_bal_acc: 0.8105 | valid_mcc: 0.6229  |  valid_auroc: 0.8854\n",
      "Epoch: 145 | train_loss: 0.4166 | train_bal_acc: 0.8136 | train_mcc: 0.6273 | train_auroc: 0.8933  |  valid_loss: 0.4052 | valid_bal_acc: 0.8212 | valid_mcc: 0.6437  |  valid_auroc: 0.9037\n",
      "Epoch: 146 | train_loss: 0.4132 | train_bal_acc: 0.8155 | train_mcc: 0.6311 | train_auroc: 0.8940  |  valid_loss: 0.3851 | valid_bal_acc: 0.8366 | valid_mcc: 0.6740  |  valid_auroc: 0.9058\n",
      "Epoch: 147 | train_loss: 0.4126 | train_bal_acc: 0.8139 | train_mcc: 0.6275 | train_auroc: 0.8941  |  valid_loss: 0.3942 | valid_bal_acc: 0.8400 | valid_mcc: 0.6809  |  valid_auroc: 0.9079\n",
      "Epoch: 148 | train_loss: 0.4118 | train_bal_acc: 0.8164 | train_mcc: 0.6329 | train_auroc: 0.8935  |  valid_loss: 0.3925 | valid_bal_acc: 0.8205 | valid_mcc: 0.6421  |  valid_auroc: 0.9043\n",
      "Epoch: 149 | train_loss: 0.4102 | train_bal_acc: 0.8195 | train_mcc: 0.6388 | train_auroc: 0.8947  |  valid_loss: 0.4199 | valid_bal_acc: 0.8181 | valid_mcc: 0.6336  |  valid_auroc: 0.9050\n",
      "Epoch: 150 | train_loss: 0.4118 | train_bal_acc: 0.8160 | train_mcc: 0.6323 | train_auroc: 0.8939  |  valid_loss: 0.4265 | valid_bal_acc: 0.8172 | valid_mcc: 0.6376  |  valid_auroc: 0.8850\n",
      "Epoch: 151 | train_loss: 0.4131 | train_bal_acc: 0.8199 | train_mcc: 0.6403 | train_auroc: 0.8937  |  valid_loss: 0.3836 | valid_bal_acc: 0.8455 | valid_mcc: 0.6946  |  valid_auroc: 0.9093\n",
      "Epoch: 152 | train_loss: 0.4086 | train_bal_acc: 0.8207 | train_mcc: 0.6416 | train_auroc: 0.8960  |  valid_loss: 0.3856 | valid_bal_acc: 0.8424 | valid_mcc: 0.6869  |  valid_auroc: 0.9080\n",
      "Epoch: 153 | train_loss: 0.4089 | train_bal_acc: 0.8201 | train_mcc: 0.6402 | train_auroc: 0.8944  |  valid_loss: 0.4039 | valid_bal_acc: 0.8404 | valid_mcc: 0.6772  |  valid_auroc: 0.8980\n",
      "Epoch: 154 | train_loss: 0.4103 | train_bal_acc: 0.8162 | train_mcc: 0.6328 | train_auroc: 0.8939  |  valid_loss: 0.4028 | valid_bal_acc: 0.8203 | valid_mcc: 0.6426  |  valid_auroc: 0.8990\n",
      "Epoch: 155 | train_loss: 0.4083 | train_bal_acc: 0.8214 | train_mcc: 0.6446 | train_auroc: 0.8959  |  valid_loss: 0.4236 | valid_bal_acc: 0.8170 | valid_mcc: 0.6319  |  valid_auroc: 0.8882\n",
      "Epoch: 156 | train_loss: 0.4121 | train_bal_acc: 0.8155 | train_mcc: 0.6317 | train_auroc: 0.8928  |  valid_loss: 0.3884 | valid_bal_acc: 0.8430 | valid_mcc: 0.6849  |  valid_auroc: 0.9127\n",
      "Epoch: 157 | train_loss: 0.4042 | train_bal_acc: 0.8186 | train_mcc: 0.6369 | train_auroc: 0.8981  |  valid_loss: 0.3883 | valid_bal_acc: 0.8389 | valid_mcc: 0.6827  |  valid_auroc: 0.9102\n",
      "Epoch: 158 | train_loss: 0.4020 | train_bal_acc: 0.8236 | train_mcc: 0.6470 | train_auroc: 0.8997  |  valid_loss: 0.4090 | valid_bal_acc: 0.8326 | valid_mcc: 0.6686  |  valid_auroc: 0.8935\n",
      "Epoch: 159 | train_loss: 0.4033 | train_bal_acc: 0.8258 | train_mcc: 0.6520 | train_auroc: 0.8996  |  valid_loss: 0.3954 | valid_bal_acc: 0.8313 | valid_mcc: 0.6648  |  valid_auroc: 0.9059\n",
      "Epoch: 160 | train_loss: 0.4021 | train_bal_acc: 0.8284 | train_mcc: 0.6567 | train_auroc: 0.8987  |  valid_loss: 0.3880 | valid_bal_acc: 0.8487 | valid_mcc: 0.6995  |  valid_auroc: 0.9126\n",
      "Epoch: 161 | train_loss: 0.4035 | train_bal_acc: 0.8192 | train_mcc: 0.6373 | train_auroc: 0.8986  |  valid_loss: 0.3970 | valid_bal_acc: 0.8455 | valid_mcc: 0.6866  |  valid_auroc: 0.9071\n",
      "Epoch: 162 | train_loss: 0.4010 | train_bal_acc: 0.8303 | train_mcc: 0.6616 | train_auroc: 0.9003  |  valid_loss: 0.3795 | valid_bal_acc: 0.8515 | valid_mcc: 0.7038  |  valid_auroc: 0.9138\n",
      "Epoch: 163 | train_loss: 0.4050 | train_bal_acc: 0.8240 | train_mcc: 0.6473 | train_auroc: 0.8973  |  valid_loss: 0.3810 | valid_bal_acc: 0.8514 | valid_mcc: 0.7040  |  valid_auroc: 0.9153\n",
      "Epoch: 164 | train_loss: 0.4001 | train_bal_acc: 0.8268 | train_mcc: 0.6553 | train_auroc: 0.9012  |  valid_loss: 0.3957 | valid_bal_acc: 0.8390 | valid_mcc: 0.6802  |  valid_auroc: 0.9038\n",
      "Epoch: 165 | train_loss: 0.4005 | train_bal_acc: 0.8270 | train_mcc: 0.6546 | train_auroc: 0.9003  |  valid_loss: 0.3831 | valid_bal_acc: 0.8514 | valid_mcc: 0.7029  |  valid_auroc: 0.9147\n",
      "Epoch: 166 | train_loss: 0.3992 | train_bal_acc: 0.8260 | train_mcc: 0.6526 | train_auroc: 0.9008  |  valid_loss: 0.3902 | valid_bal_acc: 0.8349 | valid_mcc: 0.6710  |  valid_auroc: 0.9102\n",
      "Epoch: 167 | train_loss: 0.3999 | train_bal_acc: 0.8271 | train_mcc: 0.6528 | train_auroc: 0.8996  |  valid_loss: 0.3920 | valid_bal_acc: 0.8445 | valid_mcc: 0.6953  |  valid_auroc: 0.9101\n",
      "Epoch: 168 | train_loss: 0.3993 | train_bal_acc: 0.8292 | train_mcc: 0.6589 | train_auroc: 0.8997  |  valid_loss: 0.3965 | valid_bal_acc: 0.8318 | valid_mcc: 0.6722  |  valid_auroc: 0.9076\n",
      "Epoch: 169 | train_loss: 0.3977 | train_bal_acc: 0.8249 | train_mcc: 0.6512 | train_auroc: 0.9015  |  valid_loss: 0.3939 | valid_bal_acc: 0.8379 | valid_mcc: 0.6791  |  valid_auroc: 0.9043\n",
      "Epoch: 170 | train_loss: 0.3978 | train_bal_acc: 0.8229 | train_mcc: 0.6462 | train_auroc: 0.9020  |  valid_loss: 0.3960 | valid_bal_acc: 0.8298 | valid_mcc: 0.6585  |  valid_auroc: 0.9086\n",
      "Epoch: 171 | train_loss: 0.3964 | train_bal_acc: 0.8265 | train_mcc: 0.6542 | train_auroc: 0.9022  |  valid_loss: 0.3873 | valid_bal_acc: 0.8412 | valid_mcc: 0.6863  |  valid_auroc: 0.9104\n",
      "Epoch: 172 | train_loss: 0.3938 | train_bal_acc: 0.8258 | train_mcc: 0.6518 | train_auroc: 0.9031  |  valid_loss: 0.3778 | valid_bal_acc: 0.8407 | valid_mcc: 0.6912  |  valid_auroc: 0.9082\n",
      "Epoch: 173 | train_loss: 0.3934 | train_bal_acc: 0.8326 | train_mcc: 0.6645 | train_auroc: 0.9049  |  valid_loss: 0.3837 | valid_bal_acc: 0.8476 | valid_mcc: 0.6973  |  valid_auroc: 0.9073\n",
      "Epoch: 174 | train_loss: 0.3937 | train_bal_acc: 0.8276 | train_mcc: 0.6552 | train_auroc: 0.9048  |  valid_loss: 0.3804 | valid_bal_acc: 0.8389 | valid_mcc: 0.6851  |  valid_auroc: 0.9176\n",
      "Epoch: 175 | train_loss: 0.3945 | train_bal_acc: 0.8272 | train_mcc: 0.6546 | train_auroc: 0.9025  |  valid_loss: 0.3685 | valid_bal_acc: 0.8483 | valid_mcc: 0.7011  |  valid_auroc: 0.9178\n",
      "Epoch: 176 | train_loss: 0.3933 | train_bal_acc: 0.8326 | train_mcc: 0.6651 | train_auroc: 0.9036  |  valid_loss: 0.3666 | valid_bal_acc: 0.8561 | valid_mcc: 0.7132  |  valid_auroc: 0.9175\n"
     ]
    },
    {
     "name": "stdout",
     "output_type": "stream",
     "text": [
      "Epoch: 177 | train_loss: 0.3918 | train_bal_acc: 0.8275 | train_mcc: 0.6547 | train_auroc: 0.9033  |  valid_loss: 0.3869 | valid_bal_acc: 0.8491 | valid_mcc: 0.7003  |  valid_auroc: 0.9112\n",
      "Epoch: 178 | train_loss: 0.3909 | train_bal_acc: 0.8288 | train_mcc: 0.6568 | train_auroc: 0.9062  |  valid_loss: 0.4031 | valid_bal_acc: 0.8276 | valid_mcc: 0.6570  |  valid_auroc: 0.8987\n",
      "Epoch: 179 | train_loss: 0.3923 | train_bal_acc: 0.8307 | train_mcc: 0.6624 | train_auroc: 0.9047  |  valid_loss: 0.3762 | valid_bal_acc: 0.8250 | valid_mcc: 0.6690  |  valid_auroc: 0.9151\n",
      "Epoch: 180 | train_loss: 0.3895 | train_bal_acc: 0.8331 | train_mcc: 0.6660 | train_auroc: 0.9054  |  valid_loss: 0.3735 | valid_bal_acc: 0.8512 | valid_mcc: 0.7037  |  valid_auroc: 0.9118\n",
      "Epoch: 181 | train_loss: 0.3883 | train_bal_acc: 0.8318 | train_mcc: 0.6641 | train_auroc: 0.9067  |  valid_loss: 0.3816 | valid_bal_acc: 0.8360 | valid_mcc: 0.6742  |  valid_auroc: 0.9169\n",
      "Epoch: 182 | train_loss: 0.3893 | train_bal_acc: 0.8342 | train_mcc: 0.6680 | train_auroc: 0.9066  |  valid_loss: 0.4044 | valid_bal_acc: 0.8267 | valid_mcc: 0.6574  |  valid_auroc: 0.8895\n",
      "Epoch: 183 | train_loss: 0.3874 | train_bal_acc: 0.8329 | train_mcc: 0.6664 | train_auroc: 0.9069  |  valid_loss: 0.3735 | valid_bal_acc: 0.8463 | valid_mcc: 0.6868  |  valid_auroc: 0.9206\n",
      "Epoch: 184 | train_loss: 0.3923 | train_bal_acc: 0.8297 | train_mcc: 0.6598 | train_auroc: 0.9063  |  valid_loss: 0.3823 | valid_bal_acc: 0.8316 | valid_mcc: 0.6761  |  valid_auroc: 0.9222\n",
      "Epoch: 185 | train_loss: 0.3855 | train_bal_acc: 0.8332 | train_mcc: 0.6658 | train_auroc: 0.9083  |  valid_loss: 0.3872 | valid_bal_acc: 0.8281 | valid_mcc: 0.6585  |  valid_auroc: 0.9095\n",
      "Epoch: 186 | train_loss: 0.3895 | train_bal_acc: 0.8323 | train_mcc: 0.6628 | train_auroc: 0.9060  |  valid_loss: 0.3622 | valid_bal_acc: 0.8615 | valid_mcc: 0.7237  |  valid_auroc: 0.9208\n",
      "Epoch: 187 | train_loss: 0.3886 | train_bal_acc: 0.8342 | train_mcc: 0.6679 | train_auroc: 0.9066  |  valid_loss: 0.3899 | valid_bal_acc: 0.8428 | valid_mcc: 0.6871  |  valid_auroc: 0.9069\n",
      "Epoch: 188 | train_loss: 0.3859 | train_bal_acc: 0.8367 | train_mcc: 0.6737 | train_auroc: 0.9081  |  valid_loss: 0.3890 | valid_bal_acc: 0.8326 | valid_mcc: 0.6694  |  valid_auroc: 0.9024\n",
      "Epoch: 189 | train_loss: 0.3838 | train_bal_acc: 0.8388 | train_mcc: 0.6774 | train_auroc: 0.9093  |  valid_loss: 0.3702 | valid_bal_acc: 0.8529 | valid_mcc: 0.7053  |  valid_auroc: 0.9220\n",
      "Epoch: 190 | train_loss: 0.3877 | train_bal_acc: 0.8293 | train_mcc: 0.6589 | train_auroc: 0.9071  |  valid_loss: 0.3659 | valid_bal_acc: 0.8538 | valid_mcc: 0.7096  |  valid_auroc: 0.9200\n",
      "Epoch: 191 | train_loss: 0.3813 | train_bal_acc: 0.8348 | train_mcc: 0.6707 | train_auroc: 0.9110  |  valid_loss: 0.3742 | valid_bal_acc: 0.8386 | valid_mcc: 0.6898  |  valid_auroc: 0.9128\n",
      "Epoch: 192 | train_loss: 0.3836 | train_bal_acc: 0.8354 | train_mcc: 0.6719 | train_auroc: 0.9089  |  valid_loss: 0.3855 | valid_bal_acc: 0.8503 | valid_mcc: 0.6995  |  valid_auroc: 0.9099\n",
      "Epoch: 193 | train_loss: 0.3835 | train_bal_acc: 0.8335 | train_mcc: 0.6658 | train_auroc: 0.9094  |  valid_loss: 0.3786 | valid_bal_acc: 0.8338 | valid_mcc: 0.6800  |  valid_auroc: 0.9235\n",
      "Epoch: 194 | train_loss: 0.3872 | train_bal_acc: 0.8336 | train_mcc: 0.6679 | train_auroc: 0.9074  |  valid_loss: 0.3653 | valid_bal_acc: 0.8517 | valid_mcc: 0.7068  |  valid_auroc: 0.9158\n",
      "Epoch: 195 | train_loss: 0.3808 | train_bal_acc: 0.8369 | train_mcc: 0.6736 | train_auroc: 0.9112  |  valid_loss: 0.3654 | valid_bal_acc: 0.8547 | valid_mcc: 0.7116  |  valid_auroc: 0.9206\n",
      "Epoch: 196 | train_loss: 0.3777 | train_bal_acc: 0.8371 | train_mcc: 0.6743 | train_auroc: 0.9132  |  valid_loss: 0.3910 | valid_bal_acc: 0.8225 | valid_mcc: 0.6452  |  valid_auroc: 0.8968\n",
      "Epoch: 197 | train_loss: 0.3779 | train_bal_acc: 0.8386 | train_mcc: 0.6763 | train_auroc: 0.9127  |  valid_loss: 0.3984 | valid_bal_acc: 0.8370 | valid_mcc: 0.6722  |  valid_auroc: 0.8854\n",
      "Epoch: 198 | train_loss: 0.3777 | train_bal_acc: 0.8340 | train_mcc: 0.6673 | train_auroc: 0.9116  |  valid_loss: 0.3602 | valid_bal_acc: 0.8574 | valid_mcc: 0.7134  |  valid_auroc: 0.9238\n",
      "Epoch: 199 | train_loss: 0.3783 | train_bal_acc: 0.8375 | train_mcc: 0.6766 | train_auroc: 0.9111  |  valid_loss: 0.3693 | valid_bal_acc: 0.8465 | valid_mcc: 0.6942  |  valid_auroc: 0.9190\n",
      "Epoch: 200 | train_loss: 0.3773 | train_bal_acc: 0.8410 | train_mcc: 0.6812 | train_auroc: 0.9112  |  valid_loss: 0.3670 | valid_bal_acc: 0.8522 | valid_mcc: 0.7126  |  valid_auroc: 0.9180\n",
      "Epoch: 201 | train_loss: 0.3831 | train_bal_acc: 0.8358 | train_mcc: 0.6723 | train_auroc: 0.9089  |  valid_loss: 0.3625 | valid_bal_acc: 0.8546 | valid_mcc: 0.7135  |  valid_auroc: 0.9160\n",
      "Epoch: 202 | train_loss: 0.3794 | train_bal_acc: 0.8369 | train_mcc: 0.6737 | train_auroc: 0.9123  |  valid_loss: 0.3887 | valid_bal_acc: 0.8406 | valid_mcc: 0.6801  |  valid_auroc: 0.9010\n",
      "Epoch: 203 | train_loss: 0.3757 | train_bal_acc: 0.8380 | train_mcc: 0.6768 | train_auroc: 0.9132  |  valid_loss: 0.3541 | valid_bal_acc: 0.8666 | valid_mcc: 0.7324  |  valid_auroc: 0.9274\n",
      "Epoch: 204 | train_loss: 0.3806 | train_bal_acc: 0.8355 | train_mcc: 0.6696 | train_auroc: 0.9102  |  valid_loss: 0.3845 | valid_bal_acc: 0.8394 | valid_mcc: 0.6802  |  valid_auroc: 0.8980\n",
      "Epoch: 205 | train_loss: 0.3738 | train_bal_acc: 0.8426 | train_mcc: 0.6856 | train_auroc: 0.9143  |  valid_loss: 0.3690 | valid_bal_acc: 0.8590 | valid_mcc: 0.7165  |  valid_auroc: 0.9176\n",
      "Epoch: 206 | train_loss: 0.3735 | train_bal_acc: 0.8431 | train_mcc: 0.6870 | train_auroc: 0.9132  |  valid_loss: 0.3638 | valid_bal_acc: 0.8535 | valid_mcc: 0.7022  |  valid_auroc: 0.9284\n",
      "Epoch: 207 | train_loss: 0.3728 | train_bal_acc: 0.8431 | train_mcc: 0.6861 | train_auroc: 0.9152  |  valid_loss: 0.3840 | valid_bal_acc: 0.8404 | valid_mcc: 0.6823  |  valid_auroc: 0.9203\n",
      "Epoch: 208 | train_loss: 0.3750 | train_bal_acc: 0.8400 | train_mcc: 0.6790 | train_auroc: 0.9124  |  valid_loss: 0.3643 | valid_bal_acc: 0.8540 | valid_mcc: 0.7064  |  valid_auroc: 0.9283\n",
      "Epoch: 209 | train_loss: 0.3757 | train_bal_acc: 0.8402 | train_mcc: 0.6799 | train_auroc: 0.9120  |  valid_loss: 0.3669 | valid_bal_acc: 0.8503 | valid_mcc: 0.7024  |  valid_auroc: 0.9168\n",
      "Epoch: 210 | train_loss: 0.3769 | train_bal_acc: 0.8387 | train_mcc: 0.6787 | train_auroc: 0.9118  |  valid_loss: 0.3820 | valid_bal_acc: 0.8417 | valid_mcc: 0.6831  |  valid_auroc: 0.9121\n",
      "Epoch: 211 | train_loss: 0.3717 | train_bal_acc: 0.8424 | train_mcc: 0.6852 | train_auroc: 0.9138  |  valid_loss: 0.3500 | valid_bal_acc: 0.8633 | valid_mcc: 0.7206  |  valid_auroc: 0.9287\n",
      "Epoch: 212 | train_loss: 0.3734 | train_bal_acc: 0.8436 | train_mcc: 0.6883 | train_auroc: 0.9147  |  valid_loss: 0.3435 | valid_bal_acc: 0.8671 | valid_mcc: 0.7364  |  valid_auroc: 0.9283\n",
      "Epoch: 213 | train_loss: 0.3718 | train_bal_acc: 0.8478 | train_mcc: 0.6955 | train_auroc: 0.9149  |  valid_loss: 0.3696 | valid_bal_acc: 0.8442 | valid_mcc: 0.6959  |  valid_auroc: 0.9228\n",
      "Epoch: 214 | train_loss: 0.3692 | train_bal_acc: 0.8427 | train_mcc: 0.6847 | train_auroc: 0.9164  |  valid_loss: 0.3748 | valid_bal_acc: 0.8423 | valid_mcc: 0.6876  |  valid_auroc: 0.9179\n",
      "Epoch: 215 | train_loss: 0.3752 | train_bal_acc: 0.8416 | train_mcc: 0.6825 | train_auroc: 0.9135  |  valid_loss: 0.3606 | valid_bal_acc: 0.8508 | valid_mcc: 0.7033  |  valid_auroc: 0.9239\n",
      "Epoch: 216 | train_loss: 0.3722 | train_bal_acc: 0.8441 | train_mcc: 0.6870 | train_auroc: 0.9155  |  valid_loss: 0.3644 | valid_bal_acc: 0.8600 | valid_mcc: 0.7049  |  valid_auroc: 0.9327\n",
      "Epoch: 217 | train_loss: 0.3738 | train_bal_acc: 0.8455 | train_mcc: 0.6910 | train_auroc: 0.9134  |  valid_loss: 0.3539 | valid_bal_acc: 0.8621 | valid_mcc: 0.7227  |  valid_auroc: 0.9261\n",
      "Epoch: 218 | train_loss: 0.3716 | train_bal_acc: 0.8406 | train_mcc: 0.6819 | train_auroc: 0.9157  |  valid_loss: 0.3566 | valid_bal_acc: 0.8622 | valid_mcc: 0.7214  |  valid_auroc: 0.9247\n",
      "Epoch: 219 | train_loss: 0.3685 | train_bal_acc: 0.8431 | train_mcc: 0.6872 | train_auroc: 0.9178  |  valid_loss: 0.3379 | valid_bal_acc: 0.8685 | valid_mcc: 0.7400  |  valid_auroc: 0.9301\n",
      "Epoch: 220 | train_loss: 0.3675 | train_bal_acc: 0.8438 | train_mcc: 0.6882 | train_auroc: 0.9177  |  valid_loss: 0.3603 | valid_bal_acc: 0.8437 | valid_mcc: 0.6880  |  valid_auroc: 0.9214\n"
     ]
    },
    {
     "name": "stdout",
     "output_type": "stream",
     "text": [
      "Epoch: 221 | train_loss: 0.3677 | train_bal_acc: 0.8457 | train_mcc: 0.6922 | train_auroc: 0.9173  |  valid_loss: 0.3469 | valid_bal_acc: 0.8585 | valid_mcc: 0.7217  |  valid_auroc: 0.9306\n",
      "Epoch: 222 | train_loss: 0.3697 | train_bal_acc: 0.8412 | train_mcc: 0.6830 | train_auroc: 0.9154  |  valid_loss: 0.3452 | valid_bal_acc: 0.8582 | valid_mcc: 0.7218  |  valid_auroc: 0.9316\n",
      "Epoch: 223 | train_loss: 0.3657 | train_bal_acc: 0.8441 | train_mcc: 0.6877 | train_auroc: 0.9184  |  valid_loss: 0.3454 | valid_bal_acc: 0.8616 | valid_mcc: 0.7232  |  valid_auroc: 0.9286\n",
      "Epoch: 224 | train_loss: 0.3699 | train_bal_acc: 0.8417 | train_mcc: 0.6842 | train_auroc: 0.9158  |  valid_loss: 0.3851 | valid_bal_acc: 0.8366 | valid_mcc: 0.6814  |  valid_auroc: 0.9147\n",
      "Epoch: 225 | train_loss: 0.3671 | train_bal_acc: 0.8421 | train_mcc: 0.6853 | train_auroc: 0.9169  |  valid_loss: 0.3369 | valid_bal_acc: 0.8633 | valid_mcc: 0.7219  |  valid_auroc: 0.9326\n",
      "Epoch: 226 | train_loss: 0.3666 | train_bal_acc: 0.8403 | train_mcc: 0.6817 | train_auroc: 0.9179  |  valid_loss: 0.3373 | valid_bal_acc: 0.8609 | valid_mcc: 0.7250  |  valid_auroc: 0.9340\n",
      "Epoch: 227 | train_loss: 0.3644 | train_bal_acc: 0.8442 | train_mcc: 0.6877 | train_auroc: 0.9193  |  valid_loss: 0.3430 | valid_bal_acc: 0.8547 | valid_mcc: 0.7226  |  valid_auroc: 0.9324\n",
      "Epoch: 228 | train_loss: 0.3643 | train_bal_acc: 0.8494 | train_mcc: 0.6992 | train_auroc: 0.9181  |  valid_loss: 0.3510 | valid_bal_acc: 0.8552 | valid_mcc: 0.7230  |  valid_auroc: 0.9221\n",
      "Epoch: 229 | train_loss: 0.3670 | train_bal_acc: 0.8422 | train_mcc: 0.6852 | train_auroc: 0.9170  |  valid_loss: 0.3449 | valid_bal_acc: 0.8575 | valid_mcc: 0.7229  |  valid_auroc: 0.9294\n",
      "Epoch: 230 | train_loss: 0.3632 | train_bal_acc: 0.8476 | train_mcc: 0.6946 | train_auroc: 0.9191  |  valid_loss: 0.3551 | valid_bal_acc: 0.8454 | valid_mcc: 0.6949  |  valid_auroc: 0.9261\n",
      "Epoch: 231 | train_loss: 0.3636 | train_bal_acc: 0.8477 | train_mcc: 0.6953 | train_auroc: 0.9196  |  valid_loss: 0.3373 | valid_bal_acc: 0.8720 | valid_mcc: 0.7471  |  valid_auroc: 0.9334\n",
      "Epoch: 232 | train_loss: 0.3597 | train_bal_acc: 0.8495 | train_mcc: 0.6995 | train_auroc: 0.9213  |  valid_loss: 0.3560 | valid_bal_acc: 0.8441 | valid_mcc: 0.6920  |  valid_auroc: 0.9230\n",
      "Epoch: 233 | train_loss: 0.3565 | train_bal_acc: 0.8501 | train_mcc: 0.6998 | train_auroc: 0.9230  |  valid_loss: 0.3390 | valid_bal_acc: 0.8669 | valid_mcc: 0.7285  |  valid_auroc: 0.9332\n",
      "Epoch: 234 | train_loss: 0.3632 | train_bal_acc: 0.8478 | train_mcc: 0.6958 | train_auroc: 0.9192  |  valid_loss: 0.3865 | valid_bal_acc: 0.8367 | valid_mcc: 0.6746  |  valid_auroc: 0.9075\n",
      "Epoch: 235 | train_loss: 0.3586 | train_bal_acc: 0.8482 | train_mcc: 0.6962 | train_auroc: 0.9202  |  valid_loss: 0.3581 | valid_bal_acc: 0.8474 | valid_mcc: 0.7121  |  valid_auroc: 0.9133\n",
      "Epoch: 236 | train_loss: 0.3587 | train_bal_acc: 0.8477 | train_mcc: 0.6949 | train_auroc: 0.9216  |  valid_loss: 0.3630 | valid_bal_acc: 0.8504 | valid_mcc: 0.7096  |  valid_auroc: 0.9237\n",
      "Epoch: 237 | train_loss: 0.3607 | train_bal_acc: 0.8475 | train_mcc: 0.6948 | train_auroc: 0.9200  |  valid_loss: 0.3604 | valid_bal_acc: 0.8563 | valid_mcc: 0.7151  |  valid_auroc: 0.9183\n",
      "Epoch: 238 | train_loss: 0.3600 | train_bal_acc: 0.8511 | train_mcc: 0.7031 | train_auroc: 0.9199  |  valid_loss: 0.3814 | valid_bal_acc: 0.8301 | valid_mcc: 0.6632  |  valid_auroc: 0.8955\n",
      "Epoch: 239 | train_loss: 0.3585 | train_bal_acc: 0.8480 | train_mcc: 0.6965 | train_auroc: 0.9215  |  valid_loss: 0.3404 | valid_bal_acc: 0.8665 | valid_mcc: 0.7321  |  valid_auroc: 0.9285\n",
      "Epoch: 240 | train_loss: 0.3600 | train_bal_acc: 0.8478 | train_mcc: 0.6967 | train_auroc: 0.9198  |  valid_loss: 0.3552 | valid_bal_acc: 0.8607 | valid_mcc: 0.7083  |  valid_auroc: 0.9277\n",
      "Epoch: 241 | train_loss: 0.3603 | train_bal_acc: 0.8501 | train_mcc: 0.7015 | train_auroc: 0.9202  |  valid_loss: 0.3335 | valid_bal_acc: 0.8681 | valid_mcc: 0.7384  |  valid_auroc: 0.9338\n",
      "Epoch: 242 | train_loss: 0.3599 | train_bal_acc: 0.8461 | train_mcc: 0.6924 | train_auroc: 0.9209  |  valid_loss: 0.3544 | valid_bal_acc: 0.8575 | valid_mcc: 0.7168  |  valid_auroc: 0.9252\n",
      "Epoch: 243 | train_loss: 0.3544 | train_bal_acc: 0.8473 | train_mcc: 0.6945 | train_auroc: 0.9238  |  valid_loss: 0.3597 | valid_bal_acc: 0.8589 | valid_mcc: 0.7204  |  valid_auroc: 0.9202\n",
      "Epoch: 244 | train_loss: 0.3579 | train_bal_acc: 0.8491 | train_mcc: 0.6991 | train_auroc: 0.9207  |  valid_loss: 0.3283 | valid_bal_acc: 0.8774 | valid_mcc: 0.7559  |  valid_auroc: 0.9349\n",
      "Epoch: 245 | train_loss: 0.3542 | train_bal_acc: 0.8488 | train_mcc: 0.6977 | train_auroc: 0.9237  |  valid_loss: 0.3545 | valid_bal_acc: 0.8637 | valid_mcc: 0.7351  |  valid_auroc: 0.9207\n",
      "Epoch: 246 | train_loss: 0.3575 | train_bal_acc: 0.8496 | train_mcc: 0.6986 | train_auroc: 0.9230  |  valid_loss: 0.3509 | valid_bal_acc: 0.8602 | valid_mcc: 0.7214  |  valid_auroc: 0.9231\n",
      "Epoch: 247 | train_loss: 0.3574 | train_bal_acc: 0.8473 | train_mcc: 0.6954 | train_auroc: 0.9224  |  valid_loss: 0.3354 | valid_bal_acc: 0.8713 | valid_mcc: 0.7374  |  valid_auroc: 0.9272\n",
      "Epoch: 248 | train_loss: 0.3549 | train_bal_acc: 0.8428 | train_mcc: 0.6861 | train_auroc: 0.9241  |  valid_loss: 0.3290 | valid_bal_acc: 0.8765 | valid_mcc: 0.7539  |  valid_auroc: 0.9373\n",
      "Epoch: 249 | train_loss: 0.3550 | train_bal_acc: 0.8513 | train_mcc: 0.7037 | train_auroc: 0.9231  |  valid_loss: 0.3439 | valid_bal_acc: 0.8655 | valid_mcc: 0.7371  |  valid_auroc: 0.9193\n",
      "Epoch: 250 | train_loss: 0.3532 | train_bal_acc: 0.8512 | train_mcc: 0.7034 | train_auroc: 0.9238  |  valid_loss: 0.3445 | valid_bal_acc: 0.8622 | valid_mcc: 0.7261  |  valid_auroc: 0.9272\n",
      "Epoch: 251 | train_loss: 0.3574 | train_bal_acc: 0.8461 | train_mcc: 0.6931 | train_auroc: 0.9196  |  valid_loss: 0.3586 | valid_bal_acc: 0.8729 | valid_mcc: 0.7437  |  valid_auroc: 0.9260\n",
      "Epoch: 252 | train_loss: 0.3522 | train_bal_acc: 0.8471 | train_mcc: 0.6942 | train_auroc: 0.9241  |  valid_loss: 0.3404 | valid_bal_acc: 0.8625 | valid_mcc: 0.7250  |  valid_auroc: 0.9254\n",
      "Epoch: 253 | train_loss: 0.3525 | train_bal_acc: 0.8541 | train_mcc: 0.7080 | train_auroc: 0.9243  |  valid_loss: 0.3325 | valid_bal_acc: 0.8767 | valid_mcc: 0.7544  |  valid_auroc: 0.9380\n",
      "Epoch: 254 | train_loss: 0.3481 | train_bal_acc: 0.8520 | train_mcc: 0.7042 | train_auroc: 0.9268  |  valid_loss: 0.3413 | valid_bal_acc: 0.8703 | valid_mcc: 0.7431  |  valid_auroc: 0.9292\n",
      "Epoch: 255 | train_loss: 0.3531 | train_bal_acc: 0.8510 | train_mcc: 0.7018 | train_auroc: 0.9233  |  valid_loss: 0.3426 | valid_bal_acc: 0.8708 | valid_mcc: 0.7449  |  valid_auroc: 0.9282\n",
      "Epoch: 256 | train_loss: 0.3529 | train_bal_acc: 0.8499 | train_mcc: 0.6990 | train_auroc: 0.9243  |  valid_loss: 0.3417 | valid_bal_acc: 0.8603 | valid_mcc: 0.7221  |  valid_auroc: 0.9279\n",
      "Epoch: 257 | train_loss: 0.3465 | train_bal_acc: 0.8542 | train_mcc: 0.7090 | train_auroc: 0.9272  |  valid_loss: 0.3424 | valid_bal_acc: 0.8529 | valid_mcc: 0.7071  |  valid_auroc: 0.9322\n",
      "Epoch: 258 | train_loss: 0.3500 | train_bal_acc: 0.8496 | train_mcc: 0.6982 | train_auroc: 0.9254  |  valid_loss: 0.3336 | valid_bal_acc: 0.8708 | valid_mcc: 0.7418  |  valid_auroc: 0.9344\n",
      "Epoch: 259 | train_loss: 0.3526 | train_bal_acc: 0.8505 | train_mcc: 0.7003 | train_auroc: 0.9242  |  valid_loss: 0.3635 | valid_bal_acc: 0.8518 | valid_mcc: 0.7056  |  valid_auroc: 0.9096\n",
      "Epoch: 260 | train_loss: 0.3465 | train_bal_acc: 0.8538 | train_mcc: 0.7076 | train_auroc: 0.9277  |  valid_loss: 0.3196 | valid_bal_acc: 0.8734 | valid_mcc: 0.7426  |  valid_auroc: 0.9383\n",
      "Epoch: 261 | train_loss: 0.3507 | train_bal_acc: 0.8504 | train_mcc: 0.7005 | train_auroc: 0.9245  |  valid_loss: 0.3269 | valid_bal_acc: 0.8799 | valid_mcc: 0.7615  |  valid_auroc: 0.9385\n",
      "Epoch: 262 | train_loss: 0.3504 | train_bal_acc: 0.8542 | train_mcc: 0.7085 | train_auroc: 0.9253  |  valid_loss: 0.3194 | valid_bal_acc: 0.8810 | valid_mcc: 0.7633  |  valid_auroc: 0.9411\n",
      "Epoch: 263 | train_loss: 0.3463 | train_bal_acc: 0.8565 | train_mcc: 0.7112 | train_auroc: 0.9271  |  valid_loss: 0.3380 | valid_bal_acc: 0.8758 | valid_mcc: 0.7449  |  valid_auroc: 0.9315\n",
      "Epoch: 264 | train_loss: 0.3464 | train_bal_acc: 0.8524 | train_mcc: 0.7048 | train_auroc: 0.9262  |  valid_loss: 0.3378 | valid_bal_acc: 0.8630 | valid_mcc: 0.7271  |  valid_auroc: 0.9312\n"
     ]
    },
    {
     "name": "stdout",
     "output_type": "stream",
     "text": [
      "Epoch: 265 | train_loss: 0.3475 | train_bal_acc: 0.8519 | train_mcc: 0.7047 | train_auroc: 0.9262  |  valid_loss: 0.3516 | valid_bal_acc: 0.8696 | valid_mcc: 0.7382  |  valid_auroc: 0.9246\n",
      "Epoch: 266 | train_loss: 0.3490 | train_bal_acc: 0.8550 | train_mcc: 0.7103 | train_auroc: 0.9257  |  valid_loss: 0.3138 | valid_bal_acc: 0.8799 | valid_mcc: 0.7609  |  valid_auroc: 0.9393\n",
      "Epoch: 267 | train_loss: 0.3498 | train_bal_acc: 0.8483 | train_mcc: 0.6965 | train_auroc: 0.9264  |  valid_loss: 0.3166 | valid_bal_acc: 0.8847 | valid_mcc: 0.7695  |  valid_auroc: 0.9392\n",
      "Epoch: 268 | train_loss: 0.3452 | train_bal_acc: 0.8565 | train_mcc: 0.7131 | train_auroc: 0.9268  |  valid_loss: 0.3288 | valid_bal_acc: 0.8804 | valid_mcc: 0.7544  |  valid_auroc: 0.9350\n",
      "Epoch: 269 | train_loss: 0.3429 | train_bal_acc: 0.8544 | train_mcc: 0.7090 | train_auroc: 0.9279  |  valid_loss: 0.3430 | valid_bal_acc: 0.8502 | valid_mcc: 0.6985  |  valid_auroc: 0.9244\n",
      "Epoch: 270 | train_loss: 0.3447 | train_bal_acc: 0.8558 | train_mcc: 0.7118 | train_auroc: 0.9273  |  valid_loss: 0.3268 | valid_bal_acc: 0.8844 | valid_mcc: 0.7698  |  valid_auroc: 0.9405\n",
      "Epoch: 271 | train_loss: 0.3441 | train_bal_acc: 0.8552 | train_mcc: 0.7098 | train_auroc: 0.9280  |  valid_loss: 0.3170 | valid_bal_acc: 0.8761 | valid_mcc: 0.7547  |  valid_auroc: 0.9405\n",
      "Epoch: 272 | train_loss: 0.3431 | train_bal_acc: 0.8574 | train_mcc: 0.7153 | train_auroc: 0.9283  |  valid_loss: 0.3341 | valid_bal_acc: 0.8541 | valid_mcc: 0.7268  |  valid_auroc: 0.9352\n",
      "Epoch: 273 | train_loss: 0.3451 | train_bal_acc: 0.8548 | train_mcc: 0.7093 | train_auroc: 0.9283  |  valid_loss: 0.3525 | valid_bal_acc: 0.8615 | valid_mcc: 0.7212  |  valid_auroc: 0.9232\n",
      "Epoch: 274 | train_loss: 0.3439 | train_bal_acc: 0.8509 | train_mcc: 0.7018 | train_auroc: 0.9288  |  valid_loss: 0.3359 | valid_bal_acc: 0.8668 | valid_mcc: 0.7415  |  valid_auroc: 0.9351\n",
      "Epoch: 275 | train_loss: 0.3434 | train_bal_acc: 0.8564 | train_mcc: 0.7127 | train_auroc: 0.9292  |  valid_loss: 0.3441 | valid_bal_acc: 0.8628 | valid_mcc: 0.7281  |  valid_auroc: 0.9204\n",
      "Epoch: 276 | train_loss: 0.3431 | train_bal_acc: 0.8520 | train_mcc: 0.7045 | train_auroc: 0.9290  |  valid_loss: 0.3380 | valid_bal_acc: 0.8592 | valid_mcc: 0.7204  |  valid_auroc: 0.9303\n",
      "Epoch: 277 | train_loss: 0.3410 | train_bal_acc: 0.8578 | train_mcc: 0.7145 | train_auroc: 0.9305  |  valid_loss: 0.3139 | valid_bal_acc: 0.8847 | valid_mcc: 0.7701  |  valid_auroc: 0.9418\n",
      "Epoch: 278 | train_loss: 0.3408 | train_bal_acc: 0.8549 | train_mcc: 0.7093 | train_auroc: 0.9289  |  valid_loss: 0.3264 | valid_bal_acc: 0.8773 | valid_mcc: 0.7567  |  valid_auroc: 0.9388\n",
      "Epoch: 279 | train_loss: 0.3466 | train_bal_acc: 0.8538 | train_mcc: 0.7080 | train_auroc: 0.9271  |  valid_loss: 0.3263 | valid_bal_acc: 0.8730 | valid_mcc: 0.7535  |  valid_auroc: 0.9278\n",
      "Epoch: 280 | train_loss: 0.3392 | train_bal_acc: 0.8608 | train_mcc: 0.7226 | train_auroc: 0.9300  |  valid_loss: 0.3136 | valid_bal_acc: 0.8862 | valid_mcc: 0.7737  |  valid_auroc: 0.9407\n",
      "Epoch: 281 | train_loss: 0.3395 | train_bal_acc: 0.8584 | train_mcc: 0.7177 | train_auroc: 0.9305  |  valid_loss: 0.3502 | valid_bal_acc: 0.8543 | valid_mcc: 0.7091  |  valid_auroc: 0.9351\n",
      "Epoch: 282 | train_loss: 0.3433 | train_bal_acc: 0.8557 | train_mcc: 0.7124 | train_auroc: 0.9282  |  valid_loss: 0.3111 | valid_bal_acc: 0.8855 | valid_mcc: 0.7707  |  valid_auroc: 0.9420\n",
      "Epoch: 283 | train_loss: 0.3400 | train_bal_acc: 0.8548 | train_mcc: 0.7086 | train_auroc: 0.9299  |  valid_loss: 0.3355 | valid_bal_acc: 0.8733 | valid_mcc: 0.7442  |  valid_auroc: 0.9431\n",
      "Epoch: 284 | train_loss: 0.3430 | train_bal_acc: 0.8589 | train_mcc: 0.7171 | train_auroc: 0.9277  |  valid_loss: 0.3068 | valid_bal_acc: 0.8873 | valid_mcc: 0.7762  |  valid_auroc: 0.9432\n",
      "Epoch: 285 | train_loss: 0.3401 | train_bal_acc: 0.8590 | train_mcc: 0.7187 | train_auroc: 0.9292  |  valid_loss: 0.3307 | valid_bal_acc: 0.8787 | valid_mcc: 0.7606  |  valid_auroc: 0.9329\n",
      "Epoch: 286 | train_loss: 0.3393 | train_bal_acc: 0.8572 | train_mcc: 0.7143 | train_auroc: 0.9298  |  valid_loss: 0.3199 | valid_bal_acc: 0.8802 | valid_mcc: 0.7585  |  valid_auroc: 0.9385\n",
      "Epoch: 287 | train_loss: 0.3371 | train_bal_acc: 0.8546 | train_mcc: 0.7098 | train_auroc: 0.9303  |  valid_loss: 0.3676 | valid_bal_acc: 0.8603 | valid_mcc: 0.7249  |  valid_auroc: 0.9114\n",
      "Epoch: 288 | train_loss: 0.3423 | train_bal_acc: 0.8568 | train_mcc: 0.7144 | train_auroc: 0.9286  |  valid_loss: 0.3148 | valid_bal_acc: 0.8779 | valid_mcc: 0.7604  |  valid_auroc: 0.9420\n",
      "Epoch: 289 | train_loss: 0.3380 | train_bal_acc: 0.8609 | train_mcc: 0.7230 | train_auroc: 0.9296  |  valid_loss: 0.3289 | valid_bal_acc: 0.8687 | valid_mcc: 0.7462  |  valid_auroc: 0.9381\n",
      "Epoch: 290 | train_loss: 0.3362 | train_bal_acc: 0.8610 | train_mcc: 0.7193 | train_auroc: 0.9325  |  valid_loss: 0.3137 | valid_bal_acc: 0.8861 | valid_mcc: 0.7749  |  valid_auroc: 0.9433\n",
      "Epoch: 291 | train_loss: 0.3370 | train_bal_acc: 0.8594 | train_mcc: 0.7188 | train_auroc: 0.9315  |  valid_loss: 0.3239 | valid_bal_acc: 0.8708 | valid_mcc: 0.7544  |  valid_auroc: 0.9318\n",
      "Epoch: 292 | train_loss: 0.3406 | train_bal_acc: 0.8602 | train_mcc: 0.7199 | train_auroc: 0.9296  |  valid_loss: 0.3331 | valid_bal_acc: 0.8775 | valid_mcc: 0.7473  |  valid_auroc: 0.9322\n",
      "Epoch: 293 | train_loss: 0.3372 | train_bal_acc: 0.8550 | train_mcc: 0.7101 | train_auroc: 0.9309  |  valid_loss: 0.3198 | valid_bal_acc: 0.8843 | valid_mcc: 0.7572  |  valid_auroc: 0.9402\n",
      "Epoch: 294 | train_loss: 0.3357 | train_bal_acc: 0.8592 | train_mcc: 0.7181 | train_auroc: 0.9322  |  valid_loss: 0.3382 | valid_bal_acc: 0.8627 | valid_mcc: 0.7259  |  valid_auroc: 0.9286\n",
      "Epoch: 295 | train_loss: 0.3378 | train_bal_acc: 0.8622 | train_mcc: 0.7249 | train_auroc: 0.9298  |  valid_loss: 0.3177 | valid_bal_acc: 0.8771 | valid_mcc: 0.7581  |  valid_auroc: 0.9402\n",
      "Epoch: 296 | train_loss: 0.3378 | train_bal_acc: 0.8617 | train_mcc: 0.7232 | train_auroc: 0.9318  |  valid_loss: 0.3311 | valid_bal_acc: 0.8761 | valid_mcc: 0.7542  |  valid_auroc: 0.9336\n",
      "Epoch: 297 | train_loss: 0.3318 | train_bal_acc: 0.8606 | train_mcc: 0.7203 | train_auroc: 0.9336  |  valid_loss: 0.3142 | valid_bal_acc: 0.8812 | valid_mcc: 0.7627  |  valid_auroc: 0.9402\n",
      "Epoch: 298 | train_loss: 0.3339 | train_bal_acc: 0.8585 | train_mcc: 0.7179 | train_auroc: 0.9327  |  valid_loss: 0.3158 | valid_bal_acc: 0.8782 | valid_mcc: 0.7619  |  valid_auroc: 0.9430\n",
      "Epoch: 299 | train_loss: 0.3337 | train_bal_acc: 0.8615 | train_mcc: 0.7242 | train_auroc: 0.9329  |  valid_loss: 0.3018 | valid_bal_acc: 0.8889 | valid_mcc: 0.7807  |  valid_auroc: 0.9437\n",
      "Epoch: 300 | train_loss: 0.3340 | train_bal_acc: 0.8633 | train_mcc: 0.7271 | train_auroc: 0.9335  |  valid_loss: 0.3143 | valid_bal_acc: 0.8754 | valid_mcc: 0.7543  |  valid_auroc: 0.9448\n",
      "Epoch: 301 | train_loss: 0.3328 | train_bal_acc: 0.8589 | train_mcc: 0.7181 | train_auroc: 0.9325  |  valid_loss: 0.3194 | valid_bal_acc: 0.8819 | valid_mcc: 0.7658  |  valid_auroc: 0.9405\n",
      "Epoch: 302 | train_loss: 0.3309 | train_bal_acc: 0.8622 | train_mcc: 0.7244 | train_auroc: 0.9338  |  valid_loss: 0.3189 | valid_bal_acc: 0.8829 | valid_mcc: 0.7678  |  valid_auroc: 0.9425\n",
      "Epoch: 303 | train_loss: 0.3306 | train_bal_acc: 0.8667 | train_mcc: 0.7342 | train_auroc: 0.9338  |  valid_loss: 0.3258 | valid_bal_acc: 0.8725 | valid_mcc: 0.7478  |  valid_auroc: 0.9346\n",
      "Epoch: 304 | train_loss: 0.3325 | train_bal_acc: 0.8622 | train_mcc: 0.7259 | train_auroc: 0.9317  |  valid_loss: 0.3244 | valid_bal_acc: 0.8826 | valid_mcc: 0.7671  |  valid_auroc: 0.9373\n",
      "Epoch: 305 | train_loss: 0.3337 | train_bal_acc: 0.8604 | train_mcc: 0.7213 | train_auroc: 0.9312  |  valid_loss: 0.3055 | valid_bal_acc: 0.8893 | valid_mcc: 0.7819  |  valid_auroc: 0.9446\n",
      "Epoch: 306 | train_loss: 0.3336 | train_bal_acc: 0.8598 | train_mcc: 0.7194 | train_auroc: 0.9330  |  valid_loss: 0.3034 | valid_bal_acc: 0.8908 | valid_mcc: 0.7826  |  valid_auroc: 0.9445\n",
      "Epoch: 307 | train_loss: 0.3325 | train_bal_acc: 0.8613 | train_mcc: 0.7230 | train_auroc: 0.9329  |  valid_loss: 0.3026 | valid_bal_acc: 0.8900 | valid_mcc: 0.7823  |  valid_auroc: 0.9457\n",
      "Epoch: 308 | train_loss: 0.3262 | train_bal_acc: 0.8658 | train_mcc: 0.7317 | train_auroc: 0.9359  |  valid_loss: 0.3029 | valid_bal_acc: 0.8915 | valid_mcc: 0.7834  |  valid_auroc: 0.9462\n"
     ]
    },
    {
     "name": "stdout",
     "output_type": "stream",
     "text": [
      "Epoch: 309 | train_loss: 0.3298 | train_bal_acc: 0.8648 | train_mcc: 0.7296 | train_auroc: 0.9345  |  valid_loss: 0.3302 | valid_bal_acc: 0.8674 | valid_mcc: 0.7360  |  valid_auroc: 0.9333\n",
      "Epoch: 310 | train_loss: 0.3272 | train_bal_acc: 0.8643 | train_mcc: 0.7302 | train_auroc: 0.9360  |  valid_loss: 0.3221 | valid_bal_acc: 0.8827 | valid_mcc: 0.7686  |  valid_auroc: 0.9317\n",
      "Epoch: 311 | train_loss: 0.3297 | train_bal_acc: 0.8619 | train_mcc: 0.7234 | train_auroc: 0.9343  |  valid_loss: 0.3157 | valid_bal_acc: 0.8826 | valid_mcc: 0.7683  |  valid_auroc: 0.9373\n",
      "Epoch: 312 | train_loss: 0.3325 | train_bal_acc: 0.8608 | train_mcc: 0.7214 | train_auroc: 0.9326  |  valid_loss: 0.3162 | valid_bal_acc: 0.8865 | valid_mcc: 0.7675  |  valid_auroc: 0.9425\n",
      "Epoch: 313 | train_loss: 0.3262 | train_bal_acc: 0.8630 | train_mcc: 0.7278 | train_auroc: 0.9353  |  valid_loss: 0.3039 | valid_bal_acc: 0.8832 | valid_mcc: 0.7676  |  valid_auroc: 0.9450\n",
      "Epoch: 314 | train_loss: 0.3310 | train_bal_acc: 0.8628 | train_mcc: 0.7245 | train_auroc: 0.9334  |  valid_loss: 0.3043 | valid_bal_acc: 0.8939 | valid_mcc: 0.7885  |  valid_auroc: 0.9480\n",
      "Epoch: 315 | train_loss: 0.3302 | train_bal_acc: 0.8619 | train_mcc: 0.7241 | train_auroc: 0.9334  |  valid_loss: 0.3114 | valid_bal_acc: 0.8854 | valid_mcc: 0.7709  |  valid_auroc: 0.9403\n",
      "Epoch: 316 | train_loss: 0.3318 | train_bal_acc: 0.8653 | train_mcc: 0.7324 | train_auroc: 0.9326  |  valid_loss: 0.3203 | valid_bal_acc: 0.8749 | valid_mcc: 0.7504  |  valid_auroc: 0.9401\n",
      "Epoch: 317 | train_loss: 0.3248 | train_bal_acc: 0.8648 | train_mcc: 0.7299 | train_auroc: 0.9362  |  valid_loss: 0.3220 | valid_bal_acc: 0.8766 | valid_mcc: 0.7543  |  valid_auroc: 0.9341\n",
      "Epoch: 318 | train_loss: 0.3290 | train_bal_acc: 0.8690 | train_mcc: 0.7373 | train_auroc: 0.9348  |  valid_loss: 0.3025 | valid_bal_acc: 0.8843 | valid_mcc: 0.7681  |  valid_auroc: 0.9466\n",
      "Epoch: 319 | train_loss: 0.3263 | train_bal_acc: 0.8662 | train_mcc: 0.7331 | train_auroc: 0.9362  |  valid_loss: 0.3163 | valid_bal_acc: 0.8851 | valid_mcc: 0.7689  |  valid_auroc: 0.9383\n",
      "Epoch: 320 | train_loss: 0.3270 | train_bal_acc: 0.8647 | train_mcc: 0.7293 | train_auroc: 0.9352  |  valid_loss: 0.3127 | valid_bal_acc: 0.8859 | valid_mcc: 0.7701  |  valid_auroc: 0.9442\n",
      "Epoch: 321 | train_loss: 0.3282 | train_bal_acc: 0.8628 | train_mcc: 0.7257 | train_auroc: 0.9335  |  valid_loss: 0.2996 | valid_bal_acc: 0.8843 | valid_mcc: 0.7705  |  valid_auroc: 0.9479\n",
      "Epoch: 322 | train_loss: 0.3251 | train_bal_acc: 0.8652 | train_mcc: 0.7303 | train_auroc: 0.9355  |  valid_loss: 0.3039 | valid_bal_acc: 0.8922 | valid_mcc: 0.7859  |  valid_auroc: 0.9480\n",
      "Epoch: 323 | train_loss: 0.3252 | train_bal_acc: 0.8655 | train_mcc: 0.7317 | train_auroc: 0.9354  |  valid_loss: 0.3010 | valid_bal_acc: 0.8939 | valid_mcc: 0.7897  |  valid_auroc: 0.9462\n",
      "Epoch: 324 | train_loss: 0.3236 | train_bal_acc: 0.8620 | train_mcc: 0.7231 | train_auroc: 0.9372  |  valid_loss: 0.3207 | valid_bal_acc: 0.8855 | valid_mcc: 0.7718  |  valid_auroc: 0.9347\n",
      "Epoch: 325 | train_loss: 0.3266 | train_bal_acc: 0.8656 | train_mcc: 0.7321 | train_auroc: 0.9351  |  valid_loss: 0.3155 | valid_bal_acc: 0.8809 | valid_mcc: 0.7683  |  valid_auroc: 0.9363\n",
      "Epoch: 326 | train_loss: 0.3273 | train_bal_acc: 0.8630 | train_mcc: 0.7272 | train_auroc: 0.9348  |  valid_loss: 0.3035 | valid_bal_acc: 0.8920 | valid_mcc: 0.7858  |  valid_auroc: 0.9483\n",
      "Epoch: 327 | train_loss: 0.3240 | train_bal_acc: 0.8630 | train_mcc: 0.7259 | train_auroc: 0.9357  |  valid_loss: 0.3091 | valid_bal_acc: 0.8946 | valid_mcc: 0.7878  |  valid_auroc: 0.9484\n",
      "Epoch: 328 | train_loss: 0.3245 | train_bal_acc: 0.8645 | train_mcc: 0.7294 | train_auroc: 0.9365  |  valid_loss: 0.2983 | valid_bal_acc: 0.8937 | valid_mcc: 0.7898  |  valid_auroc: 0.9463\n",
      "Epoch: 329 | train_loss: 0.3221 | train_bal_acc: 0.8676 | train_mcc: 0.7360 | train_auroc: 0.9375  |  valid_loss: 0.3003 | valid_bal_acc: 0.8941 | valid_mcc: 0.7881  |  valid_auroc: 0.9484\n",
      "Epoch: 330 | train_loss: 0.3264 | train_bal_acc: 0.8623 | train_mcc: 0.7251 | train_auroc: 0.9352  |  valid_loss: 0.3049 | valid_bal_acc: 0.8745 | valid_mcc: 0.7569  |  valid_auroc: 0.9484\n",
      "Epoch: 331 | train_loss: 0.3230 | train_bal_acc: 0.8648 | train_mcc: 0.7295 | train_auroc: 0.9372  |  valid_loss: 0.3028 | valid_bal_acc: 0.8828 | valid_mcc: 0.7710  |  valid_auroc: 0.9450\n",
      "Epoch: 332 | train_loss: 0.3241 | train_bal_acc: 0.8618 | train_mcc: 0.7235 | train_auroc: 0.9372  |  valid_loss: 0.3004 | valid_bal_acc: 0.8826 | valid_mcc: 0.7726  |  valid_auroc: 0.9498\n",
      "Epoch: 333 | train_loss: 0.3216 | train_bal_acc: 0.8664 | train_mcc: 0.7320 | train_auroc: 0.9374  |  valid_loss: 0.3149 | valid_bal_acc: 0.8730 | valid_mcc: 0.7538  |  valid_auroc: 0.9439\n",
      "Epoch: 334 | train_loss: 0.3259 | train_bal_acc: 0.8651 | train_mcc: 0.7307 | train_auroc: 0.9354  |  valid_loss: 0.3091 | valid_bal_acc: 0.8756 | valid_mcc: 0.7606  |  valid_auroc: 0.9431\n",
      "Epoch: 335 | train_loss: 0.3247 | train_bal_acc: 0.8675 | train_mcc: 0.7352 | train_auroc: 0.9367  |  valid_loss: 0.3049 | valid_bal_acc: 0.8958 | valid_mcc: 0.7913  |  valid_auroc: 0.9520\n",
      "Epoch: 336 | train_loss: 0.3269 | train_bal_acc: 0.8616 | train_mcc: 0.7238 | train_auroc: 0.9348  |  valid_loss: 0.3318 | valid_bal_acc: 0.8620 | valid_mcc: 0.7259  |  valid_auroc: 0.9180\n",
      "Epoch: 337 | train_loss: 0.3211 | train_bal_acc: 0.8655 | train_mcc: 0.7319 | train_auroc: 0.9367  |  valid_loss: 0.3184 | valid_bal_acc: 0.8768 | valid_mcc: 0.7540  |  valid_auroc: 0.9327\n",
      "Epoch: 338 | train_loss: 0.3171 | train_bal_acc: 0.8693 | train_mcc: 0.7382 | train_auroc: 0.9395  |  valid_loss: 0.3325 | valid_bal_acc: 0.8771 | valid_mcc: 0.7542  |  valid_auroc: 0.9318\n",
      "Epoch: 339 | train_loss: 0.3178 | train_bal_acc: 0.8687 | train_mcc: 0.7383 | train_auroc: 0.9392  |  valid_loss: 0.3044 | valid_bal_acc: 0.8815 | valid_mcc: 0.7696  |  valid_auroc: 0.9468\n",
      "Epoch: 340 | train_loss: 0.3189 | train_bal_acc: 0.8666 | train_mcc: 0.7333 | train_auroc: 0.9384  |  valid_loss: 0.3091 | valid_bal_acc: 0.8855 | valid_mcc: 0.7679  |  valid_auroc: 0.9510\n",
      "Epoch: 341 | train_loss: 0.3203 | train_bal_acc: 0.8714 | train_mcc: 0.7415 | train_auroc: 0.9379  |  valid_loss: 0.3166 | valid_bal_acc: 0.8710 | valid_mcc: 0.7420  |  valid_auroc: 0.9307\n",
      "Epoch: 342 | train_loss: 0.3195 | train_bal_acc: 0.8673 | train_mcc: 0.7351 | train_auroc: 0.9380  |  valid_loss: 0.3195 | valid_bal_acc: 0.8781 | valid_mcc: 0.7561  |  valid_auroc: 0.9333\n",
      "Epoch: 343 | train_loss: 0.3211 | train_bal_acc: 0.8654 | train_mcc: 0.7316 | train_auroc: 0.9367  |  valid_loss: 0.2933 | valid_bal_acc: 0.8920 | valid_mcc: 0.7849  |  valid_auroc: 0.9489\n",
      "Epoch: 344 | train_loss: 0.3189 | train_bal_acc: 0.8678 | train_mcc: 0.7366 | train_auroc: 0.9394  |  valid_loss: 0.3050 | valid_bal_acc: 0.8847 | valid_mcc: 0.7549  |  valid_auroc: 0.9500\n",
      "Epoch: 345 | train_loss: 0.3201 | train_bal_acc: 0.8684 | train_mcc: 0.7363 | train_auroc: 0.9371  |  valid_loss: 0.3030 | valid_bal_acc: 0.8950 | valid_mcc: 0.7900  |  valid_auroc: 0.9519\n",
      "Epoch: 346 | train_loss: 0.3174 | train_bal_acc: 0.8709 | train_mcc: 0.7424 | train_auroc: 0.9396  |  valid_loss: 0.3187 | valid_bal_acc: 0.8799 | valid_mcc: 0.7585  |  valid_auroc: 0.9462\n",
      "Epoch: 347 | train_loss: 0.3163 | train_bal_acc: 0.8695 | train_mcc: 0.7395 | train_auroc: 0.9392  |  valid_loss: 0.3089 | valid_bal_acc: 0.8667 | valid_mcc: 0.7339  |  valid_auroc: 0.9225\n",
      "Epoch: 348 | train_loss: 0.3168 | train_bal_acc: 0.8668 | train_mcc: 0.7348 | train_auroc: 0.9407  |  valid_loss: 0.2970 | valid_bal_acc: 0.8869 | valid_mcc: 0.7731  |  valid_auroc: 0.9507\n",
      "Epoch: 349 | train_loss: 0.3184 | train_bal_acc: 0.8703 | train_mcc: 0.7410 | train_auroc: 0.9388  |  valid_loss: 0.3617 | valid_bal_acc: 0.8513 | valid_mcc: 0.7048  |  valid_auroc: 0.9096\n",
      "Epoch: 350 | train_loss: 0.3187 | train_bal_acc: 0.8684 | train_mcc: 0.7369 | train_auroc: 0.9389  |  valid_loss: 0.3242 | valid_bal_acc: 0.8636 | valid_mcc: 0.7272  |  valid_auroc: 0.9339\n",
      "Epoch: 351 | train_loss: 0.3179 | train_bal_acc: 0.8718 | train_mcc: 0.7439 | train_auroc: 0.9396  |  valid_loss: 0.3342 | valid_bal_acc: 0.8680 | valid_mcc: 0.7377  |  valid_auroc: 0.9320\n",
      "Epoch: 352 | train_loss: 0.3124 | train_bal_acc: 0.8722 | train_mcc: 0.7452 | train_auroc: 0.9417  |  valid_loss: 0.3076 | valid_bal_acc: 0.8779 | valid_mcc: 0.7566  |  valid_auroc: 0.9457\n"
     ]
    },
    {
     "name": "stdout",
     "output_type": "stream",
     "text": [
      "Epoch: 353 | train_loss: 0.3156 | train_bal_acc: 0.8708 | train_mcc: 0.7399 | train_auroc: 0.9414  |  valid_loss: 0.3075 | valid_bal_acc: 0.8822 | valid_mcc: 0.7615  |  valid_auroc: 0.9510\n",
      "Epoch: 354 | train_loss: 0.3137 | train_bal_acc: 0.8710 | train_mcc: 0.7412 | train_auroc: 0.9412  |  valid_loss: 0.2875 | valid_bal_acc: 0.8940 | valid_mcc: 0.7880  |  valid_auroc: 0.9495\n",
      "Epoch: 355 | train_loss: 0.3153 | train_bal_acc: 0.8691 | train_mcc: 0.7379 | train_auroc: 0.9402  |  valid_loss: 0.3326 | valid_bal_acc: 0.8795 | valid_mcc: 0.7511  |  valid_auroc: 0.9269\n",
      "Epoch: 356 | train_loss: 0.3123 | train_bal_acc: 0.8724 | train_mcc: 0.7457 | train_auroc: 0.9410  |  valid_loss: 0.2990 | valid_bal_acc: 0.8882 | valid_mcc: 0.7776  |  valid_auroc: 0.9508\n",
      "Epoch: 357 | train_loss: 0.3147 | train_bal_acc: 0.8731 | train_mcc: 0.7458 | train_auroc: 0.9403  |  valid_loss: 0.2874 | valid_bal_acc: 0.8961 | valid_mcc: 0.7933  |  valid_auroc: 0.9505\n",
      "Epoch: 358 | train_loss: 0.3145 | train_bal_acc: 0.8720 | train_mcc: 0.7455 | train_auroc: 0.9410  |  valid_loss: 0.3140 | valid_bal_acc: 0.8760 | valid_mcc: 0.7534  |  valid_auroc: 0.9356\n",
      "Epoch: 359 | train_loss: 0.3136 | train_bal_acc: 0.8720 | train_mcc: 0.7451 | train_auroc: 0.9405  |  valid_loss: 0.2981 | valid_bal_acc: 0.8863 | valid_mcc: 0.7740  |  valid_auroc: 0.9470\n",
      "Epoch: 360 | train_loss: 0.3147 | train_bal_acc: 0.8708 | train_mcc: 0.7425 | train_auroc: 0.9404  |  valid_loss: 0.2995 | valid_bal_acc: 0.8891 | valid_mcc: 0.7797  |  valid_auroc: 0.9469\n",
      "Epoch: 361 | train_loss: 0.3124 | train_bal_acc: 0.8720 | train_mcc: 0.7450 | train_auroc: 0.9406  |  valid_loss: 0.2971 | valid_bal_acc: 0.8880 | valid_mcc: 0.7789  |  valid_auroc: 0.9486\n",
      "Epoch: 362 | train_loss: 0.3094 | train_bal_acc: 0.8736 | train_mcc: 0.7461 | train_auroc: 0.9422  |  valid_loss: 0.2908 | valid_bal_acc: 0.8936 | valid_mcc: 0.7869  |  valid_auroc: 0.9517\n",
      "Epoch: 363 | train_loss: 0.3101 | train_bal_acc: 0.8717 | train_mcc: 0.7437 | train_auroc: 0.9428  |  valid_loss: 0.2912 | valid_bal_acc: 0.8887 | valid_mcc: 0.7703  |  valid_auroc: 0.9519\n",
      "Epoch: 364 | train_loss: 0.3087 | train_bal_acc: 0.8745 | train_mcc: 0.7495 | train_auroc: 0.9428  |  valid_loss: 0.2898 | valid_bal_acc: 0.8868 | valid_mcc: 0.7787  |  valid_auroc: 0.9526\n",
      "Epoch: 365 | train_loss: 0.3122 | train_bal_acc: 0.8682 | train_mcc: 0.7369 | train_auroc: 0.9405  |  valid_loss: 0.2814 | valid_bal_acc: 0.8938 | valid_mcc: 0.7875  |  valid_auroc: 0.9520\n",
      "Epoch: 366 | train_loss: 0.3179 | train_bal_acc: 0.8684 | train_mcc: 0.7383 | train_auroc: 0.9371  |  valid_loss: 0.2993 | valid_bal_acc: 0.8876 | valid_mcc: 0.7760  |  valid_auroc: 0.9442\n",
      "Epoch: 367 | train_loss: 0.3138 | train_bal_acc: 0.8730 | train_mcc: 0.7460 | train_auroc: 0.9410  |  valid_loss: 0.2848 | valid_bal_acc: 0.8969 | valid_mcc: 0.7937  |  valid_auroc: 0.9530\n",
      "Epoch: 368 | train_loss: 0.3110 | train_bal_acc: 0.8745 | train_mcc: 0.7493 | train_auroc: 0.9409  |  valid_loss: 0.2875 | valid_bal_acc: 0.8965 | valid_mcc: 0.7947  |  valid_auroc: 0.9521\n",
      "Epoch: 369 | train_loss: 0.3106 | train_bal_acc: 0.8731 | train_mcc: 0.7462 | train_auroc: 0.9428  |  valid_loss: 0.3067 | valid_bal_acc: 0.8896 | valid_mcc: 0.7775  |  valid_auroc: 0.9429\n",
      "Epoch: 370 | train_loss: 0.3126 | train_bal_acc: 0.8718 | train_mcc: 0.7429 | train_auroc: 0.9410  |  valid_loss: 0.2965 | valid_bal_acc: 0.8828 | valid_mcc: 0.7726  |  valid_auroc: 0.9455\n",
      "Epoch: 371 | train_loss: 0.3074 | train_bal_acc: 0.8701 | train_mcc: 0.7407 | train_auroc: 0.9440  |  valid_loss: 0.2812 | valid_bal_acc: 0.8960 | valid_mcc: 0.7954  |  valid_auroc: 0.9537\n",
      "Epoch: 372 | train_loss: 0.3113 | train_bal_acc: 0.8729 | train_mcc: 0.7456 | train_auroc: 0.9418  |  valid_loss: 0.3102 | valid_bal_acc: 0.8877 | valid_mcc: 0.7772  |  valid_auroc: 0.9397\n",
      "Epoch: 373 | train_loss: 0.3128 | train_bal_acc: 0.8732 | train_mcc: 0.7468 | train_auroc: 0.9406  |  valid_loss: 0.2984 | valid_bal_acc: 0.8869 | valid_mcc: 0.7777  |  valid_auroc: 0.9517\n",
      "Epoch: 374 | train_loss: 0.3075 | train_bal_acc: 0.8768 | train_mcc: 0.7530 | train_auroc: 0.9424  |  valid_loss: 0.3270 | valid_bal_acc: 0.8571 | valid_mcc: 0.7144  |  valid_auroc: 0.9356\n",
      "Epoch: 375 | train_loss: 0.3081 | train_bal_acc: 0.8721 | train_mcc: 0.7441 | train_auroc: 0.9424  |  valid_loss: 0.3016 | valid_bal_acc: 0.8888 | valid_mcc: 0.7776  |  valid_auroc: 0.9504\n",
      "Epoch: 376 | train_loss: 0.3054 | train_bal_acc: 0.8740 | train_mcc: 0.7484 | train_auroc: 0.9431  |  valid_loss: 0.2923 | valid_bal_acc: 0.8896 | valid_mcc: 0.7794  |  valid_auroc: 0.9515\n",
      "Epoch: 377 | train_loss: 0.3057 | train_bal_acc: 0.8751 | train_mcc: 0.7496 | train_auroc: 0.9444  |  valid_loss: 0.2808 | valid_bal_acc: 0.8965 | valid_mcc: 0.7938  |  valid_auroc: 0.9533\n",
      "Epoch: 378 | train_loss: 0.3089 | train_bal_acc: 0.8739 | train_mcc: 0.7476 | train_auroc: 0.9438  |  valid_loss: 0.2877 | valid_bal_acc: 0.8903 | valid_mcc: 0.7704  |  valid_auroc: 0.9544\n",
      "Epoch: 379 | train_loss: 0.3056 | train_bal_acc: 0.8752 | train_mcc: 0.7508 | train_auroc: 0.9440  |  valid_loss: 0.2893 | valid_bal_acc: 0.8966 | valid_mcc: 0.7945  |  valid_auroc: 0.9525\n",
      "Epoch: 380 | train_loss: 0.3094 | train_bal_acc: 0.8747 | train_mcc: 0.7495 | train_auroc: 0.9425  |  valid_loss: 0.2881 | valid_bal_acc: 0.8867 | valid_mcc: 0.7767  |  valid_auroc: 0.9505\n",
      "Epoch: 381 | train_loss: 0.3084 | train_bal_acc: 0.8735 | train_mcc: 0.7471 | train_auroc: 0.9422  |  valid_loss: 0.2885 | valid_bal_acc: 0.8883 | valid_mcc: 0.7757  |  valid_auroc: 0.9500\n",
      "Epoch: 382 | train_loss: 0.3099 | train_bal_acc: 0.8758 | train_mcc: 0.7524 | train_auroc: 0.9417  |  valid_loss: 0.3449 | valid_bal_acc: 0.8653 | valid_mcc: 0.7301  |  valid_auroc: 0.9166\n",
      "Epoch: 383 | train_loss: 0.3064 | train_bal_acc: 0.8770 | train_mcc: 0.7532 | train_auroc: 0.9434  |  valid_loss: 0.3218 | valid_bal_acc: 0.8715 | valid_mcc: 0.7393  |  valid_auroc: 0.9400\n",
      "Epoch: 384 | train_loss: 0.3065 | train_bal_acc: 0.8754 | train_mcc: 0.7502 | train_auroc: 0.9440  |  valid_loss: 0.2825 | valid_bal_acc: 0.8949 | valid_mcc: 0.7910  |  valid_auroc: 0.9529\n",
      "Epoch: 385 | train_loss: 0.3066 | train_bal_acc: 0.8744 | train_mcc: 0.7495 | train_auroc: 0.9433  |  valid_loss: 0.2866 | valid_bal_acc: 0.8964 | valid_mcc: 0.7937  |  valid_auroc: 0.9546\n",
      "Epoch: 386 | train_loss: 0.3060 | train_bal_acc: 0.8736 | train_mcc: 0.7473 | train_auroc: 0.9428  |  valid_loss: 0.3099 | valid_bal_acc: 0.8851 | valid_mcc: 0.7642  |  valid_auroc: 0.9460\n",
      "Epoch: 387 | train_loss: 0.3034 | train_bal_acc: 0.8763 | train_mcc: 0.7530 | train_auroc: 0.9446  |  valid_loss: 0.2893 | valid_bal_acc: 0.8897 | valid_mcc: 0.7806  |  valid_auroc: 0.9529\n",
      "Epoch: 388 | train_loss: 0.3026 | train_bal_acc: 0.8798 | train_mcc: 0.7593 | train_auroc: 0.9445  |  valid_loss: 0.2796 | valid_bal_acc: 0.8906 | valid_mcc: 0.7784  |  valid_auroc: 0.9540\n",
      "Epoch: 389 | train_loss: 0.3078 | train_bal_acc: 0.8737 | train_mcc: 0.7472 | train_auroc: 0.9424  |  valid_loss: 0.2882 | valid_bal_acc: 0.8799 | valid_mcc: 0.7593  |  valid_auroc: 0.9503\n",
      "Epoch: 390 | train_loss: 0.3044 | train_bal_acc: 0.8767 | train_mcc: 0.7537 | train_auroc: 0.9444  |  valid_loss: 0.2837 | valid_bal_acc: 0.8918 | valid_mcc: 0.7718  |  valid_auroc: 0.9548\n",
      "Epoch: 391 | train_loss: 0.3026 | train_bal_acc: 0.8774 | train_mcc: 0.7542 | train_auroc: 0.9451  |  valid_loss: 0.2921 | valid_bal_acc: 0.8848 | valid_mcc: 0.7685  |  valid_auroc: 0.9549\n",
      "Epoch: 392 | train_loss: 0.3077 | train_bal_acc: 0.8742 | train_mcc: 0.7473 | train_auroc: 0.9433  |  valid_loss: 0.2999 | valid_bal_acc: 0.8807 | valid_mcc: 0.7611  |  valid_auroc: 0.9488\n",
      "Epoch: 393 | train_loss: 0.3056 | train_bal_acc: 0.8759 | train_mcc: 0.7510 | train_auroc: 0.9439  |  valid_loss: 0.3017 | valid_bal_acc: 0.8811 | valid_mcc: 0.7641  |  valid_auroc: 0.9482\n",
      "Epoch: 394 | train_loss: 0.3032 | train_bal_acc: 0.8793 | train_mcc: 0.7577 | train_auroc: 0.9462  |  valid_loss: 0.3045 | valid_bal_acc: 0.8877 | valid_mcc: 0.7669  |  valid_auroc: 0.9436\n",
      "Epoch: 395 | train_loss: 0.3033 | train_bal_acc: 0.8774 | train_mcc: 0.7545 | train_auroc: 0.9447  |  valid_loss: 0.2796 | valid_bal_acc: 0.8985 | valid_mcc: 0.7964  |  valid_auroc: 0.9539\n",
      "Epoch: 396 | train_loss: 0.3028 | train_bal_acc: 0.8764 | train_mcc: 0.7528 | train_auroc: 0.9449  |  valid_loss: 0.2854 | valid_bal_acc: 0.8879 | valid_mcc: 0.7803  |  valid_auroc: 0.9555\n"
     ]
    },
    {
     "name": "stdout",
     "output_type": "stream",
     "text": [
      "Epoch: 397 | train_loss: 0.3053 | train_bal_acc: 0.8744 | train_mcc: 0.7490 | train_auroc: 0.9439  |  valid_loss: 0.3002 | valid_bal_acc: 0.8812 | valid_mcc: 0.7625  |  valid_auroc: 0.9459\n",
      "Epoch: 398 | train_loss: 0.3017 | train_bal_acc: 0.8786 | train_mcc: 0.7571 | train_auroc: 0.9457  |  valid_loss: 0.2957 | valid_bal_acc: 0.8908 | valid_mcc: 0.7806  |  valid_auroc: 0.9424\n",
      "Epoch: 399 | train_loss: 0.3046 | train_bal_acc: 0.8760 | train_mcc: 0.7517 | train_auroc: 0.9447  |  valid_loss: 0.2706 | valid_bal_acc: 0.8986 | valid_mcc: 0.7976  |  valid_auroc: 0.9542\n",
      "Epoch: 400 | train_loss: 0.3073 | train_bal_acc: 0.8733 | train_mcc: 0.7465 | train_auroc: 0.9433  |  valid_loss: 0.2836 | valid_bal_acc: 0.8919 | valid_mcc: 0.7815  |  valid_auroc: 0.9554\n",
      "Epoch: 401 | train_loss: 0.3027 | train_bal_acc: 0.8788 | train_mcc: 0.7574 | train_auroc: 0.9453  |  valid_loss: 0.2791 | valid_bal_acc: 0.8985 | valid_mcc: 0.7978  |  valid_auroc: 0.9543\n",
      "Epoch: 402 | train_loss: 0.3025 | train_bal_acc: 0.8721 | train_mcc: 0.7452 | train_auroc: 0.9449  |  valid_loss: 0.3009 | valid_bal_acc: 0.8773 | valid_mcc: 0.7548  |  valid_auroc: 0.9387\n",
      "Epoch: 403 | train_loss: 0.3067 | train_bal_acc: 0.8762 | train_mcc: 0.7528 | train_auroc: 0.9427  |  valid_loss: 0.2880 | valid_bal_acc: 0.8899 | valid_mcc: 0.7820  |  valid_auroc: 0.9528\n",
      "Epoch: 404 | train_loss: 0.2993 | train_bal_acc: 0.8778 | train_mcc: 0.7550 | train_auroc: 0.9466  |  valid_loss: 0.2907 | valid_bal_acc: 0.8848 | valid_mcc: 0.7638  |  valid_auroc: 0.9550\n",
      "Epoch: 405 | train_loss: 0.2958 | train_bal_acc: 0.8812 | train_mcc: 0.7622 | train_auroc: 0.9474  |  valid_loss: 0.2739 | valid_bal_acc: 0.8999 | valid_mcc: 0.7995  |  valid_auroc: 0.9571\n",
      "Epoch: 406 | train_loss: 0.2985 | train_bal_acc: 0.8801 | train_mcc: 0.7600 | train_auroc: 0.9477  |  valid_loss: 0.2996 | valid_bal_acc: 0.8926 | valid_mcc: 0.7827  |  valid_auroc: 0.9473\n",
      "Epoch: 407 | train_loss: 0.2988 | train_bal_acc: 0.8788 | train_mcc: 0.7579 | train_auroc: 0.9457  |  valid_loss: 0.2812 | valid_bal_acc: 0.8978 | valid_mcc: 0.7960  |  valid_auroc: 0.9548\n",
      "Epoch: 408 | train_loss: 0.2997 | train_bal_acc: 0.8755 | train_mcc: 0.7505 | train_auroc: 0.9460  |  valid_loss: 0.3232 | valid_bal_acc: 0.8741 | valid_mcc: 0.7505  |  valid_auroc: 0.9350\n",
      "Epoch: 409 | train_loss: 0.3029 | train_bal_acc: 0.8758 | train_mcc: 0.7505 | train_auroc: 0.9461  |  valid_loss: 0.2822 | valid_bal_acc: 0.8939 | valid_mcc: 0.7825  |  valid_auroc: 0.9557\n",
      "Epoch: 410 | train_loss: 0.3031 | train_bal_acc: 0.8742 | train_mcc: 0.7486 | train_auroc: 0.9449  |  valid_loss: 0.3012 | valid_bal_acc: 0.8813 | valid_mcc: 0.7639  |  valid_auroc: 0.9472\n",
      "Epoch: 411 | train_loss: 0.2994 | train_bal_acc: 0.8792 | train_mcc: 0.7574 | train_auroc: 0.9468  |  valid_loss: 0.2869 | valid_bal_acc: 0.8900 | valid_mcc: 0.7821  |  valid_auroc: 0.9523\n",
      "Epoch: 412 | train_loss: 0.2989 | train_bal_acc: 0.8799 | train_mcc: 0.7597 | train_auroc: 0.9462  |  valid_loss: 0.2855 | valid_bal_acc: 0.8925 | valid_mcc: 0.7858  |  valid_auroc: 0.9566\n",
      "Epoch: 413 | train_loss: 0.2983 | train_bal_acc: 0.8762 | train_mcc: 0.7522 | train_auroc: 0.9469  |  valid_loss: 0.2890 | valid_bal_acc: 0.8874 | valid_mcc: 0.7658  |  valid_auroc: 0.9519\n",
      "Epoch: 414 | train_loss: 0.2970 | train_bal_acc: 0.8756 | train_mcc: 0.7516 | train_auroc: 0.9476  |  valid_loss: 0.2804 | valid_bal_acc: 0.8942 | valid_mcc: 0.7664  |  valid_auroc: 0.9562\n",
      "Epoch: 415 | train_loss: 0.3018 | train_bal_acc: 0.8794 | train_mcc: 0.7574 | train_auroc: 0.9453  |  valid_loss: 0.2872 | valid_bal_acc: 0.8843 | valid_mcc: 0.7772  |  valid_auroc: 0.9493\n",
      "Epoch: 416 | train_loss: 0.2962 | train_bal_acc: 0.8795 | train_mcc: 0.7586 | train_auroc: 0.9480  |  valid_loss: 0.2732 | valid_bal_acc: 0.8920 | valid_mcc: 0.7833  |  valid_auroc: 0.9555\n",
      "Epoch: 417 | train_loss: 0.2992 | train_bal_acc: 0.8790 | train_mcc: 0.7584 | train_auroc: 0.9456  |  valid_loss: 0.2758 | valid_bal_acc: 0.8933 | valid_mcc: 0.7838  |  valid_auroc: 0.9557\n",
      "Epoch: 418 | train_loss: 0.2952 | train_bal_acc: 0.8787 | train_mcc: 0.7580 | train_auroc: 0.9469  |  valid_loss: 0.3027 | valid_bal_acc: 0.8933 | valid_mcc: 0.7829  |  valid_auroc: 0.9506\n",
      "Epoch: 419 | train_loss: 0.2930 | train_bal_acc: 0.8820 | train_mcc: 0.7651 | train_auroc: 0.9480  |  valid_loss: 0.2686 | valid_bal_acc: 0.9015 | valid_mcc: 0.8030  |  valid_auroc: 0.9573\n",
      "Epoch: 420 | train_loss: 0.2991 | train_bal_acc: 0.8770 | train_mcc: 0.7541 | train_auroc: 0.9468  |  valid_loss: 0.2864 | valid_bal_acc: 0.8897 | valid_mcc: 0.7802  |  valid_auroc: 0.9575\n",
      "Epoch: 421 | train_loss: 0.2965 | train_bal_acc: 0.8821 | train_mcc: 0.7653 | train_auroc: 0.9469  |  valid_loss: 0.3452 | valid_bal_acc: 0.8533 | valid_mcc: 0.7073  |  valid_auroc: 0.9165\n",
      "Epoch: 422 | train_loss: 0.2984 | train_bal_acc: 0.8776 | train_mcc: 0.7555 | train_auroc: 0.9473  |  valid_loss: 0.2688 | valid_bal_acc: 0.8982 | valid_mcc: 0.7963  |  valid_auroc: 0.9565\n",
      "Epoch: 423 | train_loss: 0.2954 | train_bal_acc: 0.8792 | train_mcc: 0.7588 | train_auroc: 0.9482  |  valid_loss: 0.2933 | valid_bal_acc: 0.8824 | valid_mcc: 0.7515  |  valid_auroc: 0.9580\n",
      "Epoch: 424 | train_loss: 0.2951 | train_bal_acc: 0.8799 | train_mcc: 0.7593 | train_auroc: 0.9480  |  valid_loss: 0.3025 | valid_bal_acc: 0.8784 | valid_mcc: 0.7544  |  valid_auroc: 0.9383\n",
      "Epoch: 425 | train_loss: 0.2927 | train_bal_acc: 0.8821 | train_mcc: 0.7636 | train_auroc: 0.9495  |  valid_loss: 0.2857 | valid_bal_acc: 0.8946 | valid_mcc: 0.7854  |  valid_auroc: 0.9580\n",
      "Epoch: 426 | train_loss: 0.2945 | train_bal_acc: 0.8801 | train_mcc: 0.7605 | train_auroc: 0.9475  |  valid_loss: 0.2904 | valid_bal_acc: 0.8918 | valid_mcc: 0.7876  |  valid_auroc: 0.9454\n",
      "Epoch: 427 | train_loss: 0.2944 | train_bal_acc: 0.8795 | train_mcc: 0.7585 | train_auroc: 0.9481  |  valid_loss: 0.2699 | valid_bal_acc: 0.9012 | valid_mcc: 0.8040  |  valid_auroc: 0.9576\n",
      "Epoch: 428 | train_loss: 0.2944 | train_bal_acc: 0.8821 | train_mcc: 0.7646 | train_auroc: 0.9475  |  valid_loss: 0.2941 | valid_bal_acc: 0.8859 | valid_mcc: 0.7716  |  valid_auroc: 0.9480\n",
      "Epoch: 429 | train_loss: 0.2921 | train_bal_acc: 0.8809 | train_mcc: 0.7622 | train_auroc: 0.9488  |  valid_loss: 0.2815 | valid_bal_acc: 0.8939 | valid_mcc: 0.7847  |  valid_auroc: 0.9547\n",
      "Epoch: 430 | train_loss: 0.2958 | train_bal_acc: 0.8833 | train_mcc: 0.7658 | train_auroc: 0.9477  |  valid_loss: 0.2675 | valid_bal_acc: 0.8947 | valid_mcc: 0.7836  |  valid_auroc: 0.9573\n",
      "Epoch: 431 | train_loss: 0.2927 | train_bal_acc: 0.8777 | train_mcc: 0.7554 | train_auroc: 0.9480  |  valid_loss: 0.2768 | valid_bal_acc: 0.9015 | valid_mcc: 0.8047  |  valid_auroc: 0.9564\n",
      "Epoch: 432 | train_loss: 0.2971 | train_bal_acc: 0.8800 | train_mcc: 0.7602 | train_auroc: 0.9471  |  valid_loss: 0.3122 | valid_bal_acc: 0.8784 | valid_mcc: 0.7615  |  valid_auroc: 0.9557\n",
      "Epoch: 433 | train_loss: 0.2935 | train_bal_acc: 0.8812 | train_mcc: 0.7621 | train_auroc: 0.9474  |  valid_loss: 0.2806 | valid_bal_acc: 0.8913 | valid_mcc: 0.7824  |  valid_auroc: 0.9567\n",
      "Epoch: 434 | train_loss: 0.2923 | train_bal_acc: 0.8836 | train_mcc: 0.7680 | train_auroc: 0.9487  |  valid_loss: 0.2649 | valid_bal_acc: 0.9020 | valid_mcc: 0.8044  |  valid_auroc: 0.9569\n",
      "Epoch: 435 | train_loss: 0.2953 | train_bal_acc: 0.8849 | train_mcc: 0.7693 | train_auroc: 0.9486  |  valid_loss: 0.2779 | valid_bal_acc: 0.8921 | valid_mcc: 0.7880  |  valid_auroc: 0.9576\n",
      "Epoch: 436 | train_loss: 0.2911 | train_bal_acc: 0.8823 | train_mcc: 0.7651 | train_auroc: 0.9483  |  valid_loss: 0.3090 | valid_bal_acc: 0.8659 | valid_mcc: 0.7328  |  valid_auroc: 0.9334\n",
      "Epoch: 437 | train_loss: 0.2921 | train_bal_acc: 0.8800 | train_mcc: 0.7597 | train_auroc: 0.9491  |  valid_loss: 0.2783 | valid_bal_acc: 0.8863 | valid_mcc: 0.7760  |  valid_auroc: 0.9580\n",
      "Epoch: 438 | train_loss: 0.2906 | train_bal_acc: 0.8819 | train_mcc: 0.7635 | train_auroc: 0.9488  |  valid_loss: 0.2922 | valid_bal_acc: 0.8749 | valid_mcc: 0.7491  |  valid_auroc: 0.9486\n",
      "Epoch: 439 | train_loss: 0.2956 | train_bal_acc: 0.8817 | train_mcc: 0.7633 | train_auroc: 0.9476  |  valid_loss: 0.2701 | valid_bal_acc: 0.8984 | valid_mcc: 0.7988  |  valid_auroc: 0.9569\n",
      "Epoch: 440 | train_loss: 0.2918 | train_bal_acc: 0.8814 | train_mcc: 0.7624 | train_auroc: 0.9500  |  valid_loss: 0.2988 | valid_bal_acc: 0.8935 | valid_mcc: 0.7580  |  valid_auroc: 0.9490\n"
     ]
    },
    {
     "name": "stdout",
     "output_type": "stream",
     "text": [
      "Epoch: 441 | train_loss: 0.2899 | train_bal_acc: 0.8832 | train_mcc: 0.7674 | train_auroc: 0.9505  |  valid_loss: 0.3026 | valid_bal_acc: 0.8784 | valid_mcc: 0.7623  |  valid_auroc: 0.9495\n",
      "Epoch: 442 | train_loss: 0.2928 | train_bal_acc: 0.8847 | train_mcc: 0.7698 | train_auroc: 0.9480  |  valid_loss: 0.2853 | valid_bal_acc: 0.8847 | valid_mcc: 0.7725  |  valid_auroc: 0.9547\n",
      "Epoch: 443 | train_loss: 0.2904 | train_bal_acc: 0.8846 | train_mcc: 0.7702 | train_auroc: 0.9488  |  valid_loss: 0.2744 | valid_bal_acc: 0.8925 | valid_mcc: 0.7830  |  valid_auroc: 0.9582\n",
      "Epoch: 444 | train_loss: 0.2885 | train_bal_acc: 0.8842 | train_mcc: 0.7690 | train_auroc: 0.9500  |  valid_loss: 0.3018 | valid_bal_acc: 0.8713 | valid_mcc: 0.7552  |  valid_auroc: 0.9514\n",
      "Epoch: 445 | train_loss: 0.2915 | train_bal_acc: 0.8816 | train_mcc: 0.7627 | train_auroc: 0.9493  |  valid_loss: 0.2653 | valid_bal_acc: 0.8991 | valid_mcc: 0.7989  |  valid_auroc: 0.9589\n",
      "Epoch: 446 | train_loss: 0.2873 | train_bal_acc: 0.8897 | train_mcc: 0.7791 | train_auroc: 0.9501  |  valid_loss: 0.2936 | valid_bal_acc: 0.8881 | valid_mcc: 0.7700  |  valid_auroc: 0.9497\n",
      "Epoch: 447 | train_loss: 0.2894 | train_bal_acc: 0.8871 | train_mcc: 0.7723 | train_auroc: 0.9493  |  valid_loss: 0.2759 | valid_bal_acc: 0.8947 | valid_mcc: 0.7780  |  valid_auroc: 0.9588\n",
      "Epoch: 448 | train_loss: 0.2935 | train_bal_acc: 0.8788 | train_mcc: 0.7578 | train_auroc: 0.9485  |  valid_loss: 0.2817 | valid_bal_acc: 0.8841 | valid_mcc: 0.7680  |  valid_auroc: 0.9546\n",
      "Epoch: 449 | train_loss: 0.2918 | train_bal_acc: 0.8852 | train_mcc: 0.7706 | train_auroc: 0.9478  |  valid_loss: 0.2635 | valid_bal_acc: 0.8984 | valid_mcc: 0.7977  |  valid_auroc: 0.9578\n",
      "Epoch: 450 | train_loss: 0.2892 | train_bal_acc: 0.8858 | train_mcc: 0.7710 | train_auroc: 0.9493  |  valid_loss: 0.2807 | valid_bal_acc: 0.8896 | valid_mcc: 0.7848  |  valid_auroc: 0.9535\n",
      "Epoch: 451 | train_loss: 0.2899 | train_bal_acc: 0.8861 | train_mcc: 0.7723 | train_auroc: 0.9494  |  valid_loss: 0.2882 | valid_bal_acc: 0.8694 | valid_mcc: 0.7391  |  valid_auroc: 0.9396\n",
      "Epoch: 452 | train_loss: 0.2943 | train_bal_acc: 0.8818 | train_mcc: 0.7617 | train_auroc: 0.9476  |  valid_loss: 0.2737 | valid_bal_acc: 0.8840 | valid_mcc: 0.7794  |  valid_auroc: 0.9593\n",
      "Epoch: 453 | train_loss: 0.2866 | train_bal_acc: 0.8854 | train_mcc: 0.7700 | train_auroc: 0.9506  |  valid_loss: 0.2623 | valid_bal_acc: 0.9014 | valid_mcc: 0.8033  |  valid_auroc: 0.9576\n",
      "Epoch: 454 | train_loss: 0.2907 | train_bal_acc: 0.8859 | train_mcc: 0.7702 | train_auroc: 0.9490  |  valid_loss: 0.2834 | valid_bal_acc: 0.8902 | valid_mcc: 0.7668  |  valid_auroc: 0.9538\n",
      "Epoch: 455 | train_loss: 0.2883 | train_bal_acc: 0.8854 | train_mcc: 0.7709 | train_auroc: 0.9502  |  valid_loss: 0.2722 | valid_bal_acc: 0.8870 | valid_mcc: 0.7719  |  valid_auroc: 0.9605\n",
      "Epoch: 456 | train_loss: 0.2884 | train_bal_acc: 0.8855 | train_mcc: 0.7710 | train_auroc: 0.9500  |  valid_loss: 0.2802 | valid_bal_acc: 0.8751 | valid_mcc: 0.7507  |  valid_auroc: 0.9521\n",
      "Epoch: 457 | train_loss: 0.2863 | train_bal_acc: 0.8900 | train_mcc: 0.7819 | train_auroc: 0.9513  |  valid_loss: 0.3435 | valid_bal_acc: 0.8647 | valid_mcc: 0.7309  |  valid_auroc: 0.9247\n",
      "Epoch: 458 | train_loss: 0.2920 | train_bal_acc: 0.8831 | train_mcc: 0.7659 | train_auroc: 0.9494  |  valid_loss: 0.2850 | valid_bal_acc: 0.8829 | valid_mcc: 0.7659  |  valid_auroc: 0.9525\n",
      "Epoch: 459 | train_loss: 0.2876 | train_bal_acc: 0.8888 | train_mcc: 0.7751 | train_auroc: 0.9516  |  valid_loss: 0.2666 | valid_bal_acc: 0.8998 | valid_mcc: 0.7995  |  valid_auroc: 0.9595\n",
      "Epoch: 460 | train_loss: 0.2873 | train_bal_acc: 0.8874 | train_mcc: 0.7747 | train_auroc: 0.9514  |  valid_loss: 0.2693 | valid_bal_acc: 0.9006 | valid_mcc: 0.8013  |  valid_auroc: 0.9600\n",
      "Epoch: 461 | train_loss: 0.2873 | train_bal_acc: 0.8860 | train_mcc: 0.7722 | train_auroc: 0.9498  |  valid_loss: 0.2754 | valid_bal_acc: 0.8913 | valid_mcc: 0.7865  |  valid_auroc: 0.9593\n",
      "Epoch: 462 | train_loss: 0.2866 | train_bal_acc: 0.8866 | train_mcc: 0.7734 | train_auroc: 0.9515  |  valid_loss: 0.2635 | valid_bal_acc: 0.8947 | valid_mcc: 0.7834  |  valid_auroc: 0.9602\n",
      "Epoch: 463 | train_loss: 0.2860 | train_bal_acc: 0.8873 | train_mcc: 0.7736 | train_auroc: 0.9524  |  valid_loss: 0.2775 | valid_bal_acc: 0.8945 | valid_mcc: 0.7860  |  valid_auroc: 0.9611\n",
      "Epoch: 464 | train_loss: 0.2851 | train_bal_acc: 0.8871 | train_mcc: 0.7737 | train_auroc: 0.9518  |  valid_loss: 0.2695 | valid_bal_acc: 0.8887 | valid_mcc: 0.7846  |  valid_auroc: 0.9591\n",
      "Epoch: 465 | train_loss: 0.2842 | train_bal_acc: 0.8900 | train_mcc: 0.7796 | train_auroc: 0.9522  |  valid_loss: 0.2640 | valid_bal_acc: 0.8998 | valid_mcc: 0.8004  |  valid_auroc: 0.9581\n",
      "Epoch: 466 | train_loss: 0.2881 | train_bal_acc: 0.8849 | train_mcc: 0.7702 | train_auroc: 0.9501  |  valid_loss: 0.2911 | valid_bal_acc: 0.8853 | valid_mcc: 0.7694  |  valid_auroc: 0.9475\n",
      "Epoch: 467 | train_loss: 0.2874 | train_bal_acc: 0.8859 | train_mcc: 0.7721 | train_auroc: 0.9493  |  valid_loss: 0.2582 | valid_bal_acc: 0.9003 | valid_mcc: 0.8014  |  valid_auroc: 0.9588\n",
      "Epoch: 468 | train_loss: 0.2837 | train_bal_acc: 0.8863 | train_mcc: 0.7732 | train_auroc: 0.9509  |  valid_loss: 0.2712 | valid_bal_acc: 0.8937 | valid_mcc: 0.7860  |  valid_auroc: 0.9560\n",
      "Epoch: 469 | train_loss: 0.2849 | train_bal_acc: 0.8848 | train_mcc: 0.7694 | train_auroc: 0.9515  |  valid_loss: 0.2707 | valid_bal_acc: 0.8930 | valid_mcc: 0.7870  |  valid_auroc: 0.9569\n",
      "Epoch: 470 | train_loss: 0.2865 | train_bal_acc: 0.8863 | train_mcc: 0.7725 | train_auroc: 0.9508  |  valid_loss: 0.2590 | valid_bal_acc: 0.9020 | valid_mcc: 0.8053  |  valid_auroc: 0.9593\n",
      "Epoch: 471 | train_loss: 0.2846 | train_bal_acc: 0.8911 | train_mcc: 0.7830 | train_auroc: 0.9515  |  valid_loss: 0.2778 | valid_bal_acc: 0.8792 | valid_mcc: 0.7594  |  valid_auroc: 0.9550\n",
      "Epoch: 472 | train_loss: 0.2815 | train_bal_acc: 0.8871 | train_mcc: 0.7750 | train_auroc: 0.9517  |  valid_loss: 0.2640 | valid_bal_acc: 0.9011 | valid_mcc: 0.8021  |  valid_auroc: 0.9593\n",
      "Epoch: 473 | train_loss: 0.2852 | train_bal_acc: 0.8895 | train_mcc: 0.7780 | train_auroc: 0.9513  |  valid_loss: 0.2627 | valid_bal_acc: 0.9019 | valid_mcc: 0.8052  |  valid_auroc: 0.9593\n",
      "Epoch: 474 | train_loss: 0.2823 | train_bal_acc: 0.8922 | train_mcc: 0.7851 | train_auroc: 0.9527  |  valid_loss: 0.2718 | valid_bal_acc: 0.8938 | valid_mcc: 0.7871  |  valid_auroc: 0.9615\n",
      "Epoch: 475 | train_loss: 0.2815 | train_bal_acc: 0.8889 | train_mcc: 0.7777 | train_auroc: 0.9519  |  valid_loss: 0.2658 | valid_bal_acc: 0.8938 | valid_mcc: 0.7862  |  valid_auroc: 0.9581\n",
      "Epoch: 476 | train_loss: 0.2831 | train_bal_acc: 0.8880 | train_mcc: 0.7763 | train_auroc: 0.9514  |  valid_loss: 0.2548 | valid_bal_acc: 0.9012 | valid_mcc: 0.8029  |  valid_auroc: 0.9582\n",
      "Epoch: 477 | train_loss: 0.2827 | train_bal_acc: 0.8870 | train_mcc: 0.7756 | train_auroc: 0.9533  |  valid_loss: 0.2750 | valid_bal_acc: 0.8854 | valid_mcc: 0.7723  |  valid_auroc: 0.9576\n",
      "Epoch: 478 | train_loss: 0.2804 | train_bal_acc: 0.8877 | train_mcc: 0.7751 | train_auroc: 0.9529  |  valid_loss: 0.2563 | valid_bal_acc: 0.8998 | valid_mcc: 0.8023  |  valid_auroc: 0.9595\n",
      "Epoch: 479 | train_loss: 0.2829 | train_bal_acc: 0.8893 | train_mcc: 0.7785 | train_auroc: 0.9513  |  valid_loss: 0.2616 | valid_bal_acc: 0.8927 | valid_mcc: 0.7874  |  valid_auroc: 0.9612\n",
      "Epoch: 480 | train_loss: 0.2815 | train_bal_acc: 0.8907 | train_mcc: 0.7817 | train_auroc: 0.9529  |  valid_loss: 0.2701 | valid_bal_acc: 0.8909 | valid_mcc: 0.7886  |  valid_auroc: 0.9618\n",
      "Epoch: 481 | train_loss: 0.2820 | train_bal_acc: 0.8867 | train_mcc: 0.7738 | train_auroc: 0.9527  |  valid_loss: 0.2683 | valid_bal_acc: 0.8798 | valid_mcc: 0.7617  |  valid_auroc: 0.9570\n",
      "Epoch: 482 | train_loss: 0.2786 | train_bal_acc: 0.8924 | train_mcc: 0.7848 | train_auroc: 0.9539  |  valid_loss: 0.2868 | valid_bal_acc: 0.8787 | valid_mcc: 0.7592  |  valid_auroc: 0.9501\n",
      "Epoch: 483 | train_loss: 0.2824 | train_bal_acc: 0.8876 | train_mcc: 0.7748 | train_auroc: 0.9527  |  valid_loss: 0.2703 | valid_bal_acc: 0.8933 | valid_mcc: 0.7892  |  valid_auroc: 0.9599\n",
      "Epoch: 484 | train_loss: 0.2815 | train_bal_acc: 0.8870 | train_mcc: 0.7741 | train_auroc: 0.9527  |  valid_loss: 0.2560 | valid_bal_acc: 0.9022 | valid_mcc: 0.8039  |  valid_auroc: 0.9605\n"
     ]
    },
    {
     "name": "stdout",
     "output_type": "stream",
     "text": [
      "Epoch: 485 | train_loss: 0.2809 | train_bal_acc: 0.8882 | train_mcc: 0.7764 | train_auroc: 0.9530  |  valid_loss: 0.2577 | valid_bal_acc: 0.9027 | valid_mcc: 0.8056  |  valid_auroc: 0.9612\n",
      "Epoch: 486 | train_loss: 0.2823 | train_bal_acc: 0.8901 | train_mcc: 0.7800 | train_auroc: 0.9530  |  valid_loss: 0.2939 | valid_bal_acc: 0.8973 | valid_mcc: 0.7930  |  valid_auroc: 0.9515\n",
      "Epoch: 487 | train_loss: 0.2793 | train_bal_acc: 0.8881 | train_mcc: 0.7777 | train_auroc: 0.9531  |  valid_loss: 0.2727 | valid_bal_acc: 0.8853 | valid_mcc: 0.7711  |  valid_auroc: 0.9582\n",
      "Epoch: 488 | train_loss: 0.2762 | train_bal_acc: 0.8906 | train_mcc: 0.7813 | train_auroc: 0.9540  |  valid_loss: 0.2857 | valid_bal_acc: 0.8842 | valid_mcc: 0.7690  |  valid_auroc: 0.9513\n",
      "Epoch: 489 | train_loss: 0.2788 | train_bal_acc: 0.8886 | train_mcc: 0.7781 | train_auroc: 0.9535  |  valid_loss: 0.2555 | valid_bal_acc: 0.9026 | valid_mcc: 0.8056  |  valid_auroc: 0.9608\n",
      "Epoch: 490 | train_loss: 0.2822 | train_bal_acc: 0.8930 | train_mcc: 0.7852 | train_auroc: 0.9517  |  valid_loss: 0.2657 | valid_bal_acc: 0.8956 | valid_mcc: 0.7914  |  valid_auroc: 0.9614\n",
      "Epoch: 491 | train_loss: 0.2847 | train_bal_acc: 0.8877 | train_mcc: 0.7753 | train_auroc: 0.9518  |  valid_loss: 0.2764 | valid_bal_acc: 0.8937 | valid_mcc: 0.7803  |  valid_auroc: 0.9606\n",
      "Epoch: 492 | train_loss: 0.2820 | train_bal_acc: 0.8886 | train_mcc: 0.7769 | train_auroc: 0.9524  |  valid_loss: 0.2685 | valid_bal_acc: 0.8959 | valid_mcc: 0.7927  |  valid_auroc: 0.9609\n",
      "Epoch: 493 | train_loss: 0.2778 | train_bal_acc: 0.8927 | train_mcc: 0.7851 | train_auroc: 0.9532  |  valid_loss: 0.2792 | valid_bal_acc: 0.8890 | valid_mcc: 0.7769  |  valid_auroc: 0.9542\n",
      "Epoch: 494 | train_loss: 0.2820 | train_bal_acc: 0.8879 | train_mcc: 0.7758 | train_auroc: 0.9517  |  valid_loss: 0.2573 | valid_bal_acc: 0.9057 | valid_mcc: 0.8112  |  valid_auroc: 0.9607\n",
      "Epoch: 495 | train_loss: 0.2797 | train_bal_acc: 0.8901 | train_mcc: 0.7804 | train_auroc: 0.9520  |  valid_loss: 0.2522 | valid_bal_acc: 0.9019 | valid_mcc: 0.8034  |  valid_auroc: 0.9607\n",
      "Epoch: 496 | train_loss: 0.2799 | train_bal_acc: 0.8920 | train_mcc: 0.7830 | train_auroc: 0.9533  |  valid_loss: 0.2888 | valid_bal_acc: 0.8688 | valid_mcc: 0.7356  |  valid_auroc: 0.9446\n",
      "Epoch: 497 | train_loss: 0.2816 | train_bal_acc: 0.8904 | train_mcc: 0.7811 | train_auroc: 0.9513  |  valid_loss: 0.2641 | valid_bal_acc: 0.9019 | valid_mcc: 0.8044  |  valid_auroc: 0.9605\n",
      "Epoch: 498 | train_loss: 0.2802 | train_bal_acc: 0.8913 | train_mcc: 0.7827 | train_auroc: 0.9526  |  valid_loss: 0.2666 | valid_bal_acc: 0.8971 | valid_mcc: 0.7973  |  valid_auroc: 0.9615\n",
      "Epoch: 499 | train_loss: 0.2792 | train_bal_acc: 0.8888 | train_mcc: 0.7778 | train_auroc: 0.9525  |  valid_loss: 0.2672 | valid_bal_acc: 0.8912 | valid_mcc: 0.7862  |  valid_auroc: 0.9586\n",
      "Epoch: 500 | train_loss: 0.2794 | train_bal_acc: 0.8901 | train_mcc: 0.7804 | train_auroc: 0.9533  |  valid_loss: 0.2606 | valid_bal_acc: 0.8904 | valid_mcc: 0.7903  |  valid_auroc: 0.9601\n",
      "Epoch: 501 | train_loss: 0.2799 | train_bal_acc: 0.8916 | train_mcc: 0.7820 | train_auroc: 0.9516  |  valid_loss: 0.2528 | valid_bal_acc: 0.9056 | valid_mcc: 0.8094  |  valid_auroc: 0.9612\n",
      "Epoch: 502 | train_loss: 0.2845 | train_bal_acc: 0.8906 | train_mcc: 0.7817 | train_auroc: 0.9514  |  valid_loss: 0.2730 | valid_bal_acc: 0.8817 | valid_mcc: 0.7760  |  valid_auroc: 0.9616\n",
      "Epoch: 503 | train_loss: 0.2786 | train_bal_acc: 0.8910 | train_mcc: 0.7817 | train_auroc: 0.9528  |  valid_loss: 0.2676 | valid_bal_acc: 0.8993 | valid_mcc: 0.7921  |  valid_auroc: 0.9574\n",
      "Epoch: 504 | train_loss: 0.2802 | train_bal_acc: 0.8906 | train_mcc: 0.7811 | train_auroc: 0.9525  |  valid_loss: 0.2926 | valid_bal_acc: 0.8759 | valid_mcc: 0.7528  |  valid_auroc: 0.9457\n",
      "Epoch: 505 | train_loss: 0.2771 | train_bal_acc: 0.8874 | train_mcc: 0.7761 | train_auroc: 0.9538  |  valid_loss: 0.2860 | valid_bal_acc: 0.8863 | valid_mcc: 0.7721  |  valid_auroc: 0.9501\n",
      "Epoch: 506 | train_loss: 0.2773 | train_bal_acc: 0.8921 | train_mcc: 0.7816 | train_auroc: 0.9551  |  valid_loss: 0.2554 | valid_bal_acc: 0.9048 | valid_mcc: 0.8108  |  valid_auroc: 0.9608\n",
      "Epoch: 507 | train_loss: 0.2774 | train_bal_acc: 0.8903 | train_mcc: 0.7807 | train_auroc: 0.9538  |  valid_loss: 0.2672 | valid_bal_acc: 0.8911 | valid_mcc: 0.7820  |  valid_auroc: 0.9561\n",
      "Epoch: 508 | train_loss: 0.2796 | train_bal_acc: 0.8922 | train_mcc: 0.7838 | train_auroc: 0.9520  |  valid_loss: 0.2854 | valid_bal_acc: 0.8885 | valid_mcc: 0.7775  |  valid_auroc: 0.9527\n",
      "Epoch: 509 | train_loss: 0.2750 | train_bal_acc: 0.8943 | train_mcc: 0.7879 | train_auroc: 0.9552  |  valid_loss: 0.2687 | valid_bal_acc: 0.8965 | valid_mcc: 0.7963  |  valid_auroc: 0.9562\n",
      "Epoch: 510 | train_loss: 0.2730 | train_bal_acc: 0.8907 | train_mcc: 0.7815 | train_auroc: 0.9554  |  valid_loss: 0.2669 | valid_bal_acc: 0.8869 | valid_mcc: 0.7722  |  valid_auroc: 0.9565\n",
      "Epoch: 511 | train_loss: 0.2758 | train_bal_acc: 0.8911 | train_mcc: 0.7823 | train_auroc: 0.9548  |  valid_loss: 0.2625 | valid_bal_acc: 0.8953 | valid_mcc: 0.7815  |  valid_auroc: 0.9615\n",
      "Epoch: 512 | train_loss: 0.2762 | train_bal_acc: 0.8922 | train_mcc: 0.7834 | train_auroc: 0.9547  |  valid_loss: 0.2783 | valid_bal_acc: 0.8985 | valid_mcc: 0.7979  |  valid_auroc: 0.9521\n",
      "Epoch: 513 | train_loss: 0.2772 | train_bal_acc: 0.8934 | train_mcc: 0.7865 | train_auroc: 0.9541  |  valid_loss: 0.2767 | valid_bal_acc: 0.8901 | valid_mcc: 0.7839  |  valid_auroc: 0.9551\n",
      "Epoch: 514 | train_loss: 0.2777 | train_bal_acc: 0.8919 | train_mcc: 0.7840 | train_auroc: 0.9532  |  valid_loss: 0.2567 | valid_bal_acc: 0.9009 | valid_mcc: 0.7964  |  valid_auroc: 0.9627\n",
      "Epoch: 515 | train_loss: 0.2737 | train_bal_acc: 0.8952 | train_mcc: 0.7907 | train_auroc: 0.9547  |  valid_loss: 0.2542 | valid_bal_acc: 0.8982 | valid_mcc: 0.7976  |  valid_auroc: 0.9634\n",
      "Epoch: 516 | train_loss: 0.2746 | train_bal_acc: 0.8903 | train_mcc: 0.7805 | train_auroc: 0.9545  |  valid_loss: 0.2551 | valid_bal_acc: 0.9064 | valid_mcc: 0.8137  |  valid_auroc: 0.9626\n",
      "Epoch: 517 | train_loss: 0.2778 | train_bal_acc: 0.8926 | train_mcc: 0.7864 | train_auroc: 0.9536  |  valid_loss: 0.2722 | valid_bal_acc: 0.8925 | valid_mcc: 0.7852  |  valid_auroc: 0.9627\n",
      "Epoch: 518 | train_loss: 0.2767 | train_bal_acc: 0.8921 | train_mcc: 0.7844 | train_auroc: 0.9538  |  valid_loss: 0.2582 | valid_bal_acc: 0.9001 | valid_mcc: 0.7982  |  valid_auroc: 0.9618\n",
      "Epoch: 519 | train_loss: 0.2731 | train_bal_acc: 0.8933 | train_mcc: 0.7856 | train_auroc: 0.9559  |  valid_loss: 0.2594 | valid_bal_acc: 0.9063 | valid_mcc: 0.8137  |  valid_auroc: 0.9636\n",
      "Epoch: 520 | train_loss: 0.2741 | train_bal_acc: 0.8913 | train_mcc: 0.7811 | train_auroc: 0.9549  |  valid_loss: 0.2805 | valid_bal_acc: 0.8826 | valid_mcc: 0.7637  |  valid_auroc: 0.9565\n",
      "Epoch: 521 | train_loss: 0.2762 | train_bal_acc: 0.8920 | train_mcc: 0.7845 | train_auroc: 0.9539  |  valid_loss: 0.2763 | valid_bal_acc: 0.8982 | valid_mcc: 0.7917  |  valid_auroc: 0.9583\n",
      "Epoch: 522 | train_loss: 0.2748 | train_bal_acc: 0.8911 | train_mcc: 0.7821 | train_auroc: 0.9552  |  valid_loss: 0.2762 | valid_bal_acc: 0.8854 | valid_mcc: 0.7719  |  valid_auroc: 0.9507\n",
      "Epoch: 523 | train_loss: 0.2746 | train_bal_acc: 0.8935 | train_mcc: 0.7869 | train_auroc: 0.9542  |  valid_loss: 0.2951 | valid_bal_acc: 0.8881 | valid_mcc: 0.7770  |  valid_auroc: 0.9586\n",
      "Epoch: 524 | train_loss: 0.2745 | train_bal_acc: 0.8918 | train_mcc: 0.7836 | train_auroc: 0.9547  |  valid_loss: 0.2814 | valid_bal_acc: 0.8842 | valid_mcc: 0.7808  |  valid_auroc: 0.9588\n",
      "Epoch: 525 | train_loss: 0.2764 | train_bal_acc: 0.8927 | train_mcc: 0.7859 | train_auroc: 0.9540  |  valid_loss: 0.2609 | valid_bal_acc: 0.9066 | valid_mcc: 0.8131  |  valid_auroc: 0.9629\n",
      "Epoch: 526 | train_loss: 0.2720 | train_bal_acc: 0.8921 | train_mcc: 0.7848 | train_auroc: 0.9557  |  valid_loss: 0.2526 | valid_bal_acc: 0.9004 | valid_mcc: 0.7942  |  valid_auroc: 0.9615\n",
      "Epoch: 527 | train_loss: 0.2747 | train_bal_acc: 0.8949 | train_mcc: 0.7890 | train_auroc: 0.9542  |  valid_loss: 0.2607 | valid_bal_acc: 0.8989 | valid_mcc: 0.7986  |  valid_auroc: 0.9624\n",
      "Epoch: 528 | train_loss: 0.2729 | train_bal_acc: 0.8945 | train_mcc: 0.7902 | train_auroc: 0.9555  |  valid_loss: 0.2578 | valid_bal_acc: 0.9068 | valid_mcc: 0.8146  |  valid_auroc: 0.9627\n"
     ]
    },
    {
     "name": "stdout",
     "output_type": "stream",
     "text": [
      "Epoch: 529 | train_loss: 0.2734 | train_bal_acc: 0.8939 | train_mcc: 0.7879 | train_auroc: 0.9564  |  valid_loss: 0.2698 | valid_bal_acc: 0.9017 | valid_mcc: 0.8007  |  valid_auroc: 0.9600\n",
      "Epoch: 530 | train_loss: 0.2729 | train_bal_acc: 0.8907 | train_mcc: 0.7807 | train_auroc: 0.9544  |  valid_loss: 0.2609 | valid_bal_acc: 0.8997 | valid_mcc: 0.8011  |  valid_auroc: 0.9591\n",
      "Epoch: 531 | train_loss: 0.2737 | train_bal_acc: 0.8935 | train_mcc: 0.7883 | train_auroc: 0.9543  |  valid_loss: 0.2620 | valid_bal_acc: 0.8984 | valid_mcc: 0.8000  |  valid_auroc: 0.9630\n",
      "Epoch: 532 | train_loss: 0.2762 | train_bal_acc: 0.8942 | train_mcc: 0.7888 | train_auroc: 0.9533  |  valid_loss: 0.2554 | valid_bal_acc: 0.9060 | valid_mcc: 0.8149  |  valid_auroc: 0.9620\n",
      "Epoch: 533 | train_loss: 0.2705 | train_bal_acc: 0.8980 | train_mcc: 0.7963 | train_auroc: 0.9558  |  valid_loss: 0.2820 | valid_bal_acc: 0.8911 | valid_mcc: 0.7736  |  valid_auroc: 0.9629\n",
      "Epoch: 534 | train_loss: 0.2690 | train_bal_acc: 0.8963 | train_mcc: 0.7938 | train_auroc: 0.9567  |  valid_loss: 0.2716 | valid_bal_acc: 0.9004 | valid_mcc: 0.7949  |  valid_auroc: 0.9595\n",
      "Epoch: 535 | train_loss: 0.2731 | train_bal_acc: 0.8916 | train_mcc: 0.7826 | train_auroc: 0.9545  |  valid_loss: 0.2571 | valid_bal_acc: 0.9072 | valid_mcc: 0.8152  |  valid_auroc: 0.9622\n",
      "Early stopping after 535 epochs\n"
     ]
    }
   ],
   "source": [
    "results, _ = engine_boosted.train_with_early_stopping(model=model,\n",
    "                                                  train_dataloader=train_loader,\n",
    "                                                  valid_dataloader=val_loader,\n",
    "                                                  optimizer=optimizer,\n",
    "                                                  loss_fn=loss_fn,\n",
    "                                                  epochs=10000,\n",
    "                                                  device=device)\n"
   ]
  },
  {
   "cell_type": "code",
   "execution_count": 142,
   "id": "377b935b",
   "metadata": {},
   "outputs": [
    {
     "data": {
      "text/plain": [
       "range(0, 535)"
      ]
     },
     "execution_count": 142,
     "metadata": {},
     "output_type": "execute_result"
    }
   ],
   "source": [
    "range(len(results[\"train_loss\"]))"
   ]
  },
  {
   "cell_type": "code",
   "execution_count": 143,
   "id": "879ac77f",
   "metadata": {},
   "outputs": [
    {
     "data": {
      "image/png": "[encoded data removed]",
      "text/plain": [
       "<Figure size 1500x700 with 2 Axes>"
      ]
     },
     "metadata": {},
     "output_type": "display_data"
    }
   ],
   "source": [
    "helper_functions.plot_loss_curves(results)\n",
    "#plt.savefig(f'All_TFs_CNN1_ADAM_BCEWithLogits_KERNEL=10_seq=200b.png')"
   ]
  },
  {
   "cell_type": "code",
   "execution_count": 144,
   "id": "c995dcf3",
   "metadata": {},
   "outputs": [
    {
     "data": {
      "image/png": "[encoded data removed]",
      "text/plain": [
       "<Figure size 640x480 with 1 Axes>"
      ]
     },
     "metadata": {},
     "output_type": "display_data"
    }
   ],
   "source": [
    "helper_functions.plot_auroc(results)"
   ]
  },
  {
   "cell_type": "code",
   "execution_count": 145,
   "id": "a84d4ad9",
   "metadata": {},
   "outputs": [
    {
     "data": {
      "image/png": "[encoded data removed]",
      "text/plain": [
       "<Figure size 640x480 with 1 Axes>"
      ]
     },
     "metadata": {},
     "output_type": "display_data"
    }
   ],
   "source": [
    "helper_functions.plot_f_score(results)"
   ]
  },
  {
   "cell_type": "code",
   "execution_count": 146,
   "id": "fbff03bf",
   "metadata": {},
   "outputs": [],
   "source": [
    "test_results = engine_boosted.test_step(model = model,\n",
    "                                        dataloader = test_loader,\n",
    "                                        loss_fn = loss_fn,\n",
    "                                        device =device)"
   ]
  },
  {
   "cell_type": "code",
   "execution_count": 147,
   "id": "35eeed82",
   "metadata": {},
   "outputs": [
    {
     "name": "stdout",
     "output_type": "stream",
     "text": [
      "Performance on held out test set\n",
      "Test loss: 0.31245987862348557  | Test bal acc 0.8695227458791269 |Test mcc 0.739661665546376 | Test_f_score 0.8701805227577982 | Test auroc 0.9395498633384705\n"
     ]
    }
   ],
   "source": [
    "# Unpack the values\n",
    "test_loss, test_bal_acc, test_mcc, test_f_score, test_auroc = test_results\n",
    "\n",
    "print(\"Performance on held out test set\")\n",
    "print(f'Test loss: {float(test_loss)}  | Test bal acc {float(test_bal_acc)} |\\\n",
    "Test mcc {float(test_mcc)} | Test_f_score {float(test_f_score)} | Test auroc {float(test_auroc)}')   \n",
    "    "
   ]
  },
  {
   "cell_type": "code",
   "execution_count": 148,
   "id": "a521aeeb",
   "metadata": {},
   "outputs": [],
   "source": [
    "\n",
    "def test_step2(model: torch.nn.Module,\n",
    "              dataloader: torch.utils.data.DataLoader,\n",
    "              loss_fn: torch.nn.Module,\n",
    "              device: torch.device) -> Tuple[float, float, float, float, float, int, Tuple[int, int, int, int]]:\n",
    "    \"\"\"Tests a PyTorch model for a single epoch.\n",
    "\n",
    "    Turns a target PyTorch model to \"eval\" mode and then performs\n",
    "    a forward pass on a testing dataset.\n",
    "\n",
    "    Args:\n",
    "    model: A PyTorch model to be tested.\n",
    "    dataloader: A DataLoader instance for the model to be tested on.\n",
    "    loss_fn: A PyTorch loss function to calculate loss on the test data.\n",
    "    device: A target device to compute on (e.g. \"cuda\" or \"cpu\").\n",
    "\n",
    "    Returns:\n",
    "    A tuple of testing loss, testing metrics, total length of the DataLoader, and confusion matrix values.\n",
    "    In the form (test_loss, test_bal_acc, test_mcc, test_f_score, test_auroc, total_length, confusion_matrix_values).\n",
    "    For example:\n",
    "\n",
    "    (0.0223, 0.8985, 0.85, 0.9, 0.95, 1000, (100, 50, 20, 830))\n",
    "    \"\"\"\n",
    "    # Put model in eval mode\n",
    "    model.eval()\n",
    "\n",
    "    # Setup test loss and test metric values\n",
    "    test_loss, test_bal_acc, test_mcc, test_f_score, test_auroc = 0, 0, 0, 0, 0\n",
    "\n",
    "    # Track true positives, true negatives, false positives, false negatives\n",
    "    all_true_labels = []\n",
    "    all_pred_labels = []\n",
    "\n",
    "    # Turn on inference context manager\n",
    "    with torch.inference_mode():\n",
    "        # Loop through DataLoader batches\n",
    "        for batch, (X, y_one_hot, y) in enumerate(dataloader):\n",
    "            # Send data to target device\n",
    "            X, y_one_hot, y = X.to(device), y_one_hot.to(device), y.to(device)\n",
    "\n",
    "            # 1. Forward pass\n",
    "            test_pred_logits = model(X)\n",
    "\n",
    "            # 2. Calculate and accumulate loss\n",
    "            loss = loss_fn(test_pred_logits, y_one_hot)\n",
    "            test_loss += loss.item()\n",
    "\n",
    "            # Calculate and accumulate metrics\n",
    "            test_pred_labels = test_pred_logits.argmax(dim=1)\n",
    "            test_bal_acc += balanced_accuracy_score(y.cpu().numpy(), test_pred_labels.cpu().numpy())\n",
    "            test_mcc += matthews_corrcoef(y.cpu().numpy(), test_pred_labels.cpu().numpy())\n",
    "            test_f_score += f1_score(y.cpu().numpy(), test_pred_labels.cpu().numpy(), average='weighted')\n",
    "            test_auroc += multiclass_auroc(test_pred_logits, y.squeeze(), num_classes=2)\n",
    "\n",
    "            # Track true labels and predicted labels\n",
    "            all_true_labels.extend(y.cpu().numpy())\n",
    "            all_pred_labels.extend(test_pred_labels.cpu().numpy())\n",
    "\n",
    "    # Calculate confusion matrix\n",
    "    confusion_matrix_values = confusion_matrix(all_true_labels, all_pred_labels).ravel()\n",
    "\n",
    "    # Adjust metrics to get average loss and metrics per batch\n",
    "    total_length = len(dataloader.dataset)\n",
    "    test_loss = test_loss / len(dataloader)\n",
    "    test_bal_acc = test_bal_acc / len(dataloader)\n",
    "    test_mcc = test_mcc / len(dataloader)\n",
    "    test_f_score = test_f_score / len(dataloader)\n",
    "    test_auroc = test_auroc / len(dataloader)\n",
    "\n",
    "    return test_loss, test_bal_acc, test_mcc, test_f_score, test_auroc, total_length, confusion_matrix_values"
   ]
  },
  {
   "cell_type": "code",
   "execution_count": 149,
   "id": "e5073132",
   "metadata": {},
   "outputs": [],
   "source": [
    "from typing import List\n",
    "\n",
    "def calculate_metrics_at_thresholds(model, dataloader, loss_fn, device, thresholds: List[float]):\n",
    "    # Put model in eval mode\n",
    "    model.eval()\n",
    "\n",
    "    # Placeholder for results at different thresholds\n",
    "    results_at_thresholds = []\n",
    "\n",
    "    for threshold in thresholds:\n",
    "        # Setup test loss and test metric values for the current threshold\n",
    "        test_loss, test_bal_acc, test_mcc, test_f_score, test_auroc = 0, 0, 0, 0, 0\n",
    "\n",
    "        # Track true positives, true negatives, false positives, false negatives\n",
    "        all_true_labels = []\n",
    "        all_pred_labels = []\n",
    "\n",
    "        # Turn on inference context manager\n",
    "        with torch.inference_mode():\n",
    "            # Loop through DataLoader batches\n",
    "            for batch, (X, y_one_hot, y) in enumerate(dataloader):\n",
    "                # Send data to target device\n",
    "                X, y_one_hot, y = X.to(device), y_one_hot.to(device), y.to(device)\n",
    "\n",
    "                # 1. Forward pass\n",
    "                test_pred_logits = model(X)\n",
    "\n",
    "                # 2. Apply threshold to predicted probabilities\n",
    "                test_pred_probs = torch.sigmoid(test_pred_logits)\n",
    "                test_pred_labels = (test_pred_probs > threshold).float()\n",
    "                test_pred_labels = np.argmax(test_pred_labels, axis=1)\n",
    "\n",
    "                # 3. Calculate and accumulate loss\n",
    "                loss = loss_fn(test_pred_logits, y_one_hot)\n",
    "                test_loss += loss.item()\n",
    "\n",
    "                # Calculate and accumulate metrics\n",
    "                test_bal_acc += balanced_accuracy_score(y.cpu().numpy(), test_pred_labels.cpu().numpy(),)\n",
    "                test_mcc += matthews_corrcoef(y.cpu().numpy(), test_pred_labels.cpu().numpy())\n",
    "                test_f_score += f1_score(y.cpu().numpy(), test_pred_labels.cpu().numpy(), average='weighted')\n",
    "                test_auroc += multiclass_auroc(test_pred_logits, y.squeeze(), num_classes=2)\n",
    "\n",
    "                # Track true labels and predicted labels\n",
    "                all_true_labels.extend(y.cpu().numpy())\n",
    "                all_pred_labels.extend(test_pred_labels.cpu().numpy())\n",
    "\n",
    "        # Calculate confusion matrix\n",
    "        confusion_matrix_values = confusion_matrix(all_true_labels, all_pred_labels).ravel()\n",
    "\n",
    "        # Adjust metrics to get average loss and metrics per batch\n",
    "        total_length = len(dataloader.dataset)\n",
    "        test_loss = test_loss / len(dataloader)\n",
    "        test_bal_acc = test_bal_acc / len(dataloader)\n",
    "        test_mcc = test_mcc / len(dataloader)\n",
    "        test_f_score = test_f_score / len(dataloader)\n",
    "        test_auroc = test_auroc / len(dataloader)\n",
    "\n",
    "        results_at_thresholds.append((test_loss, test_bal_acc , test_mcc, test_f_score, test_auroc, total_length, confusion_matrix_values))\n",
    "\n",
    "    return results_at_thresholds\n",
    "\n",
    "\n"
   ]
  },
  {
   "cell_type": "code",
   "execution_count": 150,
   "id": "97563152",
   "metadata": {},
   "outputs": [
    {
     "name": "stdout",
     "output_type": "stream",
     "text": [
      "Threshold 0.3: (0.3180837631225586, 0.8606859003470984, 0.7269630076682748, 0.8583170624928974, tensor(0.9386), 1454, array([676,  51, 155, 572]))\n",
      "\n",
      "Threshold 0.4: (0.3240569084882736, 0.8683918058646306, 0.7383575895662354, 0.8683634428228976, tensor(0.9353), 1454, array([656,  71, 115, 612]))\n",
      "\n",
      "Threshold 0.5: (0.32183544089396793, 0.8669295220414135, 0.73500070965063, 0.8667904198134265, tensor(0.9360), 1454, array([626, 101,  91, 636]))\n",
      "\n",
      "Threshold 0.6: (0.32035624360044795, 0.8673150995915578, 0.7360870656238133, 0.8664115948290615, tensor(0.9368), 1454, array([655,  72, 117, 610]))\n",
      "\n"
     ]
    }
   ],
   "source": [
    "# Example usage\n",
    "thresholds_to_test = [0.3, 0.4, 0.5, 0.6]\n",
    "results = calculate_metrics_at_thresholds(model, test_loader, loss_fn, device, thresholds_to_test)\n",
    "\n",
    "# Print or use the results as needed\n",
    "for threshold, result in zip(thresholds_to_test, results):\n",
    "    print(f\"Threshold {threshold}: {result}\\n\")"
   ]
  },
  {
   "cell_type": "markdown",
   "id": "f5edee40",
   "metadata": {},
   "source": [
    "# Make loader with metadata to check results in each region"
   ]
  },
  {
   "cell_type": "code",
   "execution_count": 151,
   "id": "c784bf74",
   "metadata": {},
   "outputs": [
    {
     "ename": "NameError",
     "evalue": "name 'df_test' is not defined",
     "output_type": "error",
     "traceback": [
      "\u001b[0;31m---------------------------------------------------------------------------\u001b[0m",
      "\u001b[0;31mNameError\u001b[0m                                 Traceback (most recent call last)",
      "Cell \u001b[0;32mIn[151], line 1\u001b[0m\n\u001b[0;32m----> 1\u001b[0m df_test\n",
      "\u001b[0;31mNameError\u001b[0m: name 'df_test' is not defined"
     ]
    }
   ],
   "source": [
    "df_test"
   ]
  },
  {
   "cell_type": "code",
   "execution_count": null,
   "id": "e44b336f",
   "metadata": {},
   "outputs": [],
   "source": [
    " make_loader_meta(X_test: torch.tensor,\n",
    "                 y_test: torch.tensor,\n",
    "                 metadata_df: pd.DataFrame,\n",
    "\n"
   ]
  }
 ],
 "metadata": {
  "kernelspec": {
   "display_name": "Python 3 (ipykernel)",
   "language": "python",
   "name": "python3"
  },
  "language_info": {
   "codemirror_mode": {
    "name": "ipython",
    "version": 3
   },
   "file_extension": ".py",
   "mimetype": "text/x-python",
   "name": "python",
   "nbconvert_exporter": "python",
   "pygments_lexer": "ipython3",
   "version": "3.11.5"
  }
 },
 "nbformat": 4,
 "nbformat_minor": 5
}
