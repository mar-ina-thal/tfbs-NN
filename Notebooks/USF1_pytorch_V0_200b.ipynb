{
 "cells": [
  {
   "cell_type": "markdown",
   "id": "6c55b021",
   "metadata": {},
   "source": [
    "# Imports and functions"
   ]
  },
  {
   "cell_type": "code",
   "execution_count": 30,
   "id": "05d85633",
   "metadata": {},
   "outputs": [],
   "source": [
    "import pandas as pd\n",
    "import numpy as np\n",
    "from sklearn.preprocessing import OneHotEncoder\n",
    "from keras.utils import to_categorical\n",
    "from sklearn.metrics import balanced_accuracy_score"
   ]
  },
  {
   "cell_type": "code",
   "execution_count": 31,
   "id": "78fdaa56",
   "metadata": {},
   "outputs": [],
   "source": [
    "import torchvision\n",
    "import engine\n",
    "import helper_functions"
   ]
  },
  {
   "cell_type": "code",
   "execution_count": 32,
   "id": "99f839ed",
   "metadata": {},
   "outputs": [],
   "source": [
    "from tqdm.auto import tqdm\n",
    "from typing import Dict, List, Tuple\n",
    "from sklearn.metrics import balanced_accuracy_score, matthews_corrcoef, f1_score\n",
    "from collections import deque  # Import deque for early stopping\n",
    "import warnings\n",
    "\n",
    "# Suppress the specific UserWarning related to y_pred and y_true class mismatch\n",
    "warnings.filterwarnings(\"ignore\", category=UserWarning, message=\"y_pred contains classes not in y_true\")"
   ]
  },
  {
   "cell_type": "code",
   "execution_count": 33,
   "id": "faeaeafc",
   "metadata": {},
   "outputs": [],
   "source": [
    "from sklearn.metrics import balanced_accuracy_score\n",
    "\n",
    "# Function to calculate balanced accuracy using sklearn\n",
    "def balanced_accuracy(y_true, y_pred):\n",
    "    return balanced_accuracy_score(y_true, y_pred) * 100"
   ]
  },
  {
   "cell_type": "code",
   "execution_count": 34,
   "id": "6c000451",
   "metadata": {},
   "outputs": [],
   "source": [
    "# Function to perform one-hot encoding for DNA sequences\n",
    "def one_hot_encode(sequence):\n",
    "    encoding = {'A': [1, 0, 0, 0], 'T': [0, 1, 0, 0], 'G': [0, 0, 1, 0], 'C': [0, 0, 0, 1]}\n",
    "    one_hot_sequence = [encoding.get(base, [0, 0, 0, 0]) for base in sequence]\n",
    "    return np.array(one_hot_sequence)"
   ]
  },
  {
   "cell_type": "markdown",
   "id": "4000c043",
   "metadata": {},
   "source": [
    "# Set up device agnostic code"
   ]
  },
  {
   "cell_type": "code",
   "execution_count": 35,
   "id": "12cee86f",
   "metadata": {},
   "outputs": [
    {
     "data": {
      "text/plain": [
       "'cpu'"
      ]
     },
     "execution_count": 35,
     "metadata": {},
     "output_type": "execute_result"
    }
   ],
   "source": [
    "import torch\n",
    "from torch import nn\n",
    "# Make device agnostic code\n",
    "device = \"cuda\" if torch.cuda.is_available() else \"cpu\"\n",
    "device"
   ]
  },
  {
   "cell_type": "code",
   "execution_count": 36,
   "id": "c9939f1e",
   "metadata": {},
   "outputs": [
    {
     "data": {
      "text/html": [
       "<div>\n",
       "<style scoped>\n",
       "    .dataframe tbody tr th:only-of-type {\n",
       "        vertical-align: middle;\n",
       "    }\n",
       "\n",
       "    .dataframe tbody tr th {\n",
       "        vertical-align: top;\n",
       "    }\n",
       "\n",
       "    .dataframe thead th {\n",
       "        text-align: right;\n",
       "    }\n",
       "</style>\n",
       "<table border=\"1\" class=\"dataframe\">\n",
       "  <thead>\n",
       "    <tr style=\"text-align: right;\">\n",
       "      <th></th>\n",
       "      <th>data</th>\n",
       "      <th>class</th>\n",
       "    </tr>\n",
       "  </thead>\n",
       "  <tbody>\n",
       "    <tr>\n",
       "      <th>0</th>\n",
       "      <td>TTTGGCTAGGAACCCCCAGTTCCCAGGGAGTGGAGCTTGTGACACA...</td>\n",
       "      <td>0</td>\n",
       "    </tr>\n",
       "    <tr>\n",
       "      <th>1</th>\n",
       "      <td>CCAGAGAGGAGGCTGGAGTCTTCAGGAGATCACCAAGCATTTTAAG...</td>\n",
       "      <td>0</td>\n",
       "    </tr>\n",
       "    <tr>\n",
       "      <th>2</th>\n",
       "      <td>CAGATAGAGGCCGGACAGAGCAGCCCAGGGAAAAGAGCCTTCCTGT...</td>\n",
       "      <td>0</td>\n",
       "    </tr>\n",
       "    <tr>\n",
       "      <th>3</th>\n",
       "      <td>GCACTCACTGACGCACACTGCCAGTGGGCTGACTTCTCAGGGCTGC...</td>\n",
       "      <td>0</td>\n",
       "    </tr>\n",
       "    <tr>\n",
       "      <th>4</th>\n",
       "      <td>TAGGGGATGCTCCCACTCCAGTCTCCAGGGGTGCAGACCTGACATA...</td>\n",
       "      <td>0</td>\n",
       "    </tr>\n",
       "    <tr>\n",
       "      <th>...</th>\n",
       "      <td>...</td>\n",
       "      <td>...</td>\n",
       "    </tr>\n",
       "    <tr>\n",
       "      <th>64200</th>\n",
       "      <td>GGGGGCTGCTGGTTCTTCCAGGAGCGCGCATGAGCGGACGCTGCCT...</td>\n",
       "      <td>1</td>\n",
       "    </tr>\n",
       "    <tr>\n",
       "      <th>64201</th>\n",
       "      <td>GGGCGGGCTACCTCAGACTCCGCAGGAAAGGTTCCGGACAAGTCCT...</td>\n",
       "      <td>1</td>\n",
       "    </tr>\n",
       "    <tr>\n",
       "      <th>64202</th>\n",
       "      <td>TTTGTTTTGACCAATGAGACATTAGAAAACTTGCTGCAAGCAGAGG...</td>\n",
       "      <td>1</td>\n",
       "    </tr>\n",
       "    <tr>\n",
       "      <th>64203</th>\n",
       "      <td>TCACGTGGAGCCCAGGTGAGTCATCCTGCTGAGTCCCTCCTAGACT...</td>\n",
       "      <td>1</td>\n",
       "    </tr>\n",
       "    <tr>\n",
       "      <th>64204</th>\n",
       "      <td>CCCAGCTCTAAACTGCAGAAAAGCTCCAATTCTATAAGCATTTCTG...</td>\n",
       "      <td>1</td>\n",
       "    </tr>\n",
       "  </tbody>\n",
       "</table>\n",
       "<p>64205 rows × 2 columns</p>\n",
       "</div>"
      ],
      "text/plain": [
       "                                                    data  class\n",
       "0      TTTGGCTAGGAACCCCCAGTTCCCAGGGAGTGGAGCTTGTGACACA...      0\n",
       "1      CCAGAGAGGAGGCTGGAGTCTTCAGGAGATCACCAAGCATTTTAAG...      0\n",
       "2      CAGATAGAGGCCGGACAGAGCAGCCCAGGGAAAAGAGCCTTCCTGT...      0\n",
       "3      GCACTCACTGACGCACACTGCCAGTGGGCTGACTTCTCAGGGCTGC...      0\n",
       "4      TAGGGGATGCTCCCACTCCAGTCTCCAGGGGTGCAGACCTGACATA...      0\n",
       "...                                                  ...    ...\n",
       "64200  GGGGGCTGCTGGTTCTTCCAGGAGCGCGCATGAGCGGACGCTGCCT...      1\n",
       "64201  GGGCGGGCTACCTCAGACTCCGCAGGAAAGGTTCCGGACAAGTCCT...      1\n",
       "64202  TTTGTTTTGACCAATGAGACATTAGAAAACTTGCTGCAAGCAGAGG...      1\n",
       "64203  TCACGTGGAGCCCAGGTGAGTCATCCTGCTGAGTCCCTCCTAGACT...      1\n",
       "64204  CCCAGCTCTAAACTGCAGAAAAGCTCCAATTCTATAAGCATTTCTG...      1\n",
       "\n",
       "[64205 rows x 2 columns]"
      ]
     },
     "execution_count": 36,
     "metadata": {},
     "output_type": "execute_result"
    }
   ],
   "source": [
    "# Define Name of TF \n",
    "# MOTIF LENGHT= 10\n",
    "tf=\"USF1\"\n",
    "file_path = f'/mnt/raid1/thalassini/home/filtered_fimo(>6)/{tf.upper()}/datasets/data.csv'\n",
    "df = pd.read_csv(file_path)\n",
    "df"
   ]
  },
  {
   "cell_type": "markdown",
   "id": "4faee84d",
   "metadata": {},
   "source": [
    "# Sequence length inspection and normalization"
   ]
  },
  {
   "cell_type": "code",
   "execution_count": 37,
   "id": "d33c9269",
   "metadata": {},
   "outputs": [
    {
     "name": "stdout",
     "output_type": "stream",
     "text": [
      "Max length:213, Min length: 201\n"
     ]
    },
    {
     "data": {
      "image/png": "[encoded data removed]",
      "text/plain": [
       "<Figure size 640x480 with 1 Axes>"
      ]
     },
     "metadata": {},
     "output_type": "display_data"
    }
   ],
   "source": [
    "lengths= [len(item) for item in df['data']] \n",
    "print(f'Max length:{max(lengths)}, Min length: {min(lengths)}')\n",
    "import matplotlib.pyplot as plt\n",
    "# Plotting the histogram\n",
    "plt.hist(lengths, bins=10, color='blue', edgecolor='black')\n",
    "plt.title('Histogram of Lengths')\n",
    "plt.xlabel('Length')\n",
    "plt.ylabel('Frequency')\n",
    "plt.show()"
   ]
  },
  {
   "cell_type": "code",
   "execution_count": 38,
   "id": "292502f4",
   "metadata": {},
   "outputs": [],
   "source": [
    "# Find the maximum length of sequences\n",
    "#min_length = min(len(seq) for seq in df['data'])\n",
    "limit=200\n",
    "\n",
    "\n",
    "# Pad or cut sequences to ensure they all have the same length\n",
    "cut_sequences = [seq[:limit] for seq in df['data']]\n",
    "\n",
    "# Update the DataFrame with the cut sequences\n",
    "#df['data'] = cut_sequences"
   ]
  },
  {
   "cell_type": "code",
   "execution_count": 39,
   "id": "84f394a8",
   "metadata": {},
   "outputs": [
    {
     "name": "stdout",
     "output_type": "stream",
     "text": [
      "Max length:200, Min length: 200\n"
     ]
    }
   ],
   "source": [
    "lengths= [len(item) for item in cut_sequences]\n",
    "print(f'Max length:{max(lengths)}, Min length: {min(lengths)}')"
   ]
  },
  {
   "cell_type": "markdown",
   "id": "9b65d644",
   "metadata": {},
   "source": [
    "# Define X,y variables"
   ]
  },
  {
   "cell_type": "code",
   "execution_count": 40,
   "id": "f9e96a80",
   "metadata": {},
   "outputs": [],
   "source": [
    "X=[one_hot_encode(sequence) for sequence in cut_sequences]"
   ]
  },
  {
   "cell_type": "code",
   "execution_count": 41,
   "id": "2ab32859",
   "metadata": {},
   "outputs": [],
   "source": [
    "X = torch.from_numpy(np.array(X)).type(torch.float)\n"
   ]
  },
  {
   "cell_type": "code",
   "execution_count": 42,
   "id": "0bf2a817",
   "metadata": {},
   "outputs": [
    {
     "data": {
      "text/plain": [
       "torch.Size([64205, 200, 4])"
      ]
     },
     "execution_count": 42,
     "metadata": {},
     "output_type": "execute_result"
    }
   ],
   "source": [
    "X.shape"
   ]
  },
  {
   "cell_type": "code",
   "execution_count": 43,
   "id": "9aec20e4",
   "metadata": {},
   "outputs": [
    {
     "data": {
      "text/plain": [
       "array([0, 0, 0])"
      ]
     },
     "execution_count": 43,
     "metadata": {},
     "output_type": "execute_result"
    }
   ],
   "source": [
    "y=np.array(df['class'])\n",
    "y[:3]"
   ]
  },
  {
   "cell_type": "code",
   "execution_count": 44,
   "id": "31abc90c",
   "metadata": {},
   "outputs": [],
   "source": [
    "y = torch.from_numpy(y).type(torch.float)"
   ]
  },
  {
   "cell_type": "markdown",
   "id": "0f505979",
   "metadata": {},
   "source": [
    "# Split the data in train, val and test set"
   ]
  },
  {
   "cell_type": "code",
   "execution_count": 45,
   "id": "f4a1304f",
   "metadata": {},
   "outputs": [
    {
     "name": "stdout",
     "output_type": "stream",
     "text": [
      "41091 41091 10273 10273\n",
      "12841 12841\n"
     ]
    }
   ],
   "source": [
    "from sklearn.model_selection import train_test_split\n",
    "from sklearn.model_selection import StratifiedShuffleSplit\n",
    "\n",
    "\n",
    "\n",
    "# Split the data into a stratified hold-out validation set and the rest\n",
    "stratified_splitter = StratifiedShuffleSplit(n_splits=1, test_size=0.2, random_state=42)\n",
    "\n",
    "for train_val_index, test_index in stratified_splitter.split(X, y):\n",
    "    X_train_val, X_test = X[train_val_index], X[test_index]\n",
    "    y_train_val, y_test = y[train_val_index], y[test_index]\n",
    "\n",
    "# Split the remaining data into training and validation sets\n",
    "X_train, X_val, y_train, y_val = train_test_split(X_train_val, y_train_val, test_size=0.2, stratify=y_train_val, random_state=42)\n",
    "\n",
    "print(len(X_train), len(y_train), len(X_val), len(y_val))\n",
    "print(len(X_test), len(y_test))\n",
    "\n",
    "\n",
    "# (X_train, X_val, y_train, y_val) for training, validation\n",
    "# X_test, y_test for the final hold-out validation.\n",
    "\n",
    "#X_train, X_val, X_test = torch.from_numpy(X_train).type(torch.float),torch.from_numpy(X_val).type(torch.float), torch.from_numpy(X_test).type(torch.float)\n",
    "\n"
   ]
  },
  {
   "cell_type": "markdown",
   "id": "466c2f6e",
   "metadata": {},
   "source": [
    "# Create datasets and Dataloaders"
   ]
  },
  {
   "cell_type": "code",
   "execution_count": 46,
   "id": "66a340f1",
   "metadata": {},
   "outputs": [
    {
     "name": "stdout",
     "output_type": "stream",
     "text": [
      "41091 41091 41091\n"
     ]
    }
   ],
   "source": [
    "torch.manual_seed(42)\n",
    "from torch.utils.data import DataLoader, TensorDataset\n",
    "\n",
    "\n",
    "# Expand the dimensions of y to make it 2-dimensional\n",
    "y_train = y_train.view(-1, 1)\n",
    "y_test = y_test.view(-1,1)\n",
    "y_val = y_val.view(-1,1)\n",
    "# Concatenate the complement of y to create a 2-dimensional tensor\n",
    "y_train_one_hot = torch.cat([1 - y_train, y_train], dim=1).float()\n",
    "y_test_one_hot = torch.cat([1 - y_test, y_test], dim=1).float()\n",
    "y_val_one_hot = torch.cat([1 - y_val, y_val], dim=1).float()\n",
    "\n",
    "\n",
    "# Move tensors to the same device\n",
    "X_train, y_train_one_hot, y_train = X_train.to(device), y_train_one_hot.to(device), y_train.to(device)\n",
    "X_val, y_val_one_hot, y_val = X_val.to(device), y_val_one_hot.to(device), y_val.to(device)\n",
    "X_test, y_test_one_hot, y_test = X_test.to(device), y_test_one_hot.to(device), y_test.to(device)\n",
    "\n",
    "\n",
    "print(X_train.size(0), y_train_one_hot.size(0), y_train.size(0))\n",
    "\n",
    "# Create datasets\n",
    "train_dataset = TensorDataset(X_train, y_train_one_hot, y_train)\n",
    "val_dataset = TensorDataset(X_val, y_val_one_hot, y_val)\n",
    "test_dataset = TensorDataset(X_test, y_test_one_hot, y_test)\n",
    "\n"
   ]
  },
  {
   "cell_type": "code",
   "execution_count": 47,
   "id": "08f8c803",
   "metadata": {},
   "outputs": [],
   "source": [
    "\n",
    "batch_size=64\n",
    "torch.manual_seed(42)\n",
    "\n",
    "# Convert to PyTorch DataLoader\n",
    "train_loader = DataLoader(train_dataset, batch_size=batch_size, shuffle=True)\n",
    "val_loader = DataLoader(val_dataset, batch_size=batch_size, shuffle=True)\n",
    "test_loader = DataLoader(test_dataset, batch_size=batch_size, shuffle=True)"
   ]
  },
  {
   "cell_type": "markdown",
   "id": "d20e4bb7",
   "metadata": {},
   "source": [
    "# Construct a 1 layer CNN with Maxpooling and Dropout"
   ]
  },
  {
   "cell_type": "code",
   "execution_count": 48,
   "id": "9c0dfed6",
   "metadata": {},
   "outputs": [],
   "source": [
    "class Conv_v0(torch.nn.Module):\n",
    "\n",
    "    def __init__(self):\n",
    "        super(Conv_v0, self).__init__()\n",
    "\n",
    "        self.conv1 = torch.nn.Conv1d(in_channels=4, out_channels=3, kernel_size=10)\n",
    "        self.activation = torch.nn.ReLU()\n",
    "        self.maxpool = torch.nn.MaxPool1d(kernel_size=5)\n",
    "        \n",
    "        self.dropout = torch.nn.Dropout(p=0.5) \n",
    "        self.fc = torch.nn.Linear(in_features=114, out_features=2)\n",
    "        #elf.sigmoid = torch.nn.Sigmoid()\n",
    "\n",
    "    def forward(self, x):\n",
    "        x= x.permute(0, 2, 1)\n",
    "        x = self.conv1(x)\n",
    "        x = self.activation(x)\n",
    "        x = self.maxpool(x)\n",
    "        \n",
    "        # Reshape the output of the max pooling layer before passing it to the fully connected layer\n",
    "        x = x.view(x.size(0), -1)\n",
    "        \n",
    "        #print(\"Size after reshaping:\", x.size())\n",
    "        x=self.dropout(x)\n",
    "        x = self.fc(x)\n",
    "       #x = self.sigmoid(x)\n",
    "        return x\n"
   ]
  },
  {
   "cell_type": "markdown",
   "id": "a4ce805d",
   "metadata": {},
   "source": [
    "# Computing class weights"
   ]
  },
  {
   "cell_type": "code",
   "execution_count": 49,
   "id": "3e02389f",
   "metadata": {},
   "outputs": [
    {
     "name": "stdout",
     "output_type": "stream",
     "text": [
      "Class Weights List: [2.0573273919791717, 1.9457808504593237]\n"
     ]
    }
   ],
   "source": [
    "from torch.utils.data import DataLoader, TensorDataset\n",
    "from sklearn.utils.class_weight import compute_class_weight\n",
    "\n",
    "# Assuming we have defined dataset\n",
    "# train_dataset = TensorDataset(X_train, y_train_one_hot, y_train)\n",
    "\n",
    "# Extract the labels from the dataset\n",
    "_, _, y_train = zip(*train_dataset)\n",
    "\n",
    "# Count occurrences of each class\n",
    "class_0_count = sum(1 for label in y_train if label == 0)\n",
    "class_1_count = sum(1 for label in y_train if label == 1)\n",
    "\n",
    "# Total length of y_train\n",
    "total_samples = len(y_train)\n",
    "\n",
    "# Calculate class weights\n",
    "weights = [total_samples / class_0_count, total_samples / class_1_count]\n",
    "\n",
    "# Print the list of class weights\n",
    "print(\"Class Weights List:\", weights)\n",
    "\n",
    "\n"
   ]
  },
  {
   "cell_type": "markdown",
   "id": "40b134d4",
   "metadata": {},
   "source": [
    "# Set up loss function and optimizer"
   ]
  },
  {
   "cell_type": "code",
   "execution_count": 50,
   "id": "948d9087",
   "metadata": {},
   "outputs": [],
   "source": [
    "from torch.optim import lr_scheduler\n",
    "weights = torch.tensor(weights).to(device)\n",
    "#print(weights)"
   ]
  },
  {
   "cell_type": "code",
   "execution_count": 51,
   "id": "2d478a34",
   "metadata": {},
   "outputs": [],
   "source": [
    "torch.manual_seed(42)\n",
    "\n",
    "# Initialize model instance\n",
    "model = Conv_v0()\n",
    "\n",
    "# define the CrossEntropyLoss with weights\n",
    "loss_fn = nn.BCEWithLogitsLoss(weight=weights)\n",
    "\n",
    "# Define oprimizer\n",
    "optimizer = torch.optim.SGD(model.parameters(), lr=0.001)\n",
    "\n",
    "# Define exponetntial lr with lr_scheduler\n",
    "exp_lr_scheduler = lr_scheduler.ExponentialLR(optimizer, gamma=0.01)"
   ]
  },
  {
   "cell_type": "code",
   "execution_count": 52,
   "id": "e1d337c9",
   "metadata": {},
   "outputs": [
    {
     "data": {
      "text/plain": [
       "tensor([[-0.1891, -0.5033],\n",
       "        [-0.0560, -0.3471],\n",
       "        [-0.0650, -0.0897],\n",
       "        [ 0.4153, -0.2146],\n",
       "        [-0.1629, -0.6678]], grad_fn=<SliceBackward0>)"
      ]
     },
     "execution_count": 52,
     "metadata": {},
     "output_type": "execute_result"
    }
   ],
   "source": [
    "# View the frist 5 outputs of the forward pass on the test data\n",
    "y_logits = model(X_test.to(device))[:5]\n",
    "y_logits"
   ]
  },
  {
   "cell_type": "code",
   "execution_count": 53,
   "id": "ee52a866",
   "metadata": {},
   "outputs": [
    {
     "data": {
      "application/vnd.jupyter.widget-view+json": {
       "model_id": "69c040a537f245c794b087f01e526c6b",
       "version_major": 2,
       "version_minor": 0
      },
      "text/plain": [
       "  0%|          | 0/200 [00:00<?, ?it/s]"
      ]
     },
     "metadata": {},
     "output_type": "display_data"
    },
    {
     "name": "stdout",
     "output_type": "stream",
     "text": [
      "Epoch: 1 | train_loss: 1.3991 | train_bal_acc: 0.5028 | train_mcc: 0.0082 | valid_loss: 1.3877 | valid_bal_acc: 0.5144 | valid_mcc: 0.0358\n",
      "Epoch: 2 | train_loss: 1.3927 | train_bal_acc: 0.5061 | train_mcc: 0.0164 | valid_loss: 1.3859 | valid_bal_acc: 0.5220 | valid_mcc: 0.0484\n",
      "Epoch: 3 | train_loss: 1.3894 | train_bal_acc: 0.5099 | train_mcc: 0.0284 | valid_loss: 1.3844 | valid_bal_acc: 0.5376 | valid_mcc: 0.0801\n",
      "Epoch: 4 | train_loss: 1.3864 | train_bal_acc: 0.5166 | train_mcc: 0.0460 | valid_loss: 1.3827 | valid_bal_acc: 0.5505 | valid_mcc: 0.1073\n",
      "Epoch: 5 | train_loss: 1.3846 | train_bal_acc: 0.5221 | train_mcc: 0.0595 | valid_loss: 1.3808 | valid_bal_acc: 0.5688 | valid_mcc: 0.1460\n",
      "Epoch: 6 | train_loss: 1.3824 | train_bal_acc: 0.5301 | train_mcc: 0.0797 | valid_loss: 1.3787 | valid_bal_acc: 0.5879 | valid_mcc: 0.1864\n",
      "Epoch: 7 | train_loss: 1.3801 | train_bal_acc: 0.5406 | train_mcc: 0.1040 | valid_loss: 1.3764 | valid_bal_acc: 0.6030 | valid_mcc: 0.2195\n",
      "Epoch: 8 | train_loss: 1.3777 | train_bal_acc: 0.5558 | train_mcc: 0.1420 | valid_loss: 1.3739 | valid_bal_acc: 0.6131 | valid_mcc: 0.2429\n",
      "Epoch: 9 | train_loss: 1.3753 | train_bal_acc: 0.5663 | train_mcc: 0.1684 | valid_loss: 1.3715 | valid_bal_acc: 0.6195 | valid_mcc: 0.2533\n",
      "Epoch: 10 | train_loss: 1.3725 | train_bal_acc: 0.5754 | train_mcc: 0.1859 | valid_loss: 1.3686 | valid_bal_acc: 0.6262 | valid_mcc: 0.2691\n",
      "Epoch: 11 | train_loss: 1.3707 | train_bal_acc: 0.5828 | train_mcc: 0.1978 | valid_loss: 1.3659 | valid_bal_acc: 0.6290 | valid_mcc: 0.2790\n",
      "Epoch: 12 | train_loss: 1.3674 | train_bal_acc: 0.5881 | train_mcc: 0.2122 | valid_loss: 1.3632 | valid_bal_acc: 0.6322 | valid_mcc: 0.2843\n",
      "Epoch: 13 | train_loss: 1.3652 | train_bal_acc: 0.5972 | train_mcc: 0.2298 | valid_loss: 1.3602 | valid_bal_acc: 0.6345 | valid_mcc: 0.2895\n",
      "Epoch: 14 | train_loss: 1.3630 | train_bal_acc: 0.6036 | train_mcc: 0.2408 | valid_loss: 1.3577 | valid_bal_acc: 0.6353 | valid_mcc: 0.2861\n",
      "Epoch: 15 | train_loss: 1.3601 | train_bal_acc: 0.6069 | train_mcc: 0.2411 | valid_loss: 1.3548 | valid_bal_acc: 0.6366 | valid_mcc: 0.2926\n",
      "Epoch: 16 | train_loss: 1.3581 | train_bal_acc: 0.6069 | train_mcc: 0.2410 | valid_loss: 1.3527 | valid_bal_acc: 0.6350 | valid_mcc: 0.2840\n",
      "Epoch: 17 | train_loss: 1.3559 | train_bal_acc: 0.6113 | train_mcc: 0.2475 | valid_loss: 1.3502 | valid_bal_acc: 0.6349 | valid_mcc: 0.2817\n",
      "Epoch: 18 | train_loss: 1.3529 | train_bal_acc: 0.6143 | train_mcc: 0.2524 | valid_loss: 1.3478 | valid_bal_acc: 0.6374 | valid_mcc: 0.2836\n",
      "Epoch: 19 | train_loss: 1.3505 | train_bal_acc: 0.6157 | train_mcc: 0.2526 | valid_loss: 1.3453 | valid_bal_acc: 0.6359 | valid_mcc: 0.2819\n",
      "Epoch: 20 | train_loss: 1.3495 | train_bal_acc: 0.6182 | train_mcc: 0.2546 | valid_loss: 1.3432 | valid_bal_acc: 0.6376 | valid_mcc: 0.2840\n",
      "Epoch: 21 | train_loss: 1.3480 | train_bal_acc: 0.6183 | train_mcc: 0.2518 | valid_loss: 1.3410 | valid_bal_acc: 0.6363 | valid_mcc: 0.2795\n",
      "Epoch: 22 | train_loss: 1.3452 | train_bal_acc: 0.6200 | train_mcc: 0.2518 | valid_loss: 1.3391 | valid_bal_acc: 0.6380 | valid_mcc: 0.2898\n",
      "Epoch: 23 | train_loss: 1.3431 | train_bal_acc: 0.6205 | train_mcc: 0.2561 | valid_loss: 1.3371 | valid_bal_acc: 0.6364 | valid_mcc: 0.2780\n",
      "Epoch: 24 | train_loss: 1.3416 | train_bal_acc: 0.6183 | train_mcc: 0.2481 | valid_loss: 1.3353 | valid_bal_acc: 0.6374 | valid_mcc: 0.2818\n",
      "Epoch: 25 | train_loss: 1.3400 | train_bal_acc: 0.6223 | train_mcc: 0.2572 | valid_loss: 1.3338 | valid_bal_acc: 0.6339 | valid_mcc: 0.2718\n",
      "Epoch: 26 | train_loss: 1.3379 | train_bal_acc: 0.6217 | train_mcc: 0.2524 | valid_loss: 1.3315 | valid_bal_acc: 0.6384 | valid_mcc: 0.2831\n",
      "Epoch: 27 | train_loss: 1.3374 | train_bal_acc: 0.6202 | train_mcc: 0.2488 | valid_loss: 1.3303 | valid_bal_acc: 0.6375 | valid_mcc: 0.2808\n",
      "Epoch: 28 | train_loss: 1.3355 | train_bal_acc: 0.6219 | train_mcc: 0.2501 | valid_loss: 1.3285 | valid_bal_acc: 0.6392 | valid_mcc: 0.2842\n",
      "Epoch: 29 | train_loss: 1.3338 | train_bal_acc: 0.6219 | train_mcc: 0.2497 | valid_loss: 1.3268 | valid_bal_acc: 0.6378 | valid_mcc: 0.2813\n",
      "Epoch: 30 | train_loss: 1.3319 | train_bal_acc: 0.6236 | train_mcc: 0.2544 | valid_loss: 1.3256 | valid_bal_acc: 0.6335 | valid_mcc: 0.2684\n",
      "Epoch: 31 | train_loss: 1.3327 | train_bal_acc: 0.6183 | train_mcc: 0.2428 | valid_loss: 1.3245 | valid_bal_acc: 0.6323 | valid_mcc: 0.2662\n",
      "Epoch: 32 | train_loss: 1.3309 | train_bal_acc: 0.6199 | train_mcc: 0.2451 | valid_loss: 1.3228 | valid_bal_acc: 0.6358 | valid_mcc: 0.2757\n",
      "Epoch: 33 | train_loss: 1.3298 | train_bal_acc: 0.6226 | train_mcc: 0.2508 | valid_loss: 1.3216 | valid_bal_acc: 0.6324 | valid_mcc: 0.2674\n",
      "Epoch: 34 | train_loss: 1.3274 | train_bal_acc: 0.6218 | train_mcc: 0.2486 | valid_loss: 1.3201 | valid_bal_acc: 0.6367 | valid_mcc: 0.2757\n",
      "Epoch: 35 | train_loss: 1.3278 | train_bal_acc: 0.6210 | train_mcc: 0.2467 | valid_loss: 1.3192 | valid_bal_acc: 0.6317 | valid_mcc: 0.2642\n",
      "Epoch: 36 | train_loss: 1.3264 | train_bal_acc: 0.6198 | train_mcc: 0.2426 | valid_loss: 1.3178 | valid_bal_acc: 0.6354 | valid_mcc: 0.2731\n",
      "Epoch: 37 | train_loss: 1.3250 | train_bal_acc: 0.6210 | train_mcc: 0.2458 | valid_loss: 1.3166 | valid_bal_acc: 0.6383 | valid_mcc: 0.2814\n",
      "Epoch: 38 | train_loss: 1.3251 | train_bal_acc: 0.6206 | train_mcc: 0.2442 | valid_loss: 1.3158 | valid_bal_acc: 0.6341 | valid_mcc: 0.2694\n",
      "Epoch: 39 | train_loss: 1.3221 | train_bal_acc: 0.6217 | train_mcc: 0.2464 | valid_loss: 1.3147 | valid_bal_acc: 0.6347 | valid_mcc: 0.2704\n",
      "Epoch: 40 | train_loss: 1.3224 | train_bal_acc: 0.6211 | train_mcc: 0.2444 | valid_loss: 1.3132 | valid_bal_acc: 0.6390 | valid_mcc: 0.2808\n",
      "Epoch: 41 | train_loss: 1.3226 | train_bal_acc: 0.6223 | train_mcc: 0.2476 | valid_loss: 1.3122 | valid_bal_acc: 0.6361 | valid_mcc: 0.2734\n",
      "Epoch: 42 | train_loss: 1.3198 | train_bal_acc: 0.6245 | train_mcc: 0.2516 | valid_loss: 1.3116 | valid_bal_acc: 0.6360 | valid_mcc: 0.2725\n",
      "Epoch: 43 | train_loss: 1.3194 | train_bal_acc: 0.6238 | train_mcc: 0.2500 | valid_loss: 1.3104 | valid_bal_acc: 0.6368 | valid_mcc: 0.2746\n",
      "Epoch: 44 | train_loss: 1.3202 | train_bal_acc: 0.6178 | train_mcc: 0.2396 | valid_loss: 1.3097 | valid_bal_acc: 0.6351 | valid_mcc: 0.2705\n",
      "Epoch: 45 | train_loss: 1.3182 | train_bal_acc: 0.6240 | train_mcc: 0.2500 | valid_loss: 1.3089 | valid_bal_acc: 0.6373 | valid_mcc: 0.2755\n",
      "Epoch: 46 | train_loss: 1.3181 | train_bal_acc: 0.6203 | train_mcc: 0.2426 | valid_loss: 1.3073 | valid_bal_acc: 0.6413 | valid_mcc: 0.2853\n",
      "Epoch: 47 | train_loss: 1.3158 | train_bal_acc: 0.6244 | train_mcc: 0.2515 | valid_loss: 1.3065 | valid_bal_acc: 0.6416 | valid_mcc: 0.2865\n",
      "Epoch: 48 | train_loss: 1.3146 | train_bal_acc: 0.6232 | train_mcc: 0.2488 | valid_loss: 1.3057 | valid_bal_acc: 0.6382 | valid_mcc: 0.2774\n",
      "Epoch: 49 | train_loss: 1.3157 | train_bal_acc: 0.6219 | train_mcc: 0.2455 | valid_loss: 1.3047 | valid_bal_acc: 0.6425 | valid_mcc: 0.2882\n",
      "Epoch: 50 | train_loss: 1.3138 | train_bal_acc: 0.6245 | train_mcc: 0.2516 | valid_loss: 1.3040 | valid_bal_acc: 0.6411 | valid_mcc: 0.2842\n",
      "Epoch: 51 | train_loss: 1.3124 | train_bal_acc: 0.6224 | train_mcc: 0.2469 | valid_loss: 1.3034 | valid_bal_acc: 0.6408 | valid_mcc: 0.2821\n",
      "Epoch: 52 | train_loss: 1.3138 | train_bal_acc: 0.6217 | train_mcc: 0.2451 | valid_loss: 1.3025 | valid_bal_acc: 0.6406 | valid_mcc: 0.2818\n",
      "Epoch: 53 | train_loss: 1.3112 | train_bal_acc: 0.6270 | train_mcc: 0.2554 | valid_loss: 1.3027 | valid_bal_acc: 0.6276 | valid_mcc: 0.2558\n",
      "Epoch: 54 | train_loss: 1.3104 | train_bal_acc: 0.6222 | train_mcc: 0.2457 | valid_loss: 1.3013 | valid_bal_acc: 0.6403 | valid_mcc: 0.2812\n",
      "Epoch: 55 | train_loss: 1.3094 | train_bal_acc: 0.6243 | train_mcc: 0.2502 | valid_loss: 1.3002 | valid_bal_acc: 0.6395 | valid_mcc: 0.2791\n",
      "Epoch: 56 | train_loss: 1.3088 | train_bal_acc: 0.6249 | train_mcc: 0.2511 | valid_loss: 1.2991 | valid_bal_acc: 0.6440 | valid_mcc: 0.2896\n",
      "Epoch: 57 | train_loss: 1.3089 | train_bal_acc: 0.6250 | train_mcc: 0.2520 | valid_loss: 1.2996 | valid_bal_acc: 0.6304 | valid_mcc: 0.2606\n",
      "Epoch: 58 | train_loss: 1.3078 | train_bal_acc: 0.6240 | train_mcc: 0.2491 | valid_loss: 1.2977 | valid_bal_acc: 0.6434 | valid_mcc: 0.2886\n",
      "Epoch: 59 | train_loss: 1.3081 | train_bal_acc: 0.6239 | train_mcc: 0.2490 | valid_loss: 1.2972 | valid_bal_acc: 0.6430 | valid_mcc: 0.2883\n"
     ]
    },
    {
     "name": "stdout",
     "output_type": "stream",
     "text": [
      "Epoch: 60 | train_loss: 1.3076 | train_bal_acc: 0.6249 | train_mcc: 0.2516 | valid_loss: 1.2970 | valid_bal_acc: 0.6366 | valid_mcc: 0.2728\n",
      "Epoch: 61 | train_loss: 1.3061 | train_bal_acc: 0.6231 | train_mcc: 0.2470 | valid_loss: 1.2956 | valid_bal_acc: 0.6444 | valid_mcc: 0.2912\n",
      "Epoch: 62 | train_loss: 1.3052 | train_bal_acc: 0.6272 | train_mcc: 0.2575 | valid_loss: 1.2963 | valid_bal_acc: 0.6311 | valid_mcc: 0.2619\n",
      "Epoch: 63 | train_loss: 1.3061 | train_bal_acc: 0.6238 | train_mcc: 0.2486 | valid_loss: 1.2942 | valid_bal_acc: 0.6437 | valid_mcc: 0.2893\n",
      "Epoch: 64 | train_loss: 1.3048 | train_bal_acc: 0.6239 | train_mcc: 0.2487 | valid_loss: 1.2939 | valid_bal_acc: 0.6426 | valid_mcc: 0.2859\n",
      "Epoch: 65 | train_loss: 1.3036 | train_bal_acc: 0.6274 | train_mcc: 0.2556 | valid_loss: 1.2933 | valid_bal_acc: 0.6440 | valid_mcc: 0.2888\n",
      "Epoch: 66 | train_loss: 1.3044 | train_bal_acc: 0.6255 | train_mcc: 0.2524 | valid_loss: 1.2923 | valid_bal_acc: 0.6447 | valid_mcc: 0.2903\n",
      "Epoch: 67 | train_loss: 1.3031 | train_bal_acc: 0.6248 | train_mcc: 0.2506 | valid_loss: 1.2923 | valid_bal_acc: 0.6421 | valid_mcc: 0.2842\n",
      "Epoch: 68 | train_loss: 1.3036 | train_bal_acc: 0.6245 | train_mcc: 0.2493 | valid_loss: 1.2915 | valid_bal_acc: 0.6416 | valid_mcc: 0.2832\n",
      "Epoch: 69 | train_loss: 1.3016 | train_bal_acc: 0.6266 | train_mcc: 0.2540 | valid_loss: 1.2904 | valid_bal_acc: 0.6438 | valid_mcc: 0.2885\n",
      "Epoch: 70 | train_loss: 1.3013 | train_bal_acc: 0.6256 | train_mcc: 0.2515 | valid_loss: 1.2904 | valid_bal_acc: 0.6427 | valid_mcc: 0.2854\n",
      "Epoch: 71 | train_loss: 1.3022 | train_bal_acc: 0.6236 | train_mcc: 0.2479 | valid_loss: 1.2900 | valid_bal_acc: 0.6397 | valid_mcc: 0.2796\n",
      "Epoch: 72 | train_loss: 1.2998 | train_bal_acc: 0.6247 | train_mcc: 0.2516 | valid_loss: 1.2890 | valid_bal_acc: 0.6462 | valid_mcc: 0.2950\n",
      "Epoch: 73 | train_loss: 1.2988 | train_bal_acc: 0.6280 | train_mcc: 0.2570 | valid_loss: 1.2882 | valid_bal_acc: 0.6454 | valid_mcc: 0.2925\n",
      "Epoch: 74 | train_loss: 1.2994 | train_bal_acc: 0.6254 | train_mcc: 0.2522 | valid_loss: 1.2892 | valid_bal_acc: 0.6340 | valid_mcc: 0.2681\n",
      "Epoch: 75 | train_loss: 1.2983 | train_bal_acc: 0.6267 | train_mcc: 0.2547 | valid_loss: 1.2872 | valid_bal_acc: 0.6463 | valid_mcc: 0.2945\n",
      "Epoch: 76 | train_loss: 1.2992 | train_bal_acc: 0.6280 | train_mcc: 0.2566 | valid_loss: 1.2867 | valid_bal_acc: 0.6460 | valid_mcc: 0.2931\n",
      "Epoch: 77 | train_loss: 1.2973 | train_bal_acc: 0.6290 | train_mcc: 0.2590 | valid_loss: 1.2864 | valid_bal_acc: 0.6452 | valid_mcc: 0.2902\n",
      "Epoch: 78 | train_loss: 1.2988 | train_bal_acc: 0.6255 | train_mcc: 0.2515 | valid_loss: 1.2857 | valid_bal_acc: 0.6468 | valid_mcc: 0.2950\n",
      "Epoch: 79 | train_loss: 1.2988 | train_bal_acc: 0.6254 | train_mcc: 0.2516 | valid_loss: 1.2852 | valid_bal_acc: 0.6463 | valid_mcc: 0.2937\n",
      "Epoch: 80 | train_loss: 1.2989 | train_bal_acc: 0.6229 | train_mcc: 0.2460 | valid_loss: 1.2849 | valid_bal_acc: 0.6451 | valid_mcc: 0.2903\n",
      "Epoch: 81 | train_loss: 1.2973 | train_bal_acc: 0.6269 | train_mcc: 0.2544 | valid_loss: 1.2846 | valid_bal_acc: 0.6405 | valid_mcc: 0.2811\n",
      "Epoch: 82 | train_loss: 1.2962 | train_bal_acc: 0.6257 | train_mcc: 0.2520 | valid_loss: 1.2836 | valid_bal_acc: 0.6460 | valid_mcc: 0.2925\n",
      "Epoch: 83 | train_loss: 1.2973 | train_bal_acc: 0.6247 | train_mcc: 0.2496 | valid_loss: 1.2838 | valid_bal_acc: 0.6471 | valid_mcc: 0.2956\n",
      "Epoch: 84 | train_loss: 1.2956 | train_bal_acc: 0.6266 | train_mcc: 0.2536 | valid_loss: 1.2828 | valid_bal_acc: 0.6461 | valid_mcc: 0.2937\n",
      "Epoch: 85 | train_loss: 1.2954 | train_bal_acc: 0.6261 | train_mcc: 0.2530 | valid_loss: 1.2827 | valid_bal_acc: 0.6428 | valid_mcc: 0.2857\n",
      "Epoch: 86 | train_loss: 1.2944 | train_bal_acc: 0.6280 | train_mcc: 0.2563 | valid_loss: 1.2822 | valid_bal_acc: 0.6443 | valid_mcc: 0.2889\n",
      "Epoch: 87 | train_loss: 1.2951 | train_bal_acc: 0.6256 | train_mcc: 0.2515 | valid_loss: 1.2828 | valid_bal_acc: 0.6373 | valid_mcc: 0.2751\n",
      "Epoch: 88 | train_loss: 1.2943 | train_bal_acc: 0.6284 | train_mcc: 0.2556 | valid_loss: 1.2814 | valid_bal_acc: 0.6461 | valid_mcc: 0.2931\n",
      "Epoch: 89 | train_loss: 1.2935 | train_bal_acc: 0.6279 | train_mcc: 0.2560 | valid_loss: 1.2813 | valid_bal_acc: 0.6409 | valid_mcc: 0.2811\n",
      "Epoch: 90 | train_loss: 1.2942 | train_bal_acc: 0.6278 | train_mcc: 0.2554 | valid_loss: 1.2815 | valid_bal_acc: 0.6314 | valid_mcc: 0.2632\n",
      "Epoch: 91 | train_loss: 1.2943 | train_bal_acc: 0.6263 | train_mcc: 0.2528 | valid_loss: 1.2799 | valid_bal_acc: 0.6450 | valid_mcc: 0.2902\n",
      "Epoch: 92 | train_loss: 1.2912 | train_bal_acc: 0.6302 | train_mcc: 0.2608 | valid_loss: 1.2795 | valid_bal_acc: 0.6446 | valid_mcc: 0.2896\n",
      "Epoch: 93 | train_loss: 1.2952 | train_bal_acc: 0.6249 | train_mcc: 0.2503 | valid_loss: 1.2789 | valid_bal_acc: 0.6425 | valid_mcc: 0.2854\n",
      "Epoch: 94 | train_loss: 1.2911 | train_bal_acc: 0.6295 | train_mcc: 0.2596 | valid_loss: 1.2785 | valid_bal_acc: 0.6482 | valid_mcc: 0.2978\n",
      "Epoch: 95 | train_loss: 1.2942 | train_bal_acc: 0.6260 | train_mcc: 0.2526 | valid_loss: 1.2783 | valid_bal_acc: 0.6444 | valid_mcc: 0.2885\n",
      "Epoch: 96 | train_loss: 1.2911 | train_bal_acc: 0.6290 | train_mcc: 0.2582 | valid_loss: 1.2777 | valid_bal_acc: 0.6448 | valid_mcc: 0.2911\n",
      "Epoch: 97 | train_loss: 1.2912 | train_bal_acc: 0.6286 | train_mcc: 0.2578 | valid_loss: 1.2777 | valid_bal_acc: 0.6459 | valid_mcc: 0.2930\n",
      "Epoch: 98 | train_loss: 1.2906 | train_bal_acc: 0.6282 | train_mcc: 0.2569 | valid_loss: 1.2773 | valid_bal_acc: 0.6498 | valid_mcc: 0.3028\n",
      "Epoch: 99 | train_loss: 1.2912 | train_bal_acc: 0.6278 | train_mcc: 0.2565 | valid_loss: 1.2769 | valid_bal_acc: 0.6434 | valid_mcc: 0.2874\n",
      "Epoch: 100 | train_loss: 1.2908 | train_bal_acc: 0.6268 | train_mcc: 0.2544 | valid_loss: 1.2763 | valid_bal_acc: 0.6443 | valid_mcc: 0.2896\n",
      "Epoch: 101 | train_loss: 1.2913 | train_bal_acc: 0.6271 | train_mcc: 0.2547 | valid_loss: 1.2768 | valid_bal_acc: 0.6399 | valid_mcc: 0.2800\n",
      "Epoch: 102 | train_loss: 1.2903 | train_bal_acc: 0.6276 | train_mcc: 0.2554 | valid_loss: 1.2759 | valid_bal_acc: 0.6431 | valid_mcc: 0.2862\n",
      "Epoch: 103 | train_loss: 1.2878 | train_bal_acc: 0.6296 | train_mcc: 0.2597 | valid_loss: 1.2750 | valid_bal_acc: 0.6499 | valid_mcc: 0.3016\n",
      "Epoch: 104 | train_loss: 1.2878 | train_bal_acc: 0.6290 | train_mcc: 0.2584 | valid_loss: 1.2752 | valid_bal_acc: 0.6519 | valid_mcc: 0.3073\n",
      "Epoch: 105 | train_loss: 1.2898 | train_bal_acc: 0.6286 | train_mcc: 0.2580 | valid_loss: 1.2752 | valid_bal_acc: 0.6409 | valid_mcc: 0.2817\n",
      "Epoch: 106 | train_loss: 1.2887 | train_bal_acc: 0.6274 | train_mcc: 0.2553 | valid_loss: 1.2746 | valid_bal_acc: 0.6416 | valid_mcc: 0.2830\n",
      "Epoch: 107 | train_loss: 1.2886 | train_bal_acc: 0.6290 | train_mcc: 0.2582 | valid_loss: 1.2736 | valid_bal_acc: 0.6450 | valid_mcc: 0.2902\n",
      "Epoch: 108 | train_loss: 1.2880 | train_bal_acc: 0.6287 | train_mcc: 0.2574 | valid_loss: 1.2745 | valid_bal_acc: 0.6392 | valid_mcc: 0.2786\n",
      "Epoch: 109 | train_loss: 1.2870 | train_bal_acc: 0.6308 | train_mcc: 0.2621 | valid_loss: 1.2730 | valid_bal_acc: 0.6466 | valid_mcc: 0.2943\n",
      "Epoch: 110 | train_loss: 1.2866 | train_bal_acc: 0.6301 | train_mcc: 0.2604 | valid_loss: 1.2731 | valid_bal_acc: 0.6500 | valid_mcc: 0.3013\n",
      "Epoch: 111 | train_loss: 1.2895 | train_bal_acc: 0.6260 | train_mcc: 0.2528 | valid_loss: 1.2724 | valid_bal_acc: 0.6506 | valid_mcc: 0.3032\n",
      "Epoch: 112 | train_loss: 1.2898 | train_bal_acc: 0.6272 | train_mcc: 0.2544 | valid_loss: 1.2717 | valid_bal_acc: 0.6478 | valid_mcc: 0.2975\n",
      "Epoch: 113 | train_loss: 1.2881 | train_bal_acc: 0.6288 | train_mcc: 0.2581 | valid_loss: 1.2717 | valid_bal_acc: 0.6481 | valid_mcc: 0.2961\n",
      "Epoch: 114 | train_loss: 1.2879 | train_bal_acc: 0.6283 | train_mcc: 0.2572 | valid_loss: 1.2726 | valid_bal_acc: 0.6413 | valid_mcc: 0.2828\n",
      "Epoch: 115 | train_loss: 1.2869 | train_bal_acc: 0.6301 | train_mcc: 0.2601 | valid_loss: 1.2716 | valid_bal_acc: 0.6442 | valid_mcc: 0.2883\n",
      "Epoch: 116 | train_loss: 1.2843 | train_bal_acc: 0.6307 | train_mcc: 0.2619 | valid_loss: 1.2711 | valid_bal_acc: 0.6463 | valid_mcc: 0.2931\n",
      "Epoch: 117 | train_loss: 1.2852 | train_bal_acc: 0.6301 | train_mcc: 0.2603 | valid_loss: 1.2701 | valid_bal_acc: 0.6492 | valid_mcc: 0.2995\n",
      "Epoch: 118 | train_loss: 1.2855 | train_bal_acc: 0.6314 | train_mcc: 0.2634 | valid_loss: 1.2703 | valid_bal_acc: 0.6487 | valid_mcc: 0.2992\n"
     ]
    },
    {
     "name": "stdout",
     "output_type": "stream",
     "text": [
      "Epoch: 119 | train_loss: 1.2830 | train_bal_acc: 0.6338 | train_mcc: 0.2684 | valid_loss: 1.2698 | valid_bal_acc: 0.6515 | valid_mcc: 0.3052\n",
      "Epoch: 120 | train_loss: 1.2848 | train_bal_acc: 0.6304 | train_mcc: 0.2618 | valid_loss: 1.2698 | valid_bal_acc: 0.6449 | valid_mcc: 0.2899\n",
      "Epoch: 121 | train_loss: 1.2837 | train_bal_acc: 0.6284 | train_mcc: 0.2572 | valid_loss: 1.2693 | valid_bal_acc: 0.6474 | valid_mcc: 0.2956\n",
      "Epoch: 122 | train_loss: 1.2845 | train_bal_acc: 0.6319 | train_mcc: 0.2646 | valid_loss: 1.2719 | valid_bal_acc: 0.6328 | valid_mcc: 0.2666\n",
      "Epoch: 123 | train_loss: 1.2836 | train_bal_acc: 0.6302 | train_mcc: 0.2607 | valid_loss: 1.2688 | valid_bal_acc: 0.6508 | valid_mcc: 0.3042\n",
      "Epoch: 124 | train_loss: 1.2838 | train_bal_acc: 0.6295 | train_mcc: 0.2601 | valid_loss: 1.2689 | valid_bal_acc: 0.6541 | valid_mcc: 0.3112\n",
      "Epoch: 125 | train_loss: 1.2831 | train_bal_acc: 0.6322 | train_mcc: 0.2648 | valid_loss: 1.2684 | valid_bal_acc: 0.6539 | valid_mcc: 0.3107\n",
      "Epoch: 126 | train_loss: 1.2825 | train_bal_acc: 0.6311 | train_mcc: 0.2627 | valid_loss: 1.2678 | valid_bal_acc: 0.6478 | valid_mcc: 0.2961\n",
      "Epoch: 127 | train_loss: 1.2834 | train_bal_acc: 0.6313 | train_mcc: 0.2629 | valid_loss: 1.2676 | valid_bal_acc: 0.6435 | valid_mcc: 0.2875\n",
      "Epoch: 128 | train_loss: 1.2828 | train_bal_acc: 0.6325 | train_mcc: 0.2650 | valid_loss: 1.2675 | valid_bal_acc: 0.6475 | valid_mcc: 0.2961\n",
      "Epoch: 129 | train_loss: 1.2835 | train_bal_acc: 0.6306 | train_mcc: 0.2617 | valid_loss: 1.2675 | valid_bal_acc: 0.6451 | valid_mcc: 0.2903\n",
      "Epoch: 130 | train_loss: 1.2817 | train_bal_acc: 0.6315 | train_mcc: 0.2628 | valid_loss: 1.2677 | valid_bal_acc: 0.6437 | valid_mcc: 0.2873\n",
      "Epoch: 131 | train_loss: 1.2826 | train_bal_acc: 0.6290 | train_mcc: 0.2584 | valid_loss: 1.2662 | valid_bal_acc: 0.6477 | valid_mcc: 0.2958\n",
      "Epoch: 132 | train_loss: 1.2832 | train_bal_acc: 0.6302 | train_mcc: 0.2611 | valid_loss: 1.2660 | valid_bal_acc: 0.6527 | valid_mcc: 0.3071\n",
      "Epoch: 133 | train_loss: 1.2823 | train_bal_acc: 0.6314 | train_mcc: 0.2637 | valid_loss: 1.2667 | valid_bal_acc: 0.6435 | valid_mcc: 0.2868\n",
      "Epoch: 134 | train_loss: 1.2794 | train_bal_acc: 0.6352 | train_mcc: 0.2705 | valid_loss: 1.2654 | valid_bal_acc: 0.6528 | valid_mcc: 0.3069\n",
      "Epoch: 135 | train_loss: 1.2803 | train_bal_acc: 0.6304 | train_mcc: 0.2612 | valid_loss: 1.2659 | valid_bal_acc: 0.6534 | valid_mcc: 0.3100\n",
      "Epoch: 136 | train_loss: 1.2819 | train_bal_acc: 0.6313 | train_mcc: 0.2626 | valid_loss: 1.2653 | valid_bal_acc: 0.6439 | valid_mcc: 0.2874\n",
      "Epoch: 137 | train_loss: 1.2816 | train_bal_acc: 0.6311 | train_mcc: 0.2620 | valid_loss: 1.2673 | valid_bal_acc: 0.6358 | valid_mcc: 0.2723\n",
      "Epoch: 138 | train_loss: 1.2812 | train_bal_acc: 0.6319 | train_mcc: 0.2638 | valid_loss: 1.2652 | valid_bal_acc: 0.6562 | valid_mcc: 0.3177\n",
      "Epoch: 139 | train_loss: 1.2802 | train_bal_acc: 0.6319 | train_mcc: 0.2645 | valid_loss: 1.2639 | valid_bal_acc: 0.6510 | valid_mcc: 0.3024\n",
      "Epoch: 140 | train_loss: 1.2780 | train_bal_acc: 0.6341 | train_mcc: 0.2686 | valid_loss: 1.2639 | valid_bal_acc: 0.6524 | valid_mcc: 0.3054\n",
      "Epoch: 141 | train_loss: 1.2782 | train_bal_acc: 0.6339 | train_mcc: 0.2683 | valid_loss: 1.2632 | valid_bal_acc: 0.6501 | valid_mcc: 0.3005\n",
      "Epoch: 142 | train_loss: 1.2782 | train_bal_acc: 0.6354 | train_mcc: 0.2714 | valid_loss: 1.2638 | valid_bal_acc: 0.6449 | valid_mcc: 0.2902\n",
      "Epoch: 143 | train_loss: 1.2796 | train_bal_acc: 0.6338 | train_mcc: 0.2680 | valid_loss: 1.2640 | valid_bal_acc: 0.6455 | valid_mcc: 0.2899\n",
      "Epoch: 144 | train_loss: 1.2789 | train_bal_acc: 0.6333 | train_mcc: 0.2655 | valid_loss: 1.2628 | valid_bal_acc: 0.6546 | valid_mcc: 0.3122\n",
      "Epoch: 145 | train_loss: 1.2803 | train_bal_acc: 0.6309 | train_mcc: 0.2622 | valid_loss: 1.2629 | valid_bal_acc: 0.6449 | valid_mcc: 0.2890\n",
      "Epoch: 146 | train_loss: 1.2800 | train_bal_acc: 0.6295 | train_mcc: 0.2592 | valid_loss: 1.2622 | valid_bal_acc: 0.6466 | valid_mcc: 0.2935\n",
      "Epoch: 147 | train_loss: 1.2782 | train_bal_acc: 0.6294 | train_mcc: 0.2593 | valid_loss: 1.2626 | valid_bal_acc: 0.6451 | valid_mcc: 0.2905\n",
      "Epoch: 148 | train_loss: 1.2777 | train_bal_acc: 0.6310 | train_mcc: 0.2624 | valid_loss: 1.2629 | valid_bal_acc: 0.6427 | valid_mcc: 0.2855\n",
      "Epoch: 149 | train_loss: 1.2779 | train_bal_acc: 0.6325 | train_mcc: 0.2660 | valid_loss: 1.2632 | valid_bal_acc: 0.6405 | valid_mcc: 0.2812\n",
      "Epoch: 150 | train_loss: 1.2772 | train_bal_acc: 0.6322 | train_mcc: 0.2654 | valid_loss: 1.2629 | valid_bal_acc: 0.6415 | valid_mcc: 0.2832\n",
      "Epoch: 151 | train_loss: 1.2777 | train_bal_acc: 0.6313 | train_mcc: 0.2627 | valid_loss: 1.2608 | valid_bal_acc: 0.6545 | valid_mcc: 0.3107\n",
      "Epoch: 152 | train_loss: 1.2774 | train_bal_acc: 0.6365 | train_mcc: 0.2722 | valid_loss: 1.2606 | valid_bal_acc: 0.6543 | valid_mcc: 0.3107\n",
      "Epoch: 153 | train_loss: 1.2779 | train_bal_acc: 0.6292 | train_mcc: 0.2587 | valid_loss: 1.2606 | valid_bal_acc: 0.6475 | valid_mcc: 0.2963\n",
      "Epoch: 154 | train_loss: 1.2745 | train_bal_acc: 0.6352 | train_mcc: 0.2711 | valid_loss: 1.2608 | valid_bal_acc: 0.6535 | valid_mcc: 0.3089\n",
      "Epoch: 155 | train_loss: 1.2771 | train_bal_acc: 0.6339 | train_mcc: 0.2682 | valid_loss: 1.2595 | valid_bal_acc: 0.6541 | valid_mcc: 0.3108\n",
      "Epoch: 156 | train_loss: 1.2765 | train_bal_acc: 0.6348 | train_mcc: 0.2700 | valid_loss: 1.2602 | valid_bal_acc: 0.6474 | valid_mcc: 0.2953\n",
      "Epoch: 157 | train_loss: 1.2792 | train_bal_acc: 0.6304 | train_mcc: 0.2613 | valid_loss: 1.2594 | valid_bal_acc: 0.6546 | valid_mcc: 0.3112\n",
      "Epoch: 158 | train_loss: 1.2761 | train_bal_acc: 0.6323 | train_mcc: 0.2647 | valid_loss: 1.2593 | valid_bal_acc: 0.6529 | valid_mcc: 0.3077\n",
      "Epoch: 159 | train_loss: 1.2754 | train_bal_acc: 0.6339 | train_mcc: 0.2671 | valid_loss: 1.2598 | valid_bal_acc: 0.6462 | valid_mcc: 0.2930\n",
      "Epoch: 160 | train_loss: 1.2772 | train_bal_acc: 0.6327 | train_mcc: 0.2657 | valid_loss: 1.2594 | valid_bal_acc: 0.6467 | valid_mcc: 0.2934\n",
      "Epoch: 161 | train_loss: 1.2766 | train_bal_acc: 0.6340 | train_mcc: 0.2682 | valid_loss: 1.2586 | valid_bal_acc: 0.6486 | valid_mcc: 0.2977\n",
      "Epoch: 162 | train_loss: 1.2752 | train_bal_acc: 0.6344 | train_mcc: 0.2685 | valid_loss: 1.2601 | valid_bal_acc: 0.6435 | valid_mcc: 0.2870\n",
      "Epoch: 163 | train_loss: 1.2753 | train_bal_acc: 0.6326 | train_mcc: 0.2657 | valid_loss: 1.2584 | valid_bal_acc: 0.6508 | valid_mcc: 0.3026\n",
      "Epoch: 164 | train_loss: 1.2763 | train_bal_acc: 0.6341 | train_mcc: 0.2685 | valid_loss: 1.2597 | valid_bal_acc: 0.6439 | valid_mcc: 0.2879\n",
      "Epoch: 165 | train_loss: 1.2757 | train_bal_acc: 0.6329 | train_mcc: 0.2661 | valid_loss: 1.2576 | valid_bal_acc: 0.6495 | valid_mcc: 0.2997\n",
      "Epoch: 166 | train_loss: 1.2736 | train_bal_acc: 0.6353 | train_mcc: 0.2711 | valid_loss: 1.2576 | valid_bal_acc: 0.6523 | valid_mcc: 0.3067\n",
      "Epoch: 167 | train_loss: 1.2763 | train_bal_acc: 0.6305 | train_mcc: 0.2617 | valid_loss: 1.2576 | valid_bal_acc: 0.6517 | valid_mcc: 0.3050\n",
      "Epoch: 168 | train_loss: 1.2749 | train_bal_acc: 0.6334 | train_mcc: 0.2672 | valid_loss: 1.2577 | valid_bal_acc: 0.6471 | valid_mcc: 0.2938\n",
      "Epoch: 169 | train_loss: 1.2734 | train_bal_acc: 0.6349 | train_mcc: 0.2702 | valid_loss: 1.2566 | valid_bal_acc: 0.6497 | valid_mcc: 0.2997\n",
      "Epoch: 170 | train_loss: 1.2716 | train_bal_acc: 0.6372 | train_mcc: 0.2748 | valid_loss: 1.2561 | valid_bal_acc: 0.6536 | valid_mcc: 0.3103\n",
      "Epoch: 171 | train_loss: 1.2743 | train_bal_acc: 0.6318 | train_mcc: 0.2653 | valid_loss: 1.2597 | valid_bal_acc: 0.6394 | valid_mcc: 0.2796\n",
      "Epoch: 172 | train_loss: 1.2711 | train_bal_acc: 0.6345 | train_mcc: 0.2695 | valid_loss: 1.2558 | valid_bal_acc: 0.6507 | valid_mcc: 0.3020\n",
      "Epoch: 173 | train_loss: 1.2735 | train_bal_acc: 0.6347 | train_mcc: 0.2694 | valid_loss: 1.2558 | valid_bal_acc: 0.6483 | valid_mcc: 0.2957\n",
      "Epoch: 174 | train_loss: 1.2725 | train_bal_acc: 0.6344 | train_mcc: 0.2678 | valid_loss: 1.2574 | valid_bal_acc: 0.6420 | valid_mcc: 0.2849\n",
      "Epoch: 175 | train_loss: 1.2723 | train_bal_acc: 0.6320 | train_mcc: 0.2646 | valid_loss: 1.2574 | valid_bal_acc: 0.6428 | valid_mcc: 0.2858\n",
      "Epoch: 176 | train_loss: 1.2732 | train_bal_acc: 0.6333 | train_mcc: 0.2667 | valid_loss: 1.2554 | valid_bal_acc: 0.6493 | valid_mcc: 0.2990\n",
      "Epoch: 177 | train_loss: 1.2718 | train_bal_acc: 0.6331 | train_mcc: 0.2662 | valid_loss: 1.2575 | valid_bal_acc: 0.6412 | valid_mcc: 0.2827\n"
     ]
    },
    {
     "name": "stdout",
     "output_type": "stream",
     "text": [
      "Epoch: 178 | train_loss: 1.2705 | train_bal_acc: 0.6339 | train_mcc: 0.2684 | valid_loss: 1.2544 | valid_bal_acc: 0.6506 | valid_mcc: 0.3012\n",
      "Epoch: 179 | train_loss: 1.2709 | train_bal_acc: 0.6338 | train_mcc: 0.2677 | valid_loss: 1.2540 | valid_bal_acc: 0.6534 | valid_mcc: 0.3096\n",
      "Epoch: 180 | train_loss: 1.2702 | train_bal_acc: 0.6367 | train_mcc: 0.2738 | valid_loss: 1.2536 | valid_bal_acc: 0.6511 | valid_mcc: 0.3028\n",
      "Epoch: 181 | train_loss: 1.2707 | train_bal_acc: 0.6348 | train_mcc: 0.2699 | valid_loss: 1.2532 | valid_bal_acc: 0.6552 | valid_mcc: 0.3124\n",
      "Epoch: 182 | train_loss: 1.2721 | train_bal_acc: 0.6310 | train_mcc: 0.2626 | valid_loss: 1.2543 | valid_bal_acc: 0.6557 | valid_mcc: 0.3165\n",
      "Epoch: 183 | train_loss: 1.2711 | train_bal_acc: 0.6375 | train_mcc: 0.2755 | valid_loss: 1.2534 | valid_bal_acc: 0.6505 | valid_mcc: 0.3010\n",
      "Epoch: 184 | train_loss: 1.2727 | train_bal_acc: 0.6314 | train_mcc: 0.2629 | valid_loss: 1.2527 | valid_bal_acc: 0.6508 | valid_mcc: 0.3017\n",
      "Epoch: 185 | train_loss: 1.2710 | train_bal_acc: 0.6340 | train_mcc: 0.2686 | valid_loss: 1.2531 | valid_bal_acc: 0.6486 | valid_mcc: 0.2969\n",
      "Epoch: 186 | train_loss: 1.2713 | train_bal_acc: 0.6303 | train_mcc: 0.2618 | valid_loss: 1.2529 | valid_bal_acc: 0.6507 | valid_mcc: 0.3022\n",
      "Epoch: 187 | train_loss: 1.2688 | train_bal_acc: 0.6353 | train_mcc: 0.2710 | valid_loss: 1.2523 | valid_bal_acc: 0.6527 | valid_mcc: 0.3053\n",
      "Epoch: 188 | train_loss: 1.2709 | train_bal_acc: 0.6318 | train_mcc: 0.2641 | valid_loss: 1.2521 | valid_bal_acc: 0.6541 | valid_mcc: 0.3115\n",
      "Epoch: 189 | train_loss: 1.2713 | train_bal_acc: 0.6343 | train_mcc: 0.2692 | valid_loss: 1.2519 | valid_bal_acc: 0.6513 | valid_mcc: 0.3024\n",
      "Epoch: 190 | train_loss: 1.2690 | train_bal_acc: 0.6369 | train_mcc: 0.2741 | valid_loss: 1.2518 | valid_bal_acc: 0.6542 | valid_mcc: 0.3098\n",
      "Epoch: 191 | train_loss: 1.2716 | train_bal_acc: 0.6342 | train_mcc: 0.2686 | valid_loss: 1.2519 | valid_bal_acc: 0.6488 | valid_mcc: 0.2973\n",
      "Epoch: 192 | train_loss: 1.2693 | train_bal_acc: 0.6343 | train_mcc: 0.2684 | valid_loss: 1.2510 | valid_bal_acc: 0.6548 | valid_mcc: 0.3103\n",
      "Epoch: 193 | train_loss: 1.2691 | train_bal_acc: 0.6356 | train_mcc: 0.2704 | valid_loss: 1.2541 | valid_bal_acc: 0.6425 | valid_mcc: 0.2851\n",
      "Epoch: 194 | train_loss: 1.2683 | train_bal_acc: 0.6376 | train_mcc: 0.2753 | valid_loss: 1.2509 | valid_bal_acc: 0.6546 | valid_mcc: 0.3103\n",
      "Epoch: 195 | train_loss: 1.2694 | train_bal_acc: 0.6349 | train_mcc: 0.2698 | valid_loss: 1.2500 | valid_bal_acc: 0.6563 | valid_mcc: 0.3138\n",
      "Epoch: 196 | train_loss: 1.2683 | train_bal_acc: 0.6370 | train_mcc: 0.2725 | valid_loss: 1.2510 | valid_bal_acc: 0.6500 | valid_mcc: 0.2997\n",
      "Epoch: 197 | train_loss: 1.2667 | train_bal_acc: 0.6369 | train_mcc: 0.2726 | valid_loss: 1.2535 | valid_bal_acc: 0.6435 | valid_mcc: 0.2870\n",
      "Epoch: 198 | train_loss: 1.2660 | train_bal_acc: 0.6391 | train_mcc: 0.2785 | valid_loss: 1.2500 | valid_bal_acc: 0.6533 | valid_mcc: 0.3066\n",
      "Epoch: 199 | train_loss: 1.2677 | train_bal_acc: 0.6337 | train_mcc: 0.2658 | valid_loss: 1.2497 | valid_bal_acc: 0.6586 | valid_mcc: 0.3201\n",
      "Epoch: 200 | train_loss: 1.2691 | train_bal_acc: 0.6343 | train_mcc: 0.2685 | valid_loss: 1.2511 | valid_bal_acc: 0.6577 | valid_mcc: 0.3226\n"
     ]
    }
   ],
   "source": [
    "results, _ = engine.train_with_early_stopping(model=model,\n",
    "                                                  train_dataloader=train_loader,\n",
    "                                                  valid_dataloader=val_loader,\n",
    "                                                  optimizer=optimizer,\n",
    "                                                  loss_fn=loss_fn,\n",
    "                                                  epochs=200,\n",
    "                                                  device=device)\n"
   ]
  },
  {
   "cell_type": "code",
   "execution_count": 56,
   "id": "09cd9e07",
   "metadata": {},
   "outputs": [
    {
     "data": {
      "image/png": "[encoded data removed]",
      "text/plain": [
       "<Figure size 1500x700 with 2 Axes>"
      ]
     },
     "metadata": {},
     "output_type": "display_data"
    }
   ],
   "source": [
    "helper_functions.plot_loss_curves(results)\n",
    "plt.savefig(f'{tf}_CNN1_SGD_BCEWithLogits_seq=200kb.png')"
   ]
  },
  {
   "cell_type": "code",
   "execution_count": 55,
   "id": "87d03f4d",
   "metadata": {},
   "outputs": [
    {
     "name": "stdout",
     "output_type": "stream",
     "text": [
      "Perfomance on held out test set\n",
      "Test loss: 1.2491378315645665 | Test bal acc 0.6566633212479586 | Test mcc 0.31812611583901723 | Test_f_score 0.650701402104487\n",
      "\n"
     ]
    }
   ],
   "source": [
    "from sklearn.metrics import balanced_accuracy_score, matthews_corrcoef, f1_score\n",
    "import torch.nn.functional as F\n",
    "\n",
    "\n",
    "model.eval()\n",
    "\n",
    "\n",
    "with torch.inference_mode():\n",
    "    all_predictions = []\n",
    "    all_true_labels = []\n",
    "    all_test_pred_prob=[]\n",
    "    \n",
    "    test_loss, test_bal_acc, test_mcc, test_f_score = 0, 0, 0, 0\n",
    "    for batch, (X, y_one_hot, y) in enumerate(test_loader):\n",
    "        # Send data to target device\n",
    "        X, y_one_hot, y = X.to(device),y_one_hot.to(device), y.to(device)\n",
    "\n",
    "        # 1. Forward pass\n",
    "        test_pred_logits = model(X)\n",
    "\n",
    "        # 2. Calculate and accumulate loss\n",
    "        loss = loss_fn(test_pred_logits, y_one_hot)\n",
    "        test_loss += loss.item()\n",
    "\n",
    "        # Calculate and accumulate scores\n",
    "        test_pred_labels = test_pred_logits.argmax(dim=1)\n",
    "        test_pred_prob = torch.softmax(test_pred_logits.squeeze(), dim=0) # note: perform softmax on the \"logits\" dimension, not \"batch\" dimension (in this case we have a batch size of 1, so can perform on dim=0)\n",
    "        test_bal_acc += balanced_accuracy_score(y.cpu().numpy(), test_pred_labels.cpu().numpy())\n",
    "        test_mcc += matthews_corrcoef(y.cpu().numpy(), test_pred_labels.cpu().numpy())\n",
    "        test_f_score += f1_score(y.cpu().numpy(), test_pred_labels.cpu().numpy(), average='weighted')\n",
    "        \n",
    "        all_predictions.extend(test_pred_labels.cpu().numpy())\n",
    "        all_true_labels.extend(y.cpu().numpy())\n",
    "        all_test_pred_prob.extend(test_pred_prob.cpu().numpy())\n",
    "\n",
    "    # Adjust metrics to get average loss and accuracy per batch\n",
    "    test_loss = test_loss / len(test_loader)\n",
    "    test_bal_acc = test_bal_acc / len(test_loader)\n",
    "    test_mcc = test_mcc / len(test_loader)\n",
    "    test_f_score = test_f_score / len(test_loader)\n",
    "    print(\"Perfomance on held out test set\")\n",
    "    print(f'Test loss: {test_loss} | Test bal acc {test_bal_acc} | Test mcc {test_mcc} | Test_f_score {test_f_score}\\n')   \n",
    "    "
   ]
  },
  {
   "cell_type": "markdown",
   "id": "66071736",
   "metadata": {},
   "source": []
  },
  {
   "cell_type": "code",
   "execution_count": null,
   "id": "3ed5fc1c",
   "metadata": {},
   "outputs": [],
   "source": []
  }
 ],
 "metadata": {
  "kernelspec": {
   "display_name": "Python 3 (ipykernel)",
   "language": "python",
   "name": "python3"
  },
  "language_info": {
   "codemirror_mode": {
    "name": "ipython",
    "version": 3
   },
   "file_extension": ".py",
   "mimetype": "text/x-python",
   "name": "python",
   "nbconvert_exporter": "python",
   "pygments_lexer": "ipython3",
   "version": "3.11.5"
  }
 },
 "nbformat": 4,
 "nbformat_minor": 5
}
