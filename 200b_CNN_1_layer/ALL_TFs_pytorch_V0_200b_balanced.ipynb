{
 "cells": [
  {
   "cell_type": "markdown",
   "id": "e7eb3167",
   "metadata": {},
   "source": [
    "# Imports and functions"
   ]
  },
  {
   "cell_type": "code",
   "execution_count": 70,
   "id": "05d85633",
   "metadata": {},
   "outputs": [],
   "source": [
    "import pandas as pd\n",
    "import numpy as np\n",
    "from sklearn.preprocessing import OneHotEncoder\n",
    "from keras.utils import to_categorical\n",
    "from sklearn.metrics import balanced_accuracy_score\n"
   ]
  },
  {
   "cell_type": "code",
   "execution_count": 71,
   "id": "43a5887d",
   "metadata": {},
   "outputs": [],
   "source": [
    "import torchvision\n",
    "import engine\n",
    "import engine_boosted\n",
    "import engine_boosted_multi\n",
    "import helper_functions"
   ]
  },
  {
   "cell_type": "code",
   "execution_count": 72,
   "id": "59bde44a",
   "metadata": {},
   "outputs": [],
   "source": [
    "from tqdm.auto import tqdm\n",
    "from typing import Dict, List, Tuple\n",
    "from sklearn.metrics import balanced_accuracy_score, matthews_corrcoef, f1_score\n",
    "from collections import deque  # Import deque for early stopping\n",
    "import warnings\n",
    "\n",
    "# Suppress the specific UserWarning related to y_pred and y_true class mismatch\n",
    "warnings.filterwarnings(\"ignore\", category=UserWarning, message=\"y_pred contains classes not in y_true\")"
   ]
  },
  {
   "cell_type": "code",
   "execution_count": 73,
   "id": "faeaeafc",
   "metadata": {},
   "outputs": [],
   "source": [
    "from sklearn.metrics import balanced_accuracy_score\n",
    "\n",
    "# Function to calculate balanced accuracy using sklearn\n",
    "def balanced_accuracy(y_true, y_pred):\n",
    "    return balanced_accuracy_score(y_true, y_pred) * 100"
   ]
  },
  {
   "cell_type": "code",
   "execution_count": 74,
   "id": "6c000451",
   "metadata": {},
   "outputs": [],
   "source": [
    "# Function to perform one-hot encoding for DNA sequences\n",
    "def one_hot_encode(sequence):\n",
    "    encoding = {'A': [1, 0, 0, 0], 'T': [0, 1, 0, 0], 'G': [0, 0, 1, 0], 'C': [0, 0, 0, 1]}\n",
    "    one_hot_sequence = [encoding.get(base, [0, 0, 0, 0]) for base in sequence]\n",
    "    return np.array(one_hot_sequence)"
   ]
  },
  {
   "cell_type": "code",
   "execution_count": 75,
   "id": "d981b1bf",
   "metadata": {},
   "outputs": [],
   "source": [
    "kernel = {\n",
    "    'ATF2': [10] ,\n",
    "    'ATF3' : [10] ,\n",
    "    'CEBPB' : [10] ,\n",
    "    'CREB1' : [8] ,\n",
    "    'CTCF' : [15] ,\n",
    "    'E2F4' : [13] ,\n",
    "    'EGR1' : [10] ,\n",
    "    'EFL1' : [9] ,\n",
    "    'ELK1' : [9] ,\n",
    "    'FOS' : [8] ,\n",
    "    'FOXA1' : [8] ,\n",
    "    'GABPA' : [10] ,\n",
    "    'JUN' : [14] ,\n",
    "    'JUND' : [11] ,\n",
    "    'MAFK' : [10] ,\n",
    "    'MAX' : [6] ,\n",
    "    'MAZ' : [8] ,\n",
    "    'MXI1' : [6] ,\n",
    "    'MYC' : [8] ,\n",
    "    'NRF1' : [11] ,\n",
    "    'RELA' : [10] ,\n",
    "    'REST' : [20] ,\n",
    "    'RFX5' : [14] ,\n",
    "    'SP1' : [9] ,\n",
    "    'SRF' : [16] ,\n",
    "    'TCF7L2' : [9] ,\n",
    "    'TCF12' : [7] ,\n",
    "    'TEAD4' : [8] ,\n",
    "    'USF1' : [10] ,\n",
    "    'USF2' : [10] ,\n",
    "    'YY1' : [12] ,\n",
    "    'ZBTB33' : [10] ,\n",
    "    'ZNF274' : [12]\n",
    "}"
   ]
  },
  {
   "cell_type": "code",
   "execution_count": 76,
   "id": "11b36fc7",
   "metadata": {},
   "outputs": [],
   "source": [
    "tf_class = {\n",
    "    'ATF2': [0] ,\n",
    "    'ATF3' : [1] ,\n",
    "    'CEBPB' : [2] ,\n",
    "    'CREB1' : [3] ,\n",
    "    'CTCF' : [4] ,\n",
    "    'E2F4' : [5] ,\n",
    "    'EGR1' : [6] ,\n",
    "    'EFL1' : [7],\n",
    "    'ELK1' : [8],\n",
    "    'FOS' : [9] ,\n",
    "    'FOXA1' : [10] ,\n",
    "    'GABPA' : [11] ,\n",
    "    'JUN' : [12] ,\n",
    "    'JUND' : [13] ,\n",
    "    'MAFK' : [14] ,\n",
    "    'MAX' : [15] ,\n",
    "    'MAZ' : [16] ,\n",
    "    'MXI1' : [17] ,\n",
    "    'MYC' : [18] ,\n",
    "    'NRF1' : [19] ,\n",
    "    'RELA' : [20] ,\n",
    "    'REST' : [21] ,\n",
    "    'RFX5' : [22] ,\n",
    "    'SP1' : [23] ,\n",
    "    'SRF' : [24] ,\n",
    "    'TCF7L2' : [25] ,\n",
    "    'TCF12' : [26] ,\n",
    "    'TEAD4' : [27] ,\n",
    "    'USF1' : [28] ,\n",
    "    'USF2' : [29] ,\n",
    "    'YY1' : [30] ,\n",
    "    'ZBTB33' : [31] ,\n",
    "    'ZNF274' : [32]\n",
    "}"
   ]
  },
  {
   "cell_type": "markdown",
   "id": "4f102ecb",
   "metadata": {},
   "source": [
    "# Set up device agnostic code"
   ]
  },
  {
   "cell_type": "code",
   "execution_count": 77,
   "id": "12cee86f",
   "metadata": {},
   "outputs": [
    {
     "data": {
      "text/plain": [
       "'cpu'"
      ]
     },
     "execution_count": 77,
     "metadata": {},
     "output_type": "execute_result"
    }
   ],
   "source": [
    "import torch\n",
    "from torch import nn\n",
    "# Make device agnostic code\n",
    "device = \"cuda\" if torch.cuda.is_available() else \"cpu\"\n",
    "device"
   ]
  },
  {
   "cell_type": "code",
   "execution_count": 78,
   "id": "c9939f1e",
   "metadata": {},
   "outputs": [
    {
     "name": "stdout",
     "output_type": "stream",
     "text": [
      "File not found for TF: RCOR1\n",
      "Combined data saved to /mnt/raid1/thalassini/home/tf_data/combined_6_data.csv\n"
     ]
    }
   ],
   "source": [
    "import pandas as pd\n",
    "\n",
    "# Read the list of TFs from the file\n",
    "tf_list_path = '/mnt/raid1/thalassini/home/Downloads/target_names_6.txt'\n",
    "with open(tf_list_path, 'r') as file:\n",
    "    tf_list = file.read().splitlines()\n",
    "\n",
    "# Define the directory where the CSV files for each TF are located\n",
    "base_directory = '/mnt/raid1/thalassini/home/filtered_fimo_200b_balanced/'\n",
    "\n",
    "# Combine data for each TF and write to a single CSV file\n",
    "for tf in tf_list:\n",
    "    file_path = f'{base_directory}{tf.upper()}/datasets/data.csv'\n",
    "    \n",
    "    try:\n",
    "        df = pd.read_csv(file_path)\n",
    "        \n",
    "        # Add a column to identify the TF\n",
    "        df['TF'] = tf\n",
    "        \n",
    "        # Append data to the master DataFrame or create it if it doesn't exist\n",
    "        if 'master_df' in locals():\n",
    "            master_df = pd.concat([master_df, df], ignore_index=True)\n",
    "        else:\n",
    "            master_df = df\n",
    "    except FileNotFoundError:\n",
    "        print(f\"File not found for TF: {tf}\")\n",
    "\n",
    "# Save the combined DataFrame to a new CSV file\n",
    "output_csv_path = '/mnt/raid1/thalassini/home/tf_data/combined_6_data.csv'\n",
    "master_df.to_csv(output_csv_path, index=False)\n",
    "\n",
    "print(f\"Combined data saved to {output_csv_path}\")\n"
   ]
  },
  {
   "cell_type": "code",
   "execution_count": 79,
   "id": "38ec5b8a",
   "metadata": {},
   "outputs": [
    {
     "data": {
      "text/html": [
       "<div>\n",
       "<style scoped>\n",
       "    .dataframe tbody tr th:only-of-type {\n",
       "        vertical-align: middle;\n",
       "    }\n",
       "\n",
       "    .dataframe tbody tr th {\n",
       "        vertical-align: top;\n",
       "    }\n",
       "\n",
       "    .dataframe thead th {\n",
       "        text-align: right;\n",
       "    }\n",
       "</style>\n",
       "<table border=\"1\" class=\"dataframe\">\n",
       "  <thead>\n",
       "    <tr style=\"text-align: right;\">\n",
       "      <th></th>\n",
       "      <th>data</th>\n",
       "      <th>class</th>\n",
       "      <th>TF</th>\n",
       "    </tr>\n",
       "  </thead>\n",
       "  <tbody>\n",
       "    <tr>\n",
       "      <th>0</th>\n",
       "      <td>CTCCTTTTTCCCCCTCTGCCACAACCTCTAAATACTGAGGGCCCCA...</td>\n",
       "      <td>1</td>\n",
       "      <td>ATF2</td>\n",
       "    </tr>\n",
       "    <tr>\n",
       "      <th>1</th>\n",
       "      <td>TATAGCAATCTGAATCCTTGTGCTAAACTTAATTGTCGTTGTCGTC...</td>\n",
       "      <td>1</td>\n",
       "      <td>ATF2</td>\n",
       "    </tr>\n",
       "    <tr>\n",
       "      <th>2</th>\n",
       "      <td>AAAACCAAAACAAGAAGTCGGTCTCCTCTTTTTATATAATAGTTTA...</td>\n",
       "      <td>1</td>\n",
       "      <td>ATF2</td>\n",
       "    </tr>\n",
       "    <tr>\n",
       "      <th>3</th>\n",
       "      <td>TTAGGTCATGCACACTGAACTGAAACTGAGATGAATGACATCATCA...</td>\n",
       "      <td>1</td>\n",
       "      <td>ATF2</td>\n",
       "    </tr>\n",
       "    <tr>\n",
       "      <th>4</th>\n",
       "      <td>GAACAGAGGCTCAGGCAGCTGAAGTAACGTGCCTAAGGTCACATGG...</td>\n",
       "      <td>1</td>\n",
       "      <td>ATF2</td>\n",
       "    </tr>\n",
       "    <tr>\n",
       "      <th>...</th>\n",
       "      <td>...</td>\n",
       "      <td>...</td>\n",
       "      <td>...</td>\n",
       "    </tr>\n",
       "    <tr>\n",
       "      <th>2540089</th>\n",
       "      <td>TCATACAGGTGAGAAACCCTACAAATGTAATGAGTGTGAAAAAACC...</td>\n",
       "      <td>0</td>\n",
       "      <td>ZNF274</td>\n",
       "    </tr>\n",
       "    <tr>\n",
       "      <th>2540090</th>\n",
       "      <td>ATTACACTTTCAAGGTTTCTCTCCACTATGAAGTCTATGATGGTAT...</td>\n",
       "      <td>0</td>\n",
       "      <td>ZNF274</td>\n",
       "    </tr>\n",
       "    <tr>\n",
       "      <th>2540091</th>\n",
       "      <td>TTACATTTGTAAGGCTTCTCTCCAGTATGGATGACCTGATGGGTAG...</td>\n",
       "      <td>0</td>\n",
       "      <td>ZNF274</td>\n",
       "    </tr>\n",
       "    <tr>\n",
       "      <th>2540092</th>\n",
       "      <td>TTCATACTGGAGAGAAACCCTACAAATGCAAAGAATGTTGCAAAGC...</td>\n",
       "      <td>0</td>\n",
       "      <td>ZNF274</td>\n",
       "    </tr>\n",
       "    <tr>\n",
       "      <th>2540093</th>\n",
       "      <td>ATTACATTTATAAGCTTTTTCTCCAGTATGAATTCTCCAATGATAT...</td>\n",
       "      <td>0</td>\n",
       "      <td>ZNF274</td>\n",
       "    </tr>\n",
       "  </tbody>\n",
       "</table>\n",
       "<p>2540094 rows × 3 columns</p>\n",
       "</div>"
      ],
      "text/plain": [
       "                                                      data  class      TF\n",
       "0        CTCCTTTTTCCCCCTCTGCCACAACCTCTAAATACTGAGGGCCCCA...      1    ATF2\n",
       "1        TATAGCAATCTGAATCCTTGTGCTAAACTTAATTGTCGTTGTCGTC...      1    ATF2\n",
       "2        AAAACCAAAACAAGAAGTCGGTCTCCTCTTTTTATATAATAGTTTA...      1    ATF2\n",
       "3        TTAGGTCATGCACACTGAACTGAAACTGAGATGAATGACATCATCA...      1    ATF2\n",
       "4        GAACAGAGGCTCAGGCAGCTGAAGTAACGTGCCTAAGGTCACATGG...      1    ATF2\n",
       "...                                                    ...    ...     ...\n",
       "2540089  TCATACAGGTGAGAAACCCTACAAATGTAATGAGTGTGAAAAAACC...      0  ZNF274\n",
       "2540090  ATTACACTTTCAAGGTTTCTCTCCACTATGAAGTCTATGATGGTAT...      0  ZNF274\n",
       "2540091  TTACATTTGTAAGGCTTCTCTCCAGTATGGATGACCTGATGGGTAG...      0  ZNF274\n",
       "2540092  TTCATACTGGAGAGAAACCCTACAAATGCAAAGAATGTTGCAAAGC...      0  ZNF274\n",
       "2540093  ATTACATTTATAAGCTTTTTCTCCAGTATGAATTCTCCAATGATAT...      0  ZNF274\n",
       "\n",
       "[2540094 rows x 3 columns]"
      ]
     },
     "execution_count": 79,
     "metadata": {},
     "output_type": "execute_result"
    }
   ],
   "source": [
    "master_df"
   ]
  },
  {
   "cell_type": "code",
   "execution_count": 80,
   "id": "939edc98",
   "metadata": {},
   "outputs": [
    {
     "data": {
      "text/html": [
       "<div>\n",
       "<style scoped>\n",
       "    .dataframe tbody tr th:only-of-type {\n",
       "        vertical-align: middle;\n",
       "    }\n",
       "\n",
       "    .dataframe tbody tr th {\n",
       "        vertical-align: top;\n",
       "    }\n",
       "\n",
       "    .dataframe thead th {\n",
       "        text-align: right;\n",
       "    }\n",
       "</style>\n",
       "<table border=\"1\" class=\"dataframe\">\n",
       "  <thead>\n",
       "    <tr style=\"text-align: right;\">\n",
       "      <th></th>\n",
       "      <th>data</th>\n",
       "      <th>class</th>\n",
       "      <th>TF</th>\n",
       "    </tr>\n",
       "  </thead>\n",
       "  <tbody>\n",
       "    <tr>\n",
       "      <th>0</th>\n",
       "      <td>AGGGCAGTTCCCAATTACCCAAAGGGATCTTGAGGTTCAGAGACAT...</td>\n",
       "      <td>1</td>\n",
       "      <td>32</td>\n",
       "    </tr>\n",
       "    <tr>\n",
       "      <th>1</th>\n",
       "      <td>ACACTGGAGAGAAACCCTATGAGTGTAAGCAATGTGGGAAAGCCTT...</td>\n",
       "      <td>1</td>\n",
       "      <td>32</td>\n",
       "    </tr>\n",
       "    <tr>\n",
       "      <th>2</th>\n",
       "      <td>GCTGACATTTATAGGGTTTCTCTTCTGTGTGAGTTTTTTCATGAAT...</td>\n",
       "      <td>1</td>\n",
       "      <td>32</td>\n",
       "    </tr>\n",
       "    <tr>\n",
       "      <th>3</th>\n",
       "      <td>TTTTTACATTTATAGGGCTTTTCTCCAGTATGAGTTTTTTTATGCT...</td>\n",
       "      <td>1</td>\n",
       "      <td>32</td>\n",
       "    </tr>\n",
       "    <tr>\n",
       "      <th>4</th>\n",
       "      <td>TTTTTACATTTATAGGGCTTTTCTCCAGTATGAGTTTTTTTATGCT...</td>\n",
       "      <td>1</td>\n",
       "      <td>32</td>\n",
       "    </tr>\n",
       "    <tr>\n",
       "      <th>...</th>\n",
       "      <td>...</td>\n",
       "      <td>...</td>\n",
       "      <td>...</td>\n",
       "    </tr>\n",
       "    <tr>\n",
       "      <th>6445</th>\n",
       "      <td>TCATACAGGTGAGAAACCCTACAAATGTAATGAGTGTGAAAAAACC...</td>\n",
       "      <td>0</td>\n",
       "      <td>32</td>\n",
       "    </tr>\n",
       "    <tr>\n",
       "      <th>6446</th>\n",
       "      <td>ATTACACTTTCAAGGTTTCTCTCCACTATGAAGTCTATGATGGTAT...</td>\n",
       "      <td>0</td>\n",
       "      <td>32</td>\n",
       "    </tr>\n",
       "    <tr>\n",
       "      <th>6447</th>\n",
       "      <td>TTACATTTGTAAGGCTTCTCTCCAGTATGGATGACCTGATGGGTAG...</td>\n",
       "      <td>0</td>\n",
       "      <td>32</td>\n",
       "    </tr>\n",
       "    <tr>\n",
       "      <th>6448</th>\n",
       "      <td>TTCATACTGGAGAGAAACCCTACAAATGCAAAGAATGTTGCAAAGC...</td>\n",
       "      <td>0</td>\n",
       "      <td>32</td>\n",
       "    </tr>\n",
       "    <tr>\n",
       "      <th>6449</th>\n",
       "      <td>ATTACATTTATAAGCTTTTTCTCCAGTATGAATTCTCCAATGATAT...</td>\n",
       "      <td>0</td>\n",
       "      <td>32</td>\n",
       "    </tr>\n",
       "  </tbody>\n",
       "</table>\n",
       "<p>6450 rows × 3 columns</p>\n",
       "</div>"
      ],
      "text/plain": [
       "                                                   data  class  TF\n",
       "0     AGGGCAGTTCCCAATTACCCAAAGGGATCTTGAGGTTCAGAGACAT...      1  32\n",
       "1     ACACTGGAGAGAAACCCTATGAGTGTAAGCAATGTGGGAAAGCCTT...      1  32\n",
       "2     GCTGACATTTATAGGGTTTCTCTTCTGTGTGAGTTTTTTCATGAAT...      1  32\n",
       "3     TTTTTACATTTATAGGGCTTTTCTCCAGTATGAGTTTTTTTATGCT...      1  32\n",
       "4     TTTTTACATTTATAGGGCTTTTCTCCAGTATGAGTTTTTTTATGCT...      1  32\n",
       "...                                                 ...    ...  ..\n",
       "6445  TCATACAGGTGAGAAACCCTACAAATGTAATGAGTGTGAAAAAACC...      0  32\n",
       "6446  ATTACACTTTCAAGGTTTCTCTCCACTATGAAGTCTATGATGGTAT...      0  32\n",
       "6447  TTACATTTGTAAGGCTTCTCTCCAGTATGGATGACCTGATGGGTAG...      0  32\n",
       "6448  TTCATACTGGAGAGAAACCCTACAAATGCAAAGAATGTTGCAAAGC...      0  32\n",
       "6449  ATTACATTTATAAGCTTTTTCTCCAGTATGAATTCTCCAATGATAT...      0  32\n",
       "\n",
       "[6450 rows x 3 columns]"
      ]
     },
     "execution_count": 80,
     "metadata": {},
     "output_type": "execute_result"
    }
   ],
   "source": [
    "# Map tf_class to tf column\n",
    "df['TF'] = df['TF'].map(tf_class).apply(lambda x: x[0])\n",
    "\n",
    "df"
   ]
  },
  {
   "cell_type": "markdown",
   "id": "fd9c1045",
   "metadata": {},
   "source": [
    "# Sequence length inspection and normalization"
   ]
  },
  {
   "cell_type": "code",
   "execution_count": 81,
   "id": "d33c9269",
   "metadata": {},
   "outputs": [
    {
     "name": "stdout",
     "output_type": "stream",
     "text": [
      "Max length:200, Min length: 200\n"
     ]
    },
    {
     "data": {
      "image/png": "[encoded data removed]",
      "text/plain": [
       "<Figure size 640x480 with 1 Axes>"
      ]
     },
     "metadata": {},
     "output_type": "display_data"
    }
   ],
   "source": [
    "lengths= [len(item) for item in df['data']] \n",
    "print(f'Max length:{max(lengths)}, Min length: {min(lengths)}')\n",
    "import matplotlib.pyplot as plt\n",
    "# Plotting the histogram\n",
    "plt.hist(lengths, bins=10, color='blue', edgecolor='black')\n",
    "plt.title('Histogram of Lengths')\n",
    "plt.xlabel('Length')\n",
    "plt.ylabel('Frequency')\n",
    "plt.show()"
   ]
  },
  {
   "cell_type": "code",
   "execution_count": 82,
   "id": "292502f4",
   "metadata": {},
   "outputs": [],
   "source": [
    "# Find the maximum length of sequences\n",
    "#min_length = min(len(seq) for seq in df['data'])\n",
    "limit=200\n",
    "\n",
    "\n",
    "# Pad or cut sequences to ensure they all have the same length\n",
    "cut_sequences = [seq[:limit] for seq in df['data']]\n",
    "\n",
    "# Update the DataFrame with the cut sequences\n",
    "#df['data'] = cut_sequences"
   ]
  },
  {
   "cell_type": "code",
   "execution_count": 83,
   "id": "84f394a8",
   "metadata": {},
   "outputs": [
    {
     "name": "stdout",
     "output_type": "stream",
     "text": [
      "Max length:200, Min length: 200\n"
     ]
    }
   ],
   "source": [
    "lengths= [len(item) for item in cut_sequences]\n",
    "print(f'Max length:{max(lengths)}, Min length: {min(lengths)}')"
   ]
  },
  {
   "cell_type": "markdown",
   "id": "9b65d644",
   "metadata": {},
   "source": [
    "# Define X,y variables"
   ]
  },
  {
   "cell_type": "code",
   "execution_count": 84,
   "id": "f9e96a80",
   "metadata": {},
   "outputs": [],
   "source": [
    "X=[one_hot_encode(sequence) for sequence in cut_sequences]"
   ]
  },
  {
   "cell_type": "code",
   "execution_count": 85,
   "id": "2ab32859",
   "metadata": {},
   "outputs": [],
   "source": [
    "X = torch.from_numpy(np.array(X)).type(torch.float)\n"
   ]
  },
  {
   "cell_type": "code",
   "execution_count": 86,
   "id": "0bf2a817",
   "metadata": {},
   "outputs": [
    {
     "data": {
      "text/plain": [
       "torch.Size([6450, 200, 4])"
      ]
     },
     "execution_count": 86,
     "metadata": {},
     "output_type": "execute_result"
    }
   ],
   "source": [
    "X.shape"
   ]
  },
  {
   "cell_type": "code",
   "execution_count": 87,
   "id": "9aec20e4",
   "metadata": {},
   "outputs": [
    {
     "data": {
      "text/plain": [
       "array([1, 1, 1])"
      ]
     },
     "execution_count": 87,
     "metadata": {},
     "output_type": "execute_result"
    }
   ],
   "source": [
    "#y=np.array(df['TF'])\n",
    "y=np.array(df['class'])\n",
    "\n",
    "y[:3]"
   ]
  },
  {
   "cell_type": "code",
   "execution_count": 88,
   "id": "b9399dc8",
   "metadata": {},
   "outputs": [],
   "source": [
    "y = torch.from_numpy(y).type(torch.float)"
   ]
  },
  {
   "cell_type": "markdown",
   "id": "cd869133",
   "metadata": {},
   "source": [
    "# Split the data in train, val and test set"
   ]
  },
  {
   "cell_type": "code",
   "execution_count": 89,
   "id": "f4a1304f",
   "metadata": {},
   "outputs": [
    {
     "name": "stdout",
     "output_type": "stream",
     "text": [
      "4128 4128 1032 1032\n",
      "1290 1290\n"
     ]
    }
   ],
   "source": [
    "from sklearn.model_selection import train_test_split\n",
    "from sklearn.model_selection import StratifiedShuffleSplit\n",
    "\n",
    "\n",
    "\n",
    "# Split the data into a stratified hold-out validation set and the rest\n",
    "stratified_splitter = StratifiedShuffleSplit(n_splits=1, test_size=0.2, random_state=42)\n",
    "\n",
    "for train_val_index, test_index in stratified_splitter.split(X, y):\n",
    "    X_train_val, X_test = X[train_val_index], X[test_index]\n",
    "    y_train_val, y_test = y[train_val_index], y[test_index]\n",
    "\n",
    "# Split the remaining data into training and validation sets\n",
    "X_train, X_val, y_train, y_val = train_test_split(X_train_val, y_train_val, test_size=0.2, stratify=y_train_val, random_state=42)\n",
    "\n",
    "print(len(X_train), len(y_train), len(X_val), len(y_val))\n",
    "print(len(X_test), len(y_test))\n",
    "\n",
    "\n",
    "# (X_train, X_val, y_train, y_val) for training, validation\n",
    "# X_test, y_test for the final hold-out validation.\n",
    "\n",
    "#X_train, X_val, X_test = torch.from_numpy(X_train).type(torch.float),torch.from_numpy(X_val).type(torch.float), torch.from_numpy(X_test).type(torch.float)\n",
    "\n"
   ]
  },
  {
   "cell_type": "markdown",
   "id": "002ed2cf",
   "metadata": {},
   "source": [
    "# Create datasets and Dataloaders"
   ]
  },
  {
   "cell_type": "code",
   "execution_count": 90,
   "id": "18eb7a94",
   "metadata": {},
   "outputs": [
    {
     "name": "stdout",
     "output_type": "stream",
     "text": [
      "4128 4128\n"
     ]
    }
   ],
   "source": [
    "from torch.utils.data import DataLoader, TensorDataset\n",
    "torch.manual_seed(42)\n",
    "\n",
    "\n",
    "# Expand the dimensions of y to make it 2-dimensional\n",
    "y_train = y_train.view(-1, 1)\n",
    "y_test = y_test.view(-1,1)\n",
    "y_val = y_val.view(-1,1)\n",
    "# Concatenate the complement of y to create a 2-dimensional tensor\n",
    "\n",
    "y_train_one_hot = torch.cat([1 - y_train, y_train], dim=1).float()\n",
    "y_test_one_hot = torch.cat([1 - y_test, y_test], dim=1).float()\n",
    "y_val_one_hot = torch.cat([1 - y_val, y_val], dim=1).float()\n",
    "\n",
    "\n",
    "# Move tensors to the same device\n",
    "X_train,y_train_one_hot, y_train = X_train.to(device), y_train_one_hot.to(device), y_train.to(device)\n",
    "X_val, y_val_one_hot, y_val = X_val.to(device), y_val_one_hot.to(device), y_val.to(device)\n",
    "X_test, y_test_one_hot, y_test = X_test.to(device),  y_test_one_hot.to(device), y_test.to(device)\n",
    "\n",
    "\n",
    "print(X_train.size(0),  y_train.size(0))\n",
    "\n",
    "# Create datasets\n",
    "train_dataset = TensorDataset(X_train, y_train_one_hot, y_train)\n",
    "val_dataset = TensorDataset(X_val, y_val_one_hot, y_val)\n",
    "test_dataset = TensorDataset(X_test, y_test_one_hot, y_test)\n",
    "\n"
   ]
  },
  {
   "cell_type": "code",
   "execution_count": 91,
   "id": "44fc5e58",
   "metadata": {},
   "outputs": [],
   "source": [
    "\n",
    "batch_size=64\n",
    "torch.manual_seed(42)\n",
    "\n",
    "# Convert to PyTorch DataLoader\n",
    "train_loader = DataLoader(train_dataset, batch_size=batch_size, shuffle=True)\n",
    "val_loader = DataLoader(val_dataset, batch_size=batch_size, shuffle=True)\n",
    "test_loader = DataLoader(test_dataset, batch_size=batch_size, shuffle=True)"
   ]
  },
  {
   "cell_type": "markdown",
   "id": "d20e4bb7",
   "metadata": {},
   "source": [
    "# Construct a 1 layer CNN with Maxpooling and Dropout"
   ]
  },
  {
   "cell_type": "code",
   "execution_count": 111,
   "id": "9c0dfed6",
   "metadata": {},
   "outputs": [],
   "source": [
    "class Conv_v0(torch.nn.Module):\n",
    "\n",
    "    def __init__(self):\n",
    "        super(Conv_v0, self).__init__()\n",
    "\n",
    "        self.conv1 = torch.nn.Conv1d(in_channels=4, out_channels=5, kernel_size=17)\n",
    "        self.activation = torch.nn.ReLU()\n",
    "        self.maxpool = torch.nn.MaxPool1d(kernel_size=2)\n",
    "        \n",
    "        self.dropout = torch.nn.Dropout(p=0.25) \n",
    "        #in_features = 108 for 200kb, 588 for 1kb, 1188 for 2kb\n",
    "        self.fc =  torch.nn.LazyLinear(out_features=2)\n",
    "        #self.sigmoid = torch.nn.Sigmoid() will not be used since its intergraded in BCEWithLogitsLoss()\n",
    "        #self.softmax = nn.Softmax(dim=1)\n",
    "\n",
    "    def forward(self, x):\n",
    "        x= x.permute(0, 2, 1)\n",
    "        x = self.conv1(x)\n",
    "        x = self.activation(x)\n",
    "        x = self.maxpool(x)\n",
    "        \n",
    "        # Reshape the output of the max pooling layer before passing it to the fully connected layer\n",
    "        x = x.view(x.size(0), -1)\n",
    "        \n",
    "        #print(\"Size after reshaping:\", x.size())\n",
    "        x=self.dropout(x)\n",
    "        x = self.fc(x)\n",
    "        #x = self.softmax(x)\n",
    "        #x = self.sigmoid(x)\n",
    "        return x\n"
   ]
  },
  {
   "cell_type": "markdown",
   "id": "2e8a6635",
   "metadata": {},
   "source": [
    "# Computing class weights"
   ]
  },
  {
   "cell_type": "code",
   "execution_count": 112,
   "id": "fe54bd0e",
   "metadata": {},
   "outputs": [
    {
     "data": {
      "text/plain": [
       "'\\nfrom torch.utils.data import DataLoader, TensorDataset\\nfrom sklearn.utils.class_weight import compute_class_weight\\n\\n# Assuming we have defined dataset\\n# train_dataset = TensorDataset(X_train, y_train_one_hot, y_train)\\n\\n# Extract the labels from the dataset\\n_, _, y_train = zip(*train_dataset)\\n\\n# Count occurrences of each class\\nclass_0_count = sum(1 for label in y_train if label == 0)\\nclass_1_count = sum(1 for label in y_train if label == 1)\\n\\n# Total length of y_train\\ntotal_samples = len(y_train)\\n\\n# Calculate class weights\\nweights = [total_samples / class_0_count, total_samples / class_1_count]\\n\\n# Print the list of class weights\\nprint(\"Class Weights List:\", weights)\\n\\n\\n'"
      ]
     },
     "execution_count": 112,
     "metadata": {},
     "output_type": "execute_result"
    }
   ],
   "source": [
    "\"\"\"\n",
    "from torch.utils.data import DataLoader, TensorDataset\n",
    "from sklearn.utils.class_weight import compute_class_weight\n",
    "\n",
    "# Assuming we have defined dataset\n",
    "# train_dataset = TensorDataset(X_train, y_train_one_hot, y_train)\n",
    "\n",
    "# Extract the labels from the dataset\n",
    "_, _, y_train = zip(*train_dataset)\n",
    "\n",
    "# Count occurrences of each class\n",
    "class_0_count = sum(1 for label in y_train if label == 0)\n",
    "class_1_count = sum(1 for label in y_train if label == 1)\n",
    "\n",
    "# Total length of y_train\n",
    "total_samples = len(y_train)\n",
    "\n",
    "# Calculate class weights\n",
    "weights = [total_samples / class_0_count, total_samples / class_1_count]\n",
    "\n",
    "# Print the list of class weights\n",
    "print(\"Class Weights List:\", weights)\n",
    "\n",
    "\n",
    "\"\"\""
   ]
  },
  {
   "cell_type": "markdown",
   "id": "40b134d4",
   "metadata": {},
   "source": [
    "# Set up loss function and optimizer"
   ]
  },
  {
   "cell_type": "code",
   "execution_count": 113,
   "id": "948d9087",
   "metadata": {},
   "outputs": [],
   "source": [
    "from torch.optim import lr_scheduler\n",
    "#weights = torch.tensor(weights).to(device)\n",
    "#print(weights)"
   ]
  },
  {
   "cell_type": "code",
   "execution_count": 114,
   "id": "30cf0daa",
   "metadata": {},
   "outputs": [],
   "source": [
    "torch.manual_seed(42)\n",
    "\n",
    "# Initialize model instance\n",
    "model = Conv_v0()\n",
    "\n",
    "#loss_fn = nn.BCEWithLogitsLoss(weight=weights)\n",
    "loss_fn = nn.BCEWithLogitsLoss()\n",
    "\n",
    "# Define oprimizer\n",
    "optimizer = torch.optim.Adam(model.parameters(), lr=0.0001)\n",
    "\n",
    "# Define exponetntial lr with lr_scheduler\n",
    "exp_lr_scheduler = lr_scheduler.ExponentialLR(optimizer, gamma=0.01)"
   ]
  },
  {
   "cell_type": "code",
   "execution_count": 115,
   "id": "e1d337c9",
   "metadata": {},
   "outputs": [
    {
     "data": {
      "text/plain": [
       "tensor([[-0.1138,  0.0535],\n",
       "        [-0.0691,  0.2093],\n",
       "        [-0.2030,  0.0951],\n",
       "        [-0.0292,  0.1903],\n",
       "        [-0.2808,  0.2974]], grad_fn=<SliceBackward0>)"
      ]
     },
     "execution_count": 115,
     "metadata": {},
     "output_type": "execute_result"
    }
   ],
   "source": [
    "# View the frist 5 outputs of the forward pass on the test data\n",
    "y_logits = model(X_test.to(device))[:5]\n",
    "y_logits"
   ]
  },
  {
   "cell_type": "code",
   "execution_count": 116,
   "id": "2f22305b",
   "metadata": {},
   "outputs": [],
   "source": [
    "# Check number of classes in the model\n",
    "num_classes_model = model.fc.out_features  # Adjust accordingly\n"
   ]
  },
  {
   "cell_type": "code",
   "execution_count": 117,
   "id": "d97bd825",
   "metadata": {},
   "outputs": [
    {
     "data": {
      "text/plain": [
       "2"
      ]
     },
     "execution_count": 117,
     "metadata": {},
     "output_type": "execute_result"
    }
   ],
   "source": [
    "num_classes_model"
   ]
  },
  {
   "cell_type": "code",
   "execution_count": 118,
   "id": "fdfb5e26",
   "metadata": {
    "scrolled": false
   },
   "outputs": [
    {
     "data": {
      "application/vnd.jupyter.widget-view+json": {
       "model_id": "278fda1105284d6197f424952caa434b",
       "version_major": 2,
       "version_minor": 0
      },
      "text/plain": [
       "  0%|          | 0/1000 [00:00<?, ?it/s]"
      ]
     },
     "metadata": {},
     "output_type": "display_data"
    },
    {
     "name": "stdout",
     "output_type": "stream",
     "text": [
      "Epoch: 1 | train_loss: 0.6932 | train_bal_acc: 0.5388 | train_mcc: 0.0780 | train_auroc: 0.5283  |  valid_loss: 0.6882 | valid_bal_acc: 0.5523 | valid_mcc: 0.1117  |  valid_auroc: 0.5949\n",
      "Epoch: 2 | train_loss: 0.6839 | train_bal_acc: 0.6013 | train_mcc: 0.2106 | train_auroc: 0.6200  |  valid_loss: 0.6757 | valid_bal_acc: 0.7168 | valid_mcc: 0.4328  |  valid_auroc: 0.7407\n",
      "Epoch: 3 | train_loss: 0.6706 | train_bal_acc: 0.6472 | train_mcc: 0.3170 | train_auroc: 0.7183  |  valid_loss: 0.6579 | valid_bal_acc: 0.7605 | valid_mcc: 0.5297  |  valid_auroc: 0.8243\n",
      "Epoch: 4 | train_loss: 0.6525 | train_bal_acc: 0.6942 | train_mcc: 0.4034 | train_auroc: 0.7750  |  valid_loss: 0.6369 | valid_bal_acc: 0.7846 | valid_mcc: 0.5672  |  valid_auroc: 0.8477\n",
      "Epoch: 5 | train_loss: 0.6297 | train_bal_acc: 0.7282 | train_mcc: 0.4635 | train_auroc: 0.8069  |  valid_loss: 0.6075 | valid_bal_acc: 0.8099 | valid_mcc: 0.6222  |  valid_auroc: 0.8599\n",
      "Epoch: 6 | train_loss: 0.6078 | train_bal_acc: 0.7515 | train_mcc: 0.5034 | train_auroc: 0.8180  |  valid_loss: 0.5823 | valid_bal_acc: 0.7876 | valid_mcc: 0.5774  |  valid_auroc: 0.8623\n",
      "Epoch: 7 | train_loss: 0.5857 | train_bal_acc: 0.7621 | train_mcc: 0.5253 | train_auroc: 0.8265  |  valid_loss: 0.5625 | valid_bal_acc: 0.8084 | valid_mcc: 0.6165  |  valid_auroc: 0.8652\n",
      "Epoch: 8 | train_loss: 0.5653 | train_bal_acc: 0.7706 | train_mcc: 0.5419 | train_auroc: 0.8333  |  valid_loss: 0.5390 | valid_bal_acc: 0.8163 | valid_mcc: 0.6287  |  valid_auroc: 0.8785\n",
      "Epoch: 9 | train_loss: 0.5509 | train_bal_acc: 0.7725 | train_mcc: 0.5455 | train_auroc: 0.8348  |  valid_loss: 0.5257 | valid_bal_acc: 0.8109 | valid_mcc: 0.6244  |  valid_auroc: 0.8593\n",
      "Epoch: 10 | train_loss: 0.5355 | train_bal_acc: 0.7775 | train_mcc: 0.5546 | train_auroc: 0.8380  |  valid_loss: 0.5047 | valid_bal_acc: 0.8218 | valid_mcc: 0.6499  |  valid_auroc: 0.8826\n",
      "Epoch: 11 | train_loss: 0.5264 | train_bal_acc: 0.7771 | train_mcc: 0.5533 | train_auroc: 0.8384  |  valid_loss: 0.4892 | valid_bal_acc: 0.8195 | valid_mcc: 0.6347  |  valid_auroc: 0.8816\n",
      "Epoch: 12 | train_loss: 0.5132 | train_bal_acc: 0.7852 | train_mcc: 0.5706 | train_auroc: 0.8453  |  valid_loss: 0.4747 | valid_bal_acc: 0.8243 | valid_mcc: 0.6506  |  valid_auroc: 0.8835\n",
      "Epoch: 13 | train_loss: 0.5024 | train_bal_acc: 0.7851 | train_mcc: 0.5701 | train_auroc: 0.8494  |  valid_loss: 0.4738 | valid_bal_acc: 0.8120 | valid_mcc: 0.6252  |  valid_auroc: 0.8828\n",
      "Epoch: 14 | train_loss: 0.4985 | train_bal_acc: 0.7856 | train_mcc: 0.5707 | train_auroc: 0.8483  |  valid_loss: 0.4674 | valid_bal_acc: 0.8089 | valid_mcc: 0.6173  |  valid_auroc: 0.8819\n",
      "Epoch: 15 | train_loss: 0.4921 | train_bal_acc: 0.7848 | train_mcc: 0.5720 | train_auroc: 0.8489  |  valid_loss: 0.4624 | valid_bal_acc: 0.8181 | valid_mcc: 0.6367  |  valid_auroc: 0.8834\n",
      "Epoch: 16 | train_loss: 0.4873 | train_bal_acc: 0.7954 | train_mcc: 0.5916 | train_auroc: 0.8515  |  valid_loss: 0.4579 | valid_bal_acc: 0.8101 | valid_mcc: 0.6236  |  valid_auroc: 0.8869\n",
      "Epoch: 17 | train_loss: 0.4818 | train_bal_acc: 0.7935 | train_mcc: 0.5888 | train_auroc: 0.8545  |  valid_loss: 0.4561 | valid_bal_acc: 0.8113 | valid_mcc: 0.6227  |  valid_auroc: 0.8766\n",
      "Epoch: 18 | train_loss: 0.4736 | train_bal_acc: 0.7920 | train_mcc: 0.5854 | train_auroc: 0.8604  |  valid_loss: 0.4375 | valid_bal_acc: 0.8298 | valid_mcc: 0.6536  |  valid_auroc: 0.8953\n",
      "Epoch: 19 | train_loss: 0.4742 | train_bal_acc: 0.7957 | train_mcc: 0.5930 | train_auroc: 0.8567  |  valid_loss: 0.4273 | valid_bal_acc: 0.8310 | valid_mcc: 0.6631  |  valid_auroc: 0.8957\n",
      "Epoch: 20 | train_loss: 0.4705 | train_bal_acc: 0.7875 | train_mcc: 0.5760 | train_auroc: 0.8586  |  valid_loss: 0.4277 | valid_bal_acc: 0.8344 | valid_mcc: 0.6736  |  valid_auroc: 0.8969\n",
      "Epoch: 21 | train_loss: 0.4642 | train_bal_acc: 0.7979 | train_mcc: 0.5960 | train_auroc: 0.8637  |  valid_loss: 0.4174 | valid_bal_acc: 0.8331 | valid_mcc: 0.6678  |  valid_auroc: 0.9002\n",
      "Epoch: 22 | train_loss: 0.4634 | train_bal_acc: 0.8000 | train_mcc: 0.6023 | train_auroc: 0.8641  |  valid_loss: 0.4370 | valid_bal_acc: 0.8296 | valid_mcc: 0.6465  |  valid_auroc: 0.9020\n",
      "Epoch: 23 | train_loss: 0.4623 | train_bal_acc: 0.7934 | train_mcc: 0.5878 | train_auroc: 0.8620  |  valid_loss: 0.4187 | valid_bal_acc: 0.8292 | valid_mcc: 0.6599  |  valid_auroc: 0.9019\n",
      "Epoch: 24 | train_loss: 0.4582 | train_bal_acc: 0.7992 | train_mcc: 0.5996 | train_auroc: 0.8677  |  valid_loss: 0.4133 | valid_bal_acc: 0.8298 | valid_mcc: 0.6637  |  valid_auroc: 0.9031\n",
      "Epoch: 25 | train_loss: 0.4539 | train_bal_acc: 0.8014 | train_mcc: 0.6047 | train_auroc: 0.8691  |  valid_loss: 0.4243 | valid_bal_acc: 0.8199 | valid_mcc: 0.6436  |  valid_auroc: 0.8954\n",
      "Epoch: 26 | train_loss: 0.4535 | train_bal_acc: 0.7974 | train_mcc: 0.5972 | train_auroc: 0.8723  |  valid_loss: 0.4083 | valid_bal_acc: 0.8357 | valid_mcc: 0.6752  |  valid_auroc: 0.9002\n",
      "Epoch: 27 | train_loss: 0.4529 | train_bal_acc: 0.8038 | train_mcc: 0.6071 | train_auroc: 0.8676  |  valid_loss: 0.4151 | valid_bal_acc: 0.8307 | valid_mcc: 0.6568  |  valid_auroc: 0.8990\n",
      "Epoch: 28 | train_loss: 0.4462 | train_bal_acc: 0.8066 | train_mcc: 0.6137 | train_auroc: 0.8746  |  valid_loss: 0.4011 | valid_bal_acc: 0.8373 | valid_mcc: 0.6765  |  valid_auroc: 0.9024\n",
      "Epoch: 29 | train_loss: 0.4470 | train_bal_acc: 0.8083 | train_mcc: 0.6169 | train_auroc: 0.8745  |  valid_loss: 0.4136 | valid_bal_acc: 0.8308 | valid_mcc: 0.6603  |  valid_auroc: 0.9060\n",
      "Epoch: 30 | train_loss: 0.4446 | train_bal_acc: 0.8058 | train_mcc: 0.6118 | train_auroc: 0.8762  |  valid_loss: 0.4009 | valid_bal_acc: 0.8413 | valid_mcc: 0.6844  |  valid_auroc: 0.9069\n",
      "Epoch: 31 | train_loss: 0.4426 | train_bal_acc: 0.8015 | train_mcc: 0.6043 | train_auroc: 0.8745  |  valid_loss: 0.3952 | valid_bal_acc: 0.8384 | valid_mcc: 0.6785  |  valid_auroc: 0.9061\n",
      "Epoch: 32 | train_loss: 0.4413 | train_bal_acc: 0.8071 | train_mcc: 0.6154 | train_auroc: 0.8777  |  valid_loss: 0.4006 | valid_bal_acc: 0.8336 | valid_mcc: 0.6699  |  valid_auroc: 0.9069\n",
      "Epoch: 33 | train_loss: 0.4412 | train_bal_acc: 0.8046 | train_mcc: 0.6102 | train_auroc: 0.8779  |  valid_loss: 0.4088 | valid_bal_acc: 0.8290 | valid_mcc: 0.6577  |  valid_auroc: 0.9097\n",
      "Epoch: 34 | train_loss: 0.4338 | train_bal_acc: 0.8120 | train_mcc: 0.6254 | train_auroc: 0.8829  |  valid_loss: 0.4022 | valid_bal_acc: 0.8307 | valid_mcc: 0.6660  |  valid_auroc: 0.9032\n",
      "Epoch: 35 | train_loss: 0.4326 | train_bal_acc: 0.8129 | train_mcc: 0.6249 | train_auroc: 0.8853  |  valid_loss: 0.4062 | valid_bal_acc: 0.8305 | valid_mcc: 0.6671  |  valid_auroc: 0.8995\n",
      "Epoch: 36 | train_loss: 0.4320 | train_bal_acc: 0.8075 | train_mcc: 0.6166 | train_auroc: 0.8814  |  valid_loss: 0.3970 | valid_bal_acc: 0.8359 | valid_mcc: 0.6670  |  valid_auroc: 0.9018\n",
      "Early stopping after 1001 epochs\n"
     ]
    }
   ],
   "source": [
    "results, _ = engine_boosted.train_with_early_stopping(model=model,\n",
    "                                                  train_dataloader=train_loader,\n",
    "                                                  valid_dataloader=val_loader,\n",
    "                                                  optimizer=optimizer,\n",
    "                                                  loss_fn=loss_fn,\n",
    "                                                  epochs=1000,\n",
    "                                                  device=device)\n"
   ]
  },
  {
   "cell_type": "code",
   "execution_count": 119,
   "id": "879ac77f",
   "metadata": {},
   "outputs": [
    {
     "data": {
      "image/png": "[encoded data removed]",
      "text/plain": [
       "<Figure size 1500x700 with 2 Axes>"
      ]
     },
     "metadata": {},
     "output_type": "display_data"
    }
   ],
   "source": [
    "helper_functions.plot_loss_curves(results)\n",
    "plt.savefig(f'All_TFs_CNN1_ADAM_BCEWithLogits_KERNEL=10_seq=200b.png')"
   ]
  },
  {
   "cell_type": "code",
   "execution_count": 120,
   "id": "f86c14a0",
   "metadata": {},
   "outputs": [
    {
     "data": {
      "image/png": "[encoded data removed]",
      "text/plain": [
       "<Figure size 640x480 with 1 Axes>"
      ]
     },
     "metadata": {},
     "output_type": "display_data"
    }
   ],
   "source": [
    "helper_functions.plot_auroc(results)"
   ]
  },
  {
   "cell_type": "code",
   "execution_count": 121,
   "id": "1f795018",
   "metadata": {},
   "outputs": [
    {
     "data": {
      "image/png": "[encoded data removed]",
      "text/plain": [
       "<Figure size 640x480 with 1 Axes>"
      ]
     },
     "metadata": {},
     "output_type": "display_data"
    }
   ],
   "source": [
    "helper_functions.plot_f_score(results)"
   ]
  },
  {
   "cell_type": "code",
   "execution_count": 122,
   "id": "7d75d6fb",
   "metadata": {},
   "outputs": [
    {
     "name": "stdout",
     "output_type": "stream",
     "text": [
      "Perfomance on held out test set\n",
      "Test loss: 0.4231006233465104 | Test bal acc 0.8162787134314788 | Test mcc 0.6378000078374446 | Test_f_score 0.8178609400120733\n",
      "\n"
     ]
    }
   ],
   "source": [
    "from sklearn.metrics import balanced_accuracy_score, matthews_corrcoef, f1_score\n",
    "import torch.nn.functional as F\n",
    "\n",
    "\n",
    "model.eval()\n",
    "\n",
    "\n",
    "with torch.inference_mode():\n",
    "    all_predictions = []\n",
    "    all_true_labels = []\n",
    "    all_test_pred_prob=[]\n",
    "    \n",
    "    test_loss, test_bal_acc, test_mcc, test_f_score = 0, 0, 0, 0\n",
    "    for batch, (X, y_one_hot, y) in enumerate(test_loader):\n",
    "        # Send data to target device\n",
    "        X, y_one_hot, y = X.to(device),y_one_hot.to(device), y.to(device)\n",
    "\n",
    "        # 1. Forward pass\n",
    "        test_pred_logits = model(X)\n",
    "\n",
    "        # 2. Calculate and accumulate loss\n",
    "        loss = loss_fn(test_pred_logits, y_one_hot)\n",
    "        test_loss += loss.item()\n",
    "\n",
    "        # Calculate and accumulate scores\n",
    "        test_pred_labels = test_pred_logits.argmax(dim=1)\n",
    "        test_pred_prob = torch.softmax(test_pred_logits.squeeze(), dim=0) # note: perform softmax on the \"logits\" dimension, not \"batch\" dimension (in this case we have a batch size of 1, so can perform on dim=0)\n",
    "        test_bal_acc += balanced_accuracy_score(y.cpu().numpy(), test_pred_labels.cpu().numpy())\n",
    "        test_mcc += matthews_corrcoef(y.cpu().numpy(), test_pred_labels.cpu().numpy())\n",
    "        test_f_score += f1_score(y.cpu().numpy(), test_pred_labels.cpu().numpy(), average='weighted')\n",
    "        \n",
    "        all_predictions.extend(test_pred_labels.cpu().numpy())\n",
    "        all_true_labels.extend(y.cpu().numpy())\n",
    "        all_test_pred_prob.extend(test_pred_prob.cpu().numpy())\n",
    "\n",
    "    # Adjust metrics to get average loss and accuracy per batch\n",
    "    test_loss = test_loss / len(test_loader)\n",
    "    test_bal_acc = test_bal_acc / len(test_loader)\n",
    "    test_mcc = test_mcc / len(test_loader)\n",
    "    test_f_score = test_f_score / len(test_loader)\n",
    "    print(\"Perfomance on held out test set\")\n",
    "    print(f'Test loss: {test_loss} | Test bal acc {test_bal_acc} | Test mcc {test_mcc} | Test_f_score {test_f_score}\\n')   \n",
    "    "
   ]
  },
  {
   "cell_type": "code",
   "execution_count": null,
   "id": "fbff03bf",
   "metadata": {},
   "outputs": [],
   "source": []
  },
  {
   "cell_type": "code",
   "execution_count": null,
   "id": "b7faac65",
   "metadata": {},
   "outputs": [],
   "source": []
  }
 ],
 "metadata": {
  "kernelspec": {
   "display_name": "Python 3 (ipykernel)",
   "language": "python",
   "name": "python3"
  },
  "language_info": {
   "codemirror_mode": {
    "name": "ipython",
    "version": 3
   },
   "file_extension": ".py",
   "mimetype": "text/x-python",
   "name": "python",
   "nbconvert_exporter": "python",
   "pygments_lexer": "ipython3",
   "version": "3.11.5"
  }
 },
 "nbformat": 4,
 "nbformat_minor": 5
}
