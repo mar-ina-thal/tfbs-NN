{
 "cells": [
  {
   "cell_type": "markdown",
   "id": "520fbfff",
   "metadata": {},
   "source": [
    "# Imports and functions"
   ]
  },
  {
   "cell_type": "code",
   "execution_count": 40,
   "id": "05d85633",
   "metadata": {},
   "outputs": [],
   "source": [
    "import pandas as pd\n",
    "import numpy as np\n",
    "import os\n",
    "from sklearn.preprocessing import OneHotEncoder\n",
    "from keras.utils import to_categorical\n",
    "from sklearn.metrics import balanced_accuracy_score"
   ]
  },
  {
   "cell_type": "code",
   "execution_count": 2,
   "id": "1389113b",
   "metadata": {},
   "outputs": [],
   "source": [
    "import torchvision\n",
    "import engine\n",
    "import helper_functions"
   ]
  },
  {
   "cell_type": "code",
   "execution_count": 3,
   "id": "3a2e0857",
   "metadata": {},
   "outputs": [],
   "source": [
    "from tqdm.auto import tqdm\n",
    "from typing import Dict, List, Tuple\n",
    "from sklearn.metrics import balanced_accuracy_score, matthews_corrcoef, f1_score\n",
    "from collections import deque  # Import deque for early stopping\n",
    "import warnings\n",
    "\n",
    "# Suppress the specific UserWarning related to y_pred and y_true class mismatch\n",
    "warnings.filterwarnings(\"ignore\", category=UserWarning, message=\"y_pred contains classes not in y_true\")"
   ]
  },
  {
   "cell_type": "code",
   "execution_count": 4,
   "id": "faeaeafc",
   "metadata": {},
   "outputs": [],
   "source": [
    "from sklearn.metrics import balanced_accuracy_score\n",
    "\n",
    "# Function to calculate balanced accuracy using sklearn\n",
    "def balanced_accuracy(y_true, y_pred):\n",
    "    return balanced_accuracy_score(y_true, y_pred) * 100"
   ]
  },
  {
   "cell_type": "code",
   "execution_count": 5,
   "id": "6c000451",
   "metadata": {},
   "outputs": [],
   "source": [
    "# Function to perform one-hot encoding for DNA sequences\n",
    "def one_hot_encode(sequence):\n",
    "    encoding = {'A': [1, 0, 0, 0], 'T': [0, 1, 0, 0], 'G': [0, 0, 1, 0], 'C': [0, 0, 0, 1]}\n",
    "    one_hot_sequence = [encoding.get(base, [0, 0, 0, 0]) for base in sequence]\n",
    "    return np.array(one_hot_sequence)"
   ]
  },
  {
   "cell_type": "markdown",
   "id": "69190e84",
   "metadata": {},
   "source": [
    "# Set up device agnostic code"
   ]
  },
  {
   "cell_type": "code",
   "execution_count": 6,
   "id": "12cee86f",
   "metadata": {},
   "outputs": [
    {
     "data": {
      "text/plain": [
       "'cpu'"
      ]
     },
     "execution_count": 6,
     "metadata": {},
     "output_type": "execute_result"
    }
   ],
   "source": [
    "import torch\n",
    "from torch import nn\n",
    "# Make device agnostic code\n",
    "device = \"cuda\" if torch.cuda.is_available() else \"cpu\"\n",
    "device"
   ]
  },
  {
   "cell_type": "code",
   "execution_count": 7,
   "id": "c9939f1e",
   "metadata": {},
   "outputs": [
    {
     "data": {
      "text/html": [
       "<div>\n",
       "<style scoped>\n",
       "    .dataframe tbody tr th:only-of-type {\n",
       "        vertical-align: middle;\n",
       "    }\n",
       "\n",
       "    .dataframe tbody tr th {\n",
       "        vertical-align: top;\n",
       "    }\n",
       "\n",
       "    .dataframe thead th {\n",
       "        text-align: right;\n",
       "    }\n",
       "</style>\n",
       "<table border=\"1\" class=\"dataframe\">\n",
       "  <thead>\n",
       "    <tr style=\"text-align: right;\">\n",
       "      <th></th>\n",
       "      <th>data</th>\n",
       "      <th>class</th>\n",
       "    </tr>\n",
       "  </thead>\n",
       "  <tbody>\n",
       "    <tr>\n",
       "      <th>0</th>\n",
       "      <td>CGCAGCCAGACGCCACAGGACTCCTCCCCAGCCGCTCCTGTATATG...</td>\n",
       "      <td>0</td>\n",
       "    </tr>\n",
       "    <tr>\n",
       "      <th>1</th>\n",
       "      <td>TCACCATCGTAAGACCACAGGACCCTTCCCAGCCGCTCCTGTATAT...</td>\n",
       "      <td>0</td>\n",
       "    </tr>\n",
       "    <tr>\n",
       "      <th>2</th>\n",
       "      <td>ACCGCCGTAAGACCACAAGTCACCGCCCCAGCCGCTCCTGTAGATG...</td>\n",
       "      <td>0</td>\n",
       "    </tr>\n",
       "    <tr>\n",
       "      <th>3</th>\n",
       "      <td>CACCACAGTAAGACCACAGGATACCGCCCCAGCCGCGCCTGTAGAT...</td>\n",
       "      <td>0</td>\n",
       "    </tr>\n",
       "    <tr>\n",
       "      <th>4</th>\n",
       "      <td>CACCGCCGTAAGACCACAGGACACCGCCCCAGCCGCGCCTGTAGAT...</td>\n",
       "      <td>0</td>\n",
       "    </tr>\n",
       "    <tr>\n",
       "      <th>...</th>\n",
       "      <td>...</td>\n",
       "      <td>...</td>\n",
       "    </tr>\n",
       "    <tr>\n",
       "      <th>33539</th>\n",
       "      <td>ACTAAAGCCTCCGTCTCCATGTAGGGACTTTCTCCCGAGATGCCAG...</td>\n",
       "      <td>1</td>\n",
       "    </tr>\n",
       "    <tr>\n",
       "      <th>33540</th>\n",
       "      <td>TTCACTGTTGTTACCTCCGAGTGGGGACTGGGAAAGCAGAGGTTAG...</td>\n",
       "      <td>1</td>\n",
       "    </tr>\n",
       "    <tr>\n",
       "      <th>33541</th>\n",
       "      <td>CCGCCCGCCTCAGCCTCCCAAAGTGCTAGGATTACAGGCGTGAGCC...</td>\n",
       "      <td>1</td>\n",
       "    </tr>\n",
       "    <tr>\n",
       "      <th>33542</th>\n",
       "      <td>CAAGCCCTATAGGGTCAAAATGATGGGGAAATCCAGAATGACAGTA...</td>\n",
       "      <td>1</td>\n",
       "    </tr>\n",
       "    <tr>\n",
       "      <th>33543</th>\n",
       "      <td>GGAGGATAGGGGTCAGAGTCCTACAGCAGTGCCTGGGGTTTAAAAG...</td>\n",
       "      <td>1</td>\n",
       "    </tr>\n",
       "  </tbody>\n",
       "</table>\n",
       "<p>33544 rows × 2 columns</p>\n",
       "</div>"
      ],
      "text/plain": [
       "                                                    data  class\n",
       "0      CGCAGCCAGACGCCACAGGACTCCTCCCCAGCCGCTCCTGTATATG...      0\n",
       "1      TCACCATCGTAAGACCACAGGACCCTTCCCAGCCGCTCCTGTATAT...      0\n",
       "2      ACCGCCGTAAGACCACAAGTCACCGCCCCAGCCGCTCCTGTAGATG...      0\n",
       "3      CACCACAGTAAGACCACAGGATACCGCCCCAGCCGCGCCTGTAGAT...      0\n",
       "4      CACCGCCGTAAGACCACAGGACACCGCCCCAGCCGCGCCTGTAGAT...      0\n",
       "...                                                  ...    ...\n",
       "33539  ACTAAAGCCTCCGTCTCCATGTAGGGACTTTCTCCCGAGATGCCAG...      1\n",
       "33540  TTCACTGTTGTTACCTCCGAGTGGGGACTGGGAAAGCAGAGGTTAG...      1\n",
       "33541  CCGCCCGCCTCAGCCTCCCAAAGTGCTAGGATTACAGGCGTGAGCC...      1\n",
       "33542  CAAGCCCTATAGGGTCAAAATGATGGGGAAATCCAGAATGACAGTA...      1\n",
       "33543  GGAGGATAGGGGTCAGAGTCCTACAGCAGTGCCTGGGGTTTAAAAG...      1\n",
       "\n",
       "[33544 rows x 2 columns]"
      ]
     },
     "execution_count": 7,
     "metadata": {},
     "output_type": "execute_result"
    }
   ],
   "source": [
    "# Replace 'file_path.csv' with the path to the TF data.csv file\n",
    "tf=\"ATF3\"\n",
    "file_path = f'/mnt/raid1/thalassini/home/filtered_fimo/{tf.upper()}/datasets/data.csv'\n",
    "df = pd.read_csv(file_path)\n",
    "df"
   ]
  },
  {
   "cell_type": "markdown",
   "id": "d22b4a0d",
   "metadata": {},
   "source": [
    "# Sequence length inspection and normalization"
   ]
  },
  {
   "cell_type": "code",
   "execution_count": 8,
   "id": "d33c9269",
   "metadata": {},
   "outputs": [
    {
     "name": "stdout",
     "output_type": "stream",
     "text": [
      "Max length:2000, Min length: 200\n"
     ]
    },
    {
     "data": {
      "image/png": "[encoded data removed]",
      "text/plain": [
       "<Figure size 640x480 with 1 Axes>"
      ]
     },
     "metadata": {},
     "output_type": "display_data"
    }
   ],
   "source": [
    "lengths= [len(item) for item in df['data']] \n",
    "print(f'Max length:{max(lengths)}, Min length: {min(lengths)}')\n",
    "import matplotlib.pyplot as plt\n",
    "# Plotting the histogram\n",
    "plt.hist(lengths, bins=10, color='blue', edgecolor='black')\n",
    "plt.title('Histogram of Lengths')\n",
    "plt.xlabel('Length')\n",
    "plt.ylabel('Frequency')\n",
    "plt.show()"
   ]
  },
  {
   "cell_type": "code",
   "execution_count": 9,
   "id": "292502f4",
   "metadata": {},
   "outputs": [],
   "source": [
    "# Find the maximum length of sequences\n",
    "#min_length = min(len(seq) for seq in df['data'])\n",
    "limit=200\n",
    "\n",
    "\n",
    "# Pad or cut sequences to ensure they all have the same length\n",
    "cut_sequences = [seq[:limit] for seq in df['data']]\n",
    "\n",
    "# Update the DataFrame with the cut sequences\n",
    "#df['data'] = cut_sequences"
   ]
  },
  {
   "cell_type": "code",
   "execution_count": 10,
   "id": "84f394a8",
   "metadata": {},
   "outputs": [
    {
     "name": "stdout",
     "output_type": "stream",
     "text": [
      "Max length:200, Min length: 200\n"
     ]
    }
   ],
   "source": [
    "lengths= [len(item) for item in cut_sequences]\n",
    "print(f'Max length:{max(lengths)}, Min length: {min(lengths)}')"
   ]
  },
  {
   "cell_type": "markdown",
   "id": "9b65d644",
   "metadata": {},
   "source": [
    "# Define X,y variables"
   ]
  },
  {
   "cell_type": "code",
   "execution_count": 11,
   "id": "f9e96a80",
   "metadata": {},
   "outputs": [],
   "source": [
    "X=[one_hot_encode(sequence) for sequence in cut_sequences]"
   ]
  },
  {
   "cell_type": "code",
   "execution_count": 12,
   "id": "2ab32859",
   "metadata": {},
   "outputs": [],
   "source": [
    "X = torch.from_numpy(np.array(X)).type(torch.float)\n"
   ]
  },
  {
   "cell_type": "code",
   "execution_count": 13,
   "id": "0bf2a817",
   "metadata": {},
   "outputs": [
    {
     "data": {
      "text/plain": [
       "torch.Size([33544, 200, 4])"
      ]
     },
     "execution_count": 13,
     "metadata": {},
     "output_type": "execute_result"
    }
   ],
   "source": [
    "X.shape"
   ]
  },
  {
   "cell_type": "code",
   "execution_count": 14,
   "id": "9aec20e4",
   "metadata": {},
   "outputs": [
    {
     "data": {
      "text/plain": [
       "array([0, 0, 0])"
      ]
     },
     "execution_count": 14,
     "metadata": {},
     "output_type": "execute_result"
    }
   ],
   "source": [
    "y=np.array(df['class'])\n",
    "y[:3]"
   ]
  },
  {
   "cell_type": "code",
   "execution_count": 15,
   "id": "7f1057ee",
   "metadata": {},
   "outputs": [],
   "source": [
    "y = torch.from_numpy(y).type(torch.float)"
   ]
  },
  {
   "cell_type": "markdown",
   "id": "c4515e0b",
   "metadata": {},
   "source": [
    "# Split the data in train, val and test set"
   ]
  },
  {
   "cell_type": "code",
   "execution_count": 16,
   "id": "f4a1304f",
   "metadata": {},
   "outputs": [
    {
     "name": "stdout",
     "output_type": "stream",
     "text": [
      "21468 21468 5367 5367\n",
      "6709 6709\n"
     ]
    }
   ],
   "source": [
    "from sklearn.model_selection import train_test_split\n",
    "from sklearn.model_selection import StratifiedShuffleSplit\n",
    "\n",
    "\n",
    "\n",
    "# Split the data into a stratified hold-out validation set and the rest\n",
    "stratified_splitter = StratifiedShuffleSplit(n_splits=1, test_size=0.2, random_state=42)\n",
    "\n",
    "for train_val_index, test_index in stratified_splitter.split(X, y):\n",
    "    X_train_val, X_test = X[train_val_index], X[test_index]\n",
    "    y_train_val, y_test = y[train_val_index], y[test_index]\n",
    "\n",
    "# Split the remaining data into training and validation sets\n",
    "X_train, X_val, y_train, y_val = train_test_split(X_train_val, y_train_val, test_size=0.2, stratify=y_train_val, random_state=42)\n",
    "\n",
    "print(len(X_train), len(y_train), len(X_val), len(y_val))\n",
    "print(len(X_test), len(y_test))\n",
    "\n",
    "\n",
    "# (X_train, X_val, y_train, y_val) for training, validation\n",
    "# X_test, y_test for the final hold-out validation.\n",
    "\n",
    "#X_train, X_val, X_test = torch.from_numpy(X_train).type(torch.float),torch.from_numpy(X_val).type(torch.float), torch.from_numpy(X_test).type(torch.float)\n",
    "\n"
   ]
  },
  {
   "cell_type": "markdown",
   "id": "d6716d37",
   "metadata": {},
   "source": [
    "# Create datasets and Dataloaders"
   ]
  },
  {
   "cell_type": "code",
   "execution_count": 17,
   "id": "cc8becaa",
   "metadata": {},
   "outputs": [
    {
     "name": "stdout",
     "output_type": "stream",
     "text": [
      "21468 21468 21468\n"
     ]
    }
   ],
   "source": [
    "from torch.utils.data import DataLoader, TensorDataset\n",
    "torch.manual_seed(42)\n",
    "\n",
    "# Expand the dimensions of y to make it 2-dimensional\n",
    "y_train = y_train.view(-1, 1)\n",
    "y_test = y_test.view(-1,1)\n",
    "y_val = y_val.view(-1,1)\n",
    "# Concatenate the complement of y to create a 2-dimensional tensor\n",
    "y_train_one_hot = torch.cat([1 - y_train, y_train], dim=1).float()\n",
    "y_test_one_hot = torch.cat([1 - y_test, y_test], dim=1).float()\n",
    "y_val_one_hot = torch.cat([1 - y_val, y_val], dim=1).float()\n",
    "\n",
    "\n",
    "# Move tensors to the same device\n",
    "X_train, y_train_one_hot, y_train = X_train.to(device), y_train_one_hot.to(device), y_train.to(device)\n",
    "X_val, y_val_one_hot, y_val = X_val.to(device), y_val_one_hot.to(device), y_val.to(device)\n",
    "X_test, y_test_one_hot, y_test = X_test.to(device), y_test_one_hot.to(device), y_test.to(device)\n",
    "\n",
    "\n",
    "print(X_train.size(0), y_train_one_hot.size(0), y_train.size(0))\n",
    "\n",
    "# Create datasets\n",
    "train_dataset = TensorDataset(X_train, y_train_one_hot, y_train)\n",
    "val_dataset = TensorDataset(X_val, y_val_one_hot, y_val)\n",
    "test_dataset = TensorDataset(X_test, y_test_one_hot, y_test)\n",
    "\n"
   ]
  },
  {
   "cell_type": "code",
   "execution_count": 18,
   "id": "107677e4",
   "metadata": {},
   "outputs": [],
   "source": [
    "\n",
    "batch_size=64\n",
    "torch.manual_seed(42)\n",
    "\n",
    "# Convert to PyTorch DataLoader\n",
    "train_loader = DataLoader(train_dataset, batch_size=batch_size, shuffle=True)\n",
    "val_loader = DataLoader(val_dataset, batch_size=batch_size, shuffle=True)\n",
    "test_loader = DataLoader(test_dataset, batch_size=batch_size, shuffle=True)"
   ]
  },
  {
   "cell_type": "markdown",
   "id": "d20e4bb7",
   "metadata": {},
   "source": [
    "# Construct a 1 layer CNN with Maxpooling and Dropout"
   ]
  },
  {
   "cell_type": "code",
   "execution_count": 19,
   "id": "9c0dfed6",
   "metadata": {},
   "outputs": [],
   "source": [
    "class Conv_v0(torch.nn.Module):\n",
    "\n",
    "    def __init__(self):\n",
    "        super(Conv_v0, self).__init__()\n",
    "\n",
    "        self.conv1 = torch.nn.Conv1d(in_channels=4, out_channels=3, kernel_size=17)\n",
    "        self.activation = torch.nn.ReLU()\n",
    "        self.maxpool = torch.nn.MaxPool1d(kernel_size=5)\n",
    "        \n",
    "        self.dropout = torch.nn.Dropout(p=0.5) \n",
    "        self.fc = torch.nn.Linear(in_features=108, out_features=2)\n",
    "        #elf.sigmoid = torch.nn.Sigmoid()\n",
    "\n",
    "    def forward(self, x):\n",
    "        x= x.permute(0, 2, 1)\n",
    "        x = self.conv1(x)\n",
    "        x = self.activation(x)\n",
    "        x = self.maxpool(x)\n",
    "        \n",
    "        # Reshape the output of the max pooling layer before passing it to the fully connected layer\n",
    "        x = x.view(x.size(0), -1)\n",
    "        \n",
    "        #print(\"Size after reshaping:\", x.size())\n",
    "        x=self.dropout(x)\n",
    "        x = self.fc(x)\n",
    "       #x = self.sigmoid(x)\n",
    "        return x\n"
   ]
  },
  {
   "cell_type": "markdown",
   "id": "e7f2d523",
   "metadata": {},
   "source": [
    "# Computing class weights"
   ]
  },
  {
   "cell_type": "code",
   "execution_count": 20,
   "id": "0f86ea45",
   "metadata": {},
   "outputs": [
    {
     "name": "stdout",
     "output_type": "stream",
     "text": [
      "Class Weights List: [4.814532406369141, 1.2621553295314245]\n"
     ]
    }
   ],
   "source": [
    "from torch.utils.data import DataLoader, TensorDataset\n",
    "from sklearn.utils.class_weight import compute_class_weight\n",
    "\n",
    "# Assuming we have defined dataset\n",
    "# train_dataset = TensorDataset(X_train, y_train_one_hot, y_train)\n",
    "\n",
    "# Extract the labels from the dataset\n",
    "_, _, y_train = zip(*train_dataset)\n",
    "\n",
    "# Count occurrences of each class\n",
    "class_0_count = sum(1 for label in y_train if label == 0)\n",
    "class_1_count = sum(1 for label in y_train if label == 1)\n",
    "\n",
    "# Total length of y_train\n",
    "total_samples = len(y_train)\n",
    "\n",
    "# Calculate class weights\n",
    "weights = [total_samples / class_0_count, total_samples / class_1_count]\n",
    "\n",
    "# Print the list of class weights\n",
    "print(\"Class Weights List:\", weights)\n",
    "\n",
    "\n"
   ]
  },
  {
   "cell_type": "markdown",
   "id": "40b134d4",
   "metadata": {},
   "source": [
    "# Set up loss function and optimizer"
   ]
  },
  {
   "cell_type": "code",
   "execution_count": 21,
   "id": "948d9087",
   "metadata": {},
   "outputs": [],
   "source": [
    "from torch.optim import lr_scheduler\n",
    "weights = torch.tensor(weights).to(device)\n",
    "#print(weights)"
   ]
  },
  {
   "cell_type": "code",
   "execution_count": 37,
   "id": "65dbe876",
   "metadata": {},
   "outputs": [],
   "source": [
    "torch.manual_seed(42)\n",
    "\n",
    "# Initialize model instance\n",
    "model = Conv_v0()\n",
    "\n",
    "# define the CrossEntropyLoss with weights\n",
    "loss_fn = nn.BCEWithLogitsLoss(weight=weights)\n",
    "\n",
    "# Define oprimizer\n",
    "optimizer = torch.optim.Adam(model.parameters(), lr=0.0001)\n",
    "\n",
    "# Define exponetntial lr with lr_scheduler\n",
    "exp_lr_scheduler = lr_scheduler.ExponentialLR(optimizer, gamma=0.01)"
   ]
  },
  {
   "cell_type": "code",
   "execution_count": 23,
   "id": "e1d337c9",
   "metadata": {},
   "outputs": [
    {
     "data": {
      "text/plain": [
       "tensor([[-0.2432, -0.3510],\n",
       "        [-0.6468, -0.9072],\n",
       "        [-0.0932, -0.2718],\n",
       "        [-0.0953, -0.0091],\n",
       "        [ 0.2498, -0.4807]], grad_fn=<SliceBackward0>)"
      ]
     },
     "execution_count": 23,
     "metadata": {},
     "output_type": "execute_result"
    }
   ],
   "source": [
    "# View the frist 5 outputs of the forward pass on the test data\n",
    "y_logits = model(X_test.to(device))[:5]\n",
    "y_logits"
   ]
  },
  {
   "cell_type": "code",
   "execution_count": 38,
   "id": "d2669895",
   "metadata": {},
   "outputs": [
    {
     "data": {
      "application/vnd.jupyter.widget-view+json": {
       "model_id": "60c054892f484515a32ece5a962ba805",
       "version_major": 2,
       "version_minor": 0
      },
      "text/plain": [
       "  0%|          | 0/1000 [00:00<?, ?it/s]"
      ]
     },
     "metadata": {},
     "output_type": "display_data"
    },
    {
     "name": "stdout",
     "output_type": "stream",
     "text": [
      "Epoch: 1 | train_loss: 1.7346 | train_bal_acc: 0.4990 | train_mcc: -0.0010 | valid_loss: 1.5507 | valid_bal_acc: 0.5000 | valid_mcc: 0.0000\n",
      "Epoch: 2 | train_loss: 1.5624 | train_bal_acc: 0.5000 | train_mcc: -0.0002 | valid_loss: 1.5315 | valid_bal_acc: 0.5000 | valid_mcc: 0.0000\n",
      "Epoch: 3 | train_loss: 1.5457 | train_bal_acc: 0.5000 | train_mcc: 0.0000 | valid_loss: 1.5208 | valid_bal_acc: 0.5000 | valid_mcc: 0.0000\n",
      "Epoch: 4 | train_loss: 1.5322 | train_bal_acc: 0.5001 | train_mcc: 0.0006 | valid_loss: 1.5101 | valid_bal_acc: 0.5000 | valid_mcc: 0.0000\n",
      "Epoch: 5 | train_loss: 1.5176 | train_bal_acc: 0.5000 | train_mcc: 0.0000 | valid_loss: 1.5014 | valid_bal_acc: 0.5000 | valid_mcc: 0.0000\n",
      "Epoch: 6 | train_loss: 1.5066 | train_bal_acc: 0.5000 | train_mcc: 0.0000 | valid_loss: 1.4940 | valid_bal_acc: 0.5000 | valid_mcc: 0.0000\n",
      "Epoch: 7 | train_loss: 1.5010 | train_bal_acc: 0.5000 | train_mcc: 0.0000 | valid_loss: 1.4865 | valid_bal_acc: 0.5000 | valid_mcc: 0.0000\n",
      "Epoch: 8 | train_loss: 1.4912 | train_bal_acc: 0.5000 | train_mcc: 0.0000 | valid_loss: 1.4789 | valid_bal_acc: 0.5000 | valid_mcc: 0.0000\n",
      "Epoch: 9 | train_loss: 1.4822 | train_bal_acc: 0.5000 | train_mcc: 0.0000 | valid_loss: 1.4737 | valid_bal_acc: 0.5000 | valid_mcc: 0.0000\n",
      "Epoch: 10 | train_loss: 1.4762 | train_bal_acc: 0.5000 | train_mcc: 0.0000 | valid_loss: 1.4673 | valid_bal_acc: 0.5000 | valid_mcc: 0.0000\n",
      "Epoch: 11 | train_loss: 1.4657 | train_bal_acc: 0.5000 | train_mcc: 0.0000 | valid_loss: 1.4619 | valid_bal_acc: 0.5000 | valid_mcc: 0.0000\n",
      "Epoch: 12 | train_loss: 1.4658 | train_bal_acc: 0.5000 | train_mcc: 0.0000 | valid_loss: 1.4564 | valid_bal_acc: 0.5000 | valid_mcc: 0.0000\n",
      "Epoch: 13 | train_loss: 1.4618 | train_bal_acc: 0.5000 | train_mcc: 0.0000 | valid_loss: 1.4517 | valid_bal_acc: 0.5000 | valid_mcc: 0.0000\n",
      "Epoch: 14 | train_loss: 1.4521 | train_bal_acc: 0.5000 | train_mcc: 0.0000 | valid_loss: 1.4463 | valid_bal_acc: 0.5000 | valid_mcc: 0.0000\n",
      "Epoch: 15 | train_loss: 1.4485 | train_bal_acc: 0.5000 | train_mcc: 0.0000 | valid_loss: 1.4413 | valid_bal_acc: 0.5000 | valid_mcc: 0.0000\n",
      "Epoch: 16 | train_loss: 1.4462 | train_bal_acc: 0.5000 | train_mcc: 0.0000 | valid_loss: 1.4371 | valid_bal_acc: 0.5000 | valid_mcc: 0.0000\n",
      "Epoch: 17 | train_loss: 1.4394 | train_bal_acc: 0.5000 | train_mcc: 0.0000 | valid_loss: 1.4326 | valid_bal_acc: 0.5000 | valid_mcc: 0.0000\n",
      "Epoch: 18 | train_loss: 1.4347 | train_bal_acc: 0.5000 | train_mcc: 0.0000 | valid_loss: 1.4282 | valid_bal_acc: 0.5000 | valid_mcc: 0.0000\n",
      "Epoch: 19 | train_loss: 1.4305 | train_bal_acc: 0.5015 | train_mcc: 0.0000 | valid_loss: 1.4236 | valid_bal_acc: 0.5000 | valid_mcc: 0.0000\n",
      "Epoch: 20 | train_loss: 1.4262 | train_bal_acc: 0.5000 | train_mcc: 0.0000 | valid_loss: 1.4206 | valid_bal_acc: 0.5000 | valid_mcc: 0.0000\n",
      "Epoch: 21 | train_loss: 1.4255 | train_bal_acc: 0.5000 | train_mcc: 0.0000 | valid_loss: 1.4164 | valid_bal_acc: 0.5000 | valid_mcc: 0.0000\n",
      "Epoch: 22 | train_loss: 1.4229 | train_bal_acc: 0.5000 | train_mcc: 0.0000 | valid_loss: 1.4125 | valid_bal_acc: 0.5000 | valid_mcc: 0.0000\n",
      "Epoch: 23 | train_loss: 1.4186 | train_bal_acc: 0.5000 | train_mcc: 0.0000 | valid_loss: 1.4088 | valid_bal_acc: 0.5000 | valid_mcc: 0.0000\n",
      "Epoch: 24 | train_loss: 1.4159 | train_bal_acc: 0.5000 | train_mcc: 0.0000 | valid_loss: 1.4044 | valid_bal_acc: 0.5000 | valid_mcc: 0.0000\n",
      "Epoch: 25 | train_loss: 1.4148 | train_bal_acc: 0.5000 | train_mcc: 0.0000 | valid_loss: 1.4014 | valid_bal_acc: 0.5000 | valid_mcc: 0.0000\n",
      "Epoch: 26 | train_loss: 1.4064 | train_bal_acc: 0.5000 | train_mcc: 0.0000 | valid_loss: 1.3967 | valid_bal_acc: 0.5000 | valid_mcc: 0.0000\n",
      "Epoch: 27 | train_loss: 1.4014 | train_bal_acc: 0.5000 | train_mcc: 0.0000 | valid_loss: 1.3935 | valid_bal_acc: 0.5000 | valid_mcc: 0.0000\n",
      "Epoch: 28 | train_loss: 1.3976 | train_bal_acc: 0.5000 | train_mcc: 0.0000 | valid_loss: 1.3898 | valid_bal_acc: 0.5000 | valid_mcc: 0.0000\n",
      "Epoch: 29 | train_loss: 1.3994 | train_bal_acc: 0.5000 | train_mcc: 0.0000 | valid_loss: 1.3861 | valid_bal_acc: 0.5000 | valid_mcc: 0.0000\n",
      "Epoch: 30 | train_loss: 1.3950 | train_bal_acc: 0.5000 | train_mcc: 0.0000 | valid_loss: 1.3822 | valid_bal_acc: 0.5000 | valid_mcc: 0.0000\n",
      "Epoch: 31 | train_loss: 1.3912 | train_bal_acc: 0.5000 | train_mcc: 0.0000 | valid_loss: 1.3782 | valid_bal_acc: 0.5000 | valid_mcc: 0.0000\n",
      "Epoch: 32 | train_loss: 1.3882 | train_bal_acc: 0.5000 | train_mcc: 0.0000 | valid_loss: 1.3750 | valid_bal_acc: 0.5000 | valid_mcc: 0.0000\n",
      "Epoch: 33 | train_loss: 1.3866 | train_bal_acc: 0.5000 | train_mcc: 0.0000 | valid_loss: 1.3724 | valid_bal_acc: 0.5000 | valid_mcc: 0.0000\n",
      "Epoch: 34 | train_loss: 1.3810 | train_bal_acc: 0.5000 | train_mcc: 0.0000 | valid_loss: 1.3686 | valid_bal_acc: 0.5000 | valid_mcc: 0.0000\n",
      "Epoch: 35 | train_loss: 1.3794 | train_bal_acc: 0.5000 | train_mcc: 0.0000 | valid_loss: 1.3655 | valid_bal_acc: 0.5000 | valid_mcc: 0.0000\n",
      "Epoch: 36 | train_loss: 1.3785 | train_bal_acc: 0.5000 | train_mcc: 0.0000 | valid_loss: 1.3632 | valid_bal_acc: 0.5000 | valid_mcc: 0.0000\n",
      "Epoch: 37 | train_loss: 1.3758 | train_bal_acc: 0.5000 | train_mcc: 0.0000 | valid_loss: 1.3599 | valid_bal_acc: 0.5000 | valid_mcc: 0.0000\n",
      "Epoch: 38 | train_loss: 1.3683 | train_bal_acc: 0.5000 | train_mcc: 0.0000 | valid_loss: 1.3572 | valid_bal_acc: 0.5000 | valid_mcc: 0.0000\n",
      "Epoch: 39 | train_loss: 1.3692 | train_bal_acc: 0.4998 | train_mcc: -0.0011 | valid_loss: 1.3545 | valid_bal_acc: 0.5000 | valid_mcc: 0.0000\n",
      "Epoch: 40 | train_loss: 1.3677 | train_bal_acc: 0.4998 | train_mcc: -0.0012 | valid_loss: 1.3528 | valid_bal_acc: 0.5000 | valid_mcc: 0.0000\n",
      "Epoch: 41 | train_loss: 1.3662 | train_bal_acc: 0.4998 | train_mcc: -0.0010 | valid_loss: 1.3497 | valid_bal_acc: 0.5000 | valid_mcc: 0.0000\n",
      "Epoch: 42 | train_loss: 1.3630 | train_bal_acc: 0.5001 | train_mcc: 0.0008 | valid_loss: 1.3477 | valid_bal_acc: 0.5000 | valid_mcc: 0.0000\n",
      "Epoch: 43 | train_loss: 1.3620 | train_bal_acc: 0.5002 | train_mcc: 0.0013 | valid_loss: 1.3454 | valid_bal_acc: 0.5000 | valid_mcc: 0.0000\n",
      "Epoch: 44 | train_loss: 1.3572 | train_bal_acc: 0.5009 | train_mcc: 0.0060 | valid_loss: 1.3437 | valid_bal_acc: 0.5000 | valid_mcc: 0.0000\n",
      "Epoch: 45 | train_loss: 1.3598 | train_bal_acc: 0.5015 | train_mcc: 0.0097 | valid_loss: 1.3415 | valid_bal_acc: 0.5000 | valid_mcc: 0.0000\n",
      "Epoch: 46 | train_loss: 1.3508 | train_bal_acc: 0.5026 | train_mcc: 0.0159 | valid_loss: 1.3397 | valid_bal_acc: 0.5000 | valid_mcc: 0.0000\n",
      "Epoch: 47 | train_loss: 1.3528 | train_bal_acc: 0.5022 | train_mcc: 0.0136 | valid_loss: 1.3378 | valid_bal_acc: 0.5000 | valid_mcc: 0.0000\n",
      "Epoch: 48 | train_loss: 1.3507 | train_bal_acc: 0.5026 | train_mcc: 0.0169 | valid_loss: 1.3358 | valid_bal_acc: 0.5000 | valid_mcc: 0.0000\n",
      "Epoch: 49 | train_loss: 1.3497 | train_bal_acc: 0.5023 | train_mcc: 0.0148 | valid_loss: 1.3333 | valid_bal_acc: 0.4995 | valid_mcc: -0.0032\n",
      "Epoch: 50 | train_loss: 1.3522 | train_bal_acc: 0.5037 | train_mcc: 0.0222 | valid_loss: 1.3320 | valid_bal_acc: 0.4995 | valid_mcc: -0.0031\n",
      "Epoch: 51 | train_loss: 1.3454 | train_bal_acc: 0.5036 | train_mcc: 0.0224 | valid_loss: 1.3299 | valid_bal_acc: 0.4995 | valid_mcc: -0.0030\n",
      "Epoch: 52 | train_loss: 1.3407 | train_bal_acc: 0.5040 | train_mcc: 0.0242 | valid_loss: 1.3280 | valid_bal_acc: 0.5004 | valid_mcc: 0.0026\n",
      "Epoch: 53 | train_loss: 1.3457 | train_bal_acc: 0.5044 | train_mcc: 0.0258 | valid_loss: 1.3267 | valid_bal_acc: 0.5014 | valid_mcc: 0.0095\n",
      "Epoch: 54 | train_loss: 1.3381 | train_bal_acc: 0.5043 | train_mcc: 0.0276 | valid_loss: 1.3246 | valid_bal_acc: 0.5019 | valid_mcc: 0.0119\n",
      "Epoch: 55 | train_loss: 1.3394 | train_bal_acc: 0.5046 | train_mcc: 0.0286 | valid_loss: 1.3231 | valid_bal_acc: 0.5042 | valid_mcc: 0.0258\n",
      "Epoch: 56 | train_loss: 1.3403 | train_bal_acc: 0.5047 | train_mcc: 0.0273 | valid_loss: 1.3213 | valid_bal_acc: 0.5040 | valid_mcc: 0.0243\n",
      "Epoch: 57 | train_loss: 1.3370 | train_bal_acc: 0.5047 | train_mcc: 0.0307 | valid_loss: 1.3191 | valid_bal_acc: 0.5051 | valid_mcc: 0.0313\n",
      "Epoch: 58 | train_loss: 1.3349 | train_bal_acc: 0.5047 | train_mcc: 0.0297 | valid_loss: 1.3173 | valid_bal_acc: 0.5044 | valid_mcc: 0.0278\n",
      "Epoch: 59 | train_loss: 1.3337 | train_bal_acc: 0.5049 | train_mcc: 0.0295 | valid_loss: 1.3155 | valid_bal_acc: 0.5045 | valid_mcc: 0.0272\n"
     ]
    },
    {
     "name": "stdout",
     "output_type": "stream",
     "text": [
      "Epoch: 60 | train_loss: 1.3345 | train_bal_acc: 0.5048 | train_mcc: 0.0302 | valid_loss: 1.3138 | valid_bal_acc: 0.5044 | valid_mcc: 0.0278\n",
      "Epoch: 61 | train_loss: 1.3270 | train_bal_acc: 0.5048 | train_mcc: 0.0292 | valid_loss: 1.3125 | valid_bal_acc: 0.5044 | valid_mcc: 0.0270\n",
      "Epoch: 62 | train_loss: 1.3260 | train_bal_acc: 0.5057 | train_mcc: 0.0339 | valid_loss: 1.3106 | valid_bal_acc: 0.5043 | valid_mcc: 0.0254\n",
      "Epoch: 63 | train_loss: 1.3283 | train_bal_acc: 0.5053 | train_mcc: 0.0338 | valid_loss: 1.3084 | valid_bal_acc: 0.5043 | valid_mcc: 0.0248\n",
      "Epoch: 64 | train_loss: 1.3198 | train_bal_acc: 0.5054 | train_mcc: 0.0344 | valid_loss: 1.3070 | valid_bal_acc: 0.5051 | valid_mcc: 0.0304\n",
      "Epoch: 65 | train_loss: 1.3225 | train_bal_acc: 0.5051 | train_mcc: 0.0319 | valid_loss: 1.3055 | valid_bal_acc: 0.5040 | valid_mcc: 0.0237\n",
      "Epoch: 66 | train_loss: 1.3213 | train_bal_acc: 0.5056 | train_mcc: 0.0343 | valid_loss: 1.3042 | valid_bal_acc: 0.5044 | valid_mcc: 0.0284\n",
      "Epoch: 67 | train_loss: 1.3205 | train_bal_acc: 0.5054 | train_mcc: 0.0339 | valid_loss: 1.3024 | valid_bal_acc: 0.5041 | valid_mcc: 0.0268\n",
      "Epoch: 68 | train_loss: 1.3232 | train_bal_acc: 0.5057 | train_mcc: 0.0350 | valid_loss: 1.3013 | valid_bal_acc: 0.5038 | valid_mcc: 0.0244\n",
      "Epoch: 69 | train_loss: 1.3162 | train_bal_acc: 0.5058 | train_mcc: 0.0366 | valid_loss: 1.2993 | valid_bal_acc: 0.5042 | valid_mcc: 0.0248\n",
      "Epoch: 70 | train_loss: 1.3140 | train_bal_acc: 0.5059 | train_mcc: 0.0375 | valid_loss: 1.2978 | valid_bal_acc: 0.5049 | valid_mcc: 0.0274\n",
      "Epoch: 71 | train_loss: 1.3131 | train_bal_acc: 0.5062 | train_mcc: 0.0377 | valid_loss: 1.2966 | valid_bal_acc: 0.5041 | valid_mcc: 0.0263\n",
      "Epoch: 72 | train_loss: 1.3163 | train_bal_acc: 0.5076 | train_mcc: 0.0441 | valid_loss: 1.2954 | valid_bal_acc: 0.5046 | valid_mcc: 0.0291\n",
      "Epoch: 73 | train_loss: 1.3117 | train_bal_acc: 0.5080 | train_mcc: 0.0465 | valid_loss: 1.2937 | valid_bal_acc: 0.5040 | valid_mcc: 0.0242\n",
      "Epoch: 74 | train_loss: 1.3086 | train_bal_acc: 0.5074 | train_mcc: 0.0451 | valid_loss: 1.2926 | valid_bal_acc: 0.5042 | valid_mcc: 0.0271\n",
      "Epoch: 75 | train_loss: 1.3088 | train_bal_acc: 0.5084 | train_mcc: 0.0531 | valid_loss: 1.2906 | valid_bal_acc: 0.5040 | valid_mcc: 0.0240\n",
      "Epoch: 76 | train_loss: 1.3055 | train_bal_acc: 0.5075 | train_mcc: 0.0437 | valid_loss: 1.2890 | valid_bal_acc: 0.5047 | valid_mcc: 0.0284\n",
      "Epoch: 77 | train_loss: 1.3059 | train_bal_acc: 0.5088 | train_mcc: 0.0522 | valid_loss: 1.2893 | valid_bal_acc: 0.5047 | valid_mcc: 0.0300\n",
      "Epoch: 78 | train_loss: 1.3036 | train_bal_acc: 0.5100 | train_mcc: 0.0614 | valid_loss: 1.2870 | valid_bal_acc: 0.5042 | valid_mcc: 0.0254\n",
      "Epoch: 79 | train_loss: 1.3035 | train_bal_acc: 0.5091 | train_mcc: 0.0553 | valid_loss: 1.2853 | valid_bal_acc: 0.5058 | valid_mcc: 0.0304\n",
      "Epoch: 80 | train_loss: 1.3089 | train_bal_acc: 0.5113 | train_mcc: 0.0667 | valid_loss: 1.2839 | valid_bal_acc: 0.5040 | valid_mcc: 0.0264\n",
      "Epoch: 81 | train_loss: 1.2987 | train_bal_acc: 0.5100 | train_mcc: 0.0598 | valid_loss: 1.2825 | valid_bal_acc: 0.5040 | valid_mcc: 0.0265\n",
      "Epoch: 82 | train_loss: 1.3057 | train_bal_acc: 0.5111 | train_mcc: 0.0640 | valid_loss: 1.2806 | valid_bal_acc: 0.5043 | valid_mcc: 0.0277\n",
      "Epoch: 83 | train_loss: 1.3030 | train_bal_acc: 0.5113 | train_mcc: 0.0641 | valid_loss: 1.2804 | valid_bal_acc: 0.5044 | valid_mcc: 0.0233\n",
      "Epoch: 84 | train_loss: 1.2986 | train_bal_acc: 0.5109 | train_mcc: 0.0654 | valid_loss: 1.2789 | valid_bal_acc: 0.5038 | valid_mcc: 0.0248\n",
      "Epoch: 85 | train_loss: 1.2973 | train_bal_acc: 0.5123 | train_mcc: 0.0702 | valid_loss: 1.2780 | valid_bal_acc: 0.5052 | valid_mcc: 0.0288\n",
      "Epoch: 86 | train_loss: 1.2977 | train_bal_acc: 0.5129 | train_mcc: 0.0748 | valid_loss: 1.2772 | valid_bal_acc: 0.5045 | valid_mcc: 0.0271\n",
      "Epoch: 87 | train_loss: 1.2996 | train_bal_acc: 0.5121 | train_mcc: 0.0722 | valid_loss: 1.2761 | valid_bal_acc: 0.5039 | valid_mcc: 0.0232\n",
      "Epoch: 88 | train_loss: 1.2898 | train_bal_acc: 0.5134 | train_mcc: 0.0780 | valid_loss: 1.2750 | valid_bal_acc: 0.5059 | valid_mcc: 0.0343\n",
      "Epoch: 89 | train_loss: 1.2910 | train_bal_acc: 0.5148 | train_mcc: 0.0838 | valid_loss: 1.2739 | valid_bal_acc: 0.5064 | valid_mcc: 0.0359\n",
      "Epoch: 90 | train_loss: 1.2980 | train_bal_acc: 0.5145 | train_mcc: 0.0788 | valid_loss: 1.2717 | valid_bal_acc: 0.5052 | valid_mcc: 0.0325\n",
      "Epoch: 91 | train_loss: 1.2893 | train_bal_acc: 0.5165 | train_mcc: 0.0858 | valid_loss: 1.2715 | valid_bal_acc: 0.5060 | valid_mcc: 0.0324\n",
      "Epoch: 92 | train_loss: 1.2955 | train_bal_acc: 0.5175 | train_mcc: 0.0953 | valid_loss: 1.2704 | valid_bal_acc: 0.5044 | valid_mcc: 0.0276\n",
      "Epoch: 93 | train_loss: 1.2943 | train_bal_acc: 0.5179 | train_mcc: 0.0978 | valid_loss: 1.2698 | valid_bal_acc: 0.5051 | valid_mcc: 0.0325\n",
      "Epoch: 94 | train_loss: 1.2890 | train_bal_acc: 0.5180 | train_mcc: 0.1008 | valid_loss: 1.2678 | valid_bal_acc: 0.5063 | valid_mcc: 0.0377\n",
      "Epoch: 95 | train_loss: 1.2888 | train_bal_acc: 0.5197 | train_mcc: 0.1019 | valid_loss: 1.2671 | valid_bal_acc: 0.5067 | valid_mcc: 0.0409\n",
      "Epoch: 96 | train_loss: 1.2912 | train_bal_acc: 0.5217 | train_mcc: 0.1176 | valid_loss: 1.2665 | valid_bal_acc: 0.5065 | valid_mcc: 0.0372\n",
      "Epoch: 97 | train_loss: 1.2893 | train_bal_acc: 0.5215 | train_mcc: 0.1127 | valid_loss: 1.2654 | valid_bal_acc: 0.5070 | valid_mcc: 0.0404\n",
      "Epoch: 98 | train_loss: 1.2899 | train_bal_acc: 0.5181 | train_mcc: 0.0982 | valid_loss: 1.2648 | valid_bal_acc: 0.5064 | valid_mcc: 0.0382\n",
      "Epoch: 99 | train_loss: 1.2820 | train_bal_acc: 0.5198 | train_mcc: 0.1084 | valid_loss: 1.2632 | valid_bal_acc: 0.5066 | valid_mcc: 0.0409\n",
      "Epoch: 100 | train_loss: 1.2895 | train_bal_acc: 0.5199 | train_mcc: 0.1075 | valid_loss: 1.2619 | valid_bal_acc: 0.5072 | valid_mcc: 0.0408\n",
      "Epoch: 101 | train_loss: 1.2866 | train_bal_acc: 0.5201 | train_mcc: 0.1027 | valid_loss: 1.2614 | valid_bal_acc: 0.5074 | valid_mcc: 0.0464\n",
      "Epoch: 102 | train_loss: 1.2746 | train_bal_acc: 0.5242 | train_mcc: 0.1226 | valid_loss: 1.2603 | valid_bal_acc: 0.5076 | valid_mcc: 0.0435\n",
      "Epoch: 103 | train_loss: 1.2785 | train_bal_acc: 0.5237 | train_mcc: 0.1245 | valid_loss: 1.2588 | valid_bal_acc: 0.5075 | valid_mcc: 0.0439\n",
      "Epoch: 104 | train_loss: 1.2786 | train_bal_acc: 0.5244 | train_mcc: 0.1281 | valid_loss: 1.2578 | valid_bal_acc: 0.5068 | valid_mcc: 0.0420\n",
      "Epoch: 105 | train_loss: 1.2830 | train_bal_acc: 0.5253 | train_mcc: 0.1255 | valid_loss: 1.2577 | valid_bal_acc: 0.5071 | valid_mcc: 0.0445\n",
      "Epoch: 106 | train_loss: 1.2811 | train_bal_acc: 0.5245 | train_mcc: 0.1216 | valid_loss: 1.2576 | valid_bal_acc: 0.5094 | valid_mcc: 0.0524\n",
      "Epoch: 107 | train_loss: 1.2813 | train_bal_acc: 0.5304 | train_mcc: 0.1503 | valid_loss: 1.2553 | valid_bal_acc: 0.5079 | valid_mcc: 0.0433\n",
      "Epoch: 108 | train_loss: 1.2835 | train_bal_acc: 0.5266 | train_mcc: 0.1314 | valid_loss: 1.2543 | valid_bal_acc: 0.5069 | valid_mcc: 0.0433\n",
      "Epoch: 109 | train_loss: 1.2826 | train_bal_acc: 0.5242 | train_mcc: 0.1199 | valid_loss: 1.2544 | valid_bal_acc: 0.5063 | valid_mcc: 0.0408\n",
      "Epoch: 110 | train_loss: 1.2725 | train_bal_acc: 0.5295 | train_mcc: 0.1427 | valid_loss: 1.2542 | valid_bal_acc: 0.5068 | valid_mcc: 0.0407\n",
      "Epoch: 111 | train_loss: 1.2782 | train_bal_acc: 0.5280 | train_mcc: 0.1357 | valid_loss: 1.2524 | valid_bal_acc: 0.5074 | valid_mcc: 0.0402\n",
      "Epoch: 112 | train_loss: 1.2737 | train_bal_acc: 0.5312 | train_mcc: 0.1511 | valid_loss: 1.2524 | valid_bal_acc: 0.5071 | valid_mcc: 0.0406\n",
      "Epoch: 113 | train_loss: 1.2729 | train_bal_acc: 0.5303 | train_mcc: 0.1429 | valid_loss: 1.2513 | valid_bal_acc: 0.5086 | valid_mcc: 0.0496\n",
      "Epoch: 114 | train_loss: 1.2770 | train_bal_acc: 0.5359 | train_mcc: 0.1751 | valid_loss: 1.2492 | valid_bal_acc: 0.5095 | valid_mcc: 0.0588\n",
      "Epoch: 115 | train_loss: 1.2743 | train_bal_acc: 0.5318 | train_mcc: 0.1517 | valid_loss: 1.2502 | valid_bal_acc: 0.5067 | valid_mcc: 0.0449\n",
      "Epoch: 116 | train_loss: 1.2768 | train_bal_acc: 0.5299 | train_mcc: 0.1392 | valid_loss: 1.2488 | valid_bal_acc: 0.5100 | valid_mcc: 0.0555\n",
      "Epoch: 117 | train_loss: 1.2735 | train_bal_acc: 0.5315 | train_mcc: 0.1499 | valid_loss: 1.2469 | valid_bal_acc: 0.5104 | valid_mcc: 0.0616\n",
      "Epoch: 118 | train_loss: 1.2748 | train_bal_acc: 0.5347 | train_mcc: 0.1615 | valid_loss: 1.2467 | valid_bal_acc: 0.5105 | valid_mcc: 0.0606\n"
     ]
    },
    {
     "name": "stdout",
     "output_type": "stream",
     "text": [
      "Epoch: 119 | train_loss: 1.2687 | train_bal_acc: 0.5357 | train_mcc: 0.1640 | valid_loss: 1.2456 | valid_bal_acc: 0.5113 | valid_mcc: 0.0650\n",
      "Epoch: 120 | train_loss: 1.2754 | train_bal_acc: 0.5354 | train_mcc: 0.1637 | valid_loss: 1.2449 | valid_bal_acc: 0.5099 | valid_mcc: 0.0579\n",
      "Epoch: 121 | train_loss: 1.2703 | train_bal_acc: 0.5374 | train_mcc: 0.1714 | valid_loss: 1.2447 | valid_bal_acc: 0.5096 | valid_mcc: 0.0580\n",
      "Epoch: 122 | train_loss: 1.2728 | train_bal_acc: 0.5360 | train_mcc: 0.1655 | valid_loss: 1.2457 | valid_bal_acc: 0.5094 | valid_mcc: 0.0536\n",
      "Epoch: 123 | train_loss: 1.2779 | train_bal_acc: 0.5386 | train_mcc: 0.1681 | valid_loss: 1.2427 | valid_bal_acc: 0.5110 | valid_mcc: 0.0638\n",
      "Epoch: 124 | train_loss: 1.2726 | train_bal_acc: 0.5333 | train_mcc: 0.1572 | valid_loss: 1.2432 | valid_bal_acc: 0.5105 | valid_mcc: 0.0598\n",
      "Epoch: 125 | train_loss: 1.2733 | train_bal_acc: 0.5392 | train_mcc: 0.1753 | valid_loss: 1.2409 | valid_bal_acc: 0.5107 | valid_mcc: 0.0645\n",
      "Epoch: 126 | train_loss: 1.2726 | train_bal_acc: 0.5377 | train_mcc: 0.1705 | valid_loss: 1.2407 | valid_bal_acc: 0.5133 | valid_mcc: 0.0775\n",
      "Epoch: 127 | train_loss: 1.2762 | train_bal_acc: 0.5421 | train_mcc: 0.1770 | valid_loss: 1.2401 | valid_bal_acc: 0.5114 | valid_mcc: 0.0690\n",
      "Epoch: 128 | train_loss: 1.2644 | train_bal_acc: 0.5380 | train_mcc: 0.1680 | valid_loss: 1.2386 | valid_bal_acc: 0.5123 | valid_mcc: 0.0692\n",
      "Epoch: 129 | train_loss: 1.2615 | train_bal_acc: 0.5429 | train_mcc: 0.1832 | valid_loss: 1.2376 | valid_bal_acc: 0.5116 | valid_mcc: 0.0677\n",
      "Epoch: 130 | train_loss: 1.2678 | train_bal_acc: 0.5427 | train_mcc: 0.1880 | valid_loss: 1.2375 | valid_bal_acc: 0.5132 | valid_mcc: 0.0750\n",
      "Epoch: 131 | train_loss: 1.2664 | train_bal_acc: 0.5426 | train_mcc: 0.1839 | valid_loss: 1.2373 | valid_bal_acc: 0.5115 | valid_mcc: 0.0665\n",
      "Epoch: 132 | train_loss: 1.2666 | train_bal_acc: 0.5442 | train_mcc: 0.1893 | valid_loss: 1.2362 | valid_bal_acc: 0.5132 | valid_mcc: 0.0664\n",
      "Epoch: 133 | train_loss: 1.2692 | train_bal_acc: 0.5400 | train_mcc: 0.1746 | valid_loss: 1.2366 | valid_bal_acc: 0.5110 | valid_mcc: 0.0656\n",
      "Epoch: 134 | train_loss: 1.2667 | train_bal_acc: 0.5447 | train_mcc: 0.1879 | valid_loss: 1.2362 | valid_bal_acc: 0.5115 | valid_mcc: 0.0614\n",
      "Epoch: 135 | train_loss: 1.2719 | train_bal_acc: 0.5445 | train_mcc: 0.1914 | valid_loss: 1.2342 | valid_bal_acc: 0.5157 | valid_mcc: 0.0817\n",
      "Epoch: 136 | train_loss: 1.2604 | train_bal_acc: 0.5453 | train_mcc: 0.1943 | valid_loss: 1.2349 | valid_bal_acc: 0.5128 | valid_mcc: 0.0754\n",
      "Epoch: 137 | train_loss: 1.2704 | train_bal_acc: 0.5467 | train_mcc: 0.2000 | valid_loss: 1.2329 | valid_bal_acc: 0.5172 | valid_mcc: 0.0908\n",
      "Epoch: 138 | train_loss: 1.2646 | train_bal_acc: 0.5417 | train_mcc: 0.1755 | valid_loss: 1.2320 | valid_bal_acc: 0.5173 | valid_mcc: 0.0954\n",
      "Epoch: 139 | train_loss: 1.2670 | train_bal_acc: 0.5455 | train_mcc: 0.1895 | valid_loss: 1.2311 | valid_bal_acc: 0.5162 | valid_mcc: 0.0905\n",
      "Epoch: 140 | train_loss: 1.2590 | train_bal_acc: 0.5490 | train_mcc: 0.2021 | valid_loss: 1.2307 | valid_bal_acc: 0.5165 | valid_mcc: 0.0913\n",
      "Epoch: 141 | train_loss: 1.2600 | train_bal_acc: 0.5504 | train_mcc: 0.2054 | valid_loss: 1.2293 | valid_bal_acc: 0.5173 | valid_mcc: 0.0980\n",
      "Epoch: 142 | train_loss: 1.2620 | train_bal_acc: 0.5514 | train_mcc: 0.2076 | valid_loss: 1.2295 | valid_bal_acc: 0.5168 | valid_mcc: 0.0945\n",
      "Epoch: 143 | train_loss: 1.2601 | train_bal_acc: 0.5509 | train_mcc: 0.2165 | valid_loss: 1.2295 | valid_bal_acc: 0.5158 | valid_mcc: 0.0884\n",
      "Epoch: 144 | train_loss: 1.2605 | train_bal_acc: 0.5496 | train_mcc: 0.2027 | valid_loss: 1.2295 | valid_bal_acc: 0.5157 | valid_mcc: 0.0904\n",
      "Epoch: 145 | train_loss: 1.2547 | train_bal_acc: 0.5560 | train_mcc: 0.2239 | valid_loss: 1.2264 | valid_bal_acc: 0.5167 | valid_mcc: 0.0846\n",
      "Epoch: 146 | train_loss: 1.2536 | train_bal_acc: 0.5490 | train_mcc: 0.2064 | valid_loss: 1.2258 | valid_bal_acc: 0.5210 | valid_mcc: 0.1148\n",
      "Epoch: 147 | train_loss: 1.2558 | train_bal_acc: 0.5556 | train_mcc: 0.2210 | valid_loss: 1.2258 | valid_bal_acc: 0.5167 | valid_mcc: 0.0908\n",
      "Epoch: 148 | train_loss: 1.2666 | train_bal_acc: 0.5530 | train_mcc: 0.2071 | valid_loss: 1.2244 | valid_bal_acc: 0.5176 | valid_mcc: 0.0963\n",
      "Epoch: 149 | train_loss: 1.2564 | train_bal_acc: 0.5543 | train_mcc: 0.2184 | valid_loss: 1.2244 | valid_bal_acc: 0.5185 | valid_mcc: 0.0992\n",
      "Epoch: 150 | train_loss: 1.2539 | train_bal_acc: 0.5566 | train_mcc: 0.2260 | valid_loss: 1.2263 | valid_bal_acc: 0.5154 | valid_mcc: 0.0903\n",
      "Epoch: 151 | train_loss: 1.2567 | train_bal_acc: 0.5552 | train_mcc: 0.2152 | valid_loss: 1.2227 | valid_bal_acc: 0.5229 | valid_mcc: 0.1240\n",
      "Epoch: 152 | train_loss: 1.2582 | train_bal_acc: 0.5589 | train_mcc: 0.2294 | valid_loss: 1.2230 | valid_bal_acc: 0.5165 | valid_mcc: 0.0894\n",
      "Epoch: 153 | train_loss: 1.2550 | train_bal_acc: 0.5593 | train_mcc: 0.2316 | valid_loss: 1.2222 | valid_bal_acc: 0.5203 | valid_mcc: 0.1160\n",
      "Epoch: 154 | train_loss: 1.2549 | train_bal_acc: 0.5621 | train_mcc: 0.2406 | valid_loss: 1.2226 | valid_bal_acc: 0.5183 | valid_mcc: 0.1052\n",
      "Epoch: 155 | train_loss: 1.2585 | train_bal_acc: 0.5589 | train_mcc: 0.2318 | valid_loss: 1.2218 | valid_bal_acc: 0.5159 | valid_mcc: 0.0875\n",
      "Epoch: 156 | train_loss: 1.2525 | train_bal_acc: 0.5607 | train_mcc: 0.2345 | valid_loss: 1.2201 | valid_bal_acc: 0.5197 | valid_mcc: 0.1033\n",
      "Epoch: 157 | train_loss: 1.2556 | train_bal_acc: 0.5624 | train_mcc: 0.2360 | valid_loss: 1.2205 | valid_bal_acc: 0.5217 | valid_mcc: 0.1136\n",
      "Epoch: 158 | train_loss: 1.2564 | train_bal_acc: 0.5626 | train_mcc: 0.2375 | valid_loss: 1.2185 | valid_bal_acc: 0.5243 | valid_mcc: 0.1286\n",
      "Epoch: 159 | train_loss: 1.2498 | train_bal_acc: 0.5639 | train_mcc: 0.2434 | valid_loss: 1.2182 | valid_bal_acc: 0.5266 | valid_mcc: 0.1422\n",
      "Epoch: 160 | train_loss: 1.2571 | train_bal_acc: 0.5609 | train_mcc: 0.2322 | valid_loss: 1.2181 | valid_bal_acc: 0.5222 | valid_mcc: 0.1156\n",
      "Epoch: 161 | train_loss: 1.2540 | train_bal_acc: 0.5651 | train_mcc: 0.2387 | valid_loss: 1.2171 | valid_bal_acc: 0.5232 | valid_mcc: 0.1336\n",
      "Epoch: 162 | train_loss: 1.2542 | train_bal_acc: 0.5617 | train_mcc: 0.2281 | valid_loss: 1.2169 | valid_bal_acc: 0.5212 | valid_mcc: 0.1202\n",
      "Epoch: 163 | train_loss: 1.2538 | train_bal_acc: 0.5609 | train_mcc: 0.2239 | valid_loss: 1.2164 | valid_bal_acc: 0.5240 | valid_mcc: 0.1302\n",
      "Epoch: 164 | train_loss: 1.2515 | train_bal_acc: 0.5699 | train_mcc: 0.2513 | valid_loss: 1.2168 | valid_bal_acc: 0.5232 | valid_mcc: 0.1201\n",
      "Epoch: 165 | train_loss: 1.2476 | train_bal_acc: 0.5648 | train_mcc: 0.2398 | valid_loss: 1.2147 | valid_bal_acc: 0.5264 | valid_mcc: 0.1332\n",
      "Epoch: 166 | train_loss: 1.2535 | train_bal_acc: 0.5646 | train_mcc: 0.2343 | valid_loss: 1.2148 | valid_bal_acc: 0.5290 | valid_mcc: 0.1528\n",
      "Epoch: 167 | train_loss: 1.2440 | train_bal_acc: 0.5644 | train_mcc: 0.2390 | valid_loss: 1.2131 | valid_bal_acc: 0.5291 | valid_mcc: 0.1405\n",
      "Epoch: 168 | train_loss: 1.2497 | train_bal_acc: 0.5677 | train_mcc: 0.2407 | valid_loss: 1.2129 | valid_bal_acc: 0.5301 | valid_mcc: 0.1545\n",
      "Epoch: 169 | train_loss: 1.2506 | train_bal_acc: 0.5697 | train_mcc: 0.2524 | valid_loss: 1.2124 | valid_bal_acc: 0.5241 | valid_mcc: 0.1263\n",
      "Epoch: 170 | train_loss: 1.2432 | train_bal_acc: 0.5681 | train_mcc: 0.2478 | valid_loss: 1.2117 | valid_bal_acc: 0.5317 | valid_mcc: 0.1561\n",
      "Epoch: 171 | train_loss: 1.2505 | train_bal_acc: 0.5648 | train_mcc: 0.2370 | valid_loss: 1.2114 | valid_bal_acc: 0.5293 | valid_mcc: 0.1514\n",
      "Epoch: 172 | train_loss: 1.2542 | train_bal_acc: 0.5678 | train_mcc: 0.2413 | valid_loss: 1.2124 | valid_bal_acc: 0.5243 | valid_mcc: 0.1284\n",
      "Epoch: 173 | train_loss: 1.2505 | train_bal_acc: 0.5668 | train_mcc: 0.2457 | valid_loss: 1.2105 | valid_bal_acc: 0.5279 | valid_mcc: 0.1494\n",
      "Epoch: 174 | train_loss: 1.2442 | train_bal_acc: 0.5692 | train_mcc: 0.2454 | valid_loss: 1.2098 | valid_bal_acc: 0.5294 | valid_mcc: 0.1523\n",
      "Epoch: 175 | train_loss: 1.2468 | train_bal_acc: 0.5738 | train_mcc: 0.2633 | valid_loss: 1.2100 | valid_bal_acc: 0.5305 | valid_mcc: 0.1549\n",
      "Epoch: 176 | train_loss: 1.2506 | train_bal_acc: 0.5720 | train_mcc: 0.2515 | valid_loss: 1.2086 | valid_bal_acc: 0.5329 | valid_mcc: 0.1525\n",
      "Epoch: 177 | train_loss: 1.2482 | train_bal_acc: 0.5726 | train_mcc: 0.2543 | valid_loss: 1.2092 | valid_bal_acc: 0.5285 | valid_mcc: 0.1440\n"
     ]
    },
    {
     "name": "stdout",
     "output_type": "stream",
     "text": [
      "Epoch: 178 | train_loss: 1.2371 | train_bal_acc: 0.5735 | train_mcc: 0.2604 | valid_loss: 1.2081 | valid_bal_acc: 0.5341 | valid_mcc: 0.1668\n",
      "Epoch: 179 | train_loss: 1.2477 | train_bal_acc: 0.5718 | train_mcc: 0.2517 | valid_loss: 1.2095 | valid_bal_acc: 0.5266 | valid_mcc: 0.1397\n",
      "Epoch: 180 | train_loss: 1.2482 | train_bal_acc: 0.5708 | train_mcc: 0.2473 | valid_loss: 1.2062 | valid_bal_acc: 0.5453 | valid_mcc: 0.2062\n",
      "Epoch: 181 | train_loss: 1.2446 | train_bal_acc: 0.5762 | train_mcc: 0.2607 | valid_loss: 1.2114 | valid_bal_acc: 0.5264 | valid_mcc: 0.1293\n",
      "Epoch: 182 | train_loss: 1.2394 | train_bal_acc: 0.5743 | train_mcc: 0.2563 | valid_loss: 1.2074 | valid_bal_acc: 0.5315 | valid_mcc: 0.1585\n",
      "Epoch: 183 | train_loss: 1.2445 | train_bal_acc: 0.5700 | train_mcc: 0.2465 | valid_loss: 1.2050 | valid_bal_acc: 0.5422 | valid_mcc: 0.2073\n",
      "Epoch: 184 | train_loss: 1.2472 | train_bal_acc: 0.5777 | train_mcc: 0.2662 | valid_loss: 1.2053 | valid_bal_acc: 0.5362 | valid_mcc: 0.1728\n",
      "Epoch: 185 | train_loss: 1.2432 | train_bal_acc: 0.5728 | train_mcc: 0.2527 | valid_loss: 1.2037 | valid_bal_acc: 0.5399 | valid_mcc: 0.1739\n",
      "Epoch: 186 | train_loss: 1.2472 | train_bal_acc: 0.5745 | train_mcc: 0.2579 | valid_loss: 1.2040 | valid_bal_acc: 0.5380 | valid_mcc: 0.1861\n",
      "Epoch: 187 | train_loss: 1.2402 | train_bal_acc: 0.5774 | train_mcc: 0.2658 | valid_loss: 1.2034 | valid_bal_acc: 0.5459 | valid_mcc: 0.2120\n",
      "Epoch: 188 | train_loss: 1.2519 | train_bal_acc: 0.5780 | train_mcc: 0.2645 | valid_loss: 1.2028 | valid_bal_acc: 0.5473 | valid_mcc: 0.2214\n",
      "Epoch: 189 | train_loss: 1.2400 | train_bal_acc: 0.5803 | train_mcc: 0.2741 | valid_loss: 1.2032 | valid_bal_acc: 0.5378 | valid_mcc: 0.1748\n",
      "Epoch: 190 | train_loss: 1.2459 | train_bal_acc: 0.5810 | train_mcc: 0.2699 | valid_loss: 1.2039 | valid_bal_acc: 0.5325 | valid_mcc: 0.1663\n",
      "Epoch: 191 | train_loss: 1.2423 | train_bal_acc: 0.5788 | train_mcc: 0.2683 | valid_loss: 1.2022 | valid_bal_acc: 0.5387 | valid_mcc: 0.1819\n",
      "Epoch: 192 | train_loss: 1.2425 | train_bal_acc: 0.5777 | train_mcc: 0.2681 | valid_loss: 1.2009 | valid_bal_acc: 0.5435 | valid_mcc: 0.2021\n",
      "Epoch: 193 | train_loss: 1.2406 | train_bal_acc: 0.5795 | train_mcc: 0.2660 | valid_loss: 1.2000 | valid_bal_acc: 0.5418 | valid_mcc: 0.1999\n",
      "Epoch: 194 | train_loss: 1.2443 | train_bal_acc: 0.5782 | train_mcc: 0.2638 | valid_loss: 1.2015 | valid_bal_acc: 0.5342 | valid_mcc: 0.1768\n",
      "Epoch: 195 | train_loss: 1.2404 | train_bal_acc: 0.5784 | train_mcc: 0.2659 | valid_loss: 1.1995 | valid_bal_acc: 0.5428 | valid_mcc: 0.2019\n",
      "Epoch: 196 | train_loss: 1.2372 | train_bal_acc: 0.5826 | train_mcc: 0.2743 | valid_loss: 1.1989 | valid_bal_acc: 0.5433 | valid_mcc: 0.1909\n",
      "Epoch: 197 | train_loss: 1.2388 | train_bal_acc: 0.5814 | train_mcc: 0.2701 | valid_loss: 1.1986 | valid_bal_acc: 0.5393 | valid_mcc: 0.1772\n",
      "Epoch: 198 | train_loss: 1.2505 | train_bal_acc: 0.5823 | train_mcc: 0.2704 | valid_loss: 1.1984 | valid_bal_acc: 0.5431 | valid_mcc: 0.1940\n",
      "Epoch: 199 | train_loss: 1.2436 | train_bal_acc: 0.5808 | train_mcc: 0.2656 | valid_loss: 1.1984 | valid_bal_acc: 0.5377 | valid_mcc: 0.1760\n",
      "Epoch: 200 | train_loss: 1.2377 | train_bal_acc: 0.5819 | train_mcc: 0.2770 | valid_loss: 1.1979 | valid_bal_acc: 0.5417 | valid_mcc: 0.1925\n",
      "Epoch: 201 | train_loss: 1.2374 | train_bal_acc: 0.5812 | train_mcc: 0.2688 | valid_loss: 1.1971 | valid_bal_acc: 0.5421 | valid_mcc: 0.1894\n",
      "Epoch: 202 | train_loss: 1.2397 | train_bal_acc: 0.5834 | train_mcc: 0.2806 | valid_loss: 1.1964 | valid_bal_acc: 0.5433 | valid_mcc: 0.2042\n",
      "Epoch: 203 | train_loss: 1.2390 | train_bal_acc: 0.5854 | train_mcc: 0.2807 | valid_loss: 1.1966 | valid_bal_acc: 0.5422 | valid_mcc: 0.1842\n",
      "Epoch: 204 | train_loss: 1.2365 | train_bal_acc: 0.5839 | train_mcc: 0.2772 | valid_loss: 1.1944 | valid_bal_acc: 0.5432 | valid_mcc: 0.2058\n",
      "Epoch: 205 | train_loss: 1.2411 | train_bal_acc: 0.5808 | train_mcc: 0.2705 | valid_loss: 1.1955 | valid_bal_acc: 0.5417 | valid_mcc: 0.1931\n",
      "Epoch: 206 | train_loss: 1.2352 | train_bal_acc: 0.5865 | train_mcc: 0.2832 | valid_loss: 1.1961 | valid_bal_acc: 0.5399 | valid_mcc: 0.1853\n",
      "Epoch: 207 | train_loss: 1.2383 | train_bal_acc: 0.5839 | train_mcc: 0.2771 | valid_loss: 1.1952 | valid_bal_acc: 0.5400 | valid_mcc: 0.1880\n",
      "Epoch: 208 | train_loss: 1.2422 | train_bal_acc: 0.5825 | train_mcc: 0.2684 | valid_loss: 1.1945 | valid_bal_acc: 0.5383 | valid_mcc: 0.1826\n",
      "Epoch: 209 | train_loss: 1.2438 | train_bal_acc: 0.5825 | train_mcc: 0.2733 | valid_loss: 1.1923 | valid_bal_acc: 0.5495 | valid_mcc: 0.2267\n",
      "Epoch: 210 | train_loss: 1.2356 | train_bal_acc: 0.5892 | train_mcc: 0.2948 | valid_loss: 1.1915 | valid_bal_acc: 0.5460 | valid_mcc: 0.2051\n",
      "Epoch: 211 | train_loss: 1.2318 | train_bal_acc: 0.5897 | train_mcc: 0.2910 | valid_loss: 1.1913 | valid_bal_acc: 0.5451 | valid_mcc: 0.2028\n",
      "Epoch: 212 | train_loss: 1.2393 | train_bal_acc: 0.5822 | train_mcc: 0.2696 | valid_loss: 1.1908 | valid_bal_acc: 0.5453 | valid_mcc: 0.1940\n",
      "Epoch: 213 | train_loss: 1.2359 | train_bal_acc: 0.5849 | train_mcc: 0.2740 | valid_loss: 1.1903 | valid_bal_acc: 0.5476 | valid_mcc: 0.2203\n",
      "Epoch: 214 | train_loss: 1.2383 | train_bal_acc: 0.5843 | train_mcc: 0.2719 | valid_loss: 1.1899 | valid_bal_acc: 0.5456 | valid_mcc: 0.1973\n",
      "Epoch: 215 | train_loss: 1.2390 | train_bal_acc: 0.5871 | train_mcc: 0.2824 | valid_loss: 1.1899 | valid_bal_acc: 0.5454 | valid_mcc: 0.2029\n",
      "Epoch: 216 | train_loss: 1.2295 | train_bal_acc: 0.5879 | train_mcc: 0.2857 | valid_loss: 1.1889 | valid_bal_acc: 0.5578 | valid_mcc: 0.2307\n",
      "Epoch: 217 | train_loss: 1.2294 | train_bal_acc: 0.5925 | train_mcc: 0.2888 | valid_loss: 1.1876 | valid_bal_acc: 0.5609 | valid_mcc: 0.2580\n",
      "Epoch: 218 | train_loss: 1.2318 | train_bal_acc: 0.5848 | train_mcc: 0.2759 | valid_loss: 1.1880 | valid_bal_acc: 0.5564 | valid_mcc: 0.2295\n",
      "Epoch: 219 | train_loss: 1.2322 | train_bal_acc: 0.5872 | train_mcc: 0.2831 | valid_loss: 1.1880 | valid_bal_acc: 0.5462 | valid_mcc: 0.2024\n",
      "Epoch: 220 | train_loss: 1.2372 | train_bal_acc: 0.5873 | train_mcc: 0.2826 | valid_loss: 1.1875 | valid_bal_acc: 0.5519 | valid_mcc: 0.2337\n",
      "Epoch: 221 | train_loss: 1.2379 | train_bal_acc: 0.5877 | train_mcc: 0.2802 | valid_loss: 1.1887 | valid_bal_acc: 0.5436 | valid_mcc: 0.2088\n",
      "Epoch: 222 | train_loss: 1.2293 | train_bal_acc: 0.5868 | train_mcc: 0.2797 | valid_loss: 1.1875 | valid_bal_acc: 0.5466 | valid_mcc: 0.2038\n",
      "Epoch: 223 | train_loss: 1.2312 | train_bal_acc: 0.5905 | train_mcc: 0.2836 | valid_loss: 1.1853 | valid_bal_acc: 0.5514 | valid_mcc: 0.2136\n",
      "Epoch: 224 | train_loss: 1.2317 | train_bal_acc: 0.5884 | train_mcc: 0.2835 | valid_loss: 1.1859 | valid_bal_acc: 0.5456 | valid_mcc: 0.2056\n",
      "Epoch: 225 | train_loss: 1.2355 | train_bal_acc: 0.5871 | train_mcc: 0.2787 | valid_loss: 1.1872 | valid_bal_acc: 0.5452 | valid_mcc: 0.2009\n",
      "Epoch: 226 | train_loss: 1.2282 | train_bal_acc: 0.5956 | train_mcc: 0.3036 | valid_loss: 1.1836 | valid_bal_acc: 0.5575 | valid_mcc: 0.2390\n",
      "Epoch: 227 | train_loss: 1.2330 | train_bal_acc: 0.5922 | train_mcc: 0.2943 | valid_loss: 1.1840 | valid_bal_acc: 0.5525 | valid_mcc: 0.2316\n",
      "Epoch: 228 | train_loss: 1.2217 | train_bal_acc: 0.5967 | train_mcc: 0.3018 | valid_loss: 1.1836 | valid_bal_acc: 0.5482 | valid_mcc: 0.2143\n",
      "Epoch: 229 | train_loss: 1.2294 | train_bal_acc: 0.5876 | train_mcc: 0.2763 | valid_loss: 1.1833 | valid_bal_acc: 0.5546 | valid_mcc: 0.2347\n",
      "Epoch: 230 | train_loss: 1.2324 | train_bal_acc: 0.5895 | train_mcc: 0.2832 | valid_loss: 1.1831 | valid_bal_acc: 0.5532 | valid_mcc: 0.2373\n",
      "Epoch: 231 | train_loss: 1.2290 | train_bal_acc: 0.5931 | train_mcc: 0.2909 | valid_loss: 1.1842 | valid_bal_acc: 0.5484 | valid_mcc: 0.2186\n",
      "Epoch: 232 | train_loss: 1.2333 | train_bal_acc: 0.5878 | train_mcc: 0.2764 | valid_loss: 1.1820 | valid_bal_acc: 0.5613 | valid_mcc: 0.2493\n",
      "Epoch: 233 | train_loss: 1.2271 | train_bal_acc: 0.5932 | train_mcc: 0.2903 | valid_loss: 1.1822 | valid_bal_acc: 0.5554 | valid_mcc: 0.2364\n",
      "Epoch: 234 | train_loss: 1.2323 | train_bal_acc: 0.5952 | train_mcc: 0.2973 | valid_loss: 1.1804 | valid_bal_acc: 0.5633 | valid_mcc: 0.2607\n",
      "Epoch: 235 | train_loss: 1.2209 | train_bal_acc: 0.5963 | train_mcc: 0.2999 | valid_loss: 1.1801 | valid_bal_acc: 0.5563 | valid_mcc: 0.2348\n",
      "Epoch: 236 | train_loss: 1.2345 | train_bal_acc: 0.5924 | train_mcc: 0.2833 | valid_loss: 1.1796 | valid_bal_acc: 0.5605 | valid_mcc: 0.2431\n"
     ]
    },
    {
     "name": "stdout",
     "output_type": "stream",
     "text": [
      "Epoch: 237 | train_loss: 1.2306 | train_bal_acc: 0.5933 | train_mcc: 0.2862 | valid_loss: 1.1810 | valid_bal_acc: 0.5516 | valid_mcc: 0.2325\n",
      "Epoch: 238 | train_loss: 1.2278 | train_bal_acc: 0.5943 | train_mcc: 0.2879 | valid_loss: 1.1788 | valid_bal_acc: 0.5577 | valid_mcc: 0.2526\n",
      "Epoch: 239 | train_loss: 1.2311 | train_bal_acc: 0.5928 | train_mcc: 0.2892 | valid_loss: 1.1795 | valid_bal_acc: 0.5564 | valid_mcc: 0.2411\n",
      "Epoch: 240 | train_loss: 1.2286 | train_bal_acc: 0.5950 | train_mcc: 0.2890 | valid_loss: 1.1776 | valid_bal_acc: 0.5628 | valid_mcc: 0.2523\n",
      "Epoch: 241 | train_loss: 1.2322 | train_bal_acc: 0.5988 | train_mcc: 0.2978 | valid_loss: 1.1790 | valid_bal_acc: 0.5590 | valid_mcc: 0.2491\n",
      "Epoch: 242 | train_loss: 1.2295 | train_bal_acc: 0.5944 | train_mcc: 0.2922 | valid_loss: 1.1789 | valid_bal_acc: 0.5533 | valid_mcc: 0.2233\n",
      "Epoch: 243 | train_loss: 1.2318 | train_bal_acc: 0.5959 | train_mcc: 0.2869 | valid_loss: 1.1775 | valid_bal_acc: 0.5572 | valid_mcc: 0.2452\n",
      "Epoch: 244 | train_loss: 1.2359 | train_bal_acc: 0.5876 | train_mcc: 0.2712 | valid_loss: 1.1780 | valid_bal_acc: 0.5556 | valid_mcc: 0.2482\n",
      "Epoch: 245 | train_loss: 1.2278 | train_bal_acc: 0.5958 | train_mcc: 0.2918 | valid_loss: 1.1784 | valid_bal_acc: 0.5540 | valid_mcc: 0.2351\n",
      "Epoch: 246 | train_loss: 1.2290 | train_bal_acc: 0.5975 | train_mcc: 0.3049 | valid_loss: 1.1778 | valid_bal_acc: 0.5556 | valid_mcc: 0.2322\n",
      "Epoch: 247 | train_loss: 1.2356 | train_bal_acc: 0.5910 | train_mcc: 0.2807 | valid_loss: 1.1751 | valid_bal_acc: 0.5634 | valid_mcc: 0.2508\n",
      "Epoch: 248 | train_loss: 1.2329 | train_bal_acc: 0.5951 | train_mcc: 0.2896 | valid_loss: 1.1754 | valid_bal_acc: 0.5612 | valid_mcc: 0.2535\n",
      "Epoch: 249 | train_loss: 1.2257 | train_bal_acc: 0.5973 | train_mcc: 0.2936 | valid_loss: 1.1757 | valid_bal_acc: 0.5559 | valid_mcc: 0.2394\n",
      "Epoch: 250 | train_loss: 1.2262 | train_bal_acc: 0.5976 | train_mcc: 0.2997 | valid_loss: 1.1769 | valid_bal_acc: 0.5540 | valid_mcc: 0.2317\n",
      "Epoch: 251 | train_loss: 1.2295 | train_bal_acc: 0.5927 | train_mcc: 0.2860 | valid_loss: 1.1750 | valid_bal_acc: 0.5568 | valid_mcc: 0.2467\n",
      "Epoch: 252 | train_loss: 1.2321 | train_bal_acc: 0.5958 | train_mcc: 0.2902 | valid_loss: 1.1765 | valid_bal_acc: 0.5541 | valid_mcc: 0.2366\n",
      "Epoch: 253 | train_loss: 1.2265 | train_bal_acc: 0.5951 | train_mcc: 0.2925 | valid_loss: 1.1730 | valid_bal_acc: 0.5644 | valid_mcc: 0.2556\n",
      "Epoch: 254 | train_loss: 1.2373 | train_bal_acc: 0.5962 | train_mcc: 0.2880 | valid_loss: 1.1728 | valid_bal_acc: 0.5647 | valid_mcc: 0.2567\n",
      "Epoch: 255 | train_loss: 1.2258 | train_bal_acc: 0.5989 | train_mcc: 0.3024 | valid_loss: 1.1730 | valid_bal_acc: 0.5659 | valid_mcc: 0.2670\n",
      "Epoch: 256 | train_loss: 1.2253 | train_bal_acc: 0.5930 | train_mcc: 0.2856 | valid_loss: 1.1723 | valid_bal_acc: 0.5623 | valid_mcc: 0.2595\n",
      "Epoch: 257 | train_loss: 1.2254 | train_bal_acc: 0.5961 | train_mcc: 0.2925 | valid_loss: 1.1717 | valid_bal_acc: 0.5614 | valid_mcc: 0.2467\n",
      "Epoch: 258 | train_loss: 1.2197 | train_bal_acc: 0.6026 | train_mcc: 0.3069 | valid_loss: 1.1744 | valid_bal_acc: 0.5527 | valid_mcc: 0.2273\n",
      "Epoch: 259 | train_loss: 1.2290 | train_bal_acc: 0.5944 | train_mcc: 0.2885 | valid_loss: 1.1729 | valid_bal_acc: 0.5562 | valid_mcc: 0.2362\n",
      "Epoch: 260 | train_loss: 1.2211 | train_bal_acc: 0.6007 | train_mcc: 0.3038 | valid_loss: 1.1727 | valid_bal_acc: 0.5578 | valid_mcc: 0.2418\n",
      "Epoch: 261 | train_loss: 1.2253 | train_bal_acc: 0.5950 | train_mcc: 0.2899 | valid_loss: 1.1717 | valid_bal_acc: 0.5577 | valid_mcc: 0.2398\n",
      "Epoch: 262 | train_loss: 1.2241 | train_bal_acc: 0.6003 | train_mcc: 0.2965 | valid_loss: 1.1729 | valid_bal_acc: 0.5587 | valid_mcc: 0.2321\n",
      "Epoch: 263 | train_loss: 1.2389 | train_bal_acc: 0.5932 | train_mcc: 0.2835 | valid_loss: 1.1698 | valid_bal_acc: 0.5690 | valid_mcc: 0.2642\n",
      "Epoch: 264 | train_loss: 1.2192 | train_bal_acc: 0.6035 | train_mcc: 0.3116 | valid_loss: 1.1703 | valid_bal_acc: 0.5621 | valid_mcc: 0.2610\n",
      "Epoch: 265 | train_loss: 1.2285 | train_bal_acc: 0.5981 | train_mcc: 0.2971 | valid_loss: 1.1689 | valid_bal_acc: 0.5672 | valid_mcc: 0.2636\n",
      "Epoch: 266 | train_loss: 1.2274 | train_bal_acc: 0.5965 | train_mcc: 0.2905 | valid_loss: 1.1690 | valid_bal_acc: 0.5635 | valid_mcc: 0.2567\n",
      "Epoch: 267 | train_loss: 1.2260 | train_bal_acc: 0.5972 | train_mcc: 0.2914 | valid_loss: 1.1683 | valid_bal_acc: 0.5625 | valid_mcc: 0.2485\n",
      "Epoch: 268 | train_loss: 1.2183 | train_bal_acc: 0.6017 | train_mcc: 0.3039 | valid_loss: 1.1693 | valid_bal_acc: 0.5621 | valid_mcc: 0.2562\n",
      "Epoch: 269 | train_loss: 1.2231 | train_bal_acc: 0.6004 | train_mcc: 0.2975 | valid_loss: 1.1681 | valid_bal_acc: 0.5627 | valid_mcc: 0.2559\n",
      "Epoch: 270 | train_loss: 1.2258 | train_bal_acc: 0.5940 | train_mcc: 0.2886 | valid_loss: 1.1678 | valid_bal_acc: 0.5626 | valid_mcc: 0.2503\n",
      "Epoch: 271 | train_loss: 1.2177 | train_bal_acc: 0.5984 | train_mcc: 0.2896 | valid_loss: 1.1672 | valid_bal_acc: 0.5646 | valid_mcc: 0.2543\n",
      "Epoch: 272 | train_loss: 1.2264 | train_bal_acc: 0.5944 | train_mcc: 0.2791 | valid_loss: 1.1662 | valid_bal_acc: 0.5681 | valid_mcc: 0.2656\n",
      "Epoch: 273 | train_loss: 1.2245 | train_bal_acc: 0.6033 | train_mcc: 0.3058 | valid_loss: 1.1668 | valid_bal_acc: 0.5643 | valid_mcc: 0.2555\n",
      "Epoch: 274 | train_loss: 1.2166 | train_bal_acc: 0.6020 | train_mcc: 0.3028 | valid_loss: 1.1657 | valid_bal_acc: 0.5733 | valid_mcc: 0.2794\n",
      "Epoch: 275 | train_loss: 1.2265 | train_bal_acc: 0.6032 | train_mcc: 0.3055 | valid_loss: 1.1656 | valid_bal_acc: 0.5757 | valid_mcc: 0.2835\n",
      "Epoch: 276 | train_loss: 1.2278 | train_bal_acc: 0.6029 | train_mcc: 0.3047 | valid_loss: 1.1655 | valid_bal_acc: 0.5715 | valid_mcc: 0.2762\n",
      "Epoch: 277 | train_loss: 1.2212 | train_bal_acc: 0.5977 | train_mcc: 0.2918 | valid_loss: 1.1644 | valid_bal_acc: 0.5700 | valid_mcc: 0.2730\n",
      "Epoch: 278 | train_loss: 1.2237 | train_bal_acc: 0.5988 | train_mcc: 0.2922 | valid_loss: 1.1648 | valid_bal_acc: 0.5659 | valid_mcc: 0.2599\n",
      "Epoch: 279 | train_loss: 1.2314 | train_bal_acc: 0.6015 | train_mcc: 0.3011 | valid_loss: 1.1643 | valid_bal_acc: 0.5644 | valid_mcc: 0.2589\n",
      "Epoch: 280 | train_loss: 1.2195 | train_bal_acc: 0.5999 | train_mcc: 0.2955 | valid_loss: 1.1648 | valid_bal_acc: 0.5635 | valid_mcc: 0.2492\n",
      "Epoch: 281 | train_loss: 1.2144 | train_bal_acc: 0.5982 | train_mcc: 0.2951 | valid_loss: 1.1639 | valid_bal_acc: 0.5684 | valid_mcc: 0.2683\n",
      "Epoch: 282 | train_loss: 1.2254 | train_bal_acc: 0.6005 | train_mcc: 0.2986 | valid_loss: 1.1633 | valid_bal_acc: 0.5707 | valid_mcc: 0.2746\n",
      "Epoch: 283 | train_loss: 1.2321 | train_bal_acc: 0.6023 | train_mcc: 0.3019 | valid_loss: 1.1640 | valid_bal_acc: 0.5625 | valid_mcc: 0.2512\n",
      "Epoch: 284 | train_loss: 1.2225 | train_bal_acc: 0.6027 | train_mcc: 0.3025 | valid_loss: 1.1638 | valid_bal_acc: 0.5663 | valid_mcc: 0.2587\n",
      "Epoch: 285 | train_loss: 1.2153 | train_bal_acc: 0.6030 | train_mcc: 0.3007 | valid_loss: 1.1657 | valid_bal_acc: 0.5582 | valid_mcc: 0.2390\n",
      "Epoch: 286 | train_loss: 1.2195 | train_bal_acc: 0.6000 | train_mcc: 0.3008 | valid_loss: 1.1628 | valid_bal_acc: 0.5683 | valid_mcc: 0.2629\n",
      "Epoch: 287 | train_loss: 1.2169 | train_bal_acc: 0.6044 | train_mcc: 0.3032 | valid_loss: 1.1628 | valid_bal_acc: 0.5657 | valid_mcc: 0.2642\n",
      "Epoch: 288 | train_loss: 1.2163 | train_bal_acc: 0.6039 | train_mcc: 0.3068 | valid_loss: 1.1629 | valid_bal_acc: 0.5699 | valid_mcc: 0.2710\n",
      "Epoch: 289 | train_loss: 1.2305 | train_bal_acc: 0.6017 | train_mcc: 0.2921 | valid_loss: 1.1659 | valid_bal_acc: 0.5591 | valid_mcc: 0.2395\n",
      "Epoch: 290 | train_loss: 1.2193 | train_bal_acc: 0.6094 | train_mcc: 0.3134 | valid_loss: 1.1617 | valid_bal_acc: 0.5743 | valid_mcc: 0.2773\n",
      "Epoch: 291 | train_loss: 1.2227 | train_bal_acc: 0.6043 | train_mcc: 0.3055 | valid_loss: 1.1620 | valid_bal_acc: 0.5714 | valid_mcc: 0.2714\n",
      "Epoch: 292 | train_loss: 1.2188 | train_bal_acc: 0.6065 | train_mcc: 0.3094 | valid_loss: 1.1618 | valid_bal_acc: 0.5691 | valid_mcc: 0.2658\n",
      "Epoch: 293 | train_loss: 1.2182 | train_bal_acc: 0.6044 | train_mcc: 0.3047 | valid_loss: 1.1637 | valid_bal_acc: 0.5593 | valid_mcc: 0.2365\n",
      "Epoch: 294 | train_loss: 1.2203 | train_bal_acc: 0.6047 | train_mcc: 0.3002 | valid_loss: 1.1630 | valid_bal_acc: 0.5646 | valid_mcc: 0.2538\n",
      "Epoch: 295 | train_loss: 1.2156 | train_bal_acc: 0.6088 | train_mcc: 0.3178 | valid_loss: 1.1610 | valid_bal_acc: 0.5732 | valid_mcc: 0.2720\n"
     ]
    },
    {
     "name": "stdout",
     "output_type": "stream",
     "text": [
      "Epoch: 296 | train_loss: 1.2249 | train_bal_acc: 0.6042 | train_mcc: 0.3008 | valid_loss: 1.1606 | valid_bal_acc: 0.5715 | valid_mcc: 0.2700\n",
      "Epoch: 297 | train_loss: 1.2189 | train_bal_acc: 0.6105 | train_mcc: 0.3179 | valid_loss: 1.1612 | valid_bal_acc: 0.5695 | valid_mcc: 0.2726\n",
      "Epoch: 298 | train_loss: 1.2144 | train_bal_acc: 0.6041 | train_mcc: 0.3030 | valid_loss: 1.1606 | valid_bal_acc: 0.5813 | valid_mcc: 0.2971\n",
      "Epoch: 299 | train_loss: 1.2137 | train_bal_acc: 0.6090 | train_mcc: 0.3146 | valid_loss: 1.1616 | valid_bal_acc: 0.5694 | valid_mcc: 0.2687\n",
      "Epoch: 300 | train_loss: 1.2185 | train_bal_acc: 0.6070 | train_mcc: 0.3085 | valid_loss: 1.1598 | valid_bal_acc: 0.5722 | valid_mcc: 0.2760\n",
      "Epoch: 301 | train_loss: 1.2194 | train_bal_acc: 0.6056 | train_mcc: 0.3045 | valid_loss: 1.1600 | valid_bal_acc: 0.5711 | valid_mcc: 0.2675\n",
      "Epoch: 302 | train_loss: 1.2199 | train_bal_acc: 0.6079 | train_mcc: 0.3112 | valid_loss: 1.1603 | valid_bal_acc: 0.5743 | valid_mcc: 0.2788\n",
      "Epoch: 303 | train_loss: 1.2227 | train_bal_acc: 0.6067 | train_mcc: 0.3062 | valid_loss: 1.1603 | valid_bal_acc: 0.5704 | valid_mcc: 0.2717\n",
      "Epoch: 304 | train_loss: 1.2197 | train_bal_acc: 0.6084 | train_mcc: 0.3121 | valid_loss: 1.1593 | valid_bal_acc: 0.5750 | valid_mcc: 0.2790\n",
      "Epoch: 305 | train_loss: 1.2176 | train_bal_acc: 0.6082 | train_mcc: 0.3079 | valid_loss: 1.1591 | valid_bal_acc: 0.5738 | valid_mcc: 0.2808\n",
      "Epoch: 306 | train_loss: 1.2225 | train_bal_acc: 0.6028 | train_mcc: 0.2970 | valid_loss: 1.1580 | valid_bal_acc: 0.5783 | valid_mcc: 0.2901\n",
      "Epoch: 307 | train_loss: 1.2217 | train_bal_acc: 0.6061 | train_mcc: 0.3033 | valid_loss: 1.1613 | valid_bal_acc: 0.5655 | valid_mcc: 0.2669\n",
      "Epoch: 308 | train_loss: 1.2252 | train_bal_acc: 0.6074 | train_mcc: 0.3091 | valid_loss: 1.1589 | valid_bal_acc: 0.5708 | valid_mcc: 0.2775\n",
      "Epoch: 309 | train_loss: 1.2109 | train_bal_acc: 0.6093 | train_mcc: 0.3149 | valid_loss: 1.1589 | valid_bal_acc: 0.5701 | valid_mcc: 0.2706\n",
      "Epoch: 310 | train_loss: 1.2126 | train_bal_acc: 0.6108 | train_mcc: 0.3180 | valid_loss: 1.1586 | valid_bal_acc: 0.5713 | valid_mcc: 0.2720\n",
      "Epoch: 311 | train_loss: 1.2197 | train_bal_acc: 0.6111 | train_mcc: 0.3185 | valid_loss: 1.1584 | valid_bal_acc: 0.5709 | valid_mcc: 0.2699\n",
      "Epoch: 312 | train_loss: 1.2227 | train_bal_acc: 0.6052 | train_mcc: 0.3039 | valid_loss: 1.1572 | valid_bal_acc: 0.5780 | valid_mcc: 0.2917\n",
      "Epoch: 313 | train_loss: 1.2210 | train_bal_acc: 0.6076 | train_mcc: 0.3047 | valid_loss: 1.1578 | valid_bal_acc: 0.5721 | valid_mcc: 0.2783\n",
      "Epoch: 314 | train_loss: 1.2239 | train_bal_acc: 0.6057 | train_mcc: 0.3061 | valid_loss: 1.1578 | valid_bal_acc: 0.5754 | valid_mcc: 0.2882\n",
      "Epoch: 315 | train_loss: 1.2245 | train_bal_acc: 0.6064 | train_mcc: 0.3062 | valid_loss: 1.1589 | valid_bal_acc: 0.5751 | valid_mcc: 0.2844\n",
      "Epoch: 316 | train_loss: 1.2204 | train_bal_acc: 0.6100 | train_mcc: 0.3093 | valid_loss: 1.1571 | valid_bal_acc: 0.5803 | valid_mcc: 0.2867\n",
      "Epoch: 317 | train_loss: 1.2184 | train_bal_acc: 0.6105 | train_mcc: 0.3146 | valid_loss: 1.1573 | valid_bal_acc: 0.5739 | valid_mcc: 0.2801\n",
      "Epoch: 318 | train_loss: 1.2223 | train_bal_acc: 0.6106 | train_mcc: 0.3171 | valid_loss: 1.1569 | valid_bal_acc: 0.5774 | valid_mcc: 0.2929\n",
      "Epoch: 319 | train_loss: 1.2216 | train_bal_acc: 0.6091 | train_mcc: 0.3095 | valid_loss: 1.1570 | valid_bal_acc: 0.5760 | valid_mcc: 0.2779\n",
      "Epoch: 320 | train_loss: 1.2267 | train_bal_acc: 0.6072 | train_mcc: 0.3060 | valid_loss: 1.1573 | valid_bal_acc: 0.5731 | valid_mcc: 0.2835\n",
      "Epoch: 321 | train_loss: 1.2206 | train_bal_acc: 0.6081 | train_mcc: 0.3044 | valid_loss: 1.1592 | valid_bal_acc: 0.5637 | valid_mcc: 0.2500\n",
      "Epoch: 322 | train_loss: 1.2260 | train_bal_acc: 0.6101 | train_mcc: 0.3153 | valid_loss: 1.1568 | valid_bal_acc: 0.5734 | valid_mcc: 0.2805\n",
      "Epoch: 323 | train_loss: 1.2147 | train_bal_acc: 0.6104 | train_mcc: 0.3127 | valid_loss: 1.1573 | valid_bal_acc: 0.5744 | valid_mcc: 0.2866\n",
      "Epoch: 324 | train_loss: 1.2217 | train_bal_acc: 0.6073 | train_mcc: 0.3084 | valid_loss: 1.1582 | valid_bal_acc: 0.5667 | valid_mcc: 0.2573\n",
      "Epoch: 325 | train_loss: 1.2128 | train_bal_acc: 0.6094 | train_mcc: 0.3108 | valid_loss: 1.1561 | valid_bal_acc: 0.5736 | valid_mcc: 0.2765\n",
      "Epoch: 326 | train_loss: 1.2233 | train_bal_acc: 0.6082 | train_mcc: 0.3093 | valid_loss: 1.1567 | valid_bal_acc: 0.5757 | valid_mcc: 0.2860\n",
      "Epoch: 327 | train_loss: 1.2110 | train_bal_acc: 0.6066 | train_mcc: 0.3146 | valid_loss: 1.1562 | valid_bal_acc: 0.5749 | valid_mcc: 0.2753\n",
      "Epoch: 328 | train_loss: 1.2166 | train_bal_acc: 0.6119 | train_mcc: 0.3132 | valid_loss: 1.1584 | valid_bal_acc: 0.5625 | valid_mcc: 0.2467\n",
      "Epoch: 329 | train_loss: 1.2221 | train_bal_acc: 0.6088 | train_mcc: 0.3116 | valid_loss: 1.1562 | valid_bal_acc: 0.5693 | valid_mcc: 0.2615\n",
      "Epoch: 330 | train_loss: 1.2145 | train_bal_acc: 0.6088 | train_mcc: 0.3097 | valid_loss: 1.1549 | valid_bal_acc: 0.5849 | valid_mcc: 0.3039\n",
      "Epoch: 331 | train_loss: 1.2202 | train_bal_acc: 0.6113 | train_mcc: 0.3160 | valid_loss: 1.1560 | valid_bal_acc: 0.5713 | valid_mcc: 0.2754\n",
      "Epoch: 332 | train_loss: 1.2184 | train_bal_acc: 0.6089 | train_mcc: 0.3063 | valid_loss: 1.1561 | valid_bal_acc: 0.5724 | valid_mcc: 0.2700\n",
      "Epoch: 333 | train_loss: 1.2266 | train_bal_acc: 0.6108 | train_mcc: 0.3109 | valid_loss: 1.1545 | valid_bal_acc: 0.5745 | valid_mcc: 0.2772\n",
      "Epoch: 334 | train_loss: 1.2085 | train_bal_acc: 0.6145 | train_mcc: 0.3233 | valid_loss: 1.1567 | valid_bal_acc: 0.5673 | valid_mcc: 0.2621\n",
      "Epoch: 335 | train_loss: 1.2095 | train_bal_acc: 0.6082 | train_mcc: 0.3091 | valid_loss: 1.1548 | valid_bal_acc: 0.5758 | valid_mcc: 0.2828\n",
      "Epoch: 336 | train_loss: 1.2188 | train_bal_acc: 0.6106 | train_mcc: 0.3135 | valid_loss: 1.1545 | valid_bal_acc: 0.5719 | valid_mcc: 0.2758\n",
      "Epoch: 337 | train_loss: 1.2087 | train_bal_acc: 0.6135 | train_mcc: 0.3218 | valid_loss: 1.1527 | valid_bal_acc: 0.5795 | valid_mcc: 0.2923\n",
      "Epoch: 338 | train_loss: 1.2232 | train_bal_acc: 0.6091 | train_mcc: 0.3046 | valid_loss: 1.1549 | valid_bal_acc: 0.5722 | valid_mcc: 0.2792\n",
      "Epoch: 339 | train_loss: 1.2172 | train_bal_acc: 0.6118 | train_mcc: 0.3192 | valid_loss: 1.1543 | valid_bal_acc: 0.5722 | valid_mcc: 0.2769\n",
      "Epoch: 340 | train_loss: 1.2118 | train_bal_acc: 0.6159 | train_mcc: 0.3248 | valid_loss: 1.1545 | valid_bal_acc: 0.5704 | valid_mcc: 0.2747\n",
      "Epoch: 341 | train_loss: 1.2233 | train_bal_acc: 0.6090 | train_mcc: 0.3074 | valid_loss: 1.1554 | valid_bal_acc: 0.5670 | valid_mcc: 0.2579\n",
      "Epoch: 342 | train_loss: 1.2143 | train_bal_acc: 0.6126 | train_mcc: 0.3189 | valid_loss: 1.1525 | valid_bal_acc: 0.5783 | valid_mcc: 0.2920\n",
      "Epoch: 343 | train_loss: 1.2191 | train_bal_acc: 0.6078 | train_mcc: 0.3047 | valid_loss: 1.1522 | valid_bal_acc: 0.5805 | valid_mcc: 0.2988\n",
      "Epoch: 344 | train_loss: 1.2173 | train_bal_acc: 0.6127 | train_mcc: 0.3159 | valid_loss: 1.1541 | valid_bal_acc: 0.5707 | valid_mcc: 0.2609\n",
      "Epoch: 345 | train_loss: 1.2170 | train_bal_acc: 0.6126 | train_mcc: 0.3190 | valid_loss: 1.1515 | valid_bal_acc: 0.5821 | valid_mcc: 0.2954\n",
      "Epoch: 346 | train_loss: 1.2086 | train_bal_acc: 0.6137 | train_mcc: 0.3186 | valid_loss: 1.1512 | valid_bal_acc: 0.5793 | valid_mcc: 0.2920\n",
      "Epoch: 347 | train_loss: 1.2119 | train_bal_acc: 0.6160 | train_mcc: 0.3219 | valid_loss: 1.1516 | valid_bal_acc: 0.5789 | valid_mcc: 0.2923\n",
      "Epoch: 348 | train_loss: 1.2163 | train_bal_acc: 0.6127 | train_mcc: 0.3199 | valid_loss: 1.1505 | valid_bal_acc: 0.5899 | valid_mcc: 0.3133\n",
      "Epoch: 349 | train_loss: 1.2111 | train_bal_acc: 0.6148 | train_mcc: 0.3208 | valid_loss: 1.1534 | valid_bal_acc: 0.5715 | valid_mcc: 0.2741\n",
      "Epoch: 350 | train_loss: 1.2194 | train_bal_acc: 0.6146 | train_mcc: 0.3173 | valid_loss: 1.1514 | valid_bal_acc: 0.5790 | valid_mcc: 0.2913\n",
      "Epoch: 351 | train_loss: 1.2078 | train_bal_acc: 0.6172 | train_mcc: 0.3264 | valid_loss: 1.1508 | valid_bal_acc: 0.5815 | valid_mcc: 0.2979\n",
      "Epoch: 352 | train_loss: 1.2203 | train_bal_acc: 0.6104 | train_mcc: 0.3102 | valid_loss: 1.1510 | valid_bal_acc: 0.5793 | valid_mcc: 0.2955\n",
      "Epoch: 353 | train_loss: 1.2160 | train_bal_acc: 0.6151 | train_mcc: 0.3191 | valid_loss: 1.1512 | valid_bal_acc: 0.5767 | valid_mcc: 0.2860\n",
      "Epoch: 354 | train_loss: 1.2174 | train_bal_acc: 0.6178 | train_mcc: 0.3241 | valid_loss: 1.1499 | valid_bal_acc: 0.5849 | valid_mcc: 0.2928\n"
     ]
    },
    {
     "name": "stdout",
     "output_type": "stream",
     "text": [
      "Epoch: 355 | train_loss: 1.2174 | train_bal_acc: 0.6150 | train_mcc: 0.3180 | valid_loss: 1.1510 | valid_bal_acc: 0.5760 | valid_mcc: 0.2854\n",
      "Epoch: 356 | train_loss: 1.2128 | train_bal_acc: 0.6124 | train_mcc: 0.3181 | valid_loss: 1.1500 | valid_bal_acc: 0.5863 | valid_mcc: 0.3072\n",
      "Epoch: 357 | train_loss: 1.2144 | train_bal_acc: 0.6186 | train_mcc: 0.3263 | valid_loss: 1.1513 | valid_bal_acc: 0.5746 | valid_mcc: 0.2876\n",
      "Epoch: 358 | train_loss: 1.2131 | train_bal_acc: 0.6146 | train_mcc: 0.3187 | valid_loss: 1.1488 | valid_bal_acc: 0.5854 | valid_mcc: 0.3001\n",
      "Epoch: 359 | train_loss: 1.2102 | train_bal_acc: 0.6203 | train_mcc: 0.3338 | valid_loss: 1.1514 | valid_bal_acc: 0.5744 | valid_mcc: 0.2802\n",
      "Epoch: 360 | train_loss: 1.2102 | train_bal_acc: 0.6154 | train_mcc: 0.3238 | valid_loss: 1.1494 | valid_bal_acc: 0.5866 | valid_mcc: 0.3041\n",
      "Epoch: 361 | train_loss: 1.2204 | train_bal_acc: 0.6149 | train_mcc: 0.3195 | valid_loss: 1.1484 | valid_bal_acc: 0.5899 | valid_mcc: 0.3090\n",
      "Epoch: 362 | train_loss: 1.2162 | train_bal_acc: 0.6086 | train_mcc: 0.3039 | valid_loss: 1.1481 | valid_bal_acc: 0.5865 | valid_mcc: 0.3062\n",
      "Epoch: 363 | train_loss: 1.2130 | train_bal_acc: 0.6148 | train_mcc: 0.3225 | valid_loss: 1.1492 | valid_bal_acc: 0.5859 | valid_mcc: 0.3031\n",
      "Epoch: 364 | train_loss: 1.2154 | train_bal_acc: 0.6157 | train_mcc: 0.3171 | valid_loss: 1.1485 | valid_bal_acc: 0.5860 | valid_mcc: 0.3104\n",
      "Epoch: 365 | train_loss: 1.2134 | train_bal_acc: 0.6166 | train_mcc: 0.3206 | valid_loss: 1.1483 | valid_bal_acc: 0.5856 | valid_mcc: 0.3095\n",
      "Epoch: 366 | train_loss: 1.2171 | train_bal_acc: 0.6113 | train_mcc: 0.3075 | valid_loss: 1.1502 | valid_bal_acc: 0.5748 | valid_mcc: 0.2709\n",
      "Epoch: 367 | train_loss: 1.2179 | train_bal_acc: 0.6131 | train_mcc: 0.3092 | valid_loss: 1.1522 | valid_bal_acc: 0.5699 | valid_mcc: 0.2706\n",
      "Epoch: 368 | train_loss: 1.2159 | train_bal_acc: 0.6127 | train_mcc: 0.3117 | valid_loss: 1.1481 | valid_bal_acc: 0.5878 | valid_mcc: 0.3067\n",
      "Epoch: 369 | train_loss: 1.2200 | train_bal_acc: 0.6140 | train_mcc: 0.3146 | valid_loss: 1.1506 | valid_bal_acc: 0.5745 | valid_mcc: 0.2870\n",
      "Epoch: 370 | train_loss: 1.2178 | train_bal_acc: 0.6146 | train_mcc: 0.3203 | valid_loss: 1.1487 | valid_bal_acc: 0.5853 | valid_mcc: 0.3026\n",
      "Epoch: 371 | train_loss: 1.2131 | train_bal_acc: 0.6126 | train_mcc: 0.3087 | valid_loss: 1.1496 | valid_bal_acc: 0.5801 | valid_mcc: 0.2978\n",
      "Epoch: 372 | train_loss: 1.2139 | train_bal_acc: 0.6186 | train_mcc: 0.3234 | valid_loss: 1.1508 | valid_bal_acc: 0.5738 | valid_mcc: 0.2826\n",
      "Early stopping after 372 epochs without improvement.\n"
     ]
    }
   ],
   "source": [
    "results, _ = engine.train_with_early_stopping(model=model,\n",
    "                                                  train_dataloader=train_loader,\n",
    "                                                  valid_dataloader=val_loader,\n",
    "                                                  optimizer=optimizer,\n",
    "                                                  loss_fn=loss_fn,\n",
    "                                                  epochs=1000,\n",
    "                                                  device=device)\n"
   ]
  },
  {
   "cell_type": "code",
   "execution_count": 42,
   "id": "8e394a60",
   "metadata": {},
   "outputs": [
    {
     "data": {
      "text/plain": [
       "Text(0.5, 1.0, 'Loss Curves ATF3_CNN1_ADAM_BCEWithLogits_seq=200b.png')"
      ]
     },
     "execution_count": 42,
     "metadata": {},
     "output_type": "execute_result"
    },
    {
     "data": {
      "image/png": "[encoded data removed]",
      "text/plain": [
       "<Figure size 1500x700 with 2 Axes>"
      ]
     },
     "metadata": {},
     "output_type": "display_data"
    }
   ],
   "source": [
    "helper_functions.plot_loss_curves(results)\n",
    "save_dir = 'images'\n",
    "os.makedirs(save_dir, exist_ok=True)\n",
    "plt.savefig(os.path.join(save_dir, f'{tf}_CNN1_ADAM_BCEWithLogits_seq=200b.png'));\n",
    "\n",
    "plt.title(f\"Loss Curves {tf}_CNN1_ADAM_BCEWithLogits_seq=200b.png\")"
   ]
  },
  {
   "cell_type": "code",
   "execution_count": 26,
   "id": "228c82d1",
   "metadata": {},
   "outputs": [
    {
     "name": "stdout",
     "output_type": "stream",
     "text": [
      "Perfomance on held out test set\n",
      "Test loss: 1.2569968632289341 | Test bal acc 0.5101572472531944 | Test mcc 0.05933841358332773 | Test_f_score 0.7104545907486756\n",
      "\n"
     ]
    }
   ],
   "source": [
    "from sklearn.metrics import balanced_accuracy_score, matthews_corrcoef, f1_score\n",
    "import torch.nn.functional as F\n",
    "\n",
    "\n",
    "model.eval()\n",
    "\n",
    "\n",
    "with torch.inference_mode():\n",
    "    all_predictions = []\n",
    "    all_true_labels = []\n",
    "    all_test_pred_prob=[]\n",
    "    \n",
    "    test_loss, test_bal_acc, test_mcc, test_f_score = 0, 0, 0, 0\n",
    "    for batch, (X, y_one_hot, y) in enumerate(test_loader):\n",
    "        # Send data to target device\n",
    "        X, y_one_hot, y = X.to(device),y_one_hot.to(device), y.to(device)\n",
    "\n",
    "        # 1. Forward pass\n",
    "        test_pred_logits = model(X)\n",
    "\n",
    "        # 2. Calculate and accumulate loss\n",
    "        loss = loss_fn(test_pred_logits, y_one_hot)\n",
    "        test_loss += loss.item()\n",
    "\n",
    "        # Calculate and accumulate scores\n",
    "        test_pred_labels = test_pred_logits.argmax(dim=1)\n",
    "        test_pred_prob = torch.softmax(test_pred_logits.squeeze(), dim=0) # note: perform softmax on the \"logits\" dimension, not \"batch\" dimension (in this case we have a batch size of 1, so can perform on dim=0)\n",
    "        test_bal_acc += balanced_accuracy_score(y.cpu().numpy(), test_pred_labels.cpu().numpy())\n",
    "        test_mcc += matthews_corrcoef(y.cpu().numpy(), test_pred_labels.cpu().numpy())\n",
    "        test_f_score += f1_score(y.cpu().numpy(), test_pred_labels.cpu().numpy(), average='weighted')\n",
    "        \n",
    "        all_predictions.extend(test_pred_labels.cpu().numpy())\n",
    "        all_true_labels.extend(y.cpu().numpy())\n",
    "        all_test_pred_prob.extend(test_pred_prob.cpu().numpy())\n",
    "\n",
    "    # Adjust metrics to get average loss and accuracy per batch\n",
    "    test_loss = test_loss / len(test_loader)\n",
    "    test_bal_acc = test_bal_acc / len(test_loader)\n",
    "    test_mcc = test_mcc / len(test_loader)\n",
    "    test_f_score = test_f_score / len(test_loader)\n",
    "    print(\"Perfomance on held out test set\")\n",
    "    print(f'Test loss: {test_loss} | Test bal acc {test_bal_acc} | Test mcc {test_mcc} | Test_f_score {test_f_score}\\n')   \n",
    "    "
   ]
  },
  {
   "cell_type": "markdown",
   "id": "e8c518d8",
   "metadata": {},
   "source": [
    "We can observe that the model is not overfiting since the perfomance on the held out test set is high"
   ]
  },
  {
   "cell_type": "code",
   "execution_count": null,
   "id": "51cd093a",
   "metadata": {},
   "outputs": [],
   "source": []
  }
 ],
 "metadata": {
  "kernelspec": {
   "display_name": "Python 3 (ipykernel)",
   "language": "python",
   "name": "python3"
  },
  "language_info": {
   "codemirror_mode": {
    "name": "ipython",
    "version": 3
   },
   "file_extension": ".py",
   "mimetype": "text/x-python",
   "name": "python",
   "nbconvert_exporter": "python",
   "pygments_lexer": "ipython3",
   "version": "3.11.5"
  }
 },
 "nbformat": 4,
 "nbformat_minor": 5
}
