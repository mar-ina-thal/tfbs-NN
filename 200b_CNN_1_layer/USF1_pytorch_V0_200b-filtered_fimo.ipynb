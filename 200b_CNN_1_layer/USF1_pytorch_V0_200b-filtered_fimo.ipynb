{
 "cells": [
  {
   "cell_type": "markdown",
   "id": "520fbfff",
   "metadata": {},
   "source": [
    "# Imports and functions"
   ]
  },
  {
   "cell_type": "code",
   "execution_count": 1,
   "id": "05d85633",
   "metadata": {},
   "outputs": [
    {
     "name": "stderr",
     "output_type": "stream",
     "text": [
      "2024-01-19 14:39:35.801347: I tensorflow/core/util/port.cc:113] oneDNN custom operations are on. You may see slightly different numerical results due to floating-point round-off errors from different computation orders. To turn them off, set the environment variable `TF_ENABLE_ONEDNN_OPTS=0`.\n",
      "2024-01-19 14:39:36.030516: E external/local_xla/xla/stream_executor/cuda/cuda_dnn.cc:9261] Unable to register cuDNN factory: Attempting to register factory for plugin cuDNN when one has already been registered\n",
      "2024-01-19 14:39:36.030564: E external/local_xla/xla/stream_executor/cuda/cuda_fft.cc:607] Unable to register cuFFT factory: Attempting to register factory for plugin cuFFT when one has already been registered\n",
      "2024-01-19 14:39:36.032839: E external/local_xla/xla/stream_executor/cuda/cuda_blas.cc:1515] Unable to register cuBLAS factory: Attempting to register factory for plugin cuBLAS when one has already been registered\n",
      "2024-01-19 14:39:36.068107: I tensorflow/core/platform/cpu_feature_guard.cc:182] This TensorFlow binary is optimized to use available CPU instructions in performance-critical operations.\n",
      "To enable the following instructions: AVX2 AVX512F AVX512_VNNI FMA, in other operations, rebuild TensorFlow with the appropriate compiler flags.\n",
      "2024-01-19 14:39:41.008382: W tensorflow/compiler/tf2tensorrt/utils/py_utils.cc:38] TF-TRT Warning: Could not find TensorRT\n"
     ]
    }
   ],
   "source": [
    "import pandas as pd\n",
    "import numpy as np\n",
    "import os\n",
    "from sklearn.preprocessing import OneHotEncoder\n",
    "from keras.utils import to_categorical\n",
    "from sklearn.metrics import balanced_accuracy_score"
   ]
  },
  {
   "cell_type": "code",
   "execution_count": 2,
   "id": "1389113b",
   "metadata": {},
   "outputs": [],
   "source": [
    "import torchvision\n",
    "import engine\n",
    "import helper_functions"
   ]
  },
  {
   "cell_type": "code",
   "execution_count": 3,
   "id": "3a2e0857",
   "metadata": {},
   "outputs": [],
   "source": [
    "from tqdm.auto import tqdm\n",
    "from typing import Dict, List, Tuple\n",
    "from sklearn.metrics import balanced_accuracy_score, matthews_corrcoef, f1_score\n",
    "from collections import deque  # Import deque for early stopping\n",
    "import warnings\n",
    "\n",
    "# Suppress the specific UserWarning related to y_pred and y_true class mismatch\n",
    "warnings.filterwarnings(\"ignore\", category=UserWarning, message=\"y_pred contains classes not in y_true\")"
   ]
  },
  {
   "cell_type": "code",
   "execution_count": 4,
   "id": "faeaeafc",
   "metadata": {},
   "outputs": [],
   "source": [
    "from sklearn.metrics import balanced_accuracy_score\n",
    "\n",
    "# Function to calculate balanced accuracy using sklearn\n",
    "def balanced_accuracy(y_true, y_pred):\n",
    "    return balanced_accuracy_score(y_true, y_pred) * 100"
   ]
  },
  {
   "cell_type": "code",
   "execution_count": 5,
   "id": "6c000451",
   "metadata": {},
   "outputs": [],
   "source": [
    "# Function to perform one-hot encoding for DNA sequences\n",
    "def one_hot_encode(sequence):\n",
    "    encoding = {'A': [1, 0, 0, 0], 'T': [0, 1, 0, 0], 'G': [0, 0, 1, 0], 'C': [0, 0, 0, 1]}\n",
    "    one_hot_sequence = [encoding.get(base, [0, 0, 0, 0]) for base in sequence]\n",
    "    return np.array(one_hot_sequence)"
   ]
  },
  {
   "cell_type": "markdown",
   "id": "69190e84",
   "metadata": {},
   "source": [
    "# Set up device agnostic code"
   ]
  },
  {
   "cell_type": "code",
   "execution_count": 6,
   "id": "12cee86f",
   "metadata": {},
   "outputs": [
    {
     "data": {
      "text/plain": [
       "'cpu'"
      ]
     },
     "execution_count": 6,
     "metadata": {},
     "output_type": "execute_result"
    }
   ],
   "source": [
    "import torch\n",
    "from torch import nn\n",
    "# Make device agnostic code\n",
    "device = \"cuda\" if torch.cuda.is_available() else \"cpu\"\n",
    "device"
   ]
  },
  {
   "cell_type": "code",
   "execution_count": 7,
   "id": "c9939f1e",
   "metadata": {},
   "outputs": [
    {
     "data": {
      "text/html": [
       "<div>\n",
       "<style scoped>\n",
       "    .dataframe tbody tr th:only-of-type {\n",
       "        vertical-align: middle;\n",
       "    }\n",
       "\n",
       "    .dataframe tbody tr th {\n",
       "        vertical-align: top;\n",
       "    }\n",
       "\n",
       "    .dataframe thead th {\n",
       "        text-align: right;\n",
       "    }\n",
       "</style>\n",
       "<table border=\"1\" class=\"dataframe\">\n",
       "  <thead>\n",
       "    <tr style=\"text-align: right;\">\n",
       "      <th></th>\n",
       "      <th>data</th>\n",
       "      <th>class</th>\n",
       "    </tr>\n",
       "  </thead>\n",
       "  <tbody>\n",
       "    <tr>\n",
       "      <th>0</th>\n",
       "      <td>CTCCTCAGCTCACCCCCAGGCAGAGCCGACTGCTGCCTCCTGGAAC...</td>\n",
       "      <td>0</td>\n",
       "    </tr>\n",
       "    <tr>\n",
       "      <th>1</th>\n",
       "      <td>GTTGATAATAGCTTGTAAGCAGCAGGGTAGGCAACTGGAATGGATC...</td>\n",
       "      <td>0</td>\n",
       "    </tr>\n",
       "    <tr>\n",
       "      <th>2</th>\n",
       "      <td>ACTTGTAGAAATGTCACCTCCTCAGGGAGGCCTTCCCCATCCGCCT...</td>\n",
       "      <td>0</td>\n",
       "    </tr>\n",
       "    <tr>\n",
       "      <th>3</th>\n",
       "      <td>GAACGTGGAAATTTGAGCTGAGGTCCAGAGGCAGCTGTTTCCAGAG...</td>\n",
       "      <td>0</td>\n",
       "    </tr>\n",
       "    <tr>\n",
       "      <th>4</th>\n",
       "      <td>TGCTCCACAATCATTCATTAGCTAACAAGACAGAGCAGCTCATAAA...</td>\n",
       "      <td>0</td>\n",
       "    </tr>\n",
       "    <tr>\n",
       "      <th>...</th>\n",
       "      <td>...</td>\n",
       "      <td>...</td>\n",
       "    </tr>\n",
       "    <tr>\n",
       "      <th>63968</th>\n",
       "      <td>TGCTGGTTCTTCCAGGAGCGCGCATGAGCGGACGCTGCCTACTGGT...</td>\n",
       "      <td>1</td>\n",
       "    </tr>\n",
       "    <tr>\n",
       "      <th>63969</th>\n",
       "      <td>GCTACCTCAGACTCCGCAGGAAAGGTTCCGGACAAGTCCTGCTAAT...</td>\n",
       "      <td>1</td>\n",
       "    </tr>\n",
       "    <tr>\n",
       "      <th>63970</th>\n",
       "      <td>TGACCAATGAGACATTAGAAAACTTGCTGCAAGCAGAGGCTTCACA...</td>\n",
       "      <td>1</td>\n",
       "    </tr>\n",
       "    <tr>\n",
       "      <th>63971</th>\n",
       "      <td>GAGCCCAGGTGAGTCATCCTGCTGAGTCCCTCCTAGACTAGCCAGC...</td>\n",
       "      <td>1</td>\n",
       "    </tr>\n",
       "    <tr>\n",
       "      <th>63972</th>\n",
       "      <td>CTAAACTGCAGAAAAGCTCCAATTCTATAAGCATTTCTGAGGATTA...</td>\n",
       "      <td>1</td>\n",
       "    </tr>\n",
       "  </tbody>\n",
       "</table>\n",
       "<p>63973 rows × 2 columns</p>\n",
       "</div>"
      ],
      "text/plain": [
       "                                                    data  class\n",
       "0      CTCCTCAGCTCACCCCCAGGCAGAGCCGACTGCTGCCTCCTGGAAC...      0\n",
       "1      GTTGATAATAGCTTGTAAGCAGCAGGGTAGGCAACTGGAATGGATC...      0\n",
       "2      ACTTGTAGAAATGTCACCTCCTCAGGGAGGCCTTCCCCATCCGCCT...      0\n",
       "3      GAACGTGGAAATTTGAGCTGAGGTCCAGAGGCAGCTGTTTCCAGAG...      0\n",
       "4      TGCTCCACAATCATTCATTAGCTAACAAGACAGAGCAGCTCATAAA...      0\n",
       "...                                                  ...    ...\n",
       "63968  TGCTGGTTCTTCCAGGAGCGCGCATGAGCGGACGCTGCCTACTGGT...      1\n",
       "63969  GCTACCTCAGACTCCGCAGGAAAGGTTCCGGACAAGTCCTGCTAAT...      1\n",
       "63970  TGACCAATGAGACATTAGAAAACTTGCTGCAAGCAGAGGCTTCACA...      1\n",
       "63971  GAGCCCAGGTGAGTCATCCTGCTGAGTCCCTCCTAGACTAGCCAGC...      1\n",
       "63972  CTAAACTGCAGAAAAGCTCCAATTCTATAAGCATTTCTGAGGATTA...      1\n",
       "\n",
       "[63973 rows x 2 columns]"
      ]
     },
     "execution_count": 7,
     "metadata": {},
     "output_type": "execute_result"
    }
   ],
   "source": [
    "# Replace 'file_path.csv' with the path to the TF data.csv file\n",
    "tf=\"USF1\"\n",
    "file_path = f'/mnt/raid1/thalassini/home/filtered_fimo/{tf.upper()}/datasets/data.csv'\n",
    "df = pd.read_csv(file_path)\n",
    "df"
   ]
  },
  {
   "cell_type": "markdown",
   "id": "d22b4a0d",
   "metadata": {},
   "source": [
    "# Sequence length inspection and normalization"
   ]
  },
  {
   "cell_type": "code",
   "execution_count": 8,
   "id": "d33c9269",
   "metadata": {},
   "outputs": [
    {
     "name": "stdout",
     "output_type": "stream",
     "text": [
      "Max length:2000, Min length: 200\n"
     ]
    },
    {
     "data": {
      "image/png": "[encoded data removed]",
      "text/plain": [
       "<Figure size 640x480 with 1 Axes>"
      ]
     },
     "metadata": {},
     "output_type": "display_data"
    }
   ],
   "source": [
    "lengths= [len(item) for item in df['data']] \n",
    "print(f'Max length:{max(lengths)}, Min length: {min(lengths)}')\n",
    "import matplotlib.pyplot as plt\n",
    "# Plotting the histogram\n",
    "plt.hist(lengths, bins=10, color='blue', edgecolor='black')\n",
    "plt.title('Histogram of Lengths')\n",
    "plt.xlabel('Length')\n",
    "plt.ylabel('Frequency')\n",
    "plt.show()"
   ]
  },
  {
   "cell_type": "code",
   "execution_count": 9,
   "id": "292502f4",
   "metadata": {},
   "outputs": [],
   "source": [
    "# Find the maximum length of sequences\n",
    "#min_length = min(len(seq) for seq in df['data'])\n",
    "limit=200\n",
    "\n",
    "\n",
    "# Pad or cut sequences to ensure they all have the same length\n",
    "cut_sequences = [seq[:limit] for seq in df['data']]\n",
    "\n",
    "# Update the DataFrame with the cut sequences\n",
    "#df['data'] = cut_sequences"
   ]
  },
  {
   "cell_type": "code",
   "execution_count": 10,
   "id": "84f394a8",
   "metadata": {},
   "outputs": [
    {
     "name": "stdout",
     "output_type": "stream",
     "text": [
      "Max length:200, Min length: 200\n"
     ]
    }
   ],
   "source": [
    "lengths= [len(item) for item in cut_sequences]\n",
    "print(f'Max length:{max(lengths)}, Min length: {min(lengths)}')"
   ]
  },
  {
   "cell_type": "markdown",
   "id": "9b65d644",
   "metadata": {},
   "source": [
    "# Define X,y variables"
   ]
  },
  {
   "cell_type": "code",
   "execution_count": 11,
   "id": "f9e96a80",
   "metadata": {},
   "outputs": [],
   "source": [
    "X=[one_hot_encode(sequence) for sequence in cut_sequences]"
   ]
  },
  {
   "cell_type": "code",
   "execution_count": 12,
   "id": "2ab32859",
   "metadata": {},
   "outputs": [],
   "source": [
    "X = torch.from_numpy(np.array(X)).type(torch.float)\n"
   ]
  },
  {
   "cell_type": "code",
   "execution_count": 13,
   "id": "0bf2a817",
   "metadata": {},
   "outputs": [
    {
     "data": {
      "text/plain": [
       "torch.Size([63973, 200, 4])"
      ]
     },
     "execution_count": 13,
     "metadata": {},
     "output_type": "execute_result"
    }
   ],
   "source": [
    "X.shape"
   ]
  },
  {
   "cell_type": "code",
   "execution_count": 14,
   "id": "9aec20e4",
   "metadata": {},
   "outputs": [
    {
     "data": {
      "text/plain": [
       "array([0, 0, 0])"
      ]
     },
     "execution_count": 14,
     "metadata": {},
     "output_type": "execute_result"
    }
   ],
   "source": [
    "y=np.array(df['class'])\n",
    "y[:3]"
   ]
  },
  {
   "cell_type": "code",
   "execution_count": 15,
   "id": "7f1057ee",
   "metadata": {},
   "outputs": [],
   "source": [
    "y = torch.from_numpy(y).type(torch.float)"
   ]
  },
  {
   "cell_type": "markdown",
   "id": "c4515e0b",
   "metadata": {},
   "source": [
    "# Split the data in train, val and test set"
   ]
  },
  {
   "cell_type": "code",
   "execution_count": 16,
   "id": "f4a1304f",
   "metadata": {},
   "outputs": [
    {
     "name": "stdout",
     "output_type": "stream",
     "text": [
      "40942 40942 10236 10236\n",
      "12795 12795\n"
     ]
    }
   ],
   "source": [
    "from sklearn.model_selection import train_test_split\n",
    "from sklearn.model_selection import StratifiedShuffleSplit\n",
    "\n",
    "\n",
    "\n",
    "# Split the data into a stratified hold-out validation set and the rest\n",
    "stratified_splitter = StratifiedShuffleSplit(n_splits=1, test_size=0.2, random_state=42)\n",
    "\n",
    "for train_val_index, test_index in stratified_splitter.split(X, y):\n",
    "    X_train_val, X_test = X[train_val_index], X[test_index]\n",
    "    y_train_val, y_test = y[train_val_index], y[test_index]\n",
    "\n",
    "# Split the remaining data into training and validation sets\n",
    "X_train, X_val, y_train, y_val = train_test_split(X_train_val, y_train_val, test_size=0.2, stratify=y_train_val, random_state=42)\n",
    "\n",
    "print(len(X_train), len(y_train), len(X_val), len(y_val))\n",
    "print(len(X_test), len(y_test))\n",
    "\n",
    "\n",
    "# (X_train, X_val, y_train, y_val) for training, validation\n",
    "# X_test, y_test for the final hold-out validation.\n",
    "\n",
    "#X_train, X_val, X_test = torch.from_numpy(X_train).type(torch.float),torch.from_numpy(X_val).type(torch.float), torch.from_numpy(X_test).type(torch.float)\n",
    "\n"
   ]
  },
  {
   "cell_type": "markdown",
   "id": "d6716d37",
   "metadata": {},
   "source": [
    "# Create datasets and Dataloaders"
   ]
  },
  {
   "cell_type": "code",
   "execution_count": 17,
   "id": "cc8becaa",
   "metadata": {},
   "outputs": [
    {
     "name": "stdout",
     "output_type": "stream",
     "text": [
      "40942 40942 40942\n"
     ]
    }
   ],
   "source": [
    "from torch.utils.data import DataLoader, TensorDataset\n",
    "torch.manual_seed(42)\n",
    "\n",
    "# Expand the dimensions of y to make it 2-dimensional\n",
    "y_train = y_train.view(-1, 1)\n",
    "y_test = y_test.view(-1,1)\n",
    "y_val = y_val.view(-1,1)\n",
    "# Concatenate the complement of y to create a 2-dimensional tensor\n",
    "y_train_one_hot = torch.cat([1 - y_train, y_train], dim=1).float()\n",
    "y_test_one_hot = torch.cat([1 - y_test, y_test], dim=1).float()\n",
    "y_val_one_hot = torch.cat([1 - y_val, y_val], dim=1).float()\n",
    "\n",
    "\n",
    "# Move tensors to the same device\n",
    "X_train, y_train_one_hot, y_train = X_train.to(device), y_train_one_hot.to(device), y_train.to(device)\n",
    "X_val, y_val_one_hot, y_val = X_val.to(device), y_val_one_hot.to(device), y_val.to(device)\n",
    "X_test, y_test_one_hot, y_test = X_test.to(device), y_test_one_hot.to(device), y_test.to(device)\n",
    "\n",
    "\n",
    "print(X_train.size(0), y_train_one_hot.size(0), y_train.size(0))\n",
    "\n",
    "# Create datasets\n",
    "train_dataset = TensorDataset(X_train, y_train_one_hot, y_train)\n",
    "val_dataset = TensorDataset(X_val, y_val_one_hot, y_val)\n",
    "test_dataset = TensorDataset(X_test, y_test_one_hot, y_test)\n",
    "\n"
   ]
  },
  {
   "cell_type": "code",
   "execution_count": 18,
   "id": "107677e4",
   "metadata": {},
   "outputs": [],
   "source": [
    "\n",
    "batch_size=64\n",
    "torch.manual_seed(42)\n",
    "\n",
    "# Convert to PyTorch DataLoader\n",
    "train_loader = DataLoader(train_dataset, batch_size=batch_size, shuffle=True)\n",
    "val_loader = DataLoader(val_dataset, batch_size=batch_size, shuffle=True)\n",
    "test_loader = DataLoader(test_dataset, batch_size=batch_size, shuffle=True)"
   ]
  },
  {
   "cell_type": "markdown",
   "id": "d20e4bb7",
   "metadata": {},
   "source": [
    "# Construct a 1 layer CNN with Maxpooling and Dropout"
   ]
  },
  {
   "cell_type": "code",
   "execution_count": 19,
   "id": "9c0dfed6",
   "metadata": {},
   "outputs": [],
   "source": [
    "class Conv_v0(torch.nn.Module):\n",
    "\n",
    "    def __init__(self):\n",
    "        super(Conv_v0, self).__init__()\n",
    "\n",
    "        self.conv1 = torch.nn.Conv1d(in_channels=4, out_channels=3, kernel_size=17)\n",
    "        self.activation = torch.nn.ReLU()\n",
    "        self.maxpool = torch.nn.MaxPool1d(kernel_size=5)\n",
    "        \n",
    "        self.dropout = torch.nn.Dropout(p=0.5) \n",
    "        self.fc = torch.nn.Linear(in_features=108, out_features=2)\n",
    "        #elf.sigmoid = torch.nn.Sigmoid()\n",
    "\n",
    "    def forward(self, x):\n",
    "        x= x.permute(0, 2, 1)\n",
    "        x = self.conv1(x)\n",
    "        x = self.activation(x)\n",
    "        x = self.maxpool(x)\n",
    "        \n",
    "        # Reshape the output of the max pooling layer before passing it to the fully connected layer\n",
    "        x = x.view(x.size(0), -1)\n",
    "        \n",
    "        #print(\"Size after reshaping:\", x.size())\n",
    "        x=self.dropout(x)\n",
    "        x = self.fc(x)\n",
    "       #x = self.sigmoid(x)\n",
    "        return x\n"
   ]
  },
  {
   "cell_type": "markdown",
   "id": "e7f2d523",
   "metadata": {},
   "source": [
    "# Computing class weights"
   ]
  },
  {
   "cell_type": "code",
   "execution_count": 20,
   "id": "0f86ea45",
   "metadata": {},
   "outputs": [
    {
     "name": "stdout",
     "output_type": "stream",
     "text": [
      "Class Weights List: [2.065170239596469, 1.9388170668182034]\n"
     ]
    }
   ],
   "source": [
    "from torch.utils.data import DataLoader, TensorDataset\n",
    "from sklearn.utils.class_weight import compute_class_weight\n",
    "\n",
    "# Assuming we have defined dataset\n",
    "# train_dataset = TensorDataset(X_train, y_train_one_hot, y_train)\n",
    "\n",
    "# Extract the labels from the dataset\n",
    "_, _, y_train = zip(*train_dataset)\n",
    "\n",
    "# Count occurrences of each class\n",
    "class_0_count = sum(1 for label in y_train if label == 0)\n",
    "class_1_count = sum(1 for label in y_train if label == 1)\n",
    "\n",
    "# Total length of y_train\n",
    "total_samples = len(y_train)\n",
    "\n",
    "# Calculate class weights\n",
    "weights = [total_samples / class_0_count, total_samples / class_1_count]\n",
    "\n",
    "# Print the list of class weights\n",
    "print(\"Class Weights List:\", weights)\n",
    "\n",
    "\n"
   ]
  },
  {
   "cell_type": "markdown",
   "id": "40b134d4",
   "metadata": {},
   "source": [
    "# Set up loss function and optimizer"
   ]
  },
  {
   "cell_type": "code",
   "execution_count": 21,
   "id": "948d9087",
   "metadata": {},
   "outputs": [],
   "source": [
    "from torch.optim import lr_scheduler\n",
    "weights = torch.tensor(weights).to(device)\n",
    "#print(weights)"
   ]
  },
  {
   "cell_type": "code",
   "execution_count": 22,
   "id": "65dbe876",
   "metadata": {},
   "outputs": [],
   "source": [
    "torch.manual_seed(42)\n",
    "\n",
    "# Initialize model instance\n",
    "model = Conv_v0()\n",
    "\n",
    "# define the CrossEntropyLoss with weights\n",
    "loss_fn = nn.BCEWithLogitsLoss(weight=weights)\n",
    "\n",
    "# Define oprimizer\n",
    "optimizer = torch.optim.Adam(model.parameters(), lr=0.0001)\n",
    "\n",
    "# Define exponetntial lr with lr_scheduler\n",
    "exp_lr_scheduler = lr_scheduler.ExponentialLR(optimizer, gamma=0.01)"
   ]
  },
  {
   "cell_type": "code",
   "execution_count": 23,
   "id": "e1d337c9",
   "metadata": {},
   "outputs": [
    {
     "data": {
      "text/plain": [
       "tensor([[-0.0677, -0.4131],\n",
       "        [-0.3471, -0.4660],\n",
       "        [ 0.0926, -0.3112],\n",
       "        [ 0.2503, -0.5068],\n",
       "        [ 0.0905, -0.4589]], grad_fn=<SliceBackward0>)"
      ]
     },
     "execution_count": 23,
     "metadata": {},
     "output_type": "execute_result"
    }
   ],
   "source": [
    "# View the frist 5 outputs of the forward pass on the test data\n",
    "y_logits = model(X_test.to(device))[:5]\n",
    "y_logits"
   ]
  },
  {
   "cell_type": "code",
   "execution_count": 27,
   "id": "d2669895",
   "metadata": {},
   "outputs": [
    {
     "data": {
      "application/vnd.jupyter.widget-view+json": {
       "model_id": "baa0f3c061574520ab050b4b738ef5e0",
       "version_major": 2,
       "version_minor": 0
      },
      "text/plain": [
       "  0%|          | 0/150 [00:00<?, ?it/s]"
      ]
     },
     "metadata": {},
     "output_type": "display_data"
    },
    {
     "name": "stdout",
     "output_type": "stream",
     "text": [
      "Epoch: 1 | train_loss: 0.8426 | train_bal_acc: 0.8056 | train_mcc: 0.6113 | valid_loss: 0.6551 | valid_bal_acc: 0.8759 | valid_mcc: 0.7524\n",
      "Epoch: 2 | train_loss: 0.8333 | train_bal_acc: 0.8088 | train_mcc: 0.6177 | valid_loss: 0.6558 | valid_bal_acc: 0.8766 | valid_mcc: 0.7530\n",
      "Epoch: 3 | train_loss: 0.8289 | train_bal_acc: 0.8078 | train_mcc: 0.6152 | valid_loss: 0.6536 | valid_bal_acc: 0.8764 | valid_mcc: 0.7542\n",
      "Epoch: 4 | train_loss: 0.8323 | train_bal_acc: 0.8088 | train_mcc: 0.6174 | valid_loss: 0.6513 | valid_bal_acc: 0.8762 | valid_mcc: 0.7539\n",
      "Epoch: 5 | train_loss: 0.8330 | train_bal_acc: 0.8064 | train_mcc: 0.6127 | valid_loss: 0.6507 | valid_bal_acc: 0.8775 | valid_mcc: 0.7559\n",
      "Epoch: 6 | train_loss: 0.8288 | train_bal_acc: 0.8075 | train_mcc: 0.6150 | valid_loss: 0.6492 | valid_bal_acc: 0.8758 | valid_mcc: 0.7529\n",
      "Epoch: 7 | train_loss: 0.8286 | train_bal_acc: 0.8092 | train_mcc: 0.6182 | valid_loss: 0.6473 | valid_bal_acc: 0.8772 | valid_mcc: 0.7555\n",
      "Epoch: 8 | train_loss: 0.8224 | train_bal_acc: 0.8106 | train_mcc: 0.6207 | valid_loss: 0.6440 | valid_bal_acc: 0.8786 | valid_mcc: 0.7571\n",
      "Epoch: 9 | train_loss: 0.8240 | train_bal_acc: 0.8097 | train_mcc: 0.6191 | valid_loss: 0.6462 | valid_bal_acc: 0.8769 | valid_mcc: 0.7549\n",
      "Epoch: 10 | train_loss: 0.8193 | train_bal_acc: 0.8107 | train_mcc: 0.6210 | valid_loss: 0.6408 | valid_bal_acc: 0.8791 | valid_mcc: 0.7593\n",
      "Epoch: 11 | train_loss: 0.8266 | train_bal_acc: 0.8110 | train_mcc: 0.6214 | valid_loss: 0.6374 | valid_bal_acc: 0.8801 | valid_mcc: 0.7616\n",
      "Epoch: 12 | train_loss: 0.8207 | train_bal_acc: 0.8130 | train_mcc: 0.6260 | valid_loss: 0.6373 | valid_bal_acc: 0.8810 | valid_mcc: 0.7607\n",
      "Epoch: 13 | train_loss: 0.8218 | train_bal_acc: 0.8105 | train_mcc: 0.6213 | valid_loss: 0.6368 | valid_bal_acc: 0.8827 | valid_mcc: 0.7670\n",
      "Epoch: 14 | train_loss: 0.8060 | train_bal_acc: 0.8178 | train_mcc: 0.6351 | valid_loss: 0.6331 | valid_bal_acc: 0.8832 | valid_mcc: 0.7664\n",
      "Epoch: 15 | train_loss: 0.8119 | train_bal_acc: 0.8155 | train_mcc: 0.6305 | valid_loss: 0.6299 | valid_bal_acc: 0.8836 | valid_mcc: 0.7678\n",
      "Epoch: 16 | train_loss: 0.8183 | train_bal_acc: 0.8150 | train_mcc: 0.6300 | valid_loss: 0.6284 | valid_bal_acc: 0.8837 | valid_mcc: 0.7676\n",
      "Epoch: 17 | train_loss: 0.8160 | train_bal_acc: 0.8143 | train_mcc: 0.6280 | valid_loss: 0.6291 | valid_bal_acc: 0.8842 | valid_mcc: 0.7699\n",
      "Epoch: 18 | train_loss: 0.8206 | train_bal_acc: 0.8105 | train_mcc: 0.6206 | valid_loss: 0.6292 | valid_bal_acc: 0.8847 | valid_mcc: 0.7706\n",
      "Epoch: 19 | train_loss: 0.8082 | train_bal_acc: 0.8163 | train_mcc: 0.6322 | valid_loss: 0.6274 | valid_bal_acc: 0.8837 | valid_mcc: 0.7693\n",
      "Epoch: 20 | train_loss: 0.8099 | train_bal_acc: 0.8140 | train_mcc: 0.6278 | valid_loss: 0.6212 | valid_bal_acc: 0.8860 | valid_mcc: 0.7727\n",
      "Epoch: 21 | train_loss: 0.8115 | train_bal_acc: 0.8161 | train_mcc: 0.6320 | valid_loss: 0.6176 | valid_bal_acc: 0.8858 | valid_mcc: 0.7739\n",
      "Epoch: 22 | train_loss: 0.8092 | train_bal_acc: 0.8155 | train_mcc: 0.6307 | valid_loss: 0.6184 | valid_bal_acc: 0.8874 | valid_mcc: 0.7754\n",
      "Epoch: 23 | train_loss: 0.8054 | train_bal_acc: 0.8194 | train_mcc: 0.6383 | valid_loss: 0.6136 | valid_bal_acc: 0.8870 | valid_mcc: 0.7743\n",
      "Epoch: 24 | train_loss: 0.8051 | train_bal_acc: 0.8157 | train_mcc: 0.6312 | valid_loss: 0.6106 | valid_bal_acc: 0.8870 | valid_mcc: 0.7747\n",
      "Epoch: 25 | train_loss: 0.8030 | train_bal_acc: 0.8209 | train_mcc: 0.6415 | valid_loss: 0.6121 | valid_bal_acc: 0.8876 | valid_mcc: 0.7783\n",
      "Epoch: 26 | train_loss: 0.8068 | train_bal_acc: 0.8206 | train_mcc: 0.6399 | valid_loss: 0.6076 | valid_bal_acc: 0.8881 | valid_mcc: 0.7782\n",
      "Epoch: 27 | train_loss: 0.7921 | train_bal_acc: 0.8226 | train_mcc: 0.6449 | valid_loss: 0.6031 | valid_bal_acc: 0.8903 | valid_mcc: 0.7817\n",
      "Epoch: 28 | train_loss: 0.7971 | train_bal_acc: 0.8211 | train_mcc: 0.6420 | valid_loss: 0.6020 | valid_bal_acc: 0.8911 | valid_mcc: 0.7834\n",
      "Epoch: 29 | train_loss: 0.7960 | train_bal_acc: 0.8197 | train_mcc: 0.6391 | valid_loss: 0.6022 | valid_bal_acc: 0.8900 | valid_mcc: 0.7823\n",
      "Epoch: 30 | train_loss: 0.7944 | train_bal_acc: 0.8237 | train_mcc: 0.6471 | valid_loss: 0.5969 | valid_bal_acc: 0.8918 | valid_mcc: 0.7850\n",
      "Epoch: 31 | train_loss: 0.7913 | train_bal_acc: 0.8242 | train_mcc: 0.6480 | valid_loss: 0.5947 | valid_bal_acc: 0.8930 | valid_mcc: 0.7876\n",
      "Epoch: 32 | train_loss: 0.7908 | train_bal_acc: 0.8239 | train_mcc: 0.6472 | valid_loss: 0.5931 | valid_bal_acc: 0.8941 | valid_mcc: 0.7901\n",
      "Epoch: 33 | train_loss: 0.7912 | train_bal_acc: 0.8247 | train_mcc: 0.6492 | valid_loss: 0.5937 | valid_bal_acc: 0.8934 | valid_mcc: 0.7898\n",
      "Epoch: 34 | train_loss: 0.7876 | train_bal_acc: 0.8262 | train_mcc: 0.6523 | valid_loss: 0.5945 | valid_bal_acc: 0.8941 | valid_mcc: 0.7912\n",
      "Epoch: 35 | train_loss: 0.7848 | train_bal_acc: 0.8243 | train_mcc: 0.6485 | valid_loss: 0.5841 | valid_bal_acc: 0.8984 | valid_mcc: 0.7972\n",
      "Epoch: 36 | train_loss: 0.7812 | train_bal_acc: 0.8283 | train_mcc: 0.6566 | valid_loss: 0.5850 | valid_bal_acc: 0.8981 | valid_mcc: 0.7979\n",
      "Epoch: 37 | train_loss: 0.7798 | train_bal_acc: 0.8289 | train_mcc: 0.6580 | valid_loss: 0.5829 | valid_bal_acc: 0.8984 | valid_mcc: 0.7988\n",
      "Epoch: 38 | train_loss: 0.7782 | train_bal_acc: 0.8285 | train_mcc: 0.6567 | valid_loss: 0.5831 | valid_bal_acc: 0.8977 | valid_mcc: 0.7982\n",
      "Epoch: 39 | train_loss: 0.7801 | train_bal_acc: 0.8260 | train_mcc: 0.6516 | valid_loss: 0.5758 | valid_bal_acc: 0.9009 | valid_mcc: 0.8025\n",
      "Epoch: 40 | train_loss: 0.7844 | train_bal_acc: 0.8267 | train_mcc: 0.6529 | valid_loss: 0.5759 | valid_bal_acc: 0.9008 | valid_mcc: 0.8036\n",
      "Epoch: 41 | train_loss: 0.7802 | train_bal_acc: 0.8293 | train_mcc: 0.6577 | valid_loss: 0.5775 | valid_bal_acc: 0.9013 | valid_mcc: 0.8051\n",
      "Epoch: 42 | train_loss: 0.7684 | train_bal_acc: 0.8324 | train_mcc: 0.6649 | valid_loss: 0.5725 | valid_bal_acc: 0.9020 | valid_mcc: 0.8064\n",
      "Epoch: 43 | train_loss: 0.7758 | train_bal_acc: 0.8289 | train_mcc: 0.6577 | valid_loss: 0.5714 | valid_bal_acc: 0.9021 | valid_mcc: 0.8052\n",
      "Epoch: 44 | train_loss: 0.7783 | train_bal_acc: 0.8316 | train_mcc: 0.6632 | valid_loss: 0.5714 | valid_bal_acc: 0.9020 | valid_mcc: 0.8060\n",
      "Epoch: 45 | train_loss: 0.7739 | train_bal_acc: 0.8318 | train_mcc: 0.6633 | valid_loss: 0.5664 | valid_bal_acc: 0.9031 | valid_mcc: 0.8073\n",
      "Epoch: 46 | train_loss: 0.7717 | train_bal_acc: 0.8327 | train_mcc: 0.6647 | valid_loss: 0.5656 | valid_bal_acc: 0.9038 | valid_mcc: 0.8103\n",
      "Epoch: 47 | train_loss: 0.7627 | train_bal_acc: 0.8343 | train_mcc: 0.6684 | valid_loss: 0.5618 | valid_bal_acc: 0.9031 | valid_mcc: 0.8082\n",
      "Epoch: 48 | train_loss: 0.7704 | train_bal_acc: 0.8325 | train_mcc: 0.6643 | valid_loss: 0.5603 | valid_bal_acc: 0.9042 | valid_mcc: 0.8090\n",
      "Epoch: 49 | train_loss: 0.7574 | train_bal_acc: 0.8336 | train_mcc: 0.6672 | valid_loss: 0.5595 | valid_bal_acc: 0.9052 | valid_mcc: 0.8133\n",
      "Epoch: 50 | train_loss: 0.7667 | train_bal_acc: 0.8323 | train_mcc: 0.6644 | valid_loss: 0.5581 | valid_bal_acc: 0.9062 | valid_mcc: 0.8125\n",
      "Epoch: 51 | train_loss: 0.7576 | train_bal_acc: 0.8346 | train_mcc: 0.6687 | valid_loss: 0.5589 | valid_bal_acc: 0.9053 | valid_mcc: 0.8125\n",
      "Epoch: 52 | train_loss: 0.7658 | train_bal_acc: 0.8337 | train_mcc: 0.6676 | valid_loss: 0.5606 | valid_bal_acc: 0.9053 | valid_mcc: 0.8134\n",
      "Epoch: 53 | train_loss: 0.7578 | train_bal_acc: 0.8345 | train_mcc: 0.6685 | valid_loss: 0.5546 | valid_bal_acc: 0.9061 | valid_mcc: 0.8138\n",
      "Epoch: 54 | train_loss: 0.7609 | train_bal_acc: 0.8362 | train_mcc: 0.6725 | valid_loss: 0.5500 | valid_bal_acc: 0.9072 | valid_mcc: 0.8161\n",
      "Epoch: 55 | train_loss: 0.7604 | train_bal_acc: 0.8360 | train_mcc: 0.6721 | valid_loss: 0.5536 | valid_bal_acc: 0.9071 | valid_mcc: 0.8159\n",
      "Epoch: 56 | train_loss: 0.7603 | train_bal_acc: 0.8359 | train_mcc: 0.6712 | valid_loss: 0.5517 | valid_bal_acc: 0.9075 | valid_mcc: 0.8173\n",
      "Epoch: 57 | train_loss: 0.7615 | train_bal_acc: 0.8357 | train_mcc: 0.6717 | valid_loss: 0.5546 | valid_bal_acc: 0.9062 | valid_mcc: 0.8160\n",
      "Epoch: 58 | train_loss: 0.7606 | train_bal_acc: 0.8367 | train_mcc: 0.6733 | valid_loss: 0.5495 | valid_bal_acc: 0.9085 | valid_mcc: 0.8187\n",
      "Epoch: 59 | train_loss: 0.7579 | train_bal_acc: 0.8359 | train_mcc: 0.6713 | valid_loss: 0.5527 | valid_bal_acc: 0.9067 | valid_mcc: 0.8164\n"
     ]
    },
    {
     "name": "stdout",
     "output_type": "stream",
     "text": [
      "Epoch: 60 | train_loss: 0.7508 | train_bal_acc: 0.8397 | train_mcc: 0.6791 | valid_loss: 0.5453 | valid_bal_acc: 0.9084 | valid_mcc: 0.8181\n",
      "Epoch: 61 | train_loss: 0.7522 | train_bal_acc: 0.8368 | train_mcc: 0.6735 | valid_loss: 0.5476 | valid_bal_acc: 0.9074 | valid_mcc: 0.8168\n",
      "Epoch: 62 | train_loss: 0.7549 | train_bal_acc: 0.8355 | train_mcc: 0.6712 | valid_loss: 0.5429 | valid_bal_acc: 0.9098 | valid_mcc: 0.8203\n",
      "Epoch: 63 | train_loss: 0.7518 | train_bal_acc: 0.8374 | train_mcc: 0.6749 | valid_loss: 0.5443 | valid_bal_acc: 0.9086 | valid_mcc: 0.8195\n",
      "Epoch: 64 | train_loss: 0.7559 | train_bal_acc: 0.8375 | train_mcc: 0.6748 | valid_loss: 0.5487 | valid_bal_acc: 0.9071 | valid_mcc: 0.8168\n",
      "Epoch: 65 | train_loss: 0.7492 | train_bal_acc: 0.8401 | train_mcc: 0.6802 | valid_loss: 0.5412 | valid_bal_acc: 0.9085 | valid_mcc: 0.8175\n",
      "Epoch: 66 | train_loss: 0.7439 | train_bal_acc: 0.8426 | train_mcc: 0.6850 | valid_loss: 0.5398 | valid_bal_acc: 0.9085 | valid_mcc: 0.8200\n",
      "Epoch: 67 | train_loss: 0.7516 | train_bal_acc: 0.8377 | train_mcc: 0.6752 | valid_loss: 0.5402 | valid_bal_acc: 0.9110 | valid_mcc: 0.8244\n",
      "Epoch: 68 | train_loss: 0.7531 | train_bal_acc: 0.8397 | train_mcc: 0.6790 | valid_loss: 0.5403 | valid_bal_acc: 0.9101 | valid_mcc: 0.8220\n",
      "Epoch: 69 | train_loss: 0.7521 | train_bal_acc: 0.8385 | train_mcc: 0.6766 | valid_loss: 0.5408 | valid_bal_acc: 0.9101 | valid_mcc: 0.8218\n",
      "Epoch: 70 | train_loss: 0.7452 | train_bal_acc: 0.8379 | train_mcc: 0.6756 | valid_loss: 0.5417 | valid_bal_acc: 0.9095 | valid_mcc: 0.8223\n",
      "Epoch: 71 | train_loss: 0.7446 | train_bal_acc: 0.8400 | train_mcc: 0.6801 | valid_loss: 0.5356 | valid_bal_acc: 0.9105 | valid_mcc: 0.8233\n",
      "Epoch: 72 | train_loss: 0.7539 | train_bal_acc: 0.8371 | train_mcc: 0.6742 | valid_loss: 0.5394 | valid_bal_acc: 0.9099 | valid_mcc: 0.8231\n",
      "Epoch: 73 | train_loss: 0.7445 | train_bal_acc: 0.8408 | train_mcc: 0.6815 | valid_loss: 0.5404 | valid_bal_acc: 0.9090 | valid_mcc: 0.8214\n",
      "Epoch: 74 | train_loss: 0.7485 | train_bal_acc: 0.8428 | train_mcc: 0.6852 | valid_loss: 0.5401 | valid_bal_acc: 0.9091 | valid_mcc: 0.8219\n",
      "Epoch: 75 | train_loss: 0.7504 | train_bal_acc: 0.8397 | train_mcc: 0.6794 | valid_loss: 0.5344 | valid_bal_acc: 0.9120 | valid_mcc: 0.8252\n",
      "Epoch: 76 | train_loss: 0.7425 | train_bal_acc: 0.8416 | train_mcc: 0.6832 | valid_loss: 0.5322 | valid_bal_acc: 0.9120 | valid_mcc: 0.8273\n",
      "Epoch: 77 | train_loss: 0.7450 | train_bal_acc: 0.8378 | train_mcc: 0.6751 | valid_loss: 0.5355 | valid_bal_acc: 0.9132 | valid_mcc: 0.8282\n",
      "Epoch: 78 | train_loss: 0.7402 | train_bal_acc: 0.8433 | train_mcc: 0.6864 | valid_loss: 0.5281 | valid_bal_acc: 0.9128 | valid_mcc: 0.8267\n",
      "Epoch: 79 | train_loss: 0.7434 | train_bal_acc: 0.8409 | train_mcc: 0.6814 | valid_loss: 0.5379 | valid_bal_acc: 0.9122 | valid_mcc: 0.8265\n",
      "Epoch: 80 | train_loss: 0.7402 | train_bal_acc: 0.8419 | train_mcc: 0.6839 | valid_loss: 0.5321 | valid_bal_acc: 0.9132 | valid_mcc: 0.8286\n",
      "Epoch: 81 | train_loss: 0.7496 | train_bal_acc: 0.8401 | train_mcc: 0.6798 | valid_loss: 0.5336 | valid_bal_acc: 0.9124 | valid_mcc: 0.8270\n",
      "Epoch: 82 | train_loss: 0.7430 | train_bal_acc: 0.8405 | train_mcc: 0.6812 | valid_loss: 0.5309 | valid_bal_acc: 0.9127 | valid_mcc: 0.8280\n",
      "Epoch: 83 | train_loss: 0.7446 | train_bal_acc: 0.8407 | train_mcc: 0.6815 | valid_loss: 0.5301 | valid_bal_acc: 0.9128 | valid_mcc: 0.8271\n",
      "Epoch: 84 | train_loss: 0.7389 | train_bal_acc: 0.8439 | train_mcc: 0.6879 | valid_loss: 0.5265 | valid_bal_acc: 0.9138 | valid_mcc: 0.8299\n",
      "Epoch: 85 | train_loss: 0.7471 | train_bal_acc: 0.8405 | train_mcc: 0.6806 | valid_loss: 0.5318 | valid_bal_acc: 0.9138 | valid_mcc: 0.8288\n",
      "Epoch: 86 | train_loss: 0.7467 | train_bal_acc: 0.8392 | train_mcc: 0.6787 | valid_loss: 0.5272 | valid_bal_acc: 0.9137 | valid_mcc: 0.8288\n",
      "Epoch: 87 | train_loss: 0.7354 | train_bal_acc: 0.8413 | train_mcc: 0.6826 | valid_loss: 0.5247 | valid_bal_acc: 0.9139 | valid_mcc: 0.8306\n",
      "Epoch: 88 | train_loss: 0.7408 | train_bal_acc: 0.8420 | train_mcc: 0.6841 | valid_loss: 0.5241 | valid_bal_acc: 0.9140 | valid_mcc: 0.8307\n",
      "Epoch: 89 | train_loss: 0.7430 | train_bal_acc: 0.8403 | train_mcc: 0.6803 | valid_loss: 0.5277 | valid_bal_acc: 0.9134 | valid_mcc: 0.8297\n",
      "Epoch: 90 | train_loss: 0.7395 | train_bal_acc: 0.8433 | train_mcc: 0.6873 | valid_loss: 0.5247 | valid_bal_acc: 0.9152 | valid_mcc: 0.8318\n",
      "Epoch: 91 | train_loss: 0.7324 | train_bal_acc: 0.8425 | train_mcc: 0.6851 | valid_loss: 0.5200 | valid_bal_acc: 0.9159 | valid_mcc: 0.8338\n",
      "Epoch: 92 | train_loss: 0.7363 | train_bal_acc: 0.8414 | train_mcc: 0.6831 | valid_loss: 0.5275 | valid_bal_acc: 0.9155 | valid_mcc: 0.8330\n",
      "Epoch: 93 | train_loss: 0.7363 | train_bal_acc: 0.8431 | train_mcc: 0.6865 | valid_loss: 0.5253 | valid_bal_acc: 0.9147 | valid_mcc: 0.8314\n",
      "Epoch: 94 | train_loss: 0.7432 | train_bal_acc: 0.8417 | train_mcc: 0.6835 | valid_loss: 0.5294 | valid_bal_acc: 0.9138 | valid_mcc: 0.8299\n",
      "Epoch: 95 | train_loss: 0.7415 | train_bal_acc: 0.8432 | train_mcc: 0.6867 | valid_loss: 0.5232 | valid_bal_acc: 0.9141 | valid_mcc: 0.8309\n",
      "Epoch: 96 | train_loss: 0.7336 | train_bal_acc: 0.8423 | train_mcc: 0.6847 | valid_loss: 0.5265 | valid_bal_acc: 0.9128 | valid_mcc: 0.8290\n",
      "Epoch: 97 | train_loss: 0.7392 | train_bal_acc: 0.8405 | train_mcc: 0.6813 | valid_loss: 0.5222 | valid_bal_acc: 0.9167 | valid_mcc: 0.8336\n",
      "Epoch: 98 | train_loss: 0.7363 | train_bal_acc: 0.8451 | train_mcc: 0.6894 | valid_loss: 0.5226 | valid_bal_acc: 0.9156 | valid_mcc: 0.8325\n",
      "Epoch: 99 | train_loss: 0.7369 | train_bal_acc: 0.8431 | train_mcc: 0.6862 | valid_loss: 0.5225 | valid_bal_acc: 0.9168 | valid_mcc: 0.8341\n",
      "Epoch: 100 | train_loss: 0.7433 | train_bal_acc: 0.8426 | train_mcc: 0.6849 | valid_loss: 0.5234 | valid_bal_acc: 0.9166 | valid_mcc: 0.8351\n",
      "Epoch: 101 | train_loss: 0.7403 | train_bal_acc: 0.8442 | train_mcc: 0.6883 | valid_loss: 0.5239 | valid_bal_acc: 0.9146 | valid_mcc: 0.8315\n",
      "Early stopping after 101 epochs without improvement.\n"
     ]
    }
   ],
   "source": [
    "results, _ = engine.train_with_early_stopping(model=model,\n",
    "                                                  train_dataloader=train_loader,\n",
    "                                                  valid_dataloader=val_loader,\n",
    "                                                  optimizer=optimizer,\n",
    "                                                  loss_fn=loss_fn,\n",
    "                                                  epochs=150,\n",
    "                                                  device=device)\n"
   ]
  },
  {
   "cell_type": "code",
   "execution_count": 25,
   "id": "8e394a60",
   "metadata": {},
   "outputs": [
    {
     "data": {
      "text/plain": [
       "Text(0.5, 1.0, 'Loss Curves USF1_CNN1_ADAM_BCEWithLogits_seq=200b.png')"
      ]
     },
     "execution_count": 25,
     "metadata": {},
     "output_type": "execute_result"
    },
    {
     "data": {
      "image/png": "[encoded data removed]",
      "text/plain": [
       "<Figure size 1500x700 with 2 Axes>"
      ]
     },
     "metadata": {},
     "output_type": "display_data"
    }
   ],
   "source": [
    "helper_functions.plot_loss_curves(results)\n",
    "save_dir = 'images'\n",
    "os.makedirs(save_dir, exist_ok=True)\n",
    "plt.savefig(os.path.join(save_dir, f'{tf}_CNN1_ADAM_BCEWithLogits_seq=200b.png'));\n",
    "\n",
    "plt.title(f\"Loss Curves {tf}_CNN1_ADAM_BCEWithLogits_seq=200b.png\")"
   ]
  },
  {
   "cell_type": "code",
   "execution_count": 26,
   "id": "228c82d1",
   "metadata": {},
   "outputs": [
    {
     "name": "stdout",
     "output_type": "stream",
     "text": [
      "Perfomance on held out test set\n",
      "Test loss: 0.6488787636160851 | Test bal acc 0.8747432962983802 | Test mcc 0.7502207518912846 | Test_f_score 0.8756851958373191\n",
      "\n"
     ]
    }
   ],
   "source": [
    "from sklearn.metrics import balanced_accuracy_score, matthews_corrcoef, f1_score\n",
    "import torch.nn.functional as F\n",
    "\n",
    "\n",
    "model.eval()\n",
    "\n",
    "\n",
    "with torch.inference_mode():\n",
    "    all_predictions = []\n",
    "    all_true_labels = []\n",
    "    all_test_pred_prob=[]\n",
    "    \n",
    "    test_loss, test_bal_acc, test_mcc, test_f_score = 0, 0, 0, 0\n",
    "    for batch, (X, y_one_hot, y) in enumerate(test_loader):\n",
    "        # Send data to target device\n",
    "        X, y_one_hot, y = X.to(device),y_one_hot.to(device), y.to(device)\n",
    "\n",
    "        # 1. Forward pass\n",
    "        test_pred_logits = model(X)\n",
    "\n",
    "        # 2. Calculate and accumulate loss\n",
    "        loss = loss_fn(test_pred_logits, y_one_hot)\n",
    "        test_loss += loss.item()\n",
    "\n",
    "        # Calculate and accumulate scores\n",
    "        test_pred_labels = test_pred_logits.argmax(dim=1)\n",
    "        test_pred_prob = torch.softmax(test_pred_logits.squeeze(), dim=0) # note: perform softmax on the \"logits\" dimension, not \"batch\" dimension (in this case we have a batch size of 1, so can perform on dim=0)\n",
    "        test_bal_acc += balanced_accuracy_score(y.cpu().numpy(), test_pred_labels.cpu().numpy())\n",
    "        test_mcc += matthews_corrcoef(y.cpu().numpy(), test_pred_labels.cpu().numpy())\n",
    "        test_f_score += f1_score(y.cpu().numpy(), test_pred_labels.cpu().numpy(), average='weighted')\n",
    "        \n",
    "        all_predictions.extend(test_pred_labels.cpu().numpy())\n",
    "        all_true_labels.extend(y.cpu().numpy())\n",
    "        all_test_pred_prob.extend(test_pred_prob.cpu().numpy())\n",
    "\n",
    "    # Adjust metrics to get average loss and accuracy per batch\n",
    "    test_loss = test_loss / len(test_loader)\n",
    "    test_bal_acc = test_bal_acc / len(test_loader)\n",
    "    test_mcc = test_mcc / len(test_loader)\n",
    "    test_f_score = test_f_score / len(test_loader)\n",
    "    print(\"Perfomance on held out test set\")\n",
    "    print(f'Test loss: {test_loss} | Test bal acc {test_bal_acc} | Test mcc {test_mcc} | Test_f_score {test_f_score}\\n')   \n",
    "    "
   ]
  },
  {
   "cell_type": "markdown",
   "id": "e8c518d8",
   "metadata": {},
   "source": [
    "We can observe that the model is not overfiting since the perfomance on the held out test set is high"
   ]
  },
  {
   "cell_type": "code",
   "execution_count": null,
   "id": "51cd093a",
   "metadata": {},
   "outputs": [],
   "source": [
    "class NetWidth(nn.Module):\n",
    "    def __init__(self):\n",
    "        super().__init__()\n",
    "        self.conv1 = nn.Conv2d(3, 32, kernel_size=3, padding=1)\n",
    "        self.conv2 = nn.Conv2d(32, 16, kernel_size=3, padding=1)\n",
    "        self.fc1 = nn.Linear(16 * 8 * 8, 32)\n",
    "        self.fc2 = nn.Linear(32, 2)\n",
    "    \n",
    "    def forward(self, x):\n",
    "        out = F.max_pool2d(torch.tanh(self.conv1(x)), 2)\n",
    "        out = F.max_pool2d(torch.tanh(self.conv2(out)), 2)\n",
    "        out = out.view(-1, 16 * 8 * 8)\n",
    "        out = torch.tanh(self.fc1(out))\n",
    "        out = self.fc2(out)\n",
    "        return out\n"
   ]
  }
 ],
 "metadata": {
  "kernelspec": {
   "display_name": "Python 3 (ipykernel)",
   "language": "python",
   "name": "python3"
  },
  "language_info": {
   "codemirror_mode": {
    "name": "ipython",
    "version": 3
   },
   "file_extension": ".py",
   "mimetype": "text/x-python",
   "name": "python",
   "nbconvert_exporter": "python",
   "pygments_lexer": "ipython3",
   "version": "3.11.5"
  }
 },
 "nbformat": 4,
 "nbformat_minor": 5
}
