{
 "cells": [
  {
   "cell_type": "markdown",
   "id": "520fbfff",
   "metadata": {},
   "source": [
    "# Imports and functions"
   ]
  },
  {
   "cell_type": "code",
   "execution_count": 121,
   "id": "05d85633",
   "metadata": {},
   "outputs": [],
   "source": [
    "import pandas as pd\n",
    "import numpy as np\n",
    "from sklearn.preprocessing import OneHotEncoder\n",
    "from keras.utils import to_categorical\n",
    "from sklearn.metrics import balanced_accuracy_score"
   ]
  },
  {
   "cell_type": "code",
   "execution_count": null,
   "id": "1389113b",
   "metadata": {},
   "outputs": [],
   "source": [
    "import torchvision\n",
    "import engine\n",
    "import helper_functions"
   ]
  },
  {
   "cell_type": "code",
   "execution_count": 297,
   "id": "3a2e0857",
   "metadata": {},
   "outputs": [],
   "source": [
    "from tqdm.auto import tqdm\n",
    "from typing import Dict, List, Tuple\n",
    "from sklearn.metrics import balanced_accuracy_score, matthews_corrcoef, f1_score\n",
    "from collections import deque  # Import deque for early stopping\n",
    "import warnings\n",
    "\n",
    "# Suppress the specific UserWarning related to y_pred and y_true class mismatch\n",
    "warnings.filterwarnings(\"ignore\", category=UserWarning, message=\"y_pred contains classes not in y_true\")"
   ]
  },
  {
   "cell_type": "code",
   "execution_count": 242,
   "id": "faeaeafc",
   "metadata": {},
   "outputs": [],
   "source": [
    "from sklearn.metrics import balanced_accuracy_score\n",
    "\n",
    "# Function to calculate balanced accuracy using sklearn\n",
    "def balanced_accuracy(y_true, y_pred):\n",
    "    return balanced_accuracy_score(y_true, y_pred) * 100"
   ]
  },
  {
   "cell_type": "code",
   "execution_count": 122,
   "id": "6c000451",
   "metadata": {},
   "outputs": [],
   "source": [
    "# Function to perform one-hot encoding for DNA sequences\n",
    "def one_hot_encode(sequence):\n",
    "    encoding = {'A': [1, 0, 0, 0], 'T': [0, 1, 0, 0], 'G': [0, 0, 1, 0], 'C': [0, 0, 0, 1]}\n",
    "    one_hot_sequence = [encoding.get(base, [0, 0, 0, 0]) for base in sequence]\n",
    "    return np.array(one_hot_sequence)"
   ]
  },
  {
   "cell_type": "markdown",
   "id": "69190e84",
   "metadata": {},
   "source": [
    "# Set up device agnostic code"
   ]
  },
  {
   "cell_type": "code",
   "execution_count": 195,
   "id": "12cee86f",
   "metadata": {},
   "outputs": [
    {
     "data": {
      "text/plain": [
       "'cpu'"
      ]
     },
     "execution_count": 195,
     "metadata": {},
     "output_type": "execute_result"
    }
   ],
   "source": [
    "import torch\n",
    "from torch import nn\n",
    "# Make device agnostic code\n",
    "device = \"cuda\" if torch.cuda.is_available() else \"cpu\"\n",
    "device"
   ]
  },
  {
   "cell_type": "code",
   "execution_count": 333,
   "id": "c9939f1e",
   "metadata": {},
   "outputs": [
    {
     "data": {
      "text/html": [
       "<div>\n",
       "<style scoped>\n",
       "    .dataframe tbody tr th:only-of-type {\n",
       "        vertical-align: middle;\n",
       "    }\n",
       "\n",
       "    .dataframe tbody tr th {\n",
       "        vertical-align: top;\n",
       "    }\n",
       "\n",
       "    .dataframe thead th {\n",
       "        text-align: right;\n",
       "    }\n",
       "</style>\n",
       "<table border=\"1\" class=\"dataframe\">\n",
       "  <thead>\n",
       "    <tr style=\"text-align: right;\">\n",
       "      <th></th>\n",
       "      <th>data</th>\n",
       "      <th>class</th>\n",
       "    </tr>\n",
       "  </thead>\n",
       "  <tbody>\n",
       "    <tr>\n",
       "      <th>0</th>\n",
       "      <td>CAAAAACACTGACAGGAAAAGGGATGGACATGATTCCCAGAATCCT...</td>\n",
       "      <td>0</td>\n",
       "    </tr>\n",
       "    <tr>\n",
       "      <th>1</th>\n",
       "      <td>CTAACCTGACATGAATTAGGGCAGGTTTTTGAATTCGTGTTGAAAA...</td>\n",
       "      <td>0</td>\n",
       "    </tr>\n",
       "    <tr>\n",
       "      <th>2</th>\n",
       "      <td>TCCTCTGTAGCACAGGTTAACACTTCTGCTAGTTCCAGGACTGAGG...</td>\n",
       "      <td>0</td>\n",
       "    </tr>\n",
       "    <tr>\n",
       "      <th>3</th>\n",
       "      <td>GAACACATTAAACAGCAGGTTGCTTATTCCTTCTCAAACCGCACTA...</td>\n",
       "      <td>0</td>\n",
       "    </tr>\n",
       "    <tr>\n",
       "      <th>4</th>\n",
       "      <td>ATTTCTCGGAACAGGCAGAAAGGAAGCGGCAGGGAGGTGGGTACTC...</td>\n",
       "      <td>0</td>\n",
       "    </tr>\n",
       "    <tr>\n",
       "      <th>...</th>\n",
       "      <td>...</td>\n",
       "      <td>...</td>\n",
       "    </tr>\n",
       "    <tr>\n",
       "      <th>96489</th>\n",
       "      <td>CCACCCTCCACTCCTCACCCCTCATCCCTCACCACCTGCCTTTCAA...</td>\n",
       "      <td>1</td>\n",
       "    </tr>\n",
       "    <tr>\n",
       "      <th>96490</th>\n",
       "      <td>GGCGGTGACGCACGGCGCGGTGACGCAGCGCGACGGCGGCGGCGGC...</td>\n",
       "      <td>1</td>\n",
       "    </tr>\n",
       "    <tr>\n",
       "      <th>96491</th>\n",
       "      <td>GGCGGTGACGCACGGCGCGGTGACGCAGCGCGACGGCGGCGGCGGC...</td>\n",
       "      <td>1</td>\n",
       "    </tr>\n",
       "    <tr>\n",
       "      <th>96492</th>\n",
       "      <td>CTCCCTCTCTGATGCCTGGTCACACCAGGATGGCGGTACCATGTGC...</td>\n",
       "      <td>1</td>\n",
       "    </tr>\n",
       "    <tr>\n",
       "      <th>96493</th>\n",
       "      <td>CTCCCTCTCTGATGCCTGGTCACACCAGGATGGCGGTACCATGTGC...</td>\n",
       "      <td>1</td>\n",
       "    </tr>\n",
       "  </tbody>\n",
       "</table>\n",
       "<p>96494 rows × 2 columns</p>\n",
       "</div>"
      ],
      "text/plain": [
       "                                                    data  class\n",
       "0      CAAAAACACTGACAGGAAAAGGGATGGACATGATTCCCAGAATCCT...      0\n",
       "1      CTAACCTGACATGAATTAGGGCAGGTTTTTGAATTCGTGTTGAAAA...      0\n",
       "2      TCCTCTGTAGCACAGGTTAACACTTCTGCTAGTTCCAGGACTGAGG...      0\n",
       "3      GAACACATTAAACAGCAGGTTGCTTATTCCTTCTCAAACCGCACTA...      0\n",
       "4      ATTTCTCGGAACAGGCAGAAAGGAAGCGGCAGGGAGGTGGGTACTC...      0\n",
       "...                                                  ...    ...\n",
       "96489  CCACCCTCCACTCCTCACCCCTCATCCCTCACCACCTGCCTTTCAA...      1\n",
       "96490  GGCGGTGACGCACGGCGCGGTGACGCAGCGCGACGGCGGCGGCGGC...      1\n",
       "96491  GGCGGTGACGCACGGCGCGGTGACGCAGCGCGACGGCGGCGGCGGC...      1\n",
       "96492  CTCCCTCTCTGATGCCTGGTCACACCAGGATGGCGGTACCATGTGC...      1\n",
       "96493  CTCCCTCTCTGATGCCTGGTCACACCAGGATGGCGGTACCATGTGC...      1\n",
       "\n",
       "[96494 rows x 2 columns]"
      ]
     },
     "execution_count": 333,
     "metadata": {},
     "output_type": "execute_result"
    }
   ],
   "source": [
    "# Replace 'file_path.csv' with the path to the TF data.csv file\n",
    "file_path = '/mnt/raid1/thalassini/home/filtered_fimo/CTCF/datasets/data.csv'\n",
    "df = pd.read_csv(file_path)\n",
    "df"
   ]
  },
  {
   "cell_type": "markdown",
   "id": "d22b4a0d",
   "metadata": {},
   "source": [
    "# Sequence length inspection and normalization"
   ]
  },
  {
   "cell_type": "code",
   "execution_count": 413,
   "id": "d33c9269",
   "metadata": {},
   "outputs": [
    {
     "name": "stdout",
     "output_type": "stream",
     "text": [
      "Max length:218, Min length: 200\n"
     ]
    },
    {
     "data": {
      "image/png": "[encoded data removed]",
      "text/plain": [
       "<Figure size 640x480 with 1 Axes>"
      ]
     },
     "metadata": {},
     "output_type": "display_data"
    }
   ],
   "source": [
    "lengths= [len(item) for item in df['data']] \n",
    "print(f'Max length:{max(lengths)}, Min length: {min(lengths)}')\n",
    "import matplotlib.pyplot as plt\n",
    "# Plotting the histogram\n",
    "plt.hist(lengths, bins=10, color='blue', edgecolor='black')\n",
    "plt.title('Histogram of Lengths')\n",
    "plt.xlabel('Length')\n",
    "plt.ylabel('Frequency')\n",
    "plt.show()"
   ]
  },
  {
   "cell_type": "code",
   "execution_count": 414,
   "id": "292502f4",
   "metadata": {},
   "outputs": [],
   "source": [
    "# Find the maximum length of sequences\n",
    "#min_length = min(len(seq) for seq in df['data'])\n",
    "limit=200\n",
    "\n",
    "\n",
    "# Pad or cut sequences to ensure they all have the same length\n",
    "cut_sequences = [seq[:limit] for seq in df['data']]\n",
    "\n",
    "# Update the DataFrame with the cut sequences\n",
    "#df['data'] = cut_sequences"
   ]
  },
  {
   "cell_type": "code",
   "execution_count": 415,
   "id": "84f394a8",
   "metadata": {},
   "outputs": [
    {
     "name": "stdout",
     "output_type": "stream",
     "text": [
      "Max length:200, Min length: 200\n"
     ]
    }
   ],
   "source": [
    "lengths= [len(item) for item in cut_sequences]\n",
    "print(f'Max length:{max(lengths)}, Min length: {min(lengths)}')"
   ]
  },
  {
   "cell_type": "markdown",
   "id": "9b65d644",
   "metadata": {},
   "source": [
    "# Define X,y variables"
   ]
  },
  {
   "cell_type": "code",
   "execution_count": 337,
   "id": "f9e96a80",
   "metadata": {},
   "outputs": [],
   "source": [
    "X=[one_hot_encode(sequence) for sequence in cut_sequences]"
   ]
  },
  {
   "cell_type": "code",
   "execution_count": 339,
   "id": "2ab32859",
   "metadata": {},
   "outputs": [],
   "source": [
    "X = torch.from_numpy(np.array(X)).type(torch.float)\n"
   ]
  },
  {
   "cell_type": "code",
   "execution_count": 341,
   "id": "0bf2a817",
   "metadata": {},
   "outputs": [
    {
     "data": {
      "text/plain": [
       "(96494, 200, 4)"
      ]
     },
     "execution_count": 341,
     "metadata": {},
     "output_type": "execute_result"
    }
   ],
   "source": [
    "X.shape"
   ]
  },
  {
   "cell_type": "code",
   "execution_count": 342,
   "id": "9aec20e4",
   "metadata": {},
   "outputs": [
    {
     "data": {
      "text/plain": [
       "array([0, 0, 0])"
      ]
     },
     "execution_count": 342,
     "metadata": {},
     "output_type": "execute_result"
    }
   ],
   "source": [
    "y=np.array(df['class'])\n",
    "y[:3]"
   ]
  },
  {
   "cell_type": "code",
   "execution_count": 343,
   "id": "7f1057ee",
   "metadata": {},
   "outputs": [],
   "source": [
    "y = torch.from_numpy(y).type(torch.float)"
   ]
  },
  {
   "cell_type": "markdown",
   "id": "c4515e0b",
   "metadata": {},
   "source": [
    "# Split the data in train, val and test set"
   ]
  },
  {
   "cell_type": "code",
   "execution_count": 348,
   "id": "f4a1304f",
   "metadata": {},
   "outputs": [
    {
     "name": "stdout",
     "output_type": "stream",
     "text": [
      "61756 61756 15439 15439\n",
      "19299 19299\n"
     ]
    }
   ],
   "source": [
    "from sklearn.model_selection import train_test_split\n",
    "from sklearn.model_selection import StratifiedShuffleSplit\n",
    "\n",
    "\n",
    "\n",
    "# Split the data into a stratified hold-out validation set and the rest\n",
    "stratified_splitter = StratifiedShuffleSplit(n_splits=1, test_size=0.2, random_state=42)\n",
    "\n",
    "for train_val_index, test_index in stratified_splitter.split(X, y):\n",
    "    X_train_val, X_test = X[train_val_index], X[test_index]\n",
    "    y_train_val, y_test = y[train_val_index], y[test_index]\n",
    "\n",
    "# Split the remaining data into training and validation sets\n",
    "X_train, X_val, y_train, y_val = train_test_split(X_train_val, y_train_val, test_size=0.2, stratify=y_train_val, random_state=42)\n",
    "\n",
    "print(len(X_train), len(y_train), len(X_val), len(y_val))\n",
    "print(len(X_test), len(y_test))\n",
    "\n",
    "\n",
    "# (X_train, X_val, y_train, y_val) for training, validation\n",
    "# X_test, y_test for the final hold-out validation.\n",
    "\n",
    "X_train, X_val, X_test = torch.from_numpy(X_train).type(torch.float),torch.from_numpy(X_val).type(torch.float), torch.from_numpy(X_test).type(torch.float)\n",
    "\n"
   ]
  },
  {
   "cell_type": "markdown",
   "id": "d6716d37",
   "metadata": {},
   "source": [
    "# Create datasets and Dataloaders"
   ]
  },
  {
   "cell_type": "code",
   "execution_count": 350,
   "id": "cc8becaa",
   "metadata": {},
   "outputs": [
    {
     "name": "stdout",
     "output_type": "stream",
     "text": [
      "61756 61756 61756\n"
     ]
    }
   ],
   "source": [
    "torch.manual_seed(42)\n",
    "\n",
    "# Expand the dimensions of y to make it 2-dimensional\n",
    "y_train = y_train.view(-1, 1)\n",
    "y_test = y_test.view(-1,1)\n",
    "y_val = y_val.view(-1,1)\n",
    "# Concatenate the complement of y to create a 2-dimensional tensor\n",
    "y_train_one_hot = torch.cat([1 - y_train, y_train], dim=1).float()\n",
    "y_test_one_hot = torch.cat([1 - y_test, y_test], dim=1).float()\n",
    "y_val_one_hot = torch.cat([1 - y_val, y_val], dim=1).float()\n",
    "\n",
    "\n",
    "# Move tensors to the same device\n",
    "X_train, y_train_one_hot, y_train = X_train.to(device), y_train_one_hot.to(device), y_train.to(device)\n",
    "X_val, y_val_one_hot, y_val = X_val.to(device), y_val_one_hot.to(device), y_val.to(device)\n",
    "X_test, y_test_one_hot, y_test = X_test.to(device), y_test_one_hot.to(device), y_test.to(device)\n",
    "\n",
    "\n",
    "print(X_train.size(0), y_train_one_hot.size(0), y_train.size(0))\n",
    "\n",
    "# Create datasets\n",
    "train_dataset = TensorDataset(X_train, y_train_one_hot, y_train)\n",
    "val_dataset = TensorDataset(X_val, y_val_one_hot, y_val)\n",
    "test_dataset = TensorDataset(X_test, y_test_one_hot, y_test)\n",
    "\n"
   ]
  },
  {
   "cell_type": "code",
   "execution_count": 352,
   "id": "107677e4",
   "metadata": {},
   "outputs": [],
   "source": [
    "from torch.utils.data import DataLoader, TensorDataset\n",
    "batch_size=64\n",
    "torch.manual_seed(42)\n",
    "\n",
    "# Convert to PyTorch DataLoader\n",
    "train_loader = DataLoader(train_dataset, batch_size=batch_size, shuffle=True)\n",
    "val_loader = DataLoader(val_dataset, batch_size=batch_size, shuffle=True)\n",
    "test_loader = DataLoader(test_dataset, batch_size=batch_size, shuffle=True)"
   ]
  },
  {
   "cell_type": "markdown",
   "id": "d20e4bb7",
   "metadata": {},
   "source": [
    "# Construct a 1 layer CNN with Maxpooling and Dropout"
   ]
  },
  {
   "cell_type": "code",
   "execution_count": 320,
   "id": "9c0dfed6",
   "metadata": {},
   "outputs": [],
   "source": [
    "class Conv_v0(torch.nn.Module):\n",
    "\n",
    "    def __init__(self):\n",
    "        super(Conv_v0, self).__init__()\n",
    "\n",
    "        self.conv1 = torch.nn.Conv1d(in_channels=4, out_channels=3, kernel_size=17)\n",
    "        self.activation = torch.nn.ReLU()\n",
    "        self.maxpool = torch.nn.MaxPool1d(kernel_size=5)\n",
    "        \n",
    "        self.dropout = torch.nn.Dropout(p=0.5) \n",
    "        self.fc = torch.nn.Linear(in_features=108, out_features=2)\n",
    "        #elf.sigmoid = torch.nn.Sigmoid()\n",
    "\n",
    "    def forward(self, x):\n",
    "        x= x.permute(0, 2, 1)\n",
    "        x = self.conv1(x)\n",
    "        x = self.activation(x)\n",
    "        x = self.maxpool(x)\n",
    "        \n",
    "        # Reshape the output of the max pooling layer before passing it to the fully connected layer\n",
    "        x = x.view(x.size(0), -1)\n",
    "        \n",
    "        #print(\"Size after reshaping:\", x.size())\n",
    "        x=self.dropout(x)\n",
    "        x = self.fc(x)\n",
    "       #x = self.sigmoid(x)\n",
    "        return x\n"
   ]
  },
  {
   "cell_type": "code",
   "execution_count": 322,
   "id": "e1d337c9",
   "metadata": {},
   "outputs": [
    {
     "data": {
      "text/plain": [
       "tensor([[-0.5399, -0.4358],\n",
       "        [-0.1775, -0.1294],\n",
       "        [-0.1751,  0.2937],\n",
       "        [-0.0316,  0.0428],\n",
       "        [-0.0760, -0.4730]], grad_fn=<SliceBackward0>)"
      ]
     },
     "execution_count": 322,
     "metadata": {},
     "output_type": "execute_result"
    }
   ],
   "source": [
    "# View the frist 5 outputs of the forward pass on the test data\n",
    "y_logits = model(X_test.to(device))[:5]\n",
    "y_logits"
   ]
  },
  {
   "cell_type": "markdown",
   "id": "e7f2d523",
   "metadata": {},
   "source": [
    "# Computing class weights"
   ]
  },
  {
   "cell_type": "code",
   "execution_count": 373,
   "id": "0f86ea45",
   "metadata": {},
   "outputs": [
    {
     "name": "stdout",
     "output_type": "stream",
     "text": [
      "Class Weights List: [2.6129045906494603, 1.6199994753547913]\n"
     ]
    }
   ],
   "source": [
    "from torch.utils.data import DataLoader, TensorDataset\n",
    "from sklearn.utils.class_weight import compute_class_weight\n",
    "\n",
    "# Assuming we have defined dataset\n",
    "# train_dataset = TensorDataset(X_train, y_train_one_hot, y_train)\n",
    "\n",
    "# Extract the labels from the dataset\n",
    "_, _, y_train = zip(*train_dataset)\n",
    "\n",
    "# Count occurrences of each class\n",
    "class_0_count = sum(1 for label in y_train if label == 0)\n",
    "class_1_count = sum(1 for label in y_train if label == 1)\n",
    "\n",
    "# Total length of y_train\n",
    "total_samples = len(y_train)\n",
    "\n",
    "# Calculate class weights\n",
    "weights = [total_samples / class_0_count, total_samples / class_1_count]\n",
    "\n",
    "# Print the list of class weights\n",
    "print(\"Class Weights List:\", weights)\n",
    "\n",
    "\n"
   ]
  },
  {
   "cell_type": "markdown",
   "id": "40b134d4",
   "metadata": {},
   "source": [
    "# Set up loss function and optimizer"
   ]
  },
  {
   "cell_type": "code",
   "execution_count": 385,
   "id": "948d9087",
   "metadata": {},
   "outputs": [],
   "source": [
    "from torch.optim import lr_scheduler\n",
    "weights = torch.tensor(weights).to(device)\n",
    "#print(weights)"
   ]
  },
  {
   "cell_type": "code",
   "execution_count": 420,
   "id": "65dbe876",
   "metadata": {},
   "outputs": [
    {
     "name": "stderr",
     "output_type": "stream",
     "text": [
      "/tmp/ipykernel_2880998/1981915786.py:2: UserWarning: To copy construct from a tensor, it is recommended to use sourceTensor.clone().detach() or sourceTensor.clone().detach().requires_grad_(True), rather than torch.tensor(sourceTensor).\n",
      "  weights = torch.tensor(weights).to(device)\n"
     ]
    }
   ],
   "source": [
    "torch.manual_seed(42)\n",
    "\n",
    "# Initialize model instance\n",
    "model = Conv_v0()\n",
    "\n",
    "# define the CrossEntropyLoss with weights\n",
    "loss_fn = nn.BCEWithLogitsLoss(weight=weights)\n",
    "\n",
    "# Define oprimizer\n",
    "optimizer = torch.optim.SGD(model.parameters(), lr=0.0001)\n",
    "\n",
    "# Define exponetntial lr with lr_scheduler\n",
    "exp_lr_scheduler = lr_scheduler.ExponentialLR(optimizer, gamma=0.01)"
   ]
  },
  {
   "cell_type": "code",
   "execution_count": 421,
   "id": "d2669895",
   "metadata": {},
   "outputs": [
    {
     "data": {
      "application/vnd.jupyter.widget-view+json": {
       "model_id": "635570ab1904468c93930a2b70469cf9",
       "version_major": 2,
       "version_minor": 0
      },
      "text/plain": [
       "  0%|          | 0/100 [00:00<?, ?it/s]"
      ]
     },
     "metadata": {},
     "output_type": "display_data"
    },
    {
     "name": "stdout",
     "output_type": "stream",
     "text": [
      "Epoch: 1 | train_loss: 1.4722 | train_bal_acc: 0.5171 | train_mcc: 0.0372 | valid_loss: 1.4348 | valid_bal_acc: 0.5346 | valid_mcc: 0.1279\n",
      "Epoch: 2 | train_loss: 1.4317 | train_bal_acc: 0.5250 | train_mcc: 0.0502 | valid_loss: 1.4074 | valid_bal_acc: 0.5016 | valid_mcc: 0.0118\n",
      "Epoch: 3 | train_loss: 1.4100 | train_bal_acc: 0.5226 | train_mcc: 0.0541 | valid_loss: 1.3920 | valid_bal_acc: 0.5002 | valid_mcc: 0.0014\n",
      "Epoch: 4 | train_loss: 1.3992 | train_bal_acc: 0.5175 | train_mcc: 0.0502 | valid_loss: 1.3832 | valid_bal_acc: 0.5000 | valid_mcc: 0.0000\n",
      "Epoch: 5 | train_loss: 1.3917 | train_bal_acc: 0.5179 | train_mcc: 0.0639 | valid_loss: 1.3773 | valid_bal_acc: 0.5000 | valid_mcc: 0.0000\n",
      "Epoch: 6 | train_loss: 1.3855 | train_bal_acc: 0.5137 | train_mcc: 0.0548 | valid_loss: 1.3722 | valid_bal_acc: 0.5000 | valid_mcc: 0.0000\n",
      "Epoch: 7 | train_loss: 1.3805 | train_bal_acc: 0.5145 | train_mcc: 0.0653 | valid_loss: 1.3682 | valid_bal_acc: 0.5000 | valid_mcc: 0.0000\n",
      "Epoch: 8 | train_loss: 1.3763 | train_bal_acc: 0.5153 | train_mcc: 0.0721 | valid_loss: 1.3631 | valid_bal_acc: 0.5000 | valid_mcc: 0.0000\n",
      "Epoch: 9 | train_loss: 1.3716 | train_bal_acc: 0.5144 | train_mcc: 0.0746 | valid_loss: 1.3583 | valid_bal_acc: 0.5000 | valid_mcc: 0.0000\n",
      "Epoch: 10 | train_loss: 1.3668 | train_bal_acc: 0.5153 | train_mcc: 0.0779 | valid_loss: 1.3532 | valid_bal_acc: 0.5000 | valid_mcc: 0.0000\n",
      "Epoch: 11 | train_loss: 1.3618 | train_bal_acc: 0.5142 | train_mcc: 0.0755 | valid_loss: 1.3485 | valid_bal_acc: 0.5000 | valid_mcc: 0.0000\n",
      "Epoch: 12 | train_loss: 1.3568 | train_bal_acc: 0.5150 | train_mcc: 0.0808 | valid_loss: 1.3425 | valid_bal_acc: 0.5000 | valid_mcc: 0.0000\n",
      "Epoch: 13 | train_loss: 1.3517 | train_bal_acc: 0.5189 | train_mcc: 0.0994 | valid_loss: 1.3377 | valid_bal_acc: 0.5002 | valid_mcc: 0.0013\n",
      "Epoch: 14 | train_loss: 1.3450 | train_bal_acc: 0.5207 | train_mcc: 0.1100 | valid_loss: 1.3311 | valid_bal_acc: 0.5002 | valid_mcc: 0.0013\n",
      "Epoch: 15 | train_loss: 1.3375 | train_bal_acc: 0.5233 | train_mcc: 0.1219 | valid_loss: 1.3244 | valid_bal_acc: 0.5002 | valid_mcc: 0.0015\n",
      "Epoch: 16 | train_loss: 1.3320 | train_bal_acc: 0.5280 | train_mcc: 0.1436 | valid_loss: 1.3178 | valid_bal_acc: 0.5002 | valid_mcc: 0.0019\n",
      "Epoch: 17 | train_loss: 1.3255 | train_bal_acc: 0.5303 | train_mcc: 0.1504 | valid_loss: 1.3100 | valid_bal_acc: 0.5005 | valid_mcc: 0.0038\n",
      "Epoch: 18 | train_loss: 1.3180 | train_bal_acc: 0.5376 | train_mcc: 0.1756 | valid_loss: 1.3031 | valid_bal_acc: 0.5006 | valid_mcc: 0.0050\n",
      "Epoch: 19 | train_loss: 1.3108 | train_bal_acc: 0.5419 | train_mcc: 0.1904 | valid_loss: 1.2946 | valid_bal_acc: 0.5015 | valid_mcc: 0.0115\n",
      "Epoch: 20 | train_loss: 1.3037 | train_bal_acc: 0.5474 | train_mcc: 0.2093 | valid_loss: 1.2861 | valid_bal_acc: 0.5024 | valid_mcc: 0.0181\n",
      "Epoch: 21 | train_loss: 1.2946 | train_bal_acc: 0.5554 | train_mcc: 0.2342 | valid_loss: 1.2772 | valid_bal_acc: 0.5042 | valid_mcc: 0.0296\n",
      "Epoch: 22 | train_loss: 1.2862 | train_bal_acc: 0.5640 | train_mcc: 0.2552 | valid_loss: 1.2675 | valid_bal_acc: 0.5064 | valid_mcc: 0.0476\n",
      "Epoch: 23 | train_loss: 1.2788 | train_bal_acc: 0.5723 | train_mcc: 0.2741 | valid_loss: 1.2583 | valid_bal_acc: 0.5114 | valid_mcc: 0.0776\n",
      "Epoch: 24 | train_loss: 1.2683 | train_bal_acc: 0.5835 | train_mcc: 0.3012 | valid_loss: 1.2474 | valid_bal_acc: 0.5159 | valid_mcc: 0.1039\n",
      "Epoch: 25 | train_loss: 1.2560 | train_bal_acc: 0.5950 | train_mcc: 0.3275 | valid_loss: 1.2354 | valid_bal_acc: 0.5217 | valid_mcc: 0.1283\n",
      "Epoch: 26 | train_loss: 1.2470 | train_bal_acc: 0.6046 | train_mcc: 0.3434 | valid_loss: 1.2241 | valid_bal_acc: 0.5297 | valid_mcc: 0.1661\n",
      "Epoch: 27 | train_loss: 1.2364 | train_bal_acc: 0.6189 | train_mcc: 0.3725 | valid_loss: 1.2108 | valid_bal_acc: 0.5395 | valid_mcc: 0.2004\n",
      "Epoch: 28 | train_loss: 1.2225 | train_bal_acc: 0.6309 | train_mcc: 0.3949 | valid_loss: 1.1983 | valid_bal_acc: 0.5505 | valid_mcc: 0.2346\n",
      "Epoch: 29 | train_loss: 1.2113 | train_bal_acc: 0.6440 | train_mcc: 0.4178 | valid_loss: 1.1841 | valid_bal_acc: 0.5634 | valid_mcc: 0.2753\n",
      "Epoch: 30 | train_loss: 1.1985 | train_bal_acc: 0.6560 | train_mcc: 0.4376 | valid_loss: 1.1695 | valid_bal_acc: 0.5791 | valid_mcc: 0.3120\n",
      "Epoch: 31 | train_loss: 1.1846 | train_bal_acc: 0.6706 | train_mcc: 0.4622 | valid_loss: 1.1537 | valid_bal_acc: 0.5952 | valid_mcc: 0.3460\n",
      "Epoch: 32 | train_loss: 1.1701 | train_bal_acc: 0.6831 | train_mcc: 0.4830 | valid_loss: 1.1384 | valid_bal_acc: 0.6114 | valid_mcc: 0.3813\n",
      "Epoch: 33 | train_loss: 1.1563 | train_bal_acc: 0.6949 | train_mcc: 0.5005 | valid_loss: 1.1224 | valid_bal_acc: 0.6282 | valid_mcc: 0.4113\n",
      "Epoch: 34 | train_loss: 1.1406 | train_bal_acc: 0.7062 | train_mcc: 0.5167 | valid_loss: 1.1045 | valid_bal_acc: 0.6460 | valid_mcc: 0.4450\n",
      "Epoch: 35 | train_loss: 1.1279 | train_bal_acc: 0.7175 | train_mcc: 0.5347 | valid_loss: 1.0867 | valid_bal_acc: 0.6682 | valid_mcc: 0.4829\n",
      "Epoch: 36 | train_loss: 1.1132 | train_bal_acc: 0.7294 | train_mcc: 0.5519 | valid_loss: 1.0672 | valid_bal_acc: 0.6876 | valid_mcc: 0.5150\n",
      "Epoch: 37 | train_loss: 1.0939 | train_bal_acc: 0.7443 | train_mcc: 0.5761 | valid_loss: 1.0481 | valid_bal_acc: 0.7047 | valid_mcc: 0.5427\n",
      "Epoch: 38 | train_loss: 1.0778 | train_bal_acc: 0.7493 | train_mcc: 0.5825 | valid_loss: 1.0285 | valid_bal_acc: 0.7260 | valid_mcc: 0.5762\n",
      "Epoch: 39 | train_loss: 1.0627 | train_bal_acc: 0.7574 | train_mcc: 0.5923 | valid_loss: 1.0080 | valid_bal_acc: 0.7465 | valid_mcc: 0.6082\n",
      "Epoch: 40 | train_loss: 1.0443 | train_bal_acc: 0.7686 | train_mcc: 0.6101 | valid_loss: 0.9872 | valid_bal_acc: 0.7628 | valid_mcc: 0.6332\n",
      "Epoch: 41 | train_loss: 1.0268 | train_bal_acc: 0.7779 | train_mcc: 0.6249 | valid_loss: 0.9660 | valid_bal_acc: 0.7801 | valid_mcc: 0.6600\n",
      "Epoch: 42 | train_loss: 1.0107 | train_bal_acc: 0.7832 | train_mcc: 0.6322 | valid_loss: 0.9458 | valid_bal_acc: 0.7959 | valid_mcc: 0.6837\n",
      "Epoch: 43 | train_loss: 0.9929 | train_bal_acc: 0.7912 | train_mcc: 0.6419 | valid_loss: 0.9251 | valid_bal_acc: 0.8124 | valid_mcc: 0.7087\n",
      "Epoch: 44 | train_loss: 0.9773 | train_bal_acc: 0.7992 | train_mcc: 0.6543 | valid_loss: 0.9040 | valid_bal_acc: 0.8269 | valid_mcc: 0.7299\n",
      "Epoch: 45 | train_loss: 0.9590 | train_bal_acc: 0.8061 | train_mcc: 0.6639 | valid_loss: 0.8826 | valid_bal_acc: 0.8391 | valid_mcc: 0.7488\n",
      "Epoch: 46 | train_loss: 0.9434 | train_bal_acc: 0.8112 | train_mcc: 0.6718 | valid_loss: 0.8617 | valid_bal_acc: 0.8500 | valid_mcc: 0.7653\n",
      "Epoch: 47 | train_loss: 0.9256 | train_bal_acc: 0.8165 | train_mcc: 0.6778 | valid_loss: 0.8412 | valid_bal_acc: 0.8614 | valid_mcc: 0.7821\n",
      "Epoch: 48 | train_loss: 0.9136 | train_bal_acc: 0.8203 | train_mcc: 0.6836 | valid_loss: 0.8205 | valid_bal_acc: 0.8728 | valid_mcc: 0.7995\n",
      "Epoch: 49 | train_loss: 0.8978 | train_bal_acc: 0.8240 | train_mcc: 0.6880 | valid_loss: 0.8009 | valid_bal_acc: 0.8818 | valid_mcc: 0.8128\n",
      "Epoch: 50 | train_loss: 0.8830 | train_bal_acc: 0.8283 | train_mcc: 0.6957 | valid_loss: 0.7806 | valid_bal_acc: 0.8908 | valid_mcc: 0.8270\n",
      "Epoch: 51 | train_loss: 0.8659 | train_bal_acc: 0.8334 | train_mcc: 0.7026 | valid_loss: 0.7615 | valid_bal_acc: 0.8997 | valid_mcc: 0.8406\n",
      "Epoch: 52 | train_loss: 0.8531 | train_bal_acc: 0.8367 | train_mcc: 0.7081 | valid_loss: 0.7425 | valid_bal_acc: 0.9055 | valid_mcc: 0.8492\n",
      "Epoch: 53 | train_loss: 0.8385 | train_bal_acc: 0.8391 | train_mcc: 0.7113 | valid_loss: 0.7241 | valid_bal_acc: 0.9134 | valid_mcc: 0.8613\n",
      "Epoch: 54 | train_loss: 0.8228 | train_bal_acc: 0.8437 | train_mcc: 0.7176 | valid_loss: 0.7059 | valid_bal_acc: 0.9188 | valid_mcc: 0.8696\n",
      "Epoch: 55 | train_loss: 0.8128 | train_bal_acc: 0.8450 | train_mcc: 0.7196 | valid_loss: 0.6891 | valid_bal_acc: 0.9248 | valid_mcc: 0.8790\n",
      "Epoch: 56 | train_loss: 0.7987 | train_bal_acc: 0.8513 | train_mcc: 0.7306 | valid_loss: 0.6717 | valid_bal_acc: 0.9294 | valid_mcc: 0.8857\n",
      "Epoch: 57 | train_loss: 0.7871 | train_bal_acc: 0.8517 | train_mcc: 0.7317 | valid_loss: 0.6559 | valid_bal_acc: 0.9346 | valid_mcc: 0.8941\n",
      "Epoch: 58 | train_loss: 0.7765 | train_bal_acc: 0.8551 | train_mcc: 0.7335 | valid_loss: 0.6398 | valid_bal_acc: 0.9374 | valid_mcc: 0.8987\n",
      "Epoch: 59 | train_loss: 0.7613 | train_bal_acc: 0.8608 | train_mcc: 0.7457 | valid_loss: 0.6252 | valid_bal_acc: 0.9411 | valid_mcc: 0.9038\n"
     ]
    },
    {
     "name": "stdout",
     "output_type": "stream",
     "text": [
      "Epoch: 60 | train_loss: 0.7526 | train_bal_acc: 0.8585 | train_mcc: 0.7407 | valid_loss: 0.6101 | valid_bal_acc: 0.9445 | valid_mcc: 0.9093\n",
      "Epoch: 61 | train_loss: 0.7440 | train_bal_acc: 0.8614 | train_mcc: 0.7456 | valid_loss: 0.5966 | valid_bal_acc: 0.9474 | valid_mcc: 0.9135\n",
      "Epoch: 62 | train_loss: 0.7330 | train_bal_acc: 0.8627 | train_mcc: 0.7485 | valid_loss: 0.5830 | valid_bal_acc: 0.9502 | valid_mcc: 0.9176\n",
      "Epoch: 63 | train_loss: 0.7234 | train_bal_acc: 0.8653 | train_mcc: 0.7519 | valid_loss: 0.5702 | valid_bal_acc: 0.9517 | valid_mcc: 0.9200\n",
      "Epoch: 64 | train_loss: 0.7149 | train_bal_acc: 0.8676 | train_mcc: 0.7571 | valid_loss: 0.5573 | valid_bal_acc: 0.9540 | valid_mcc: 0.9239\n",
      "Epoch: 65 | train_loss: 0.7041 | train_bal_acc: 0.8689 | train_mcc: 0.7587 | valid_loss: 0.5449 | valid_bal_acc: 0.9568 | valid_mcc: 0.9281\n",
      "Epoch: 66 | train_loss: 0.6927 | train_bal_acc: 0.8706 | train_mcc: 0.7617 | valid_loss: 0.5333 | valid_bal_acc: 0.9597 | valid_mcc: 0.9326\n",
      "Epoch: 67 | train_loss: 0.6909 | train_bal_acc: 0.8709 | train_mcc: 0.7609 | valid_loss: 0.5227 | valid_bal_acc: 0.9604 | valid_mcc: 0.9341\n",
      "Epoch: 68 | train_loss: 0.6764 | train_bal_acc: 0.8756 | train_mcc: 0.7694 | valid_loss: 0.5120 | valid_bal_acc: 0.9633 | valid_mcc: 0.9382\n",
      "Epoch: 69 | train_loss: 0.6672 | train_bal_acc: 0.8775 | train_mcc: 0.7732 | valid_loss: 0.5016 | valid_bal_acc: 0.9645 | valid_mcc: 0.9402\n",
      "Epoch: 70 | train_loss: 0.6631 | train_bal_acc: 0.8779 | train_mcc: 0.7725 | valid_loss: 0.4912 | valid_bal_acc: 0.9647 | valid_mcc: 0.9413\n",
      "Epoch: 71 | train_loss: 0.6573 | train_bal_acc: 0.8787 | train_mcc: 0.7747 | valid_loss: 0.4815 | valid_bal_acc: 0.9674 | valid_mcc: 0.9445\n",
      "Epoch: 72 | train_loss: 0.6429 | train_bal_acc: 0.8813 | train_mcc: 0.7786 | valid_loss: 0.4720 | valid_bal_acc: 0.9683 | valid_mcc: 0.9463\n",
      "Epoch: 73 | train_loss: 0.6407 | train_bal_acc: 0.8820 | train_mcc: 0.7812 | valid_loss: 0.4636 | valid_bal_acc: 0.9694 | valid_mcc: 0.9478\n",
      "Epoch: 74 | train_loss: 0.6358 | train_bal_acc: 0.8819 | train_mcc: 0.7803 | valid_loss: 0.4550 | valid_bal_acc: 0.9697 | valid_mcc: 0.9486\n",
      "Epoch: 75 | train_loss: 0.6276 | train_bal_acc: 0.8843 | train_mcc: 0.7846 | valid_loss: 0.4460 | valid_bal_acc: 0.9709 | valid_mcc: 0.9503\n",
      "Epoch: 76 | train_loss: 0.6184 | train_bal_acc: 0.8867 | train_mcc: 0.7876 | valid_loss: 0.4378 | valid_bal_acc: 0.9716 | valid_mcc: 0.9514\n",
      "Epoch: 77 | train_loss: 0.6214 | train_bal_acc: 0.8834 | train_mcc: 0.7831 | valid_loss: 0.4299 | valid_bal_acc: 0.9729 | valid_mcc: 0.9533\n",
      "Epoch: 78 | train_loss: 0.6063 | train_bal_acc: 0.8885 | train_mcc: 0.7920 | valid_loss: 0.4229 | valid_bal_acc: 0.9735 | valid_mcc: 0.9545\n",
      "Epoch: 79 | train_loss: 0.6078 | train_bal_acc: 0.8867 | train_mcc: 0.7889 | valid_loss: 0.4153 | valid_bal_acc: 0.9741 | valid_mcc: 0.9555\n",
      "Epoch: 80 | train_loss: 0.5979 | train_bal_acc: 0.8899 | train_mcc: 0.7939 | valid_loss: 0.4084 | valid_bal_acc: 0.9743 | valid_mcc: 0.9561\n",
      "Epoch: 81 | train_loss: 0.5913 | train_bal_acc: 0.8913 | train_mcc: 0.7971 | valid_loss: 0.4014 | valid_bal_acc: 0.9751 | valid_mcc: 0.9566\n",
      "Epoch: 82 | train_loss: 0.5922 | train_bal_acc: 0.8896 | train_mcc: 0.7933 | valid_loss: 0.3951 | valid_bal_acc: 0.9752 | valid_mcc: 0.9568\n",
      "Epoch: 83 | train_loss: 0.5846 | train_bal_acc: 0.8928 | train_mcc: 0.7992 | valid_loss: 0.3890 | valid_bal_acc: 0.9753 | valid_mcc: 0.9574\n",
      "Epoch: 84 | train_loss: 0.5819 | train_bal_acc: 0.8904 | train_mcc: 0.7960 | valid_loss: 0.3826 | valid_bal_acc: 0.9763 | valid_mcc: 0.9586\n",
      "Epoch: 85 | train_loss: 0.5753 | train_bal_acc: 0.8930 | train_mcc: 0.7994 | valid_loss: 0.3776 | valid_bal_acc: 0.9760 | valid_mcc: 0.9582\n",
      "Epoch: 86 | train_loss: 0.5718 | train_bal_acc: 0.8931 | train_mcc: 0.7996 | valid_loss: 0.3711 | valid_bal_acc: 0.9769 | valid_mcc: 0.9595\n",
      "Epoch: 87 | train_loss: 0.5663 | train_bal_acc: 0.8941 | train_mcc: 0.8017 | valid_loss: 0.3665 | valid_bal_acc: 0.9771 | valid_mcc: 0.9601\n",
      "Epoch: 88 | train_loss: 0.5713 | train_bal_acc: 0.8923 | train_mcc: 0.7988 | valid_loss: 0.3611 | valid_bal_acc: 0.9777 | valid_mcc: 0.9609\n",
      "Epoch: 89 | train_loss: 0.5628 | train_bal_acc: 0.8935 | train_mcc: 0.8000 | valid_loss: 0.3561 | valid_bal_acc: 0.9778 | valid_mcc: 0.9613\n",
      "Epoch: 90 | train_loss: 0.5582 | train_bal_acc: 0.8971 | train_mcc: 0.8070 | valid_loss: 0.3513 | valid_bal_acc: 0.9784 | valid_mcc: 0.9620\n",
      "Epoch: 91 | train_loss: 0.5486 | train_bal_acc: 0.8986 | train_mcc: 0.8102 | valid_loss: 0.3466 | valid_bal_acc: 0.9791 | valid_mcc: 0.9630\n",
      "Epoch: 92 | train_loss: 0.5458 | train_bal_acc: 0.8978 | train_mcc: 0.8082 | valid_loss: 0.3415 | valid_bal_acc: 0.9792 | valid_mcc: 0.9632\n",
      "Epoch: 93 | train_loss: 0.5417 | train_bal_acc: 0.8989 | train_mcc: 0.8100 | valid_loss: 0.3368 | valid_bal_acc: 0.9794 | valid_mcc: 0.9635\n",
      "Epoch: 94 | train_loss: 0.5408 | train_bal_acc: 0.8978 | train_mcc: 0.8087 | valid_loss: 0.3329 | valid_bal_acc: 0.9793 | valid_mcc: 0.9632\n",
      "Epoch: 95 | train_loss: 0.5399 | train_bal_acc: 0.8990 | train_mcc: 0.8096 | valid_loss: 0.3287 | valid_bal_acc: 0.9797 | valid_mcc: 0.9639\n",
      "Epoch: 96 | train_loss: 0.5331 | train_bal_acc: 0.9012 | train_mcc: 0.8140 | valid_loss: 0.3241 | valid_bal_acc: 0.9792 | valid_mcc: 0.9637\n",
      "Epoch: 97 | train_loss: 0.5363 | train_bal_acc: 0.8985 | train_mcc: 0.8090 | valid_loss: 0.3204 | valid_bal_acc: 0.9800 | valid_mcc: 0.9648\n",
      "Epoch: 98 | train_loss: 0.5269 | train_bal_acc: 0.9022 | train_mcc: 0.8160 | valid_loss: 0.3170 | valid_bal_acc: 0.9798 | valid_mcc: 0.9642\n",
      "Epoch: 99 | train_loss: 0.5236 | train_bal_acc: 0.9019 | train_mcc: 0.8156 | valid_loss: 0.3128 | valid_bal_acc: 0.9805 | valid_mcc: 0.9653\n",
      "Epoch: 100 | train_loss: 0.5228 | train_bal_acc: 0.9033 | train_mcc: 0.8181 | valid_loss: 0.3087 | valid_bal_acc: 0.9808 | valid_mcc: 0.9660\n"
     ]
    }
   ],
   "source": [
    "results, _ = engine.train_with_early_stopping(model=model,\n",
    "                                                  train_dataloader=train_loader,\n",
    "                                                  valid_dataloader=val_loader,\n",
    "                                                  optimizer=optimizer,\n",
    "                                                  loss_fn=loss_fn,\n",
    "                                                  epochs=100,\n",
    "                                                  device=device)\n"
   ]
  },
  {
   "cell_type": "code",
   "execution_count": 422,
   "id": "8e394a60",
   "metadata": {},
   "outputs": [
    {
     "data": {
      "image/png": "[encoded data removed]",
      "text/plain": [
       "<Figure size 1500x700 with 2 Axes>"
      ]
     },
     "metadata": {},
     "output_type": "display_data"
    }
   ],
   "source": [
    "helper_functions.plot_loss_curves(results)\n",
    "plt.savefig('CNN1_SGD_BCEWithLogits.png')"
   ]
  },
  {
   "cell_type": "code",
   "execution_count": 423,
   "id": "228c82d1",
   "metadata": {},
   "outputs": [
    {
     "name": "stdout",
     "output_type": "stream",
     "text": [
      "Perfomance on held out test set\n",
      "Test loss: 0.3085727821418781 | Test bal acc 0.9790115988345441 | Test mcc 0.962980050915526 | Test_f_score 0.9825185267657397\n",
      "\n"
     ]
    }
   ],
   "source": [
    "from sklearn.metrics import balanced_accuracy_score, matthews_corrcoef, f1_score\n",
    "import torch.nn.functional as F\n",
    "\n",
    "\n",
    "model.eval()\n",
    "\n",
    "\n",
    "with torch.inference_mode():\n",
    "    all_predictions = []\n",
    "    all_true_labels = []\n",
    "    all_test_pred_prob=[]\n",
    "    \n",
    "    test_loss, test_bal_acc, test_mcc, test_f_score = 0, 0, 0, 0\n",
    "    for batch, (X, y_one_hot, y) in enumerate(test_loader):\n",
    "        # Send data to target device\n",
    "        X, y_one_hot, y = X.to(device),y_one_hot.to(device), y.to(device)\n",
    "\n",
    "        # 1. Forward pass\n",
    "        test_pred_logits = model(X)\n",
    "\n",
    "        # 2. Calculate and accumulate loss\n",
    "        loss = loss_fn(test_pred_logits, y_one_hot)\n",
    "        test_loss += loss.item()\n",
    "\n",
    "        # Calculate and accumulate scores\n",
    "        test_pred_labels = test_pred_logits.argmax(dim=1)\n",
    "        test_pred_prob = torch.softmax(test_pred_logits.squeeze(), dim=0) # note: perform softmax on the \"logits\" dimension, not \"batch\" dimension (in this case we have a batch size of 1, so can perform on dim=0)\n",
    "        test_bal_acc += balanced_accuracy_score(y.cpu().numpy(), test_pred_labels.cpu().numpy())\n",
    "        test_mcc += matthews_corrcoef(y.cpu().numpy(), test_pred_labels.cpu().numpy())\n",
    "        test_f_score += f1_score(y.cpu().numpy(), test_pred_labels.cpu().numpy(), average='weighted')\n",
    "        \n",
    "        all_predictions.extend(test_pred_labels.cpu().numpy())\n",
    "        all_true_labels.extend(y.cpu().numpy())\n",
    "        all_test_pred_prob.extend(test_pred_prob.cpu().numpy())\n",
    "\n",
    "    # Adjust metrics to get average loss and accuracy per batch\n",
    "    test_loss = test_loss / len(test_loader)\n",
    "    test_bal_acc = test_bal_acc / len(test_loader)\n",
    "    test_mcc = test_mcc / len(test_loader)\n",
    "    test_f_score = test_f_score / len(test_loader)\n",
    "    print(\"Perfomance on held out test set\")\n",
    "    print(f'Test loss: {test_loss} | Test bal acc {test_bal_acc} | Test mcc {test_mcc} | Test_f_score {test_f_score}\\n')   \n",
    "    "
   ]
  },
  {
   "cell_type": "markdown",
   "id": "e8c518d8",
   "metadata": {},
   "source": [
    "We can observe that the model is not overfiting since the perfomance on the held out test set is high"
   ]
  },
  {
   "cell_type": "code",
   "execution_count": 400,
   "id": "58014193",
   "metadata": {},
   "outputs": [],
   "source": [
    "from torch.utils.tensorboard import SummaryWriter\n",
    "# Create a writer with all default settings\n",
    "writer = SummaryWriter()"
   ]
  },
  {
   "cell_type": "code",
   "execution_count": null,
   "id": "51cd093a",
   "metadata": {},
   "outputs": [],
   "source": []
  }
 ],
 "metadata": {
  "kernelspec": {
   "display_name": "Python 3 (ipykernel)",
   "language": "python",
   "name": "python3"
  },
  "language_info": {
   "codemirror_mode": {
    "name": "ipython",
    "version": 3
   },
   "file_extension": ".py",
   "mimetype": "text/x-python",
   "name": "python",
   "nbconvert_exporter": "python",
   "pygments_lexer": "ipython3",
   "version": "3.11.5"
  }
 },
 "nbformat": 4,
 "nbformat_minor": 5
}
