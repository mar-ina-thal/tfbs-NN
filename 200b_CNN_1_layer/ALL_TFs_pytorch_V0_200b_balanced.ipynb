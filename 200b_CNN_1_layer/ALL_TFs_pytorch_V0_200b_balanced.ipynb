{
 "cells": [
  {
   "cell_type": "markdown",
   "id": "e7eb3167",
   "metadata": {},
   "source": [
    "# Imports and functions"
   ]
  },
  {
   "cell_type": "code",
   "execution_count": 1,
   "id": "05d85633",
   "metadata": {},
   "outputs": [
    {
     "name": "stderr",
     "output_type": "stream",
     "text": [
      "2024-02-03 15:15:54.930679: I tensorflow/core/util/port.cc:113] oneDNN custom operations are on. You may see slightly different numerical results due to floating-point round-off errors from different computation orders. To turn them off, set the environment variable `TF_ENABLE_ONEDNN_OPTS=0`.\n",
      "2024-02-03 15:15:54.975972: E external/local_xla/xla/stream_executor/cuda/cuda_dnn.cc:9261] Unable to register cuDNN factory: Attempting to register factory for plugin cuDNN when one has already been registered\n",
      "2024-02-03 15:15:54.976006: E external/local_xla/xla/stream_executor/cuda/cuda_fft.cc:607] Unable to register cuFFT factory: Attempting to register factory for plugin cuFFT when one has already been registered\n",
      "2024-02-03 15:15:54.977427: E external/local_xla/xla/stream_executor/cuda/cuda_blas.cc:1515] Unable to register cuBLAS factory: Attempting to register factory for plugin cuBLAS when one has already been registered\n",
      "2024-02-03 15:15:54.984969: I tensorflow/core/platform/cpu_feature_guard.cc:182] This TensorFlow binary is optimized to use available CPU instructions in performance-critical operations.\n",
      "To enable the following instructions: AVX2 AVX512F AVX512_VNNI FMA, in other operations, rebuild TensorFlow with the appropriate compiler flags.\n",
      "2024-02-03 15:15:55.771168: W tensorflow/compiler/tf2tensorrt/utils/py_utils.cc:38] TF-TRT Warning: Could not find TensorRT\n"
     ]
    }
   ],
   "source": [
    "import pandas as pd\n",
    "import numpy as np\n",
    "from sklearn.preprocessing import OneHotEncoder\n",
    "from keras.utils import to_categorical\n",
    "from sklearn.metrics import balanced_accuracy_score\n",
    "\n"
   ]
  },
  {
   "cell_type": "code",
   "execution_count": 2,
   "id": "43a5887d",
   "metadata": {},
   "outputs": [],
   "source": [
    "import torchvision\n",
    "import engine\n",
    "import engine_boosted\n",
    "import engine_boosted_multi\n",
    "import helper_functions"
   ]
  },
  {
   "cell_type": "code",
   "execution_count": 3,
   "id": "59bde44a",
   "metadata": {},
   "outputs": [],
   "source": [
    "from tqdm.auto import tqdm\n",
    "from typing import Dict, List, Tuple\n",
    "from sklearn.metrics import balanced_accuracy_score, matthews_corrcoef, f1_score\n",
    "from collections import deque  # Import deque for early stopping\n",
    "import warnings\n",
    "\n",
    "# Suppress the specific UserWarning related to y_pred and y_true class mismatch\n",
    "warnings.filterwarnings(\"ignore\", category=UserWarning, message=\"y_pred contains classes not in y_true\")"
   ]
  },
  {
   "cell_type": "code",
   "execution_count": 4,
   "id": "faeaeafc",
   "metadata": {},
   "outputs": [],
   "source": [
    "from sklearn.metrics import balanced_accuracy_score\n",
    "\n",
    "# Function to calculate balanced accuracy using sklearn\n",
    "def balanced_accuracy(y_true, y_pred):\n",
    "    return balanced_accuracy_score(y_true, y_pred) * 100"
   ]
  },
  {
   "cell_type": "code",
   "execution_count": 5,
   "id": "6c000451",
   "metadata": {},
   "outputs": [],
   "source": [
    "# Function to perform one-hot encoding for DNA sequences\n",
    "def one_hot_encode(sequence):\n",
    "    encoding = {'A': [1, 0, 0, 0], 'T': [0, 1, 0, 0], 'G': [0, 0, 1, 0], 'C': [0, 0, 0, 1]}\n",
    "    one_hot_sequence = [encoding.get(base, [0, 0, 0, 0]) for base in sequence]\n",
    "    return np.array(one_hot_sequence)"
   ]
  },
  {
   "cell_type": "code",
   "execution_count": 6,
   "id": "d981b1bf",
   "metadata": {},
   "outputs": [],
   "source": [
    "kernel = {\n",
    "    'ATF2': [10] ,\n",
    "    'ATF3' : [10] ,\n",
    "    'CEBPB' : [10] ,\n",
    "    'CREB1' : [8] ,\n",
    "    'CTCF' : [15] ,\n",
    "    'E2F4' : [13] ,\n",
    "    'EGR1' : [10] ,\n",
    "    'EFL1' : [9] ,\n",
    "    'ELK1' : [9] ,\n",
    "    'FOS' : [8] ,\n",
    "    'FOXA1' : [8] ,\n",
    "    'GABPA' : [10] ,\n",
    "    'JUN' : [14] ,\n",
    "    'JUND' : [11] ,\n",
    "    'MAFK' : [10] ,\n",
    "    'MAX' : [6] ,\n",
    "    'MAZ' : [8] ,\n",
    "    'MXI1' : [6] ,\n",
    "    'MYC' : [8] ,\n",
    "    'NRF1' : [11] ,\n",
    "    'RELA' : [10] ,\n",
    "    'REST' : [20] ,\n",
    "    'RFX5' : [14] ,\n",
    "    'SP1' : [9] ,\n",
    "    'SRF' : [16] ,\n",
    "    'TCF7L2' : [9] ,\n",
    "    'TCF12' : [7] ,\n",
    "    'TEAD4' : [8] ,\n",
    "    'USF1' : [10] ,\n",
    "    'USF2' : [10] ,\n",
    "    'YY1' : [12] ,\n",
    "    'ZBTB33' : [10] ,\n",
    "    'ZNF274' : [12]\n",
    "}"
   ]
  },
  {
   "cell_type": "code",
   "execution_count": 7,
   "id": "11b36fc7",
   "metadata": {},
   "outputs": [],
   "source": [
    "tf_class = {\n",
    "    'ATF2': 0,\n",
    "    'ATF3': 1,\n",
    "    'CEBPB': 2,\n",
    "    'CREB1': 3,\n",
    "    'CTCF': 4,\n",
    "    'E2F4': 5,\n",
    "    'EGR1': 6,\n",
    "    'EFL1': 7,\n",
    "    'ELK1': 8,\n",
    "    'FOS': 9,\n",
    "    'FOXA1': 10,\n",
    "    'GABPA': 11,\n",
    "    'JUN': 12,\n",
    "    'JUND': 13,\n",
    "    'MAFK': 14,\n",
    "    'MAX': 15,\n",
    "    'MAZ': 16,\n",
    "    'MXI1': 17,\n",
    "    'MYC': 18,\n",
    "    'NRF1': 19,\n",
    "    'RELA': 20,\n",
    "    'REST': 21,\n",
    "    'RFX5': 22,\n",
    "    'SP1': 23,\n",
    "    'SRF': 24,\n",
    "    'TCF7L2': 25,\n",
    "    'TCF12': 26,\n",
    "    'TEAD4': 27,\n",
    "    'USF1': 28,\n",
    "    'USF2': 29,\n",
    "    'YY1': 30,\n",
    "    'ZBTB33': 31,\n",
    "    'ZNF274': 32\n",
    "}"
   ]
  },
  {
   "cell_type": "markdown",
   "id": "4f102ecb",
   "metadata": {},
   "source": [
    "# Set up device agnostic code"
   ]
  },
  {
   "cell_type": "code",
   "execution_count": 8,
   "id": "12cee86f",
   "metadata": {},
   "outputs": [
    {
     "data": {
      "text/plain": [
       "'cpu'"
      ]
     },
     "execution_count": 8,
     "metadata": {},
     "output_type": "execute_result"
    }
   ],
   "source": [
    "import torch\n",
    "from torch import nn\n",
    "# Make device agnostic code\n",
    "device = \"cuda\" if torch.cuda.is_available() else \"cpu\"\n",
    "device"
   ]
  },
  {
   "cell_type": "code",
   "execution_count": 9,
   "id": "c9939f1e",
   "metadata": {},
   "outputs": [
    {
     "name": "stdout",
     "output_type": "stream",
     "text": [
      "File not found for TF: RCOR1\n",
      "Combined data saved to /mnt/raid1/thalassini/home/tf_data/combined_6_data.csv\n"
     ]
    }
   ],
   "source": [
    "import pandas as pd\n",
    "\n",
    "# Read the list of TFs from the file\n",
    "tf_list_path = '/mnt/raid1/thalassini/home/Downloads/target_names_6.txt'\n",
    "with open(tf_list_path, 'r') as file:\n",
    "    tf_list = file.read().splitlines()\n",
    "\n",
    "# Define the directory where the CSV files for each TF are located\n",
    "base_directory = '/mnt/raid1/thalassini/home/filtered_fimo_chrom_200/'\n",
    "\n",
    "# Combine data for each TF and write to a single CSV file\n",
    "for tf in tf_list:\n",
    "    file_path = f'{base_directory}{tf.upper()}/datasets/data.csv'\n",
    "    \n",
    "    try:\n",
    "        df = pd.read_csv(file_path)\n",
    "        \n",
    "        # Add a column to identify the TF\n",
    "        df['TF'] = tf\n",
    "        \n",
    "        # Append data to the master DataFrame or create it if it doesn't exist\n",
    "        if 'master_df' in locals():\n",
    "            master_df = pd.concat([master_df, df], ignore_index=True)\n",
    "        else:\n",
    "            master_df = df\n",
    "    except FileNotFoundError:\n",
    "        print(f\"File not found for TF: {tf}\")\n",
    "\n",
    "# Save the combined DataFrame to a new CSV file\n",
    "output_csv_path = '/mnt/raid1/thalassini/home/tf_data/combined_6_data.csv'\n",
    "master_df.to_csv(output_csv_path, index=False)\n",
    "\n",
    "print(f\"Combined data saved to {output_csv_path}\")\n"
   ]
  },
  {
   "cell_type": "code",
   "execution_count": 10,
   "id": "38ec5b8a",
   "metadata": {},
   "outputs": [
    {
     "data": {
      "text/html": [
       "<div>\n",
       "<style scoped>\n",
       "    .dataframe tbody tr th:only-of-type {\n",
       "        vertical-align: middle;\n",
       "    }\n",
       "\n",
       "    .dataframe tbody tr th {\n",
       "        vertical-align: top;\n",
       "    }\n",
       "\n",
       "    .dataframe thead th {\n",
       "        text-align: right;\n",
       "    }\n",
       "</style>\n",
       "<table border=\"1\" class=\"dataframe\">\n",
       "  <thead>\n",
       "    <tr style=\"text-align: right;\">\n",
       "      <th></th>\n",
       "      <th>chrom</th>\n",
       "      <th>data</th>\n",
       "      <th>class</th>\n",
       "      <th>TF</th>\n",
       "    </tr>\n",
       "  </thead>\n",
       "  <tbody>\n",
       "    <tr>\n",
       "      <th>0</th>\n",
       "      <td>chr1</td>\n",
       "      <td>CTCCTTTTTCCCCCTCTGCCACAACCTCTAAATACTGAGGGCCCCA...</td>\n",
       "      <td>1</td>\n",
       "      <td>ATF2</td>\n",
       "    </tr>\n",
       "    <tr>\n",
       "      <th>1</th>\n",
       "      <td>chr1</td>\n",
       "      <td>TATAGCAATCTGAATCCTTGTGCTAAACTTAATTGTCGTTGTCGTC...</td>\n",
       "      <td>1</td>\n",
       "      <td>ATF2</td>\n",
       "    </tr>\n",
       "    <tr>\n",
       "      <th>2</th>\n",
       "      <td>chr6</td>\n",
       "      <td>AAAACCAAAACAAGAAGTCGGTCTCCTCTTTTTATATAATAGTTTA...</td>\n",
       "      <td>1</td>\n",
       "      <td>ATF2</td>\n",
       "    </tr>\n",
       "    <tr>\n",
       "      <th>3</th>\n",
       "      <td>chr4</td>\n",
       "      <td>TTAGGTCATGCACACTGAACTGAAACTGAGATGAATGACATCATCA...</td>\n",
       "      <td>1</td>\n",
       "      <td>ATF2</td>\n",
       "    </tr>\n",
       "    <tr>\n",
       "      <th>4</th>\n",
       "      <td>chr11</td>\n",
       "      <td>GAACAGAGGCTCAGGCAGCTGAAGTAACGTGCCTAAGGTCACATGG...</td>\n",
       "      <td>1</td>\n",
       "      <td>ATF2</td>\n",
       "    </tr>\n",
       "    <tr>\n",
       "      <th>...</th>\n",
       "      <td>...</td>\n",
       "      <td>...</td>\n",
       "      <td>...</td>\n",
       "      <td>...</td>\n",
       "    </tr>\n",
       "    <tr>\n",
       "      <th>1204211</th>\n",
       "      <td>chr5</td>\n",
       "      <td>TCATACAGGTGAGAAACCCTACAAATGTAATGAGTGTGAAAAAACC...</td>\n",
       "      <td>0</td>\n",
       "      <td>ZNF274</td>\n",
       "    </tr>\n",
       "    <tr>\n",
       "      <th>1204212</th>\n",
       "      <td>chr19</td>\n",
       "      <td>ATTACACTTTCAAGGTTTCTCTCCACTATGAAGTCTATGATGGTAT...</td>\n",
       "      <td>0</td>\n",
       "      <td>ZNF274</td>\n",
       "    </tr>\n",
       "    <tr>\n",
       "      <th>1204213</th>\n",
       "      <td>chr19</td>\n",
       "      <td>TTACATTTGTAAGGCTTCTCTCCAGTATGGATGACCTGATGGGTAG...</td>\n",
       "      <td>0</td>\n",
       "      <td>ZNF274</td>\n",
       "    </tr>\n",
       "    <tr>\n",
       "      <th>1204214</th>\n",
       "      <td>chr1</td>\n",
       "      <td>TTCATACTGGAGAGAAACCCTACAAATGCAAAGAATGTTGCAAAGC...</td>\n",
       "      <td>0</td>\n",
       "      <td>ZNF274</td>\n",
       "    </tr>\n",
       "    <tr>\n",
       "      <th>1204215</th>\n",
       "      <td>chr19</td>\n",
       "      <td>ATTACATTTATAAGCTTTTTCTCCAGTATGAATTCTCCAATGATAT...</td>\n",
       "      <td>0</td>\n",
       "      <td>ZNF274</td>\n",
       "    </tr>\n",
       "  </tbody>\n",
       "</table>\n",
       "<p>1204216 rows × 4 columns</p>\n",
       "</div>"
      ],
      "text/plain": [
       "         chrom                                               data  class  \\\n",
       "0         chr1  CTCCTTTTTCCCCCTCTGCCACAACCTCTAAATACTGAGGGCCCCA...      1   \n",
       "1         chr1  TATAGCAATCTGAATCCTTGTGCTAAACTTAATTGTCGTTGTCGTC...      1   \n",
       "2         chr6  AAAACCAAAACAAGAAGTCGGTCTCCTCTTTTTATATAATAGTTTA...      1   \n",
       "3         chr4  TTAGGTCATGCACACTGAACTGAAACTGAGATGAATGACATCATCA...      1   \n",
       "4        chr11  GAACAGAGGCTCAGGCAGCTGAAGTAACGTGCCTAAGGTCACATGG...      1   \n",
       "...        ...                                                ...    ...   \n",
       "1204211   chr5  TCATACAGGTGAGAAACCCTACAAATGTAATGAGTGTGAAAAAACC...      0   \n",
       "1204212  chr19  ATTACACTTTCAAGGTTTCTCTCCACTATGAAGTCTATGATGGTAT...      0   \n",
       "1204213  chr19  TTACATTTGTAAGGCTTCTCTCCAGTATGGATGACCTGATGGGTAG...      0   \n",
       "1204214   chr1  TTCATACTGGAGAGAAACCCTACAAATGCAAAGAATGTTGCAAAGC...      0   \n",
       "1204215  chr19  ATTACATTTATAAGCTTTTTCTCCAGTATGAATTCTCCAATGATAT...      0   \n",
       "\n",
       "             TF  \n",
       "0          ATF2  \n",
       "1          ATF2  \n",
       "2          ATF2  \n",
       "3          ATF2  \n",
       "4          ATF2  \n",
       "...         ...  \n",
       "1204211  ZNF274  \n",
       "1204212  ZNF274  \n",
       "1204213  ZNF274  \n",
       "1204214  ZNF274  \n",
       "1204215  ZNF274  \n",
       "\n",
       "[1204216 rows x 4 columns]"
      ]
     },
     "execution_count": 10,
     "metadata": {},
     "output_type": "execute_result"
    }
   ],
   "source": [
    "master_df"
   ]
  },
  {
   "cell_type": "code",
   "execution_count": 11,
   "id": "cee66340",
   "metadata": {},
   "outputs": [
    {
     "name": "stdout",
     "output_type": "stream",
     "text": [
      "Unique values in 'TF' column before mapping: ['ATF2' 'ATF3' 'CEBPB' 'CREB1' 'CTCF' 'E2F4' 'EGR1' 'ELF1' 'ELK1' 'FOS'\n",
      " 'FOXA1' 'GABPA' 'JUN' 'JUND' 'MAFK' 'MAX' 'MAZ' 'MXI1' 'MYC' 'NRF1'\n",
      " 'RELA' 'REST' 'RFX5' 'SP1' 'SRF' 'TCF12' 'TCF7L2' 'TEAD4' 'USF1' 'USF2'\n",
      " 'YY1' 'ZBTB33' 'ZNF274']\n"
     ]
    }
   ],
   "source": [
    "print(\"Unique values in 'TF' column before mapping:\", master_df['TF'].unique())\n"
   ]
  },
  {
   "cell_type": "code",
   "execution_count": 12,
   "id": "939edc98",
   "metadata": {},
   "outputs": [
    {
     "name": "stderr",
     "output_type": "stream",
     "text": [
      "/tmp/ipykernel_604784/3393081513.py:8: SettingWithCopyWarning: \n",
      "A value is trying to be set on a copy of a slice from a DataFrame.\n",
      "Try using .loc[row_indexer,col_indexer] = value instead\n",
      "\n",
      "See the caveats in the documentation: https://pandas.pydata.org/pandas-docs/stable/user_guide/indexing.html#returning-a-view-versus-a-copy\n",
      "  master_df['TF'] = master_df['TF'].astype(int)\n"
     ]
    },
    {
     "data": {
      "text/html": [
       "<div>\n",
       "<style scoped>\n",
       "    .dataframe tbody tr th:only-of-type {\n",
       "        vertical-align: middle;\n",
       "    }\n",
       "\n",
       "    .dataframe tbody tr th {\n",
       "        vertical-align: top;\n",
       "    }\n",
       "\n",
       "    .dataframe thead th {\n",
       "        text-align: right;\n",
       "    }\n",
       "</style>\n",
       "<table border=\"1\" class=\"dataframe\">\n",
       "  <thead>\n",
       "    <tr style=\"text-align: right;\">\n",
       "      <th></th>\n",
       "      <th>chrom</th>\n",
       "      <th>data</th>\n",
       "      <th>class</th>\n",
       "      <th>TF</th>\n",
       "    </tr>\n",
       "  </thead>\n",
       "  <tbody>\n",
       "    <tr>\n",
       "      <th>0</th>\n",
       "      <td>chr1</td>\n",
       "      <td>CTCCTTTTTCCCCCTCTGCCACAACCTCTAAATACTGAGGGCCCCA...</td>\n",
       "      <td>1</td>\n",
       "      <td>0</td>\n",
       "    </tr>\n",
       "    <tr>\n",
       "      <th>1</th>\n",
       "      <td>chr1</td>\n",
       "      <td>TATAGCAATCTGAATCCTTGTGCTAAACTTAATTGTCGTTGTCGTC...</td>\n",
       "      <td>1</td>\n",
       "      <td>0</td>\n",
       "    </tr>\n",
       "    <tr>\n",
       "      <th>2</th>\n",
       "      <td>chr6</td>\n",
       "      <td>AAAACCAAAACAAGAAGTCGGTCTCCTCTTTTTATATAATAGTTTA...</td>\n",
       "      <td>1</td>\n",
       "      <td>0</td>\n",
       "    </tr>\n",
       "    <tr>\n",
       "      <th>3</th>\n",
       "      <td>chr4</td>\n",
       "      <td>TTAGGTCATGCACACTGAACTGAAACTGAGATGAATGACATCATCA...</td>\n",
       "      <td>1</td>\n",
       "      <td>0</td>\n",
       "    </tr>\n",
       "    <tr>\n",
       "      <th>4</th>\n",
       "      <td>chr11</td>\n",
       "      <td>GAACAGAGGCTCAGGCAGCTGAAGTAACGTGCCTAAGGTCACATGG...</td>\n",
       "      <td>1</td>\n",
       "      <td>0</td>\n",
       "    </tr>\n",
       "    <tr>\n",
       "      <th>...</th>\n",
       "      <td>...</td>\n",
       "      <td>...</td>\n",
       "      <td>...</td>\n",
       "      <td>...</td>\n",
       "    </tr>\n",
       "    <tr>\n",
       "      <th>1204211</th>\n",
       "      <td>chr5</td>\n",
       "      <td>TCATACAGGTGAGAAACCCTACAAATGTAATGAGTGTGAAAAAACC...</td>\n",
       "      <td>0</td>\n",
       "      <td>32</td>\n",
       "    </tr>\n",
       "    <tr>\n",
       "      <th>1204212</th>\n",
       "      <td>chr19</td>\n",
       "      <td>ATTACACTTTCAAGGTTTCTCTCCACTATGAAGTCTATGATGGTAT...</td>\n",
       "      <td>0</td>\n",
       "      <td>32</td>\n",
       "    </tr>\n",
       "    <tr>\n",
       "      <th>1204213</th>\n",
       "      <td>chr19</td>\n",
       "      <td>TTACATTTGTAAGGCTTCTCTCCAGTATGGATGACCTGATGGGTAG...</td>\n",
       "      <td>0</td>\n",
       "      <td>32</td>\n",
       "    </tr>\n",
       "    <tr>\n",
       "      <th>1204214</th>\n",
       "      <td>chr1</td>\n",
       "      <td>TTCATACTGGAGAGAAACCCTACAAATGCAAAGAATGTTGCAAAGC...</td>\n",
       "      <td>0</td>\n",
       "      <td>32</td>\n",
       "    </tr>\n",
       "    <tr>\n",
       "      <th>1204215</th>\n",
       "      <td>chr19</td>\n",
       "      <td>ATTACATTTATAAGCTTTTTCTCCAGTATGAATTCTCCAATGATAT...</td>\n",
       "      <td>0</td>\n",
       "      <td>32</td>\n",
       "    </tr>\n",
       "  </tbody>\n",
       "</table>\n",
       "<p>1187016 rows × 4 columns</p>\n",
       "</div>"
      ],
      "text/plain": [
       "         chrom                                               data  class  TF\n",
       "0         chr1  CTCCTTTTTCCCCCTCTGCCACAACCTCTAAATACTGAGGGCCCCA...      1   0\n",
       "1         chr1  TATAGCAATCTGAATCCTTGTGCTAAACTTAATTGTCGTTGTCGTC...      1   0\n",
       "2         chr6  AAAACCAAAACAAGAAGTCGGTCTCCTCTTTTTATATAATAGTTTA...      1   0\n",
       "3         chr4  TTAGGTCATGCACACTGAACTGAAACTGAGATGAATGACATCATCA...      1   0\n",
       "4        chr11  GAACAGAGGCTCAGGCAGCTGAAGTAACGTGCCTAAGGTCACATGG...      1   0\n",
       "...        ...                                                ...    ...  ..\n",
       "1204211   chr5  TCATACAGGTGAGAAACCCTACAAATGTAATGAGTGTGAAAAAACC...      0  32\n",
       "1204212  chr19  ATTACACTTTCAAGGTTTCTCTCCACTATGAAGTCTATGATGGTAT...      0  32\n",
       "1204213  chr19  TTACATTTGTAAGGCTTCTCTCCAGTATGGATGACCTGATGGGTAG...      0  32\n",
       "1204214   chr1  TTCATACTGGAGAGAAACCCTACAAATGCAAAGAATGTTGCAAAGC...      0  32\n",
       "1204215  chr19  ATTACATTTATAAGCTTTTTCTCCAGTATGAATTCTCCAATGATAT...      0  32\n",
       "\n",
       "[1187016 rows x 4 columns]"
      ]
     },
     "execution_count": 12,
     "metadata": {},
     "output_type": "execute_result"
    }
   ],
   "source": [
    "\n",
    "# Apply the mapping to the 'TF' column\n",
    "master_df['TF'] = master_df['TF'].map(tf_class)\n",
    "\n",
    "# Drop rows with NaN values in the 'TF' column\n",
    "master_df = master_df.dropna(subset=['TF'])\n",
    "\n",
    "# Convert the 'TF' column to integers\n",
    "master_df['TF'] = master_df['TF'].astype(int)\n",
    "master_df"
   ]
  },
  {
   "cell_type": "markdown",
   "id": "fd9c1045",
   "metadata": {},
   "source": [
    "# Sequence length inspection and normalization"
   ]
  },
  {
   "cell_type": "code",
   "execution_count": 13,
   "id": "d33c9269",
   "metadata": {},
   "outputs": [
    {
     "name": "stdout",
     "output_type": "stream",
     "text": [
      "Max length:200, Min length: 200\n"
     ]
    },
    {
     "data": {
      "image/png": "[encoded data removed]",
      "text/plain": [
       "<Figure size 640x480 with 1 Axes>"
      ]
     },
     "metadata": {},
     "output_type": "display_data"
    }
   ],
   "source": [
    "lengths= [len(item) for item in df['data']] \n",
    "print(f'Max length:{max(lengths)}, Min length: {min(lengths)}')\n",
    "import matplotlib.pyplot as plt\n",
    "# Plotting the histogram\n",
    "plt.hist(lengths, bins=10, color='blue', edgecolor='black')\n",
    "plt.title('Histogram of Lengths')\n",
    "plt.xlabel('Length')\n",
    "plt.ylabel('Frequency')\n",
    "plt.show()"
   ]
  },
  {
   "cell_type": "code",
   "execution_count": 14,
   "id": "292502f4",
   "metadata": {},
   "outputs": [],
   "source": [
    "# Find the maximum length of sequences\n",
    "#min_length = min(len(seq) for seq in df['data'])\n",
    "limit=200\n",
    "\n",
    "\n",
    "# Pad or cut sequences to ensure they all have the same length\n",
    "cut_sequences = [seq[:limit] for seq in df['data']]\n",
    "\n",
    "# Update the DataFrame with the cut sequences\n",
    "#df['data'] = cut_sequences"
   ]
  },
  {
   "cell_type": "code",
   "execution_count": 15,
   "id": "84f394a8",
   "metadata": {},
   "outputs": [
    {
     "name": "stdout",
     "output_type": "stream",
     "text": [
      "Max length:200, Min length: 200\n"
     ]
    }
   ],
   "source": [
    "lengths= [len(item) for item in cut_sequences]\n",
    "print(f'Max length:{max(lengths)}, Min length: {min(lengths)}')"
   ]
  },
  {
   "cell_type": "markdown",
   "id": "9b65d644",
   "metadata": {},
   "source": [
    "# Define X,y variables"
   ]
  },
  {
   "cell_type": "code",
   "execution_count": 16,
   "id": "f9e96a80",
   "metadata": {},
   "outputs": [],
   "source": [
    "X=[one_hot_encode(sequence) for sequence in cut_sequences]"
   ]
  },
  {
   "cell_type": "code",
   "execution_count": 17,
   "id": "2ab32859",
   "metadata": {},
   "outputs": [],
   "source": [
    "X = torch.from_numpy(np.array(X)).type(torch.float)\n"
   ]
  },
  {
   "cell_type": "code",
   "execution_count": 18,
   "id": "0bf2a817",
   "metadata": {},
   "outputs": [
    {
     "data": {
      "text/plain": [
       "torch.Size([6450, 200, 4])"
      ]
     },
     "execution_count": 18,
     "metadata": {},
     "output_type": "execute_result"
    }
   ],
   "source": [
    "X.shape"
   ]
  },
  {
   "cell_type": "code",
   "execution_count": 19,
   "id": "9aec20e4",
   "metadata": {},
   "outputs": [
    {
     "data": {
      "text/plain": [
       "array([1, 1, 1])"
      ]
     },
     "execution_count": 19,
     "metadata": {},
     "output_type": "execute_result"
    }
   ],
   "source": [
    "#y=np.array(df['TF'])\n",
    "y=np.array(df['class'])\n",
    "\n",
    "y[:3]"
   ]
  },
  {
   "cell_type": "code",
   "execution_count": 20,
   "id": "b9399dc8",
   "metadata": {},
   "outputs": [],
   "source": [
    "y = torch.from_numpy(y).type(torch.float)"
   ]
  },
  {
   "cell_type": "markdown",
   "id": "cd869133",
   "metadata": {},
   "source": [
    "# Split the data in train, val and test set"
   ]
  },
  {
   "cell_type": "code",
   "execution_count": 21,
   "id": "f4a1304f",
   "metadata": {},
   "outputs": [
    {
     "name": "stdout",
     "output_type": "stream",
     "text": [
      "4128 4128 1032 1032\n",
      "1290 1290\n"
     ]
    }
   ],
   "source": [
    "from sklearn.model_selection import train_test_split\n",
    "from sklearn.model_selection import StratifiedShuffleSplit\n",
    "\n",
    "\n",
    "\n",
    "# Split the data into a stratified hold-out validation set and the rest\n",
    "stratified_splitter = StratifiedShuffleSplit(n_splits=1, test_size=0.2, random_state=42)\n",
    "\n",
    "for train_val_index, test_index in stratified_splitter.split(X, y):\n",
    "    X_train_val, X_test = X[train_val_index], X[test_index]\n",
    "    y_train_val, y_test = y[train_val_index], y[test_index]\n",
    "\n",
    "# Split the remaining data into training and validation sets\n",
    "X_train, X_val, y_train, y_val = train_test_split(X_train_val, y_train_val, test_size=0.2, stratify=y_train_val, random_state=42)\n",
    "\n",
    "print(len(X_train), len(y_train), len(X_val), len(y_val))\n",
    "print(len(X_test), len(y_test))\n",
    "\n",
    "\n",
    "# (X_train, X_val, y_train, y_val) for training, validation\n",
    "# X_test, y_test for the final hold-out validation.\n",
    "\n",
    "#X_train, X_val, X_test = torch.from_numpy(X_train).type(torch.float),torch.from_numpy(X_val).type(torch.float), torch.from_numpy(X_test).type(torch.float)\n",
    "\n"
   ]
  },
  {
   "cell_type": "markdown",
   "id": "002ed2cf",
   "metadata": {},
   "source": [
    "# Create datasets and Dataloaders"
   ]
  },
  {
   "cell_type": "code",
   "execution_count": 22,
   "id": "18eb7a94",
   "metadata": {},
   "outputs": [
    {
     "name": "stdout",
     "output_type": "stream",
     "text": [
      "4128 4128\n"
     ]
    }
   ],
   "source": [
    "from torch.utils.data import DataLoader, TensorDataset\n",
    "torch.manual_seed(42)\n",
    "\n",
    "\n",
    "# Expand the dimensions of y to make it 2-dimensional\n",
    "y_train = y_train.view(-1, 1)\n",
    "y_test = y_test.view(-1,1)\n",
    "y_val = y_val.view(-1,1)\n",
    "# Concatenate the complement of y to create a 2-dimensional tensor\n",
    "\n",
    "y_train_one_hot = torch.cat([1 - y_train, y_train], dim=1).float()\n",
    "y_test_one_hot = torch.cat([1 - y_test, y_test], dim=1).float()\n",
    "y_val_one_hot = torch.cat([1 - y_val, y_val], dim=1).float()\n",
    "\n",
    "\n",
    "# Move tensors to the same device\n",
    "X_train,y_train_one_hot, y_train = X_train.to(device), y_train_one_hot.to(device), y_train.to(device)\n",
    "X_val, y_val_one_hot, y_val = X_val.to(device), y_val_one_hot.to(device), y_val.to(device)\n",
    "X_test, y_test_one_hot, y_test = X_test.to(device),  y_test_one_hot.to(device), y_test.to(device)\n",
    "\n",
    "\n",
    "print(X_train.size(0),  y_train.size(0))\n",
    "\n",
    "# Create datasets\n",
    "train_dataset = TensorDataset(X_train, y_train_one_hot, y_train)\n",
    "val_dataset = TensorDataset(X_val, y_val_one_hot, y_val)\n",
    "test_dataset = TensorDataset(X_test, y_test_one_hot, y_test)\n",
    "\n"
   ]
  },
  {
   "cell_type": "code",
   "execution_count": 23,
   "id": "44fc5e58",
   "metadata": {},
   "outputs": [],
   "source": [
    "\n",
    "batch_size=64\n",
    "torch.manual_seed(42)\n",
    "\n",
    "# Convert to PyTorch DataLoader\n",
    "train_loader = DataLoader(train_dataset, batch_size=batch_size, shuffle=True)\n",
    "val_loader = DataLoader(val_dataset, batch_size=batch_size, shuffle=True)\n",
    "test_loader = DataLoader(test_dataset, batch_size=batch_size, shuffle=True)"
   ]
  },
  {
   "cell_type": "markdown",
   "id": "d20e4bb7",
   "metadata": {},
   "source": [
    "# Construct a 1 layer CNN with Maxpooling and Dropout"
   ]
  },
  {
   "cell_type": "code",
   "execution_count": 24,
   "id": "9c0dfed6",
   "metadata": {},
   "outputs": [],
   "source": [
    "class Conv_v0(torch.nn.Module):\n",
    "\n",
    "    def __init__(self):\n",
    "        super(Conv_v0, self).__init__()\n",
    "\n",
    "        self.conv1 = torch.nn.Conv1d(in_channels=4, out_channels=5, kernel_size=17)\n",
    "        self.activation = torch.nn.ReLU()\n",
    "        self.maxpool = torch.nn.MaxPool1d(kernel_size=2)\n",
    "        \n",
    "        self.dropout = torch.nn.Dropout(p=0.25) \n",
    "        #in_features = 108 for 200kb, 588 for 1kb, 1188 for 2kb\n",
    "        self.fc =  torch.nn.LazyLinear(out_features=2)\n",
    "        #self.sigmoid = torch.nn.Sigmoid() will not be used since its intergraded in BCEWithLogitsLoss()\n",
    "        #self.softmax = nn.Softmax(dim=1)\n",
    "\n",
    "    def forward(self, x):\n",
    "        x= x.permute(0, 2, 1)\n",
    "        x = self.conv1(x)\n",
    "        x = self.activation(x)\n",
    "        x = self.maxpool(x)\n",
    "        \n",
    "        # Reshape the output of the max pooling layer before passing it to the fully connected layer\n",
    "        x = x.view(x.size(0), -1)\n",
    "        \n",
    "        #print(\"Size after reshaping:\", x.size())\n",
    "        x=self.dropout(x)\n",
    "        x = self.fc(x)\n",
    "        #x = self.softmax(x)\n",
    "        #x = self.sigmoid(x)\n",
    "        return x\n"
   ]
  },
  {
   "cell_type": "markdown",
   "id": "2e8a6635",
   "metadata": {},
   "source": [
    "# Computing class weights"
   ]
  },
  {
   "cell_type": "code",
   "execution_count": 25,
   "id": "fe54bd0e",
   "metadata": {},
   "outputs": [
    {
     "data": {
      "text/plain": [
       "'\\nfrom torch.utils.data import DataLoader, TensorDataset\\nfrom sklearn.utils.class_weight import compute_class_weight\\n\\n# Assuming we have defined dataset\\n# train_dataset = TensorDataset(X_train, y_train_one_hot, y_train)\\n\\n# Extract the labels from the dataset\\n_, _, y_train = zip(*train_dataset)\\n\\n# Count occurrences of each class\\nclass_0_count = sum(1 for label in y_train if label == 0)\\nclass_1_count = sum(1 for label in y_train if label == 1)\\n\\n# Total length of y_train\\ntotal_samples = len(y_train)\\n\\n# Calculate class weights\\nweights = [total_samples / class_0_count, total_samples / class_1_count]\\n\\n# Print the list of class weights\\nprint(\"Class Weights List:\", weights)\\n\\n\\n'"
      ]
     },
     "execution_count": 25,
     "metadata": {},
     "output_type": "execute_result"
    }
   ],
   "source": [
    "\"\"\"\n",
    "from torch.utils.data import DataLoader, TensorDataset\n",
    "from sklearn.utils.class_weight import compute_class_weight\n",
    "\n",
    "# Assuming we have defined dataset\n",
    "# train_dataset = TensorDataset(X_train, y_train_one_hot, y_train)\n",
    "\n",
    "# Extract the labels from the dataset\n",
    "_, _, y_train = zip(*train_dataset)\n",
    "\n",
    "# Count occurrences of each class\n",
    "class_0_count = sum(1 for label in y_train if label == 0)\n",
    "class_1_count = sum(1 for label in y_train if label == 1)\n",
    "\n",
    "# Total length of y_train\n",
    "total_samples = len(y_train)\n",
    "\n",
    "# Calculate class weights\n",
    "weights = [total_samples / class_0_count, total_samples / class_1_count]\n",
    "\n",
    "# Print the list of class weights\n",
    "print(\"Class Weights List:\", weights)\n",
    "\n",
    "\n",
    "\"\"\""
   ]
  },
  {
   "cell_type": "markdown",
   "id": "40b134d4",
   "metadata": {},
   "source": [
    "# Set up loss function and optimizer"
   ]
  },
  {
   "cell_type": "code",
   "execution_count": 26,
   "id": "948d9087",
   "metadata": {},
   "outputs": [],
   "source": [
    "from torch.optim import lr_scheduler\n",
    "#weights = torch.tensor(weights).to(device)\n",
    "#print(weights)"
   ]
  },
  {
   "cell_type": "code",
   "execution_count": 27,
   "id": "30cf0daa",
   "metadata": {},
   "outputs": [
    {
     "name": "stderr",
     "output_type": "stream",
     "text": [
      "/mnt/raid1/thalassini/home/anaconda3/lib/python3.11/site-packages/torch/nn/modules/lazy.py:180: UserWarning: Lazy modules are a new feature under heavy development so changes to the API or functionality can happen at any moment.\n",
      "  warnings.warn('Lazy modules are a new feature under heavy development '\n"
     ]
    }
   ],
   "source": [
    "torch.manual_seed(42)\n",
    "\n",
    "# Initialize model instance\n",
    "model = Conv_v0()\n",
    "\n",
    "#loss_fn = nn.BCEWithLogitsLoss(weight=weights)\n",
    "loss_fn = nn.BCEWithLogitsLoss()\n",
    "\n",
    "# Define oprimizer\n",
    "optimizer = torch.optim.Adam(model.parameters(), lr=0.0001)\n",
    "\n",
    "# Define exponetntial lr with lr_scheduler\n",
    "exp_lr_scheduler = lr_scheduler.ExponentialLR(optimizer, gamma=0.01)"
   ]
  },
  {
   "cell_type": "code",
   "execution_count": 28,
   "id": "e1d337c9",
   "metadata": {},
   "outputs": [
    {
     "data": {
      "text/plain": [
       "tensor([[-0.1138,  0.0535],\n",
       "        [-0.0691,  0.2093],\n",
       "        [-0.2030,  0.0951],\n",
       "        [-0.0292,  0.1903],\n",
       "        [-0.2808,  0.2974]], grad_fn=<SliceBackward0>)"
      ]
     },
     "execution_count": 28,
     "metadata": {},
     "output_type": "execute_result"
    }
   ],
   "source": [
    "# View the frist 5 outputs of the forward pass on the test data\n",
    "y_logits = model(X_test.to(device))[:5]\n",
    "y_logits"
   ]
  },
  {
   "cell_type": "code",
   "execution_count": 29,
   "id": "4cfca526",
   "metadata": {},
   "outputs": [],
   "source": [
    "# Check number of classes in the model\n",
    "num_classes_model = model.fc.out_features  # Adjust accordingly\n"
   ]
  },
  {
   "cell_type": "code",
   "execution_count": 30,
   "id": "e4f7a029",
   "metadata": {},
   "outputs": [
    {
     "data": {
      "text/plain": [
       "2"
      ]
     },
     "execution_count": 30,
     "metadata": {},
     "output_type": "execute_result"
    }
   ],
   "source": [
    "num_classes_model"
   ]
  },
  {
   "cell_type": "code",
   "execution_count": 31,
   "id": "fdfb5e26",
   "metadata": {
    "scrolled": true
   },
   "outputs": [
    {
     "data": {
      "application/vnd.jupyter.widget-view+json": {
       "model_id": "27e30083690c4b1089487217e97a2794",
       "version_major": 2,
       "version_minor": 0
      },
      "text/plain": [
       "  0%|          | 0/800 [00:00<?, ?it/s]"
      ]
     },
     "metadata": {},
     "output_type": "display_data"
    },
    {
     "name": "stdout",
     "output_type": "stream",
     "text": [
      "Epoch: 1 | train_loss: 0.6932 | train_bal_acc: 0.5388 | train_mcc: 0.0780 | train_auroc: 0.5283  |  valid_loss: 0.6882 | valid_bal_acc: 0.5523 | valid_mcc: 0.1117  |  valid_auroc: 0.5949\n",
      "Epoch: 2 | train_loss: 0.6839 | train_bal_acc: 0.6013 | train_mcc: 0.2106 | train_auroc: 0.6200  |  valid_loss: 0.6757 | valid_bal_acc: 0.7168 | valid_mcc: 0.4328  |  valid_auroc: 0.7407\n",
      "Epoch: 3 | train_loss: 0.6706 | train_bal_acc: 0.6472 | train_mcc: 0.3170 | train_auroc: 0.7183  |  valid_loss: 0.6579 | valid_bal_acc: 0.7605 | valid_mcc: 0.5297  |  valid_auroc: 0.8243\n",
      "Epoch: 4 | train_loss: 0.6525 | train_bal_acc: 0.6942 | train_mcc: 0.4034 | train_auroc: 0.7750  |  valid_loss: 0.6369 | valid_bal_acc: 0.7846 | valid_mcc: 0.5672  |  valid_auroc: 0.8477\n",
      "Epoch: 5 | train_loss: 0.6297 | train_bal_acc: 0.7282 | train_mcc: 0.4635 | train_auroc: 0.8069  |  valid_loss: 0.6075 | valid_bal_acc: 0.8099 | valid_mcc: 0.6222  |  valid_auroc: 0.8599\n",
      "Epoch: 6 | train_loss: 0.6078 | train_bal_acc: 0.7515 | train_mcc: 0.5034 | train_auroc: 0.8180  |  valid_loss: 0.5823 | valid_bal_acc: 0.7876 | valid_mcc: 0.5774  |  valid_auroc: 0.8623\n",
      "Epoch: 7 | train_loss: 0.5857 | train_bal_acc: 0.7621 | train_mcc: 0.5253 | train_auroc: 0.8265  |  valid_loss: 0.5625 | valid_bal_acc: 0.8084 | valid_mcc: 0.6165  |  valid_auroc: 0.8652\n",
      "Epoch: 8 | train_loss: 0.5653 | train_bal_acc: 0.7706 | train_mcc: 0.5419 | train_auroc: 0.8333  |  valid_loss: 0.5390 | valid_bal_acc: 0.8163 | valid_mcc: 0.6287  |  valid_auroc: 0.8785\n",
      "Epoch: 9 | train_loss: 0.5509 | train_bal_acc: 0.7725 | train_mcc: 0.5455 | train_auroc: 0.8348  |  valid_loss: 0.5257 | valid_bal_acc: 0.8109 | valid_mcc: 0.6244  |  valid_auroc: 0.8593\n",
      "Epoch: 10 | train_loss: 0.5355 | train_bal_acc: 0.7775 | train_mcc: 0.5546 | train_auroc: 0.8380  |  valid_loss: 0.5047 | valid_bal_acc: 0.8218 | valid_mcc: 0.6499  |  valid_auroc: 0.8826\n",
      "Epoch: 11 | train_loss: 0.5264 | train_bal_acc: 0.7771 | train_mcc: 0.5533 | train_auroc: 0.8384  |  valid_loss: 0.4892 | valid_bal_acc: 0.8195 | valid_mcc: 0.6347  |  valid_auroc: 0.8816\n",
      "Epoch: 12 | train_loss: 0.5132 | train_bal_acc: 0.7852 | train_mcc: 0.5706 | train_auroc: 0.8453  |  valid_loss: 0.4747 | valid_bal_acc: 0.8243 | valid_mcc: 0.6506  |  valid_auroc: 0.8835\n",
      "Epoch: 13 | train_loss: 0.5024 | train_bal_acc: 0.7851 | train_mcc: 0.5701 | train_auroc: 0.8494  |  valid_loss: 0.4738 | valid_bal_acc: 0.8120 | valid_mcc: 0.6252  |  valid_auroc: 0.8828\n",
      "Epoch: 14 | train_loss: 0.4985 | train_bal_acc: 0.7856 | train_mcc: 0.5707 | train_auroc: 0.8483  |  valid_loss: 0.4674 | valid_bal_acc: 0.8089 | valid_mcc: 0.6173  |  valid_auroc: 0.8819\n",
      "Epoch: 15 | train_loss: 0.4921 | train_bal_acc: 0.7848 | train_mcc: 0.5720 | train_auroc: 0.8489  |  valid_loss: 0.4624 | valid_bal_acc: 0.8181 | valid_mcc: 0.6367  |  valid_auroc: 0.8834\n",
      "Epoch: 16 | train_loss: 0.4873 | train_bal_acc: 0.7954 | train_mcc: 0.5916 | train_auroc: 0.8515  |  valid_loss: 0.4579 | valid_bal_acc: 0.8101 | valid_mcc: 0.6236  |  valid_auroc: 0.8869\n",
      "Epoch: 17 | train_loss: 0.4818 | train_bal_acc: 0.7935 | train_mcc: 0.5888 | train_auroc: 0.8545  |  valid_loss: 0.4561 | valid_bal_acc: 0.8113 | valid_mcc: 0.6227  |  valid_auroc: 0.8766\n",
      "Epoch: 18 | train_loss: 0.4736 | train_bal_acc: 0.7920 | train_mcc: 0.5854 | train_auroc: 0.8604  |  valid_loss: 0.4375 | valid_bal_acc: 0.8298 | valid_mcc: 0.6536  |  valid_auroc: 0.8953\n",
      "Epoch: 19 | train_loss: 0.4742 | train_bal_acc: 0.7957 | train_mcc: 0.5930 | train_auroc: 0.8567  |  valid_loss: 0.4273 | valid_bal_acc: 0.8310 | valid_mcc: 0.6631  |  valid_auroc: 0.8957\n",
      "Epoch: 20 | train_loss: 0.4705 | train_bal_acc: 0.7875 | train_mcc: 0.5760 | train_auroc: 0.8586  |  valid_loss: 0.4277 | valid_bal_acc: 0.8344 | valid_mcc: 0.6736  |  valid_auroc: 0.8969\n",
      "Epoch: 21 | train_loss: 0.4642 | train_bal_acc: 0.7979 | train_mcc: 0.5960 | train_auroc: 0.8637  |  valid_loss: 0.4174 | valid_bal_acc: 0.8331 | valid_mcc: 0.6678  |  valid_auroc: 0.9002\n",
      "Epoch: 22 | train_loss: 0.4634 | train_bal_acc: 0.8000 | train_mcc: 0.6023 | train_auroc: 0.8641  |  valid_loss: 0.4370 | valid_bal_acc: 0.8296 | valid_mcc: 0.6465  |  valid_auroc: 0.9020\n",
      "Epoch: 23 | train_loss: 0.4623 | train_bal_acc: 0.7934 | train_mcc: 0.5878 | train_auroc: 0.8620  |  valid_loss: 0.4187 | valid_bal_acc: 0.8292 | valid_mcc: 0.6599  |  valid_auroc: 0.9019\n",
      "Epoch: 24 | train_loss: 0.4582 | train_bal_acc: 0.7992 | train_mcc: 0.5996 | train_auroc: 0.8677  |  valid_loss: 0.4133 | valid_bal_acc: 0.8298 | valid_mcc: 0.6637  |  valid_auroc: 0.9031\n",
      "Epoch: 25 | train_loss: 0.4539 | train_bal_acc: 0.8014 | train_mcc: 0.6047 | train_auroc: 0.8691  |  valid_loss: 0.4243 | valid_bal_acc: 0.8199 | valid_mcc: 0.6436  |  valid_auroc: 0.8954\n",
      "Epoch: 26 | train_loss: 0.4535 | train_bal_acc: 0.7974 | train_mcc: 0.5972 | train_auroc: 0.8723  |  valid_loss: 0.4083 | valid_bal_acc: 0.8357 | valid_mcc: 0.6752  |  valid_auroc: 0.9002\n",
      "Epoch: 27 | train_loss: 0.4529 | train_bal_acc: 0.8038 | train_mcc: 0.6071 | train_auroc: 0.8676  |  valid_loss: 0.4151 | valid_bal_acc: 0.8307 | valid_mcc: 0.6568  |  valid_auroc: 0.8990\n",
      "Epoch: 28 | train_loss: 0.4462 | train_bal_acc: 0.8066 | train_mcc: 0.6137 | train_auroc: 0.8746  |  valid_loss: 0.4011 | valid_bal_acc: 0.8373 | valid_mcc: 0.6765  |  valid_auroc: 0.9024\n",
      "Epoch: 29 | train_loss: 0.4470 | train_bal_acc: 0.8083 | train_mcc: 0.6169 | train_auroc: 0.8745  |  valid_loss: 0.4136 | valid_bal_acc: 0.8308 | valid_mcc: 0.6603  |  valid_auroc: 0.9060\n",
      "Epoch: 30 | train_loss: 0.4446 | train_bal_acc: 0.8058 | train_mcc: 0.6118 | train_auroc: 0.8762  |  valid_loss: 0.4009 | valid_bal_acc: 0.8413 | valid_mcc: 0.6844  |  valid_auroc: 0.9069\n",
      "Epoch: 31 | train_loss: 0.4426 | train_bal_acc: 0.8015 | train_mcc: 0.6043 | train_auroc: 0.8745  |  valid_loss: 0.3952 | valid_bal_acc: 0.8384 | valid_mcc: 0.6785  |  valid_auroc: 0.9061\n",
      "Epoch: 32 | train_loss: 0.4413 | train_bal_acc: 0.8071 | train_mcc: 0.6154 | train_auroc: 0.8777  |  valid_loss: 0.4006 | valid_bal_acc: 0.8336 | valid_mcc: 0.6699  |  valid_auroc: 0.9069\n",
      "Epoch: 33 | train_loss: 0.4412 | train_bal_acc: 0.8046 | train_mcc: 0.6102 | train_auroc: 0.8779  |  valid_loss: 0.4088 | valid_bal_acc: 0.8290 | valid_mcc: 0.6577  |  valid_auroc: 0.9097\n",
      "Epoch: 34 | train_loss: 0.4338 | train_bal_acc: 0.8120 | train_mcc: 0.6254 | train_auroc: 0.8829  |  valid_loss: 0.4022 | valid_bal_acc: 0.8307 | valid_mcc: 0.6660  |  valid_auroc: 0.9032\n",
      "Epoch: 35 | train_loss: 0.4326 | train_bal_acc: 0.8129 | train_mcc: 0.6249 | train_auroc: 0.8853  |  valid_loss: 0.4062 | valid_bal_acc: 0.8305 | valid_mcc: 0.6671  |  valid_auroc: 0.8995\n",
      "Epoch: 36 | train_loss: 0.4320 | train_bal_acc: 0.8075 | train_mcc: 0.6166 | train_auroc: 0.8814  |  valid_loss: 0.3970 | valid_bal_acc: 0.8359 | valid_mcc: 0.6670  |  valid_auroc: 0.9018\n",
      "Epoch: 37 | train_loss: 0.4258 | train_bal_acc: 0.8111 | train_mcc: 0.6237 | train_auroc: 0.8857  |  valid_loss: 0.3992 | valid_bal_acc: 0.8235 | valid_mcc: 0.6501  |  valid_auroc: 0.9120\n",
      "Epoch: 38 | train_loss: 0.4253 | train_bal_acc: 0.8173 | train_mcc: 0.6354 | train_auroc: 0.8865  |  valid_loss: 0.3897 | valid_bal_acc: 0.8334 | valid_mcc: 0.6707  |  valid_auroc: 0.9126\n",
      "Epoch: 39 | train_loss: 0.4265 | train_bal_acc: 0.8088 | train_mcc: 0.6189 | train_auroc: 0.8868  |  valid_loss: 0.3976 | valid_bal_acc: 0.8267 | valid_mcc: 0.6627  |  valid_auroc: 0.9104\n",
      "Epoch: 40 | train_loss: 0.4255 | train_bal_acc: 0.8157 | train_mcc: 0.6333 | train_auroc: 0.8885  |  valid_loss: 0.4025 | valid_bal_acc: 0.8177 | valid_mcc: 0.6380  |  valid_auroc: 0.9030\n",
      "Epoch: 41 | train_loss: 0.4206 | train_bal_acc: 0.8180 | train_mcc: 0.6367 | train_auroc: 0.8896  |  valid_loss: 0.3885 | valid_bal_acc: 0.8326 | valid_mcc: 0.6713  |  valid_auroc: 0.9105\n",
      "Epoch: 42 | train_loss: 0.4187 | train_bal_acc: 0.8192 | train_mcc: 0.6392 | train_auroc: 0.8907  |  valid_loss: 0.3817 | valid_bal_acc: 0.8378 | valid_mcc: 0.6812  |  valid_auroc: 0.9128\n",
      "Epoch: 43 | train_loss: 0.4156 | train_bal_acc: 0.8206 | train_mcc: 0.6414 | train_auroc: 0.8945  |  valid_loss: 0.4093 | valid_bal_acc: 0.8149 | valid_mcc: 0.6324  |  valid_auroc: 0.8972\n",
      "Epoch: 44 | train_loss: 0.4171 | train_bal_acc: 0.8128 | train_mcc: 0.6292 | train_auroc: 0.8896  |  valid_loss: 0.3772 | valid_bal_acc: 0.8420 | valid_mcc: 0.6854  |  valid_auroc: 0.9168\n"
     ]
    },
    {
     "name": "stdout",
     "output_type": "stream",
     "text": [
      "Epoch: 45 | train_loss: 0.4127 | train_bal_acc: 0.8162 | train_mcc: 0.6346 | train_auroc: 0.8945  |  valid_loss: 0.3819 | valid_bal_acc: 0.8380 | valid_mcc: 0.6787  |  valid_auroc: 0.9143\n",
      "Epoch: 46 | train_loss: 0.4136 | train_bal_acc: 0.8178 | train_mcc: 0.6359 | train_auroc: 0.8949  |  valid_loss: 0.3827 | valid_bal_acc: 0.8391 | valid_mcc: 0.6802  |  valid_auroc: 0.9160\n",
      "Epoch: 47 | train_loss: 0.4122 | train_bal_acc: 0.8168 | train_mcc: 0.6357 | train_auroc: 0.8940  |  valid_loss: 0.3843 | valid_bal_acc: 0.8284 | valid_mcc: 0.6674  |  valid_auroc: 0.9096\n",
      "Epoch: 48 | train_loss: 0.4072 | train_bal_acc: 0.8220 | train_mcc: 0.6435 | train_auroc: 0.8996  |  valid_loss: 0.3736 | valid_bal_acc: 0.8443 | valid_mcc: 0.6888  |  valid_auroc: 0.9203\n",
      "Epoch: 49 | train_loss: 0.4080 | train_bal_acc: 0.8186 | train_mcc: 0.6362 | train_auroc: 0.8982  |  valid_loss: 0.3800 | valid_bal_acc: 0.8341 | valid_mcc: 0.6749  |  valid_auroc: 0.9113\n",
      "Epoch: 50 | train_loss: 0.4080 | train_bal_acc: 0.8181 | train_mcc: 0.6401 | train_auroc: 0.8942  |  valid_loss: 0.3669 | valid_bal_acc: 0.8423 | valid_mcc: 0.6859  |  valid_auroc: 0.9213\n",
      "Epoch: 51 | train_loss: 0.4123 | train_bal_acc: 0.8200 | train_mcc: 0.6419 | train_auroc: 0.8953  |  valid_loss: 0.3851 | valid_bal_acc: 0.8281 | valid_mcc: 0.6620  |  valid_auroc: 0.9033\n",
      "Epoch: 52 | train_loss: 0.4086 | train_bal_acc: 0.8215 | train_mcc: 0.6440 | train_auroc: 0.8955  |  valid_loss: 0.3821 | valid_bal_acc: 0.8282 | valid_mcc: 0.6624  |  valid_auroc: 0.9097\n",
      "Epoch: 53 | train_loss: 0.4035 | train_bal_acc: 0.8214 | train_mcc: 0.6442 | train_auroc: 0.8984  |  valid_loss: 0.3750 | valid_bal_acc: 0.8339 | valid_mcc: 0.6686  |  valid_auroc: 0.9153\n",
      "Epoch: 54 | train_loss: 0.4056 | train_bal_acc: 0.8236 | train_mcc: 0.6507 | train_auroc: 0.8990  |  valid_loss: 0.3649 | valid_bal_acc: 0.8422 | valid_mcc: 0.6829  |  valid_auroc: 0.9213\n",
      "Epoch: 55 | train_loss: 0.4012 | train_bal_acc: 0.8244 | train_mcc: 0.6476 | train_auroc: 0.8993  |  valid_loss: 0.3848 | valid_bal_acc: 0.8223 | valid_mcc: 0.6469  |  valid_auroc: 0.9060\n",
      "Epoch: 56 | train_loss: 0.4022 | train_bal_acc: 0.8262 | train_mcc: 0.6528 | train_auroc: 0.8992  |  valid_loss: 0.3662 | valid_bal_acc: 0.8355 | valid_mcc: 0.6768  |  valid_auroc: 0.9230\n",
      "Epoch: 57 | train_loss: 0.4023 | train_bal_acc: 0.8243 | train_mcc: 0.6504 | train_auroc: 0.9002  |  valid_loss: 0.3696 | valid_bal_acc: 0.8404 | valid_mcc: 0.6801  |  valid_auroc: 0.9247\n",
      "Epoch: 58 | train_loss: 0.3951 | train_bal_acc: 0.8287 | train_mcc: 0.6566 | train_auroc: 0.9039  |  valid_loss: 0.3636 | valid_bal_acc: 0.8342 | valid_mcc: 0.6736  |  valid_auroc: 0.9269\n",
      "Epoch: 59 | train_loss: 0.3906 | train_bal_acc: 0.8288 | train_mcc: 0.6580 | train_auroc: 0.9075  |  valid_loss: 0.3710 | valid_bal_acc: 0.8397 | valid_mcc: 0.6811  |  valid_auroc: 0.9176\n",
      "Epoch: 60 | train_loss: 0.3957 | train_bal_acc: 0.8297 | train_mcc: 0.6608 | train_auroc: 0.9049  |  valid_loss: 0.3688 | valid_bal_acc: 0.8331 | valid_mcc: 0.6638  |  valid_auroc: 0.9195\n",
      "Epoch: 61 | train_loss: 0.3871 | train_bal_acc: 0.8319 | train_mcc: 0.6644 | train_auroc: 0.9082  |  valid_loss: 0.3564 | valid_bal_acc: 0.8499 | valid_mcc: 0.6974  |  valid_auroc: 0.9269\n",
      "Epoch: 62 | train_loss: 0.3896 | train_bal_acc: 0.8276 | train_mcc: 0.6550 | train_auroc: 0.9074  |  valid_loss: 0.3643 | valid_bal_acc: 0.8401 | valid_mcc: 0.6713  |  valid_auroc: 0.9267\n",
      "Epoch: 63 | train_loss: 0.3940 | train_bal_acc: 0.8258 | train_mcc: 0.6528 | train_auroc: 0.9036  |  valid_loss: 0.3589 | valid_bal_acc: 0.8433 | valid_mcc: 0.6865  |  valid_auroc: 0.9271\n",
      "Epoch: 64 | train_loss: 0.3888 | train_bal_acc: 0.8336 | train_mcc: 0.6698 | train_auroc: 0.9092  |  valid_loss: 0.3611 | valid_bal_acc: 0.8280 | valid_mcc: 0.6633  |  valid_auroc: 0.9298\n",
      "Epoch: 65 | train_loss: 0.3854 | train_bal_acc: 0.8316 | train_mcc: 0.6652 | train_auroc: 0.9100  |  valid_loss: 0.3700 | valid_bal_acc: 0.8341 | valid_mcc: 0.6684  |  valid_auroc: 0.9208\n",
      "Epoch: 66 | train_loss: 0.3905 | train_bal_acc: 0.8303 | train_mcc: 0.6594 | train_auroc: 0.9061  |  valid_loss: 0.3520 | valid_bal_acc: 0.8473 | valid_mcc: 0.6941  |  valid_auroc: 0.9295\n",
      "Epoch: 67 | train_loss: 0.3840 | train_bal_acc: 0.8349 | train_mcc: 0.6706 | train_auroc: 0.9094  |  valid_loss: 0.3626 | valid_bal_acc: 0.8445 | valid_mcc: 0.6850  |  valid_auroc: 0.9217\n",
      "Epoch: 68 | train_loss: 0.3839 | train_bal_acc: 0.8339 | train_mcc: 0.6659 | train_auroc: 0.9114  |  valid_loss: 0.3513 | valid_bal_acc: 0.8362 | valid_mcc: 0.6779  |  valid_auroc: 0.9285\n",
      "Epoch: 69 | train_loss: 0.3819 | train_bal_acc: 0.8335 | train_mcc: 0.6671 | train_auroc: 0.9106  |  valid_loss: 0.3529 | valid_bal_acc: 0.8408 | valid_mcc: 0.6850  |  valid_auroc: 0.9282\n",
      "Epoch: 70 | train_loss: 0.3861 | train_bal_acc: 0.8327 | train_mcc: 0.6650 | train_auroc: 0.9089  |  valid_loss: 0.3466 | valid_bal_acc: 0.8467 | valid_mcc: 0.6953  |  valid_auroc: 0.9306\n",
      "Epoch: 71 | train_loss: 0.3813 | train_bal_acc: 0.8362 | train_mcc: 0.6729 | train_auroc: 0.9119  |  valid_loss: 0.3786 | valid_bal_acc: 0.8301 | valid_mcc: 0.6598  |  valid_auroc: 0.9157\n",
      "Epoch: 72 | train_loss: 0.3733 | train_bal_acc: 0.8455 | train_mcc: 0.6907 | train_auroc: 0.9163  |  valid_loss: 0.3676 | valid_bal_acc: 0.8236 | valid_mcc: 0.6479  |  valid_auroc: 0.9162\n",
      "Epoch: 73 | train_loss: 0.3815 | train_bal_acc: 0.8337 | train_mcc: 0.6667 | train_auroc: 0.9108  |  valid_loss: 0.3549 | valid_bal_acc: 0.8368 | valid_mcc: 0.6773  |  valid_auroc: 0.9303\n",
      "Epoch: 74 | train_loss: 0.3803 | train_bal_acc: 0.8297 | train_mcc: 0.6597 | train_auroc: 0.9129  |  valid_loss: 0.3544 | valid_bal_acc: 0.8325 | valid_mcc: 0.6661  |  valid_auroc: 0.9259\n",
      "Epoch: 75 | train_loss: 0.3776 | train_bal_acc: 0.8375 | train_mcc: 0.6765 | train_auroc: 0.9114  |  valid_loss: 0.3651 | valid_bal_acc: 0.8380 | valid_mcc: 0.6770  |  valid_auroc: 0.9218\n",
      "Epoch: 76 | train_loss: 0.3736 | train_bal_acc: 0.8402 | train_mcc: 0.6810 | train_auroc: 0.9151  |  valid_loss: 0.3575 | valid_bal_acc: 0.8333 | valid_mcc: 0.6364  |  valid_auroc: 0.9021\n",
      "Epoch: 77 | train_loss: 0.3749 | train_bal_acc: 0.8338 | train_mcc: 0.6675 | train_auroc: 0.9160  |  valid_loss: 0.3502 | valid_bal_acc: 0.8492 | valid_mcc: 0.6993  |  valid_auroc: 0.9344\n",
      "Epoch: 78 | train_loss: 0.3773 | train_bal_acc: 0.8310 | train_mcc: 0.6628 | train_auroc: 0.9128  |  valid_loss: 0.3643 | valid_bal_acc: 0.8375 | valid_mcc: 0.6680  |  valid_auroc: 0.9308\n",
      "Epoch: 79 | train_loss: 0.3742 | train_bal_acc: 0.8356 | train_mcc: 0.6721 | train_auroc: 0.9146  |  valid_loss: 0.3525 | valid_bal_acc: 0.8314 | valid_mcc: 0.6632  |  valid_auroc: 0.9256\n",
      "Epoch: 80 | train_loss: 0.3707 | train_bal_acc: 0.8390 | train_mcc: 0.6780 | train_auroc: 0.9171  |  valid_loss: 0.3616 | valid_bal_acc: 0.8193 | valid_mcc: 0.6407  |  valid_auroc: 0.9181\n",
      "Epoch: 81 | train_loss: 0.3690 | train_bal_acc: 0.8427 | train_mcc: 0.6858 | train_auroc: 0.9171  |  valid_loss: 0.3538 | valid_bal_acc: 0.8339 | valid_mcc: 0.6695  |  valid_auroc: 0.9239\n",
      "Epoch: 82 | train_loss: 0.3723 | train_bal_acc: 0.8378 | train_mcc: 0.6763 | train_auroc: 0.9153  |  valid_loss: 0.3468 | valid_bal_acc: 0.8428 | valid_mcc: 0.6869  |  valid_auroc: 0.9303\n",
      "Epoch: 83 | train_loss: 0.3679 | train_bal_acc: 0.8405 | train_mcc: 0.6796 | train_auroc: 0.9190  |  valid_loss: 0.3453 | valid_bal_acc: 0.8353 | valid_mcc: 0.6707  |  valid_auroc: 0.9290\n",
      "Epoch: 84 | train_loss: 0.3718 | train_bal_acc: 0.8422 | train_mcc: 0.6837 | train_auroc: 0.9158  |  valid_loss: 0.3381 | valid_bal_acc: 0.8418 | valid_mcc: 0.6864  |  valid_auroc: 0.9326\n",
      "Epoch: 85 | train_loss: 0.3680 | train_bal_acc: 0.8392 | train_mcc: 0.6794 | train_auroc: 0.9172  |  valid_loss: 0.3462 | valid_bal_acc: 0.8370 | valid_mcc: 0.6742  |  valid_auroc: 0.9262\n",
      "Epoch: 86 | train_loss: 0.3723 | train_bal_acc: 0.8376 | train_mcc: 0.6752 | train_auroc: 0.9160  |  valid_loss: 0.3410 | valid_bal_acc: 0.8556 | valid_mcc: 0.7115  |  valid_auroc: 0.9362\n",
      "Epoch: 87 | train_loss: 0.3665 | train_bal_acc: 0.8451 | train_mcc: 0.6910 | train_auroc: 0.9182  |  valid_loss: 0.3522 | valid_bal_acc: 0.8200 | valid_mcc: 0.6449  |  valid_auroc: 0.9002\n",
      "Epoch: 88 | train_loss: 0.3675 | train_bal_acc: 0.8375 | train_mcc: 0.6757 | train_auroc: 0.9167  |  valid_loss: 0.3408 | valid_bal_acc: 0.8532 | valid_mcc: 0.7061  |  valid_auroc: 0.9353\n"
     ]
    },
    {
     "name": "stdout",
     "output_type": "stream",
     "text": [
      "Epoch: 89 | train_loss: 0.3749 | train_bal_acc: 0.8346 | train_mcc: 0.6710 | train_auroc: 0.9113  |  valid_loss: 0.3470 | valid_bal_acc: 0.8500 | valid_mcc: 0.6898  |  valid_auroc: 0.9299\n",
      "Epoch: 90 | train_loss: 0.3652 | train_bal_acc: 0.8425 | train_mcc: 0.6849 | train_auroc: 0.9192  |  valid_loss: 0.3368 | valid_bal_acc: 0.8436 | valid_mcc: 0.6915  |  valid_auroc: 0.9350\n",
      "Epoch: 91 | train_loss: 0.3691 | train_bal_acc: 0.8391 | train_mcc: 0.6797 | train_auroc: 0.9157  |  valid_loss: 0.3397 | valid_bal_acc: 0.8519 | valid_mcc: 0.7057  |  valid_auroc: 0.9355\n",
      "Epoch: 92 | train_loss: 0.3621 | train_bal_acc: 0.8400 | train_mcc: 0.6813 | train_auroc: 0.9208  |  valid_loss: 0.3474 | valid_bal_acc: 0.8321 | valid_mcc: 0.6695  |  valid_auroc: 0.9295\n",
      "Epoch: 93 | train_loss: 0.3607 | train_bal_acc: 0.8419 | train_mcc: 0.6863 | train_auroc: 0.9204  |  valid_loss: 0.3363 | valid_bal_acc: 0.8528 | valid_mcc: 0.7077  |  valid_auroc: 0.9315\n",
      "Epoch: 94 | train_loss: 0.3651 | train_bal_acc: 0.8415 | train_mcc: 0.6832 | train_auroc: 0.9201  |  valid_loss: 0.3380 | valid_bal_acc: 0.8254 | valid_mcc: 0.6531  |  valid_auroc: 0.9260\n",
      "Epoch: 95 | train_loss: 0.3611 | train_bal_acc: 0.8497 | train_mcc: 0.6975 | train_auroc: 0.9216  |  valid_loss: 0.3328 | valid_bal_acc: 0.8558 | valid_mcc: 0.7115  |  valid_auroc: 0.9331\n",
      "Epoch: 96 | train_loss: 0.3651 | train_bal_acc: 0.8389 | train_mcc: 0.6792 | train_auroc: 0.9168  |  valid_loss: 0.3315 | valid_bal_acc: 0.8570 | valid_mcc: 0.7141  |  valid_auroc: 0.9338\n",
      "Epoch: 97 | train_loss: 0.3620 | train_bal_acc: 0.8466 | train_mcc: 0.6939 | train_auroc: 0.9217  |  valid_loss: 0.3268 | valid_bal_acc: 0.8564 | valid_mcc: 0.7138  |  valid_auroc: 0.9322\n",
      "Epoch: 98 | train_loss: 0.3558 | train_bal_acc: 0.8468 | train_mcc: 0.6951 | train_auroc: 0.9231  |  valid_loss: 0.3358 | valid_bal_acc: 0.8427 | valid_mcc: 0.6890  |  valid_auroc: 0.9358\n",
      "Epoch: 99 | train_loss: 0.3577 | train_bal_acc: 0.8493 | train_mcc: 0.6991 | train_auroc: 0.9232  |  valid_loss: 0.3633 | valid_bal_acc: 0.8342 | valid_mcc: 0.6705  |  valid_auroc: 0.9208\n",
      "Epoch: 100 | train_loss: 0.3557 | train_bal_acc: 0.8457 | train_mcc: 0.6924 | train_auroc: 0.9251  |  valid_loss: 0.3282 | valid_bal_acc: 0.8531 | valid_mcc: 0.6939  |  valid_auroc: 0.9367\n",
      "Epoch: 101 | train_loss: 0.3571 | train_bal_acc: 0.8442 | train_mcc: 0.6899 | train_auroc: 0.9214  |  valid_loss: 0.3236 | valid_bal_acc: 0.8531 | valid_mcc: 0.7076  |  valid_auroc: 0.9351\n",
      "Epoch: 102 | train_loss: 0.3546 | train_bal_acc: 0.8438 | train_mcc: 0.6890 | train_auroc: 0.9226  |  valid_loss: 0.3362 | valid_bal_acc: 0.8525 | valid_mcc: 0.7043  |  valid_auroc: 0.9325\n",
      "Epoch: 103 | train_loss: 0.3508 | train_bal_acc: 0.8512 | train_mcc: 0.7031 | train_auroc: 0.9261  |  valid_loss: 0.3302 | valid_bal_acc: 0.8396 | valid_mcc: 0.6788  |  valid_auroc: 0.9333\n",
      "Epoch: 104 | train_loss: 0.3497 | train_bal_acc: 0.8505 | train_mcc: 0.7027 | train_auroc: 0.9266  |  valid_loss: 0.3363 | valid_bal_acc: 0.8447 | valid_mcc: 0.6967  |  valid_auroc: 0.9295\n",
      "Epoch: 105 | train_loss: 0.3481 | train_bal_acc: 0.8489 | train_mcc: 0.6984 | train_auroc: 0.9263  |  valid_loss: 0.3294 | valid_bal_acc: 0.8481 | valid_mcc: 0.6972  |  valid_auroc: 0.9341\n",
      "Epoch: 106 | train_loss: 0.3574 | train_bal_acc: 0.8441 | train_mcc: 0.6878 | train_auroc: 0.9243  |  valid_loss: 0.3303 | valid_bal_acc: 0.8508 | valid_mcc: 0.7077  |  valid_auroc: 0.9360\n",
      "Epoch: 107 | train_loss: 0.3499 | train_bal_acc: 0.8484 | train_mcc: 0.6963 | train_auroc: 0.9255  |  valid_loss: 0.3218 | valid_bal_acc: 0.8579 | valid_mcc: 0.7155  |  valid_auroc: 0.9380\n",
      "Epoch: 108 | train_loss: 0.3500 | train_bal_acc: 0.8481 | train_mcc: 0.6948 | train_auroc: 0.9279  |  valid_loss: 0.3213 | valid_bal_acc: 0.8572 | valid_mcc: 0.7157  |  valid_auroc: 0.9379\n",
      "Epoch: 109 | train_loss: 0.3495 | train_bal_acc: 0.8465 | train_mcc: 0.6920 | train_auroc: 0.9249  |  valid_loss: 0.3314 | valid_bal_acc: 0.8510 | valid_mcc: 0.7060  |  valid_auroc: 0.9315\n",
      "Epoch: 110 | train_loss: 0.3491 | train_bal_acc: 0.8545 | train_mcc: 0.7114 | train_auroc: 0.9283  |  valid_loss: 0.3162 | valid_bal_acc: 0.8578 | valid_mcc: 0.7166  |  valid_auroc: 0.9399\n",
      "Epoch: 111 | train_loss: 0.3491 | train_bal_acc: 0.8500 | train_mcc: 0.6986 | train_auroc: 0.9258  |  valid_loss: 0.3256 | valid_bal_acc: 0.8573 | valid_mcc: 0.7148  |  valid_auroc: 0.9393\n",
      "Epoch: 112 | train_loss: 0.3409 | train_bal_acc: 0.8550 | train_mcc: 0.7123 | train_auroc: 0.9305  |  valid_loss: 0.3402 | valid_bal_acc: 0.8510 | valid_mcc: 0.6990  |  valid_auroc: 0.9376\n",
      "Epoch: 113 | train_loss: 0.3491 | train_bal_acc: 0.8502 | train_mcc: 0.7013 | train_auroc: 0.9281  |  valid_loss: 0.3250 | valid_bal_acc: 0.8615 | valid_mcc: 0.7233  |  valid_auroc: 0.9375\n",
      "Epoch: 114 | train_loss: 0.3540 | train_bal_acc: 0.8468 | train_mcc: 0.6941 | train_auroc: 0.9261  |  valid_loss: 0.3268 | valid_bal_acc: 0.8655 | valid_mcc: 0.7315  |  valid_auroc: 0.9396\n",
      "Epoch: 115 | train_loss: 0.3533 | train_bal_acc: 0.8502 | train_mcc: 0.7012 | train_auroc: 0.9218  |  valid_loss: 0.3166 | valid_bal_acc: 0.8599 | valid_mcc: 0.7218  |  valid_auroc: 0.9374\n",
      "Epoch: 116 | train_loss: 0.3427 | train_bal_acc: 0.8484 | train_mcc: 0.6969 | train_auroc: 0.9294  |  valid_loss: 0.3350 | valid_bal_acc: 0.8427 | valid_mcc: 0.6886  |  valid_auroc: 0.9294\n",
      "Epoch: 117 | train_loss: 0.3444 | train_bal_acc: 0.8508 | train_mcc: 0.7009 | train_auroc: 0.9286  |  valid_loss: 0.3166 | valid_bal_acc: 0.8603 | valid_mcc: 0.7230  |  valid_auroc: 0.9421\n",
      "Epoch: 118 | train_loss: 0.3456 | train_bal_acc: 0.8546 | train_mcc: 0.7081 | train_auroc: 0.9272  |  valid_loss: 0.3166 | valid_bal_acc: 0.8614 | valid_mcc: 0.7219  |  valid_auroc: 0.9416\n",
      "Epoch: 119 | train_loss: 0.3384 | train_bal_acc: 0.8614 | train_mcc: 0.7245 | train_auroc: 0.9318  |  valid_loss: 0.3217 | valid_bal_acc: 0.8546 | valid_mcc: 0.7115  |  valid_auroc: 0.9401\n",
      "Epoch: 120 | train_loss: 0.3405 | train_bal_acc: 0.8529 | train_mcc: 0.7050 | train_auroc: 0.9298  |  valid_loss: 0.3171 | valid_bal_acc: 0.8556 | valid_mcc: 0.7089  |  valid_auroc: 0.9374\n",
      "Epoch: 121 | train_loss: 0.3391 | train_bal_acc: 0.8552 | train_mcc: 0.7100 | train_auroc: 0.9319  |  valid_loss: 0.3383 | valid_bal_acc: 0.8410 | valid_mcc: 0.6806  |  valid_auroc: 0.9325\n",
      "Epoch: 122 | train_loss: 0.3378 | train_bal_acc: 0.8555 | train_mcc: 0.7095 | train_auroc: 0.9327  |  valid_loss: 0.3123 | valid_bal_acc: 0.8630 | valid_mcc: 0.7264  |  valid_auroc: 0.9406\n",
      "Epoch: 123 | train_loss: 0.3449 | train_bal_acc: 0.8504 | train_mcc: 0.7011 | train_auroc: 0.9263  |  valid_loss: 0.3186 | valid_bal_acc: 0.8618 | valid_mcc: 0.7168  |  valid_auroc: 0.9418\n",
      "Epoch: 124 | train_loss: 0.3398 | train_bal_acc: 0.8509 | train_mcc: 0.7013 | train_auroc: 0.9306  |  valid_loss: 0.3248 | valid_bal_acc: 0.8540 | valid_mcc: 0.7076  |  valid_auroc: 0.9442\n",
      "Epoch: 125 | train_loss: 0.3424 | train_bal_acc: 0.8515 | train_mcc: 0.7051 | train_auroc: 0.9279  |  valid_loss: 0.3242 | valid_bal_acc: 0.8411 | valid_mcc: 0.6863  |  valid_auroc: 0.9362\n",
      "Epoch: 126 | train_loss: 0.3447 | train_bal_acc: 0.8486 | train_mcc: 0.6977 | train_auroc: 0.9267  |  valid_loss: 0.3287 | valid_bal_acc: 0.8539 | valid_mcc: 0.7073  |  valid_auroc: 0.9419\n",
      "Epoch: 127 | train_loss: 0.3433 | train_bal_acc: 0.8548 | train_mcc: 0.7085 | train_auroc: 0.9292  |  valid_loss: 0.3158 | valid_bal_acc: 0.8601 | valid_mcc: 0.7211  |  valid_auroc: 0.9395\n",
      "Epoch: 128 | train_loss: 0.3422 | train_bal_acc: 0.8557 | train_mcc: 0.7111 | train_auroc: 0.9300  |  valid_loss: 0.3135 | valid_bal_acc: 0.8546 | valid_mcc: 0.7057  |  valid_auroc: 0.9408\n",
      "Epoch: 129 | train_loss: 0.3475 | train_bal_acc: 0.8498 | train_mcc: 0.7001 | train_auroc: 0.9270  |  valid_loss: 0.3083 | valid_bal_acc: 0.8599 | valid_mcc: 0.7218  |  valid_auroc: 0.9424\n",
      "Epoch: 130 | train_loss: 0.3422 | train_bal_acc: 0.8603 | train_mcc: 0.7210 | train_auroc: 0.9293  |  valid_loss: 0.3203 | valid_bal_acc: 0.8602 | valid_mcc: 0.7213  |  valid_auroc: 0.9336\n",
      "Epoch: 131 | train_loss: 0.3382 | train_bal_acc: 0.8613 | train_mcc: 0.7232 | train_auroc: 0.9319  |  valid_loss: 0.3112 | valid_bal_acc: 0.8673 | valid_mcc: 0.7358  |  valid_auroc: 0.9430\n",
      "Epoch: 132 | train_loss: 0.3359 | train_bal_acc: 0.8570 | train_mcc: 0.7137 | train_auroc: 0.9326  |  valid_loss: 0.3154 | valid_bal_acc: 0.8678 | valid_mcc: 0.7395  |  valid_auroc: 0.9426\n"
     ]
    },
    {
     "name": "stdout",
     "output_type": "stream",
     "text": [
      "Epoch: 133 | train_loss: 0.3372 | train_bal_acc: 0.8531 | train_mcc: 0.7079 | train_auroc: 0.9310  |  valid_loss: 0.3118 | valid_bal_acc: 0.8679 | valid_mcc: 0.7342  |  valid_auroc: 0.9429\n",
      "Epoch: 134 | train_loss: 0.3366 | train_bal_acc: 0.8565 | train_mcc: 0.7147 | train_auroc: 0.9310  |  valid_loss: 0.3142 | valid_bal_acc: 0.8631 | valid_mcc: 0.7280  |  valid_auroc: 0.9425\n",
      "Epoch: 135 | train_loss: 0.3318 | train_bal_acc: 0.8576 | train_mcc: 0.7157 | train_auroc: 0.9349  |  valid_loss: 0.3128 | valid_bal_acc: 0.8652 | valid_mcc: 0.7340  |  valid_auroc: 0.9411\n",
      "Epoch: 136 | train_loss: 0.3350 | train_bal_acc: 0.8554 | train_mcc: 0.7114 | train_auroc: 0.9321  |  valid_loss: 0.3116 | valid_bal_acc: 0.8640 | valid_mcc: 0.7284  |  valid_auroc: 0.9425\n",
      "Epoch: 137 | train_loss: 0.3359 | train_bal_acc: 0.8519 | train_mcc: 0.7038 | train_auroc: 0.9320  |  valid_loss: 0.3189 | valid_bal_acc: 0.8579 | valid_mcc: 0.7173  |  valid_auroc: 0.9400\n",
      "Epoch: 138 | train_loss: 0.3407 | train_bal_acc: 0.8551 | train_mcc: 0.7091 | train_auroc: 0.9299  |  valid_loss: 0.3224 | valid_bal_acc: 0.8501 | valid_mcc: 0.7118  |  valid_auroc: 0.9292\n",
      "Epoch: 139 | train_loss: 0.3404 | train_bal_acc: 0.8554 | train_mcc: 0.7105 | train_auroc: 0.9290  |  valid_loss: 0.3129 | valid_bal_acc: 0.8626 | valid_mcc: 0.7246  |  valid_auroc: 0.9413\n",
      "Epoch: 140 | train_loss: 0.3320 | train_bal_acc: 0.8582 | train_mcc: 0.7161 | train_auroc: 0.9349  |  valid_loss: 0.3326 | valid_bal_acc: 0.8492 | valid_mcc: 0.6991  |  valid_auroc: 0.9306\n",
      "Epoch: 141 | train_loss: 0.3376 | train_bal_acc: 0.8502 | train_mcc: 0.7000 | train_auroc: 0.9305  |  valid_loss: 0.3105 | valid_bal_acc: 0.8680 | valid_mcc: 0.7382  |  valid_auroc: 0.9441\n",
      "Epoch: 142 | train_loss: 0.3328 | train_bal_acc: 0.8571 | train_mcc: 0.7146 | train_auroc: 0.9337  |  valid_loss: 0.3121 | valid_bal_acc: 0.8656 | valid_mcc: 0.7328  |  valid_auroc: 0.9434\n",
      "Epoch: 143 | train_loss: 0.3359 | train_bal_acc: 0.8557 | train_mcc: 0.7103 | train_auroc: 0.9322  |  valid_loss: 0.3133 | valid_bal_acc: 0.8663 | valid_mcc: 0.7260  |  valid_auroc: 0.9432\n",
      "Epoch: 144 | train_loss: 0.3339 | train_bal_acc: 0.8590 | train_mcc: 0.7183 | train_auroc: 0.9330  |  valid_loss: 0.3069 | valid_bal_acc: 0.8692 | valid_mcc: 0.7380  |  valid_auroc: 0.9436\n",
      "Epoch: 145 | train_loss: 0.3320 | train_bal_acc: 0.8553 | train_mcc: 0.7105 | train_auroc: 0.9322  |  valid_loss: 0.3086 | valid_bal_acc: 0.8711 | valid_mcc: 0.7426  |  valid_auroc: 0.9435\n",
      "Epoch: 146 | train_loss: 0.3269 | train_bal_acc: 0.8635 | train_mcc: 0.7281 | train_auroc: 0.9357  |  valid_loss: 0.3215 | valid_bal_acc: 0.8569 | valid_mcc: 0.7138  |  valid_auroc: 0.9379\n",
      "Epoch: 147 | train_loss: 0.3296 | train_bal_acc: 0.8592 | train_mcc: 0.7173 | train_auroc: 0.9358  |  valid_loss: 0.3166 | valid_bal_acc: 0.8659 | valid_mcc: 0.7322  |  valid_auroc: 0.9386\n",
      "Epoch: 148 | train_loss: 0.3316 | train_bal_acc: 0.8603 | train_mcc: 0.7190 | train_auroc: 0.9327  |  valid_loss: 0.3138 | valid_bal_acc: 0.8586 | valid_mcc: 0.7176  |  valid_auroc: 0.9407\n",
      "Epoch: 149 | train_loss: 0.3303 | train_bal_acc: 0.8589 | train_mcc: 0.7167 | train_auroc: 0.9337  |  valid_loss: 0.3072 | valid_bal_acc: 0.8718 | valid_mcc: 0.7430  |  valid_auroc: 0.9441\n",
      "Epoch: 150 | train_loss: 0.3214 | train_bal_acc: 0.8636 | train_mcc: 0.7274 | train_auroc: 0.9394  |  valid_loss: 0.3280 | valid_bal_acc: 0.8462 | valid_mcc: 0.6917  |  valid_auroc: 0.9291\n",
      "Epoch: 151 | train_loss: 0.3332 | train_bal_acc: 0.8546 | train_mcc: 0.7098 | train_auroc: 0.9323  |  valid_loss: 0.3187 | valid_bal_acc: 0.8414 | valid_mcc: 0.6866  |  valid_auroc: 0.9353\n",
      "Epoch: 152 | train_loss: 0.3248 | train_bal_acc: 0.8589 | train_mcc: 0.7173 | train_auroc: 0.9359  |  valid_loss: 0.3067 | valid_bal_acc: 0.8645 | valid_mcc: 0.7325  |  valid_auroc: 0.9443\n",
      "Epoch: 153 | train_loss: 0.3266 | train_bal_acc: 0.8624 | train_mcc: 0.7233 | train_auroc: 0.9363  |  valid_loss: 0.3067 | valid_bal_acc: 0.8732 | valid_mcc: 0.7441  |  valid_auroc: 0.9456\n",
      "Epoch: 154 | train_loss: 0.3323 | train_bal_acc: 0.8494 | train_mcc: 0.6998 | train_auroc: 0.9322  |  valid_loss: 0.3217 | valid_bal_acc: 0.8672 | valid_mcc: 0.7195  |  valid_auroc: 0.9371\n",
      "Epoch: 155 | train_loss: 0.3268 | train_bal_acc: 0.8592 | train_mcc: 0.7182 | train_auroc: 0.9356  |  valid_loss: 0.3078 | valid_bal_acc: 0.8652 | valid_mcc: 0.7283  |  valid_auroc: 0.9425\n",
      "Epoch: 156 | train_loss: 0.3291 | train_bal_acc: 0.8622 | train_mcc: 0.7243 | train_auroc: 0.9350  |  valid_loss: 0.3071 | valid_bal_acc: 0.8589 | valid_mcc: 0.7254  |  valid_auroc: 0.9412\n",
      "Epoch: 157 | train_loss: 0.3245 | train_bal_acc: 0.8655 | train_mcc: 0.7322 | train_auroc: 0.9364  |  valid_loss: 0.3120 | valid_bal_acc: 0.8646 | valid_mcc: 0.7286  |  valid_auroc: 0.9411\n",
      "Epoch: 158 | train_loss: 0.3206 | train_bal_acc: 0.8638 | train_mcc: 0.7285 | train_auroc: 0.9381  |  valid_loss: 0.2998 | valid_bal_acc: 0.8688 | valid_mcc: 0.7407  |  valid_auroc: 0.9456\n",
      "Epoch: 159 | train_loss: 0.3235 | train_bal_acc: 0.8607 | train_mcc: 0.7218 | train_auroc: 0.9380  |  valid_loss: 0.3109 | valid_bal_acc: 0.8575 | valid_mcc: 0.7235  |  valid_auroc: 0.9395\n",
      "Epoch: 160 | train_loss: 0.3233 | train_bal_acc: 0.8636 | train_mcc: 0.7265 | train_auroc: 0.9361  |  valid_loss: 0.3043 | valid_bal_acc: 0.8742 | valid_mcc: 0.7465  |  valid_auroc: 0.9462\n",
      "Epoch: 161 | train_loss: 0.3220 | train_bal_acc: 0.8632 | train_mcc: 0.7262 | train_auroc: 0.9375  |  valid_loss: 0.3125 | valid_bal_acc: 0.8675 | valid_mcc: 0.7318  |  valid_auroc: 0.9429\n",
      "Epoch: 162 | train_loss: 0.3207 | train_bal_acc: 0.8577 | train_mcc: 0.7163 | train_auroc: 0.9371  |  valid_loss: 0.3070 | valid_bal_acc: 0.8682 | valid_mcc: 0.7388  |  valid_auroc: 0.9412\n",
      "Epoch: 163 | train_loss: 0.3268 | train_bal_acc: 0.8607 | train_mcc: 0.7209 | train_auroc: 0.9351  |  valid_loss: 0.3091 | valid_bal_acc: 0.8680 | valid_mcc: 0.7362  |  valid_auroc: 0.9425\n",
      "Epoch: 164 | train_loss: 0.3238 | train_bal_acc: 0.8631 | train_mcc: 0.7279 | train_auroc: 0.9361  |  valid_loss: 0.3039 | valid_bal_acc: 0.8755 | valid_mcc: 0.7494  |  valid_auroc: 0.9454\n",
      "Epoch: 165 | train_loss: 0.3255 | train_bal_acc: 0.8601 | train_mcc: 0.7196 | train_auroc: 0.9363  |  valid_loss: 0.3189 | valid_bal_acc: 0.8694 | valid_mcc: 0.7350  |  valid_auroc: 0.9390\n",
      "Epoch: 166 | train_loss: 0.3241 | train_bal_acc: 0.8667 | train_mcc: 0.7328 | train_auroc: 0.9375  |  valid_loss: 0.3030 | valid_bal_acc: 0.8683 | valid_mcc: 0.7378  |  valid_auroc: 0.9442\n",
      "Epoch: 167 | train_loss: 0.3255 | train_bal_acc: 0.8597 | train_mcc: 0.7199 | train_auroc: 0.9376  |  valid_loss: 0.3093 | valid_bal_acc: 0.8590 | valid_mcc: 0.7175  |  valid_auroc: 0.9421\n",
      "Epoch: 168 | train_loss: 0.3259 | train_bal_acc: 0.8549 | train_mcc: 0.7101 | train_auroc: 0.9349  |  valid_loss: 0.2956 | valid_bal_acc: 0.8736 | valid_mcc: 0.7489  |  valid_auroc: 0.9444\n",
      "Epoch: 169 | train_loss: 0.3196 | train_bal_acc: 0.8649 | train_mcc: 0.7292 | train_auroc: 0.9393  |  valid_loss: 0.3277 | valid_bal_acc: 0.8516 | valid_mcc: 0.7059  |  valid_auroc: 0.9348\n",
      "Epoch: 170 | train_loss: 0.3175 | train_bal_acc: 0.8701 | train_mcc: 0.7416 | train_auroc: 0.9379  |  valid_loss: 0.3099 | valid_bal_acc: 0.8635 | valid_mcc: 0.7294  |  valid_auroc: 0.9461\n",
      "Epoch: 171 | train_loss: 0.3142 | train_bal_acc: 0.8676 | train_mcc: 0.7360 | train_auroc: 0.9397  |  valid_loss: 0.3004 | valid_bal_acc: 0.8665 | valid_mcc: 0.6886  |  valid_auroc: 0.9160\n",
      "Epoch: 172 | train_loss: 0.3290 | train_bal_acc: 0.8607 | train_mcc: 0.7213 | train_auroc: 0.9333  |  valid_loss: 0.3150 | valid_bal_acc: 0.8635 | valid_mcc: 0.7293  |  valid_auroc: 0.9475\n",
      "Epoch: 173 | train_loss: 0.3235 | train_bal_acc: 0.8589 | train_mcc: 0.7210 | train_auroc: 0.9375  |  valid_loss: 0.3071 | valid_bal_acc: 0.8556 | valid_mcc: 0.7128  |  valid_auroc: 0.9446\n",
      "Epoch: 174 | train_loss: 0.3214 | train_bal_acc: 0.8630 | train_mcc: 0.7263 | train_auroc: 0.9389  |  valid_loss: 0.3239 | valid_bal_acc: 0.8566 | valid_mcc: 0.7162  |  valid_auroc: 0.9346\n",
      "Epoch: 175 | train_loss: 0.3254 | train_bal_acc: 0.8588 | train_mcc: 0.7160 | train_auroc: 0.9370  |  valid_loss: 0.3005 | valid_bal_acc: 0.8698 | valid_mcc: 0.7425  |  valid_auroc: 0.9460\n",
      "Epoch: 176 | train_loss: 0.3233 | train_bal_acc: 0.8606 | train_mcc: 0.7210 | train_auroc: 0.9348  |  valid_loss: 0.3224 | valid_bal_acc: 0.8538 | valid_mcc: 0.7045  |  valid_auroc: 0.9382\n"
     ]
    },
    {
     "name": "stdout",
     "output_type": "stream",
     "text": [
      "Epoch: 177 | train_loss: 0.3294 | train_bal_acc: 0.8566 | train_mcc: 0.7151 | train_auroc: 0.9341  |  valid_loss: 0.2954 | valid_bal_acc: 0.8771 | valid_mcc: 0.7527  |  valid_auroc: 0.9462\n",
      "Epoch: 178 | train_loss: 0.3208 | train_bal_acc: 0.8622 | train_mcc: 0.7245 | train_auroc: 0.9377  |  valid_loss: 0.3014 | valid_bal_acc: 0.8730 | valid_mcc: 0.7471  |  valid_auroc: 0.9476\n",
      "Epoch: 179 | train_loss: 0.3195 | train_bal_acc: 0.8629 | train_mcc: 0.7262 | train_auroc: 0.9374  |  valid_loss: 0.3009 | valid_bal_acc: 0.8789 | valid_mcc: 0.7575  |  valid_auroc: 0.9516\n",
      "Epoch: 180 | train_loss: 0.3175 | train_bal_acc: 0.8664 | train_mcc: 0.7324 | train_auroc: 0.9394  |  valid_loss: 0.3015 | valid_bal_acc: 0.8668 | valid_mcc: 0.7392  |  valid_auroc: 0.9432\n",
      "Epoch: 181 | train_loss: 0.3209 | train_bal_acc: 0.8657 | train_mcc: 0.7320 | train_auroc: 0.9387  |  valid_loss: 0.2942 | valid_bal_acc: 0.8763 | valid_mcc: 0.7510  |  valid_auroc: 0.9470\n",
      "Epoch: 182 | train_loss: 0.3248 | train_bal_acc: 0.8588 | train_mcc: 0.7173 | train_auroc: 0.9362  |  valid_loss: 0.2974 | valid_bal_acc: 0.8781 | valid_mcc: 0.7551  |  valid_auroc: 0.9482\n",
      "Epoch: 183 | train_loss: 0.3185 | train_bal_acc: 0.8691 | train_mcc: 0.7373 | train_auroc: 0.9395  |  valid_loss: 0.3224 | valid_bal_acc: 0.8473 | valid_mcc: 0.6951  |  valid_auroc: 0.9323\n",
      "Epoch: 184 | train_loss: 0.3125 | train_bal_acc: 0.8612 | train_mcc: 0.7242 | train_auroc: 0.9408  |  valid_loss: 0.2977 | valid_bal_acc: 0.8749 | valid_mcc: 0.7494  |  valid_auroc: 0.9462\n",
      "Epoch: 185 | train_loss: 0.3198 | train_bal_acc: 0.8599 | train_mcc: 0.7181 | train_auroc: 0.9389  |  valid_loss: 0.3010 | valid_bal_acc: 0.8716 | valid_mcc: 0.7394  |  valid_auroc: 0.9492\n",
      "Epoch: 186 | train_loss: 0.3233 | train_bal_acc: 0.8649 | train_mcc: 0.7287 | train_auroc: 0.9364  |  valid_loss: 0.2983 | valid_bal_acc: 0.8732 | valid_mcc: 0.7397  |  valid_auroc: 0.9477\n",
      "Epoch: 187 | train_loss: 0.3199 | train_bal_acc: 0.8663 | train_mcc: 0.7331 | train_auroc: 0.9394  |  valid_loss: 0.2941 | valid_bal_acc: 0.8762 | valid_mcc: 0.7530  |  valid_auroc: 0.9475\n",
      "Epoch: 188 | train_loss: 0.3125 | train_bal_acc: 0.8681 | train_mcc: 0.7376 | train_auroc: 0.9405  |  valid_loss: 0.3222 | valid_bal_acc: 0.8577 | valid_mcc: 0.7156  |  valid_auroc: 0.9337\n",
      "Epoch: 189 | train_loss: 0.3172 | train_bal_acc: 0.8651 | train_mcc: 0.7298 | train_auroc: 0.9385  |  valid_loss: 0.3224 | valid_bal_acc: 0.8581 | valid_mcc: 0.7170  |  valid_auroc: 0.9292\n",
      "Epoch: 190 | train_loss: 0.3141 | train_bal_acc: 0.8680 | train_mcc: 0.7355 | train_auroc: 0.9406  |  valid_loss: 0.2915 | valid_bal_acc: 0.8793 | valid_mcc: 0.7582  |  valid_auroc: 0.9511\n",
      "Epoch: 191 | train_loss: 0.3137 | train_bal_acc: 0.8663 | train_mcc: 0.7306 | train_auroc: 0.9407  |  valid_loss: 0.3004 | valid_bal_acc: 0.8699 | valid_mcc: 0.7417  |  valid_auroc: 0.9459\n",
      "Epoch: 192 | train_loss: 0.3140 | train_bal_acc: 0.8675 | train_mcc: 0.7336 | train_auroc: 0.9406  |  valid_loss: 0.3148 | valid_bal_acc: 0.8704 | valid_mcc: 0.7285  |  valid_auroc: 0.9412\n",
      "Epoch: 193 | train_loss: 0.3114 | train_bal_acc: 0.8681 | train_mcc: 0.7364 | train_auroc: 0.9431  |  valid_loss: 0.3062 | valid_bal_acc: 0.8725 | valid_mcc: 0.7425  |  valid_auroc: 0.9503\n",
      "Epoch: 194 | train_loss: 0.3136 | train_bal_acc: 0.8666 | train_mcc: 0.7333 | train_auroc: 0.9406  |  valid_loss: 0.2996 | valid_bal_acc: 0.8735 | valid_mcc: 0.7454  |  valid_auroc: 0.9495\n",
      "Epoch: 195 | train_loss: 0.3081 | train_bal_acc: 0.8654 | train_mcc: 0.7296 | train_auroc: 0.9440  |  valid_loss: 0.2955 | valid_bal_acc: 0.8713 | valid_mcc: 0.7436  |  valid_auroc: 0.9467\n",
      "Epoch: 196 | train_loss: 0.3117 | train_bal_acc: 0.8688 | train_mcc: 0.7379 | train_auroc: 0.9423  |  valid_loss: 0.3302 | valid_bal_acc: 0.8585 | valid_mcc: 0.7203  |  valid_auroc: 0.9212\n",
      "Epoch: 197 | train_loss: 0.3148 | train_bal_acc: 0.8692 | train_mcc: 0.7413 | train_auroc: 0.9401  |  valid_loss: 0.2969 | valid_bal_acc: 0.8710 | valid_mcc: 0.7295  |  valid_auroc: 0.9491\n",
      "Epoch: 198 | train_loss: 0.3150 | train_bal_acc: 0.8613 | train_mcc: 0.7227 | train_auroc: 0.9412  |  valid_loss: 0.3072 | valid_bal_acc: 0.8623 | valid_mcc: 0.7255  |  valid_auroc: 0.9438\n",
      "Epoch: 199 | train_loss: 0.3154 | train_bal_acc: 0.8630 | train_mcc: 0.7260 | train_auroc: 0.9392  |  valid_loss: 0.2970 | valid_bal_acc: 0.8732 | valid_mcc: 0.7454  |  valid_auroc: 0.9474\n",
      "Epoch: 200 | train_loss: 0.3106 | train_bal_acc: 0.8633 | train_mcc: 0.7246 | train_auroc: 0.9425  |  valid_loss: 0.2884 | valid_bal_acc: 0.8799 | valid_mcc: 0.7603  |  valid_auroc: 0.9480\n",
      "Epoch: 201 | train_loss: 0.3130 | train_bal_acc: 0.8695 | train_mcc: 0.7408 | train_auroc: 0.9397  |  valid_loss: 0.3080 | valid_bal_acc: 0.8689 | valid_mcc: 0.7386  |  valid_auroc: 0.9398\n",
      "Epoch: 202 | train_loss: 0.3167 | train_bal_acc: 0.8642 | train_mcc: 0.7271 | train_auroc: 0.9381  |  valid_loss: 0.3088 | valid_bal_acc: 0.8678 | valid_mcc: 0.7375  |  valid_auroc: 0.9424\n",
      "Epoch: 203 | train_loss: 0.3056 | train_bal_acc: 0.8681 | train_mcc: 0.7350 | train_auroc: 0.9440  |  valid_loss: 0.3001 | valid_bal_acc: 0.8725 | valid_mcc: 0.7369  |  valid_auroc: 0.9512\n",
      "Epoch: 204 | train_loss: 0.3127 | train_bal_acc: 0.8691 | train_mcc: 0.7382 | train_auroc: 0.9421  |  valid_loss: 0.2930 | valid_bal_acc: 0.8776 | valid_mcc: 0.7508  |  valid_auroc: 0.9484\n",
      "Epoch: 205 | train_loss: 0.3141 | train_bal_acc: 0.8628 | train_mcc: 0.7264 | train_auroc: 0.9417  |  valid_loss: 0.3088 | valid_bal_acc: 0.8664 | valid_mcc: 0.7333  |  valid_auroc: 0.9418\n",
      "Epoch: 206 | train_loss: 0.3100 | train_bal_acc: 0.8686 | train_mcc: 0.7379 | train_auroc: 0.9432  |  valid_loss: 0.2881 | valid_bal_acc: 0.8800 | valid_mcc: 0.7581  |  valid_auroc: 0.9492\n",
      "Epoch: 207 | train_loss: 0.3105 | train_bal_acc: 0.8654 | train_mcc: 0.7308 | train_auroc: 0.9412  |  valid_loss: 0.3055 | valid_bal_acc: 0.8714 | valid_mcc: 0.7444  |  valid_auroc: 0.9467\n",
      "Epoch: 208 | train_loss: 0.3087 | train_bal_acc: 0.8683 | train_mcc: 0.7362 | train_auroc: 0.9429  |  valid_loss: 0.2908 | valid_bal_acc: 0.8802 | valid_mcc: 0.7609  |  valid_auroc: 0.9494\n",
      "Epoch: 209 | train_loss: 0.3149 | train_bal_acc: 0.8616 | train_mcc: 0.7227 | train_auroc: 0.9395  |  valid_loss: 0.2867 | valid_bal_acc: 0.8795 | valid_mcc: 0.7573  |  valid_auroc: 0.9480\n",
      "Epoch: 210 | train_loss: 0.3118 | train_bal_acc: 0.8713 | train_mcc: 0.7428 | train_auroc: 0.9418  |  valid_loss: 0.3082 | valid_bal_acc: 0.8488 | valid_mcc: 0.6937  |  valid_auroc: 0.9283\n",
      "Epoch: 211 | train_loss: 0.3044 | train_bal_acc: 0.8725 | train_mcc: 0.7444 | train_auroc: 0.9454  |  valid_loss: 0.3036 | valid_bal_acc: 0.8720 | valid_mcc: 0.7460  |  valid_auroc: 0.9457\n",
      "Epoch: 212 | train_loss: 0.3114 | train_bal_acc: 0.8685 | train_mcc: 0.7367 | train_auroc: 0.9419  |  valid_loss: 0.2838 | valid_bal_acc: 0.8781 | valid_mcc: 0.7590  |  valid_auroc: 0.9505\n",
      "Epoch: 213 | train_loss: 0.3102 | train_bal_acc: 0.8672 | train_mcc: 0.7344 | train_auroc: 0.9415  |  valid_loss: 0.3087 | valid_bal_acc: 0.8624 | valid_mcc: 0.7214  |  valid_auroc: 0.9432\n",
      "Epoch: 214 | train_loss: 0.3086 | train_bal_acc: 0.8686 | train_mcc: 0.7371 | train_auroc: 0.9420  |  valid_loss: 0.2959 | valid_bal_acc: 0.8784 | valid_mcc: 0.7424  |  valid_auroc: 0.9503\n",
      "Epoch: 215 | train_loss: 0.3111 | train_bal_acc: 0.8698 | train_mcc: 0.7389 | train_auroc: 0.9416  |  valid_loss: 0.3216 | valid_bal_acc: 0.8551 | valid_mcc: 0.7062  |  valid_auroc: 0.9217\n",
      "Epoch: 216 | train_loss: 0.3077 | train_bal_acc: 0.8701 | train_mcc: 0.7401 | train_auroc: 0.9431  |  valid_loss: 0.2877 | valid_bal_acc: 0.8730 | valid_mcc: 0.7403  |  valid_auroc: 0.9512\n",
      "Epoch: 217 | train_loss: 0.3091 | train_bal_acc: 0.8659 | train_mcc: 0.7326 | train_auroc: 0.9430  |  valid_loss: 0.2859 | valid_bal_acc: 0.8800 | valid_mcc: 0.7599  |  valid_auroc: 0.9508\n",
      "Epoch: 218 | train_loss: 0.3065 | train_bal_acc: 0.8725 | train_mcc: 0.7432 | train_auroc: 0.9443  |  valid_loss: 0.2934 | valid_bal_acc: 0.8780 | valid_mcc: 0.7432  |  valid_auroc: 0.9502\n",
      "Epoch: 219 | train_loss: 0.3074 | train_bal_acc: 0.8683 | train_mcc: 0.7369 | train_auroc: 0.9416  |  valid_loss: 0.2937 | valid_bal_acc: 0.8646 | valid_mcc: 0.7260  |  valid_auroc: 0.9430\n",
      "Epoch: 220 | train_loss: 0.3033 | train_bal_acc: 0.8644 | train_mcc: 0.7295 | train_auroc: 0.9457  |  valid_loss: 0.3022 | valid_bal_acc: 0.8692 | valid_mcc: 0.7369  |  valid_auroc: 0.9458\n"
     ]
    },
    {
     "name": "stdout",
     "output_type": "stream",
     "text": [
      "Epoch: 221 | train_loss: 0.3077 | train_bal_acc: 0.8685 | train_mcc: 0.7371 | train_auroc: 0.9429  |  valid_loss: 0.2952 | valid_bal_acc: 0.8767 | valid_mcc: 0.7472  |  valid_auroc: 0.9503\n",
      "Epoch: 222 | train_loss: 0.3091 | train_bal_acc: 0.8692 | train_mcc: 0.7384 | train_auroc: 0.9420  |  valid_loss: 0.2913 | valid_bal_acc: 0.8818 | valid_mcc: 0.7585  |  valid_auroc: 0.9522\n",
      "Epoch: 223 | train_loss: 0.3087 | train_bal_acc: 0.8683 | train_mcc: 0.7381 | train_auroc: 0.9432  |  valid_loss: 0.3191 | valid_bal_acc: 0.8586 | valid_mcc: 0.7217  |  valid_auroc: 0.9281\n",
      "Epoch: 224 | train_loss: 0.3082 | train_bal_acc: 0.8705 | train_mcc: 0.7413 | train_auroc: 0.9427  |  valid_loss: 0.2923 | valid_bal_acc: 0.8718 | valid_mcc: 0.7498  |  valid_auroc: 0.9478\n",
      "Epoch: 225 | train_loss: 0.3099 | train_bal_acc: 0.8678 | train_mcc: 0.7346 | train_auroc: 0.9431  |  valid_loss: 0.2835 | valid_bal_acc: 0.8803 | valid_mcc: 0.7596  |  valid_auroc: 0.9504\n",
      "Epoch: 226 | train_loss: 0.3076 | train_bal_acc: 0.8728 | train_mcc: 0.7438 | train_auroc: 0.9430  |  valid_loss: 0.2947 | valid_bal_acc: 0.8692 | valid_mcc: 0.7436  |  valid_auroc: 0.9455\n",
      "Epoch: 227 | train_loss: 0.3044 | train_bal_acc: 0.8747 | train_mcc: 0.7506 | train_auroc: 0.9442  |  valid_loss: 0.2871 | valid_bal_acc: 0.8690 | valid_mcc: 0.7464  |  valid_auroc: 0.9508\n",
      "Epoch: 228 | train_loss: 0.3076 | train_bal_acc: 0.8651 | train_mcc: 0.7295 | train_auroc: 0.9433  |  valid_loss: 0.2935 | valid_bal_acc: 0.8771 | valid_mcc: 0.7550  |  valid_auroc: 0.9473\n",
      "Epoch: 229 | train_loss: 0.2981 | train_bal_acc: 0.8737 | train_mcc: 0.7484 | train_auroc: 0.9471  |  valid_loss: 0.2905 | valid_bal_acc: 0.8814 | valid_mcc: 0.7626  |  valid_auroc: 0.9502\n",
      "Epoch: 230 | train_loss: 0.3043 | train_bal_acc: 0.8749 | train_mcc: 0.7501 | train_auroc: 0.9433  |  valid_loss: 0.2858 | valid_bal_acc: 0.8805 | valid_mcc: 0.7010  |  valid_auroc: 0.9210\n",
      "Epoch: 231 | train_loss: 0.3052 | train_bal_acc: 0.8661 | train_mcc: 0.7331 | train_auroc: 0.9446  |  valid_loss: 0.2841 | valid_bal_acc: 0.8810 | valid_mcc: 0.7026  |  valid_auroc: 0.9200\n",
      "Epoch: 232 | train_loss: 0.2970 | train_bal_acc: 0.8809 | train_mcc: 0.7612 | train_auroc: 0.9462  |  valid_loss: 0.2937 | valid_bal_acc: 0.8698 | valid_mcc: 0.7452  |  valid_auroc: 0.9516\n",
      "Epoch: 233 | train_loss: 0.3111 | train_bal_acc: 0.8689 | train_mcc: 0.7362 | train_auroc: 0.9405  |  valid_loss: 0.3021 | valid_bal_acc: 0.8738 | valid_mcc: 0.7471  |  valid_auroc: 0.9452\n",
      "Epoch: 234 | train_loss: 0.3042 | train_bal_acc: 0.8715 | train_mcc: 0.7430 | train_auroc: 0.9450  |  valid_loss: 0.3016 | valid_bal_acc: 0.8578 | valid_mcc: 0.7174  |  valid_auroc: 0.9416\n",
      "Epoch: 235 | train_loss: 0.3040 | train_bal_acc: 0.8747 | train_mcc: 0.7513 | train_auroc: 0.9435  |  valid_loss: 0.2999 | valid_bal_acc: 0.8714 | valid_mcc: 0.7463  |  valid_auroc: 0.9467\n",
      "Epoch: 236 | train_loss: 0.3034 | train_bal_acc: 0.8735 | train_mcc: 0.7460 | train_auroc: 0.9444  |  valid_loss: 0.3052 | valid_bal_acc: 0.8717 | valid_mcc: 0.7392  |  valid_auroc: 0.9424\n",
      "Epoch: 237 | train_loss: 0.2941 | train_bal_acc: 0.8782 | train_mcc: 0.7555 | train_auroc: 0.9479  |  valid_loss: 0.2931 | valid_bal_acc: 0.8604 | valid_mcc: 0.7205  |  valid_auroc: 0.9460\n",
      "Epoch: 238 | train_loss: 0.2972 | train_bal_acc: 0.8668 | train_mcc: 0.7356 | train_auroc: 0.9465  |  valid_loss: 0.3071 | valid_bal_acc: 0.8599 | valid_mcc: 0.7187  |  valid_auroc: 0.9414\n",
      "Epoch: 239 | train_loss: 0.2970 | train_bal_acc: 0.8688 | train_mcc: 0.7380 | train_auroc: 0.9477  |  valid_loss: 0.2809 | valid_bal_acc: 0.8811 | valid_mcc: 0.7635  |  valid_auroc: 0.9500\n",
      "Epoch: 240 | train_loss: 0.2931 | train_bal_acc: 0.8745 | train_mcc: 0.7467 | train_auroc: 0.9495  |  valid_loss: 0.2938 | valid_bal_acc: 0.8503 | valid_mcc: 0.6996  |  valid_auroc: 0.9349\n",
      "Epoch: 241 | train_loss: 0.2998 | train_bal_acc: 0.8699 | train_mcc: 0.7386 | train_auroc: 0.9454  |  valid_loss: 0.2828 | valid_bal_acc: 0.8749 | valid_mcc: 0.7468  |  valid_auroc: 0.9503\n",
      "Epoch: 242 | train_loss: 0.2991 | train_bal_acc: 0.8732 | train_mcc: 0.7466 | train_auroc: 0.9445  |  valid_loss: 0.2937 | valid_bal_acc: 0.8725 | valid_mcc: 0.7516  |  valid_auroc: 0.9536\n",
      "Epoch: 243 | train_loss: 0.3097 | train_bal_acc: 0.8681 | train_mcc: 0.7346 | train_auroc: 0.9421  |  valid_loss: 0.2862 | valid_bal_acc: 0.8764 | valid_mcc: 0.7494  |  valid_auroc: 0.9511\n",
      "Epoch: 244 | train_loss: 0.3041 | train_bal_acc: 0.8675 | train_mcc: 0.7352 | train_auroc: 0.9446  |  valid_loss: 0.2861 | valid_bal_acc: 0.8775 | valid_mcc: 0.7541  |  valid_auroc: 0.9530\n",
      "Epoch: 245 | train_loss: 0.2980 | train_bal_acc: 0.8708 | train_mcc: 0.7405 | train_auroc: 0.9466  |  valid_loss: 0.2803 | valid_bal_acc: 0.8815 | valid_mcc: 0.7623  |  valid_auroc: 0.9514\n",
      "Epoch: 246 | train_loss: 0.3077 | train_bal_acc: 0.8661 | train_mcc: 0.7341 | train_auroc: 0.9417  |  valid_loss: 0.2868 | valid_bal_acc: 0.8744 | valid_mcc: 0.7448  |  valid_auroc: 0.9545\n",
      "Epoch: 247 | train_loss: 0.2964 | train_bal_acc: 0.8764 | train_mcc: 0.7521 | train_auroc: 0.9481  |  valid_loss: 0.2890 | valid_bal_acc: 0.8728 | valid_mcc: 0.7505  |  valid_auroc: 0.9463\n",
      "Epoch: 248 | train_loss: 0.3088 | train_bal_acc: 0.8706 | train_mcc: 0.7400 | train_auroc: 0.9422  |  valid_loss: 0.2802 | valid_bal_acc: 0.8815 | valid_mcc: 0.7640  |  valid_auroc: 0.9494\n",
      "Epoch: 249 | train_loss: 0.3013 | train_bal_acc: 0.8715 | train_mcc: 0.7438 | train_auroc: 0.9432  |  valid_loss: 0.2806 | valid_bal_acc: 0.8780 | valid_mcc: 0.7563  |  valid_auroc: 0.9476\n",
      "Epoch: 250 | train_loss: 0.2981 | train_bal_acc: 0.8769 | train_mcc: 0.7548 | train_auroc: 0.9470  |  valid_loss: 0.2864 | valid_bal_acc: 0.8768 | valid_mcc: 0.7514  |  valid_auroc: 0.9456\n",
      "Epoch: 251 | train_loss: 0.2966 | train_bal_acc: 0.8796 | train_mcc: 0.7574 | train_auroc: 0.9473  |  valid_loss: 0.2830 | valid_bal_acc: 0.8775 | valid_mcc: 0.7528  |  valid_auroc: 0.9521\n",
      "Epoch: 252 | train_loss: 0.2919 | train_bal_acc: 0.8727 | train_mcc: 0.7450 | train_auroc: 0.9482  |  valid_loss: 0.2917 | valid_bal_acc: 0.8780 | valid_mcc: 0.7518  |  valid_auroc: 0.9451\n",
      "Epoch: 253 | train_loss: 0.2981 | train_bal_acc: 0.8727 | train_mcc: 0.7460 | train_auroc: 0.9467  |  valid_loss: 0.2838 | valid_bal_acc: 0.8772 | valid_mcc: 0.7554  |  valid_auroc: 0.9514\n",
      "Epoch: 254 | train_loss: 0.3023 | train_bal_acc: 0.8702 | train_mcc: 0.7403 | train_auroc: 0.9442  |  valid_loss: 0.3002 | valid_bal_acc: 0.8667 | valid_mcc: 0.7361  |  valid_auroc: 0.9433\n",
      "Epoch: 255 | train_loss: 0.2880 | train_bal_acc: 0.8800 | train_mcc: 0.7623 | train_auroc: 0.9509  |  valid_loss: 0.2789 | valid_bal_acc: 0.8838 | valid_mcc: 0.7669  |  valid_auroc: 0.9515\n",
      "Epoch: 256 | train_loss: 0.2943 | train_bal_acc: 0.8762 | train_mcc: 0.7526 | train_auroc: 0.9480  |  valid_loss: 0.2828 | valid_bal_acc: 0.8808 | valid_mcc: 0.7633  |  valid_auroc: 0.9518\n",
      "Epoch: 257 | train_loss: 0.2954 | train_bal_acc: 0.8725 | train_mcc: 0.7454 | train_auroc: 0.9470  |  valid_loss: 0.2926 | valid_bal_acc: 0.8656 | valid_mcc: 0.7274  |  valid_auroc: 0.9483\n",
      "Epoch: 258 | train_loss: 0.2939 | train_bal_acc: 0.8814 | train_mcc: 0.7630 | train_auroc: 0.9474  |  valid_loss: 0.2759 | valid_bal_acc: 0.8808 | valid_mcc: 0.7622  |  valid_auroc: 0.9507\n",
      "Epoch: 259 | train_loss: 0.3001 | train_bal_acc: 0.8751 | train_mcc: 0.7524 | train_auroc: 0.9445  |  valid_loss: 0.2860 | valid_bal_acc: 0.8756 | valid_mcc: 0.7531  |  valid_auroc: 0.9544\n",
      "Epoch: 260 | train_loss: 0.3040 | train_bal_acc: 0.8726 | train_mcc: 0.7442 | train_auroc: 0.9442  |  valid_loss: 0.2969 | valid_bal_acc: 0.8693 | valid_mcc: 0.7382  |  valid_auroc: 0.9414\n",
      "Epoch: 261 | train_loss: 0.3007 | train_bal_acc: 0.8612 | train_mcc: 0.7228 | train_auroc: 0.9439  |  valid_loss: 0.2978 | valid_bal_acc: 0.8742 | valid_mcc: 0.7460  |  valid_auroc: 0.9491\n",
      "Epoch: 262 | train_loss: 0.2883 | train_bal_acc: 0.8794 | train_mcc: 0.7586 | train_auroc: 0.9513  |  valid_loss: 0.2766 | valid_bal_acc: 0.8788 | valid_mcc: 0.7598  |  valid_auroc: 0.9504\n",
      "Epoch: 263 | train_loss: 0.3039 | train_bal_acc: 0.8690 | train_mcc: 0.7384 | train_auroc: 0.9437  |  valid_loss: 0.2868 | valid_bal_acc: 0.8793 | valid_mcc: 0.7555  |  valid_auroc: 0.9477\n",
      "Epoch: 264 | train_loss: 0.2938 | train_bal_acc: 0.8746 | train_mcc: 0.7506 | train_auroc: 0.9474  |  valid_loss: 0.2927 | valid_bal_acc: 0.8635 | valid_mcc: 0.7275  |  valid_auroc: 0.9468\n"
     ]
    },
    {
     "name": "stdout",
     "output_type": "stream",
     "text": [
      "Epoch: 265 | train_loss: 0.2962 | train_bal_acc: 0.8725 | train_mcc: 0.7448 | train_auroc: 0.9453  |  valid_loss: 0.2931 | valid_bal_acc: 0.8675 | valid_mcc: 0.7351  |  valid_auroc: 0.9509\n",
      "Epoch: 266 | train_loss: 0.2987 | train_bal_acc: 0.8725 | train_mcc: 0.7447 | train_auroc: 0.9448  |  valid_loss: 0.2858 | valid_bal_acc: 0.8760 | valid_mcc: 0.7519  |  valid_auroc: 0.9569\n",
      "Epoch: 267 | train_loss: 0.2909 | train_bal_acc: 0.8747 | train_mcc: 0.7500 | train_auroc: 0.9487  |  valid_loss: 0.2976 | valid_bal_acc: 0.8689 | valid_mcc: 0.7396  |  valid_auroc: 0.9564\n",
      "Epoch: 268 | train_loss: 0.3010 | train_bal_acc: 0.8691 | train_mcc: 0.7400 | train_auroc: 0.9450  |  valid_loss: 0.2789 | valid_bal_acc: 0.8772 | valid_mcc: 0.7540  |  valid_auroc: 0.9514\n",
      "Epoch: 269 | train_loss: 0.2916 | train_bal_acc: 0.8743 | train_mcc: 0.7490 | train_auroc: 0.9500  |  valid_loss: 0.2861 | valid_bal_acc: 0.8773 | valid_mcc: 0.7582  |  valid_auroc: 0.9463\n",
      "Epoch: 270 | train_loss: 0.2991 | train_bal_acc: 0.8725 | train_mcc: 0.7451 | train_auroc: 0.9459  |  valid_loss: 0.2794 | valid_bal_acc: 0.8844 | valid_mcc: 0.7699  |  valid_auroc: 0.9565\n",
      "Epoch: 271 | train_loss: 0.2943 | train_bal_acc: 0.8765 | train_mcc: 0.7525 | train_auroc: 0.9477  |  valid_loss: 0.2849 | valid_bal_acc: 0.8745 | valid_mcc: 0.7542  |  valid_auroc: 0.9496\n",
      "Epoch: 272 | train_loss: 0.3017 | train_bal_acc: 0.8659 | train_mcc: 0.7326 | train_auroc: 0.9441  |  valid_loss: 0.3013 | valid_bal_acc: 0.8750 | valid_mcc: 0.7450  |  valid_auroc: 0.9488\n",
      "Epoch: 273 | train_loss: 0.3057 | train_bal_acc: 0.8645 | train_mcc: 0.7299 | train_auroc: 0.9421  |  valid_loss: 0.2863 | valid_bal_acc: 0.8755 | valid_mcc: 0.7074  |  valid_auroc: 0.9227\n",
      "Epoch: 274 | train_loss: 0.2907 | train_bal_acc: 0.8771 | train_mcc: 0.7543 | train_auroc: 0.9484  |  valid_loss: 0.3004 | valid_bal_acc: 0.8690 | valid_mcc: 0.7471  |  valid_auroc: 0.9340\n",
      "Epoch: 275 | train_loss: 0.2960 | train_bal_acc: 0.8781 | train_mcc: 0.7538 | train_auroc: 0.9468  |  valid_loss: 0.2830 | valid_bal_acc: 0.8770 | valid_mcc: 0.7551  |  valid_auroc: 0.9538\n",
      "Epoch: 276 | train_loss: 0.3019 | train_bal_acc: 0.8754 | train_mcc: 0.7509 | train_auroc: 0.9439  |  valid_loss: 0.2800 | valid_bal_acc: 0.8818 | valid_mcc: 0.7649  |  valid_auroc: 0.9532\n",
      "Epoch: 277 | train_loss: 0.3053 | train_bal_acc: 0.8651 | train_mcc: 0.7304 | train_auroc: 0.9440  |  valid_loss: 0.2760 | valid_bal_acc: 0.8847 | valid_mcc: 0.7681  |  valid_auroc: 0.9539\n",
      "Epoch: 278 | train_loss: 0.2919 | train_bal_acc: 0.8829 | train_mcc: 0.7658 | train_auroc: 0.9498  |  valid_loss: 0.2741 | valid_bal_acc: 0.8811 | valid_mcc: 0.7626  |  valid_auroc: 0.9519\n",
      "Epoch: 279 | train_loss: 0.2913 | train_bal_acc: 0.8775 | train_mcc: 0.7553 | train_auroc: 0.9486  |  valid_loss: 0.2715 | valid_bal_acc: 0.8840 | valid_mcc: 0.7709  |  valid_auroc: 0.9530\n",
      "Epoch: 280 | train_loss: 0.2904 | train_bal_acc: 0.8774 | train_mcc: 0.7543 | train_auroc: 0.9486  |  valid_loss: 0.2733 | valid_bal_acc: 0.8850 | valid_mcc: 0.7692  |  valid_auroc: 0.9521\n",
      "Epoch: 281 | train_loss: 0.2882 | train_bal_acc: 0.8823 | train_mcc: 0.7653 | train_auroc: 0.9492  |  valid_loss: 0.2821 | valid_bal_acc: 0.8781 | valid_mcc: 0.7548  |  valid_auroc: 0.9511\n",
      "Epoch: 282 | train_loss: 0.3006 | train_bal_acc: 0.8739 | train_mcc: 0.7486 | train_auroc: 0.9446  |  valid_loss: 0.2735 | valid_bal_acc: 0.8840 | valid_mcc: 0.7650  |  valid_auroc: 0.9555\n",
      "Epoch: 283 | train_loss: 0.2897 | train_bal_acc: 0.8786 | train_mcc: 0.7584 | train_auroc: 0.9497  |  valid_loss: 0.2788 | valid_bal_acc: 0.8854 | valid_mcc: 0.7689  |  valid_auroc: 0.9548\n",
      "Epoch: 284 | train_loss: 0.2940 | train_bal_acc: 0.8726 | train_mcc: 0.7459 | train_auroc: 0.9470  |  valid_loss: 0.2778 | valid_bal_acc: 0.8843 | valid_mcc: 0.7689  |  valid_auroc: 0.9528\n",
      "Epoch: 285 | train_loss: 0.2924 | train_bal_acc: 0.8791 | train_mcc: 0.7563 | train_auroc: 0.9480  |  valid_loss: 0.2713 | valid_bal_acc: 0.8851 | valid_mcc: 0.7668  |  valid_auroc: 0.9550\n",
      "Epoch: 286 | train_loss: 0.2897 | train_bal_acc: 0.8750 | train_mcc: 0.7503 | train_auroc: 0.9500  |  valid_loss: 0.2740 | valid_bal_acc: 0.8839 | valid_mcc: 0.7673  |  valid_auroc: 0.9542\n",
      "Epoch: 287 | train_loss: 0.2998 | train_bal_acc: 0.8687 | train_mcc: 0.7367 | train_auroc: 0.9446  |  valid_loss: 0.2965 | valid_bal_acc: 0.8748 | valid_mcc: 0.7469  |  valid_auroc: 0.9435\n",
      "Epoch: 288 | train_loss: 0.2890 | train_bal_acc: 0.8771 | train_mcc: 0.7550 | train_auroc: 0.9497  |  valid_loss: 0.2794 | valid_bal_acc: 0.8815 | valid_mcc: 0.7594  |  valid_auroc: 0.9535\n",
      "Epoch: 289 | train_loss: 0.2947 | train_bal_acc: 0.8679 | train_mcc: 0.7363 | train_auroc: 0.9476  |  valid_loss: 0.2943 | valid_bal_acc: 0.8587 | valid_mcc: 0.7182  |  valid_auroc: 0.9397\n",
      "Epoch: 290 | train_loss: 0.2941 | train_bal_acc: 0.8749 | train_mcc: 0.7492 | train_auroc: 0.9480  |  valid_loss: 0.2948 | valid_bal_acc: 0.8795 | valid_mcc: 0.7587  |  valid_auroc: 0.9453\n",
      "Epoch: 291 | train_loss: 0.2914 | train_bal_acc: 0.8808 | train_mcc: 0.7612 | train_auroc: 0.9481  |  valid_loss: 0.2789 | valid_bal_acc: 0.8758 | valid_mcc: 0.7546  |  valid_auroc: 0.9544\n",
      "Epoch: 292 | train_loss: 0.2884 | train_bal_acc: 0.8703 | train_mcc: 0.7417 | train_auroc: 0.9495  |  valid_loss: 0.2693 | valid_bal_acc: 0.8833 | valid_mcc: 0.7687  |  valid_auroc: 0.9537\n",
      "Epoch: 293 | train_loss: 0.2924 | train_bal_acc: 0.8733 | train_mcc: 0.7470 | train_auroc: 0.9467  |  valid_loss: 0.2702 | valid_bal_acc: 0.8845 | valid_mcc: 0.7693  |  valid_auroc: 0.9554\n",
      "Epoch: 294 | train_loss: 0.2945 | train_bal_acc: 0.8770 | train_mcc: 0.7551 | train_auroc: 0.9476  |  valid_loss: 0.2760 | valid_bal_acc: 0.8865 | valid_mcc: 0.7712  |  valid_auroc: 0.9548\n",
      "Epoch: 295 | train_loss: 0.2906 | train_bal_acc: 0.8801 | train_mcc: 0.7594 | train_auroc: 0.9495  |  valid_loss: 0.2703 | valid_bal_acc: 0.8812 | valid_mcc: 0.7651  |  valid_auroc: 0.9539\n",
      "Epoch: 296 | train_loss: 0.2851 | train_bal_acc: 0.8762 | train_mcc: 0.7527 | train_auroc: 0.9522  |  valid_loss: 0.2697 | valid_bal_acc: 0.8830 | valid_mcc: 0.7675  |  valid_auroc: 0.9534\n",
      "Epoch: 297 | train_loss: 0.2889 | train_bal_acc: 0.8751 | train_mcc: 0.7482 | train_auroc: 0.9505  |  valid_loss: 0.2872 | valid_bal_acc: 0.8748 | valid_mcc: 0.7497  |  valid_auroc: 0.9485\n",
      "Epoch: 298 | train_loss: 0.2836 | train_bal_acc: 0.8769 | train_mcc: 0.7535 | train_auroc: 0.9507  |  valid_loss: 0.2787 | valid_bal_acc: 0.8834 | valid_mcc: 0.7687  |  valid_auroc: 0.9553\n",
      "Epoch: 299 | train_loss: 0.2892 | train_bal_acc: 0.8771 | train_mcc: 0.7544 | train_auroc: 0.9495  |  valid_loss: 0.2746 | valid_bal_acc: 0.8813 | valid_mcc: 0.7550  |  valid_auroc: 0.9535\n",
      "Epoch: 300 | train_loss: 0.2907 | train_bal_acc: 0.8767 | train_mcc: 0.7538 | train_auroc: 0.9493  |  valid_loss: 0.2720 | valid_bal_acc: 0.8844 | valid_mcc: 0.7679  |  valid_auroc: 0.9530\n",
      "Epoch: 301 | train_loss: 0.2926 | train_bal_acc: 0.8705 | train_mcc: 0.7406 | train_auroc: 0.9500  |  valid_loss: 0.2729 | valid_bal_acc: 0.8783 | valid_mcc: 0.7568  |  valid_auroc: 0.9555\n",
      "Epoch: 302 | train_loss: 0.2926 | train_bal_acc: 0.8797 | train_mcc: 0.7613 | train_auroc: 0.9479  |  valid_loss: 0.2771 | valid_bal_acc: 0.8745 | valid_mcc: 0.7525  |  valid_auroc: 0.9538\n",
      "Epoch: 303 | train_loss: 0.2901 | train_bal_acc: 0.8818 | train_mcc: 0.7628 | train_auroc: 0.9497  |  valid_loss: 0.2869 | valid_bal_acc: 0.8775 | valid_mcc: 0.7483  |  valid_auroc: 0.9557\n",
      "Epoch: 304 | train_loss: 0.2843 | train_bal_acc: 0.8829 | train_mcc: 0.7669 | train_auroc: 0.9514  |  valid_loss: 0.2708 | valid_bal_acc: 0.8879 | valid_mcc: 0.7749  |  valid_auroc: 0.9559\n",
      "Epoch: 305 | train_loss: 0.2821 | train_bal_acc: 0.8824 | train_mcc: 0.7642 | train_auroc: 0.9511  |  valid_loss: 0.2803 | valid_bal_acc: 0.8726 | valid_mcc: 0.7430  |  valid_auroc: 0.9518\n",
      "Epoch: 306 | train_loss: 0.2909 | train_bal_acc: 0.8755 | train_mcc: 0.7519 | train_auroc: 0.9502  |  valid_loss: 0.2811 | valid_bal_acc: 0.8707 | valid_mcc: 0.7403  |  valid_auroc: 0.9502\n",
      "Epoch: 307 | train_loss: 0.2937 | train_bal_acc: 0.8763 | train_mcc: 0.7531 | train_auroc: 0.9469  |  valid_loss: 0.2755 | valid_bal_acc: 0.8811 | valid_mcc: 0.7645  |  valid_auroc: 0.9514\n",
      "Epoch: 308 | train_loss: 0.2886 | train_bal_acc: 0.8764 | train_mcc: 0.7513 | train_auroc: 0.9504  |  valid_loss: 0.2695 | valid_bal_acc: 0.8851 | valid_mcc: 0.7711  |  valid_auroc: 0.9549\n"
     ]
    },
    {
     "name": "stdout",
     "output_type": "stream",
     "text": [
      "Epoch: 309 | train_loss: 0.2873 | train_bal_acc: 0.8762 | train_mcc: 0.7535 | train_auroc: 0.9504  |  valid_loss: 0.2745 | valid_bal_acc: 0.8862 | valid_mcc: 0.7730  |  valid_auroc: 0.9531\n",
      "Epoch: 310 | train_loss: 0.2818 | train_bal_acc: 0.8816 | train_mcc: 0.7633 | train_auroc: 0.9535  |  valid_loss: 0.2777 | valid_bal_acc: 0.8821 | valid_mcc: 0.7648  |  valid_auroc: 0.9533\n",
      "Epoch: 311 | train_loss: 0.2819 | train_bal_acc: 0.8830 | train_mcc: 0.7644 | train_auroc: 0.9514  |  valid_loss: 0.2735 | valid_bal_acc: 0.8853 | valid_mcc: 0.7705  |  valid_auroc: 0.9533\n",
      "Epoch: 312 | train_loss: 0.2828 | train_bal_acc: 0.8823 | train_mcc: 0.7643 | train_auroc: 0.9515  |  valid_loss: 0.2825 | valid_bal_acc: 0.8837 | valid_mcc: 0.7562  |  valid_auroc: 0.9551\n",
      "Epoch: 313 | train_loss: 0.2834 | train_bal_acc: 0.8806 | train_mcc: 0.7604 | train_auroc: 0.9505  |  valid_loss: 0.2737 | valid_bal_acc: 0.8758 | valid_mcc: 0.7566  |  valid_auroc: 0.9536\n",
      "Epoch: 314 | train_loss: 0.2815 | train_bal_acc: 0.8847 | train_mcc: 0.7697 | train_auroc: 0.9531  |  valid_loss: 0.2813 | valid_bal_acc: 0.8804 | valid_mcc: 0.7611  |  valid_auroc: 0.9551\n",
      "Epoch: 315 | train_loss: 0.2868 | train_bal_acc: 0.8759 | train_mcc: 0.7515 | train_auroc: 0.9517  |  valid_loss: 0.2978 | valid_bal_acc: 0.8775 | valid_mcc: 0.7493  |  valid_auroc: 0.9513\n",
      "Epoch: 316 | train_loss: 0.2895 | train_bal_acc: 0.8767 | train_mcc: 0.7504 | train_auroc: 0.9501  |  valid_loss: 0.2960 | valid_bal_acc: 0.8677 | valid_mcc: 0.7356  |  valid_auroc: 0.9463\n",
      "Epoch: 317 | train_loss: 0.2804 | train_bal_acc: 0.8827 | train_mcc: 0.7654 | train_auroc: 0.9519  |  valid_loss: 0.2778 | valid_bal_acc: 0.8782 | valid_mcc: 0.7600  |  valid_auroc: 0.9537\n",
      "Epoch: 318 | train_loss: 0.2890 | train_bal_acc: 0.8744 | train_mcc: 0.7492 | train_auroc: 0.9486  |  valid_loss: 0.2690 | valid_bal_acc: 0.8864 | valid_mcc: 0.7722  |  valid_auroc: 0.9535\n",
      "Epoch: 319 | train_loss: 0.2830 | train_bal_acc: 0.8838 | train_mcc: 0.7667 | train_auroc: 0.9523  |  valid_loss: 0.2717 | valid_bal_acc: 0.8844 | valid_mcc: 0.7699  |  valid_auroc: 0.9550\n",
      "Epoch: 320 | train_loss: 0.2908 | train_bal_acc: 0.8699 | train_mcc: 0.7406 | train_auroc: 0.9480  |  valid_loss: 0.2676 | valid_bal_acc: 0.8871 | valid_mcc: 0.7740  |  valid_auroc: 0.9547\n",
      "Epoch: 321 | train_loss: 0.2856 | train_bal_acc: 0.8821 | train_mcc: 0.7632 | train_auroc: 0.9511  |  valid_loss: 0.2812 | valid_bal_acc: 0.8752 | valid_mcc: 0.7499  |  valid_auroc: 0.9517\n",
      "Epoch: 322 | train_loss: 0.2829 | train_bal_acc: 0.8783 | train_mcc: 0.7556 | train_auroc: 0.9535  |  valid_loss: 0.2809 | valid_bal_acc: 0.8836 | valid_mcc: 0.7617  |  valid_auroc: 0.9496\n",
      "Epoch: 323 | train_loss: 0.2841 | train_bal_acc: 0.8755 | train_mcc: 0.7517 | train_auroc: 0.9521  |  valid_loss: 0.3151 | valid_bal_acc: 0.8687 | valid_mcc: 0.7381  |  valid_auroc: 0.9360\n",
      "Epoch: 324 | train_loss: 0.2900 | train_bal_acc: 0.8767 | train_mcc: 0.7534 | train_auroc: 0.9483  |  valid_loss: 0.2662 | valid_bal_acc: 0.8852 | valid_mcc: 0.7694  |  valid_auroc: 0.9543\n",
      "Epoch: 325 | train_loss: 0.2892 | train_bal_acc: 0.8769 | train_mcc: 0.7538 | train_auroc: 0.9505  |  valid_loss: 0.2664 | valid_bal_acc: 0.8876 | valid_mcc: 0.7728  |  valid_auroc: 0.9550\n",
      "Epoch: 326 | train_loss: 0.2847 | train_bal_acc: 0.8784 | train_mcc: 0.7572 | train_auroc: 0.9507  |  valid_loss: 0.2797 | valid_bal_acc: 0.8774 | valid_mcc: 0.7600  |  valid_auroc: 0.9498\n",
      "Epoch: 327 | train_loss: 0.2851 | train_bal_acc: 0.8741 | train_mcc: 0.7485 | train_auroc: 0.9496  |  valid_loss: 0.2785 | valid_bal_acc: 0.8822 | valid_mcc: 0.7636  |  valid_auroc: 0.9523\n",
      "Epoch: 328 | train_loss: 0.2770 | train_bal_acc: 0.8818 | train_mcc: 0.7625 | train_auroc: 0.9540  |  valid_loss: 0.2675 | valid_bal_acc: 0.8836 | valid_mcc: 0.7676  |  valid_auroc: 0.9552\n",
      "Epoch: 329 | train_loss: 0.2829 | train_bal_acc: 0.8768 | train_mcc: 0.7561 | train_auroc: 0.9498  |  valid_loss: 0.2738 | valid_bal_acc: 0.8833 | valid_mcc: 0.7682  |  valid_auroc: 0.9548\n",
      "Epoch: 330 | train_loss: 0.2879 | train_bal_acc: 0.8793 | train_mcc: 0.7615 | train_auroc: 0.9489  |  valid_loss: 0.2955 | valid_bal_acc: 0.8808 | valid_mcc: 0.7604  |  valid_auroc: 0.9505\n",
      "Epoch: 331 | train_loss: 0.2743 | train_bal_acc: 0.8870 | train_mcc: 0.7746 | train_auroc: 0.9552  |  valid_loss: 0.2716 | valid_bal_acc: 0.8821 | valid_mcc: 0.7629  |  valid_auroc: 0.9567\n",
      "Epoch: 332 | train_loss: 0.2908 | train_bal_acc: 0.8774 | train_mcc: 0.7536 | train_auroc: 0.9491  |  valid_loss: 0.2749 | valid_bal_acc: 0.8813 | valid_mcc: 0.7644  |  valid_auroc: 0.9548\n",
      "Epoch: 333 | train_loss: 0.2867 | train_bal_acc: 0.8766 | train_mcc: 0.7539 | train_auroc: 0.9508  |  valid_loss: 0.2747 | valid_bal_acc: 0.8844 | valid_mcc: 0.7642  |  valid_auroc: 0.9565\n",
      "Epoch: 334 | train_loss: 0.2859 | train_bal_acc: 0.8753 | train_mcc: 0.7509 | train_auroc: 0.9511  |  valid_loss: 0.2681 | valid_bal_acc: 0.8879 | valid_mcc: 0.7752  |  valid_auroc: 0.9574\n",
      "Epoch: 335 | train_loss: 0.2821 | train_bal_acc: 0.8755 | train_mcc: 0.7517 | train_auroc: 0.9509  |  valid_loss: 0.2674 | valid_bal_acc: 0.8891 | valid_mcc: 0.7780  |  valid_auroc: 0.9539\n",
      "Epoch: 336 | train_loss: 0.2886 | train_bal_acc: 0.8771 | train_mcc: 0.7544 | train_auroc: 0.9491  |  valid_loss: 0.2692 | valid_bal_acc: 0.8863 | valid_mcc: 0.7731  |  valid_auroc: 0.9551\n",
      "Epoch: 337 | train_loss: 0.2817 | train_bal_acc: 0.8855 | train_mcc: 0.7705 | train_auroc: 0.9516  |  valid_loss: 0.2825 | valid_bal_acc: 0.8773 | valid_mcc: 0.7567  |  valid_auroc: 0.9548\n",
      "Epoch: 338 | train_loss: 0.2741 | train_bal_acc: 0.8869 | train_mcc: 0.7734 | train_auroc: 0.9552  |  valid_loss: 0.2676 | valid_bal_acc: 0.8865 | valid_mcc: 0.7724  |  valid_auroc: 0.9558\n",
      "Epoch: 339 | train_loss: 0.2878 | train_bal_acc: 0.8807 | train_mcc: 0.7629 | train_auroc: 0.9488  |  valid_loss: 0.2749 | valid_bal_acc: 0.8896 | valid_mcc: 0.7758  |  valid_auroc: 0.9565\n",
      "Epoch: 340 | train_loss: 0.2933 | train_bal_acc: 0.8777 | train_mcc: 0.7549 | train_auroc: 0.9476  |  valid_loss: 0.2866 | valid_bal_acc: 0.8802 | valid_mcc: 0.7566  |  valid_auroc: 0.9457\n",
      "Epoch: 341 | train_loss: 0.2884 | train_bal_acc: 0.8783 | train_mcc: 0.7555 | train_auroc: 0.9499  |  valid_loss: 0.2693 | valid_bal_acc: 0.8907 | valid_mcc: 0.7804  |  valid_auroc: 0.9564\n",
      "Epoch: 342 | train_loss: 0.2804 | train_bal_acc: 0.8862 | train_mcc: 0.7725 | train_auroc: 0.9511  |  valid_loss: 0.2711 | valid_bal_acc: 0.8876 | valid_mcc: 0.7622  |  valid_auroc: 0.9585\n",
      "Epoch: 343 | train_loss: 0.2767 | train_bal_acc: 0.8802 | train_mcc: 0.7607 | train_auroc: 0.9533  |  valid_loss: 0.2697 | valid_bal_acc: 0.8887 | valid_mcc: 0.7761  |  valid_auroc: 0.9562\n",
      "Epoch: 344 | train_loss: 0.2876 | train_bal_acc: 0.8798 | train_mcc: 0.7589 | train_auroc: 0.9492  |  valid_loss: 0.2862 | valid_bal_acc: 0.8774 | valid_mcc: 0.7562  |  valid_auroc: 0.9566\n",
      "Epoch: 345 | train_loss: 0.2832 | train_bal_acc: 0.8808 | train_mcc: 0.7621 | train_auroc: 0.9508  |  valid_loss: 0.2731 | valid_bal_acc: 0.8822 | valid_mcc: 0.7600  |  valid_auroc: 0.9552\n",
      "Epoch: 346 | train_loss: 0.2907 | train_bal_acc: 0.8781 | train_mcc: 0.7552 | train_auroc: 0.9497  |  valid_loss: 0.2742 | valid_bal_acc: 0.8803 | valid_mcc: 0.7630  |  valid_auroc: 0.9564\n",
      "Epoch: 347 | train_loss: 0.2843 | train_bal_acc: 0.8796 | train_mcc: 0.7591 | train_auroc: 0.9507  |  valid_loss: 0.2758 | valid_bal_acc: 0.8815 | valid_mcc: 0.7636  |  valid_auroc: 0.9572\n",
      "Epoch: 348 | train_loss: 0.2821 | train_bal_acc: 0.8840 | train_mcc: 0.7685 | train_auroc: 0.9517  |  valid_loss: 0.2794 | valid_bal_acc: 0.8798 | valid_mcc: 0.7600  |  valid_auroc: 0.9498\n",
      "Epoch: 349 | train_loss: 0.2872 | train_bal_acc: 0.8715 | train_mcc: 0.7435 | train_auroc: 0.9499  |  valid_loss: 0.2732 | valid_bal_acc: 0.8823 | valid_mcc: 0.7640  |  valid_auroc: 0.9546\n",
      "Epoch: 350 | train_loss: 0.2766 | train_bal_acc: 0.8871 | train_mcc: 0.7749 | train_auroc: 0.9533  |  valid_loss: 0.2664 | valid_bal_acc: 0.8866 | valid_mcc: 0.7141  |  valid_auroc: 0.9244\n",
      "Epoch: 351 | train_loss: 0.2845 | train_bal_acc: 0.8833 | train_mcc: 0.7651 | train_auroc: 0.9503  |  valid_loss: 0.2725 | valid_bal_acc: 0.8839 | valid_mcc: 0.7673  |  valid_auroc: 0.9584\n",
      "Epoch: 352 | train_loss: 0.2802 | train_bal_acc: 0.8787 | train_mcc: 0.7586 | train_auroc: 0.9501  |  valid_loss: 0.2756 | valid_bal_acc: 0.8806 | valid_mcc: 0.7605  |  valid_auroc: 0.9578\n"
     ]
    },
    {
     "name": "stdout",
     "output_type": "stream",
     "text": [
      "Epoch: 353 | train_loss: 0.2781 | train_bal_acc: 0.8840 | train_mcc: 0.7678 | train_auroc: 0.9526  |  valid_loss: 0.2673 | valid_bal_acc: 0.8886 | valid_mcc: 0.7763  |  valid_auroc: 0.9573\n",
      "Epoch: 354 | train_loss: 0.2762 | train_bal_acc: 0.8865 | train_mcc: 0.7722 | train_auroc: 0.9531  |  valid_loss: 0.2680 | valid_bal_acc: 0.8900 | valid_mcc: 0.7815  |  valid_auroc: 0.9585\n",
      "Epoch: 355 | train_loss: 0.2761 | train_bal_acc: 0.8849 | train_mcc: 0.7700 | train_auroc: 0.9540  |  valid_loss: 0.2696 | valid_bal_acc: 0.8824 | valid_mcc: 0.7621  |  valid_auroc: 0.9552\n",
      "Epoch: 356 | train_loss: 0.2802 | train_bal_acc: 0.8811 | train_mcc: 0.7640 | train_auroc: 0.9518  |  valid_loss: 0.2663 | valid_bal_acc: 0.8907 | valid_mcc: 0.7814  |  valid_auroc: 0.9578\n",
      "Epoch: 357 | train_loss: 0.2811 | train_bal_acc: 0.8794 | train_mcc: 0.7593 | train_auroc: 0.9522  |  valid_loss: 0.2651 | valid_bal_acc: 0.8901 | valid_mcc: 0.7801  |  valid_auroc: 0.9528\n",
      "Epoch: 358 | train_loss: 0.2845 | train_bal_acc: 0.8785 | train_mcc: 0.7565 | train_auroc: 0.9506  |  valid_loss: 0.2879 | valid_bal_acc: 0.8814 | valid_mcc: 0.7636  |  valid_auroc: 0.9445\n",
      "Epoch: 359 | train_loss: 0.2903 | train_bal_acc: 0.8757 | train_mcc: 0.7520 | train_auroc: 0.9488  |  valid_loss: 0.2722 | valid_bal_acc: 0.8818 | valid_mcc: 0.7669  |  valid_auroc: 0.9558\n",
      "Epoch: 360 | train_loss: 0.2710 | train_bal_acc: 0.8838 | train_mcc: 0.7680 | train_auroc: 0.9559  |  valid_loss: 0.2836 | valid_bal_acc: 0.8829 | valid_mcc: 0.7621  |  valid_auroc: 0.9535\n",
      "Epoch: 361 | train_loss: 0.2831 | train_bal_acc: 0.8789 | train_mcc: 0.7574 | train_auroc: 0.9516  |  valid_loss: 0.2687 | valid_bal_acc: 0.8893 | valid_mcc: 0.7768  |  valid_auroc: 0.9553\n",
      "Epoch: 362 | train_loss: 0.2780 | train_bal_acc: 0.8820 | train_mcc: 0.7630 | train_auroc: 0.9523  |  valid_loss: 0.2698 | valid_bal_acc: 0.8876 | valid_mcc: 0.7665  |  valid_auroc: 0.9567\n",
      "Epoch: 363 | train_loss: 0.2827 | train_bal_acc: 0.8819 | train_mcc: 0.7630 | train_auroc: 0.9512  |  valid_loss: 0.2816 | valid_bal_acc: 0.8684 | valid_mcc: 0.7378  |  valid_auroc: 0.9522\n",
      "Epoch: 364 | train_loss: 0.2910 | train_bal_acc: 0.8801 | train_mcc: 0.7593 | train_auroc: 0.9475  |  valid_loss: 0.2745 | valid_bal_acc: 0.8702 | valid_mcc: 0.7529  |  valid_auroc: 0.9562\n",
      "Epoch: 365 | train_loss: 0.2892 | train_bal_acc: 0.8766 | train_mcc: 0.7541 | train_auroc: 0.9494  |  valid_loss: 0.2688 | valid_bal_acc: 0.8902 | valid_mcc: 0.7800  |  valid_auroc: 0.9567\n",
      "Epoch: 366 | train_loss: 0.2742 | train_bal_acc: 0.8821 | train_mcc: 0.7650 | train_auroc: 0.9545  |  valid_loss: 0.2674 | valid_bal_acc: 0.8928 | valid_mcc: 0.7827  |  valid_auroc: 0.9579\n",
      "Epoch: 367 | train_loss: 0.2790 | train_bal_acc: 0.8833 | train_mcc: 0.7663 | train_auroc: 0.9537  |  valid_loss: 0.2846 | valid_bal_acc: 0.8794 | valid_mcc: 0.7610  |  valid_auroc: 0.9558\n",
      "Epoch: 368 | train_loss: 0.2826 | train_bal_acc: 0.8779 | train_mcc: 0.7561 | train_auroc: 0.9522  |  valid_loss: 0.3070 | valid_bal_acc: 0.8628 | valid_mcc: 0.7276  |  valid_auroc: 0.9404\n",
      "Epoch: 369 | train_loss: 0.2816 | train_bal_acc: 0.8802 | train_mcc: 0.7598 | train_auroc: 0.9535  |  valid_loss: 0.2712 | valid_bal_acc: 0.8869 | valid_mcc: 0.7735  |  valid_auroc: 0.9585\n",
      "Epoch: 370 | train_loss: 0.2768 | train_bal_acc: 0.8801 | train_mcc: 0.7613 | train_auroc: 0.9531  |  valid_loss: 0.2746 | valid_bal_acc: 0.8785 | valid_mcc: 0.7605  |  valid_auroc: 0.9587\n",
      "Epoch: 371 | train_loss: 0.2842 | train_bal_acc: 0.8806 | train_mcc: 0.7606 | train_auroc: 0.9506  |  valid_loss: 0.2740 | valid_bal_acc: 0.8839 | valid_mcc: 0.7654  |  valid_auroc: 0.9579\n",
      "Epoch: 372 | train_loss: 0.2800 | train_bal_acc: 0.8840 | train_mcc: 0.7679 | train_auroc: 0.9540  |  valid_loss: 0.2746 | valid_bal_acc: 0.8819 | valid_mcc: 0.7625  |  valid_auroc: 0.9559\n",
      "Epoch: 373 | train_loss: 0.2836 | train_bal_acc: 0.8794 | train_mcc: 0.7598 | train_auroc: 0.9516  |  valid_loss: 0.2678 | valid_bal_acc: 0.8929 | valid_mcc: 0.7880  |  valid_auroc: 0.9590\n",
      "Epoch: 374 | train_loss: 0.2768 | train_bal_acc: 0.8801 | train_mcc: 0.7616 | train_auroc: 0.9538  |  valid_loss: 0.2755 | valid_bal_acc: 0.8868 | valid_mcc: 0.7698  |  valid_auroc: 0.9559\n",
      "Epoch: 375 | train_loss: 0.2808 | train_bal_acc: 0.8777 | train_mcc: 0.7548 | train_auroc: 0.9523  |  valid_loss: 0.2924 | valid_bal_acc: 0.8689 | valid_mcc: 0.7350  |  valid_auroc: 0.9468\n",
      "Epoch: 376 | train_loss: 0.2845 | train_bal_acc: 0.8811 | train_mcc: 0.7622 | train_auroc: 0.9516  |  valid_loss: 0.2912 | valid_bal_acc: 0.8697 | valid_mcc: 0.7472  |  valid_auroc: 0.9522\n",
      "Epoch: 377 | train_loss: 0.2878 | train_bal_acc: 0.8825 | train_mcc: 0.7641 | train_auroc: 0.9488  |  valid_loss: 0.2677 | valid_bal_acc: 0.8917 | valid_mcc: 0.7819  |  valid_auroc: 0.9578\n",
      "Epoch: 378 | train_loss: 0.2781 | train_bal_acc: 0.8818 | train_mcc: 0.7632 | train_auroc: 0.9526  |  valid_loss: 0.2681 | valid_bal_acc: 0.8802 | valid_mcc: 0.7670  |  valid_auroc: 0.9553\n",
      "Epoch: 379 | train_loss: 0.2856 | train_bal_acc: 0.8767 | train_mcc: 0.7541 | train_auroc: 0.9517  |  valid_loss: 0.2609 | valid_bal_acc: 0.8887 | valid_mcc: 0.7788  |  valid_auroc: 0.9546\n",
      "Epoch: 380 | train_loss: 0.2805 | train_bal_acc: 0.8794 | train_mcc: 0.7596 | train_auroc: 0.9525  |  valid_loss: 0.2719 | valid_bal_acc: 0.8857 | valid_mcc: 0.7660  |  valid_auroc: 0.9541\n",
      "Epoch: 381 | train_loss: 0.2771 | train_bal_acc: 0.8813 | train_mcc: 0.7630 | train_auroc: 0.9538  |  valid_loss: 0.2781 | valid_bal_acc: 0.8842 | valid_mcc: 0.7664  |  valid_auroc: 0.9582\n",
      "Epoch: 382 | train_loss: 0.2837 | train_bal_acc: 0.8751 | train_mcc: 0.7509 | train_auroc: 0.9513  |  valid_loss: 0.2661 | valid_bal_acc: 0.8889 | valid_mcc: 0.7766  |  valid_auroc: 0.9570\n",
      "Epoch: 383 | train_loss: 0.2836 | train_bal_acc: 0.8757 | train_mcc: 0.7519 | train_auroc: 0.9503  |  valid_loss: 0.3037 | valid_bal_acc: 0.8799 | valid_mcc: 0.7588  |  valid_auroc: 0.9501\n",
      "Epoch: 384 | train_loss: 0.2770 | train_bal_acc: 0.8813 | train_mcc: 0.7615 | train_auroc: 0.9530  |  valid_loss: 0.2691 | valid_bal_acc: 0.8849 | valid_mcc: 0.7677  |  valid_auroc: 0.9584\n",
      "Epoch: 385 | train_loss: 0.2694 | train_bal_acc: 0.8905 | train_mcc: 0.7772 | train_auroc: 0.9578  |  valid_loss: 0.2699 | valid_bal_acc: 0.8824 | valid_mcc: 0.7632  |  valid_auroc: 0.9572\n",
      "Epoch: 386 | train_loss: 0.2746 | train_bal_acc: 0.8821 | train_mcc: 0.7649 | train_auroc: 0.9544  |  valid_loss: 0.2654 | valid_bal_acc: 0.8915 | valid_mcc: 0.7813  |  valid_auroc: 0.9561\n",
      "Epoch: 387 | train_loss: 0.2703 | train_bal_acc: 0.8902 | train_mcc: 0.7816 | train_auroc: 0.9559  |  valid_loss: 0.2717 | valid_bal_acc: 0.8817 | valid_mcc: 0.7668  |  valid_auroc: 0.9567\n",
      "Epoch: 388 | train_loss: 0.2726 | train_bal_acc: 0.8837 | train_mcc: 0.7665 | train_auroc: 0.9569  |  valid_loss: 0.2628 | valid_bal_acc: 0.8907 | valid_mcc: 0.7809  |  valid_auroc: 0.9564\n",
      "Epoch: 389 | train_loss: 0.2715 | train_bal_acc: 0.8860 | train_mcc: 0.7721 | train_auroc: 0.9566  |  valid_loss: 0.2617 | valid_bal_acc: 0.8895 | valid_mcc: 0.7789  |  valid_auroc: 0.9558\n",
      "Epoch: 390 | train_loss: 0.2786 | train_bal_acc: 0.8784 | train_mcc: 0.7564 | train_auroc: 0.9520  |  valid_loss: 0.2724 | valid_bal_acc: 0.8846 | valid_mcc: 0.7676  |  valid_auroc: 0.9578\n",
      "Epoch: 391 | train_loss: 0.2753 | train_bal_acc: 0.8801 | train_mcc: 0.7611 | train_auroc: 0.9540  |  valid_loss: 0.2611 | valid_bal_acc: 0.8897 | valid_mcc: 0.7772  |  valid_auroc: 0.9576\n",
      "Epoch: 392 | train_loss: 0.2736 | train_bal_acc: 0.8832 | train_mcc: 0.7640 | train_auroc: 0.9554  |  valid_loss: 0.2675 | valid_bal_acc: 0.8860 | valid_mcc: 0.7719  |  valid_auroc: 0.9600\n",
      "Epoch: 393 | train_loss: 0.2702 | train_bal_acc: 0.8918 | train_mcc: 0.7848 | train_auroc: 0.9552  |  valid_loss: 0.2709 | valid_bal_acc: 0.8868 | valid_mcc: 0.7719  |  valid_auroc: 0.9585\n",
      "Epoch: 394 | train_loss: 0.2761 | train_bal_acc: 0.8837 | train_mcc: 0.7666 | train_auroc: 0.9527  |  valid_loss: 0.2660 | valid_bal_acc: 0.8843 | valid_mcc: 0.7715  |  valid_auroc: 0.9581\n",
      "Epoch: 395 | train_loss: 0.2859 | train_bal_acc: 0.8792 | train_mcc: 0.7593 | train_auroc: 0.9488  |  valid_loss: 0.2721 | valid_bal_acc: 0.8763 | valid_mcc: 0.7596  |  valid_auroc: 0.9558\n",
      "Epoch: 396 | train_loss: 0.2718 | train_bal_acc: 0.8820 | train_mcc: 0.7634 | train_auroc: 0.9570  |  valid_loss: 0.2739 | valid_bal_acc: 0.8904 | valid_mcc: 0.7782  |  valid_auroc: 0.9585\n"
     ]
    },
    {
     "name": "stdout",
     "output_type": "stream",
     "text": [
      "Epoch: 397 | train_loss: 0.2799 | train_bal_acc: 0.8745 | train_mcc: 0.7497 | train_auroc: 0.9525  |  valid_loss: 0.2946 | valid_bal_acc: 0.8852 | valid_mcc: 0.7552  |  valid_auroc: 0.9502\n",
      "Epoch: 398 | train_loss: 0.2678 | train_bal_acc: 0.8888 | train_mcc: 0.7788 | train_auroc: 0.9555  |  valid_loss: 0.2705 | valid_bal_acc: 0.8789 | valid_mcc: 0.7681  |  valid_auroc: 0.9570\n",
      "Epoch: 399 | train_loss: 0.2747 | train_bal_acc: 0.8846 | train_mcc: 0.7685 | train_auroc: 0.9539  |  valid_loss: 0.2655 | valid_bal_acc: 0.8899 | valid_mcc: 0.7817  |  valid_auroc: 0.9570\n",
      "Epoch: 400 | train_loss: 0.2716 | train_bal_acc: 0.8825 | train_mcc: 0.7632 | train_auroc: 0.9549  |  valid_loss: 0.2641 | valid_bal_acc: 0.8903 | valid_mcc: 0.7836  |  valid_auroc: 0.9575\n",
      "Epoch: 401 | train_loss: 0.2789 | train_bal_acc: 0.8844 | train_mcc: 0.7688 | train_auroc: 0.9534  |  valid_loss: 0.2632 | valid_bal_acc: 0.8918 | valid_mcc: 0.7812  |  valid_auroc: 0.9595\n",
      "Epoch: 402 | train_loss: 0.2740 | train_bal_acc: 0.8813 | train_mcc: 0.7626 | train_auroc: 0.9541  |  valid_loss: 0.2734 | valid_bal_acc: 0.8781 | valid_mcc: 0.7530  |  valid_auroc: 0.9493\n",
      "Epoch: 403 | train_loss: 0.2796 | train_bal_acc: 0.8797 | train_mcc: 0.7599 | train_auroc: 0.9513  |  valid_loss: 0.2663 | valid_bal_acc: 0.8917 | valid_mcc: 0.7856  |  valid_auroc: 0.9556\n",
      "Epoch: 404 | train_loss: 0.2775 | train_bal_acc: 0.8771 | train_mcc: 0.7543 | train_auroc: 0.9525  |  valid_loss: 0.2867 | valid_bal_acc: 0.8869 | valid_mcc: 0.7725  |  valid_auroc: 0.9510\n",
      "Epoch: 405 | train_loss: 0.2771 | train_bal_acc: 0.8792 | train_mcc: 0.7591 | train_auroc: 0.9526  |  valid_loss: 0.2633 | valid_bal_acc: 0.8887 | valid_mcc: 0.7786  |  valid_auroc: 0.9565\n",
      "Epoch: 406 | train_loss: 0.2738 | train_bal_acc: 0.8830 | train_mcc: 0.7660 | train_auroc: 0.9538  |  valid_loss: 0.2701 | valid_bal_acc: 0.8848 | valid_mcc: 0.7692  |  valid_auroc: 0.9569\n",
      "Epoch: 407 | train_loss: 0.2779 | train_bal_acc: 0.8757 | train_mcc: 0.7515 | train_auroc: 0.9538  |  valid_loss: 0.2626 | valid_bal_acc: 0.8909 | valid_mcc: 0.7839  |  valid_auroc: 0.9579\n",
      "Epoch: 408 | train_loss: 0.2780 | train_bal_acc: 0.8808 | train_mcc: 0.7611 | train_auroc: 0.9527  |  valid_loss: 0.2778 | valid_bal_acc: 0.8733 | valid_mcc: 0.7467  |  valid_auroc: 0.9464\n",
      "Epoch: 409 | train_loss: 0.2667 | train_bal_acc: 0.8979 | train_mcc: 0.7959 | train_auroc: 0.9560  |  valid_loss: 0.2714 | valid_bal_acc: 0.8919 | valid_mcc: 0.7839  |  valid_auroc: 0.9583\n",
      "Epoch: 410 | train_loss: 0.2751 | train_bal_acc: 0.8840 | train_mcc: 0.7677 | train_auroc: 0.9541  |  valid_loss: 0.2795 | valid_bal_acc: 0.8858 | valid_mcc: 0.7723  |  valid_auroc: 0.9580\n",
      "Epoch: 411 | train_loss: 0.2726 | train_bal_acc: 0.8811 | train_mcc: 0.7622 | train_auroc: 0.9553  |  valid_loss: 0.2898 | valid_bal_acc: 0.8842 | valid_mcc: 0.7680  |  valid_auroc: 0.9438\n",
      "Epoch: 412 | train_loss: 0.2694 | train_bal_acc: 0.8847 | train_mcc: 0.7703 | train_auroc: 0.9563  |  valid_loss: 0.2850 | valid_bal_acc: 0.8772 | valid_mcc: 0.7612  |  valid_auroc: 0.9429\n",
      "Epoch: 413 | train_loss: 0.2677 | train_bal_acc: 0.8892 | train_mcc: 0.7791 | train_auroc: 0.9560  |  valid_loss: 0.2755 | valid_bal_acc: 0.8895 | valid_mcc: 0.7773  |  valid_auroc: 0.9536\n",
      "Epoch: 414 | train_loss: 0.2677 | train_bal_acc: 0.8849 | train_mcc: 0.7715 | train_auroc: 0.9563  |  valid_loss: 0.2625 | valid_bal_acc: 0.8945 | valid_mcc: 0.7896  |  valid_auroc: 0.9571\n",
      "Epoch: 415 | train_loss: 0.2764 | train_bal_acc: 0.8850 | train_mcc: 0.7700 | train_auroc: 0.9536  |  valid_loss: 0.2846 | valid_bal_acc: 0.8757 | valid_mcc: 0.7519  |  valid_auroc: 0.9479\n",
      "Epoch: 416 | train_loss: 0.2740 | train_bal_acc: 0.8832 | train_mcc: 0.7678 | train_auroc: 0.9539  |  valid_loss: 0.2765 | valid_bal_acc: 0.8810 | valid_mcc: 0.7623  |  valid_auroc: 0.9529\n",
      "Epoch: 417 | train_loss: 0.2781 | train_bal_acc: 0.8823 | train_mcc: 0.7659 | train_auroc: 0.9521  |  valid_loss: 0.2586 | valid_bal_acc: 0.8936 | valid_mcc: 0.7871  |  valid_auroc: 0.9591\n",
      "Epoch: 418 | train_loss: 0.2703 | train_bal_acc: 0.8858 | train_mcc: 0.7708 | train_auroc: 0.9563  |  valid_loss: 0.2756 | valid_bal_acc: 0.8836 | valid_mcc: 0.7687  |  valid_auroc: 0.9529\n",
      "Epoch: 419 | train_loss: 0.2756 | train_bal_acc: 0.8801 | train_mcc: 0.7613 | train_auroc: 0.9536  |  valid_loss: 0.3080 | valid_bal_acc: 0.8696 | valid_mcc: 0.7384  |  valid_auroc: 0.9453\n",
      "Epoch: 420 | train_loss: 0.2716 | train_bal_acc: 0.8856 | train_mcc: 0.7715 | train_auroc: 0.9542  |  valid_loss: 0.3037 | valid_bal_acc: 0.8795 | valid_mcc: 0.7627  |  valid_auroc: 0.9451\n",
      "Epoch: 421 | train_loss: 0.2693 | train_bal_acc: 0.8863 | train_mcc: 0.7734 | train_auroc: 0.9562  |  valid_loss: 0.2686 | valid_bal_acc: 0.8807 | valid_mcc: 0.7664  |  valid_auroc: 0.9571\n",
      "Epoch: 422 | train_loss: 0.2764 | train_bal_acc: 0.8819 | train_mcc: 0.7644 | train_auroc: 0.9544  |  valid_loss: 0.2732 | valid_bal_acc: 0.8917 | valid_mcc: 0.7766  |  valid_auroc: 0.9539\n",
      "Epoch: 423 | train_loss: 0.2703 | train_bal_acc: 0.8839 | train_mcc: 0.7683 | train_auroc: 0.9560  |  valid_loss: 0.2701 | valid_bal_acc: 0.8763 | valid_mcc: 0.7517  |  valid_auroc: 0.9517\n",
      "Epoch: 424 | train_loss: 0.2694 | train_bal_acc: 0.8829 | train_mcc: 0.7651 | train_auroc: 0.9577  |  valid_loss: 0.2683 | valid_bal_acc: 0.8914 | valid_mcc: 0.7867  |  valid_auroc: 0.9573\n",
      "Epoch: 425 | train_loss: 0.2733 | train_bal_acc: 0.8822 | train_mcc: 0.7648 | train_auroc: 0.9531  |  valid_loss: 0.2675 | valid_bal_acc: 0.8909 | valid_mcc: 0.7817  |  valid_auroc: 0.9581\n",
      "Epoch: 426 | train_loss: 0.2729 | train_bal_acc: 0.8831 | train_mcc: 0.7672 | train_auroc: 0.9540  |  valid_loss: 0.2577 | valid_bal_acc: 0.8942 | valid_mcc: 0.7866  |  valid_auroc: 0.9577\n",
      "Epoch: 427 | train_loss: 0.2630 | train_bal_acc: 0.8889 | train_mcc: 0.7777 | train_auroc: 0.9588  |  valid_loss: 0.2688 | valid_bal_acc: 0.8897 | valid_mcc: 0.7794  |  valid_auroc: 0.9577\n",
      "Epoch: 428 | train_loss: 0.2770 | train_bal_acc: 0.8784 | train_mcc: 0.7576 | train_auroc: 0.9529  |  valid_loss: 0.2657 | valid_bal_acc: 0.8861 | valid_mcc: 0.7704  |  valid_auroc: 0.9589\n",
      "Epoch: 429 | train_loss: 0.2720 | train_bal_acc: 0.8829 | train_mcc: 0.7661 | train_auroc: 0.9559  |  valid_loss: 0.2710 | valid_bal_acc: 0.8932 | valid_mcc: 0.7827  |  valid_auroc: 0.9534\n",
      "Epoch: 430 | train_loss: 0.2606 | train_bal_acc: 0.8865 | train_mcc: 0.7730 | train_auroc: 0.9610  |  valid_loss: 0.2588 | valid_bal_acc: 0.8991 | valid_mcc: 0.7973  |  valid_auroc: 0.9583\n",
      "Epoch: 431 | train_loss: 0.2659 | train_bal_acc: 0.8879 | train_mcc: 0.7735 | train_auroc: 0.9577  |  valid_loss: 0.2614 | valid_bal_acc: 0.8937 | valid_mcc: 0.7877  |  valid_auroc: 0.9577\n",
      "Epoch: 432 | train_loss: 0.2734 | train_bal_acc: 0.8866 | train_mcc: 0.7736 | train_auroc: 0.9555  |  valid_loss: 0.2652 | valid_bal_acc: 0.8931 | valid_mcc: 0.7809  |  valid_auroc: 0.9579\n",
      "Epoch: 433 | train_loss: 0.2742 | train_bal_acc: 0.8821 | train_mcc: 0.7653 | train_auroc: 0.9536  |  valid_loss: 0.2792 | valid_bal_acc: 0.8868 | valid_mcc: 0.7735  |  valid_auroc: 0.9508\n",
      "Epoch: 434 | train_loss: 0.2656 | train_bal_acc: 0.8932 | train_mcc: 0.7869 | train_auroc: 0.9585  |  valid_loss: 0.2627 | valid_bal_acc: 0.8989 | valid_mcc: 0.7977  |  valid_auroc: 0.9575\n",
      "Epoch: 435 | train_loss: 0.2724 | train_bal_acc: 0.8858 | train_mcc: 0.7705 | train_auroc: 0.9547  |  valid_loss: 0.2662 | valid_bal_acc: 0.8924 | valid_mcc: 0.7707  |  valid_auroc: 0.9601\n",
      "Epoch: 436 | train_loss: 0.2617 | train_bal_acc: 0.8956 | train_mcc: 0.7903 | train_auroc: 0.9593  |  valid_loss: 0.2735 | valid_bal_acc: 0.8883 | valid_mcc: 0.7763  |  valid_auroc: 0.9566\n",
      "Epoch: 437 | train_loss: 0.2647 | train_bal_acc: 0.8897 | train_mcc: 0.7791 | train_auroc: 0.9588  |  valid_loss: 0.2669 | valid_bal_acc: 0.8874 | valid_mcc: 0.7759  |  valid_auroc: 0.9609\n",
      "Epoch: 438 | train_loss: 0.2642 | train_bal_acc: 0.8861 | train_mcc: 0.7731 | train_auroc: 0.9571  |  valid_loss: 0.2637 | valid_bal_acc: 0.8937 | valid_mcc: 0.7889  |  valid_auroc: 0.9574\n",
      "Epoch: 439 | train_loss: 0.2738 | train_bal_acc: 0.8826 | train_mcc: 0.7639 | train_auroc: 0.9553  |  valid_loss: 0.2742 | valid_bal_acc: 0.8827 | valid_mcc: 0.7637  |  valid_auroc: 0.9553\n",
      "Epoch: 440 | train_loss: 0.2755 | train_bal_acc: 0.8842 | train_mcc: 0.7665 | train_auroc: 0.9541  |  valid_loss: 0.2593 | valid_bal_acc: 0.8997 | valid_mcc: 0.7991  |  valid_auroc: 0.9581\n"
     ]
    },
    {
     "name": "stdout",
     "output_type": "stream",
     "text": [
      "Epoch: 441 | train_loss: 0.2757 | train_bal_acc: 0.8798 | train_mcc: 0.7611 | train_auroc: 0.9546  |  valid_loss: 0.2725 | valid_bal_acc: 0.8790 | valid_mcc: 0.7583  |  valid_auroc: 0.9570\n",
      "Epoch: 442 | train_loss: 0.2736 | train_bal_acc: 0.8836 | train_mcc: 0.7671 | train_auroc: 0.9550  |  valid_loss: 0.2683 | valid_bal_acc: 0.8862 | valid_mcc: 0.7738  |  valid_auroc: 0.9588\n",
      "Epoch: 443 | train_loss: 0.2693 | train_bal_acc: 0.8891 | train_mcc: 0.7777 | train_auroc: 0.9570  |  valid_loss: 0.2776 | valid_bal_acc: 0.8838 | valid_mcc: 0.7673  |  valid_auroc: 0.9463\n",
      "Epoch: 444 | train_loss: 0.2752 | train_bal_acc: 0.8824 | train_mcc: 0.7650 | train_auroc: 0.9557  |  valid_loss: 0.2593 | valid_bal_acc: 0.8917 | valid_mcc: 0.7825  |  valid_auroc: 0.9576\n",
      "Epoch: 445 | train_loss: 0.2760 | train_bal_acc: 0.8802 | train_mcc: 0.7612 | train_auroc: 0.9539  |  valid_loss: 0.2595 | valid_bal_acc: 0.8940 | valid_mcc: 0.7873  |  valid_auroc: 0.9577\n",
      "Epoch: 446 | train_loss: 0.2733 | train_bal_acc: 0.8871 | train_mcc: 0.7755 | train_auroc: 0.9550  |  valid_loss: 0.2584 | valid_bal_acc: 0.8985 | valid_mcc: 0.7969  |  valid_auroc: 0.9584\n",
      "Epoch: 447 | train_loss: 0.2726 | train_bal_acc: 0.8872 | train_mcc: 0.7736 | train_auroc: 0.9558  |  valid_loss: 0.2771 | valid_bal_acc: 0.8912 | valid_mcc: 0.7762  |  valid_auroc: 0.9590\n",
      "Epoch: 448 | train_loss: 0.2685 | train_bal_acc: 0.8865 | train_mcc: 0.7703 | train_auroc: 0.9568  |  valid_loss: 0.2675 | valid_bal_acc: 0.8993 | valid_mcc: 0.7403  |  valid_auroc: 0.9297\n",
      "Epoch: 449 | train_loss: 0.2752 | train_bal_acc: 0.8823 | train_mcc: 0.7654 | train_auroc: 0.9533  |  valid_loss: 0.2661 | valid_bal_acc: 0.8890 | valid_mcc: 0.7761  |  valid_auroc: 0.9563\n",
      "Epoch: 450 | train_loss: 0.2695 | train_bal_acc: 0.8860 | train_mcc: 0.7726 | train_auroc: 0.9558  |  valid_loss: 0.2730 | valid_bal_acc: 0.8899 | valid_mcc: 0.7811  |  valid_auroc: 0.9544\n",
      "Epoch: 451 | train_loss: 0.2728 | train_bal_acc: 0.8833 | train_mcc: 0.7670 | train_auroc: 0.9546  |  valid_loss: 0.2710 | valid_bal_acc: 0.8922 | valid_mcc: 0.7861  |  valid_auroc: 0.9556\n",
      "Epoch: 452 | train_loss: 0.2626 | train_bal_acc: 0.8947 | train_mcc: 0.7882 | train_auroc: 0.9585  |  valid_loss: 0.2665 | valid_bal_acc: 0.8899 | valid_mcc: 0.7849  |  valid_auroc: 0.9564\n",
      "Epoch: 453 | train_loss: 0.2781 | train_bal_acc: 0.8822 | train_mcc: 0.7654 | train_auroc: 0.9529  |  valid_loss: 0.2634 | valid_bal_acc: 0.8888 | valid_mcc: 0.7764  |  valid_auroc: 0.9575\n",
      "Epoch: 454 | train_loss: 0.2759 | train_bal_acc: 0.8836 | train_mcc: 0.7674 | train_auroc: 0.9531  |  valid_loss: 0.2679 | valid_bal_acc: 0.8842 | valid_mcc: 0.7755  |  valid_auroc: 0.9586\n",
      "Epoch: 455 | train_loss: 0.2610 | train_bal_acc: 0.8859 | train_mcc: 0.7719 | train_auroc: 0.9580  |  valid_loss: 0.2712 | valid_bal_acc: 0.8917 | valid_mcc: 0.7682  |  valid_auroc: 0.9607\n",
      "Epoch: 456 | train_loss: 0.2723 | train_bal_acc: 0.8801 | train_mcc: 0.7616 | train_auroc: 0.9546  |  valid_loss: 0.2633 | valid_bal_acc: 0.8937 | valid_mcc: 0.7816  |  valid_auroc: 0.9583\n",
      "Epoch: 457 | train_loss: 0.2720 | train_bal_acc: 0.8847 | train_mcc: 0.7705 | train_auroc: 0.9552  |  valid_loss: 0.2837 | valid_bal_acc: 0.8885 | valid_mcc: 0.7726  |  valid_auroc: 0.9516\n",
      "Epoch: 458 | train_loss: 0.2662 | train_bal_acc: 0.8831 | train_mcc: 0.7674 | train_auroc: 0.9575  |  valid_loss: 0.2637 | valid_bal_acc: 0.9016 | valid_mcc: 0.8002  |  valid_auroc: 0.9600\n",
      "Epoch: 459 | train_loss: 0.2711 | train_bal_acc: 0.8842 | train_mcc: 0.7685 | train_auroc: 0.9561  |  valid_loss: 0.2731 | valid_bal_acc: 0.8900 | valid_mcc: 0.7821  |  valid_auroc: 0.9478\n",
      "Epoch: 460 | train_loss: 0.2749 | train_bal_acc: 0.8846 | train_mcc: 0.7674 | train_auroc: 0.9543  |  valid_loss: 0.2571 | valid_bal_acc: 0.8982 | valid_mcc: 0.7965  |  valid_auroc: 0.9578\n",
      "Epoch: 461 | train_loss: 0.2714 | train_bal_acc: 0.8827 | train_mcc: 0.7668 | train_auroc: 0.9557  |  valid_loss: 0.2632 | valid_bal_acc: 0.8978 | valid_mcc: 0.7968  |  valid_auroc: 0.9584\n",
      "Epoch: 462 | train_loss: 0.2708 | train_bal_acc: 0.8885 | train_mcc: 0.7769 | train_auroc: 0.9546  |  valid_loss: 0.2726 | valid_bal_acc: 0.8911 | valid_mcc: 0.7695  |  valid_auroc: 0.9572\n",
      "Epoch: 463 | train_loss: 0.2645 | train_bal_acc: 0.8900 | train_mcc: 0.7800 | train_auroc: 0.9574  |  valid_loss: 0.2658 | valid_bal_acc: 0.8906 | valid_mcc: 0.7783  |  valid_auroc: 0.9575\n",
      "Epoch: 464 | train_loss: 0.2776 | train_bal_acc: 0.8796 | train_mcc: 0.7576 | train_auroc: 0.9547  |  valid_loss: 0.2568 | valid_bal_acc: 0.8990 | valid_mcc: 0.7972  |  valid_auroc: 0.9591\n",
      "Epoch: 465 | train_loss: 0.2757 | train_bal_acc: 0.8838 | train_mcc: 0.7654 | train_auroc: 0.9539  |  valid_loss: 0.2624 | valid_bal_acc: 0.8994 | valid_mcc: 0.7993  |  valid_auroc: 0.9587\n",
      "Epoch: 466 | train_loss: 0.2681 | train_bal_acc: 0.8893 | train_mcc: 0.7781 | train_auroc: 0.9579  |  valid_loss: 0.2798 | valid_bal_acc: 0.8882 | valid_mcc: 0.7818  |  valid_auroc: 0.9468\n",
      "Epoch: 467 | train_loss: 0.2719 | train_bal_acc: 0.8854 | train_mcc: 0.7696 | train_auroc: 0.9549  |  valid_loss: 0.2618 | valid_bal_acc: 0.8934 | valid_mcc: 0.7862  |  valid_auroc: 0.9562\n",
      "Epoch: 468 | train_loss: 0.2740 | train_bal_acc: 0.8809 | train_mcc: 0.7634 | train_auroc: 0.9549  |  valid_loss: 0.2751 | valid_bal_acc: 0.8891 | valid_mcc: 0.7388  |  valid_auroc: 0.9269\n",
      "Epoch: 469 | train_loss: 0.2669 | train_bal_acc: 0.8907 | train_mcc: 0.7799 | train_auroc: 0.9576  |  valid_loss: 0.2628 | valid_bal_acc: 0.8919 | valid_mcc: 0.7859  |  valid_auroc: 0.9574\n",
      "Epoch: 470 | train_loss: 0.2687 | train_bal_acc: 0.8796 | train_mcc: 0.7587 | train_auroc: 0.9559  |  valid_loss: 0.2933 | valid_bal_acc: 0.8860 | valid_mcc: 0.7700  |  valid_auroc: 0.9497\n",
      "Epoch: 471 | train_loss: 0.2789 | train_bal_acc: 0.8806 | train_mcc: 0.7611 | train_auroc: 0.9532  |  valid_loss: 0.2701 | valid_bal_acc: 0.8888 | valid_mcc: 0.7811  |  valid_auroc: 0.9553\n",
      "Epoch: 472 | train_loss: 0.2716 | train_bal_acc: 0.8879 | train_mcc: 0.7753 | train_auroc: 0.9551  |  valid_loss: 0.2582 | valid_bal_acc: 0.8992 | valid_mcc: 0.7974  |  valid_auroc: 0.9563\n",
      "Epoch: 473 | train_loss: 0.2712 | train_bal_acc: 0.8881 | train_mcc: 0.7758 | train_auroc: 0.9569  |  valid_loss: 0.2572 | valid_bal_acc: 0.8986 | valid_mcc: 0.7988  |  valid_auroc: 0.9597\n",
      "Epoch: 474 | train_loss: 0.2711 | train_bal_acc: 0.8876 | train_mcc: 0.7762 | train_auroc: 0.9551  |  valid_loss: 0.2886 | valid_bal_acc: 0.8857 | valid_mcc: 0.7706  |  valid_auroc: 0.9450\n",
      "Epoch: 475 | train_loss: 0.2695 | train_bal_acc: 0.8825 | train_mcc: 0.7651 | train_auroc: 0.9553  |  valid_loss: 0.2624 | valid_bal_acc: 0.8969 | valid_mcc: 0.7935  |  valid_auroc: 0.9587\n",
      "Epoch: 476 | train_loss: 0.2596 | train_bal_acc: 0.8923 | train_mcc: 0.7850 | train_auroc: 0.9592  |  valid_loss: 0.2602 | valid_bal_acc: 0.8961 | valid_mcc: 0.7954  |  valid_auroc: 0.9573\n",
      "Epoch: 477 | train_loss: 0.2675 | train_bal_acc: 0.8893 | train_mcc: 0.7784 | train_auroc: 0.9578  |  valid_loss: 0.2666 | valid_bal_acc: 0.8921 | valid_mcc: 0.7835  |  valid_auroc: 0.9600\n",
      "Epoch: 478 | train_loss: 0.2698 | train_bal_acc: 0.8826 | train_mcc: 0.7662 | train_auroc: 0.9547  |  valid_loss: 0.2650 | valid_bal_acc: 0.8898 | valid_mcc: 0.7825  |  valid_auroc: 0.9576\n",
      "Epoch: 479 | train_loss: 0.2630 | train_bal_acc: 0.8926 | train_mcc: 0.7845 | train_auroc: 0.9587  |  valid_loss: 0.2558 | valid_bal_acc: 0.8948 | valid_mcc: 0.7901  |  valid_auroc: 0.9576\n",
      "Epoch: 480 | train_loss: 0.2638 | train_bal_acc: 0.8919 | train_mcc: 0.7838 | train_auroc: 0.9572  |  valid_loss: 0.2717 | valid_bal_acc: 0.8911 | valid_mcc: 0.7840  |  valid_auroc: 0.9507\n",
      "Epoch: 481 | train_loss: 0.2693 | train_bal_acc: 0.8844 | train_mcc: 0.7676 | train_auroc: 0.9560  |  valid_loss: 0.2843 | valid_bal_acc: 0.8938 | valid_mcc: 0.7864  |  valid_auroc: 0.9457\n",
      "Epoch: 482 | train_loss: 0.2663 | train_bal_acc: 0.8863 | train_mcc: 0.7739 | train_auroc: 0.9571  |  valid_loss: 0.2727 | valid_bal_acc: 0.8919 | valid_mcc: 0.7860  |  valid_auroc: 0.9604\n",
      "Epoch: 483 | train_loss: 0.2648 | train_bal_acc: 0.8890 | train_mcc: 0.7796 | train_auroc: 0.9587  |  valid_loss: 0.2708 | valid_bal_acc: 0.8827 | valid_mcc: 0.7652  |  valid_auroc: 0.9552\n",
      "Epoch: 484 | train_loss: 0.2697 | train_bal_acc: 0.8848 | train_mcc: 0.7709 | train_auroc: 0.9569  |  valid_loss: 0.2631 | valid_bal_acc: 0.8908 | valid_mcc: 0.7814  |  valid_auroc: 0.9571\n"
     ]
    },
    {
     "name": "stdout",
     "output_type": "stream",
     "text": [
      "Epoch: 485 | train_loss: 0.2706 | train_bal_acc: 0.8874 | train_mcc: 0.7752 | train_auroc: 0.9551  |  valid_loss: 0.2682 | valid_bal_acc: 0.8923 | valid_mcc: 0.7827  |  valid_auroc: 0.9517\n",
      "Epoch: 486 | train_loss: 0.2699 | train_bal_acc: 0.8850 | train_mcc: 0.7703 | train_auroc: 0.9561  |  valid_loss: 0.2592 | valid_bal_acc: 0.8985 | valid_mcc: 0.7953  |  valid_auroc: 0.9590\n",
      "Epoch: 487 | train_loss: 0.2679 | train_bal_acc: 0.8917 | train_mcc: 0.7841 | train_auroc: 0.9559  |  valid_loss: 0.2754 | valid_bal_acc: 0.8817 | valid_mcc: 0.7690  |  valid_auroc: 0.9555\n",
      "Epoch: 488 | train_loss: 0.2737 | train_bal_acc: 0.8835 | train_mcc: 0.7685 | train_auroc: 0.9549  |  valid_loss: 0.2600 | valid_bal_acc: 0.8988 | valid_mcc: 0.7969  |  valid_auroc: 0.9570\n",
      "Epoch: 489 | train_loss: 0.2760 | train_bal_acc: 0.8841 | train_mcc: 0.7691 | train_auroc: 0.9522  |  valid_loss: 0.2629 | valid_bal_acc: 0.8934 | valid_mcc: 0.7810  |  valid_auroc: 0.9578\n",
      "Epoch: 490 | train_loss: 0.2591 | train_bal_acc: 0.8906 | train_mcc: 0.7789 | train_auroc: 0.9589  |  valid_loss: 0.2601 | valid_bal_acc: 0.8898 | valid_mcc: 0.7830  |  valid_auroc: 0.9584\n",
      "Epoch: 491 | train_loss: 0.2653 | train_bal_acc: 0.8856 | train_mcc: 0.7709 | train_auroc: 0.9580  |  valid_loss: 0.2648 | valid_bal_acc: 0.8984 | valid_mcc: 0.7946  |  valid_auroc: 0.9584\n",
      "Epoch: 492 | train_loss: 0.2601 | train_bal_acc: 0.8894 | train_mcc: 0.7787 | train_auroc: 0.9587  |  valid_loss: 0.2639 | valid_bal_acc: 0.8930 | valid_mcc: 0.7844  |  valid_auroc: 0.9582\n",
      "Epoch: 493 | train_loss: 0.2674 | train_bal_acc: 0.8883 | train_mcc: 0.7782 | train_auroc: 0.9559  |  valid_loss: 0.2605 | valid_bal_acc: 0.8964 | valid_mcc: 0.7954  |  valid_auroc: 0.9569\n",
      "Epoch: 494 | train_loss: 0.2633 | train_bal_acc: 0.8892 | train_mcc: 0.7798 | train_auroc: 0.9594  |  valid_loss: 0.2682 | valid_bal_acc: 0.8860 | valid_mcc: 0.7760  |  valid_auroc: 0.9570\n",
      "Epoch: 495 | train_loss: 0.2684 | train_bal_acc: 0.8818 | train_mcc: 0.7657 | train_auroc: 0.9563  |  valid_loss: 0.2589 | valid_bal_acc: 0.8938 | valid_mcc: 0.7853  |  valid_auroc: 0.9558\n",
      "Epoch: 496 | train_loss: 0.2655 | train_bal_acc: 0.8873 | train_mcc: 0.7756 | train_auroc: 0.9573  |  valid_loss: 0.2586 | valid_bal_acc: 0.8973 | valid_mcc: 0.7947  |  valid_auroc: 0.9593\n",
      "Epoch: 497 | train_loss: 0.2591 | train_bal_acc: 0.8891 | train_mcc: 0.7786 | train_auroc: 0.9601  |  valid_loss: 0.2628 | valid_bal_acc: 0.8904 | valid_mcc: 0.7833  |  valid_auroc: 0.9584\n",
      "Epoch: 498 | train_loss: 0.2696 | train_bal_acc: 0.8885 | train_mcc: 0.7747 | train_auroc: 0.9551  |  valid_loss: 0.2546 | valid_bal_acc: 0.9008 | valid_mcc: 0.7987  |  valid_auroc: 0.9607\n",
      "Epoch: 499 | train_loss: 0.2617 | train_bal_acc: 0.8919 | train_mcc: 0.7832 | train_auroc: 0.9582  |  valid_loss: 0.2559 | valid_bal_acc: 0.8983 | valid_mcc: 0.7933  |  valid_auroc: 0.9590\n",
      "Epoch: 500 | train_loss: 0.2761 | train_bal_acc: 0.8822 | train_mcc: 0.7656 | train_auroc: 0.9527  |  valid_loss: 0.2574 | valid_bal_acc: 0.8964 | valid_mcc: 0.7938  |  valid_auroc: 0.9595\n",
      "Epoch: 501 | train_loss: 0.2651 | train_bal_acc: 0.8932 | train_mcc: 0.7865 | train_auroc: 0.9579  |  valid_loss: 0.2862 | valid_bal_acc: 0.8864 | valid_mcc: 0.7785  |  valid_auroc: 0.9518\n",
      "Epoch: 502 | train_loss: 0.2573 | train_bal_acc: 0.8946 | train_mcc: 0.7883 | train_auroc: 0.9594  |  valid_loss: 0.2840 | valid_bal_acc: 0.8918 | valid_mcc: 0.7833  |  valid_auroc: 0.9448\n",
      "Epoch: 503 | train_loss: 0.2626 | train_bal_acc: 0.8894 | train_mcc: 0.7794 | train_auroc: 0.9588  |  valid_loss: 0.2718 | valid_bal_acc: 0.8877 | valid_mcc: 0.7766  |  valid_auroc: 0.9601\n",
      "Epoch: 504 | train_loss: 0.2636 | train_bal_acc: 0.8871 | train_mcc: 0.7719 | train_auroc: 0.9582  |  valid_loss: 0.2565 | valid_bal_acc: 0.8971 | valid_mcc: 0.7960  |  valid_auroc: 0.9593\n",
      "Epoch: 505 | train_loss: 0.2652 | train_bal_acc: 0.8860 | train_mcc: 0.7732 | train_auroc: 0.9564  |  valid_loss: 0.2558 | valid_bal_acc: 0.8970 | valid_mcc: 0.7948  |  valid_auroc: 0.9577\n",
      "Epoch: 506 | train_loss: 0.2702 | train_bal_acc: 0.8916 | train_mcc: 0.7836 | train_auroc: 0.9551  |  valid_loss: 0.2808 | valid_bal_acc: 0.8896 | valid_mcc: 0.7839  |  valid_auroc: 0.9501\n",
      "Epoch: 507 | train_loss: 0.2567 | train_bal_acc: 0.8920 | train_mcc: 0.7829 | train_auroc: 0.9614  |  valid_loss: 0.2631 | valid_bal_acc: 0.8912 | valid_mcc: 0.7848  |  valid_auroc: 0.9579\n",
      "Epoch: 508 | train_loss: 0.2658 | train_bal_acc: 0.8859 | train_mcc: 0.7710 | train_auroc: 0.9575  |  valid_loss: 0.2782 | valid_bal_acc: 0.8878 | valid_mcc: 0.7773  |  valid_auroc: 0.9547\n",
      "Epoch: 509 | train_loss: 0.2627 | train_bal_acc: 0.8918 | train_mcc: 0.7834 | train_auroc: 0.9584  |  valid_loss: 0.2559 | valid_bal_acc: 0.8977 | valid_mcc: 0.7927  |  valid_auroc: 0.9586\n",
      "Epoch: 510 | train_loss: 0.2665 | train_bal_acc: 0.8943 | train_mcc: 0.7899 | train_auroc: 0.9566  |  valid_loss: 0.2551 | valid_bal_acc: 0.8992 | valid_mcc: 0.7962  |  valid_auroc: 0.9612\n",
      "Epoch: 511 | train_loss: 0.2630 | train_bal_acc: 0.8942 | train_mcc: 0.7881 | train_auroc: 0.9572  |  valid_loss: 0.2787 | valid_bal_acc: 0.8868 | valid_mcc: 0.7747  |  valid_auroc: 0.9528\n",
      "Epoch: 512 | train_loss: 0.2692 | train_bal_acc: 0.8898 | train_mcc: 0.7803 | train_auroc: 0.9553  |  valid_loss: 0.2667 | valid_bal_acc: 0.8886 | valid_mcc: 0.7742  |  valid_auroc: 0.9587\n",
      "Epoch: 513 | train_loss: 0.2692 | train_bal_acc: 0.8868 | train_mcc: 0.7749 | train_auroc: 0.9554  |  valid_loss: 0.2619 | valid_bal_acc: 0.8983 | valid_mcc: 0.7988  |  valid_auroc: 0.9609\n",
      "Epoch: 514 | train_loss: 0.2652 | train_bal_acc: 0.8935 | train_mcc: 0.7870 | train_auroc: 0.9580  |  valid_loss: 0.2673 | valid_bal_acc: 0.8846 | valid_mcc: 0.7773  |  valid_auroc: 0.9539\n",
      "Epoch: 515 | train_loss: 0.2663 | train_bal_acc: 0.8862 | train_mcc: 0.7727 | train_auroc: 0.9558  |  valid_loss: 0.2778 | valid_bal_acc: 0.8916 | valid_mcc: 0.7866  |  valid_auroc: 0.9596\n",
      "Epoch: 516 | train_loss: 0.2614 | train_bal_acc: 0.8887 | train_mcc: 0.7788 | train_auroc: 0.9582  |  valid_loss: 0.2603 | valid_bal_acc: 0.8976 | valid_mcc: 0.7953  |  valid_auroc: 0.9591\n",
      "Epoch: 517 | train_loss: 0.2641 | train_bal_acc: 0.8885 | train_mcc: 0.7765 | train_auroc: 0.9572  |  valid_loss: 0.2754 | valid_bal_acc: 0.8856 | valid_mcc: 0.7750  |  valid_auroc: 0.9520\n",
      "Epoch: 518 | train_loss: 0.2633 | train_bal_acc: 0.8889 | train_mcc: 0.7798 | train_auroc: 0.9587  |  valid_loss: 0.2539 | valid_bal_acc: 0.8986 | valid_mcc: 0.7977  |  valid_auroc: 0.9586\n",
      "Epoch: 519 | train_loss: 0.2723 | train_bal_acc: 0.8871 | train_mcc: 0.7751 | train_auroc: 0.9556  |  valid_loss: 0.2583 | valid_bal_acc: 0.8914 | valid_mcc: 0.7806  |  valid_auroc: 0.9571\n",
      "Epoch: 520 | train_loss: 0.2584 | train_bal_acc: 0.8918 | train_mcc: 0.7833 | train_auroc: 0.9608  |  valid_loss: 0.2655 | valid_bal_acc: 0.8911 | valid_mcc: 0.7832  |  valid_auroc: 0.9587\n",
      "Epoch: 521 | train_loss: 0.2622 | train_bal_acc: 0.8878 | train_mcc: 0.7752 | train_auroc: 0.9580  |  valid_loss: 0.2564 | valid_bal_acc: 0.8960 | valid_mcc: 0.7908  |  valid_auroc: 0.9566\n",
      "Epoch: 522 | train_loss: 0.2656 | train_bal_acc: 0.8935 | train_mcc: 0.7861 | train_auroc: 0.9571  |  valid_loss: 0.2727 | valid_bal_acc: 0.8804 | valid_mcc: 0.7595  |  valid_auroc: 0.9535\n",
      "Epoch: 523 | train_loss: 0.2615 | train_bal_acc: 0.8894 | train_mcc: 0.7822 | train_auroc: 0.9568  |  valid_loss: 0.2611 | valid_bal_acc: 0.8949 | valid_mcc: 0.7887  |  valid_auroc: 0.9590\n",
      "Epoch: 524 | train_loss: 0.2603 | train_bal_acc: 0.8946 | train_mcc: 0.7886 | train_auroc: 0.9590  |  valid_loss: 0.2577 | valid_bal_acc: 0.9007 | valid_mcc: 0.7996  |  valid_auroc: 0.9585\n",
      "Epoch: 525 | train_loss: 0.2711 | train_bal_acc: 0.8839 | train_mcc: 0.7681 | train_auroc: 0.9559  |  valid_loss: 0.2554 | valid_bal_acc: 0.8988 | valid_mcc: 0.7965  |  valid_auroc: 0.9579\n",
      "Epoch: 526 | train_loss: 0.2698 | train_bal_acc: 0.8833 | train_mcc: 0.7657 | train_auroc: 0.9564  |  valid_loss: 0.2616 | valid_bal_acc: 0.8917 | valid_mcc: 0.7823  |  valid_auroc: 0.9584\n",
      "Epoch: 527 | train_loss: 0.2647 | train_bal_acc: 0.8892 | train_mcc: 0.7770 | train_auroc: 0.9568  |  valid_loss: 0.2860 | valid_bal_acc: 0.8918 | valid_mcc: 0.7774  |  valid_auroc: 0.9459\n",
      "Epoch: 528 | train_loss: 0.2610 | train_bal_acc: 0.8936 | train_mcc: 0.7858 | train_auroc: 0.9591  |  valid_loss: 0.2701 | valid_bal_acc: 0.8905 | valid_mcc: 0.7849  |  valid_auroc: 0.9521\n"
     ]
    },
    {
     "name": "stdout",
     "output_type": "stream",
     "text": [
      "Epoch: 529 | train_loss: 0.2686 | train_bal_acc: 0.8811 | train_mcc: 0.7628 | train_auroc: 0.9566  |  valid_loss: 0.2676 | valid_bal_acc: 0.8905 | valid_mcc: 0.7826  |  valid_auroc: 0.9598\n",
      "Epoch: 530 | train_loss: 0.2659 | train_bal_acc: 0.8862 | train_mcc: 0.7748 | train_auroc: 0.9578  |  valid_loss: 0.2672 | valid_bal_acc: 0.8854 | valid_mcc: 0.7775  |  valid_auroc: 0.9587\n",
      "Epoch: 531 | train_loss: 0.2689 | train_bal_acc: 0.8842 | train_mcc: 0.7675 | train_auroc: 0.9576  |  valid_loss: 0.2637 | valid_bal_acc: 0.8680 | valid_mcc: 0.7341  |  valid_auroc: 0.9502\n",
      "Epoch: 532 | train_loss: 0.2598 | train_bal_acc: 0.8887 | train_mcc: 0.7765 | train_auroc: 0.9586  |  valid_loss: 0.2633 | valid_bal_acc: 0.8946 | valid_mcc: 0.7775  |  valid_auroc: 0.9589\n",
      "Epoch: 533 | train_loss: 0.2641 | train_bal_acc: 0.8850 | train_mcc: 0.7710 | train_auroc: 0.9588  |  valid_loss: 0.2661 | valid_bal_acc: 0.8907 | valid_mcc: 0.7772  |  valid_auroc: 0.9592\n",
      "Epoch: 534 | train_loss: 0.2617 | train_bal_acc: 0.8877 | train_mcc: 0.7750 | train_auroc: 0.9589  |  valid_loss: 0.2668 | valid_bal_acc: 0.8857 | valid_mcc: 0.7680  |  valid_auroc: 0.9562\n",
      "Epoch: 535 | train_loss: 0.2607 | train_bal_acc: 0.8929 | train_mcc: 0.7868 | train_auroc: 0.9573  |  valid_loss: 0.2607 | valid_bal_acc: 0.8971 | valid_mcc: 0.7939  |  valid_auroc: 0.9576\n",
      "Epoch: 536 | train_loss: 0.2607 | train_bal_acc: 0.8928 | train_mcc: 0.7860 | train_auroc: 0.9595  |  valid_loss: 0.2641 | valid_bal_acc: 0.8917 | valid_mcc: 0.7870  |  valid_auroc: 0.9596\n",
      "Epoch: 537 | train_loss: 0.2666 | train_bal_acc: 0.8861 | train_mcc: 0.7734 | train_auroc: 0.9561  |  valid_loss: 0.2622 | valid_bal_acc: 0.8977 | valid_mcc: 0.7962  |  valid_auroc: 0.9576\n",
      "Epoch: 538 | train_loss: 0.2592 | train_bal_acc: 0.8886 | train_mcc: 0.7767 | train_auroc: 0.9599  |  valid_loss: 0.2839 | valid_bal_acc: 0.8858 | valid_mcc: 0.7773  |  valid_auroc: 0.9445\n",
      "Epoch: 539 | train_loss: 0.2576 | train_bal_acc: 0.8937 | train_mcc: 0.7867 | train_auroc: 0.9589  |  valid_loss: 0.2641 | valid_bal_acc: 0.8896 | valid_mcc: 0.7848  |  valid_auroc: 0.9588\n",
      "Epoch: 540 | train_loss: 0.2572 | train_bal_acc: 0.8884 | train_mcc: 0.7781 | train_auroc: 0.9601  |  valid_loss: 0.2578 | valid_bal_acc: 0.8971 | valid_mcc: 0.7931  |  valid_auroc: 0.9575\n",
      "Epoch: 541 | train_loss: 0.2624 | train_bal_acc: 0.8912 | train_mcc: 0.7830 | train_auroc: 0.9571  |  valid_loss: 0.2778 | valid_bal_acc: 0.8933 | valid_mcc: 0.7810  |  valid_auroc: 0.9500\n",
      "Epoch: 542 | train_loss: 0.2690 | train_bal_acc: 0.8841 | train_mcc: 0.7695 | train_auroc: 0.9564  |  valid_loss: 0.2792 | valid_bal_acc: 0.8822 | valid_mcc: 0.7711  |  valid_auroc: 0.9540\n",
      "Epoch: 543 | train_loss: 0.2573 | train_bal_acc: 0.8915 | train_mcc: 0.7830 | train_auroc: 0.9594  |  valid_loss: 0.2693 | valid_bal_acc: 0.8943 | valid_mcc: 0.7878  |  valid_auroc: 0.9546\n",
      "Epoch: 544 | train_loss: 0.2640 | train_bal_acc: 0.8829 | train_mcc: 0.7682 | train_auroc: 0.9577  |  valid_loss: 0.2546 | valid_bal_acc: 0.8978 | valid_mcc: 0.7933  |  valid_auroc: 0.9599\n",
      "Epoch: 545 | train_loss: 0.2662 | train_bal_acc: 0.8864 | train_mcc: 0.7728 | train_auroc: 0.9581  |  valid_loss: 0.2963 | valid_bal_acc: 0.8724 | valid_mcc: 0.7452  |  valid_auroc: 0.9428\n",
      "Epoch: 546 | train_loss: 0.2664 | train_bal_acc: 0.8856 | train_mcc: 0.7715 | train_auroc: 0.9565  |  valid_loss: 0.2710 | valid_bal_acc: 0.8922 | valid_mcc: 0.7847  |  valid_auroc: 0.9593\n",
      "Epoch: 547 | train_loss: 0.2598 | train_bal_acc: 0.8926 | train_mcc: 0.7844 | train_auroc: 0.9597  |  valid_loss: 0.2611 | valid_bal_acc: 0.8986 | valid_mcc: 0.7963  |  valid_auroc: 0.9594\n",
      "Epoch: 548 | train_loss: 0.2685 | train_bal_acc: 0.8849 | train_mcc: 0.7686 | train_auroc: 0.9569  |  valid_loss: 0.2806 | valid_bal_acc: 0.8893 | valid_mcc: 0.7751  |  valid_auroc: 0.9546\n",
      "Epoch: 549 | train_loss: 0.2685 | train_bal_acc: 0.8828 | train_mcc: 0.7638 | train_auroc: 0.9573  |  valid_loss: 0.2560 | valid_bal_acc: 0.8979 | valid_mcc: 0.7940  |  valid_auroc: 0.9586\n",
      "Epoch: 550 | train_loss: 0.2579 | train_bal_acc: 0.8914 | train_mcc: 0.7827 | train_auroc: 0.9607  |  valid_loss: 0.2919 | valid_bal_acc: 0.8796 | valid_mcc: 0.7594  |  valid_auroc: 0.9354\n",
      "Epoch: 551 | train_loss: 0.2732 | train_bal_acc: 0.8834 | train_mcc: 0.7673 | train_auroc: 0.9545  |  valid_loss: 0.2697 | valid_bal_acc: 0.8904 | valid_mcc: 0.7797  |  valid_auroc: 0.9553\n",
      "Epoch: 552 | train_loss: 0.2551 | train_bal_acc: 0.8883 | train_mcc: 0.7740 | train_auroc: 0.9600  |  valid_loss: 0.2578 | valid_bal_acc: 0.8952 | valid_mcc: 0.7924  |  valid_auroc: 0.9568\n",
      "Epoch: 553 | train_loss: 0.2617 | train_bal_acc: 0.8872 | train_mcc: 0.7741 | train_auroc: 0.9583  |  valid_loss: 0.2704 | valid_bal_acc: 0.8899 | valid_mcc: 0.7738  |  valid_auroc: 0.9591\n",
      "Epoch: 554 | train_loss: 0.2666 | train_bal_acc: 0.8847 | train_mcc: 0.7685 | train_auroc: 0.9572  |  valid_loss: 0.2579 | valid_bal_acc: 0.8973 | valid_mcc: 0.7946  |  valid_auroc: 0.9599\n",
      "Epoch: 555 | train_loss: 0.2574 | train_bal_acc: 0.8906 | train_mcc: 0.7815 | train_auroc: 0.9591  |  valid_loss: 0.2558 | valid_bal_acc: 0.8955 | valid_mcc: 0.7950  |  valid_auroc: 0.9607\n",
      "Epoch: 556 | train_loss: 0.2613 | train_bal_acc: 0.8932 | train_mcc: 0.7846 | train_auroc: 0.9597  |  valid_loss: 0.2721 | valid_bal_acc: 0.8859 | valid_mcc: 0.7734  |  valid_auroc: 0.9541\n",
      "Epoch: 557 | train_loss: 0.2631 | train_bal_acc: 0.8861 | train_mcc: 0.7720 | train_auroc: 0.9584  |  valid_loss: 0.2634 | valid_bal_acc: 0.8912 | valid_mcc: 0.7830  |  valid_auroc: 0.9536\n",
      "Epoch: 558 | train_loss: 0.2554 | train_bal_acc: 0.8919 | train_mcc: 0.7846 | train_auroc: 0.9616  |  valid_loss: 0.2602 | valid_bal_acc: 0.8890 | valid_mcc: 0.7810  |  valid_auroc: 0.9576\n",
      "Epoch: 559 | train_loss: 0.2604 | train_bal_acc: 0.8936 | train_mcc: 0.7852 | train_auroc: 0.9588  |  valid_loss: 0.2641 | valid_bal_acc: 0.8897 | valid_mcc: 0.7348  |  valid_auroc: 0.9290\n",
      "Epoch: 560 | train_loss: 0.2682 | train_bal_acc: 0.8862 | train_mcc: 0.7730 | train_auroc: 0.9565  |  valid_loss: 0.2575 | valid_bal_acc: 0.8948 | valid_mcc: 0.7911  |  valid_auroc: 0.9579\n",
      "Epoch: 561 | train_loss: 0.2604 | train_bal_acc: 0.8871 | train_mcc: 0.7759 | train_auroc: 0.9590  |  valid_loss: 0.2620 | valid_bal_acc: 0.8879 | valid_mcc: 0.7807  |  valid_auroc: 0.9602\n",
      "Epoch: 562 | train_loss: 0.2608 | train_bal_acc: 0.8857 | train_mcc: 0.7725 | train_auroc: 0.9572  |  valid_loss: 0.2613 | valid_bal_acc: 0.8925 | valid_mcc: 0.7870  |  valid_auroc: 0.9600\n",
      "Epoch: 563 | train_loss: 0.2545 | train_bal_acc: 0.8948 | train_mcc: 0.7911 | train_auroc: 0.9596  |  valid_loss: 0.2809 | valid_bal_acc: 0.8923 | valid_mcc: 0.7722  |  valid_auroc: 0.9423\n",
      "Epoch: 564 | train_loss: 0.2571 | train_bal_acc: 0.8869 | train_mcc: 0.7744 | train_auroc: 0.9591  |  valid_loss: 0.2609 | valid_bal_acc: 0.8936 | valid_mcc: 0.7853  |  valid_auroc: 0.9601\n",
      "Epoch: 565 | train_loss: 0.2705 | train_bal_acc: 0.8835 | train_mcc: 0.7687 | train_auroc: 0.9547  |  valid_loss: 0.2693 | valid_bal_acc: 0.8845 | valid_mcc: 0.7695  |  valid_auroc: 0.9550\n",
      "Epoch: 566 | train_loss: 0.2558 | train_bal_acc: 0.8919 | train_mcc: 0.7844 | train_auroc: 0.9602  |  valid_loss: 0.2756 | valid_bal_acc: 0.8831 | valid_mcc: 0.7668  |  valid_auroc: 0.9502\n",
      "Epoch: 567 | train_loss: 0.2696 | train_bal_acc: 0.8835 | train_mcc: 0.7658 | train_auroc: 0.9562  |  valid_loss: 0.2581 | valid_bal_acc: 0.8988 | valid_mcc: 0.7979  |  valid_auroc: 0.9586\n",
      "Epoch: 568 | train_loss: 0.2521 | train_bal_acc: 0.8948 | train_mcc: 0.7904 | train_auroc: 0.9618  |  valid_loss: 0.2634 | valid_bal_acc: 0.8886 | valid_mcc: 0.7788  |  valid_auroc: 0.9577\n",
      "Early stopping after 568 epochs\n"
     ]
    }
   ],
   "source": [
    "results, _ = engine_boosted.train_with_early_stopping(model=model,\n",
    "                                                  train_dataloader=train_loader,\n",
    "                                                  valid_dataloader=val_loader,\n",
    "                                                  optimizer=optimizer,\n",
    "                                                  loss_fn=loss_fn,\n",
    "                                                  epochs=800,\n",
    "                                                  device=device)\n"
   ]
  },
  {
   "cell_type": "code",
   "execution_count": 33,
   "id": "377b935b",
   "metadata": {},
   "outputs": [
    {
     "data": {
      "text/plain": [
       "range(0, 568)"
      ]
     },
     "execution_count": 33,
     "metadata": {},
     "output_type": "execute_result"
    }
   ],
   "source": [
    "range(len(results[\"train_loss\"]))"
   ]
  },
  {
   "cell_type": "code",
   "execution_count": 34,
   "id": "879ac77f",
   "metadata": {},
   "outputs": [
    {
     "data": {
      "image/png": "[encoded data removed]",
      "text/plain": [
       "<Figure size 1500x700 with 2 Axes>"
      ]
     },
     "metadata": {},
     "output_type": "display_data"
    }
   ],
   "source": [
    "helper_functions.plot_loss_curves(results)\n",
    "plt.savefig(f'All_TFs_CNN1_ADAM_BCEWithLogits_KERNEL=10_seq=200b.png')"
   ]
  },
  {
   "cell_type": "code",
   "execution_count": 35,
   "id": "c995dcf3",
   "metadata": {},
   "outputs": [
    {
     "data": {
      "image/png": "[encoded data removed]",
      "text/plain": [
       "<Figure size 640x480 with 1 Axes>"
      ]
     },
     "metadata": {},
     "output_type": "display_data"
    }
   ],
   "source": [
    "helper_functions.plot_auroc(results)"
   ]
  },
  {
   "cell_type": "code",
   "execution_count": 36,
   "id": "a84d4ad9",
   "metadata": {},
   "outputs": [
    {
     "data": {
      "image/png": "[encoded data removed]",
      "text/plain": [
       "<Figure size 640x480 with 1 Axes>"
      ]
     },
     "metadata": {},
     "output_type": "display_data"
    }
   ],
   "source": [
    "helper_functions.plot_f_score(results)"
   ]
  },
  {
   "cell_type": "code",
   "execution_count": 38,
   "id": "7d75d6fb",
   "metadata": {},
   "outputs": [
    {
     "name": "stdout",
     "output_type": "stream",
     "text": [
      "Perfomance on held out test set\n",
      "Test loss: 0.4225641389687856 | Test bal acc 0.8231341120250328 | Test mcc 0.6504996062470955 | Test_f_score 0.8220150778575559\n",
      "\n"
     ]
    }
   ],
   "source": [
    "from sklearn.metrics import balanced_accuracy_score, matthews_corrcoef, f1_score\n",
    "import torch.nn.functional as F\n",
    "\n",
    "\n",
    "model.eval()\n",
    "\n",
    "\n",
    "with torch.inference_mode():\n",
    "    all_predictions = []\n",
    "    all_true_labels = []\n",
    "    all_test_pred_prob=[]\n",
    "    \n",
    "    test_loss, test_bal_acc, test_mcc, test_f_score = 0, 0, 0, 0\n",
    "    for batch, (X, y_one_hot, y) in enumerate(test_loader):\n",
    "        # Send data to target device\n",
    "        X, y_one_hot, y = X.to(device),y_one_hot.to(device), y.to(device)\n",
    "\n",
    "        # 1. Forward pass\n",
    "        test_pred_logits = model(X)\n",
    "\n",
    "        # 2. Calculate and accumulate loss\n",
    "        loss = loss_fn(test_pred_logits, y_one_hot)\n",
    "        test_loss += loss.item()\n",
    "\n",
    "        # Calculate and accumulate scores\n",
    "        test_pred_labels = test_pred_logits.argmax(dim=1)\n",
    "        test_pred_prob = torch.softmax(test_pred_logits.squeeze(), dim=0) # note: perform softmax on the \"logits\" dimension, not \"batch\" dimension (in this case we have a batch size of 1, so can perform on dim=0)\n",
    "        test_bal_acc += balanced_accuracy_score(y.cpu().numpy(), test_pred_labels.cpu().numpy())\n",
    "        test_mcc += matthews_corrcoef(y.cpu().numpy(), test_pred_labels.cpu().numpy())\n",
    "        test_f_score += f1_score(y.cpu().numpy(), test_pred_labels.cpu().numpy(), average='weighted')\n",
    "        \n",
    "        all_predictions.extend(test_pred_labels.cpu().numpy())\n",
    "        all_true_labels.extend(y.cpu().numpy())\n",
    "        all_test_pred_prob.extend(test_pred_prob.cpu().numpy())\n",
    "\n",
    "    # Adjust metrics to get average loss and accuracy per batch\n",
    "    test_loss = test_loss / len(test_loader)\n",
    "    test_bal_acc = test_bal_acc / len(test_loader)\n",
    "    test_mcc = test_mcc / len(test_loader)\n",
    "    test_f_score = test_f_score / len(test_loader)\n",
    "    print(\"Perfomance on held out test set\")\n",
    "    print(f'Test loss: {test_loss} | Test bal acc {test_bal_acc} | Test mcc {test_mcc} | Test_f_score {test_f_score}\\n')   \n",
    "    "
   ]
  },
  {
   "cell_type": "code",
   "execution_count": null,
   "id": "fbff03bf",
   "metadata": {},
   "outputs": [],
   "source": []
  },
  {
   "cell_type": "code",
   "execution_count": null,
   "id": "35eeed82",
   "metadata": {},
   "outputs": [],
   "source": []
  }
 ],
 "metadata": {
  "kernelspec": {
   "display_name": "Python 3 (ipykernel)",
   "language": "python",
   "name": "python3"
  },
  "language_info": {
   "codemirror_mode": {
    "name": "ipython",
    "version": 3
   },
   "file_extension": ".py",
   "mimetype": "text/x-python",
   "name": "python",
   "nbconvert_exporter": "python",
   "pygments_lexer": "ipython3",
   "version": "3.11.5"
  }
 },
 "nbformat": 4,
 "nbformat_minor": 5
}
