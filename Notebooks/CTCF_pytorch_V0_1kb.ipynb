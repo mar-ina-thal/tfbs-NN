{
 "cells": [
  {
   "cell_type": "markdown",
   "id": "520fbfff",
   "metadata": {},
   "source": [
    "# Imports and functions"
   ]
  },
  {
   "cell_type": "code",
   "execution_count": 28,
   "id": "05d85633",
   "metadata": {},
   "outputs": [],
   "source": [
    "import pandas as pd\n",
    "import numpy as np\n",
    "from sklearn.preprocessing import OneHotEncoder\n",
    "from keras.utils import to_categorical\n",
    "from sklearn.metrics import balanced_accuracy_score"
   ]
  },
  {
   "cell_type": "code",
   "execution_count": 29,
   "id": "1389113b",
   "metadata": {},
   "outputs": [],
   "source": [
    "import torchvision\n",
    "import engine\n",
    "import helper_functions"
   ]
  },
  {
   "cell_type": "code",
   "execution_count": 30,
   "id": "3a2e0857",
   "metadata": {},
   "outputs": [],
   "source": [
    "from tqdm.auto import tqdm\n",
    "from typing import Dict, List, Tuple\n",
    "from sklearn.metrics import balanced_accuracy_score, matthews_corrcoef, f1_score\n",
    "from collections import deque  # Import deque for early stopping\n",
    "import warnings\n",
    "\n",
    "# Suppress the specific UserWarning related to y_pred and y_true class mismatch\n",
    "warnings.filterwarnings(\"ignore\", category=UserWarning, message=\"y_pred contains classes not in y_true\")"
   ]
  },
  {
   "cell_type": "code",
   "execution_count": 31,
   "id": "faeaeafc",
   "metadata": {},
   "outputs": [],
   "source": [
    "from sklearn.metrics import balanced_accuracy_score\n",
    "\n",
    "# Function to calculate balanced accuracy using sklearn\n",
    "def balanced_accuracy(y_true, y_pred):\n",
    "    return balanced_accuracy_score(y_true, y_pred) * 100"
   ]
  },
  {
   "cell_type": "code",
   "execution_count": 32,
   "id": "6c000451",
   "metadata": {},
   "outputs": [],
   "source": [
    "# Function to perform one-hot encoding for DNA sequences\n",
    "def one_hot_encode(sequence):\n",
    "    encoding = {'A': [1, 0, 0, 0], 'T': [0, 1, 0, 0], 'G': [0, 0, 1, 0], 'C': [0, 0, 0, 1]}\n",
    "    one_hot_sequence = [encoding.get(base, [0, 0, 0, 0]) for base in sequence]\n",
    "    return np.array(one_hot_sequence)"
   ]
  },
  {
   "cell_type": "markdown",
   "id": "69190e84",
   "metadata": {},
   "source": [
    "# Set up device agnostic code"
   ]
  },
  {
   "cell_type": "code",
   "execution_count": 33,
   "id": "12cee86f",
   "metadata": {},
   "outputs": [
    {
     "data": {
      "text/plain": [
       "'cpu'"
      ]
     },
     "execution_count": 33,
     "metadata": {},
     "output_type": "execute_result"
    }
   ],
   "source": [
    "import torch\n",
    "from torch import nn\n",
    "# Make device agnostic code\n",
    "device = \"cuda\" if torch.cuda.is_available() else \"cpu\"\n",
    "device"
   ]
  },
  {
   "cell_type": "code",
   "execution_count": 34,
   "id": "c9939f1e",
   "metadata": {},
   "outputs": [
    {
     "data": {
      "text/html": [
       "<div>\n",
       "<style scoped>\n",
       "    .dataframe tbody tr th:only-of-type {\n",
       "        vertical-align: middle;\n",
       "    }\n",
       "\n",
       "    .dataframe tbody tr th {\n",
       "        vertical-align: top;\n",
       "    }\n",
       "\n",
       "    .dataframe thead th {\n",
       "        text-align: right;\n",
       "    }\n",
       "</style>\n",
       "<table border=\"1\" class=\"dataframe\">\n",
       "  <thead>\n",
       "    <tr style=\"text-align: right;\">\n",
       "      <th></th>\n",
       "      <th>data</th>\n",
       "      <th>class</th>\n",
       "    </tr>\n",
       "  </thead>\n",
       "  <tbody>\n",
       "    <tr>\n",
       "      <th>0</th>\n",
       "      <td>TCATTTTCTTTATTTTTTCACAAGCTTTGAATTCAGAAATAAGAGC...</td>\n",
       "      <td>0</td>\n",
       "    </tr>\n",
       "    <tr>\n",
       "      <th>1</th>\n",
       "      <td>GTGCTGAAGTTAACATTTAGCTCAAGAGGGAAAAAGTATGTGCGTG...</td>\n",
       "      <td>0</td>\n",
       "    </tr>\n",
       "    <tr>\n",
       "      <th>2</th>\n",
       "      <td>TTCACAGCCAAGACCCTGGTCTCTGCCAGACAGTAAACTCCAGGGC...</td>\n",
       "      <td>0</td>\n",
       "    </tr>\n",
       "    <tr>\n",
       "      <th>3</th>\n",
       "      <td>AAAAACTACTAGGTGGTAACCAGGCGTGGTGGCTCACGCCGTAATC...</td>\n",
       "      <td>0</td>\n",
       "    </tr>\n",
       "    <tr>\n",
       "      <th>4</th>\n",
       "      <td>AAAGGTTAGGTTGCAGTTTAATTGTGATGTCTAAACAAAACAACCT...</td>\n",
       "      <td>0</td>\n",
       "    </tr>\n",
       "    <tr>\n",
       "      <th>...</th>\n",
       "      <td>...</td>\n",
       "      <td>...</td>\n",
       "    </tr>\n",
       "    <tr>\n",
       "      <th>96489</th>\n",
       "      <td>AAGGTGGTGGCCGCGCCTGTGCGACAATCAGACCTGGTTCATTCCA...</td>\n",
       "      <td>1</td>\n",
       "    </tr>\n",
       "    <tr>\n",
       "      <th>96490</th>\n",
       "      <td>CCATGATCCTCCCCGGCTTGAAGCCCTTCACGGCTCCCTAGTGCCC...</td>\n",
       "      <td>1</td>\n",
       "    </tr>\n",
       "    <tr>\n",
       "      <th>96491</th>\n",
       "      <td>CCATGATCCTCCCCGGCTTGAAGCCCTTCACGGCTCCCTAGTGCCC...</td>\n",
       "      <td>1</td>\n",
       "    </tr>\n",
       "    <tr>\n",
       "      <th>96492</th>\n",
       "      <td>CCCCACTCCTTGCCTTTTTTGGCTAGGAGGTAGCTGGCATCCCCAC...</td>\n",
       "      <td>1</td>\n",
       "    </tr>\n",
       "    <tr>\n",
       "      <th>96493</th>\n",
       "      <td>CCCCACTCCTTGCCTTTTTTGGCTAGGAGGTAGCTGGCATCCCCAC...</td>\n",
       "      <td>1</td>\n",
       "    </tr>\n",
       "  </tbody>\n",
       "</table>\n",
       "<p>96494 rows × 2 columns</p>\n",
       "</div>"
      ],
      "text/plain": [
       "                                                    data  class\n",
       "0      TCATTTTCTTTATTTTTTCACAAGCTTTGAATTCAGAAATAAGAGC...      0\n",
       "1      GTGCTGAAGTTAACATTTAGCTCAAGAGGGAAAAAGTATGTGCGTG...      0\n",
       "2      TTCACAGCCAAGACCCTGGTCTCTGCCAGACAGTAAACTCCAGGGC...      0\n",
       "3      AAAAACTACTAGGTGGTAACCAGGCGTGGTGGCTCACGCCGTAATC...      0\n",
       "4      AAAGGTTAGGTTGCAGTTTAATTGTGATGTCTAAACAAAACAACCT...      0\n",
       "...                                                  ...    ...\n",
       "96489  AAGGTGGTGGCCGCGCCTGTGCGACAATCAGACCTGGTTCATTCCA...      1\n",
       "96490  CCATGATCCTCCCCGGCTTGAAGCCCTTCACGGCTCCCTAGTGCCC...      1\n",
       "96491  CCATGATCCTCCCCGGCTTGAAGCCCTTCACGGCTCCCTAGTGCCC...      1\n",
       "96492  CCCCACTCCTTGCCTTTTTTGGCTAGGAGGTAGCTGGCATCCCCAC...      1\n",
       "96493  CCCCACTCCTTGCCTTTTTTGGCTAGGAGGTAGCTGGCATCCCCAC...      1\n",
       "\n",
       "[96494 rows x 2 columns]"
      ]
     },
     "execution_count": 34,
     "metadata": {},
     "output_type": "execute_result"
    }
   ],
   "source": [
    "# Replace 'file_path.csv' with the path to the TF data.csv file\n",
    "tf=\"CTCF\"\n",
    "file_path = f'/mnt/raid1/thalassini/home/filtered_fimo(1kb)/{tf.upper()}/datasets/data.csv'\n",
    "df = pd.read_csv(file_path)\n",
    "df"
   ]
  },
  {
   "cell_type": "markdown",
   "id": "d22b4a0d",
   "metadata": {},
   "source": [
    "# Sequence length inspection and normalization"
   ]
  },
  {
   "cell_type": "code",
   "execution_count": 35,
   "id": "d33c9269",
   "metadata": {},
   "outputs": [
    {
     "name": "stdout",
     "output_type": "stream",
     "text": [
      "Max length:2000, Min length: 2000\n"
     ]
    },
    {
     "data": {
      "image/png": "[encoded data removed]",
      "text/plain": [
       "<Figure size 640x480 with 1 Axes>"
      ]
     },
     "metadata": {},
     "output_type": "display_data"
    }
   ],
   "source": [
    "lengths= [len(item) for item in df['data']] \n",
    "print(f'Max length:{max(lengths)}, Min length: {min(lengths)}')\n",
    "import matplotlib.pyplot as plt\n",
    "# Plotting the histogram\n",
    "plt.hist(lengths, bins=10, color='blue', edgecolor='black')\n",
    "plt.title('Histogram of Lengths')\n",
    "plt.xlabel('Length')\n",
    "plt.ylabel('Frequency')\n",
    "plt.show()"
   ]
  },
  {
   "cell_type": "code",
   "execution_count": 36,
   "id": "292502f4",
   "metadata": {},
   "outputs": [],
   "source": [
    "# Find the maximum length of sequences\n",
    "#min_length = min(len(seq) for seq in df['data'])\n",
    "limit=200\n",
    "\n",
    "\n",
    "# Pad or cut sequences to ensure they all have the same length\n",
    "cut_sequences = [seq[:limit] for seq in df['data']]\n",
    "\n",
    "# Update the DataFrame with the cut sequences\n",
    "#df['data'] = cut_sequences"
   ]
  },
  {
   "cell_type": "code",
   "execution_count": 37,
   "id": "84f394a8",
   "metadata": {},
   "outputs": [
    {
     "name": "stdout",
     "output_type": "stream",
     "text": [
      "Max length:200, Min length: 200\n"
     ]
    }
   ],
   "source": [
    "lengths= [len(item) for item in cut_sequences]\n",
    "print(f'Max length:{max(lengths)}, Min length: {min(lengths)}')"
   ]
  },
  {
   "cell_type": "markdown",
   "id": "9b65d644",
   "metadata": {},
   "source": [
    "# Define X,y variables"
   ]
  },
  {
   "cell_type": "code",
   "execution_count": 38,
   "id": "f9e96a80",
   "metadata": {},
   "outputs": [],
   "source": [
    "X=[one_hot_encode(sequence) for sequence in cut_sequences]"
   ]
  },
  {
   "cell_type": "code",
   "execution_count": 39,
   "id": "2ab32859",
   "metadata": {},
   "outputs": [],
   "source": [
    "X = torch.from_numpy(np.array(X)).type(torch.float)\n"
   ]
  },
  {
   "cell_type": "code",
   "execution_count": 40,
   "id": "0bf2a817",
   "metadata": {},
   "outputs": [
    {
     "data": {
      "text/plain": [
       "torch.Size([96494, 200, 4])"
      ]
     },
     "execution_count": 40,
     "metadata": {},
     "output_type": "execute_result"
    }
   ],
   "source": [
    "X.shape"
   ]
  },
  {
   "cell_type": "code",
   "execution_count": 41,
   "id": "9aec20e4",
   "metadata": {},
   "outputs": [
    {
     "data": {
      "text/plain": [
       "array([0, 0, 0])"
      ]
     },
     "execution_count": 41,
     "metadata": {},
     "output_type": "execute_result"
    }
   ],
   "source": [
    "y=np.array(df['class'])\n",
    "y[:3]"
   ]
  },
  {
   "cell_type": "code",
   "execution_count": 42,
   "id": "7f1057ee",
   "metadata": {},
   "outputs": [],
   "source": [
    "y = torch.from_numpy(y).type(torch.float)"
   ]
  },
  {
   "cell_type": "markdown",
   "id": "c4515e0b",
   "metadata": {},
   "source": [
    "# Split the data in train, val and test set"
   ]
  },
  {
   "cell_type": "code",
   "execution_count": 43,
   "id": "f4a1304f",
   "metadata": {},
   "outputs": [
    {
     "name": "stdout",
     "output_type": "stream",
     "text": [
      "61756 61756 15439 15439\n",
      "19299 19299\n"
     ]
    }
   ],
   "source": [
    "from sklearn.model_selection import train_test_split\n",
    "from sklearn.model_selection import StratifiedShuffleSplit\n",
    "\n",
    "\n",
    "\n",
    "# Split the data into a stratified hold-out validation set and the rest\n",
    "stratified_splitter = StratifiedShuffleSplit(n_splits=1, test_size=0.2, random_state=42)\n",
    "\n",
    "for train_val_index, test_index in stratified_splitter.split(X, y):\n",
    "    X_train_val, X_test = X[train_val_index], X[test_index]\n",
    "    y_train_val, y_test = y[train_val_index], y[test_index]\n",
    "\n",
    "# Split the remaining data into training and validation sets\n",
    "X_train, X_val, y_train, y_val = train_test_split(X_train_val, y_train_val, test_size=0.2, stratify=y_train_val, random_state=42)\n",
    "\n",
    "print(len(X_train), len(y_train), len(X_val), len(y_val))\n",
    "print(len(X_test), len(y_test))\n",
    "\n",
    "\n",
    "# (X_train, X_val, y_train, y_val) for training, validation\n",
    "# X_test, y_test for the final hold-out validation.\n",
    "\n",
    "#X_train, X_val, X_test = torch.from_numpy(X_train).type(torch.float),torch.from_numpy(X_val).type(torch.float), torch.from_numpy(X_test).type(torch.float)\n",
    "\n"
   ]
  },
  {
   "cell_type": "markdown",
   "id": "d6716d37",
   "metadata": {},
   "source": [
    "# Create datasets and Dataloaders"
   ]
  },
  {
   "cell_type": "code",
   "execution_count": 44,
   "id": "cc8becaa",
   "metadata": {},
   "outputs": [
    {
     "name": "stdout",
     "output_type": "stream",
     "text": [
      "61756 61756 61756\n"
     ]
    }
   ],
   "source": [
    "from torch.utils.data import DataLoader, TensorDataset\n",
    "torch.manual_seed(42)\n",
    "\n",
    "# Expand the dimensions of y to make it 2-dimensional\n",
    "y_train = y_train.view(-1, 1)\n",
    "y_test = y_test.view(-1,1)\n",
    "y_val = y_val.view(-1,1)\n",
    "# Concatenate the complement of y to create a 2-dimensional tensor\n",
    "y_train_one_hot = torch.cat([1 - y_train, y_train], dim=1).float()\n",
    "y_test_one_hot = torch.cat([1 - y_test, y_test], dim=1).float()\n",
    "y_val_one_hot = torch.cat([1 - y_val, y_val], dim=1).float()\n",
    "\n",
    "\n",
    "# Move tensors to the same device\n",
    "X_train, y_train_one_hot, y_train = X_train.to(device), y_train_one_hot.to(device), y_train.to(device)\n",
    "X_val, y_val_one_hot, y_val = X_val.to(device), y_val_one_hot.to(device), y_val.to(device)\n",
    "X_test, y_test_one_hot, y_test = X_test.to(device), y_test_one_hot.to(device), y_test.to(device)\n",
    "\n",
    "\n",
    "print(X_train.size(0), y_train_one_hot.size(0), y_train.size(0))\n",
    "\n",
    "# Create datasets\n",
    "train_dataset = TensorDataset(X_train, y_train_one_hot, y_train)\n",
    "val_dataset = TensorDataset(X_val, y_val_one_hot, y_val)\n",
    "test_dataset = TensorDataset(X_test, y_test_one_hot, y_test)\n",
    "\n"
   ]
  },
  {
   "cell_type": "code",
   "execution_count": 45,
   "id": "107677e4",
   "metadata": {},
   "outputs": [],
   "source": [
    "\n",
    "batch_size=64\n",
    "torch.manual_seed(42)\n",
    "\n",
    "# Convert to PyTorch DataLoader\n",
    "train_loader = DataLoader(train_dataset, batch_size=batch_size, shuffle=True)\n",
    "val_loader = DataLoader(val_dataset, batch_size=batch_size, shuffle=True)\n",
    "test_loader = DataLoader(test_dataset, batch_size=batch_size, shuffle=True)"
   ]
  },
  {
   "cell_type": "markdown",
   "id": "d20e4bb7",
   "metadata": {},
   "source": [
    "# Construct a 1 layer CNN with Maxpooling and Dropout"
   ]
  },
  {
   "cell_type": "code",
   "execution_count": 51,
   "id": "9c0dfed6",
   "metadata": {},
   "outputs": [],
   "source": [
    "class Conv_v0(torch.nn.Module):\n",
    "\n",
    "    def __init__(self):\n",
    "        super(Conv_v0, self).__init__()\n",
    "\n",
    "        self.conv1 = torch.nn.Conv1d(in_channels=4, out_channels=3, kernel_size=17)\n",
    "        self.activation = torch.nn.ReLU()\n",
    "        self.maxpool = torch.nn.MaxPool1d(kernel_size=5)\n",
    "        \n",
    "        self.dropout = torch.nn.Dropout(p=0.5) \n",
    "        self.fc = torch.nn.Linear(in_features=108, out_features=2)\n",
    "        #elf.sigmoid = torch.nn.Sigmoid()\n",
    "\n",
    "    def forward(self, x):\n",
    "        x= x.permute(0, 2, 1)\n",
    "        x = self.conv1(x)\n",
    "        x = self.activation(x)\n",
    "        x = self.maxpool(x)\n",
    "        \n",
    "        # Reshape the output of the max pooling layer before passing it to the fully connected layer\n",
    "        x = x.view(x.size(0), -1)\n",
    "        \n",
    "        #print(\"Size after reshaping:\", x.size())\n",
    "        x=self.dropout(x)\n",
    "        x = self.fc(x)\n",
    "       #x = self.sigmoid(x)\n",
    "        return x\n"
   ]
  },
  {
   "cell_type": "markdown",
   "id": "e7f2d523",
   "metadata": {},
   "source": [
    "# Computing class weights"
   ]
  },
  {
   "cell_type": "code",
   "execution_count": 52,
   "id": "0f86ea45",
   "metadata": {},
   "outputs": [
    {
     "name": "stdout",
     "output_type": "stream",
     "text": [
      "Class Weights List: [2.6129045906494603, 1.6199994753547913]\n"
     ]
    }
   ],
   "source": [
    "from torch.utils.data import DataLoader, TensorDataset\n",
    "from sklearn.utils.class_weight import compute_class_weight\n",
    "\n",
    "# Assuming we have defined dataset\n",
    "# train_dataset = TensorDataset(X_train, y_train_one_hot, y_train)\n",
    "\n",
    "# Extract the labels from the dataset\n",
    "_, _, y_train = zip(*train_dataset)\n",
    "\n",
    "# Count occurrences of each class\n",
    "class_0_count = sum(1 for label in y_train if label == 0)\n",
    "class_1_count = sum(1 for label in y_train if label == 1)\n",
    "\n",
    "# Total length of y_train\n",
    "total_samples = len(y_train)\n",
    "\n",
    "# Calculate class weights\n",
    "weights = [total_samples / class_0_count, total_samples / class_1_count]\n",
    "\n",
    "# Print the list of class weights\n",
    "print(\"Class Weights List:\", weights)\n",
    "\n",
    "\n"
   ]
  },
  {
   "cell_type": "markdown",
   "id": "40b134d4",
   "metadata": {},
   "source": [
    "# Set up loss function and optimizer"
   ]
  },
  {
   "cell_type": "code",
   "execution_count": 53,
   "id": "948d9087",
   "metadata": {},
   "outputs": [],
   "source": [
    "from torch.optim import lr_scheduler\n",
    "weights = torch.tensor(weights).to(device)\n",
    "#print(weights)"
   ]
  },
  {
   "cell_type": "code",
   "execution_count": 54,
   "id": "65dbe876",
   "metadata": {},
   "outputs": [],
   "source": [
    "torch.manual_seed(42)\n",
    "\n",
    "# Initialize model instance\n",
    "model = Conv_v0()\n",
    "\n",
    "# define the CrossEntropyLoss with weights\n",
    "loss_fn = nn.BCEWithLogitsLoss(weight=weights)\n",
    "\n",
    "# Define oprimizer\n",
    "optimizer = torch.optim.Adam(model.parameters(), lr=0.0001)\n",
    "\n",
    "# Define exponetntial lr with lr_scheduler\n",
    "exp_lr_scheduler = lr_scheduler.ExponentialLR(optimizer, gamma=0.01)"
   ]
  },
  {
   "cell_type": "code",
   "execution_count": 55,
   "id": "e1d337c9",
   "metadata": {},
   "outputs": [
    {
     "data": {
      "text/plain": [
       "tensor([[-0.1761, -0.4056],\n",
       "        [-0.4687, -0.6150],\n",
       "        [-0.0968, -0.2292],\n",
       "        [-0.1191, -0.3602],\n",
       "        [ 0.0818, -0.3944]], grad_fn=<SliceBackward0>)"
      ]
     },
     "execution_count": 55,
     "metadata": {},
     "output_type": "execute_result"
    }
   ],
   "source": [
    "# View the frist 5 outputs of the forward pass on the test data\n",
    "y_logits = model(X_test.to(device))[:5]\n",
    "y_logits"
   ]
  },
  {
   "cell_type": "code",
   "execution_count": 56,
   "id": "d2669895",
   "metadata": {},
   "outputs": [
    {
     "data": {
      "application/vnd.jupyter.widget-view+json": {
       "model_id": "c3fe0c715bb3480a8cd25c65f1a6919f",
       "version_major": 2,
       "version_minor": 0
      },
      "text/plain": [
       "  0%|          | 0/100 [00:00<?, ?it/s]"
      ]
     },
     "metadata": {},
     "output_type": "display_data"
    },
    {
     "name": "stdout",
     "output_type": "stream",
     "text": [
      "Epoch: 1 | train_loss: 1.4194 | train_bal_acc: 0.5001 | train_mcc: 0.0005 | valid_loss: 1.3930 | valid_bal_acc: 0.5000 | valid_mcc: 0.0000\n",
      "Epoch: 2 | train_loss: 1.3910 | train_bal_acc: 0.5013 | train_mcc: 0.0090 | valid_loss: 1.3795 | valid_bal_acc: 0.5000 | valid_mcc: 0.0000\n",
      "Epoch: 3 | train_loss: 1.3803 | train_bal_acc: 0.5032 | train_mcc: 0.0210 | valid_loss: 1.3742 | valid_bal_acc: 0.5000 | valid_mcc: 0.0000\n",
      "Epoch: 4 | train_loss: 1.3772 | train_bal_acc: 0.5060 | train_mcc: 0.0343 | valid_loss: 1.3709 | valid_bal_acc: 0.5000 | valid_mcc: 0.0000\n",
      "Epoch: 5 | train_loss: 1.3741 | train_bal_acc: 0.5085 | train_mcc: 0.0466 | valid_loss: 1.3697 | valid_bal_acc: 0.5000 | valid_mcc: 0.0000\n",
      "Epoch: 6 | train_loss: 1.3735 | train_bal_acc: 0.5105 | train_mcc: 0.0535 | valid_loss: 1.3686 | valid_bal_acc: 0.5000 | valid_mcc: 0.0000\n",
      "Epoch: 7 | train_loss: 1.3724 | train_bal_acc: 0.5106 | train_mcc: 0.0546 | valid_loss: 1.3677 | valid_bal_acc: 0.5000 | valid_mcc: 0.0000\n",
      "Epoch: 8 | train_loss: 1.3718 | train_bal_acc: 0.5099 | train_mcc: 0.0540 | valid_loss: 1.3673 | valid_bal_acc: 0.5000 | valid_mcc: 0.0000\n",
      "Epoch: 9 | train_loss: 1.3712 | train_bal_acc: 0.5075 | train_mcc: 0.0433 | valid_loss: 1.3660 | valid_bal_acc: 0.5000 | valid_mcc: 0.0000\n",
      "Epoch: 10 | train_loss: 1.3704 | train_bal_acc: 0.5059 | train_mcc: 0.0353 | valid_loss: 1.3656 | valid_bal_acc: 0.5000 | valid_mcc: 0.0000\n",
      "Epoch: 11 | train_loss: 1.3703 | train_bal_acc: 0.5028 | train_mcc: 0.0190 | valid_loss: 1.3645 | valid_bal_acc: 0.5000 | valid_mcc: 0.0000\n",
      "Epoch: 12 | train_loss: 1.3690 | train_bal_acc: 0.5017 | train_mcc: 0.0120 | valid_loss: 1.3644 | valid_bal_acc: 0.5000 | valid_mcc: 0.0000\n",
      "Epoch: 13 | train_loss: 1.3686 | train_bal_acc: 0.5014 | train_mcc: 0.0101 | valid_loss: 1.3658 | valid_bal_acc: 0.5000 | valid_mcc: 0.0000\n",
      "Epoch: 14 | train_loss: 1.3682 | train_bal_acc: 0.5015 | train_mcc: 0.0104 | valid_loss: 1.3645 | valid_bal_acc: 0.5000 | valid_mcc: 0.0000\n",
      "Epoch: 15 | train_loss: 1.3682 | train_bal_acc: 0.5007 | train_mcc: 0.0049 | valid_loss: 1.3638 | valid_bal_acc: 0.5000 | valid_mcc: 0.0000\n",
      "Epoch: 16 | train_loss: 1.3670 | train_bal_acc: 0.5007 | train_mcc: 0.0056 | valid_loss: 1.3635 | valid_bal_acc: 0.5000 | valid_mcc: 0.0000\n",
      "Epoch: 17 | train_loss: 1.3674 | train_bal_acc: 0.5013 | train_mcc: 0.0096 | valid_loss: 1.3631 | valid_bal_acc: 0.5000 | valid_mcc: 0.0000\n",
      "Epoch: 18 | train_loss: 1.3671 | train_bal_acc: 0.5009 | train_mcc: 0.0069 | valid_loss: 1.3629 | valid_bal_acc: 0.5000 | valid_mcc: 0.0000\n",
      "Epoch: 19 | train_loss: 1.3668 | train_bal_acc: 0.5013 | train_mcc: 0.0097 | valid_loss: 1.3624 | valid_bal_acc: 0.5000 | valid_mcc: 0.0000\n",
      "Epoch: 20 | train_loss: 1.3662 | train_bal_acc: 0.5012 | train_mcc: 0.0095 | valid_loss: 1.3620 | valid_bal_acc: 0.5000 | valid_mcc: 0.0000\n",
      "Epoch: 21 | train_loss: 1.3654 | train_bal_acc: 0.5011 | train_mcc: 0.0086 | valid_loss: 1.3619 | valid_bal_acc: 0.5000 | valid_mcc: 0.0000\n",
      "Epoch: 22 | train_loss: 1.3648 | train_bal_acc: 0.5015 | train_mcc: 0.0113 | valid_loss: 1.3630 | valid_bal_acc: 0.4999 | valid_mcc: -0.0004\n",
      "Epoch: 23 | train_loss: 1.3647 | train_bal_acc: 0.5015 | train_mcc: 0.0110 | valid_loss: 1.3613 | valid_bal_acc: 0.5001 | valid_mcc: 0.0004\n",
      "Epoch: 24 | train_loss: 1.3646 | train_bal_acc: 0.5024 | train_mcc: 0.0175 | valid_loss: 1.3611 | valid_bal_acc: 0.4999 | valid_mcc: -0.0005\n",
      "Epoch: 25 | train_loss: 1.3650 | train_bal_acc: 0.5014 | train_mcc: 0.0101 | valid_loss: 1.3607 | valid_bal_acc: 0.5000 | valid_mcc: -0.0004\n",
      "Epoch: 26 | train_loss: 1.3640 | train_bal_acc: 0.5028 | train_mcc: 0.0194 | valid_loss: 1.3606 | valid_bal_acc: 0.5004 | valid_mcc: 0.0029\n",
      "Epoch: 27 | train_loss: 1.3644 | train_bal_acc: 0.5027 | train_mcc: 0.0187 | valid_loss: 1.3606 | valid_bal_acc: 0.4999 | valid_mcc: -0.0004\n",
      "Epoch: 28 | train_loss: 1.3637 | train_bal_acc: 0.5022 | train_mcc: 0.0159 | valid_loss: 1.3602 | valid_bal_acc: 0.5002 | valid_mcc: 0.0015\n",
      "Epoch: 29 | train_loss: 1.3634 | train_bal_acc: 0.5027 | train_mcc: 0.0191 | valid_loss: 1.3618 | valid_bal_acc: 0.5005 | valid_mcc: 0.0033\n",
      "Epoch: 30 | train_loss: 1.3630 | train_bal_acc: 0.5031 | train_mcc: 0.0212 | valid_loss: 1.3600 | valid_bal_acc: 0.5002 | valid_mcc: 0.0017\n",
      "Epoch: 31 | train_loss: 1.3627 | train_bal_acc: 0.5032 | train_mcc: 0.0223 | valid_loss: 1.3601 | valid_bal_acc: 0.5003 | valid_mcc: 0.0027\n",
      "Epoch: 32 | train_loss: 1.3628 | train_bal_acc: 0.5029 | train_mcc: 0.0194 | valid_loss: 1.3594 | valid_bal_acc: 0.5004 | valid_mcc: 0.0031\n",
      "Epoch: 33 | train_loss: 1.3625 | train_bal_acc: 0.5033 | train_mcc: 0.0222 | valid_loss: 1.3603 | valid_bal_acc: 0.5005 | valid_mcc: 0.0037\n",
      "Epoch: 34 | train_loss: 1.3626 | train_bal_acc: 0.5031 | train_mcc: 0.0199 | valid_loss: 1.3590 | valid_bal_acc: 0.5004 | valid_mcc: 0.0037\n",
      "Epoch: 35 | train_loss: 1.3627 | train_bal_acc: 0.5038 | train_mcc: 0.0253 | valid_loss: 1.3593 | valid_bal_acc: 0.5006 | valid_mcc: 0.0046\n",
      "Epoch: 36 | train_loss: 1.3621 | train_bal_acc: 0.5041 | train_mcc: 0.0273 | valid_loss: 1.3590 | valid_bal_acc: 0.5006 | valid_mcc: 0.0051\n",
      "Epoch: 37 | train_loss: 1.3616 | train_bal_acc: 0.5043 | train_mcc: 0.0285 | valid_loss: 1.3593 | valid_bal_acc: 0.5006 | valid_mcc: 0.0050\n",
      "Epoch: 38 | train_loss: 1.3611 | train_bal_acc: 0.5056 | train_mcc: 0.0349 | valid_loss: 1.3589 | valid_bal_acc: 0.5008 | valid_mcc: 0.0063\n",
      "Epoch: 39 | train_loss: 1.3606 | train_bal_acc: 0.5059 | train_mcc: 0.0363 | valid_loss: 1.3591 | valid_bal_acc: 0.5006 | valid_mcc: 0.0050\n",
      "Epoch: 40 | train_loss: 1.3608 | train_bal_acc: 0.5059 | train_mcc: 0.0364 | valid_loss: 1.3588 | valid_bal_acc: 0.5007 | valid_mcc: 0.0052\n",
      "Epoch: 41 | train_loss: 1.3609 | train_bal_acc: 0.5054 | train_mcc: 0.0327 | valid_loss: 1.3587 | valid_bal_acc: 0.5005 | valid_mcc: 0.0026\n",
      "Epoch: 42 | train_loss: 1.3611 | train_bal_acc: 0.5062 | train_mcc: 0.0377 | valid_loss: 1.3584 | valid_bal_acc: 0.5005 | valid_mcc: 0.0037\n",
      "Epoch: 43 | train_loss: 1.3610 | train_bal_acc: 0.5057 | train_mcc: 0.0349 | valid_loss: 1.3586 | valid_bal_acc: 0.5001 | valid_mcc: 0.0006\n",
      "Epoch: 44 | train_loss: 1.3606 | train_bal_acc: 0.5053 | train_mcc: 0.0319 | valid_loss: 1.3587 | valid_bal_acc: 0.5008 | valid_mcc: 0.0056\n",
      "Epoch: 45 | train_loss: 1.3606 | train_bal_acc: 0.5072 | train_mcc: 0.0436 | valid_loss: 1.3586 | valid_bal_acc: 0.5012 | valid_mcc: 0.0093\n",
      "Epoch: 46 | train_loss: 1.3602 | train_bal_acc: 0.5071 | train_mcc: 0.0429 | valid_loss: 1.3576 | valid_bal_acc: 0.5008 | valid_mcc: 0.0048\n",
      "Epoch: 47 | train_loss: 1.3599 | train_bal_acc: 0.5083 | train_mcc: 0.0450 | valid_loss: 1.3585 | valid_bal_acc: 0.5021 | valid_mcc: 0.0124\n",
      "Epoch: 48 | train_loss: 1.3602 | train_bal_acc: 0.5094 | train_mcc: 0.0522 | valid_loss: 1.3581 | valid_bal_acc: 0.5024 | valid_mcc: 0.0134\n",
      "Epoch: 49 | train_loss: 1.3601 | train_bal_acc: 0.5112 | train_mcc: 0.0584 | valid_loss: 1.3580 | valid_bal_acc: 0.5014 | valid_mcc: 0.0094\n",
      "Epoch: 50 | train_loss: 1.3602 | train_bal_acc: 0.5099 | train_mcc: 0.0525 | valid_loss: 1.3575 | valid_bal_acc: 0.5021 | valid_mcc: 0.0145\n",
      "Epoch: 51 | train_loss: 1.3602 | train_bal_acc: 0.5113 | train_mcc: 0.0574 | valid_loss: 1.3586 | valid_bal_acc: 0.5035 | valid_mcc: 0.0225\n",
      "Epoch: 52 | train_loss: 1.3591 | train_bal_acc: 0.5113 | train_mcc: 0.0586 | valid_loss: 1.3587 | valid_bal_acc: 0.5045 | valid_mcc: 0.0300\n",
      "Epoch: 53 | train_loss: 1.3591 | train_bal_acc: 0.5114 | train_mcc: 0.0591 | valid_loss: 1.3570 | valid_bal_acc: 0.5030 | valid_mcc: 0.0202\n",
      "Epoch: 54 | train_loss: 1.3602 | train_bal_acc: 0.5131 | train_mcc: 0.0655 | valid_loss: 1.3578 | valid_bal_acc: 0.5043 | valid_mcc: 0.0255\n",
      "Epoch: 55 | train_loss: 1.3606 | train_bal_acc: 0.5124 | train_mcc: 0.0601 | valid_loss: 1.3576 | valid_bal_acc: 0.5025 | valid_mcc: 0.0179\n",
      "Epoch: 56 | train_loss: 1.3596 | train_bal_acc: 0.5126 | train_mcc: 0.0620 | valid_loss: 1.3579 | valid_bal_acc: 0.5052 | valid_mcc: 0.0320\n",
      "Epoch: 57 | train_loss: 1.3591 | train_bal_acc: 0.5137 | train_mcc: 0.0665 | valid_loss: 1.3579 | valid_bal_acc: 0.5033 | valid_mcc: 0.0210\n",
      "Epoch: 58 | train_loss: 1.3607 | train_bal_acc: 0.5125 | train_mcc: 0.0621 | valid_loss: 1.3574 | valid_bal_acc: 0.5057 | valid_mcc: 0.0339\n",
      "Early stopping after 58 epochs without improvement.\n"
     ]
    }
   ],
   "source": [
    "results, _ = engine.train_with_early_stopping(model=model,\n",
    "                                                  train_dataloader=train_loader,\n",
    "                                                  valid_dataloader=val_loader,\n",
    "                                                  optimizer=optimizer,\n",
    "                                                  loss_fn=loss_fn,\n",
    "                                                  epochs=100,\n",
    "                                                  device=device)\n"
   ]
  },
  {
   "cell_type": "code",
   "execution_count": 57,
   "id": "8e394a60",
   "metadata": {},
   "outputs": [
    {
     "data": {
      "image/png": "[encoded data removed]",
      "text/plain": [
       "<Figure size 1500x700 with 2 Axes>"
      ]
     },
     "metadata": {},
     "output_type": "display_data"
    }
   ],
   "source": [
    "helper_functions.plot_loss_curves(results)\n",
    "plt.savefig(f'{tf}_CNN1_ADAM_BCEWithLogits_seq=1kb.png')"
   ]
  },
  {
   "cell_type": "code",
   "execution_count": null,
   "id": "228c82d1",
   "metadata": {},
   "outputs": [],
   "source": [
    "from sklearn.metrics import balanced_accuracy_score, matthews_corrcoef, f1_score\n",
    "import torch.nn.functional as F\n",
    "\n",
    "\n",
    "model.eval()\n",
    "\n",
    "\n",
    "with torch.inference_mode():\n",
    "    all_predictions = []\n",
    "    all_true_labels = []\n",
    "    all_test_pred_prob=[]\n",
    "    \n",
    "    test_loss, test_bal_acc, test_mcc, test_f_score = 0, 0, 0, 0\n",
    "    for batch, (X, y_one_hot, y) in enumerate(test_loader):\n",
    "        # Send data to target device\n",
    "        X, y_one_hot, y = X.to(device),y_one_hot.to(device), y.to(device)\n",
    "\n",
    "        # 1. Forward pass\n",
    "        test_pred_logits = model(X)\n",
    "\n",
    "        # 2. Calculate and accumulate loss\n",
    "        loss = loss_fn(test_pred_logits, y_one_hot)\n",
    "        test_loss += loss.item()\n",
    "\n",
    "        # Calculate and accumulate scores\n",
    "        test_pred_labels = test_pred_logits.argmax(dim=1)\n",
    "        test_pred_prob = torch.softmax(test_pred_logits.squeeze(), dim=0) # note: perform softmax on the \"logits\" dimension, not \"batch\" dimension (in this case we have a batch size of 1, so can perform on dim=0)\n",
    "        test_bal_acc += balanced_accuracy_score(y.cpu().numpy(), test_pred_labels.cpu().numpy())\n",
    "        test_mcc += matthews_corrcoef(y.cpu().numpy(), test_pred_labels.cpu().numpy())\n",
    "        test_f_score += f1_score(y.cpu().numpy(), test_pred_labels.cpu().numpy(), average='weighted')\n",
    "        \n",
    "        all_predictions.extend(test_pred_labels.cpu().numpy())\n",
    "        all_true_labels.extend(y.cpu().numpy())\n",
    "        all_test_pred_prob.extend(test_pred_prob.cpu().numpy())\n",
    "\n",
    "    # Adjust metrics to get average loss and accuracy per batch\n",
    "    test_loss = test_loss / len(test_loader)\n",
    "    test_bal_acc = test_bal_acc / len(test_loader)\n",
    "    test_mcc = test_mcc / len(test_loader)\n",
    "    test_f_score = test_f_score / len(test_loader)\n",
    "    print(\"Perfomance on held out test set\")\n",
    "    print(f'Test loss: {test_loss} | Test bal acc {test_bal_acc} | Test mcc {test_mcc} | Test_f_score {test_f_score}\\n')   \n",
    "    "
   ]
  },
  {
   "cell_type": "markdown",
   "id": "e8c518d8",
   "metadata": {},
   "source": [
    "We can observe that the model is not overfiting since the perfomance on the held out test set is high"
   ]
  },
  {
   "cell_type": "code",
   "execution_count": null,
   "id": "51cd093a",
   "metadata": {},
   "outputs": [],
   "source": []
  }
 ],
 "metadata": {
  "kernelspec": {
   "display_name": "Python 3 (ipykernel)",
   "language": "python",
   "name": "python3"
  },
  "language_info": {
   "codemirror_mode": {
    "name": "ipython",
    "version": 3
   },
   "file_extension": ".py",
   "mimetype": "text/x-python",
   "name": "python",
   "nbconvert_exporter": "python",
   "pygments_lexer": "ipython3",
   "version": "3.11.5"
  }
 },
 "nbformat": 4,
 "nbformat_minor": 5
}
