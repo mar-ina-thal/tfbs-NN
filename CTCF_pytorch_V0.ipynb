{
 "cells": [
  {
   "cell_type": "markdown",
   "id": "520fbfff",
   "metadata": {},
   "source": [
    "# Imports and functions"
   ]
  },
  {
   "cell_type": "code",
   "execution_count": 63,
   "id": "05d85633",
   "metadata": {},
   "outputs": [],
   "source": [
    "import pandas as pd\n",
    "import numpy as np\n",
    "from sklearn.preprocessing import OneHotEncoder\n",
    "from keras.utils import to_categorical\n",
    "from sklearn.metrics import balanced_accuracy_score"
   ]
  },
  {
   "cell_type": "code",
   "execution_count": 64,
   "id": "1389113b",
   "metadata": {},
   "outputs": [],
   "source": [
    "import torchvision\n",
    "import engine\n",
    "import helper_functions"
   ]
  },
  {
   "cell_type": "code",
   "execution_count": 65,
   "id": "3a2e0857",
   "metadata": {},
   "outputs": [],
   "source": [
    "from tqdm.auto import tqdm\n",
    "from typing import Dict, List, Tuple\n",
    "from sklearn.metrics import balanced_accuracy_score, matthews_corrcoef, f1_score\n",
    "from collections import deque  # Import deque for early stopping\n",
    "import warnings\n",
    "\n",
    "# Suppress the specific UserWarning related to y_pred and y_true class mismatch\n",
    "warnings.filterwarnings(\"ignore\", category=UserWarning, message=\"y_pred contains classes not in y_true\")"
   ]
  },
  {
   "cell_type": "code",
   "execution_count": 66,
   "id": "faeaeafc",
   "metadata": {},
   "outputs": [],
   "source": [
    "from sklearn.metrics import balanced_accuracy_score\n",
    "\n",
    "# Function to calculate balanced accuracy using sklearn\n",
    "def balanced_accuracy(y_true, y_pred):\n",
    "    return balanced_accuracy_score(y_true, y_pred) * 100"
   ]
  },
  {
   "cell_type": "code",
   "execution_count": 67,
   "id": "6c000451",
   "metadata": {},
   "outputs": [],
   "source": [
    "# Function to perform one-hot encoding for DNA sequences\n",
    "def one_hot_encode(sequence):\n",
    "    encoding = {'A': [1, 0, 0, 0], 'T': [0, 1, 0, 0], 'G': [0, 0, 1, 0], 'C': [0, 0, 0, 1]}\n",
    "    one_hot_sequence = [encoding.get(base, [0, 0, 0, 0]) for base in sequence]\n",
    "    return np.array(one_hot_sequence)"
   ]
  },
  {
   "cell_type": "markdown",
   "id": "69190e84",
   "metadata": {},
   "source": [
    "# Set up device agnostic code"
   ]
  },
  {
   "cell_type": "code",
   "execution_count": 68,
   "id": "12cee86f",
   "metadata": {},
   "outputs": [
    {
     "data": {
      "text/plain": [
       "'cpu'"
      ]
     },
     "execution_count": 68,
     "metadata": {},
     "output_type": "execute_result"
    }
   ],
   "source": [
    "import torch\n",
    "from torch import nn\n",
    "# Make device agnostic code\n",
    "device = \"cuda\" if torch.cuda.is_available() else \"cpu\"\n",
    "device"
   ]
  },
  {
   "cell_type": "code",
   "execution_count": 69,
   "id": "c9939f1e",
   "metadata": {},
   "outputs": [
    {
     "data": {
      "text/html": [
       "<div>\n",
       "<style scoped>\n",
       "    .dataframe tbody tr th:only-of-type {\n",
       "        vertical-align: middle;\n",
       "    }\n",
       "\n",
       "    .dataframe tbody tr th {\n",
       "        vertical-align: top;\n",
       "    }\n",
       "\n",
       "    .dataframe thead th {\n",
       "        text-align: right;\n",
       "    }\n",
       "</style>\n",
       "<table border=\"1\" class=\"dataframe\">\n",
       "  <thead>\n",
       "    <tr style=\"text-align: right;\">\n",
       "      <th></th>\n",
       "      <th>data</th>\n",
       "      <th>class</th>\n",
       "    </tr>\n",
       "  </thead>\n",
       "  <tbody>\n",
       "    <tr>\n",
       "      <th>0</th>\n",
       "      <td>CAAAAACACTGACAGGAAAAGGGATGGACATGATTCCCAGAATCCT...</td>\n",
       "      <td>0</td>\n",
       "    </tr>\n",
       "    <tr>\n",
       "      <th>1</th>\n",
       "      <td>CTAACCTGACATGAATTAGGGCAGGTTTTTGAATTCGTGTTGAAAA...</td>\n",
       "      <td>0</td>\n",
       "    </tr>\n",
       "    <tr>\n",
       "      <th>2</th>\n",
       "      <td>TCCTCTGTAGCACAGGTTAACACTTCTGCTAGTTCCAGGACTGAGG...</td>\n",
       "      <td>0</td>\n",
       "    </tr>\n",
       "    <tr>\n",
       "      <th>3</th>\n",
       "      <td>GAACACATTAAACAGCAGGTTGCTTATTCCTTCTCAAACCGCACTA...</td>\n",
       "      <td>0</td>\n",
       "    </tr>\n",
       "    <tr>\n",
       "      <th>4</th>\n",
       "      <td>ATTTCTCGGAACAGGCAGAAAGGAAGCGGCAGGGAGGTGGGTACTC...</td>\n",
       "      <td>0</td>\n",
       "    </tr>\n",
       "    <tr>\n",
       "      <th>...</th>\n",
       "      <td>...</td>\n",
       "      <td>...</td>\n",
       "    </tr>\n",
       "    <tr>\n",
       "      <th>96489</th>\n",
       "      <td>CCACCCTCCACTCCTCACCCCTCATCCCTCACCACCTGCCTTTCAA...</td>\n",
       "      <td>1</td>\n",
       "    </tr>\n",
       "    <tr>\n",
       "      <th>96490</th>\n",
       "      <td>GGCGGTGACGCACGGCGCGGTGACGCAGCGCGACGGCGGCGGCGGC...</td>\n",
       "      <td>1</td>\n",
       "    </tr>\n",
       "    <tr>\n",
       "      <th>96491</th>\n",
       "      <td>GGCGGTGACGCACGGCGCGGTGACGCAGCGCGACGGCGGCGGCGGC...</td>\n",
       "      <td>1</td>\n",
       "    </tr>\n",
       "    <tr>\n",
       "      <th>96492</th>\n",
       "      <td>CTCCCTCTCTGATGCCTGGTCACACCAGGATGGCGGTACCATGTGC...</td>\n",
       "      <td>1</td>\n",
       "    </tr>\n",
       "    <tr>\n",
       "      <th>96493</th>\n",
       "      <td>CTCCCTCTCTGATGCCTGGTCACACCAGGATGGCGGTACCATGTGC...</td>\n",
       "      <td>1</td>\n",
       "    </tr>\n",
       "  </tbody>\n",
       "</table>\n",
       "<p>96494 rows × 2 columns</p>\n",
       "</div>"
      ],
      "text/plain": [
       "                                                    data  class\n",
       "0      CAAAAACACTGACAGGAAAAGGGATGGACATGATTCCCAGAATCCT...      0\n",
       "1      CTAACCTGACATGAATTAGGGCAGGTTTTTGAATTCGTGTTGAAAA...      0\n",
       "2      TCCTCTGTAGCACAGGTTAACACTTCTGCTAGTTCCAGGACTGAGG...      0\n",
       "3      GAACACATTAAACAGCAGGTTGCTTATTCCTTCTCAAACCGCACTA...      0\n",
       "4      ATTTCTCGGAACAGGCAGAAAGGAAGCGGCAGGGAGGTGGGTACTC...      0\n",
       "...                                                  ...    ...\n",
       "96489  CCACCCTCCACTCCTCACCCCTCATCCCTCACCACCTGCCTTTCAA...      1\n",
       "96490  GGCGGTGACGCACGGCGCGGTGACGCAGCGCGACGGCGGCGGCGGC...      1\n",
       "96491  GGCGGTGACGCACGGCGCGGTGACGCAGCGCGACGGCGGCGGCGGC...      1\n",
       "96492  CTCCCTCTCTGATGCCTGGTCACACCAGGATGGCGGTACCATGTGC...      1\n",
       "96493  CTCCCTCTCTGATGCCTGGTCACACCAGGATGGCGGTACCATGTGC...      1\n",
       "\n",
       "[96494 rows x 2 columns]"
      ]
     },
     "execution_count": 69,
     "metadata": {},
     "output_type": "execute_result"
    }
   ],
   "source": [
    "# Replace 'file_path.csv' with the path to the TF data.csv file\n",
    "tf=\"CTCF\"\n",
    "file_path = f'/mnt/raid1/thalassini/home/filtered_fimo/{tf.upper()}/datasets/data.csv'\n",
    "df = pd.read_csv(file_path)\n",
    "df"
   ]
  },
  {
   "cell_type": "markdown",
   "id": "d22b4a0d",
   "metadata": {},
   "source": [
    "# Sequence length inspection and normalization"
   ]
  },
  {
   "cell_type": "code",
   "execution_count": 70,
   "id": "d33c9269",
   "metadata": {},
   "outputs": [
    {
     "name": "stdout",
     "output_type": "stream",
     "text": [
      "Max length:218, Min length: 200\n"
     ]
    },
    {
     "data": {
      "image/png": "[encoded data removed]",
      "text/plain": [
       "<Figure size 640x480 with 1 Axes>"
      ]
     },
     "metadata": {},
     "output_type": "display_data"
    }
   ],
   "source": [
    "lengths= [len(item) for item in df['data']] \n",
    "print(f'Max length:{max(lengths)}, Min length: {min(lengths)}')\n",
    "import matplotlib.pyplot as plt\n",
    "# Plotting the histogram\n",
    "plt.hist(lengths, bins=10, color='blue', edgecolor='black')\n",
    "plt.title('Histogram of Lengths')\n",
    "plt.xlabel('Length')\n",
    "plt.ylabel('Frequency')\n",
    "plt.show()"
   ]
  },
  {
   "cell_type": "code",
   "execution_count": 71,
   "id": "292502f4",
   "metadata": {},
   "outputs": [],
   "source": [
    "# Find the maximum length of sequences\n",
    "#min_length = min(len(seq) for seq in df['data'])\n",
    "limit=200\n",
    "\n",
    "\n",
    "# Pad or cut sequences to ensure they all have the same length\n",
    "cut_sequences = [seq[:limit] for seq in df['data']]\n",
    "\n",
    "# Update the DataFrame with the cut sequences\n",
    "#df['data'] = cut_sequences"
   ]
  },
  {
   "cell_type": "code",
   "execution_count": 72,
   "id": "84f394a8",
   "metadata": {},
   "outputs": [
    {
     "name": "stdout",
     "output_type": "stream",
     "text": [
      "Max length:200, Min length: 200\n"
     ]
    }
   ],
   "source": [
    "lengths= [len(item) for item in cut_sequences]\n",
    "print(f'Max length:{max(lengths)}, Min length: {min(lengths)}')"
   ]
  },
  {
   "cell_type": "markdown",
   "id": "9b65d644",
   "metadata": {},
   "source": [
    "# Define X,y variables"
   ]
  },
  {
   "cell_type": "code",
   "execution_count": 73,
   "id": "f9e96a80",
   "metadata": {},
   "outputs": [],
   "source": [
    "X=[one_hot_encode(sequence) for sequence in cut_sequences]"
   ]
  },
  {
   "cell_type": "code",
   "execution_count": 74,
   "id": "2ab32859",
   "metadata": {},
   "outputs": [],
   "source": [
    "X = torch.from_numpy(np.array(X)).type(torch.float)\n"
   ]
  },
  {
   "cell_type": "code",
   "execution_count": 75,
   "id": "0bf2a817",
   "metadata": {},
   "outputs": [
    {
     "data": {
      "text/plain": [
       "torch.Size([96494, 200, 4])"
      ]
     },
     "execution_count": 75,
     "metadata": {},
     "output_type": "execute_result"
    }
   ],
   "source": [
    "X.shape"
   ]
  },
  {
   "cell_type": "code",
   "execution_count": 76,
   "id": "9aec20e4",
   "metadata": {},
   "outputs": [
    {
     "data": {
      "text/plain": [
       "array([0, 0, 0])"
      ]
     },
     "execution_count": 76,
     "metadata": {},
     "output_type": "execute_result"
    }
   ],
   "source": [
    "y=np.array(df['class'])\n",
    "y[:3]"
   ]
  },
  {
   "cell_type": "code",
   "execution_count": 77,
   "id": "7f1057ee",
   "metadata": {},
   "outputs": [],
   "source": [
    "y = torch.from_numpy(y).type(torch.float)"
   ]
  },
  {
   "cell_type": "markdown",
   "id": "c4515e0b",
   "metadata": {},
   "source": [
    "# Split the data in train, val and test set"
   ]
  },
  {
   "cell_type": "code",
   "execution_count": 78,
   "id": "f4a1304f",
   "metadata": {},
   "outputs": [
    {
     "name": "stdout",
     "output_type": "stream",
     "text": [
      "61756 61756 15439 15439\n",
      "19299 19299\n"
     ]
    }
   ],
   "source": [
    "from sklearn.model_selection import train_test_split\n",
    "from sklearn.model_selection import StratifiedShuffleSplit\n",
    "\n",
    "\n",
    "\n",
    "# Split the data into a stratified hold-out validation set and the rest\n",
    "stratified_splitter = StratifiedShuffleSplit(n_splits=1, test_size=0.2, random_state=42)\n",
    "\n",
    "for train_val_index, test_index in stratified_splitter.split(X, y):\n",
    "    X_train_val, X_test = X[train_val_index], X[test_index]\n",
    "    y_train_val, y_test = y[train_val_index], y[test_index]\n",
    "\n",
    "# Split the remaining data into training and validation sets\n",
    "X_train, X_val, y_train, y_val = train_test_split(X_train_val, y_train_val, test_size=0.2, stratify=y_train_val, random_state=42)\n",
    "\n",
    "print(len(X_train), len(y_train), len(X_val), len(y_val))\n",
    "print(len(X_test), len(y_test))\n",
    "\n",
    "\n",
    "# (X_train, X_val, y_train, y_val) for training, validation\n",
    "# X_test, y_test for the final hold-out validation.\n",
    "\n",
    "#X_train, X_val, X_test = torch.from_numpy(X_train).type(torch.float),torch.from_numpy(X_val).type(torch.float), torch.from_numpy(X_test).type(torch.float)\n",
    "\n"
   ]
  },
  {
   "cell_type": "markdown",
   "id": "d6716d37",
   "metadata": {},
   "source": [
    "# Create datasets and Dataloaders"
   ]
  },
  {
   "cell_type": "code",
   "execution_count": 79,
   "id": "cc8becaa",
   "metadata": {},
   "outputs": [
    {
     "name": "stdout",
     "output_type": "stream",
     "text": [
      "61756 61756 61756\n"
     ]
    }
   ],
   "source": [
    "from torch.utils.data import DataLoader, TensorDataset\n",
    "torch.manual_seed(42)\n",
    "\n",
    "# Expand the dimensions of y to make it 2-dimensional\n",
    "y_train = y_train.view(-1, 1)\n",
    "y_test = y_test.view(-1,1)\n",
    "y_val = y_val.view(-1,1)\n",
    "# Concatenate the complement of y to create a 2-dimensional tensor\n",
    "y_train_one_hot = torch.cat([1 - y_train, y_train], dim=1).float()\n",
    "y_test_one_hot = torch.cat([1 - y_test, y_test], dim=1).float()\n",
    "y_val_one_hot = torch.cat([1 - y_val, y_val], dim=1).float()\n",
    "\n",
    "\n",
    "# Move tensors to the same device\n",
    "X_train, y_train_one_hot, y_train = X_train.to(device), y_train_one_hot.to(device), y_train.to(device)\n",
    "X_val, y_val_one_hot, y_val = X_val.to(device), y_val_one_hot.to(device), y_val.to(device)\n",
    "X_test, y_test_one_hot, y_test = X_test.to(device), y_test_one_hot.to(device), y_test.to(device)\n",
    "\n",
    "\n",
    "print(X_train.size(0), y_train_one_hot.size(0), y_train.size(0))\n",
    "\n",
    "# Create datasets\n",
    "train_dataset = TensorDataset(X_train, y_train_one_hot, y_train)\n",
    "val_dataset = TensorDataset(X_val, y_val_one_hot, y_val)\n",
    "test_dataset = TensorDataset(X_test, y_test_one_hot, y_test)\n",
    "\n"
   ]
  },
  {
   "cell_type": "code",
   "execution_count": 80,
   "id": "107677e4",
   "metadata": {},
   "outputs": [],
   "source": [
    "\n",
    "batch_size=64\n",
    "torch.manual_seed(42)\n",
    "\n",
    "# Convert to PyTorch DataLoader\n",
    "train_loader = DataLoader(train_dataset, batch_size=batch_size, shuffle=True)\n",
    "val_loader = DataLoader(val_dataset, batch_size=batch_size, shuffle=True)\n",
    "test_loader = DataLoader(test_dataset, batch_size=batch_size, shuffle=True)"
   ]
  },
  {
   "cell_type": "markdown",
   "id": "d20e4bb7",
   "metadata": {},
   "source": [
    "# Construct a 1 layer CNN with Maxpooling and Dropout"
   ]
  },
  {
   "cell_type": "code",
   "execution_count": 81,
   "id": "9c0dfed6",
   "metadata": {},
   "outputs": [],
   "source": [
    "class Conv_v0(torch.nn.Module):\n",
    "\n",
    "    def __init__(self):\n",
    "        super(Conv_v0, self).__init__()\n",
    "\n",
    "        self.conv1 = torch.nn.Conv1d(in_channels=4, out_channels=3, kernel_size=17)\n",
    "        self.activation = torch.nn.ReLU()\n",
    "        self.maxpool = torch.nn.MaxPool1d(kernel_size=5)\n",
    "        \n",
    "        self.dropout = torch.nn.Dropout(p=0.5) \n",
    "        self.fc = torch.nn.Linear(in_features=108, out_features=2)\n",
    "        #elf.sigmoid = torch.nn.Sigmoid()\n",
    "\n",
    "    def forward(self, x):\n",
    "        x= x.permute(0, 2, 1)\n",
    "        x = self.conv1(x)\n",
    "        x = self.activation(x)\n",
    "        x = self.maxpool(x)\n",
    "        \n",
    "        # Reshape the output of the max pooling layer before passing it to the fully connected layer\n",
    "        x = x.view(x.size(0), -1)\n",
    "        \n",
    "        #print(\"Size after reshaping:\", x.size())\n",
    "        x=self.dropout(x)\n",
    "        x = self.fc(x)\n",
    "       #x = self.sigmoid(x)\n",
    "        return x\n"
   ]
  },
  {
   "cell_type": "markdown",
   "id": "e7f2d523",
   "metadata": {},
   "source": [
    "# Computing class weights"
   ]
  },
  {
   "cell_type": "code",
   "execution_count": 82,
   "id": "0f86ea45",
   "metadata": {},
   "outputs": [
    {
     "name": "stdout",
     "output_type": "stream",
     "text": [
      "Class Weights List: [2.6129045906494603, 1.6199994753547913]\n"
     ]
    }
   ],
   "source": [
    "from torch.utils.data import DataLoader, TensorDataset\n",
    "from sklearn.utils.class_weight import compute_class_weight\n",
    "\n",
    "# Assuming we have defined dataset\n",
    "# train_dataset = TensorDataset(X_train, y_train_one_hot, y_train)\n",
    "\n",
    "# Extract the labels from the dataset\n",
    "_, _, y_train = zip(*train_dataset)\n",
    "\n",
    "# Count occurrences of each class\n",
    "class_0_count = sum(1 for label in y_train if label == 0)\n",
    "class_1_count = sum(1 for label in y_train if label == 1)\n",
    "\n",
    "# Total length of y_train\n",
    "total_samples = len(y_train)\n",
    "\n",
    "# Calculate class weights\n",
    "weights = [total_samples / class_0_count, total_samples / class_1_count]\n",
    "\n",
    "# Print the list of class weights\n",
    "print(\"Class Weights List:\", weights)\n",
    "\n",
    "\n"
   ]
  },
  {
   "cell_type": "markdown",
   "id": "40b134d4",
   "metadata": {},
   "source": [
    "# Set up loss function and optimizer"
   ]
  },
  {
   "cell_type": "code",
   "execution_count": 83,
   "id": "948d9087",
   "metadata": {},
   "outputs": [],
   "source": [
    "from torch.optim import lr_scheduler\n",
    "weights = torch.tensor(weights).to(device)\n",
    "#print(weights)"
   ]
  },
  {
   "cell_type": "code",
   "execution_count": 89,
   "id": "65dbe876",
   "metadata": {},
   "outputs": [],
   "source": [
    "torch.manual_seed(42)\n",
    "\n",
    "# Initialize model instance\n",
    "model = Conv_v0()\n",
    "\n",
    "# define the CrossEntropyLoss with weights\n",
    "loss_fn = nn.BCEWithLogitsLoss(weight=weights)\n",
    "\n",
    "# Define oprimizer\n",
    "optimizer = torch.optim.Adam(model.parameters(), lr=0.0001)\n",
    "\n",
    "# Define exponetntial lr with lr_scheduler\n",
    "exp_lr_scheduler = lr_scheduler.ExponentialLR(optimizer, gamma=0.01)"
   ]
  },
  {
   "cell_type": "code",
   "execution_count": 90,
   "id": "e1d337c9",
   "metadata": {},
   "outputs": [
    {
     "data": {
      "text/plain": [
       "tensor([[-0.0730, -0.5058],\n",
       "        [-0.3591, -0.6842],\n",
       "        [ 0.1757, -0.0771],\n",
       "        [-0.0941, -0.3797],\n",
       "        [ 0.2534, -0.5035]], grad_fn=<SliceBackward0>)"
      ]
     },
     "execution_count": 90,
     "metadata": {},
     "output_type": "execute_result"
    }
   ],
   "source": [
    "# View the frist 5 outputs of the forward pass on the test data\n",
    "y_logits = model(X_test.to(device))[:5]\n",
    "y_logits"
   ]
  },
  {
   "cell_type": "code",
   "execution_count": 91,
   "id": "d2669895",
   "metadata": {},
   "outputs": [
    {
     "data": {
      "application/vnd.jupyter.widget-view+json": {
       "model_id": "3ac88db82e814e3eaab1d67efb52ab21",
       "version_major": 2,
       "version_minor": 0
      },
      "text/plain": [
       "  0%|          | 0/100 [00:00<?, ?it/s]"
      ]
     },
     "metadata": {},
     "output_type": "display_data"
    },
    {
     "name": "stdout",
     "output_type": "stream",
     "text": [
      "Epoch: 1 | train_loss: 1.3922 | train_bal_acc: 0.5110 | train_mcc: 0.0450 | valid_loss: 1.3203 | valid_bal_acc: 0.5002 | valid_mcc: 0.0013\n",
      "Epoch: 2 | train_loss: 1.2608 | train_bal_acc: 0.5999 | train_mcc: 0.2839 | valid_loss: 1.1111 | valid_bal_acc: 0.7359 | valid_mcc: 0.5506\n",
      "Epoch: 3 | train_loss: 1.0275 | train_bal_acc: 0.7757 | train_mcc: 0.5683 | valid_loss: 0.8356 | valid_bal_acc: 0.8581 | valid_mcc: 0.7630\n",
      "Epoch: 4 | train_loss: 0.8261 | train_bal_acc: 0.8352 | train_mcc: 0.6823 | valid_loss: 0.6167 | valid_bal_acc: 0.9217 | valid_mcc: 0.8683\n",
      "Epoch: 5 | train_loss: 0.6859 | train_bal_acc: 0.8677 | train_mcc: 0.7449 | valid_loss: 0.4658 | valid_bal_acc: 0.9541 | valid_mcc: 0.9192\n",
      "Epoch: 6 | train_loss: 0.5830 | train_bal_acc: 0.8896 | train_mcc: 0.7888 | valid_loss: 0.3612 | valid_bal_acc: 0.9654 | valid_mcc: 0.9392\n",
      "Epoch: 7 | train_loss: 0.5137 | train_bal_acc: 0.9012 | train_mcc: 0.8098 | valid_loss: 0.2926 | valid_bal_acc: 0.9747 | valid_mcc: 0.9542\n",
      "Epoch: 8 | train_loss: 0.4681 | train_bal_acc: 0.9098 | train_mcc: 0.8265 | valid_loss: 0.2450 | valid_bal_acc: 0.9784 | valid_mcc: 0.9606\n",
      "Epoch: 9 | train_loss: 0.4277 | train_bal_acc: 0.9172 | train_mcc: 0.8412 | valid_loss: 0.2109 | valid_bal_acc: 0.9815 | valid_mcc: 0.9652\n",
      "Epoch: 10 | train_loss: 0.4053 | train_bal_acc: 0.9205 | train_mcc: 0.8460 | valid_loss: 0.1865 | valid_bal_acc: 0.9825 | valid_mcc: 0.9670\n",
      "Epoch: 11 | train_loss: 0.3841 | train_bal_acc: 0.9256 | train_mcc: 0.8561 | valid_loss: 0.1691 | valid_bal_acc: 0.9832 | valid_mcc: 0.9686\n",
      "Epoch: 12 | train_loss: 0.3721 | train_bal_acc: 0.9261 | train_mcc: 0.8566 | valid_loss: 0.1577 | valid_bal_acc: 0.9838 | valid_mcc: 0.9697\n",
      "Epoch: 13 | train_loss: 0.3564 | train_bal_acc: 0.9298 | train_mcc: 0.8642 | valid_loss: 0.1469 | valid_bal_acc: 0.9836 | valid_mcc: 0.9694\n",
      "Epoch: 14 | train_loss: 0.3457 | train_bal_acc: 0.9323 | train_mcc: 0.8672 | valid_loss: 0.1382 | valid_bal_acc: 0.9852 | valid_mcc: 0.9712\n",
      "Epoch: 15 | train_loss: 0.3392 | train_bal_acc: 0.9340 | train_mcc: 0.8705 | valid_loss: 0.1331 | valid_bal_acc: 0.9849 | valid_mcc: 0.9714\n",
      "Epoch: 16 | train_loss: 0.3394 | train_bal_acc: 0.9342 | train_mcc: 0.8712 | valid_loss: 0.1293 | valid_bal_acc: 0.9859 | valid_mcc: 0.9724\n",
      "Epoch: 17 | train_loss: 0.3219 | train_bal_acc: 0.9380 | train_mcc: 0.8786 | valid_loss: 0.1224 | valid_bal_acc: 0.9855 | valid_mcc: 0.9718\n",
      "Epoch: 18 | train_loss: 0.3251 | train_bal_acc: 0.9377 | train_mcc: 0.8764 | valid_loss: 0.1204 | valid_bal_acc: 0.9858 | valid_mcc: 0.9729\n",
      "Epoch: 19 | train_loss: 0.3210 | train_bal_acc: 0.9382 | train_mcc: 0.8776 | valid_loss: 0.1165 | valid_bal_acc: 0.9861 | valid_mcc: 0.9737\n",
      "Epoch: 20 | train_loss: 0.3144 | train_bal_acc: 0.9393 | train_mcc: 0.8797 | valid_loss: 0.1146 | valid_bal_acc: 0.9862 | valid_mcc: 0.9736\n",
      "Epoch: 21 | train_loss: 0.3150 | train_bal_acc: 0.9393 | train_mcc: 0.8797 | valid_loss: 0.1130 | valid_bal_acc: 0.9859 | valid_mcc: 0.9730\n",
      "Epoch: 22 | train_loss: 0.3141 | train_bal_acc: 0.9395 | train_mcc: 0.8797 | valid_loss: 0.1124 | valid_bal_acc: 0.9858 | valid_mcc: 0.9733\n",
      "Epoch: 23 | train_loss: 0.3113 | train_bal_acc: 0.9413 | train_mcc: 0.8831 | valid_loss: 0.1105 | valid_bal_acc: 0.9862 | valid_mcc: 0.9737\n",
      "Epoch: 24 | train_loss: 0.3062 | train_bal_acc: 0.9410 | train_mcc: 0.8832 | valid_loss: 0.1082 | valid_bal_acc: 0.9861 | valid_mcc: 0.9738\n",
      "Epoch: 25 | train_loss: 0.3147 | train_bal_acc: 0.9401 | train_mcc: 0.8815 | valid_loss: 0.1090 | valid_bal_acc: 0.9858 | valid_mcc: 0.9735\n",
      "Epoch: 26 | train_loss: 0.3003 | train_bal_acc: 0.9432 | train_mcc: 0.8868 | valid_loss: 0.1060 | valid_bal_acc: 0.9860 | valid_mcc: 0.9735\n",
      "Epoch: 27 | train_loss: 0.3141 | train_bal_acc: 0.9405 | train_mcc: 0.8806 | valid_loss: 0.1084 | valid_bal_acc: 0.9861 | valid_mcc: 0.9736\n",
      "Epoch: 28 | train_loss: 0.2979 | train_bal_acc: 0.9421 | train_mcc: 0.8852 | valid_loss: 0.1045 | valid_bal_acc: 0.9862 | valid_mcc: 0.9740\n",
      "Epoch: 29 | train_loss: 0.2968 | train_bal_acc: 0.9423 | train_mcc: 0.8858 | valid_loss: 0.1035 | valid_bal_acc: 0.9864 | valid_mcc: 0.9742\n",
      "Epoch: 30 | train_loss: 0.3037 | train_bal_acc: 0.9422 | train_mcc: 0.8848 | valid_loss: 0.1038 | valid_bal_acc: 0.9868 | valid_mcc: 0.9748\n",
      "Epoch: 31 | train_loss: 0.3027 | train_bal_acc: 0.9417 | train_mcc: 0.8838 | valid_loss: 0.1037 | valid_bal_acc: 0.9864 | valid_mcc: 0.9743\n",
      "Epoch: 32 | train_loss: 0.3034 | train_bal_acc: 0.9418 | train_mcc: 0.8843 | valid_loss: 0.1025 | valid_bal_acc: 0.9865 | valid_mcc: 0.9743\n",
      "Epoch: 33 | train_loss: 0.2957 | train_bal_acc: 0.9429 | train_mcc: 0.8868 | valid_loss: 0.1017 | valid_bal_acc: 0.9863 | valid_mcc: 0.9741\n",
      "Epoch: 34 | train_loss: 0.2951 | train_bal_acc: 0.9441 | train_mcc: 0.8888 | valid_loss: 0.1018 | valid_bal_acc: 0.9867 | valid_mcc: 0.9740\n",
      "Epoch: 35 | train_loss: 0.2948 | train_bal_acc: 0.9444 | train_mcc: 0.8893 | valid_loss: 0.1004 | valid_bal_acc: 0.9866 | valid_mcc: 0.9743\n",
      "Epoch: 36 | train_loss: 0.2971 | train_bal_acc: 0.9413 | train_mcc: 0.8834 | valid_loss: 0.1007 | valid_bal_acc: 0.9866 | valid_mcc: 0.9747\n",
      "Epoch: 37 | train_loss: 0.2931 | train_bal_acc: 0.9444 | train_mcc: 0.8896 | valid_loss: 0.1017 | valid_bal_acc: 0.9865 | valid_mcc: 0.9740\n",
      "Epoch: 38 | train_loss: 0.2948 | train_bal_acc: 0.9434 | train_mcc: 0.8876 | valid_loss: 0.1004 | valid_bal_acc: 0.9864 | valid_mcc: 0.9744\n",
      "Epoch: 39 | train_loss: 0.2936 | train_bal_acc: 0.9440 | train_mcc: 0.8880 | valid_loss: 0.0987 | valid_bal_acc: 0.9867 | valid_mcc: 0.9742\n",
      "Epoch: 40 | train_loss: 0.2957 | train_bal_acc: 0.9433 | train_mcc: 0.8866 | valid_loss: 0.1001 | valid_bal_acc: 0.9866 | valid_mcc: 0.9745\n",
      "Epoch: 41 | train_loss: 0.2956 | train_bal_acc: 0.9431 | train_mcc: 0.8869 | valid_loss: 0.1007 | valid_bal_acc: 0.9864 | valid_mcc: 0.9741\n",
      "Epoch: 42 | train_loss: 0.2856 | train_bal_acc: 0.9456 | train_mcc: 0.8913 | valid_loss: 0.0996 | valid_bal_acc: 0.9862 | valid_mcc: 0.9741\n",
      "Epoch: 43 | train_loss: 0.2911 | train_bal_acc: 0.9441 | train_mcc: 0.8888 | valid_loss: 0.0989 | valid_bal_acc: 0.9867 | valid_mcc: 0.9745\n",
      "Epoch: 44 | train_loss: 0.2909 | train_bal_acc: 0.9447 | train_mcc: 0.8899 | valid_loss: 0.0987 | valid_bal_acc: 0.9869 | valid_mcc: 0.9748\n",
      "Epoch: 45 | train_loss: 0.2894 | train_bal_acc: 0.9435 | train_mcc: 0.8878 | valid_loss: 0.0983 | valid_bal_acc: 0.9865 | valid_mcc: 0.9741\n",
      "Epoch: 46 | train_loss: 0.2895 | train_bal_acc: 0.9446 | train_mcc: 0.8898 | valid_loss: 0.1007 | valid_bal_acc: 0.9868 | valid_mcc: 0.9746\n",
      "Epoch: 47 | train_loss: 0.2921 | train_bal_acc: 0.9444 | train_mcc: 0.8897 | valid_loss: 0.0987 | valid_bal_acc: 0.9870 | valid_mcc: 0.9750\n",
      "Epoch: 48 | train_loss: 0.2890 | train_bal_acc: 0.9455 | train_mcc: 0.8912 | valid_loss: 0.0986 | valid_bal_acc: 0.9864 | valid_mcc: 0.9743\n",
      "Epoch: 49 | train_loss: 0.2841 | train_bal_acc: 0.9444 | train_mcc: 0.8893 | valid_loss: 0.0962 | valid_bal_acc: 0.9870 | valid_mcc: 0.9750\n",
      "Epoch: 50 | train_loss: 0.2874 | train_bal_acc: 0.9443 | train_mcc: 0.8893 | valid_loss: 0.0980 | valid_bal_acc: 0.9868 | valid_mcc: 0.9749\n",
      "Epoch: 51 | train_loss: 0.2889 | train_bal_acc: 0.9446 | train_mcc: 0.8897 | valid_loss: 0.0979 | valid_bal_acc: 0.9868 | valid_mcc: 0.9751\n",
      "Epoch: 52 | train_loss: 0.2871 | train_bal_acc: 0.9433 | train_mcc: 0.8870 | valid_loss: 0.0974 | valid_bal_acc: 0.9868 | valid_mcc: 0.9749\n",
      "Epoch: 53 | train_loss: 0.2863 | train_bal_acc: 0.9455 | train_mcc: 0.8909 | valid_loss: 0.0977 | valid_bal_acc: 0.9866 | valid_mcc: 0.9749\n",
      "Epoch: 54 | train_loss: 0.2850 | train_bal_acc: 0.9449 | train_mcc: 0.8897 | valid_loss: 0.0967 | valid_bal_acc: 0.9871 | valid_mcc: 0.9751\n",
      "Early stopping after 54 epochs without improvement.\n"
     ]
    }
   ],
   "source": [
    "results, _ = engine.train_with_early_stopping(model=model,\n",
    "                                                  train_dataloader=train_loader,\n",
    "                                                  valid_dataloader=val_loader,\n",
    "                                                  optimizer=optimizer,\n",
    "                                                  loss_fn=loss_fn,\n",
    "                                                  epochs=100,\n",
    "                                                  device=device)\n"
   ]
  },
  {
   "cell_type": "code",
   "execution_count": null,
   "id": "8e394a60",
   "metadata": {},
   "outputs": [],
   "source": [
    "helper_functions.plot_loss_curves(results)\n",
    "plt.savefig(f'{tf}_CNN1_ADAM_BCEWithLogits.png')"
   ]
  },
  {
   "cell_type": "code",
   "execution_count": null,
   "id": "228c82d1",
   "metadata": {},
   "outputs": [],
   "source": [
    "from sklearn.metrics import balanced_accuracy_score, matthews_corrcoef, f1_score\n",
    "import torch.nn.functional as F\n",
    "\n",
    "\n",
    "model.eval()\n",
    "\n",
    "\n",
    "with torch.inference_mode():\n",
    "    all_predictions = []\n",
    "    all_true_labels = []\n",
    "    all_test_pred_prob=[]\n",
    "    \n",
    "    test_loss, test_bal_acc, test_mcc, test_f_score = 0, 0, 0, 0\n",
    "    for batch, (X, y_one_hot, y) in enumerate(test_loader):\n",
    "        # Send data to target device\n",
    "        X, y_one_hot, y = X.to(device),y_one_hot.to(device), y.to(device)\n",
    "\n",
    "        # 1. Forward pass\n",
    "        test_pred_logits = model(X)\n",
    "\n",
    "        # 2. Calculate and accumulate loss\n",
    "        loss = loss_fn(test_pred_logits, y_one_hot)\n",
    "        test_loss += loss.item()\n",
    "\n",
    "        # Calculate and accumulate scores\n",
    "        test_pred_labels = test_pred_logits.argmax(dim=1)\n",
    "        test_pred_prob = torch.softmax(test_pred_logits.squeeze(), dim=0) # note: perform softmax on the \"logits\" dimension, not \"batch\" dimension (in this case we have a batch size of 1, so can perform on dim=0)\n",
    "        test_bal_acc += balanced_accuracy_score(y.cpu().numpy(), test_pred_labels.cpu().numpy())\n",
    "        test_mcc += matthews_corrcoef(y.cpu().numpy(), test_pred_labels.cpu().numpy())\n",
    "        test_f_score += f1_score(y.cpu().numpy(), test_pred_labels.cpu().numpy(), average='weighted')\n",
    "        \n",
    "        all_predictions.extend(test_pred_labels.cpu().numpy())\n",
    "        all_true_labels.extend(y.cpu().numpy())\n",
    "        all_test_pred_prob.extend(test_pred_prob.cpu().numpy())\n",
    "\n",
    "    # Adjust metrics to get average loss and accuracy per batch\n",
    "    test_loss = test_loss / len(test_loader)\n",
    "    test_bal_acc = test_bal_acc / len(test_loader)\n",
    "    test_mcc = test_mcc / len(test_loader)\n",
    "    test_f_score = test_f_score / len(test_loader)\n",
    "    print(\"Perfomance on held out test set\")\n",
    "    print(f'Test loss: {test_loss} | Test bal acc {test_bal_acc} | Test mcc {test_mcc} | Test_f_score {test_f_score}\\n')   \n",
    "    "
   ]
  },
  {
   "cell_type": "markdown",
   "id": "e8c518d8",
   "metadata": {},
   "source": [
    "We can observe that the model is not overfiting since the perfomance on the held out test set is high"
   ]
  },
  {
   "cell_type": "code",
   "execution_count": null,
   "id": "51cd093a",
   "metadata": {},
   "outputs": [],
   "source": []
  }
 ],
 "metadata": {
  "kernelspec": {
   "display_name": "Python 3 (ipykernel)",
   "language": "python",
   "name": "python3"
  },
  "language_info": {
   "codemirror_mode": {
    "name": "ipython",
    "version": 3
   },
   "file_extension": ".py",
   "mimetype": "text/x-python",
   "name": "python",
   "nbconvert_exporter": "python",
   "pygments_lexer": "ipython3",
   "version": "3.11.5"
  }
 },
 "nbformat": 4,
 "nbformat_minor": 5
}
