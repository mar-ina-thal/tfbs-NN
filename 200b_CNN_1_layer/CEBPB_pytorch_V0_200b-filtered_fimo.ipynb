{
 "cells": [
  {
   "cell_type": "markdown",
   "id": "520fbfff",
   "metadata": {},
   "source": [
    "# Imports and functions"
   ]
  },
  {
   "cell_type": "code",
   "execution_count": 29,
   "id": "05d85633",
   "metadata": {},
   "outputs": [],
   "source": [
    "import pandas as pd\n",
    "import numpy as np\n",
    "import os\n",
    "from sklearn.preprocessing import OneHotEncoder\n",
    "from keras.utils import to_categorical\n",
    "from sklearn.metrics import balanced_accuracy_score"
   ]
  },
  {
   "cell_type": "code",
   "execution_count": 2,
   "id": "1389113b",
   "metadata": {},
   "outputs": [],
   "source": [
    "import torchvision\n",
    "import engine\n",
    "import helper_functions"
   ]
  },
  {
   "cell_type": "code",
   "execution_count": 3,
   "id": "3a2e0857",
   "metadata": {},
   "outputs": [],
   "source": [
    "from tqdm.auto import tqdm\n",
    "from typing import Dict, List, Tuple\n",
    "from sklearn.metrics import balanced_accuracy_score, matthews_corrcoef, f1_score\n",
    "from collections import deque  # Import deque for early stopping\n",
    "import warnings\n",
    "\n",
    "# Suppress the specific UserWarning related to y_pred and y_true class mismatch\n",
    "warnings.filterwarnings(\"ignore\", category=UserWarning, message=\"y_pred contains classes not in y_true\")"
   ]
  },
  {
   "cell_type": "code",
   "execution_count": 4,
   "id": "faeaeafc",
   "metadata": {},
   "outputs": [],
   "source": [
    "from sklearn.metrics import balanced_accuracy_score\n",
    "\n",
    "# Function to calculate balanced accuracy using sklearn\n",
    "def balanced_accuracy(y_true, y_pred):\n",
    "    return balanced_accuracy_score(y_true, y_pred) * 100"
   ]
  },
  {
   "cell_type": "code",
   "execution_count": 5,
   "id": "6c000451",
   "metadata": {},
   "outputs": [],
   "source": [
    "# Function to perform one-hot encoding for DNA sequences\n",
    "def one_hot_encode(sequence):\n",
    "    encoding = {'A': [1, 0, 0, 0], 'T': [0, 1, 0, 0], 'G': [0, 0, 1, 0], 'C': [0, 0, 0, 1]}\n",
    "    one_hot_sequence = [encoding.get(base, [0, 0, 0, 0]) for base in sequence]\n",
    "    return np.array(one_hot_sequence)"
   ]
  },
  {
   "cell_type": "markdown",
   "id": "69190e84",
   "metadata": {},
   "source": [
    "# Set up device agnostic code"
   ]
  },
  {
   "cell_type": "code",
   "execution_count": 6,
   "id": "12cee86f",
   "metadata": {},
   "outputs": [
    {
     "data": {
      "text/plain": [
       "'cpu'"
      ]
     },
     "execution_count": 6,
     "metadata": {},
     "output_type": "execute_result"
    }
   ],
   "source": [
    "import torch\n",
    "from torch import nn\n",
    "# Make device agnostic code\n",
    "device = \"cuda\" if torch.cuda.is_available() else \"cpu\"\n",
    "device"
   ]
  },
  {
   "cell_type": "code",
   "execution_count": 7,
   "id": "c9939f1e",
   "metadata": {},
   "outputs": [
    {
     "data": {
      "text/html": [
       "<div>\n",
       "<style scoped>\n",
       "    .dataframe tbody tr th:only-of-type {\n",
       "        vertical-align: middle;\n",
       "    }\n",
       "\n",
       "    .dataframe tbody tr th {\n",
       "        vertical-align: top;\n",
       "    }\n",
       "\n",
       "    .dataframe thead th {\n",
       "        text-align: right;\n",
       "    }\n",
       "</style>\n",
       "<table border=\"1\" class=\"dataframe\">\n",
       "  <thead>\n",
       "    <tr style=\"text-align: right;\">\n",
       "      <th></th>\n",
       "      <th>data</th>\n",
       "      <th>class</th>\n",
       "    </tr>\n",
       "  </thead>\n",
       "  <tbody>\n",
       "    <tr>\n",
       "      <th>0</th>\n",
       "      <td>AGGCACAGTGGCAGGCGCCTGTAATCCCAGCTACTCGGCAGGCTGA...</td>\n",
       "      <td>0</td>\n",
       "    </tr>\n",
       "    <tr>\n",
       "      <th>1</th>\n",
       "      <td>CATGGCACACACCTGTAGTCCCAGAAGGCTGGGGTGGAGGATCGCT...</td>\n",
       "      <td>0</td>\n",
       "    </tr>\n",
       "    <tr>\n",
       "      <th>2</th>\n",
       "      <td>AACATGATTGTCATCTTCACTTAGCCATTGGTCAAGATCTTCACAA...</td>\n",
       "      <td>0</td>\n",
       "    </tr>\n",
       "    <tr>\n",
       "      <th>3</th>\n",
       "      <td>GGAGCTTACGTTGTAGTGAGAGTTGTTTCTCATAGCATTATTTGGG...</td>\n",
       "      <td>0</td>\n",
       "    </tr>\n",
       "    <tr>\n",
       "      <th>4</th>\n",
       "      <td>AGACAATGGTTCTGAATTTCTGGATTAAAAAAAAAATTCTCTCTTC...</td>\n",
       "      <td>0</td>\n",
       "    </tr>\n",
       "    <tr>\n",
       "      <th>...</th>\n",
       "      <td>...</td>\n",
       "      <td>...</td>\n",
       "    </tr>\n",
       "    <tr>\n",
       "      <th>60833</th>\n",
       "      <td>TTTGTATCCCCATTGATACTTTTATTCTCATTGATAATTAAATGGA...</td>\n",
       "      <td>1</td>\n",
       "    </tr>\n",
       "    <tr>\n",
       "      <th>60834</th>\n",
       "      <td>CAGGGAAATGGGCTTTCGTACAGGATCCTCTTCTCAAAGCTTATCA...</td>\n",
       "      <td>1</td>\n",
       "    </tr>\n",
       "    <tr>\n",
       "      <th>60835</th>\n",
       "      <td>ATAAAACGGTTTGGGTAATCAGATCTATTGAAGATCAAATGTCCTG...</td>\n",
       "      <td>1</td>\n",
       "    </tr>\n",
       "    <tr>\n",
       "      <th>60836</th>\n",
       "      <td>AAGATAGCCATGTGTTAGGGCTAGGTGCAGTGGCTCACGTGTATAA...</td>\n",
       "      <td>1</td>\n",
       "    </tr>\n",
       "    <tr>\n",
       "      <th>60837</th>\n",
       "      <td>TCATGCCTCTCATATCTTATCAAATGGACTAATCTTTTTTCTTTAT...</td>\n",
       "      <td>1</td>\n",
       "    </tr>\n",
       "  </tbody>\n",
       "</table>\n",
       "<p>60838 rows × 2 columns</p>\n",
       "</div>"
      ],
      "text/plain": [
       "                                                    data  class\n",
       "0      AGGCACAGTGGCAGGCGCCTGTAATCCCAGCTACTCGGCAGGCTGA...      0\n",
       "1      CATGGCACACACCTGTAGTCCCAGAAGGCTGGGGTGGAGGATCGCT...      0\n",
       "2      AACATGATTGTCATCTTCACTTAGCCATTGGTCAAGATCTTCACAA...      0\n",
       "3      GGAGCTTACGTTGTAGTGAGAGTTGTTTCTCATAGCATTATTTGGG...      0\n",
       "4      AGACAATGGTTCTGAATTTCTGGATTAAAAAAAAAATTCTCTCTTC...      0\n",
       "...                                                  ...    ...\n",
       "60833  TTTGTATCCCCATTGATACTTTTATTCTCATTGATAATTAAATGGA...      1\n",
       "60834  CAGGGAAATGGGCTTTCGTACAGGATCCTCTTCTCAAAGCTTATCA...      1\n",
       "60835  ATAAAACGGTTTGGGTAATCAGATCTATTGAAGATCAAATGTCCTG...      1\n",
       "60836  AAGATAGCCATGTGTTAGGGCTAGGTGCAGTGGCTCACGTGTATAA...      1\n",
       "60837  TCATGCCTCTCATATCTTATCAAATGGACTAATCTTTTTTCTTTAT...      1\n",
       "\n",
       "[60838 rows x 2 columns]"
      ]
     },
     "execution_count": 7,
     "metadata": {},
     "output_type": "execute_result"
    }
   ],
   "source": [
    "# Replace 'file_path.csv' with the path to the TF data.csv file\n",
    "tf=\"CEBPB\"\n",
    "file_path = f'/mnt/raid1/thalassini/home/filtered_fimo/{tf.upper()}/datasets/data.csv'\n",
    "df = pd.read_csv(file_path)\n",
    "df"
   ]
  },
  {
   "cell_type": "markdown",
   "id": "d22b4a0d",
   "metadata": {},
   "source": [
    "# Sequence length inspection and normalization"
   ]
  },
  {
   "cell_type": "code",
   "execution_count": 8,
   "id": "d33c9269",
   "metadata": {},
   "outputs": [
    {
     "name": "stdout",
     "output_type": "stream",
     "text": [
      "Max length:2000, Min length: 200\n"
     ]
    },
    {
     "data": {
      "image/png": "[encoded data removed]",
      "text/plain": [
       "<Figure size 640x480 with 1 Axes>"
      ]
     },
     "metadata": {},
     "output_type": "display_data"
    }
   ],
   "source": [
    "lengths= [len(item) for item in df['data']] \n",
    "print(f'Max length:{max(lengths)}, Min length: {min(lengths)}')\n",
    "import matplotlib.pyplot as plt\n",
    "# Plotting the histogram\n",
    "plt.hist(lengths, bins=10, color='blue', edgecolor='black')\n",
    "plt.title('Histogram of Lengths')\n",
    "plt.xlabel('Length')\n",
    "plt.ylabel('Frequency')\n",
    "plt.show()"
   ]
  },
  {
   "cell_type": "code",
   "execution_count": 9,
   "id": "292502f4",
   "metadata": {},
   "outputs": [],
   "source": [
    "# Find the maximum length of sequences\n",
    "#min_length = min(len(seq) for seq in df['data'])\n",
    "limit=200\n",
    "\n",
    "\n",
    "# Pad or cut sequences to ensure they all have the same length\n",
    "cut_sequences = [seq[:limit] for seq in df['data']]\n",
    "\n",
    "# Update the DataFrame with the cut sequences\n",
    "#df['data'] = cut_sequences"
   ]
  },
  {
   "cell_type": "code",
   "execution_count": 10,
   "id": "84f394a8",
   "metadata": {},
   "outputs": [
    {
     "name": "stdout",
     "output_type": "stream",
     "text": [
      "Max length:200, Min length: 200\n"
     ]
    }
   ],
   "source": [
    "lengths= [len(item) for item in cut_sequences]\n",
    "print(f'Max length:{max(lengths)}, Min length: {min(lengths)}')"
   ]
  },
  {
   "cell_type": "markdown",
   "id": "9b65d644",
   "metadata": {},
   "source": [
    "# Define X,y variables"
   ]
  },
  {
   "cell_type": "code",
   "execution_count": 11,
   "id": "f9e96a80",
   "metadata": {},
   "outputs": [],
   "source": [
    "X=[one_hot_encode(sequence) for sequence in cut_sequences]"
   ]
  },
  {
   "cell_type": "code",
   "execution_count": 12,
   "id": "2ab32859",
   "metadata": {},
   "outputs": [],
   "source": [
    "X = torch.from_numpy(np.array(X)).type(torch.float)\n"
   ]
  },
  {
   "cell_type": "code",
   "execution_count": 13,
   "id": "0bf2a817",
   "metadata": {},
   "outputs": [
    {
     "data": {
      "text/plain": [
       "torch.Size([60838, 200, 4])"
      ]
     },
     "execution_count": 13,
     "metadata": {},
     "output_type": "execute_result"
    }
   ],
   "source": [
    "X.shape"
   ]
  },
  {
   "cell_type": "code",
   "execution_count": 14,
   "id": "9aec20e4",
   "metadata": {},
   "outputs": [
    {
     "data": {
      "text/plain": [
       "array([0, 0, 0])"
      ]
     },
     "execution_count": 14,
     "metadata": {},
     "output_type": "execute_result"
    }
   ],
   "source": [
    "y=np.array(df['class'])\n",
    "y[:3]"
   ]
  },
  {
   "cell_type": "code",
   "execution_count": 15,
   "id": "7f1057ee",
   "metadata": {},
   "outputs": [],
   "source": [
    "y = torch.from_numpy(y).type(torch.float)"
   ]
  },
  {
   "cell_type": "markdown",
   "id": "c4515e0b",
   "metadata": {},
   "source": [
    "# Split the data in train, val and test set"
   ]
  },
  {
   "cell_type": "code",
   "execution_count": 16,
   "id": "f4a1304f",
   "metadata": {},
   "outputs": [
    {
     "name": "stdout",
     "output_type": "stream",
     "text": [
      "38936 38936 9734 9734\n",
      "12168 12168\n"
     ]
    }
   ],
   "source": [
    "from sklearn.model_selection import train_test_split\n",
    "from sklearn.model_selection import StratifiedShuffleSplit\n",
    "\n",
    "\n",
    "\n",
    "# Split the data into a stratified hold-out validation set and the rest\n",
    "stratified_splitter = StratifiedShuffleSplit(n_splits=1, test_size=0.2, random_state=42)\n",
    "\n",
    "for train_val_index, test_index in stratified_splitter.split(X, y):\n",
    "    X_train_val, X_test = X[train_val_index], X[test_index]\n",
    "    y_train_val, y_test = y[train_val_index], y[test_index]\n",
    "\n",
    "# Split the remaining data into training and validation sets\n",
    "X_train, X_val, y_train, y_val = train_test_split(X_train_val, y_train_val, test_size=0.2, stratify=y_train_val, random_state=42)\n",
    "\n",
    "print(len(X_train), len(y_train), len(X_val), len(y_val))\n",
    "print(len(X_test), len(y_test))\n",
    "\n",
    "\n",
    "# (X_train, X_val, y_train, y_val) for training, validation\n",
    "# X_test, y_test for the final hold-out validation.\n",
    "\n",
    "#X_train, X_val, X_test = torch.from_numpy(X_train).type(torch.float),torch.from_numpy(X_val).type(torch.float), torch.from_numpy(X_test).type(torch.float)\n",
    "\n"
   ]
  },
  {
   "cell_type": "markdown",
   "id": "d6716d37",
   "metadata": {},
   "source": [
    "# Create datasets and Dataloaders"
   ]
  },
  {
   "cell_type": "code",
   "execution_count": 17,
   "id": "cc8becaa",
   "metadata": {},
   "outputs": [
    {
     "name": "stdout",
     "output_type": "stream",
     "text": [
      "38936 38936 38936\n"
     ]
    }
   ],
   "source": [
    "from torch.utils.data import DataLoader, TensorDataset\n",
    "torch.manual_seed(42)\n",
    "\n",
    "# Expand the dimensions of y to make it 2-dimensional\n",
    "y_train = y_train.view(-1, 1)\n",
    "y_test = y_test.view(-1,1)\n",
    "y_val = y_val.view(-1,1)\n",
    "# Concatenate the complement of y to create a 2-dimensional tensor\n",
    "y_train_one_hot = torch.cat([1 - y_train, y_train], dim=1).float()\n",
    "y_test_one_hot = torch.cat([1 - y_test, y_test], dim=1).float()\n",
    "y_val_one_hot = torch.cat([1 - y_val, y_val], dim=1).float()\n",
    "\n",
    "\n",
    "# Move tensors to the same device\n",
    "X_train, y_train_one_hot, y_train = X_train.to(device), y_train_one_hot.to(device), y_train.to(device)\n",
    "X_val, y_val_one_hot, y_val = X_val.to(device), y_val_one_hot.to(device), y_val.to(device)\n",
    "X_test, y_test_one_hot, y_test = X_test.to(device), y_test_one_hot.to(device), y_test.to(device)\n",
    "\n",
    "\n",
    "print(X_train.size(0), y_train_one_hot.size(0), y_train.size(0))\n",
    "\n",
    "# Create datasets\n",
    "train_dataset = TensorDataset(X_train, y_train_one_hot, y_train)\n",
    "val_dataset = TensorDataset(X_val, y_val_one_hot, y_val)\n",
    "test_dataset = TensorDataset(X_test, y_test_one_hot, y_test)\n",
    "\n"
   ]
  },
  {
   "cell_type": "code",
   "execution_count": 18,
   "id": "107677e4",
   "metadata": {},
   "outputs": [],
   "source": [
    "\n",
    "batch_size=64\n",
    "torch.manual_seed(42)\n",
    "\n",
    "# Convert to PyTorch DataLoader\n",
    "train_loader = DataLoader(train_dataset, batch_size=batch_size, shuffle=True)\n",
    "val_loader = DataLoader(val_dataset, batch_size=batch_size, shuffle=True)\n",
    "test_loader = DataLoader(test_dataset, batch_size=batch_size, shuffle=True)"
   ]
  },
  {
   "cell_type": "markdown",
   "id": "d20e4bb7",
   "metadata": {},
   "source": [
    "# Construct a 1 layer CNN with Maxpooling and Dropout"
   ]
  },
  {
   "cell_type": "code",
   "execution_count": 19,
   "id": "9c0dfed6",
   "metadata": {},
   "outputs": [],
   "source": [
    "class Conv_v0(torch.nn.Module):\n",
    "\n",
    "    def __init__(self):\n",
    "        super(Conv_v0, self).__init__()\n",
    "\n",
    "        self.conv1 = torch.nn.Conv1d(in_channels=4, out_channels=3, kernel_size=17)\n",
    "        self.activation = torch.nn.ReLU()\n",
    "        self.maxpool = torch.nn.MaxPool1d(kernel_size=5)\n",
    "        \n",
    "        self.dropout = torch.nn.Dropout(p=0.5) \n",
    "        self.fc = torch.nn.Linear(in_features=108, out_features=2)\n",
    "        #elf.sigmoid = torch.nn.Sigmoid()\n",
    "\n",
    "    def forward(self, x):\n",
    "        x= x.permute(0, 2, 1)\n",
    "        x = self.conv1(x)\n",
    "        x = self.activation(x)\n",
    "        x = self.maxpool(x)\n",
    "        \n",
    "        # Reshape the output of the max pooling layer before passing it to the fully connected layer\n",
    "        x = x.view(x.size(0), -1)\n",
    "        \n",
    "        #print(\"Size after reshaping:\", x.size())\n",
    "        x=self.dropout(x)\n",
    "        x = self.fc(x)\n",
    "       #x = self.sigmoid(x)\n",
    "        return x\n"
   ]
  },
  {
   "cell_type": "markdown",
   "id": "e7f2d523",
   "metadata": {},
   "source": [
    "# Computing class weights"
   ]
  },
  {
   "cell_type": "code",
   "execution_count": 20,
   "id": "0f86ea45",
   "metadata": {},
   "outputs": [
    {
     "name": "stdout",
     "output_type": "stream",
     "text": [
      "Class Weights List: [2.2857813784196312, 1.7777371929504155]\n"
     ]
    }
   ],
   "source": [
    "from torch.utils.data import DataLoader, TensorDataset\n",
    "from sklearn.utils.class_weight import compute_class_weight\n",
    "\n",
    "# Assuming we have defined dataset\n",
    "# train_dataset = TensorDataset(X_train, y_train_one_hot, y_train)\n",
    "\n",
    "# Extract the labels from the dataset\n",
    "_, _, y_train = zip(*train_dataset)\n",
    "\n",
    "# Count occurrences of each class\n",
    "class_0_count = sum(1 for label in y_train if label == 0)\n",
    "class_1_count = sum(1 for label in y_train if label == 1)\n",
    "\n",
    "# Total length of y_train\n",
    "total_samples = len(y_train)\n",
    "\n",
    "# Calculate class weights\n",
    "weights = [total_samples / class_0_count, total_samples / class_1_count]\n",
    "\n",
    "# Print the list of class weights\n",
    "print(\"Class Weights List:\", weights)\n",
    "\n",
    "\n"
   ]
  },
  {
   "cell_type": "markdown",
   "id": "40b134d4",
   "metadata": {},
   "source": [
    "# Set up loss function and optimizer"
   ]
  },
  {
   "cell_type": "code",
   "execution_count": 21,
   "id": "948d9087",
   "metadata": {},
   "outputs": [],
   "source": [
    "from torch.optim import lr_scheduler\n",
    "weights = torch.tensor(weights).to(device)\n",
    "#print(weights)"
   ]
  },
  {
   "cell_type": "code",
   "execution_count": 22,
   "id": "65dbe876",
   "metadata": {},
   "outputs": [],
   "source": [
    "torch.manual_seed(42)\n",
    "\n",
    "# Initialize model instance\n",
    "model = Conv_v0()\n",
    "\n",
    "# define the CrossEntropyLoss with weights\n",
    "loss_fn = nn.BCEWithLogitsLoss(weight=weights)\n",
    "\n",
    "# Define oprimizer\n",
    "optimizer = torch.optim.Adam(model.parameters(), lr=0.0001)\n",
    "\n",
    "# Define exponetntial lr with lr_scheduler\n",
    "exp_lr_scheduler = lr_scheduler.ExponentialLR(optimizer, gamma=0.01)"
   ]
  },
  {
   "cell_type": "code",
   "execution_count": 23,
   "id": "e1d337c9",
   "metadata": {},
   "outputs": [
    {
     "data": {
      "text/plain": [
       "tensor([[-0.2627, -0.3012],\n",
       "        [-0.4031, -0.5329],\n",
       "        [-0.0942, -0.1204],\n",
       "        [-0.0307, -0.1683],\n",
       "        [ 0.0957, -0.5070]], grad_fn=<SliceBackward0>)"
      ]
     },
     "execution_count": 23,
     "metadata": {},
     "output_type": "execute_result"
    }
   ],
   "source": [
    "# View the frist 5 outputs of the forward pass on the test data\n",
    "y_logits = model(X_test.to(device))[:5]\n",
    "y_logits"
   ]
  },
  {
   "cell_type": "code",
   "execution_count": 24,
   "id": "d2669895",
   "metadata": {},
   "outputs": [
    {
     "data": {
      "application/vnd.jupyter.widget-view+json": {
       "model_id": "1f5b667f85894216a48cfbaceac79f55",
       "version_major": 2,
       "version_minor": 0
      },
      "text/plain": [
       "  0%|          | 0/600 [00:00<?, ?it/s]"
      ]
     },
     "metadata": {},
     "output_type": "display_data"
    },
    {
     "name": "stdout",
     "output_type": "stream",
     "text": [
      "Epoch: 1 | train_loss: 1.4016 | train_bal_acc: 0.5050 | train_mcc: 0.0124 | valid_loss: 1.3878 | valid_bal_acc: 0.4999 | valid_mcc: -0.0007\n",
      "Epoch: 2 | train_loss: 1.3849 | train_bal_acc: 0.5186 | train_mcc: 0.0585 | valid_loss: 1.3720 | valid_bal_acc: 0.5005 | valid_mcc: 0.0038\n",
      "Epoch: 3 | train_loss: 1.3586 | train_bal_acc: 0.5676 | train_mcc: 0.1695 | valid_loss: 1.3244 | valid_bal_acc: 0.5184 | valid_mcc: 0.1062\n",
      "Epoch: 4 | train_loss: 1.3015 | train_bal_acc: 0.6454 | train_mcc: 0.3166 | valid_loss: 1.2404 | valid_bal_acc: 0.6548 | valid_mcc: 0.4186\n",
      "Epoch: 5 | train_loss: 1.2205 | train_bal_acc: 0.7022 | train_mcc: 0.4204 | valid_loss: 1.1397 | valid_bal_acc: 0.8192 | valid_mcc: 0.6715\n",
      "Epoch: 6 | train_loss: 1.1429 | train_bal_acc: 0.7379 | train_mcc: 0.4869 | valid_loss: 1.0440 | valid_bal_acc: 0.8601 | valid_mcc: 0.7406\n",
      "Epoch: 7 | train_loss: 1.0789 | train_bal_acc: 0.7526 | train_mcc: 0.5149 | valid_loss: 0.9651 | valid_bal_acc: 0.8825 | valid_mcc: 0.7780\n",
      "Epoch: 8 | train_loss: 1.0347 | train_bal_acc: 0.7668 | train_mcc: 0.5424 | valid_loss: 0.8993 | valid_bal_acc: 0.9058 | valid_mcc: 0.8149\n",
      "Epoch: 9 | train_loss: 0.9972 | train_bal_acc: 0.7745 | train_mcc: 0.5569 | valid_loss: 0.8495 | valid_bal_acc: 0.9154 | valid_mcc: 0.8300\n",
      "Epoch: 10 | train_loss: 0.9629 | train_bal_acc: 0.7850 | train_mcc: 0.5780 | valid_loss: 0.8027 | valid_bal_acc: 0.9216 | valid_mcc: 0.8411\n",
      "Epoch: 11 | train_loss: 0.9347 | train_bal_acc: 0.7928 | train_mcc: 0.5938 | valid_loss: 0.7618 | valid_bal_acc: 0.9265 | valid_mcc: 0.8493\n",
      "Epoch: 12 | train_loss: 0.9230 | train_bal_acc: 0.7958 | train_mcc: 0.6005 | valid_loss: 0.7326 | valid_bal_acc: 0.9298 | valid_mcc: 0.8562\n",
      "Epoch: 13 | train_loss: 0.8946 | train_bal_acc: 0.8029 | train_mcc: 0.6141 | valid_loss: 0.7016 | valid_bal_acc: 0.9332 | valid_mcc: 0.8625\n",
      "Epoch: 14 | train_loss: 0.8747 | train_bal_acc: 0.8090 | train_mcc: 0.6267 | valid_loss: 0.6759 | valid_bal_acc: 0.9355 | valid_mcc: 0.8672\n",
      "Epoch: 15 | train_loss: 0.8680 | train_bal_acc: 0.8106 | train_mcc: 0.6302 | valid_loss: 0.6565 | valid_bal_acc: 0.9382 | valid_mcc: 0.8734\n",
      "Epoch: 16 | train_loss: 0.8535 | train_bal_acc: 0.8141 | train_mcc: 0.6376 | valid_loss: 0.6346 | valid_bal_acc: 0.9400 | valid_mcc: 0.8771\n",
      "Epoch: 17 | train_loss: 0.8402 | train_bal_acc: 0.8201 | train_mcc: 0.6501 | valid_loss: 0.6142 | valid_bal_acc: 0.9420 | valid_mcc: 0.8809\n",
      "Epoch: 18 | train_loss: 0.8284 | train_bal_acc: 0.8220 | train_mcc: 0.6552 | valid_loss: 0.6036 | valid_bal_acc: 0.9435 | valid_mcc: 0.8821\n",
      "Epoch: 19 | train_loss: 0.8208 | train_bal_acc: 0.8262 | train_mcc: 0.6615 | valid_loss: 0.5845 | valid_bal_acc: 0.9472 | valid_mcc: 0.8905\n",
      "Epoch: 20 | train_loss: 0.8087 | train_bal_acc: 0.8290 | train_mcc: 0.6693 | valid_loss: 0.5744 | valid_bal_acc: 0.9488 | valid_mcc: 0.8929\n",
      "Epoch: 21 | train_loss: 0.7980 | train_bal_acc: 0.8320 | train_mcc: 0.6750 | valid_loss: 0.5607 | valid_bal_acc: 0.9495 | valid_mcc: 0.8940\n",
      "Epoch: 22 | train_loss: 0.7988 | train_bal_acc: 0.8294 | train_mcc: 0.6714 | valid_loss: 0.5523 | valid_bal_acc: 0.9501 | valid_mcc: 0.8955\n",
      "Epoch: 23 | train_loss: 0.7876 | train_bal_acc: 0.8342 | train_mcc: 0.6806 | valid_loss: 0.5348 | valid_bal_acc: 0.9538 | valid_mcc: 0.9043\n",
      "Epoch: 24 | train_loss: 0.7822 | train_bal_acc: 0.8388 | train_mcc: 0.6895 | valid_loss: 0.5265 | valid_bal_acc: 0.9551 | valid_mcc: 0.9067\n",
      "Epoch: 25 | train_loss: 0.7693 | train_bal_acc: 0.8403 | train_mcc: 0.6923 | valid_loss: 0.5150 | valid_bal_acc: 0.9565 | valid_mcc: 0.9091\n",
      "Epoch: 26 | train_loss: 0.7581 | train_bal_acc: 0.8429 | train_mcc: 0.6992 | valid_loss: 0.5059 | valid_bal_acc: 0.9572 | valid_mcc: 0.9108\n",
      "Epoch: 27 | train_loss: 0.7554 | train_bal_acc: 0.8446 | train_mcc: 0.7023 | valid_loss: 0.4924 | valid_bal_acc: 0.9602 | valid_mcc: 0.9096\n",
      "Epoch: 28 | train_loss: 0.7512 | train_bal_acc: 0.8488 | train_mcc: 0.7105 | valid_loss: 0.4914 | valid_bal_acc: 0.9615 | valid_mcc: 0.9180\n",
      "Epoch: 29 | train_loss: 0.7519 | train_bal_acc: 0.8493 | train_mcc: 0.7120 | valid_loss: 0.4809 | valid_bal_acc: 0.9612 | valid_mcc: 0.9185\n",
      "Epoch: 30 | train_loss: 0.7463 | train_bal_acc: 0.8505 | train_mcc: 0.7142 | valid_loss: 0.4697 | valid_bal_acc: 0.9632 | valid_mcc: 0.9231\n",
      "Epoch: 31 | train_loss: 0.7357 | train_bal_acc: 0.8519 | train_mcc: 0.7177 | valid_loss: 0.4631 | valid_bal_acc: 0.9651 | valid_mcc: 0.9264\n",
      "Epoch: 32 | train_loss: 0.7280 | train_bal_acc: 0.8543 | train_mcc: 0.7216 | valid_loss: 0.4555 | valid_bal_acc: 0.9658 | valid_mcc: 0.9276\n",
      "Epoch: 33 | train_loss: 0.7315 | train_bal_acc: 0.8534 | train_mcc: 0.7217 | valid_loss: 0.4519 | valid_bal_acc: 0.9670 | valid_mcc: 0.9304\n",
      "Epoch: 34 | train_loss: 0.7235 | train_bal_acc: 0.8550 | train_mcc: 0.7244 | valid_loss: 0.4477 | valid_bal_acc: 0.9677 | valid_mcc: 0.9324\n",
      "Epoch: 35 | train_loss: 0.7176 | train_bal_acc: 0.8610 | train_mcc: 0.7348 | valid_loss: 0.4393 | valid_bal_acc: 0.9672 | valid_mcc: 0.9312\n",
      "Epoch: 36 | train_loss: 0.7091 | train_bal_acc: 0.8600 | train_mcc: 0.7334 | valid_loss: 0.4304 | valid_bal_acc: 0.9675 | valid_mcc: 0.9313\n",
      "Epoch: 37 | train_loss: 0.7137 | train_bal_acc: 0.8582 | train_mcc: 0.7313 | valid_loss: 0.4341 | valid_bal_acc: 0.9697 | valid_mcc: 0.9353\n",
      "Epoch: 38 | train_loss: 0.7038 | train_bal_acc: 0.8622 | train_mcc: 0.7395 | valid_loss: 0.4286 | valid_bal_acc: 0.9694 | valid_mcc: 0.9338\n",
      "Epoch: 39 | train_loss: 0.7137 | train_bal_acc: 0.8578 | train_mcc: 0.7303 | valid_loss: 0.4268 | valid_bal_acc: 0.9706 | valid_mcc: 0.9378\n",
      "Epoch: 40 | train_loss: 0.7025 | train_bal_acc: 0.8619 | train_mcc: 0.7387 | valid_loss: 0.4172 | valid_bal_acc: 0.9705 | valid_mcc: 0.9368\n",
      "Epoch: 41 | train_loss: 0.6971 | train_bal_acc: 0.8630 | train_mcc: 0.7401 | valid_loss: 0.4178 | valid_bal_acc: 0.9699 | valid_mcc: 0.9352\n",
      "Epoch: 42 | train_loss: 0.6987 | train_bal_acc: 0.8612 | train_mcc: 0.7378 | valid_loss: 0.4084 | valid_bal_acc: 0.9703 | valid_mcc: 0.9377\n",
      "Epoch: 43 | train_loss: 0.6858 | train_bal_acc: 0.8668 | train_mcc: 0.7483 | valid_loss: 0.4067 | valid_bal_acc: 0.9711 | valid_mcc: 0.9388\n",
      "Epoch: 44 | train_loss: 0.6965 | train_bal_acc: 0.8633 | train_mcc: 0.7416 | valid_loss: 0.4062 | valid_bal_acc: 0.9717 | valid_mcc: 0.9397\n",
      "Epoch: 45 | train_loss: 0.6912 | train_bal_acc: 0.8636 | train_mcc: 0.7416 | valid_loss: 0.4010 | valid_bal_acc: 0.9716 | valid_mcc: 0.9390\n",
      "Epoch: 46 | train_loss: 0.6842 | train_bal_acc: 0.8650 | train_mcc: 0.7461 | valid_loss: 0.4021 | valid_bal_acc: 0.9711 | valid_mcc: 0.9377\n",
      "Epoch: 47 | train_loss: 0.6941 | train_bal_acc: 0.8646 | train_mcc: 0.7444 | valid_loss: 0.4074 | valid_bal_acc: 0.9716 | valid_mcc: 0.9390\n",
      "Epoch: 48 | train_loss: 0.6845 | train_bal_acc: 0.8665 | train_mcc: 0.7479 | valid_loss: 0.3951 | valid_bal_acc: 0.9723 | valid_mcc: 0.9411\n",
      "Epoch: 49 | train_loss: 0.6836 | train_bal_acc: 0.8670 | train_mcc: 0.7495 | valid_loss: 0.3937 | valid_bal_acc: 0.9714 | valid_mcc: 0.9397\n",
      "Epoch: 50 | train_loss: 0.6838 | train_bal_acc: 0.8658 | train_mcc: 0.7473 | valid_loss: 0.3906 | valid_bal_acc: 0.9730 | valid_mcc: 0.9420\n",
      "Epoch: 51 | train_loss: 0.6781 | train_bal_acc: 0.8676 | train_mcc: 0.7506 | valid_loss: 0.3885 | valid_bal_acc: 0.9727 | valid_mcc: 0.9412\n",
      "Epoch: 52 | train_loss: 0.6821 | train_bal_acc: 0.8663 | train_mcc: 0.7480 | valid_loss: 0.3900 | valid_bal_acc: 0.9718 | valid_mcc: 0.9403\n",
      "Epoch: 53 | train_loss: 0.6786 | train_bal_acc: 0.8685 | train_mcc: 0.7517 | valid_loss: 0.3849 | valid_bal_acc: 0.9737 | valid_mcc: 0.9434\n",
      "Epoch: 54 | train_loss: 0.6787 | train_bal_acc: 0.8681 | train_mcc: 0.7512 | valid_loss: 0.3861 | valid_bal_acc: 0.9736 | valid_mcc: 0.9437\n",
      "Epoch: 55 | train_loss: 0.6773 | train_bal_acc: 0.8699 | train_mcc: 0.7550 | valid_loss: 0.3836 | valid_bal_acc: 0.9739 | valid_mcc: 0.9443\n",
      "Epoch: 56 | train_loss: 0.6782 | train_bal_acc: 0.8676 | train_mcc: 0.7506 | valid_loss: 0.3846 | valid_bal_acc: 0.9730 | valid_mcc: 0.9414\n",
      "Epoch: 57 | train_loss: 0.6679 | train_bal_acc: 0.8704 | train_mcc: 0.7559 | valid_loss: 0.3763 | valid_bal_acc: 0.9743 | valid_mcc: 0.9445\n",
      "Epoch: 58 | train_loss: 0.6764 | train_bal_acc: 0.8708 | train_mcc: 0.7564 | valid_loss: 0.3817 | valid_bal_acc: 0.9739 | valid_mcc: 0.9445\n",
      "Epoch: 59 | train_loss: 0.6663 | train_bal_acc: 0.8727 | train_mcc: 0.7594 | valid_loss: 0.3762 | valid_bal_acc: 0.9744 | valid_mcc: 0.9448\n"
     ]
    },
    {
     "name": "stdout",
     "output_type": "stream",
     "text": [
      "Epoch: 60 | train_loss: 0.6737 | train_bal_acc: 0.8696 | train_mcc: 0.7542 | valid_loss: 0.3822 | valid_bal_acc: 0.9743 | valid_mcc: 0.9449\n",
      "Epoch: 61 | train_loss: 0.6684 | train_bal_acc: 0.8740 | train_mcc: 0.7621 | valid_loss: 0.3717 | valid_bal_acc: 0.9750 | valid_mcc: 0.9468\n",
      "Epoch: 62 | train_loss: 0.6696 | train_bal_acc: 0.8712 | train_mcc: 0.7584 | valid_loss: 0.3751 | valid_bal_acc: 0.9757 | valid_mcc: 0.9469\n",
      "Epoch: 63 | train_loss: 0.6629 | train_bal_acc: 0.8736 | train_mcc: 0.7620 | valid_loss: 0.3764 | valid_bal_acc: 0.9749 | valid_mcc: 0.9466\n",
      "Epoch: 64 | train_loss: 0.6565 | train_bal_acc: 0.8747 | train_mcc: 0.7639 | valid_loss: 0.3735 | valid_bal_acc: 0.9753 | valid_mcc: 0.9472\n",
      "Epoch: 65 | train_loss: 0.6661 | train_bal_acc: 0.8717 | train_mcc: 0.7587 | valid_loss: 0.3742 | valid_bal_acc: 0.9760 | valid_mcc: 0.9482\n",
      "Epoch: 66 | train_loss: 0.6585 | train_bal_acc: 0.8756 | train_mcc: 0.7661 | valid_loss: 0.3697 | valid_bal_acc: 0.9761 | valid_mcc: 0.9483\n",
      "Epoch: 67 | train_loss: 0.6722 | train_bal_acc: 0.8731 | train_mcc: 0.7613 | valid_loss: 0.3757 | valid_bal_acc: 0.9753 | valid_mcc: 0.9466\n",
      "Epoch: 68 | train_loss: 0.6619 | train_bal_acc: 0.8742 | train_mcc: 0.7629 | valid_loss: 0.3697 | valid_bal_acc: 0.9766 | valid_mcc: 0.9495\n",
      "Epoch: 69 | train_loss: 0.6680 | train_bal_acc: 0.8720 | train_mcc: 0.7594 | valid_loss: 0.3715 | valid_bal_acc: 0.9762 | valid_mcc: 0.9489\n",
      "Epoch: 70 | train_loss: 0.6641 | train_bal_acc: 0.8741 | train_mcc: 0.7630 | valid_loss: 0.3689 | valid_bal_acc: 0.9758 | valid_mcc: 0.9490\n",
      "Epoch: 71 | train_loss: 0.6633 | train_bal_acc: 0.8737 | train_mcc: 0.7628 | valid_loss: 0.3674 | valid_bal_acc: 0.9770 | valid_mcc: 0.9503\n",
      "Epoch: 72 | train_loss: 0.6618 | train_bal_acc: 0.8742 | train_mcc: 0.7629 | valid_loss: 0.3684 | valid_bal_acc: 0.9774 | valid_mcc: 0.9510\n",
      "Epoch: 73 | train_loss: 0.6550 | train_bal_acc: 0.8766 | train_mcc: 0.7687 | valid_loss: 0.3657 | valid_bal_acc: 0.9773 | valid_mcc: 0.9505\n",
      "Epoch: 74 | train_loss: 0.6647 | train_bal_acc: 0.8753 | train_mcc: 0.7653 | valid_loss: 0.3650 | valid_bal_acc: 0.9774 | valid_mcc: 0.9515\n",
      "Epoch: 75 | train_loss: 0.6650 | train_bal_acc: 0.8744 | train_mcc: 0.7637 | valid_loss: 0.3665 | valid_bal_acc: 0.9776 | valid_mcc: 0.9519\n",
      "Epoch: 76 | train_loss: 0.6496 | train_bal_acc: 0.8795 | train_mcc: 0.7733 | valid_loss: 0.3623 | valid_bal_acc: 0.9768 | valid_mcc: 0.9508\n",
      "Epoch: 77 | train_loss: 0.6538 | train_bal_acc: 0.8757 | train_mcc: 0.7668 | valid_loss: 0.3634 | valid_bal_acc: 0.9771 | valid_mcc: 0.9507\n",
      "Epoch: 78 | train_loss: 0.6482 | train_bal_acc: 0.8762 | train_mcc: 0.7680 | valid_loss: 0.3638 | valid_bal_acc: 0.9765 | valid_mcc: 0.9483\n",
      "Epoch: 79 | train_loss: 0.6602 | train_bal_acc: 0.8763 | train_mcc: 0.7671 | valid_loss: 0.3648 | valid_bal_acc: 0.9773 | valid_mcc: 0.9512\n",
      "Epoch: 80 | train_loss: 0.6554 | train_bal_acc: 0.8762 | train_mcc: 0.7673 | valid_loss: 0.3645 | valid_bal_acc: 0.9772 | valid_mcc: 0.9509\n",
      "Epoch: 81 | train_loss: 0.6525 | train_bal_acc: 0.8780 | train_mcc: 0.7713 | valid_loss: 0.3639 | valid_bal_acc: 0.9768 | valid_mcc: 0.9497\n",
      "Epoch: 82 | train_loss: 0.6459 | train_bal_acc: 0.8792 | train_mcc: 0.7719 | valid_loss: 0.3596 | valid_bal_acc: 0.9768 | valid_mcc: 0.9509\n",
      "Epoch: 83 | train_loss: 0.6500 | train_bal_acc: 0.8786 | train_mcc: 0.7720 | valid_loss: 0.3624 | valid_bal_acc: 0.9773 | valid_mcc: 0.9514\n",
      "Epoch: 84 | train_loss: 0.6612 | train_bal_acc: 0.8763 | train_mcc: 0.7673 | valid_loss: 0.3604 | valid_bal_acc: 0.9771 | valid_mcc: 0.9505\n",
      "Epoch: 85 | train_loss: 0.6440 | train_bal_acc: 0.8802 | train_mcc: 0.7743 | valid_loss: 0.3601 | valid_bal_acc: 0.9769 | valid_mcc: 0.9506\n",
      "Epoch: 86 | train_loss: 0.6596 | train_bal_acc: 0.8750 | train_mcc: 0.7660 | valid_loss: 0.3640 | valid_bal_acc: 0.9766 | valid_mcc: 0.9504\n",
      "Epoch: 87 | train_loss: 0.6589 | train_bal_acc: 0.8769 | train_mcc: 0.7681 | valid_loss: 0.3638 | valid_bal_acc: 0.9768 | valid_mcc: 0.9505\n",
      "Epoch: 88 | train_loss: 0.6537 | train_bal_acc: 0.8783 | train_mcc: 0.7712 | valid_loss: 0.3649 | valid_bal_acc: 0.9769 | valid_mcc: 0.9505\n",
      "Epoch: 89 | train_loss: 0.6553 | train_bal_acc: 0.8775 | train_mcc: 0.7703 | valid_loss: 0.3627 | valid_bal_acc: 0.9766 | valid_mcc: 0.9499\n",
      "Epoch: 90 | train_loss: 0.6537 | train_bal_acc: 0.8781 | train_mcc: 0.7711 | valid_loss: 0.3617 | valid_bal_acc: 0.9769 | valid_mcc: 0.9508\n",
      "Epoch: 91 | train_loss: 0.6497 | train_bal_acc: 0.8800 | train_mcc: 0.7738 | valid_loss: 0.3599 | valid_bal_acc: 0.9761 | valid_mcc: 0.9498\n",
      "Epoch: 92 | train_loss: 0.6504 | train_bal_acc: 0.8790 | train_mcc: 0.7730 | valid_loss: 0.3613 | valid_bal_acc: 0.9769 | valid_mcc: 0.9507\n",
      "Early stopping after 92 epochs without improvement.\n"
     ]
    }
   ],
   "source": [
    "results, _ = engine.train_with_early_stopping(model=model,\n",
    "                                                  train_dataloader=train_loader,\n",
    "                                                  valid_dataloader=val_loader,\n",
    "                                                  optimizer=optimizer,\n",
    "                                                  loss_fn=loss_fn,\n",
    "                                                  epochs=600,\n",
    "                                                  device=device)\n"
   ]
  },
  {
   "cell_type": "code",
   "execution_count": 31,
   "id": "8e394a60",
   "metadata": {},
   "outputs": [
    {
     "data": {
      "text/plain": [
       "Text(0.5, 1.0, 'Loss Curves CEBPB_CNN1_ADAM_BCEWithLogits_seq=200b.png')"
      ]
     },
     "execution_count": 31,
     "metadata": {},
     "output_type": "execute_result"
    },
    {
     "data": {
      "image/png": "[encoded data removed]",
      "text/plain": [
       "<Figure size 1500x700 with 2 Axes>"
      ]
     },
     "metadata": {},
     "output_type": "display_data"
    }
   ],
   "source": [
    "helper_functions.plot_loss_curves(results)\n",
    "save_dir = 'images'\n",
    "os.makedirs(save_dir, exist_ok=True)\n",
    "plt.savefig(os.path.join(save_dir, f'{tf}_CNN1_ADAM_BCEWithLogits_seq=200b.png'));\n",
    "\n",
    "plt.title(f\"Loss Curves {tf}_CNN1_ADAM_BCEWithLogits_seq=200b.png\")"
   ]
  },
  {
   "cell_type": "code",
   "execution_count": 32,
   "id": "228c82d1",
   "metadata": {},
   "outputs": [
    {
     "name": "stdout",
     "output_type": "stream",
     "text": [
      "Perfomance on held out test set\n",
      "Test loss: 0.3600557952807212 | Test bal acc 0.9767962469235613 | Test mcc 0.9505502476883565 | Test_f_score 0.9754500759977016\n",
      "\n"
     ]
    }
   ],
   "source": [
    "from sklearn.metrics import balanced_accuracy_score, matthews_corrcoef, f1_score\n",
    "import torch.nn.functional as F\n",
    "\n",
    "\n",
    "model.eval()\n",
    "\n",
    "\n",
    "with torch.inference_mode():\n",
    "    all_predictions = []\n",
    "    all_true_labels = []\n",
    "    all_test_pred_prob=[]\n",
    "    \n",
    "    test_loss, test_bal_acc, test_mcc, test_f_score = 0, 0, 0, 0\n",
    "    for batch, (X, y_one_hot, y) in enumerate(test_loader):\n",
    "        # Send data to target device\n",
    "        X, y_one_hot, y = X.to(device),y_one_hot.to(device), y.to(device)\n",
    "\n",
    "        # 1. Forward pass\n",
    "        test_pred_logits = model(X)\n",
    "\n",
    "        # 2. Calculate and accumulate loss\n",
    "        loss = loss_fn(test_pred_logits, y_one_hot)\n",
    "        test_loss += loss.item()\n",
    "\n",
    "        # Calculate and accumulate scores\n",
    "        test_pred_labels = test_pred_logits.argmax(dim=1)\n",
    "        test_pred_prob = torch.softmax(test_pred_logits.squeeze(), dim=0) # note: perform softmax on the \"logits\" dimension, not \"batch\" dimension (in this case we have a batch size of 1, so can perform on dim=0)\n",
    "        test_bal_acc += balanced_accuracy_score(y.cpu().numpy(), test_pred_labels.cpu().numpy())\n",
    "        test_mcc += matthews_corrcoef(y.cpu().numpy(), test_pred_labels.cpu().numpy())\n",
    "        test_f_score += f1_score(y.cpu().numpy(), test_pred_labels.cpu().numpy(), average='weighted')\n",
    "        \n",
    "        all_predictions.extend(test_pred_labels.cpu().numpy())\n",
    "        all_true_labels.extend(y.cpu().numpy())\n",
    "        all_test_pred_prob.extend(test_pred_prob.cpu().numpy())\n",
    "\n",
    "    # Adjust metrics to get average loss and accuracy per batch\n",
    "    test_loss = test_loss / len(test_loader)\n",
    "    test_bal_acc = test_bal_acc / len(test_loader)\n",
    "    test_mcc = test_mcc / len(test_loader)\n",
    "    test_f_score = test_f_score / len(test_loader)\n",
    "    print(\"Perfomance on held out test set\")\n",
    "    print(f'Test loss: {test_loss} | Test bal acc {test_bal_acc} | Test mcc {test_mcc} | Test_f_score {test_f_score}\\n')   \n",
    "    "
   ]
  },
  {
   "cell_type": "markdown",
   "id": "e8c518d8",
   "metadata": {},
   "source": [
    "We can observe that the model is not overfiting since the perfomance on the held out test set is high"
   ]
  },
  {
   "cell_type": "code",
   "execution_count": null,
   "id": "51cd093a",
   "metadata": {},
   "outputs": [],
   "source": []
  }
 ],
 "metadata": {
  "kernelspec": {
   "display_name": "Python 3 (ipykernel)",
   "language": "python",
   "name": "python3"
  },
  "language_info": {
   "codemirror_mode": {
    "name": "ipython",
    "version": 3
   },
   "file_extension": ".py",
   "mimetype": "text/x-python",
   "name": "python",
   "nbconvert_exporter": "python",
   "pygments_lexer": "ipython3",
   "version": "3.11.5"
  }
 },
 "nbformat": 4,
 "nbformat_minor": 5
}
