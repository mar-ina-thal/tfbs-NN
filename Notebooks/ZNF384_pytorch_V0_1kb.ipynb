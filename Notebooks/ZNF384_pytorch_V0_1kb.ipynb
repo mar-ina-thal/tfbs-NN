{
 "cells": [
  {
   "cell_type": "markdown",
   "id": "e7eb3167",
   "metadata": {},
   "source": [
    "# Imports and functions"
   ]
  },
  {
   "cell_type": "code",
   "execution_count": 14,
   "id": "05d85633",
   "metadata": {},
   "outputs": [],
   "source": [
    "import pandas as pd\n",
    "import numpy as np\n",
    "from sklearn.preprocessing import OneHotEncoder\n",
    "from keras.utils import to_categorical\n",
    "from sklearn.metrics import balanced_accuracy_score"
   ]
  },
  {
   "cell_type": "code",
   "execution_count": 15,
   "id": "43a5887d",
   "metadata": {},
   "outputs": [],
   "source": [
    "import torchvision\n",
    "import engine\n",
    "import helper_functions"
   ]
  },
  {
   "cell_type": "code",
   "execution_count": 16,
   "id": "59bde44a",
   "metadata": {},
   "outputs": [],
   "source": [
    "from tqdm.auto import tqdm\n",
    "from typing import Dict, List, Tuple\n",
    "from sklearn.metrics import balanced_accuracy_score, matthews_corrcoef, f1_score\n",
    "from collections import deque  # Import deque for early stopping\n",
    "import warnings\n",
    "\n",
    "# Suppress the specific UserWarning related to y_pred and y_true class mismatch\n",
    "warnings.filterwarnings(\"ignore\", category=UserWarning, message=\"y_pred contains classes not in y_true\")"
   ]
  },
  {
   "cell_type": "code",
   "execution_count": 17,
   "id": "faeaeafc",
   "metadata": {},
   "outputs": [],
   "source": [
    "from sklearn.metrics import balanced_accuracy_score\n",
    "\n",
    "# Function to calculate balanced accuracy using sklearn\n",
    "def balanced_accuracy(y_true, y_pred):\n",
    "    return balanced_accuracy_score(y_true, y_pred) * 100"
   ]
  },
  {
   "cell_type": "code",
   "execution_count": 18,
   "id": "6c000451",
   "metadata": {},
   "outputs": [],
   "source": [
    "# Function to perform one-hot encoding for DNA sequences\n",
    "def one_hot_encode(sequence):\n",
    "    encoding = {'A': [1, 0, 0, 0], 'T': [0, 1, 0, 0], 'G': [0, 0, 1, 0], 'C': [0, 0, 0, 1]}\n",
    "    one_hot_sequence = [encoding.get(base, [0, 0, 0, 0]) for base in sequence]\n",
    "    return np.array(one_hot_sequence)"
   ]
  },
  {
   "cell_type": "markdown",
   "id": "4f102ecb",
   "metadata": {},
   "source": [
    "# Set up device agnostic code"
   ]
  },
  {
   "cell_type": "code",
   "execution_count": 19,
   "id": "12cee86f",
   "metadata": {},
   "outputs": [
    {
     "data": {
      "text/plain": [
       "'cpu'"
      ]
     },
     "execution_count": 19,
     "metadata": {},
     "output_type": "execute_result"
    }
   ],
   "source": [
    "import torch\n",
    "from torch import nn\n",
    "# Make device agnostic code\n",
    "device = \"cuda\" if torch.cuda.is_available() else \"cpu\"\n",
    "device"
   ]
  },
  {
   "cell_type": "code",
   "execution_count": 22,
   "id": "c9939f1e",
   "metadata": {},
   "outputs": [
    {
     "data": {
      "text/html": [
       "<div>\n",
       "<style scoped>\n",
       "    .dataframe tbody tr th:only-of-type {\n",
       "        vertical-align: middle;\n",
       "    }\n",
       "\n",
       "    .dataframe tbody tr th {\n",
       "        vertical-align: top;\n",
       "    }\n",
       "\n",
       "    .dataframe thead th {\n",
       "        text-align: right;\n",
       "    }\n",
       "</style>\n",
       "<table border=\"1\" class=\"dataframe\">\n",
       "  <thead>\n",
       "    <tr style=\"text-align: right;\">\n",
       "      <th></th>\n",
       "      <th>data</th>\n",
       "      <th>class</th>\n",
       "    </tr>\n",
       "  </thead>\n",
       "  <tbody>\n",
       "    <tr>\n",
       "      <th>0</th>\n",
       "      <td>ACGTGCTGGTTGTGGTTGGTTTTCCGCCAAGTGAGCCTCACCTGGG...</td>\n",
       "      <td>0</td>\n",
       "    </tr>\n",
       "    <tr>\n",
       "      <th>1</th>\n",
       "      <td>AGCGGCGAGAGACAGTGTCTGGTCACGACATTATATGCCCCGTAAG...</td>\n",
       "      <td>0</td>\n",
       "    </tr>\n",
       "    <tr>\n",
       "      <th>2</th>\n",
       "      <td>CTTTGCGATGGTGCCCTCCAGTGCTGGTTGTAGTTGGTTTTCCACC...</td>\n",
       "      <td>0</td>\n",
       "    </tr>\n",
       "    <tr>\n",
       "      <th>3</th>\n",
       "      <td>GCCTTCCAGCACAGGTTTTGGTTGGTTTTCCGCCAGATGTGCCTTA...</td>\n",
       "      <td>0</td>\n",
       "    </tr>\n",
       "    <tr>\n",
       "      <th>4</th>\n",
       "      <td>GCTCACCAGGGATTATTCATGGTTCTCTATAGTAGGATGAGTCTGG...</td>\n",
       "      <td>0</td>\n",
       "    </tr>\n",
       "    <tr>\n",
       "      <th>...</th>\n",
       "      <td>...</td>\n",
       "      <td>...</td>\n",
       "    </tr>\n",
       "    <tr>\n",
       "      <th>37119</th>\n",
       "      <td>CATAGACCAATGGAACAGAATAGAGAACCAAGAAATAAAGCCAAAT...</td>\n",
       "      <td>1</td>\n",
       "    </tr>\n",
       "    <tr>\n",
       "      <th>37120</th>\n",
       "      <td>TTCAAGTAGGCTTCACAAACATGTCTAGTTTCTTGGTGCTTCTCTA...</td>\n",
       "      <td>1</td>\n",
       "    </tr>\n",
       "    <tr>\n",
       "      <th>37121</th>\n",
       "      <td>CCACAGAATCAGTTACATATAAAAGCCATTTCAATAAGGTTTTGAT...</td>\n",
       "      <td>1</td>\n",
       "    </tr>\n",
       "    <tr>\n",
       "      <th>37122</th>\n",
       "      <td>TTGCCTCAGCCTCCCAAGTAGCTGGGATTACAGGTGCCCACCACAC...</td>\n",
       "      <td>1</td>\n",
       "    </tr>\n",
       "    <tr>\n",
       "      <th>37123</th>\n",
       "      <td>TTGCCTCAGCCTCCCAAGTAGCTGGGATTACAGGTGCCCACCACAC...</td>\n",
       "      <td>1</td>\n",
       "    </tr>\n",
       "  </tbody>\n",
       "</table>\n",
       "<p>37124 rows × 2 columns</p>\n",
       "</div>"
      ],
      "text/plain": [
       "                                                    data  class\n",
       "0      ACGTGCTGGTTGTGGTTGGTTTTCCGCCAAGTGAGCCTCACCTGGG...      0\n",
       "1      AGCGGCGAGAGACAGTGTCTGGTCACGACATTATATGCCCCGTAAG...      0\n",
       "2      CTTTGCGATGGTGCCCTCCAGTGCTGGTTGTAGTTGGTTTTCCACC...      0\n",
       "3      GCCTTCCAGCACAGGTTTTGGTTGGTTTTCCGCCAGATGTGCCTTA...      0\n",
       "4      GCTCACCAGGGATTATTCATGGTTCTCTATAGTAGGATGAGTCTGG...      0\n",
       "...                                                  ...    ...\n",
       "37119  CATAGACCAATGGAACAGAATAGAGAACCAAGAAATAAAGCCAAAT...      1\n",
       "37120  TTCAAGTAGGCTTCACAAACATGTCTAGTTTCTTGGTGCTTCTCTA...      1\n",
       "37121  CCACAGAATCAGTTACATATAAAAGCCATTTCAATAAGGTTTTGAT...      1\n",
       "37122  TTGCCTCAGCCTCCCAAGTAGCTGGGATTACAGGTGCCCACCACAC...      1\n",
       "37123  TTGCCTCAGCCTCCCAAGTAGCTGGGATTACAGGTGCCCACCACAC...      1\n",
       "\n",
       "[37124 rows x 2 columns]"
      ]
     },
     "execution_count": 22,
     "metadata": {},
     "output_type": "execute_result"
    }
   ],
   "source": [
    "# Define Name of TF \n",
    "tf=\"ZNF274\"\n",
    "file_path = f'/mnt/raid1/thalassini/home/filtered_fimo(1kb)/{tf.upper()}/datasets/data.csv'\n",
    "df = pd.read_csv(file_path)\n",
    "df"
   ]
  },
  {
   "cell_type": "markdown",
   "id": "fd9c1045",
   "metadata": {},
   "source": [
    "# Sequence length inspection and normalization"
   ]
  },
  {
   "cell_type": "code",
   "execution_count": 23,
   "id": "d33c9269",
   "metadata": {},
   "outputs": [
    {
     "name": "stdout",
     "output_type": "stream",
     "text": [
      "Max length:2000, Min length: 2000\n"
     ]
    },
    {
     "data": {
      "image/png": "[encoded data removed]",
      "text/plain": [
       "<Figure size 640x480 with 1 Axes>"
      ]
     },
     "metadata": {},
     "output_type": "display_data"
    }
   ],
   "source": [
    "lengths= [len(item) for item in df['data']] \n",
    "print(f'Max length:{max(lengths)}, Min length: {min(lengths)}')\n",
    "import matplotlib.pyplot as plt\n",
    "# Plotting the histogram\n",
    "plt.hist(lengths, bins=10, color='blue', edgecolor='black')\n",
    "plt.title('Histogram of Lengths')\n",
    "plt.xlabel('Length')\n",
    "plt.ylabel('Frequency')\n",
    "plt.show()"
   ]
  },
  {
   "cell_type": "code",
   "execution_count": 24,
   "id": "292502f4",
   "metadata": {},
   "outputs": [],
   "source": [
    "# Find the maximum length of sequences\n",
    "#min_length = min(len(seq) for seq in df['data'])\n",
    "limit=1000\n",
    "\n",
    "\n",
    "# Pad or cut sequences to ensure they all have the same length\n",
    "cut_sequences = [seq[:limit] for seq in df['data']]\n",
    "\n",
    "# Update the DataFrame with the cut sequences\n",
    "#df['data'] = cut_sequences"
   ]
  },
  {
   "cell_type": "code",
   "execution_count": 25,
   "id": "84f394a8",
   "metadata": {},
   "outputs": [
    {
     "name": "stdout",
     "output_type": "stream",
     "text": [
      "Max length:1000, Min length: 1000\n"
     ]
    }
   ],
   "source": [
    "lengths= [len(item) for item in cut_sequences]\n",
    "print(f'Max length:{max(lengths)}, Min length: {min(lengths)}')"
   ]
  },
  {
   "cell_type": "markdown",
   "id": "9b65d644",
   "metadata": {},
   "source": [
    "# Define X,y variables"
   ]
  },
  {
   "cell_type": "code",
   "execution_count": 26,
   "id": "f9e96a80",
   "metadata": {},
   "outputs": [],
   "source": [
    "X=[one_hot_encode(sequence) for sequence in cut_sequences]"
   ]
  },
  {
   "cell_type": "code",
   "execution_count": 27,
   "id": "2ab32859",
   "metadata": {},
   "outputs": [],
   "source": [
    "X = torch.from_numpy(np.array(X)).type(torch.float)\n"
   ]
  },
  {
   "cell_type": "code",
   "execution_count": 28,
   "id": "0bf2a817",
   "metadata": {},
   "outputs": [
    {
     "data": {
      "text/plain": [
       "torch.Size([37124, 1000, 4])"
      ]
     },
     "execution_count": 28,
     "metadata": {},
     "output_type": "execute_result"
    }
   ],
   "source": [
    "X.shape"
   ]
  },
  {
   "cell_type": "code",
   "execution_count": 29,
   "id": "9aec20e4",
   "metadata": {},
   "outputs": [
    {
     "data": {
      "text/plain": [
       "array([0, 0, 0])"
      ]
     },
     "execution_count": 29,
     "metadata": {},
     "output_type": "execute_result"
    }
   ],
   "source": [
    "y=np.array(df['class'])\n",
    "y[:3]"
   ]
  },
  {
   "cell_type": "code",
   "execution_count": 30,
   "id": "b9399dc8",
   "metadata": {},
   "outputs": [],
   "source": [
    "y = torch.from_numpy(y).type(torch.float)"
   ]
  },
  {
   "cell_type": "markdown",
   "id": "cd869133",
   "metadata": {},
   "source": [
    "# Split the data in train, val and test set"
   ]
  },
  {
   "cell_type": "code",
   "execution_count": 31,
   "id": "f4a1304f",
   "metadata": {},
   "outputs": [
    {
     "name": "stdout",
     "output_type": "stream",
     "text": [
      "23759 23759 5940 5940\n",
      "7425 7425\n"
     ]
    }
   ],
   "source": [
    "from sklearn.model_selection import train_test_split\n",
    "from sklearn.model_selection import StratifiedShuffleSplit\n",
    "\n",
    "\n",
    "\n",
    "# Split the data into a stratified hold-out validation set and the rest\n",
    "stratified_splitter = StratifiedShuffleSplit(n_splits=1, test_size=0.2, random_state=42)\n",
    "\n",
    "for train_val_index, test_index in stratified_splitter.split(X, y):\n",
    "    X_train_val, X_test = X[train_val_index], X[test_index]\n",
    "    y_train_val, y_test = y[train_val_index], y[test_index]\n",
    "\n",
    "# Split the remaining data into training and validation sets\n",
    "X_train, X_val, y_train, y_val = train_test_split(X_train_val, y_train_val, test_size=0.2, stratify=y_train_val, random_state=42)\n",
    "\n",
    "print(len(X_train), len(y_train), len(X_val), len(y_val))\n",
    "print(len(X_test), len(y_test))\n",
    "\n",
    "\n",
    "# (X_train, X_val, y_train, y_val) for training, validation\n",
    "# X_test, y_test for the final hold-out validation.\n",
    "\n",
    "#X_train, X_val, X_test = torch.from_numpy(X_train).type(torch.float),torch.from_numpy(X_val).type(torch.float), torch.from_numpy(X_test).type(torch.float)\n",
    "\n"
   ]
  },
  {
   "cell_type": "markdown",
   "id": "002ed2cf",
   "metadata": {},
   "source": [
    "# Create datasets and Dataloaders"
   ]
  },
  {
   "cell_type": "code",
   "execution_count": 32,
   "id": "18eb7a94",
   "metadata": {},
   "outputs": [
    {
     "name": "stdout",
     "output_type": "stream",
     "text": [
      "23759 23759 23759\n"
     ]
    }
   ],
   "source": [
    "from torch.utils.data import DataLoader, TensorDataset\n",
    "torch.manual_seed(42)\n",
    "\n",
    "\n",
    "# Expand the dimensions of y to make it 2-dimensional\n",
    "y_train = y_train.view(-1, 1)\n",
    "y_test = y_test.view(-1,1)\n",
    "y_val = y_val.view(-1,1)\n",
    "# Concatenate the complement of y to create a 2-dimensional tensor\n",
    "y_train_one_hot = torch.cat([1 - y_train, y_train], dim=1).float()\n",
    "y_test_one_hot = torch.cat([1 - y_test, y_test], dim=1).float()\n",
    "y_val_one_hot = torch.cat([1 - y_val, y_val], dim=1).float()\n",
    "\n",
    "\n",
    "# Move tensors to the same device\n",
    "X_train, y_train_one_hot, y_train = X_train.to(device), y_train_one_hot.to(device), y_train.to(device)\n",
    "X_val, y_val_one_hot, y_val = X_val.to(device), y_val_one_hot.to(device), y_val.to(device)\n",
    "X_test, y_test_one_hot, y_test = X_test.to(device), y_test_one_hot.to(device), y_test.to(device)\n",
    "\n",
    "\n",
    "print(X_train.size(0), y_train_one_hot.size(0), y_train.size(0))\n",
    "\n",
    "# Create datasets\n",
    "train_dataset = TensorDataset(X_train, y_train_one_hot, y_train)\n",
    "val_dataset = TensorDataset(X_val, y_val_one_hot, y_val)\n",
    "test_dataset = TensorDataset(X_test, y_test_one_hot, y_test)\n",
    "\n"
   ]
  },
  {
   "cell_type": "code",
   "execution_count": 33,
   "id": "44fc5e58",
   "metadata": {},
   "outputs": [],
   "source": [
    "\n",
    "batch_size=64\n",
    "torch.manual_seed(42)\n",
    "\n",
    "# Convert to PyTorch DataLoader\n",
    "train_loader = DataLoader(train_dataset, batch_size=batch_size, shuffle=True)\n",
    "val_loader = DataLoader(val_dataset, batch_size=batch_size, shuffle=True)\n",
    "test_loader = DataLoader(test_dataset, batch_size=batch_size, shuffle=True)"
   ]
  },
  {
   "cell_type": "markdown",
   "id": "d20e4bb7",
   "metadata": {},
   "source": [
    "# Construct a 1 layer CNN with Maxpooling and Dropout"
   ]
  },
  {
   "cell_type": "code",
   "execution_count": 39,
   "id": "9c0dfed6",
   "metadata": {},
   "outputs": [],
   "source": [
    "class Conv_v0(torch.nn.Module):\n",
    "\n",
    "    def __init__(self):\n",
    "        super(Conv_v0, self).__init__()\n",
    "\n",
    "        self.conv1 = torch.nn.Conv1d(in_channels=4, out_channels=3, kernel_size=10)\n",
    "        self.activation = torch.nn.ReLU()\n",
    "        self.maxpool = torch.nn.MaxPool1d(kernel_size=5)\n",
    "        \n",
    "        self.dropout = torch.nn.Dropout(p=0.5) \n",
    "        self.fc = torch.nn.Linear(in_features=594, out_features=2)\n",
    "        #elf.sigmoid = torch.nn.Sigmoid()\n",
    "\n",
    "    def forward(self, x):\n",
    "        x= x.permute(0, 2, 1)\n",
    "        x = self.conv1(x)\n",
    "        x = self.activation(x)\n",
    "        x = self.maxpool(x)\n",
    "        \n",
    "        # Reshape the output of the max pooling layer before passing it to the fully connected layer\n",
    "        x = x.view(x.size(0), -1)\n",
    "        \n",
    "        #print(\"Size after reshaping:\", x.size())\n",
    "        x=self.dropout(x)\n",
    "        x = self.fc(x)\n",
    "       #x = self.sigmoid(x)\n",
    "        return x\n"
   ]
  },
  {
   "cell_type": "markdown",
   "id": "2e8a6635",
   "metadata": {},
   "source": [
    "# Computing class weights"
   ]
  },
  {
   "cell_type": "code",
   "execution_count": 40,
   "id": "fe54bd0e",
   "metadata": {},
   "outputs": [
    {
     "name": "stdout",
     "output_type": "stream",
     "text": [
      "Class Weights List: [1.0951371283705924, 11.511143410852712]\n"
     ]
    }
   ],
   "source": [
    "from torch.utils.data import DataLoader, TensorDataset\n",
    "from sklearn.utils.class_weight import compute_class_weight\n",
    "\n",
    "# Assuming we have defined dataset\n",
    "# train_dataset = TensorDataset(X_train, y_train_one_hot, y_train)\n",
    "\n",
    "# Extract the labels from the dataset\n",
    "_, _, y_train = zip(*train_dataset)\n",
    "\n",
    "# Count occurrences of each class\n",
    "class_0_count = sum(1 for label in y_train if label == 0)\n",
    "class_1_count = sum(1 for label in y_train if label == 1)\n",
    "\n",
    "# Total length of y_train\n",
    "total_samples = len(y_train)\n",
    "\n",
    "# Calculate class weights\n",
    "weights = [total_samples / class_0_count, total_samples / class_1_count]\n",
    "\n",
    "# Print the list of class weights\n",
    "print(\"Class Weights List:\", weights)\n",
    "\n",
    "\n"
   ]
  },
  {
   "cell_type": "markdown",
   "id": "40b134d4",
   "metadata": {},
   "source": [
    "# Set up loss function and optimizer"
   ]
  },
  {
   "cell_type": "code",
   "execution_count": 41,
   "id": "948d9087",
   "metadata": {},
   "outputs": [],
   "source": [
    "from torch.optim import lr_scheduler\n",
    "weights = torch.tensor(weights).to(device)\n",
    "#print(weights)"
   ]
  },
  {
   "cell_type": "code",
   "execution_count": 45,
   "id": "30cf0daa",
   "metadata": {},
   "outputs": [],
   "source": [
    "torch.manual_seed(42)\n",
    "\n",
    "# Initialize model instance\n",
    "model = Conv_v0()\n",
    "\n",
    "# define the CrossEntropyLoss with weights\n",
    "loss_fn = nn.BCEWithLogitsLoss(weight=weights)\n",
    "\n",
    "# Define oprimizer\n",
    "optimizer = torch.optim.Adam(model.parameters(), lr=0.001)\n",
    "\n",
    "# Define exponetntial lr with lr_scheduler\n",
    "exp_lr_scheduler = lr_scheduler.ExponentialLR(optimizer, gamma=0.01)"
   ]
  },
  {
   "cell_type": "code",
   "execution_count": 46,
   "id": "e1d337c9",
   "metadata": {},
   "outputs": [
    {
     "data": {
      "text/plain": [
       "tensor([[-0.1672,  0.3779],\n",
       "        [-0.5650, -0.3171],\n",
       "        [-0.0372, -0.0180],\n",
       "        [-0.3108, -0.0946],\n",
       "        [-0.1453,  0.0985]], grad_fn=<SliceBackward0>)"
      ]
     },
     "execution_count": 46,
     "metadata": {},
     "output_type": "execute_result"
    }
   ],
   "source": [
    "# View the frist 5 outputs of the forward pass on the test data\n",
    "y_logits = model(X_test.to(device))[:5]\n",
    "y_logits"
   ]
  },
  {
   "cell_type": "code",
   "execution_count": 47,
   "id": "fdfb5e26",
   "metadata": {
    "scrolled": false
   },
   "outputs": [
    {
     "data": {
      "application/vnd.jupyter.widget-view+json": {
       "model_id": "784d722a773f4fa3a75ebe3ea276fbb5",
       "version_major": 2,
       "version_minor": 0
      },
      "text/plain": [
       "  0%|          | 0/200 [00:00<?, ?it/s]"
      ]
     },
     "metadata": {},
     "output_type": "display_data"
    },
    {
     "name": "stdout",
     "output_type": "stream",
     "text": [
      "Epoch: 1 | train_loss: 1.8609 | train_bal_acc: 0.5009 | train_mcc: -0.0002 | valid_loss: 1.7496 | valid_bal_acc: 0.5000 | valid_mcc: 0.0000\n",
      "Epoch: 2 | train_loss: 1.7238 | train_bal_acc: 0.5054 | train_mcc: 0.0000 | valid_loss: 1.7023 | valid_bal_acc: 0.5000 | valid_mcc: 0.0000\n",
      "Epoch: 3 | train_loss: 1.6751 | train_bal_acc: 0.5040 | train_mcc: 0.0000 | valid_loss: 1.6482 | valid_bal_acc: 0.5054 | valid_mcc: 0.0000\n",
      "Epoch: 4 | train_loss: 1.6433 | train_bal_acc: 0.5027 | train_mcc: 0.0000 | valid_loss: 1.6060 | valid_bal_acc: 0.5054 | valid_mcc: 0.0000\n",
      "Epoch: 5 | train_loss: 1.6016 | train_bal_acc: 0.5013 | train_mcc: 0.0000 | valid_loss: 1.5719 | valid_bal_acc: 0.5000 | valid_mcc: 0.0000\n",
      "Epoch: 6 | train_loss: 1.5635 | train_bal_acc: 0.5017 | train_mcc: 0.0081 | valid_loss: 1.5263 | valid_bal_acc: 0.5172 | valid_mcc: 0.0638\n",
      "Epoch: 7 | train_loss: 1.5259 | train_bal_acc: 0.5175 | train_mcc: 0.0623 | valid_loss: 1.4756 | valid_bal_acc: 0.5277 | valid_mcc: 0.1219\n",
      "Epoch: 8 | train_loss: 1.4865 | train_bal_acc: 0.5330 | train_mcc: 0.1286 | valid_loss: 1.4411 | valid_bal_acc: 0.5307 | valid_mcc: 0.1219\n",
      "Epoch: 9 | train_loss: 1.4644 | train_bal_acc: 0.5492 | train_mcc: 0.1890 | valid_loss: 1.4218 | valid_bal_acc: 0.5319 | valid_mcc: 0.1243\n",
      "Epoch: 10 | train_loss: 1.4294 | train_bal_acc: 0.5650 | train_mcc: 0.2313 | valid_loss: 1.3876 | valid_bal_acc: 0.5553 | valid_mcc: 0.2129\n",
      "Epoch: 11 | train_loss: 1.4028 | train_bal_acc: 0.5869 | train_mcc: 0.2877 | valid_loss: 1.3355 | valid_bal_acc: 0.6048 | valid_mcc: 0.3407\n",
      "Epoch: 12 | train_loss: 1.3928 | train_bal_acc: 0.5967 | train_mcc: 0.3114 | valid_loss: 1.3283 | valid_bal_acc: 0.5812 | valid_mcc: 0.2875\n",
      "Epoch: 13 | train_loss: 1.3833 | train_bal_acc: 0.6084 | train_mcc: 0.3529 | valid_loss: 1.3149 | valid_bal_acc: 0.5777 | valid_mcc: 0.2772\n",
      "Epoch: 14 | train_loss: 1.3679 | train_bal_acc: 0.6012 | train_mcc: 0.3351 | valid_loss: 1.2992 | valid_bal_acc: 0.6089 | valid_mcc: 0.3739\n",
      "Epoch: 15 | train_loss: 1.3601 | train_bal_acc: 0.6111 | train_mcc: 0.3480 | valid_loss: 1.3018 | valid_bal_acc: 0.5837 | valid_mcc: 0.3098\n",
      "Epoch: 16 | train_loss: 1.3513 | train_bal_acc: 0.6121 | train_mcc: 0.3614 | valid_loss: 1.2674 | valid_bal_acc: 0.6088 | valid_mcc: 0.3703\n",
      "Epoch: 17 | train_loss: 1.3242 | train_bal_acc: 0.6141 | train_mcc: 0.3535 | valid_loss: 1.2472 | valid_bal_acc: 0.6178 | valid_mcc: 0.3981\n",
      "Epoch: 18 | train_loss: 1.3123 | train_bal_acc: 0.6165 | train_mcc: 0.3649 | valid_loss: 1.2334 | valid_bal_acc: 0.6128 | valid_mcc: 0.3739\n",
      "Epoch: 19 | train_loss: 1.2963 | train_bal_acc: 0.6226 | train_mcc: 0.3821 | valid_loss: 1.2092 | valid_bal_acc: 0.6268 | valid_mcc: 0.4178\n",
      "Epoch: 20 | train_loss: 1.2975 | train_bal_acc: 0.6342 | train_mcc: 0.3920 | valid_loss: 1.1971 | valid_bal_acc: 0.6468 | valid_mcc: 0.4562\n",
      "Epoch: 21 | train_loss: 1.2885 | train_bal_acc: 0.6250 | train_mcc: 0.3730 | valid_loss: 1.1979 | valid_bal_acc: 0.6241 | valid_mcc: 0.3758\n",
      "Epoch: 22 | train_loss: 1.2838 | train_bal_acc: 0.6285 | train_mcc: 0.3813 | valid_loss: 1.2051 | valid_bal_acc: 0.6169 | valid_mcc: 0.3768\n",
      "Epoch: 23 | train_loss: 1.2642 | train_bal_acc: 0.6332 | train_mcc: 0.3932 | valid_loss: 1.1557 | valid_bal_acc: 0.6505 | valid_mcc: 0.4449\n",
      "Epoch: 24 | train_loss: 1.2487 | train_bal_acc: 0.6349 | train_mcc: 0.3913 | valid_loss: 1.2581 | valid_bal_acc: 0.5889 | valid_mcc: 0.2972\n",
      "Epoch: 25 | train_loss: 1.2569 | train_bal_acc: 0.6394 | train_mcc: 0.4090 | valid_loss: 1.1373 | valid_bal_acc: 0.6544 | valid_mcc: 0.4811\n",
      "Epoch: 26 | train_loss: 1.2604 | train_bal_acc: 0.6371 | train_mcc: 0.4007 | valid_loss: 1.1312 | valid_bal_acc: 0.6411 | valid_mcc: 0.4509\n",
      "Epoch: 27 | train_loss: 1.2315 | train_bal_acc: 0.6437 | train_mcc: 0.4135 | valid_loss: 1.1342 | valid_bal_acc: 0.6371 | valid_mcc: 0.4209\n",
      "Epoch: 28 | train_loss: 1.2400 | train_bal_acc: 0.6510 | train_mcc: 0.4204 | valid_loss: 1.1556 | valid_bal_acc: 0.6140 | valid_mcc: 0.3894\n",
      "Epoch: 29 | train_loss: 1.2445 | train_bal_acc: 0.6459 | train_mcc: 0.4093 | valid_loss: 1.2642 | valid_bal_acc: 0.5681 | valid_mcc: 0.2445\n",
      "Epoch: 30 | train_loss: 1.2412 | train_bal_acc: 0.6475 | train_mcc: 0.4113 | valid_loss: 1.1926 | valid_bal_acc: 0.5909 | valid_mcc: 0.2890\n",
      "Epoch: 31 | train_loss: 1.2334 | train_bal_acc: 0.6427 | train_mcc: 0.3928 | valid_loss: 1.0841 | valid_bal_acc: 0.6623 | valid_mcc: 0.4728\n",
      "Epoch: 32 | train_loss: 1.2168 | train_bal_acc: 0.6507 | train_mcc: 0.4242 | valid_loss: 1.1137 | valid_bal_acc: 0.6267 | valid_mcc: 0.4013\n",
      "Epoch: 33 | train_loss: 1.2074 | train_bal_acc: 0.6476 | train_mcc: 0.4158 | valid_loss: 1.0790 | valid_bal_acc: 0.6450 | valid_mcc: 0.4376\n",
      "Epoch: 34 | train_loss: 1.2052 | train_bal_acc: 0.6518 | train_mcc: 0.4134 | valid_loss: 1.0742 | valid_bal_acc: 0.6509 | valid_mcc: 0.4550\n",
      "Epoch: 35 | train_loss: 1.2034 | train_bal_acc: 0.6564 | train_mcc: 0.4292 | valid_loss: 1.1000 | valid_bal_acc: 0.6874 | valid_mcc: 0.4953\n",
      "Epoch: 36 | train_loss: 1.1942 | train_bal_acc: 0.6536 | train_mcc: 0.4244 | valid_loss: 1.0743 | valid_bal_acc: 0.6476 | valid_mcc: 0.4495\n",
      "Epoch: 37 | train_loss: 1.1996 | train_bal_acc: 0.6541 | train_mcc: 0.4080 | valid_loss: 1.0441 | valid_bal_acc: 0.6701 | valid_mcc: 0.4823\n",
      "Epoch: 38 | train_loss: 1.1892 | train_bal_acc: 0.6697 | train_mcc: 0.4467 | valid_loss: 1.0506 | valid_bal_acc: 0.6531 | valid_mcc: 0.4668\n",
      "Epoch: 39 | train_loss: 1.1779 | train_bal_acc: 0.6626 | train_mcc: 0.4185 | valid_loss: 1.1112 | valid_bal_acc: 0.6111 | valid_mcc: 0.3801\n",
      "Epoch: 40 | train_loss: 1.1819 | train_bal_acc: 0.6578 | train_mcc: 0.4313 | valid_loss: 1.0323 | valid_bal_acc: 0.6589 | valid_mcc: 0.4659\n",
      "Epoch: 41 | train_loss: 1.1698 | train_bal_acc: 0.6688 | train_mcc: 0.4503 | valid_loss: 1.0619 | valid_bal_acc: 0.6189 | valid_mcc: 0.3890\n",
      "Epoch: 42 | train_loss: 1.1636 | train_bal_acc: 0.6539 | train_mcc: 0.4175 | valid_loss: 1.0310 | valid_bal_acc: 0.6514 | valid_mcc: 0.4623\n",
      "Epoch: 43 | train_loss: 1.1786 | train_bal_acc: 0.6704 | train_mcc: 0.4372 | valid_loss: 1.0687 | valid_bal_acc: 0.6386 | valid_mcc: 0.4301\n",
      "Epoch: 44 | train_loss: 1.1722 | train_bal_acc: 0.6612 | train_mcc: 0.4313 | valid_loss: 1.0253 | valid_bal_acc: 0.6606 | valid_mcc: 0.4549\n",
      "Epoch: 45 | train_loss: 1.1459 | train_bal_acc: 0.6757 | train_mcc: 0.4622 | valid_loss: 1.0125 | valid_bal_acc: 0.6514 | valid_mcc: 0.4480\n",
      "Epoch: 46 | train_loss: 1.1553 | train_bal_acc: 0.6682 | train_mcc: 0.4501 | valid_loss: 1.0047 | valid_bal_acc: 0.7137 | valid_mcc: 0.5773\n",
      "Epoch: 47 | train_loss: 1.1662 | train_bal_acc: 0.6758 | train_mcc: 0.4526 | valid_loss: 1.0043 | valid_bal_acc: 0.6593 | valid_mcc: 0.4786\n",
      "Epoch: 48 | train_loss: 1.1543 | train_bal_acc: 0.6706 | train_mcc: 0.4502 | valid_loss: 0.9951 | valid_bal_acc: 0.6581 | valid_mcc: 0.4887\n",
      "Epoch: 49 | train_loss: 1.1527 | train_bal_acc: 0.6727 | train_mcc: 0.4512 | valid_loss: 1.0366 | valid_bal_acc: 0.6267 | valid_mcc: 0.3870\n",
      "Epoch: 50 | train_loss: 1.1573 | train_bal_acc: 0.6700 | train_mcc: 0.4406 | valid_loss: 1.0366 | valid_bal_acc: 0.6183 | valid_mcc: 0.3886\n",
      "Epoch: 51 | train_loss: 1.1541 | train_bal_acc: 0.6704 | train_mcc: 0.4533 | valid_loss: 0.9939 | valid_bal_acc: 0.6559 | valid_mcc: 0.4420\n",
      "Epoch: 52 | train_loss: 1.1495 | train_bal_acc: 0.6797 | train_mcc: 0.4723 | valid_loss: 1.0016 | valid_bal_acc: 0.6347 | valid_mcc: 0.4392\n",
      "Epoch: 53 | train_loss: 1.1513 | train_bal_acc: 0.6769 | train_mcc: 0.4631 | valid_loss: 0.9721 | valid_bal_acc: 0.6746 | valid_mcc: 0.4979\n",
      "Epoch: 54 | train_loss: 1.1295 | train_bal_acc: 0.6811 | train_mcc: 0.4730 | valid_loss: 0.9875 | valid_bal_acc: 0.6367 | valid_mcc: 0.4323\n",
      "Epoch: 55 | train_loss: 1.1084 | train_bal_acc: 0.6877 | train_mcc: 0.4779 | valid_loss: 0.9742 | valid_bal_acc: 0.6650 | valid_mcc: 0.4814\n",
      "Epoch: 56 | train_loss: 1.1340 | train_bal_acc: 0.6754 | train_mcc: 0.4530 | valid_loss: 0.9525 | valid_bal_acc: 0.6873 | valid_mcc: 0.5406\n",
      "Epoch: 57 | train_loss: 1.1162 | train_bal_acc: 0.6855 | train_mcc: 0.4758 | valid_loss: 0.9817 | valid_bal_acc: 0.6559 | valid_mcc: 0.4680\n",
      "Epoch: 58 | train_loss: 1.1258 | train_bal_acc: 0.6866 | train_mcc: 0.4636 | valid_loss: 0.9631 | valid_bal_acc: 0.6544 | valid_mcc: 0.4683\n",
      "Epoch: 59 | train_loss: 1.1205 | train_bal_acc: 0.6956 | train_mcc: 0.4800 | valid_loss: 0.9936 | valid_bal_acc: 0.6480 | valid_mcc: 0.4505\n"
     ]
    },
    {
     "name": "stdout",
     "output_type": "stream",
     "text": [
      "Epoch: 60 | train_loss: 1.1119 | train_bal_acc: 0.6850 | train_mcc: 0.4801 | valid_loss: 0.9882 | valid_bal_acc: 0.6458 | valid_mcc: 0.4465\n",
      "Epoch: 61 | train_loss: 1.1251 | train_bal_acc: 0.6910 | train_mcc: 0.4883 | valid_loss: 0.9463 | valid_bal_acc: 0.6725 | valid_mcc: 0.5100\n",
      "Epoch: 62 | train_loss: 1.1211 | train_bal_acc: 0.6935 | train_mcc: 0.4839 | valid_loss: 1.0413 | valid_bal_acc: 0.6201 | valid_mcc: 0.3827\n",
      "Epoch: 63 | train_loss: 1.1045 | train_bal_acc: 0.6899 | train_mcc: 0.4822 | valid_loss: 0.9901 | valid_bal_acc: 0.6419 | valid_mcc: 0.4381\n",
      "Epoch: 64 | train_loss: 1.1129 | train_bal_acc: 0.6865 | train_mcc: 0.4803 | valid_loss: 0.9583 | valid_bal_acc: 0.6633 | valid_mcc: 0.4794\n",
      "Epoch: 65 | train_loss: 1.0980 | train_bal_acc: 0.6939 | train_mcc: 0.4806 | valid_loss: 0.9301 | valid_bal_acc: 0.7150 | valid_mcc: 0.5757\n",
      "Epoch: 66 | train_loss: 1.1051 | train_bal_acc: 0.6901 | train_mcc: 0.4936 | valid_loss: 0.9310 | valid_bal_acc: 0.6990 | valid_mcc: 0.5594\n",
      "Epoch: 67 | train_loss: 1.1052 | train_bal_acc: 0.7044 | train_mcc: 0.5054 | valid_loss: 0.9713 | valid_bal_acc: 0.6472 | valid_mcc: 0.4600\n",
      "Epoch: 68 | train_loss: 1.1162 | train_bal_acc: 0.6937 | train_mcc: 0.4795 | valid_loss: 0.9820 | valid_bal_acc: 0.6410 | valid_mcc: 0.4506\n",
      "Epoch: 69 | train_loss: 1.1071 | train_bal_acc: 0.6987 | train_mcc: 0.4902 | valid_loss: 0.9480 | valid_bal_acc: 0.6741 | valid_mcc: 0.5179\n",
      "Epoch: 70 | train_loss: 1.1070 | train_bal_acc: 0.6986 | train_mcc: 0.4951 | valid_loss: 1.0144 | valid_bal_acc: 0.6296 | valid_mcc: 0.4297\n",
      "Early stopping after 70 epochs without improvement.\n"
     ]
    }
   ],
   "source": [
    "results, _ = engine.train_with_early_stopping(model=model,\n",
    "                                                  train_dataloader=train_loader,\n",
    "                                                  valid_dataloader=val_loader,\n",
    "                                                  optimizer=optimizer,\n",
    "                                                  loss_fn=loss_fn,\n",
    "                                                  epochs=200,\n",
    "                                                  device=device)\n"
   ]
  },
  {
   "cell_type": "code",
   "execution_count": 50,
   "id": "879ac77f",
   "metadata": {},
   "outputs": [
    {
     "data": {
      "image/png": "[encoded data removed]",
      "text/plain": [
       "<Figure size 1500x700 with 2 Axes>"
      ]
     },
     "metadata": {},
     "output_type": "display_data"
    }
   ],
   "source": [
    "helper_functions.plot_loss_curves(results)\n",
    "plt.savefig(f'{tf}_CNN1_ADAM_BCEWithLogits_KERNEL=10_seq=1kb.png')"
   ]
  },
  {
   "cell_type": "code",
   "execution_count": null,
   "id": "7d75d6fb",
   "metadata": {},
   "outputs": [],
   "source": [
    "from sklearn.metrics import balanced_accuracy_score, matthews_corrcoef, f1_score\n",
    "import torch.nn.functional as F\n",
    "\n",
    "\n",
    "model.eval()\n",
    "\n",
    "\n",
    "with torch.inference_mode():\n",
    "    all_predictions = []\n",
    "    all_true_labels = []\n",
    "    all_test_pred_prob=[]\n",
    "    \n",
    "    test_loss, test_bal_acc, test_mcc, test_f_score = 0, 0, 0, 0\n",
    "    for batch, (X, y_one_hot, y) in enumerate(test_loader):\n",
    "        # Send data to target device\n",
    "        X, y_one_hot, y = X.to(device),y_one_hot.to(device), y.to(device)\n",
    "\n",
    "        # 1. Forward pass\n",
    "        test_pred_logits = model(X)\n",
    "\n",
    "        # 2. Calculate and accumulate loss\n",
    "        loss = loss_fn(test_pred_logits, y_one_hot)\n",
    "        test_loss += loss.item()\n",
    "\n",
    "        # Calculate and accumulate scores\n",
    "        test_pred_labels = test_pred_logits.argmax(dim=1)\n",
    "        test_pred_prob = torch.softmax(test_pred_logits.squeeze(), dim=0) # note: perform softmax on the \"logits\" dimension, not \"batch\" dimension (in this case we have a batch size of 1, so can perform on dim=0)\n",
    "        test_bal_acc += balanced_accuracy_score(y.cpu().numpy(), test_pred_labels.cpu().numpy())\n",
    "        test_mcc += matthews_corrcoef(y.cpu().numpy(), test_pred_labels.cpu().numpy())\n",
    "        test_f_score += f1_score(y.cpu().numpy(), test_pred_labels.cpu().numpy(), average='weighted')\n",
    "        \n",
    "        all_predictions.extend(test_pred_labels.cpu().numpy())\n",
    "        all_true_labels.extend(y.cpu().numpy())\n",
    "        all_test_pred_prob.extend(test_pred_prob.cpu().numpy())\n",
    "\n",
    "    # Adjust metrics to get average loss and accuracy per batch\n",
    "    test_loss = test_loss / len(test_loader)\n",
    "    test_bal_acc = test_bal_acc / len(test_loader)\n",
    "    test_mcc = test_mcc / len(test_loader)\n",
    "    test_f_score = test_f_score / len(test_loader)\n",
    "    print(\"Perfomance on held out test set\")\n",
    "    print(f'Test loss: {test_loss} | Test bal acc {test_bal_acc} | Test mcc {test_mcc} | Test_f_score {test_f_score}\\n')   \n",
    "    "
   ]
  },
  {
   "cell_type": "code",
   "execution_count": null,
   "id": "53800d82",
   "metadata": {},
   "outputs": [],
   "source": [
    "from torch.utils.tensorboard import SummaryWriter\n",
    "# Create a writer with all default settings\n",
    "writer = SummaryWriter()"
   ]
  },
  {
   "cell_type": "code",
   "execution_count": null,
   "id": "fbff03bf",
   "metadata": {},
   "outputs": [],
   "source": []
  }
 ],
 "metadata": {
  "kernelspec": {
   "display_name": "Python 3 (ipykernel)",
   "language": "python",
   "name": "python3"
  },
  "language_info": {
   "codemirror_mode": {
    "name": "ipython",
    "version": 3
   },
   "file_extension": ".py",
   "mimetype": "text/x-python",
   "name": "python",
   "nbconvert_exporter": "python",
   "pygments_lexer": "ipython3",
   "version": "3.11.5"
  }
 },
 "nbformat": 4,
 "nbformat_minor": 5
}
